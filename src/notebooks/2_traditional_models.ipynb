{
 "cells": [
  {
   "cell_type": "code",
   "execution_count": 23,
   "id": "ed20fe33",
   "metadata": {},
   "outputs": [
    {
     "name": "stdout",
     "output_type": "stream",
     "text": [
      "The autoreload extension is already loaded. To reload it, use:\n",
      "  %reload_ext autoreload\n"
     ]
    }
   ],
   "source": [
    "%load_ext autoreload\n",
    "%autoreload 2\n",
    "\n",
    "import pandas as pd \n",
    "import numpy as np \n",
    "import matplotlib.pyplot as plt \n",
    "import umap\n",
    "import xgboost as xgb\n",
    "import re\n",
    "import wandb\n",
    "\n",
    "import optuna\n",
    "from optuna.integration.wandb import WeightsAndBiasesCallback\n",
    "\n",
    "from tqdm.notebook import trange, tqdm\n",
    "import emoji\n",
    "import preprocessor as pre\n",
    "\n",
    "from tokenizers import Tokenizer, normalizers\n",
    "from tokenizers.pre_tokenizers import Whitespace\n",
    "from tokenizers.models import WordPiece as WP\n",
    "from tokenizers.normalizers import NFD, StripAccents, Lowercase\n",
    "from tokenizers.trainers import WordPieceTrainer\n",
    "\n",
    "import sys\n",
    "sys.path.insert(1, '../python')\n",
    "\n",
    "from modeling_utils import model_report\n",
    "from cb_preprocess import load_data, preprocess, tokenize, label_to_numeric\n",
    "\n",
    "from sklearnex.svm import SVC\n",
    "from sklearn.metrics import accuracy_score as accuracy\n",
    "from sklearn.metrics import classification_report \n",
    "from sklearn.metrics import confusion_matrix\n",
    "from sklearn.metrics import f1_score as f1\n",
    "from sklearn.linear_model import LogisticRegression as LR\n",
    "from sklearn.model_selection import train_test_split\n",
    "from sklearn.feature_extraction.text import CountVectorizer\n",
    "from sklearn.feature_extraction.text import TfidfTransformer as tfidf\n",
    "from sklearn.preprocessing import MaxAbsScaler\n",
    "\n",
    "import warnings #this my friends is overconfidence at it's finest\n",
    "warnings.filterwarnings(\"ignore\")"
   ]
  },
  {
   "cell_type": "markdown",
   "id": "f9f91b27",
   "metadata": {},
   "source": [
    "# Encoding Data and Creating Train, Validation, Testing Splits"
   ]
  },
  {
   "cell_type": "code",
   "execution_count": 24,
   "id": "bf8950b3",
   "metadata": {},
   "outputs": [
    {
     "ename": "AttributeError",
     "evalue": "'DataFrame' object has no attribute 'tweet_text'",
     "output_type": "error",
     "traceback": [
      "\u001b[1;31m---------------------------------------------------------------------------\u001b[0m",
      "\u001b[1;31mAttributeError\u001b[0m                            Traceback (most recent call last)",
      "\u001b[1;32md:\\capstone\\src\\notebooks\\2_traditional_models.ipynb Cell 3'\u001b[0m in \u001b[0;36m<cell line: 6>\u001b[1;34m()\u001b[0m\n\u001b[0;32m      <a href='vscode-notebook-cell:/d%3A/capstone/src/notebooks/2_traditional_models.ipynb#ch0000002?line=3'>4</a>\u001b[0m df \u001b[39m=\u001b[39m load_data(path \u001b[39m=\u001b[39m \u001b[39m\"\u001b[39m\u001b[39m../../data_wang/cyberbullying_tweets.csv\u001b[39m\u001b[39m\"\u001b[39m)\n\u001b[0;32m      <a href='vscode-notebook-cell:/d%3A/capstone/src/notebooks/2_traditional_models.ipynb#ch0000002?line=4'>5</a>\u001b[0m df[\u001b[39m\"\u001b[39m\u001b[39my\u001b[39m\u001b[39m\"\u001b[39m] \u001b[39m=\u001b[39m label_to_numeric(df)\n\u001b[1;32m----> <a href='vscode-notebook-cell:/d%3A/capstone/src/notebooks/2_traditional_models.ipynb#ch0000002?line=5'>6</a>\u001b[0m df\u001b[39m.\u001b[39mtweet_text \u001b[39m=\u001b[39m preprocess(df\u001b[39m.\u001b[39;49mtweet_text)\n\u001b[0;32m      <a href='vscode-notebook-cell:/d%3A/capstone/src/notebooks/2_traditional_models.ipynb#ch0000002?line=7'>8</a>\u001b[0m df[\u001b[39m\"\u001b[39m\u001b[39mtokens\u001b[39m\u001b[39m\"\u001b[39m] \u001b[39m=\u001b[39m [\u001b[39m\"\u001b[39m\u001b[39m \u001b[39m\u001b[39m\"\u001b[39m\u001b[39m.\u001b[39mjoin(tokens) \u001b[39mfor\u001b[39;00m tokens \u001b[39min\u001b[39;00m tokenize(df\u001b[39m.\u001b[39mtweet_text)]\n\u001b[0;32m     <a href='vscode-notebook-cell:/d%3A/capstone/src/notebooks/2_traditional_models.ipynb#ch0000002?line=9'>10</a>\u001b[0m df\n",
      "File \u001b[1;32mc:\\Users\\Ayush\\.conda\\envs\\cyberbullying\\lib\\site-packages\\pandas\\core\\generic.py:5575\u001b[0m, in \u001b[0;36mNDFrame.__getattr__\u001b[1;34m(self, name)\u001b[0m\n\u001b[0;32m   <a href='file:///c%3A/Users/Ayush/.conda/envs/cyberbullying/lib/site-packages/pandas/core/generic.py?line=5567'>5568</a>\u001b[0m \u001b[39mif\u001b[39;00m (\n\u001b[0;32m   <a href='file:///c%3A/Users/Ayush/.conda/envs/cyberbullying/lib/site-packages/pandas/core/generic.py?line=5568'>5569</a>\u001b[0m     name \u001b[39mnot\u001b[39;00m \u001b[39min\u001b[39;00m \u001b[39mself\u001b[39m\u001b[39m.\u001b[39m_internal_names_set\n\u001b[0;32m   <a href='file:///c%3A/Users/Ayush/.conda/envs/cyberbullying/lib/site-packages/pandas/core/generic.py?line=5569'>5570</a>\u001b[0m     \u001b[39mand\u001b[39;00m name \u001b[39mnot\u001b[39;00m \u001b[39min\u001b[39;00m \u001b[39mself\u001b[39m\u001b[39m.\u001b[39m_metadata\n\u001b[0;32m   <a href='file:///c%3A/Users/Ayush/.conda/envs/cyberbullying/lib/site-packages/pandas/core/generic.py?line=5570'>5571</a>\u001b[0m     \u001b[39mand\u001b[39;00m name \u001b[39mnot\u001b[39;00m \u001b[39min\u001b[39;00m \u001b[39mself\u001b[39m\u001b[39m.\u001b[39m_accessors\n\u001b[0;32m   <a href='file:///c%3A/Users/Ayush/.conda/envs/cyberbullying/lib/site-packages/pandas/core/generic.py?line=5571'>5572</a>\u001b[0m     \u001b[39mand\u001b[39;00m \u001b[39mself\u001b[39m\u001b[39m.\u001b[39m_info_axis\u001b[39m.\u001b[39m_can_hold_identifiers_and_holds_name(name)\n\u001b[0;32m   <a href='file:///c%3A/Users/Ayush/.conda/envs/cyberbullying/lib/site-packages/pandas/core/generic.py?line=5572'>5573</a>\u001b[0m ):\n\u001b[0;32m   <a href='file:///c%3A/Users/Ayush/.conda/envs/cyberbullying/lib/site-packages/pandas/core/generic.py?line=5573'>5574</a>\u001b[0m     \u001b[39mreturn\u001b[39;00m \u001b[39mself\u001b[39m[name]\n\u001b[1;32m-> <a href='file:///c%3A/Users/Ayush/.conda/envs/cyberbullying/lib/site-packages/pandas/core/generic.py?line=5574'>5575</a>\u001b[0m \u001b[39mreturn\u001b[39;00m \u001b[39mobject\u001b[39;49m\u001b[39m.\u001b[39;49m\u001b[39m__getattribute__\u001b[39;49m(\u001b[39mself\u001b[39;49m, name)\n",
      "\u001b[1;31mAttributeError\u001b[0m: 'DataFrame' object has no attribute 'tweet_text'"
     ]
    }
   ],
   "source": [
    "df = pd.read_csv(\"../../data_wang/cyberbullying_tweets.csv\", index_col = 0)\n",
    "df = df[df.lang == 'en']\n",
    "\n",
    "df = load_data(path = \"../../data_wang/cyberbullying_tweets.csv\")\n",
    "df[\"y\"] = label_to_numeric(df)\n",
    "df.tweet_text = preprocess(df.tweet_text)\n",
    "\n",
    "df[\"tokens\"] = [\" \".join(tokens) for tokens in tokenize(df.tweet_text)]\n",
    "\n",
    "df"
   ]
  },
  {
   "cell_type": "code",
   "execution_count": 20,
   "id": "de1e8f8c",
   "metadata": {},
   "outputs": [
    {
     "name": "stdout",
     "output_type": "stream",
     "text": [
      "Shape of raw data\n",
      "\n",
      "X: (48000,)\n",
      "Y: (48000,)\n",
      "\n",
      "Shape of split data\n",
      "\n",
      "Train: (33619,)\n",
      "Validation: (7181,)\n",
      "Test: (7200,)\n",
      "\n",
      "Shape of BOW \n",
      "\n",
      "Train: (33619, 22797)\n",
      "Validation: (7181, 22797)\n",
      "Test: (7200, 22797)\n",
      "\n",
      "Shape of tf-idf \n",
      "\n",
      "Train: (33619, 22797)\n",
      "Validation: (7181, 22797)\n",
      "Test: (7200, 22797)\n"
     ]
    }
   ],
   "source": [
    "X = df.tokens.to_numpy()\n",
    "y = df.y.to_numpy()\n",
    "\n",
    "print(f\"Shape of raw data\\n\\nX: {X.shape}\\nY: {y.shape}\\n\")\n",
    "\n",
    "###create train, test, and validation splits of the data \n",
    "X_train, X_test, y_train, y_test = train_test_split(X, y, test_size=0.15, random_state=42122, stratify=y)\n",
    "X_train, X_val, y_train, y_val = train_test_split(X_train, y_train, test_size=0.176, random_state=42122, stratify=y_train)\n",
    "\n",
    "print(f\"Shape of split data\\n\\nTrain: {X_train.shape}\\nValidation: {X_val.shape}\\nTest: {X_test.shape}\\n\")\n",
    "\n",
    "###fit bag-of-words embeddings on training data and then use to transform all splits \n",
    "bow_vectorizer = CountVectorizer(analyzer = 'word', stop_words=None, ngram_range=(1,1), lowercase=False)\n",
    "bow_vectorizer.fit(X_train)\n",
    "\n",
    "X_train_bow, X_val_bow, X_test_bow = (bow_vectorizer.transform(dataset) for dataset in [X_train, X_val, X_test])\n",
    "\n",
    "print(f\"Shape of BOW \\n\\nTrain: {X_train_bow.shape}\\nValidation: {X_val_bow.shape}\\nTest: {X_test_bow.shape}\\n\")\n",
    "\n",
    "###fit tf-idf embeddings on training data and then use to transform all splits\n",
    "tf_vectorizer = tfidf()\n",
    "tf_vectorizer.fit(X_train_bow)\n",
    "\n",
    "X_train_tfidf, X_val_tfidf, X_test_tfidf = (tf_vectorizer.transform(dataset) for dataset in [X_train_bow, X_val_bow, X_test_bow])\n",
    "\n",
    "print(f\"Shape of tf-idf \\n\\nTrain: {X_train_bow.shape}\\nValidation: {X_val_bow.shape}\\nTest: {X_test_bow.shape}\")"
   ]
  },
  {
   "cell_type": "markdown",
   "id": "d3512a69",
   "metadata": {},
   "source": [
    "# Logistic Regression \n",
    "\n",
    "The multinomial logistic regression didn't require any complicated hyperparamter tuning. The multinomial setting did well in testing, and excessive normalization didn't make too much of a difference."
   ]
  },
  {
   "cell_type": "code",
   "execution_count": 22,
   "id": "d0429b03",
   "metadata": {},
   "outputs": [
    {
     "name": "stdout",
     "output_type": "stream",
     "text": [
      "BOW + LR Classification Report\n",
      "Model Accuracy: 0.810\n",
      "              precision    recall  f1-score   support\n",
      "\n",
      "           0       0.97      0.98      0.97      1200\n",
      "           1       0.99      0.98      0.98      1200\n",
      "           2       0.89      0.83      0.86      1200\n",
      "           3       0.53      0.51      0.52      1200\n",
      "           4       0.56      0.63      0.59      1200\n",
      "           5       0.95      0.93      0.94      1200\n",
      "\n",
      "    accuracy                           0.81      7200\n",
      "   macro avg       0.82      0.81      0.81      7200\n",
      "weighted avg       0.82      0.81      0.81      7200\n",
      " \n",
      "\n",
      "TFIDF + LR Classification Report\n",
      "Model Accuracy: 0.819\n",
      "              precision    recall  f1-score   support\n",
      "\n",
      "           0       0.96      0.98      0.97      1200\n",
      "           1       0.98      0.97      0.98      1200\n",
      "           2       0.91      0.81      0.86      1200\n",
      "           3       0.56      0.53      0.55      1200\n",
      "           4       0.58      0.68      0.63      1200\n",
      "           5       0.95      0.94      0.94      1200\n",
      "\n",
      "    accuracy                           0.82      7200\n",
      "   macro avg       0.82      0.82      0.82      7200\n",
      "weighted avg       0.82      0.82      0.82      7200\n",
      " \n",
      "\n"
     ]
    }
   ],
   "source": [
    "log_reg_bow = LR(max_iter=10000, solver = 'saga', multi_class='multinomial').fit(X_train_bow, y_train)\n",
    "log_reg_tfidf = LR(max_iter=10000, solver = 'saga', multi_class='multinomial').fit(X_train_tfidf, y_train)\n",
    "\n",
    "\n",
    "model_report(\"BOW + LR\", log_reg_bow, X_train_bow, X_test_bow, y_train, y_test)\n",
    "model_report(\"TFIDF + LR\", log_reg_tfidf, X_train_tfidf, X_test_tfidf, y_train, y_test)"
   ]
  },
  {
   "cell_type": "markdown",
   "id": "55d3e4e0",
   "metadata": {},
   "source": [
    "# SVMs and Optuna \n",
    "\n",
    "Here we create the support vector machine and train it's hyperparamters using Optuna. Optuna relies on bayesian hyperparamter sampling rather than a reductive grid search. This saves computation time while ensuring good results. The trial defines the search space for hyperparamters. This process must be repeated for both BOW and TF-IDF embeddings. The trial will attempt to maximize the validation accuracy. "
   ]
  },
  {
   "cell_type": "code",
   "execution_count": 36,
   "id": "f08ce784",
   "metadata": {},
   "outputs": [],
   "source": [
    "class svm_optimizer():\n",
    "\n",
    "    def __init__(self, X_train, X_val, X_test, y_train, y_val, y_test, study_name): \n",
    "        \"\"\"\n",
    "        Initialize Objectives with data. Allows for code reuse. \n",
    "        \"\"\"\n",
    "        self.models = [] #save all models tested\n",
    "        self.X_train, self.X_val, self.X_test = X_train, X_val, X_test\n",
    "        self.y_train, self.y_val, self.y_test = y_train, y_val, y_test\n",
    "        self.study = optuna.create_study(study_name = study_name, direction = \"maximize\")\n",
    "    \n",
    "    def objective(self, trial): \n",
    "        kernels = [\"linear\", \"rbf\", \"sigmoid\"]\n",
    "        kernel = trial.suggest_categorical(\"kernel\", kernels)\n",
    "        regularization = trial.suggest_float(\"regularization\", 0, 1)\n",
    "        gamma = trial.suggest_loguniform(\"gamma\", 10e-3, 10e3)\n",
    "\n",
    "        model = SVC(max_iter = 10000, C = regularization, gamma = gamma,\n",
    "                    kernel = kernel).fit(self.X_train, self.y_train)\n",
    "        self.models.append(model) \n",
    "\n",
    "        y_pred = model.predict(self.X_val)\n",
    "        return accuracy(self.y_val, y_pred)\n",
    "    \n",
    "    def optimize(self, n_trials = 20):\n",
    "        \"\"\"\n",
    "        Optimizes the objective with the given study. Can be called multiple times \n",
    "        and will save the state. \n",
    "        \"\"\"\n",
    "        self.study.optimize(self.objective, n_trials = n_trials)\n",
    "        \n",
    "    def get_best_model(self):\n",
    "        \"\"\"\n",
    "        Returns None if no optimization has occured. Else returns the best model \n",
    "        so far according to the study. \n",
    "        \"\"\"\n",
    "        if self.models is None: \n",
    "            return None\n",
    "        \n",
    "        return self.models[self.study.best_trial.number]"
   ]
  },
  {
   "cell_type": "code",
   "execution_count": 7,
   "id": "f577e988",
   "metadata": {
    "scrolled": true
   },
   "outputs": [
    {
     "name": "stderr",
     "output_type": "stream",
     "text": [
      "\u001b[32m[I 2022-04-21 23:04:46,009]\u001b[0m A new study created in memory with name: SVM BOW Optimzer\u001b[0m\n",
      "\u001b[32m[I 2022-04-21 23:05:05,178]\u001b[0m Trial 0 finished with value: 0.7913961038961039 and parameters: {'kernel': 'linear', 'regularization': 0.0016986325574974703, 'gamma': 0.9686189355821254}. Best is trial 0 with value: 0.7913961038961039.\u001b[0m\n",
      "\u001b[32m[I 2022-04-21 23:05:30,295]\u001b[0m Trial 1 finished with value: 0.2297077922077922 and parameters: {'kernel': 'sigmoid', 'regularization': 0.6768845597479997, 'gamma': 12.703604099600875}. Best is trial 0 with value: 0.7913961038961039.\u001b[0m\n",
      "\u001b[32m[I 2022-04-21 23:05:55,472]\u001b[0m Trial 2 finished with value: 0.2297077922077922 and parameters: {'kernel': 'sigmoid', 'regularization': 0.5304538899902461, 'gamma': 77.50452557518204}. Best is trial 0 with value: 0.7913961038961039.\u001b[0m\n",
      "\u001b[32m[I 2022-04-21 23:06:10,737]\u001b[0m Trial 3 finished with value: 0.8425324675324676 and parameters: {'kernel': 'linear', 'regularization': 0.011974143645818724, 'gamma': 4.570742277697089}. Best is trial 3 with value: 0.8425324675324676.\u001b[0m\n",
      "\u001b[32m[I 2022-04-21 23:06:33,615]\u001b[0m Trial 4 finished with value: 0.8293831168831168 and parameters: {'kernel': 'sigmoid', 'regularization': 0.9294778344997356, 'gamma': 0.017980552324847365}. Best is trial 3 with value: 0.8425324675324676.\u001b[0m\n",
      "\u001b[32m[I 2022-04-21 23:07:00,142]\u001b[0m Trial 5 finished with value: 0.8461038961038961 and parameters: {'kernel': 'linear', 'regularization': 0.9833905252272902, 'gamma': 2803.0040817408794}. Best is trial 5 with value: 0.8461038961038961.\u001b[0m\n",
      "\u001b[32m[I 2022-04-21 23:07:17,604]\u001b[0m Trial 6 finished with value: 0.8566558441558442 and parameters: {'kernel': 'linear', 'regularization': 0.3029130293028748, 'gamma': 0.012066781287838347}. Best is trial 6 with value: 0.8566558441558442.\u001b[0m\n",
      "\u001b[32m[I 2022-04-21 23:07:51,829]\u001b[0m Trial 7 finished with value: 0.42272727272727273 and parameters: {'kernel': 'rbf', 'regularization': 0.9547000922806371, 'gamma': 31.830053440013387}. Best is trial 6 with value: 0.8566558441558442.\u001b[0m\n",
      "\u001b[32m[I 2022-04-21 23:08:16,413]\u001b[0m Trial 8 finished with value: 0.8456168831168831 and parameters: {'kernel': 'linear', 'regularization': 0.8994263739988161, 'gamma': 0.01603036876519055}. Best is trial 6 with value: 0.8566558441558442.\u001b[0m\n",
      "\u001b[32m[I 2022-04-21 23:08:41,493]\u001b[0m Trial 9 finished with value: 0.22987012987012986 and parameters: {'kernel': 'sigmoid', 'regularization': 0.5062694542204517, 'gamma': 2692.7949050201523}. Best is trial 6 with value: 0.8566558441558442.\u001b[0m\n",
      "\u001b[32m[I 2022-04-21 23:09:31,180]\u001b[0m Trial 10 finished with value: 0.3548701298701299 and parameters: {'kernel': 'rbf', 'regularization': 0.2350711526588449, 'gamma': 0.21616090479560682}. Best is trial 6 with value: 0.8566558441558442.\u001b[0m\n",
      "\u001b[32m[I 2022-04-21 23:09:48,187]\u001b[0m Trial 11 finished with value: 0.8564935064935065 and parameters: {'kernel': 'linear', 'regularization': 0.27610658137668204, 'gamma': 9820.309828439966}. Best is trial 6 with value: 0.8566558441558442.\u001b[0m\n",
      "\u001b[32m[I 2022-04-21 23:10:05,020]\u001b[0m Trial 12 finished with value: 0.8564935064935065 and parameters: {'kernel': 'linear', 'regularization': 0.27917791074256576, 'gamma': 241.05961922444956}. Best is trial 6 with value: 0.8566558441558442.\u001b[0m\n",
      "\u001b[32m[I 2022-04-21 23:10:21,783]\u001b[0m Trial 13 finished with value: 0.8566558441558442 and parameters: {'kernel': 'linear', 'regularization': 0.29975031591983137, 'gamma': 0.1708633060495962}. Best is trial 6 with value: 0.8566558441558442.\u001b[0m\n",
      "\u001b[32m[I 2022-04-21 23:10:40,473]\u001b[0m Trial 14 finished with value: 0.8551948051948052 and parameters: {'kernel': 'linear', 'regularization': 0.38525531516374456, 'gamma': 0.10260380769012546}. Best is trial 6 with value: 0.8566558441558442.\u001b[0m\n",
      "\u001b[32m[I 2022-04-21 23:10:55,534]\u001b[0m Trial 15 finished with value: 0.8597402597402597 and parameters: {'kernel': 'linear', 'regularization': 0.16622189503965393, 'gamma': 0.11043214261244648}. Best is trial 15 with value: 0.8597402597402597.\u001b[0m\n",
      "\u001b[32m[I 2022-04-21 23:11:16,741]\u001b[0m Trial 16 finished with value: 0.8001623376623377 and parameters: {'kernel': 'rbf', 'regularization': 0.1324415893431257, 'gamma': 0.011468055726207904}. Best is trial 15 with value: 0.8597402597402597.\u001b[0m\n",
      "\u001b[32m[I 2022-04-21 23:11:31,083]\u001b[0m Trial 17 finished with value: 0.8603896103896104 and parameters: {'kernel': 'linear', 'regularization': 0.13422383454969025, 'gamma': 0.9142692069020898}. Best is trial 17 with value: 0.8603896103896104.\u001b[0m\n",
      "\u001b[32m[I 2022-04-21 23:11:46,569]\u001b[0m Trial 18 finished with value: 0.8600649350649351 and parameters: {'kernel': 'linear', 'regularization': 0.12979315253177376, 'gamma': 1.561966760172255}. Best is trial 17 with value: 0.8603896103896104.\u001b[0m\n",
      "\u001b[32m[I 2022-04-21 23:12:31,159]\u001b[0m Trial 19 finished with value: 0.4008116883116883 and parameters: {'kernel': 'rbf', 'regularization': 0.6825363965608254, 'gamma': 2.804653329894117}. Best is trial 17 with value: 0.8603896103896104.\u001b[0m\n"
     ]
    }
   ],
   "source": [
    "#BOW Optimization\n",
    "svm_bow_optimizer = svm_optimizer(X_train_bow, X_val_bow, X_test_bow, y_train, y_val, y_test, \"SVM BOW Optimzer\")\n",
    "svm_bow_optimizer.optimize(20)\n",
    "svm_bow = svm_bow_optimizer.get_best_model()"
   ]
  },
  {
   "cell_type": "code",
   "execution_count": 8,
   "id": "a9ecd49b",
   "metadata": {
    "scrolled": true
   },
   "outputs": [
    {
     "name": "stderr",
     "output_type": "stream",
     "text": [
      "\u001b[32m[I 2022-04-21 23:12:37,980]\u001b[0m A new study created in memory with name: SVM TF-IDF Optimizer\u001b[0m\n",
      "\u001b[32m[I 2022-04-21 23:13:03,832]\u001b[0m Trial 0 finished with value: 0.8154220779220779 and parameters: {'kernel': 'rbf', 'regularization': 0.757344767451486, 'gamma': 0.04778698667791589}. Best is trial 0 with value: 0.8154220779220779.\u001b[0m\n",
      "\u001b[32m[I 2022-04-21 23:13:41,155]\u001b[0m Trial 1 finished with value: 0.639448051948052 and parameters: {'kernel': 'rbf', 'regularization': 0.44213525039900203, 'gamma': 165.70985546763447}. Best is trial 0 with value: 0.8154220779220779.\u001b[0m\n",
      "\u001b[32m[I 2022-04-21 23:14:15,929]\u001b[0m Trial 2 finished with value: 0.23863636363636365 and parameters: {'kernel': 'rbf', 'regularization': 0.7241849418837045, 'gamma': 670.9616502109103}. Best is trial 0 with value: 0.8154220779220779.\u001b[0m\n",
      "\u001b[32m[I 2022-04-21 23:14:37,290]\u001b[0m Trial 3 finished with value: 0.8561688311688311 and parameters: {'kernel': 'linear', 'regularization': 0.6897147072790143, 'gamma': 0.014126985518458939}. Best is trial 3 with value: 0.8561688311688311.\u001b[0m\n",
      "\u001b[32m[I 2022-04-21 23:14:49,535]\u001b[0m Trial 4 finished with value: 0.8527597402597402 and parameters: {'kernel': 'linear', 'regularization': 0.425003971581026, 'gamma': 0.309266706885145}. Best is trial 3 with value: 0.8561688311688311.\u001b[0m\n",
      "\u001b[32m[I 2022-04-21 23:15:49,115]\u001b[0m Trial 5 finished with value: 0.19724025974025974 and parameters: {'kernel': 'rbf', 'regularization': 0.5639421197014143, 'gamma': 11.109343148965772}. Best is trial 3 with value: 0.8561688311688311.\u001b[0m\n",
      "\u001b[32m[I 2022-04-21 23:16:04,929]\u001b[0m Trial 6 finished with value: 0.8048701298701298 and parameters: {'kernel': 'linear', 'regularization': 0.05328099880021697, 'gamma': 1110.9771430062533}. Best is trial 3 with value: 0.8561688311688311.\u001b[0m\n",
      "\u001b[32m[I 2022-04-21 23:16:17,331]\u001b[0m Trial 7 finished with value: 0.8576298701298701 and parameters: {'kernel': 'linear', 'regularization': 0.7401340067597352, 'gamma': 923.9255926936582}. Best is trial 7 with value: 0.8576298701298701.\u001b[0m\n",
      "\u001b[32m[I 2022-04-21 23:16:44,214]\u001b[0m Trial 8 finished with value: 0.6413961038961039 and parameters: {'kernel': 'rbf', 'regularization': 0.715009960478233, 'gamma': 115.23945790322608}. Best is trial 7 with value: 0.8576298701298701.\u001b[0m\n",
      "\u001b[32m[I 2022-04-21 23:17:07,679]\u001b[0m Trial 9 finished with value: 0.1534090909090909 and parameters: {'kernel': 'rbf', 'regularization': 0.07039605653172976, 'gamma': 9683.26717403897}. Best is trial 7 with value: 0.8576298701298701.\u001b[0m\n",
      "\u001b[32m[I 2022-04-21 23:17:20,175]\u001b[0m Trial 10 finished with value: 0.824025974025974 and parameters: {'kernel': 'sigmoid', 'regularization': 0.9963732152877874, 'gamma': 3.5042864114009977}. Best is trial 7 with value: 0.8576298701298701.\u001b[0m\n",
      "\u001b[32m[I 2022-04-21 23:17:32,773]\u001b[0m Trial 11 finished with value: 0.8597402597402597 and parameters: {'kernel': 'linear', 'regularization': 0.9384186373383406, 'gamma': 0.019448569933758084}. Best is trial 11 with value: 0.8597402597402597.\u001b[0m\n",
      "\u001b[32m[I 2022-04-21 23:17:45,675]\u001b[0m Trial 12 finished with value: 0.8597402597402597 and parameters: {'kernel': 'linear', 'regularization': 0.9900123891506908, 'gamma': 0.9692927740371117}. Best is trial 11 with value: 0.8597402597402597.\u001b[0m\n",
      "\u001b[32m[I 2022-04-21 23:17:58,803]\u001b[0m Trial 13 finished with value: 0.8592532467532468 and parameters: {'kernel': 'linear', 'regularization': 0.9704089221619858, 'gamma': 0.27209284347479445}. Best is trial 11 with value: 0.8597402597402597.\u001b[0m\n",
      "\u001b[32m[I 2022-04-21 23:18:13,542]\u001b[0m Trial 14 finished with value: 0.8519480519480519 and parameters: {'kernel': 'sigmoid', 'regularization': 0.881769959282559, 'gamma': 1.5474516400242546}. Best is trial 11 with value: 0.8597402597402597.\u001b[0m\n",
      "\u001b[32m[I 2022-04-21 23:18:26,136]\u001b[0m Trial 15 finished with value: 0.8452922077922078 and parameters: {'kernel': 'linear', 'regularization': 0.19994153558275696, 'gamma': 0.2918024637527437}. Best is trial 11 with value: 0.8597402597402597.\u001b[0m\n",
      "\u001b[32m[I 2022-04-21 23:18:38,656]\u001b[0m Trial 16 finished with value: 0.8592532467532468 and parameters: {'kernel': 'linear', 'regularization': 0.8663423595142528, 'gamma': 0.015314450732369143}. Best is trial 11 with value: 0.8597402597402597.\u001b[0m\n",
      "\u001b[32m[I 2022-04-21 23:18:50,864]\u001b[0m Trial 17 finished with value: 0.8553571428571428 and parameters: {'kernel': 'linear', 'regularization': 0.5516326740684333, 'gamma': 0.08087066481197354}. Best is trial 11 with value: 0.8597402597402597.\u001b[0m\n",
      "\u001b[32m[I 2022-04-21 23:19:03,880]\u001b[0m Trial 18 finished with value: 0.6332792207792208 and parameters: {'kernel': 'sigmoid', 'regularization': 0.30820843061735215, 'gamma': 15.889718840850444}. Best is trial 11 with value: 0.8597402597402597.\u001b[0m\n",
      "\u001b[32m[I 2022-04-21 23:19:16,363]\u001b[0m Trial 19 finished with value: 0.8592532467532468 and parameters: {'kernel': 'linear', 'regularization': 0.8464555909163561, 'gamma': 1.6947539728394303}. Best is trial 11 with value: 0.8597402597402597.\u001b[0m\n"
     ]
    }
   ],
   "source": [
    "#tf_idf optimization\n",
    "svm_tfidf_optimizer = svm_optimizer(X_train_tfidf, X_val_tfidf, X_test_tfidf, y_train, y_val, y_test, \"SVM TF-IDF Optimizer\")\n",
    "svm_tfidf_optimizer.optimize(20)\n",
    "svm_tfidf = svm_tfidf_optimizer.get_best_model()"
   ]
  },
  {
   "cell_type": "code",
   "execution_count": 9,
   "id": "acd6e1b1",
   "metadata": {},
   "outputs": [
    {
     "name": "stdout",
     "output_type": "stream",
     "text": [
      "BOW Embedding Classification Report\n",
      "Model Accuracy: 0.8539744212400842\n",
      "              precision    recall  f1-score   support\n",
      "\n",
      "           0       0.57      0.67      0.62       899\n",
      "           1       0.91      0.85      0.88      1083\n",
      "           2       0.95      0.94      0.94      1183\n",
      "           3       0.63      0.60      0.61       744\n",
      "           4       0.98      0.96      0.97      1177\n",
      "           5       0.99      0.97      0.98      1091\n",
      "\n",
      "    accuracy                           0.85      6177\n",
      "   macro avg       0.84      0.83      0.83      6177\n",
      "weighted avg       0.86      0.85      0.86      6177\n",
      " \n",
      "\n",
      "TFIDF Embedding Classification Report\n",
      "Model Accuracy: 0.8575360207220334\n",
      "              precision    recall  f1-score   support\n",
      "\n",
      "           0       0.59      0.63      0.61       899\n",
      "           1       0.91      0.87      0.89      1083\n",
      "           2       0.95      0.95      0.95      1183\n",
      "           3       0.63      0.62      0.62       744\n",
      "           4       0.96      0.97      0.97      1177\n",
      "           5       0.98      0.98      0.98      1091\n",
      "\n",
      "    accuracy                           0.86      6177\n",
      "   macro avg       0.84      0.84      0.84      6177\n",
      "weighted avg       0.86      0.86      0.86      6177\n",
      " \n",
      "\n"
     ]
    }
   ],
   "source": [
    "y_pred_svm_bow = svm_bow.predict(X_test_bow)\n",
    "y_pred_svm_tfidf = svm_tfidf.predict(X_test_tfidf)\n",
    "\n",
    "print(\"BOW Embedding Classification Report\")\n",
    "print(f\"Model Accuracy: {accuracy(y_test, y_pred_svm_bow)}\")\n",
    "print(classification_report(y_test, y_pred_svm_bow), \"\\n\")\n",
    "\n",
    "\n",
    "print(\"TFIDF Embedding Classification Report\")\n",
    "print(f\"Model Accuracy: {accuracy(y_test, y_pred_svm_tfidf)}\")\n",
    "print(classification_report(y_test, y_pred_svm_tfidf), \"\\n\")"
   ]
  },
  {
   "cell_type": "markdown",
   "id": "be0d3071",
   "metadata": {},
   "source": [
    "# Gradient Boosted Trees with XGBoost \n",
    "\n",
    "Gradient boosted trees are a favorite for classification tasks. The data has to be loaded in slightly strange manner, but we can still use optuna for tuning the hyperparameters."
   ]
  },
  {
   "cell_type": "code",
   "execution_count": 39,
   "id": "5fbd2b59",
   "metadata": {},
   "outputs": [],
   "source": [
    "D_train_bow = xgb.DMatrix(X_train_bow, label=y_train)\n",
    "D_val_bow = xgb.DMatrix(X_val_bow, label = y_val)\n",
    "D_test_bow = xgb.DMatrix(X_test_bow, label = y_test)\n",
    "\n",
    "D_train_tfidf = xgb.DMatrix(X_train_tfidf, label=y_train)\n",
    "D_val_tfidf = xgb.DMatrix(X_val_tfidf, label = y_val)\n",
    "D_test_tfidf = xgb.DMatrix(X_test_tfidf, label = y_test)"
   ]
  },
  {
   "cell_type": "code",
   "execution_count": 42,
   "id": "0704d1e1",
   "metadata": {},
   "outputs": [],
   "source": [
    "class xgb_optimizer(svm_optimizer): \n",
    "    \n",
    "    def __init__(self, train, val, test, study_name): \n",
    "        self.models = []\n",
    "        self.train = train\n",
    "        self.val = val \n",
    "        self.test = test\n",
    "        self.study = optuna.create_study(study_name = study_name, direction = \"maximize\")\n",
    "\n",
    "    \n",
    "    def objective(self, trial): \n",
    "        param = {\n",
    "            'eta': trial.suggest_loguniform(\"eta\", 10e-4, 1), \n",
    "            'max_depth': trial.suggest_int(\"max_depth\", 2, 10),  \n",
    "            'booster': trial.suggest_categorical('booster', [\"gbtree\"]),\n",
    "            'lambda': trial.suggest_float('lambda', 1e-8, 1.0, log=True),\n",
    "            'objective': 'multi:softprob',  \n",
    "            'eval_metric': 'mlogloss',\n",
    "            'num_class': 6} \n",
    "\n",
    "        steps = 150\n",
    "\n",
    "        model = xgb.train(param, self.train, steps)\n",
    "        self.models.append(model)\n",
    "        \n",
    "        y_pred_prob = model.predict(self.val)\n",
    "        y_pred = np.argmax(y_pred_prob, axis = 1)\n",
    "\n",
    "        return accuracy(y_val, y_pred)\n",
    "    \n",
    "    def optimize(self, n_trials = 50):\n",
    "        \"\"\"\n",
    "        Optimizes the objective with the given study. Can be called multiple times \n",
    "        and will save the state. \n",
    "        \"\"\"\n",
    "        wandb_kwargs = {\"project\": \"capstone\"}\n",
    "        wandbc = WeightsAndBiasesCallback(metric_name = \"Validation Accuracy\", wandb_kwargs=wandb_kwargs)\n",
    "        self.study.optimize(self.objective, n_trials = n_trials, callbacks = [wandbc])"
   ]
  },
  {
   "cell_type": "code",
   "execution_count": 44,
   "id": "6f7a9389",
   "metadata": {
    "scrolled": true
   },
   "outputs": [
    {
     "name": "stderr",
     "output_type": "stream",
     "text": [
      "\u001b[32m[I 2022-06-05 19:39:13,128]\u001b[0m A new study created in memory with name: XGB BOW Optimzer\u001b[0m\n"
     ]
    },
    {
     "data": {
      "text/html": [
       "Finishing last run (ID:13f54aqc) before initializing another..."
      ],
      "text/plain": [
       "<IPython.core.display.HTML object>"
      ]
     },
     "metadata": {},
     "output_type": "display_data"
    },
    {
     "data": {
      "text/html": [
       "Waiting for W&B process to finish... <strong style=\"color:green\">(success).</strong>"
      ],
      "text/plain": [
       "<IPython.core.display.HTML object>"
      ]
     },
     "metadata": {},
     "output_type": "display_data"
    },
    {
     "data": {
      "application/vnd.jupyter.widget-view+json": {
       "model_id": "",
       "version_major": 2,
       "version_minor": 0
      },
      "text/plain": [
       "VBox(children=(Label(value='0.001 MB of 0.001 MB uploaded (0.000 MB deduped)\\r'), FloatProgress(value=1.0, max…"
      ]
     },
     "metadata": {},
     "output_type": "display_data"
    },
    {
     "data": {
      "text/html": [
       "<style>\n",
       "    table.wandb td:nth-child(1) { padding: 0 10px; text-align: left ; width: auto;} td:nth-child(2) {text-align: left ; width: 100%}\n",
       "    .wandb-row { display: flex; flex-direction: row; flex-wrap: wrap; justify-content: flex-start; width: 100% }\n",
       "    .wandb-col { display: flex; flex-direction: column; flex-basis: 100%; flex: 1; padding: 10px; }\n",
       "    </style>\n",
       "<div class=\"wandb-row\"><div class=\"wandb-col\"><h3>Run history:</h3><br/><table class=\"wandb\"><tr><td>Validation Accuracy</td><td>▅▃▆▁▆▁▇▆▆▇██████████</td></tr><tr><td>eta</td><td>▁▁▁▁▁▁▁▁▁▂▅▄▆█▃▃▂▂▁▃</td></tr><tr><td>lambda</td><td>▁▁▁█▁▁▁▁▁▁▁▁▁▁▁▁▁▁▁▁</td></tr><tr><td>max_depth</td><td>▄▂▅▁▆▁▆▅▅▁████▇▇▆▆▅▇</td></tr></table><br/></div><div class=\"wandb-col\"><h3>Run summary:</h3><br/><table class=\"wandb\"><tr><td>Validation Accuracy</td><td>0.86125</td></tr><tr><td>booster</td><td>gbtree</td></tr><tr><td>eta</td><td>0.23191</td></tr><tr><td>lambda</td><td>0.0</td></tr><tr><td>max_depth</td><td>9</td></tr></table><br/></div></div>"
      ],
      "text/plain": [
       "<IPython.core.display.HTML object>"
      ]
     },
     "metadata": {},
     "output_type": "display_data"
    },
    {
     "data": {
      "text/html": [
       "Synced <strong style=\"color:#cdcd00\">sunny-bird-6</strong>: <a href=\"https://wandb.ai/cyberbullying/capstone/runs/13f54aqc\" target=\"_blank\">https://wandb.ai/cyberbullying/capstone/runs/13f54aqc</a><br/>Synced 6 W&B file(s), 0 media file(s), 0 artifact file(s) and 0 other file(s)"
      ],
      "text/plain": [
       "<IPython.core.display.HTML object>"
      ]
     },
     "metadata": {},
     "output_type": "display_data"
    },
    {
     "data": {
      "text/html": [
       "Find logs at: <code>.\\wandb\\run-20220605_193002-13f54aqc\\logs</code>"
      ],
      "text/plain": [
       "<IPython.core.display.HTML object>"
      ]
     },
     "metadata": {},
     "output_type": "display_data"
    },
    {
     "data": {
      "text/html": [
       "Successfully finished last run (ID:13f54aqc). Initializing new run:<br/>"
      ],
      "text/plain": [
       "<IPython.core.display.HTML object>"
      ]
     },
     "metadata": {},
     "output_type": "display_data"
    },
    {
     "data": {
      "text/html": [
       "Tracking run with wandb version 0.12.17"
      ],
      "text/plain": [
       "<IPython.core.display.HTML object>"
      ]
     },
     "metadata": {},
     "output_type": "display_data"
    },
    {
     "data": {
      "text/html": [
       "Run data is saved locally in <code>D:\\capstone\\src\\notebooks\\wandb\\run-20220605_193913-zk9ol6oe</code>"
      ],
      "text/plain": [
       "<IPython.core.display.HTML object>"
      ]
     },
     "metadata": {},
     "output_type": "display_data"
    },
    {
     "data": {
      "text/html": [
       "Syncing run <strong><a href=\"https://wandb.ai/cyberbullying/capstone/runs/zk9ol6oe\" target=\"_blank\">eager-dust-7</a></strong> to <a href=\"https://wandb.ai/cyberbullying/capstone\" target=\"_blank\">Weights & Biases</a> (<a href=\"https://wandb.me/run\" target=\"_blank\">docs</a>)<br/>"
      ],
      "text/plain": [
       "<IPython.core.display.HTML object>"
      ]
     },
     "metadata": {},
     "output_type": "display_data"
    },
    {
     "name": "stderr",
     "output_type": "stream",
     "text": [
      "\u001b[32m[I 2022-06-05 19:39:34,207]\u001b[0m Trial 0 finished with value: 0.7774984286612193 and parameters: {'eta': 0.0012612174472950246, 'max_depth': 5, 'booster': 'gbtree', 'lambda': 0.0020105365756590064}. Best is trial 0 with value: 0.7774984286612193.\u001b[0m\n",
      "\u001b[32m[I 2022-06-05 19:39:40,082]\u001b[0m Trial 1 finished with value: 0.8554368321810182 and parameters: {'eta': 0.47101898356203353, 'max_depth': 2, 'booster': 'gbtree', 'lambda': 0.05181613705215481}. Best is trial 1 with value: 0.8554368321810182.\u001b[0m\n",
      "\u001b[32m[I 2022-06-05 19:39:59,795]\u001b[0m Trial 2 finished with value: 0.8112822124450031 and parameters: {'eta': 0.008119215495592904, 'max_depth': 7, 'booster': 'gbtree', 'lambda': 0.0004797328161404228}. Best is trial 1 with value: 0.8554368321810182.\u001b[0m\n",
      "\u001b[32m[I 2022-06-05 19:40:23,859]\u001b[0m Trial 3 finished with value: 0.845065996228787 and parameters: {'eta': 0.0370341726226222, 'max_depth': 9, 'booster': 'gbtree', 'lambda': 0.00020101246273711334}. Best is trial 1 with value: 0.8554368321810182.\u001b[0m\n",
      "\u001b[32m[I 2022-06-05 19:41:07,858]\u001b[0m Trial 4 finished with value: 0.8400377121307354 and parameters: {'eta': 0.022063619282031977, 'max_depth': 10, 'booster': 'gbtree', 'lambda': 0.0005566456078182064}. Best is trial 1 with value: 0.8554368321810182.\u001b[0m\n",
      "\u001b[32m[I 2022-06-05 19:41:40,738]\u001b[0m Trial 5 finished with value: 0.8221244500314268 and parameters: {'eta': 0.003780370215773118, 'max_depth': 9, 'booster': 'gbtree', 'lambda': 6.144839285199656e-07}. Best is trial 1 with value: 0.8554368321810182.\u001b[0m\n",
      "\u001b[32m[I 2022-06-05 19:42:05,522]\u001b[0m Trial 6 finished with value: 0.8169390320553112 and parameters: {'eta': 0.005042715477985438, 'max_depth': 8, 'booster': 'gbtree', 'lambda': 1.4100517000583232e-08}. Best is trial 1 with value: 0.8554368321810182.\u001b[0m\n",
      "\u001b[32m[I 2022-06-05 19:42:34,287]\u001b[0m Trial 7 finished with value: 0.8229101194217473 and parameters: {'eta': 0.01119557157578033, 'max_depth': 9, 'booster': 'gbtree', 'lambda': 1.6473442932204648e-08}. Best is trial 1 with value: 0.8554368321810182.\u001b[0m\n",
      "\u001b[32m[I 2022-06-05 19:42:42,781]\u001b[0m Trial 8 finished with value: 0.8038969201759899 and parameters: {'eta': 0.022819876740585995, 'max_depth': 3, 'booster': 'gbtree', 'lambda': 0.0023529209044802707}. Best is trial 1 with value: 0.8554368321810182.\u001b[0m\n",
      "\u001b[32m[I 2022-06-05 19:42:54,086]\u001b[0m Trial 9 finished with value: 0.8254242614707731 and parameters: {'eta': 0.0369869879216507, 'max_depth': 4, 'booster': 'gbtree', 'lambda': 0.0007025298909949976}. Best is trial 1 with value: 0.8554368321810182.\u001b[0m\n",
      "\u001b[32m[I 2022-06-05 19:42:59,913]\u001b[0m Trial 10 finished with value: 0.8549654305468259 and parameters: {'eta': 0.6039084860194789, 'max_depth': 2, 'booster': 'gbtree', 'lambda': 0.7548407600468297}. Best is trial 1 with value: 0.8554368321810182.\u001b[0m\n",
      "\u001b[32m[I 2022-06-05 19:43:05,820]\u001b[0m Trial 11 finished with value: 0.856536769327467 and parameters: {'eta': 0.7304943885766066, 'max_depth': 2, 'booster': 'gbtree', 'lambda': 0.763573926729313}. Best is trial 11 with value: 0.856536769327467.\u001b[0m\n",
      "\u001b[32m[I 2022-06-05 19:43:11,663]\u001b[0m Trial 12 finished with value: 0.8560653676932747 and parameters: {'eta': 0.9348193198075169, 'max_depth': 2, 'booster': 'gbtree', 'lambda': 0.8210314964794183}. Best is trial 11 with value: 0.856536769327467.\u001b[0m\n",
      "\u001b[32m[I 2022-06-05 19:43:22,436]\u001b[0m Trial 13 finished with value: 0.8552796983029541 and parameters: {'eta': 0.1834288504977406, 'max_depth': 4, 'booster': 'gbtree', 'lambda': 0.682304054064936}. Best is trial 11 with value: 0.856536769327467.\u001b[0m\n",
      "\u001b[32m[I 2022-06-05 19:43:38,367]\u001b[0m Trial 14 finished with value: 0.8576367064739158 and parameters: {'eta': 0.14828448096665367, 'max_depth': 6, 'booster': 'gbtree', 'lambda': 0.040819747651039004}. Best is trial 14 with value: 0.8576367064739158.\u001b[0m\n",
      "\u001b[32m[I 2022-06-05 19:43:54,242]\u001b[0m Trial 15 finished with value: 0.8587366436203645 and parameters: {'eta': 0.13683062664086992, 'max_depth': 6, 'booster': 'gbtree', 'lambda': 0.029065212875212347}. Best is trial 15 with value: 0.8587366436203645.\u001b[0m\n",
      "\u001b[32m[I 2022-06-05 19:44:10,165]\u001b[0m Trial 16 finished with value: 0.8576367064739158 and parameters: {'eta': 0.1478830784674351, 'max_depth': 6, 'booster': 'gbtree', 'lambda': 0.014572034365681354}. Best is trial 15 with value: 0.8587366436203645.\u001b[0m\n",
      "\u001b[32m[I 2022-06-05 19:44:26,959]\u001b[0m Trial 17 finished with value: 0.8518227529855437 and parameters: {'eta': 0.09177329041458238, 'max_depth': 6, 'booster': 'gbtree', 'lambda': 1.694961531253189e-05}. Best is trial 15 with value: 0.8587366436203645.\u001b[0m\n",
      "\u001b[32m[I 2022-06-05 19:44:45,890]\u001b[0m Trial 18 finished with value: 0.8563796354494029 and parameters: {'eta': 0.09824873925411141, 'max_depth': 7, 'booster': 'gbtree', 'lambda': 0.020111242708966248}. Best is trial 15 with value: 0.8587366436203645.\u001b[0m\n",
      "\u001b[32m[I 2022-06-05 19:44:59,060]\u001b[0m Trial 19 finished with value: 0.8596794468887492 and parameters: {'eta': 0.2270996534990018, 'max_depth': 5, 'booster': 'gbtree', 'lambda': 1.7852633460400245e-05}. Best is trial 19 with value: 0.8596794468887492.\u001b[0m\n",
      "\u001b[32m[I 2022-06-05 19:45:12,434]\u001b[0m Trial 20 finished with value: 0.8615650534255186 and parameters: {'eta': 0.30728230789160804, 'max_depth': 5, 'booster': 'gbtree', 'lambda': 1.869756715920464e-05}. Best is trial 20 with value: 0.8615650534255186.\u001b[0m\n",
      "\u001b[32m[I 2022-06-05 19:45:26,936]\u001b[0m Trial 21 finished with value: 0.8610936517913262 and parameters: {'eta': 0.2656938512047432, 'max_depth': 5, 'booster': 'gbtree', 'lambda': 1.50375569539374e-05}. Best is trial 20 with value: 0.8615650534255186.\u001b[0m\n",
      "\u001b[32m[I 2022-06-05 19:45:37,769]\u001b[0m Trial 22 finished with value: 0.8606222501571339 and parameters: {'eta': 0.341089769520778, 'max_depth': 4, 'booster': 'gbtree', 'lambda': 2.081380240245114e-05}. Best is trial 20 with value: 0.8615650534255186.\u001b[0m\n",
      "\u001b[32m[I 2022-06-05 19:45:48,690]\u001b[0m Trial 23 finished with value: 0.8573224387177876 and parameters: {'eta': 0.34045236642156823, 'max_depth': 4, 'booster': 'gbtree', 'lambda': 3.946864632261496e-06}. Best is trial 20 with value: 0.8615650534255186.\u001b[0m\n",
      "\u001b[32m[I 2022-06-05 19:46:02,685]\u001b[0m Trial 24 finished with value: 0.8460087994971716 and parameters: {'eta': 0.061046005511951384, 'max_depth': 5, 'booster': 'gbtree', 'lambda': 5.905863248957764e-07}. Best is trial 20 with value: 0.8615650534255186.\u001b[0m\n",
      "\u001b[32m[I 2022-06-05 19:46:10,930]\u001b[0m Trial 25 finished with value: 0.8568510370835952 and parameters: {'eta': 0.2854464326843963, 'max_depth': 3, 'booster': 'gbtree', 'lambda': 5.778897092742129e-05}. Best is trial 20 with value: 0.8615650534255186.\u001b[0m\n",
      "\u001b[32m[I 2022-06-05 19:46:23,830]\u001b[0m Trial 26 finished with value: 0.8595223130106852 and parameters: {'eta': 0.4241707741325128, 'max_depth': 5, 'booster': 'gbtree', 'lambda': 3.089875539217158e-06}. Best is trial 20 with value: 0.8615650534255186.\u001b[0m\n",
      "\u001b[32m[I 2022-06-05 19:46:32,200]\u001b[0m Trial 27 finished with value: 0.8390949088623507 and parameters: {'eta': 0.08276204303599409, 'max_depth': 3, 'booster': 'gbtree', 'lambda': 1.0917699613946102e-07}. Best is trial 20 with value: 0.8615650534255186.\u001b[0m\n",
      "\u001b[32m[I 2022-06-05 19:46:42,565]\u001b[0m Trial 28 finished with value: 0.8570081709616594 and parameters: {'eta': 0.9802327390802106, 'max_depth': 4, 'booster': 'gbtree', 'lambda': 2.4674687658716104e-05}. Best is trial 20 with value: 0.8615650534255186.\u001b[0m\n",
      "\u001b[32m[I 2022-06-05 19:47:00,623]\u001b[0m Trial 29 finished with value: 0.8625078566939032 and parameters: {'eta': 0.31216650858595413, 'max_depth': 7, 'booster': 'gbtree', 'lambda': 3.2761161918539628e-06}. Best is trial 29 with value: 0.8625078566939032.\u001b[0m\n",
      "\u001b[32m[I 2022-06-05 19:47:22,029]\u001b[0m Trial 30 finished with value: 0.8510370835952231 and parameters: {'eta': 0.05630431368623282, 'max_depth': 7, 'booster': 'gbtree', 'lambda': 1.980479277138265e-06}. Best is trial 29 with value: 0.8625078566939032.\u001b[0m\n",
      "\u001b[32m[I 2022-06-05 19:47:37,313]\u001b[0m Trial 31 finished with value: 0.8606222501571339 and parameters: {'eta': 0.30097758844206524, 'max_depth': 5, 'booster': 'gbtree', 'lambda': 6.951476396164906e-06}. Best is trial 29 with value: 0.8625078566939032.\u001b[0m\n",
      "\u001b[32m[I 2022-06-05 19:47:52,124]\u001b[0m Trial 32 finished with value: 0.7729415461973601 and parameters: {'eta': 0.0012312112460244858, 'max_depth': 5, 'booster': 'gbtree', 'lambda': 6.138455787463535e-07}. Best is trial 29 with value: 0.8625078566939032.\u001b[0m\n"
     ]
    },
    {
     "name": "stderr",
     "output_type": "stream",
     "text": [
      "\u001b[32m[I 2022-06-05 19:48:10,267]\u001b[0m Trial 33 finished with value: 0.8603079824010057 and parameters: {'eta': 0.5023254337202878, 'max_depth': 7, 'booster': 'gbtree', 'lambda': 0.0001507194397809332}. Best is trial 29 with value: 0.8625078566939032.\u001b[0m\n",
      "\u001b[32m[I 2022-06-05 19:48:31,560]\u001b[0m Trial 34 finished with value: 0.859365179132621 and parameters: {'eta': 0.22282360059376422, 'max_depth': 8, 'booster': 'gbtree', 'lambda': 6.230687647860832e-06}. Best is trial 29 with value: 0.8625078566939032.\u001b[0m\n",
      "\u001b[32m[I 2022-06-05 19:48:44,438]\u001b[0m Trial 35 finished with value: 0.8614079195474544 and parameters: {'eta': 0.454723534079539, 'max_depth': 5, 'booster': 'gbtree', 'lambda': 6.86804457362941e-05}. Best is trial 29 with value: 0.8625078566939032.\u001b[0m\n",
      "\u001b[32m[I 2022-06-05 19:49:04,672]\u001b[0m Trial 36 finished with value: 0.857950974230044 and parameters: {'eta': 0.6004639166437672, 'max_depth': 8, 'booster': 'gbtree', 'lambda': 0.0023206267102167176}. Best is trial 29 with value: 0.8625078566939032.\u001b[0m\n",
      "\u001b[32m[I 2022-06-05 19:49:26,011]\u001b[0m Trial 37 finished with value: 0.8090823381521056 and parameters: {'eta': 0.002569498161805753, 'max_depth': 7, 'booster': 'gbtree', 'lambda': 8.426323841344661e-05}. Best is trial 29 with value: 0.8625078566939032.\u001b[0m\n",
      "\u001b[32m[I 2022-06-05 19:49:39,461]\u001b[0m Trial 38 finished with value: 0.8623507228158391 and parameters: {'eta': 0.48064147431105403, 'max_depth': 5, 'booster': 'gbtree', 'lambda': 2.1611112004128185e-07}. Best is trial 29 with value: 0.8625078566939032.\u001b[0m\n",
      "\u001b[32m[I 2022-06-05 19:49:55,419]\u001b[0m Trial 39 finished with value: 0.8610936517913262 and parameters: {'eta': 0.4119944337102958, 'max_depth': 6, 'booster': 'gbtree', 'lambda': 1.3581708651140276e-07}. Best is trial 29 with value: 0.8625078566939032.\u001b[0m\n",
      "\u001b[32m[I 2022-06-05 19:50:21,144]\u001b[0m Trial 40 finished with value: 0.859365179132621 and parameters: {'eta': 0.7280191631581966, 'max_depth': 10, 'booster': 'gbtree', 'lambda': 1.3871290891885921e-07}. Best is trial 29 with value: 0.8625078566939032.\u001b[0m\n",
      "\u001b[32m[I 2022-06-05 19:50:34,554]\u001b[0m Trial 41 finished with value: 0.8587366436203645 and parameters: {'eta': 0.234002786416606, 'max_depth': 5, 'booster': 'gbtree', 'lambda': 1.2882476026602614e-06}. Best is trial 29 with value: 0.8625078566939032.\u001b[0m\n",
      "\u001b[32m[I 2022-06-05 19:50:49,862]\u001b[0m Trial 42 finished with value: 0.8634506599622879 and parameters: {'eta': 0.42095934831042214, 'max_depth': 6, 'booster': 'gbtree', 'lambda': 8.593136299545245e-08}. Best is trial 42 with value: 0.8634506599622879.\u001b[0m\n",
      "\u001b[32m[I 2022-06-05 19:51:05,179]\u001b[0m Trial 43 finished with value: 0.8610936517913262 and parameters: {'eta': 0.477860397864811, 'max_depth': 6, 'booster': 'gbtree', 'lambda': 3.714851659258659e-08}. Best is trial 42 with value: 0.8634506599622879.\u001b[0m\n",
      "\u001b[32m[I 2022-06-05 19:51:30,009]\u001b[0m Trial 44 finished with value: 0.8199245757385293 and parameters: {'eta': 0.010077989656539318, 'max_depth': 8, 'booster': 'gbtree', 'lambda': 4.237657031674325e-08}. Best is trial 42 with value: 0.8634506599622879.\u001b[0m\n",
      "\u001b[32m[I 2022-06-05 19:51:47,607]\u001b[0m Trial 45 finished with value: 0.8585795097423005 and parameters: {'eta': 0.7509237646012646, 'max_depth': 7, 'booster': 'gbtree', 'lambda': 3.4563234094571824e-07}. Best is trial 42 with value: 0.8634506599622879.\u001b[0m\n",
      "\u001b[32m[I 2022-06-05 19:52:02,992]\u001b[0m Trial 46 finished with value: 0.8577938403519799 and parameters: {'eta': 0.5826848124650975, 'max_depth': 6, 'booster': 'gbtree', 'lambda': 0.00048349394099310244}. Best is trial 42 with value: 0.8634506599622879.\u001b[0m\n",
      "\u001b[32m[I 2022-06-05 19:52:13,711]\u001b[0m Trial 47 finished with value: 0.853708359522313 and parameters: {'eta': 0.17853487406025884, 'max_depth': 4, 'booster': 'gbtree', 'lambda': 2.4271507384798487e-07}. Best is trial 42 with value: 0.8634506599622879.\u001b[0m\n",
      "\u001b[32m[I 2022-06-05 19:52:26,666]\u001b[0m Trial 48 finished with value: 0.8573224387177876 and parameters: {'eta': 0.3648442829444212, 'max_depth': 5, 'booster': 'gbtree', 'lambda': 1.1903182873430052e-06}. Best is trial 42 with value: 0.8634506599622879.\u001b[0m\n",
      "\u001b[32m[I 2022-06-05 19:52:42,821]\u001b[0m Trial 49 finished with value: 0.8560653676932747 and parameters: {'eta': 0.11039747001605964, 'max_depth': 6, 'booster': 'gbtree', 'lambda': 3.363200230413414e-08}. Best is trial 42 with value: 0.8634506599622879.\u001b[0m\n"
     ]
    }
   ],
   "source": [
    "xgb_bow_optimizer = xgb_optimizer(D_train_bow, D_val_bow, D_test_bow, \"XGB BOW Optimzer\")\n",
    "xgb_bow_optimizer.optimize(50)\n",
    "xgb_bow = xgb_bow_optimizer.get_best_model()"
   ]
  },
  {
   "cell_type": "code",
   "execution_count": 45,
   "id": "875a7392",
   "metadata": {
    "scrolled": true
   },
   "outputs": [
    {
     "name": "stderr",
     "output_type": "stream",
     "text": [
      "\u001b[32m[I 2022-06-05 19:59:20,853]\u001b[0m A new study created in memory with name: XGB TF-IDF Optimzer\u001b[0m\n"
     ]
    },
    {
     "data": {
      "text/html": [
       "Finishing last run (ID:zk9ol6oe) before initializing another..."
      ],
      "text/plain": [
       "<IPython.core.display.HTML object>"
      ]
     },
     "metadata": {},
     "output_type": "display_data"
    },
    {
     "data": {
      "text/html": [
       "Waiting for W&B process to finish... <strong style=\"color:green\">(success).</strong>"
      ],
      "text/plain": [
       "<IPython.core.display.HTML object>"
      ]
     },
     "metadata": {},
     "output_type": "display_data"
    },
    {
     "data": {
      "application/vnd.jupyter.widget-view+json": {
       "model_id": "",
       "version_major": 2,
       "version_minor": 0
      },
      "text/plain": [
       "VBox(children=(Label(value='0.001 MB of 0.001 MB uploaded (0.000 MB deduped)\\r'), FloatProgress(value=1.0, max…"
      ]
     },
     "metadata": {},
     "output_type": "display_data"
    },
    {
     "data": {
      "text/html": [
       "<style>\n",
       "    table.wandb td:nth-child(1) { padding: 0 10px; text-align: left ; width: auto;} td:nth-child(2) {text-align: left ; width: 100%}\n",
       "    .wandb-row { display: flex; flex-direction: row; flex-wrap: wrap; justify-content: flex-start; width: 100% }\n",
       "    .wandb-col { display: flex; flex-direction: column; flex-basis: 100%; flex: 1; padding: 10px; }\n",
       "    </style>\n",
       "<div class=\"wandb-row\"><div class=\"wandb-col\"><h3>Run history:</h3><br/><table class=\"wandb\"><tr><td>Validation Accuracy</td><td>▁▇▄▇▅▄▅▃▇▇▇▇██▇▇████▇█▆█▇█▁███▄███████▇▇</td></tr><tr><td>eta</td><td>▁▄▁▁▁▁▁▁▅▆█▂▂▂▂▂▃▃▃▃▃▄▂█▁▃▁▅▄▅▁▄▆▃▄▄▆▅▂▂</td></tr><tr><td>lambda</td><td>▁▁▁▁▁▁▁▁▇██▇▁▁▁▁▁▁▁▁▁▁▁▁▁▁▁▁▁▁▁▁▁▁▁▁▁▁▁▁</td></tr><tr><td>max_depth</td><td>▄▁▅▇▇▆▇▂▁▁▁▃▅▅▅▅▄▄▃▃▂▄▂▃▅▄▄▅▄▆▅▄█▄▅▅▅▅▃▅</td></tr></table><br/></div><div class=\"wandb-col\"><h3>Run summary:</h3><br/><table class=\"wandb\"><tr><td>Validation Accuracy</td><td>0.85607</td></tr><tr><td>booster</td><td>gbtree</td></tr><tr><td>eta</td><td>0.1104</td></tr><tr><td>lambda</td><td>0.0</td></tr><tr><td>max_depth</td><td>6</td></tr></table><br/></div></div>"
      ],
      "text/plain": [
       "<IPython.core.display.HTML object>"
      ]
     },
     "metadata": {},
     "output_type": "display_data"
    },
    {
     "data": {
      "text/html": [
       "Synced <strong style=\"color:#cdcd00\">eager-dust-7</strong>: <a href=\"https://wandb.ai/cyberbullying/capstone/runs/zk9ol6oe\" target=\"_blank\">https://wandb.ai/cyberbullying/capstone/runs/zk9ol6oe</a><br/>Synced 6 W&B file(s), 0 media file(s), 0 artifact file(s) and 0 other file(s)"
      ],
      "text/plain": [
       "<IPython.core.display.HTML object>"
      ]
     },
     "metadata": {},
     "output_type": "display_data"
    },
    {
     "data": {
      "text/html": [
       "Find logs at: <code>.\\wandb\\run-20220605_193913-zk9ol6oe\\logs</code>"
      ],
      "text/plain": [
       "<IPython.core.display.HTML object>"
      ]
     },
     "metadata": {},
     "output_type": "display_data"
    },
    {
     "data": {
      "text/html": [
       "Successfully finished last run (ID:zk9ol6oe). Initializing new run:<br/>"
      ],
      "text/plain": [
       "<IPython.core.display.HTML object>"
      ]
     },
     "metadata": {},
     "output_type": "display_data"
    },
    {
     "data": {
      "text/html": [
       "Tracking run with wandb version 0.12.17"
      ],
      "text/plain": [
       "<IPython.core.display.HTML object>"
      ]
     },
     "metadata": {},
     "output_type": "display_data"
    },
    {
     "data": {
      "text/html": [
       "Run data is saved locally in <code>D:\\capstone\\src\\notebooks\\wandb\\run-20220605_195920-heyef3as</code>"
      ],
      "text/plain": [
       "<IPython.core.display.HTML object>"
      ]
     },
     "metadata": {},
     "output_type": "display_data"
    },
    {
     "data": {
      "text/html": [
       "Syncing run <strong><a href=\"https://wandb.ai/cyberbullying/capstone/runs/heyef3as\" target=\"_blank\">revived-sun-8</a></strong> to <a href=\"https://wandb.ai/cyberbullying/capstone\" target=\"_blank\">Weights & Biases</a> (<a href=\"https://wandb.me/run\" target=\"_blank\">docs</a>)<br/>"
      ],
      "text/plain": [
       "<IPython.core.display.HTML object>"
      ]
     },
     "metadata": {},
     "output_type": "display_data"
    },
    {
     "name": "stderr",
     "output_type": "stream",
     "text": [
      "\u001b[32m[I 2022-06-05 20:00:01,336]\u001b[0m Trial 0 finished with value: 0.7910119421747329 and parameters: {'eta': 0.015140040237516028, 'max_depth': 3, 'booster': 'gbtree', 'lambda': 1.136144849785019e-08}. Best is trial 0 with value: 0.7910119421747329.\u001b[0m\n",
      "\u001b[32m[I 2022-06-05 20:01:17,682]\u001b[0m Trial 1 finished with value: 0.8507228158390949 and parameters: {'eta': 0.07283803802262621, 'max_depth': 6, 'booster': 'gbtree', 'lambda': 3.6266757122045287e-06}. Best is trial 1 with value: 0.8507228158390949.\u001b[0m\n",
      "\u001b[32m[I 2022-06-05 20:02:00,209]\u001b[0m Trial 2 finished with value: 0.7655562539283469 and parameters: {'eta': 0.005646767662002789, 'max_depth': 3, 'booster': 'gbtree', 'lambda': 0.0010946224818824358}. Best is trial 1 with value: 0.8507228158390949.\u001b[0m\n",
      "\u001b[32m[I 2022-06-05 20:02:40,224]\u001b[0m Trial 3 finished with value: 0.813953488372093 and parameters: {'eta': 0.032715271338239225, 'max_depth': 3, 'booster': 'gbtree', 'lambda': 1.2891341581464127e-08}. Best is trial 1 with value: 0.8507228158390949.\u001b[0m\n",
      "\u001b[32m[I 2022-06-05 20:03:37,475]\u001b[0m Trial 4 finished with value: 0.8574795725958516 and parameters: {'eta': 0.24438096264201864, 'max_depth': 5, 'booster': 'gbtree', 'lambda': 1.2287218423419426e-07}. Best is trial 4 with value: 0.8574795725958516.\u001b[0m\n",
      "\u001b[32m[I 2022-06-05 20:04:20,610]\u001b[0m Trial 5 finished with value: 0.7932118164676304 and parameters: {'eta': 0.015951677612973586, 'max_depth': 3, 'booster': 'gbtree', 'lambda': 0.03138286438692458}. Best is trial 4 with value: 0.8574795725958516.\u001b[0m\n",
      "\u001b[32m[I 2022-06-05 20:05:48,852]\u001b[0m Trial 6 finished with value: 0.8034255185417976 and parameters: {'eta': 0.004355895298025807, 'max_depth': 6, 'booster': 'gbtree', 'lambda': 3.0382021158335753e-05}. Best is trial 4 with value: 0.8574795725958516.\u001b[0m\n",
      "\u001b[32m[I 2022-06-05 20:07:11,950]\u001b[0m Trial 7 finished with value: 0.8497800125707102 and parameters: {'eta': 0.8481843879861207, 'max_depth': 10, 'booster': 'gbtree', 'lambda': 1.8647231138563512e-05}. Best is trial 4 with value: 0.8574795725958516.\u001b[0m\n",
      "\u001b[32m[I 2022-06-05 20:07:53,193]\u001b[0m Trial 8 finished with value: 0.7404148334380892 and parameters: {'eta': 0.0011870789935756114, 'max_depth': 3, 'booster': 'gbtree', 'lambda': 0.00020076545289198205}. Best is trial 4 with value: 0.8574795725958516.\u001b[0m\n",
      "\u001b[32m[I 2022-06-05 20:09:23,496]\u001b[0m Trial 9 finished with value: 0.8518227529855437 and parameters: {'eta': 0.10873107954923458, 'max_depth': 8, 'booster': 'gbtree', 'lambda': 0.1347838948112655}. Best is trial 4 with value: 0.8574795725958516.\u001b[0m\n",
      "\u001b[32m[I 2022-06-05 20:10:15,207]\u001b[0m Trial 10 finished with value: 0.8475801382778126 and parameters: {'eta': 0.8282308117849394, 'max_depth': 5, 'booster': 'gbtree', 'lambda': 2.738592393776787e-07}. Best is trial 4 with value: 0.8574795725958516.\u001b[0m\n",
      "\u001b[32m[I 2022-06-05 20:11:52,755]\u001b[0m Trial 11 finished with value: 0.8543368950345694 and parameters: {'eta': 0.15142617626183794, 'max_depth': 9, 'booster': 'gbtree', 'lambda': 0.8937254267476056}. Best is trial 4 with value: 0.8574795725958516.\u001b[0m\n",
      "\u001b[32m[I 2022-06-05 20:13:26,593]\u001b[0m Trial 12 finished with value: 0.8529226901319925 and parameters: {'eta': 0.23228550406528398, 'max_depth': 9, 'booster': 'gbtree', 'lambda': 0.006980482155196814}. Best is trial 4 with value: 0.8574795725958516.\u001b[0m\n",
      "\u001b[32m[I 2022-06-05 20:14:51,644]\u001b[0m Trial 13 finished with value: 0.85512256442489 and parameters: {'eta': 0.24628121675005168, 'max_depth': 8, 'booster': 'gbtree', 'lambda': 0.9831635832446737}. Best is trial 4 with value: 0.8574795725958516.\u001b[0m\n",
      "\u001b[32m[I 2022-06-05 20:16:11,817]\u001b[0m Trial 14 finished with value: 0.8529226901319925 and parameters: {'eta': 0.34994987910571956, 'max_depth': 7, 'booster': 'gbtree', 'lambda': 8.354805474905502e-07}. Best is trial 4 with value: 0.8574795725958516.\u001b[0m\n",
      "\u001b[32m[I 2022-06-05 20:17:07,015]\u001b[0m Trial 15 finished with value: 0.8518227529855437 and parameters: {'eta': 0.415490074691645, 'max_depth': 5, 'booster': 'gbtree', 'lambda': 0.0015530686123810906}. Best is trial 4 with value: 0.8574795725958516.\u001b[0m\n",
      "\u001b[32m[I 2022-06-05 20:18:10,998]\u001b[0m Trial 16 finished with value: 0.8430232558139535 and parameters: {'eta': 0.05051152612935171, 'max_depth': 5, 'booster': 'gbtree', 'lambda': 1.2922602757780349e-07}. Best is trial 4 with value: 0.8574795725958516.\u001b[0m\n",
      "\u001b[32m[I 2022-06-05 20:19:29,015]\u001b[0m Trial 17 finished with value: 0.8544940289126336 and parameters: {'eta': 0.1916003085962302, 'max_depth': 7, 'booster': 'gbtree', 'lambda': 0.000202419801082262}. Best is trial 4 with value: 0.8574795725958516.\u001b[0m\n",
      "\u001b[32m[I 2022-06-05 20:20:50,437]\u001b[0m Trial 18 finished with value: 0.8518227529855437 and parameters: {'eta': 0.47252442110417064, 'max_depth': 8, 'booster': 'gbtree', 'lambda': 0.9366087689547979}. Best is trial 4 with value: 0.8574795725958516.\u001b[0m\n",
      "\u001b[32m[I 2022-06-05 20:21:39,515]\u001b[0m Trial 19 finished with value: 0.8496228786926462 and parameters: {'eta': 0.10707871387113142, 'max_depth': 4, 'booster': 'gbtree', 'lambda': 4.583096736143118e-06}. Best is trial 4 with value: 0.8574795725958516.\u001b[0m\n",
      "\u001b[32m[I 2022-06-05 20:23:11,764]\u001b[0m Trial 20 finished with value: 0.8273098680075425 and parameters: {'eta': 0.017958307512003453, 'max_depth': 7, 'booster': 'gbtree', 'lambda': 8.841900228703162e-08}. Best is trial 4 with value: 0.8574795725958516.\u001b[0m\n",
      "\u001b[32m[I 2022-06-05 20:24:28,762]\u001b[0m Trial 21 finished with value: 0.8549654305468259 and parameters: {'eta': 0.2162587118254903, 'max_depth': 7, 'booster': 'gbtree', 'lambda': 0.0005401412065735506}. Best is trial 4 with value: 0.8574795725958516.\u001b[0m\n",
      "\u001b[32m[I 2022-06-05 20:25:51,509]\u001b[0m Trial 22 finished with value: 0.850879949717159 and parameters: {'eta': 0.3198710580070962, 'max_depth': 8, 'booster': 'gbtree', 'lambda': 0.093794152391719}. Best is trial 4 with value: 0.8574795725958516.\u001b[0m\n",
      "\u001b[32m[I 2022-06-05 20:27:04,767]\u001b[0m Trial 23 finished with value: 0.8513513513513513 and parameters: {'eta': 0.06758852024107309, 'max_depth': 6, 'booster': 'gbtree', 'lambda': 0.0017002326809877038}. Best is trial 4 with value: 0.8574795725958516.\u001b[0m\n",
      "\u001b[32m[I 2022-06-05 20:28:28,635]\u001b[0m Trial 24 finished with value: 0.8499371464487744 and parameters: {'eta': 0.5562049629161692, 'max_depth': 9, 'booster': 'gbtree', 'lambda': 0.018280489611054582}. Best is trial 4 with value: 0.8574795725958516.\u001b[0m\n",
      "\u001b[32m[I 2022-06-05 20:29:45,983]\u001b[0m Trial 25 finished with value: 0.8530798240100566 and parameters: {'eta': 0.2189200408103688, 'max_depth': 7, 'booster': 'gbtree', 'lambda': 4.919983644590256e-05}. Best is trial 4 with value: 0.8574795725958516.\u001b[0m\n",
      "\u001b[32m[I 2022-06-05 20:30:34,798]\u001b[0m Trial 26 finished with value: 0.852294154619736 and parameters: {'eta': 0.12376552423444044, 'max_depth': 4, 'booster': 'gbtree', 'lambda': 5.010863924958184e-06}. Best is trial 4 with value: 0.8574795725958516.\u001b[0m\n",
      "\u001b[32m[I 2022-06-05 20:32:43,754]\u001b[0m Trial 27 finished with value: 0.8469516027655563 and parameters: {'eta': 0.03380723044819286, 'max_depth': 10, 'booster': 'gbtree', 'lambda': 1.1025800644556429e-06}. Best is trial 4 with value: 0.8574795725958516.\u001b[0m\n",
      "\u001b[32m[I 2022-06-05 20:33:07,786]\u001b[0m Trial 28 finished with value: 0.8543368950345694 and parameters: {'eta': 0.6546509368215392, 'max_depth': 2, 'booster': 'gbtree', 'lambda': 0.21552500484558262}. Best is trial 4 with value: 0.8574795725958516.\u001b[0m\n",
      "\u001b[32m[I 2022-06-05 20:34:31,799]\u001b[0m Trial 29 finished with value: 0.8524512884978002 and parameters: {'eta': 0.2989226990753232, 'max_depth': 8, 'booster': 'gbtree', 'lambda': 3.0724409586252195e-08}. Best is trial 4 with value: 0.8574795725958516.\u001b[0m\n",
      "\u001b[32m[I 2022-06-05 20:35:22,119]\u001b[0m Trial 30 finished with value: 0.8441231929604023 and parameters: {'eta': 0.06319117782958288, 'max_depth': 4, 'booster': 'gbtree', 'lambda': 0.0004843488200002507}. Best is trial 4 with value: 0.8574795725958516.\u001b[0m\n",
      "\u001b[32m[I 2022-06-05 20:36:40,643]\u001b[0m Trial 31 finished with value: 0.8559082338152105 and parameters: {'eta': 0.16356407263563605, 'max_depth': 7, 'booster': 'gbtree', 'lambda': 0.0001558933042042681}. Best is trial 4 with value: 0.8574795725958516.\u001b[0m\n",
      "\u001b[32m[I 2022-06-05 20:37:49,413]\u001b[0m Trial 32 finished with value: 0.8552796983029541 and parameters: {'eta': 0.18316909603270262, 'max_depth': 6, 'booster': 'gbtree', 'lambda': 0.0037884756739594372}. Best is trial 4 with value: 0.8574795725958516.\u001b[0m\n"
     ]
    },
    {
     "name": "stderr",
     "output_type": "stream",
     "text": [
      "\u001b[32m[I 2022-06-05 20:39:00,479]\u001b[0m Trial 33 finished with value: 0.8515084852294155 and parameters: {'eta': 0.09614442537808764, 'max_depth': 6, 'booster': 'gbtree', 'lambda': 0.003830852767154319}. Best is trial 4 with value: 0.8574795725958516.\u001b[0m\n",
      "\u001b[32m[I 2022-06-05 20:39:59,694]\u001b[0m Trial 34 finished with value: 0.8543368950345694 and parameters: {'eta': 0.16049719088185777, 'max_depth': 5, 'booster': 'gbtree', 'lambda': 0.01597085299396489}. Best is trial 4 with value: 0.8574795725958516.\u001b[0m\n",
      "\u001b[32m[I 2022-06-05 20:41:16,555]\u001b[0m Trial 35 finished with value: 0.8390949088623507 and parameters: {'eta': 0.035677427636788536, 'max_depth': 6, 'booster': 'gbtree', 'lambda': 1.3651488860797953e-05}. Best is trial 4 with value: 0.8574795725958516.\u001b[0m\n",
      "\u001b[32m[I 2022-06-05 20:42:36,935]\u001b[0m Trial 36 finished with value: 0.802639849151477 and parameters: {'eta': 0.005813820322534972, 'max_depth': 6, 'booster': 'gbtree', 'lambda': 6.695706336770509e-05}. Best is trial 4 with value: 0.8574795725958516.\u001b[0m\n",
      "\u001b[32m[I 2022-06-05 20:43:52,188]\u001b[0m Trial 37 finished with value: 0.8511942174732873 and parameters: {'eta': 0.07863751659238821, 'max_depth': 6, 'booster': 'gbtree', 'lambda': 0.007050406645607266}. Best is trial 4 with value: 0.8574795725958516.\u001b[0m\n",
      "\u001b[32m[I 2022-06-05 20:44:46,697]\u001b[0m Trial 38 finished with value: 0.8431803896920176 and parameters: {'eta': 0.9730044369223196, 'max_depth': 5, 'booster': 'gbtree', 'lambda': 0.04046068635635007}. Best is trial 4 with value: 0.8574795725958516.\u001b[0m\n",
      "\u001b[32m[I 2022-06-05 20:46:26,145]\u001b[0m Trial 39 finished with value: 0.8350094280326839 and parameters: {'eta': 0.022589745226171902, 'max_depth': 7, 'booster': 'gbtree', 'lambda': 0.00013406610143495477}. Best is trial 4 with value: 0.8574795725958516.\u001b[0m\n",
      "\u001b[32m[I 2022-06-05 20:48:19,320]\u001b[0m Trial 40 finished with value: 0.8200817096165933 and parameters: {'eta': 0.009677581413886435, 'max_depth': 8, 'booster': 'gbtree', 'lambda': 0.0005304913380187185}. Best is trial 4 with value: 0.8574795725958516.\u001b[0m\n",
      "\u001b[32m[I 2022-06-05 20:49:48,445]\u001b[0m Trial 41 finished with value: 0.8532369578881207 and parameters: {'eta': 0.2508508964688107, 'max_depth': 7, 'booster': 'gbtree', 'lambda': 0.00030948271008604934}. Best is trial 4 with value: 0.8574795725958516.\u001b[0m\n",
      "\u001b[32m[I 2022-06-05 20:51:16,666]\u001b[0m Trial 42 finished with value: 0.8546511627906976 and parameters: {'eta': 0.1579114043980919, 'max_depth': 7, 'booster': 'gbtree', 'lambda': 1.3114931668661802e-05}. Best is trial 4 with value: 0.8574795725958516.\u001b[0m\n",
      "\u001b[32m[I 2022-06-05 20:52:51,446]\u001b[0m Trial 43 finished with value: 0.8499371464487744 and parameters: {'eta': 0.42081634882749125, 'max_depth': 9, 'booster': 'gbtree', 'lambda': 0.0008949141252954093}. Best is trial 4 with value: 0.8574795725958516.\u001b[0m\n",
      "\u001b[32m[I 2022-06-05 20:55:08,792]\u001b[0m Trial 44 finished with value: 0.8488372093023255 and parameters: {'eta': 0.04720861034011616, 'max_depth': 8, 'booster': 'gbtree', 'lambda': 0.002711813102706435}. Best is trial 4 with value: 0.8574795725958516.\u001b[0m\n",
      "\u001b[32m[I 2022-06-05 20:56:52,769]\u001b[0m Trial 45 finished with value: 0.7900691389063482 and parameters: {'eta': 0.0010677669368003681, 'max_depth': 6, 'booster': 'gbtree', 'lambda': 8.627485349641853e-05}. Best is trial 4 with value: 0.8574795725958516.\u001b[0m\n",
      "\u001b[32m[I 2022-06-05 20:58:03,273]\u001b[0m Trial 46 finished with value: 0.8518227529855437 and parameters: {'eta': 0.6320463550359475, 'max_depth': 5, 'booster': 'gbtree', 'lambda': 0.2557518807155784}. Best is trial 4 with value: 0.8574795725958516.\u001b[0m\n",
      "\u001b[32m[I 2022-06-05 20:59:39,370]\u001b[0m Trial 47 finished with value: 0.852294154619736 and parameters: {'eta': 0.28918810407533047, 'max_depth': 7, 'booster': 'gbtree', 'lambda': 1.25997578792415e-06}. Best is trial 4 with value: 0.8574795725958516.\u001b[0m\n",
      "\u001b[32m[I 2022-06-05 21:01:03,675]\u001b[0m Trial 48 finished with value: 0.8544940289126336 and parameters: {'eta': 0.18612603345676343, 'max_depth': 6, 'booster': 'gbtree', 'lambda': 3.681403782314274e-05}. Best is trial 4 with value: 0.8574795725958516.\u001b[0m\n",
      "\u001b[32m[I 2022-06-05 21:03:13,365]\u001b[0m Trial 49 finished with value: 0.8174104336895035 and parameters: {'eta': 0.0017013318019653437, 'max_depth': 8, 'booster': 'gbtree', 'lambda': 1.6213956486225825e-08}. Best is trial 4 with value: 0.8574795725958516.\u001b[0m\n"
     ]
    }
   ],
   "source": [
    "xgb_tfidf_optimizer = xgb_optimizer(D_train_tfidf, D_val_tfidf, D_test_tfidf, \"XGB TF-IDF Optimzer\")\n",
    "xgb_tfidf_optimizer.optimize(50)\n",
    "xgb_tfidf = xgb_tfidf_optimizer.get_best_model()"
   ]
  },
  {
   "cell_type": "code",
   "execution_count": 46,
   "id": "84b506fe",
   "metadata": {},
   "outputs": [],
   "source": [
    "y_pred_prob = xgb_bow.predict(D_test_bow)\n",
    "y_pred_xgb_bow = np.argmax(y_pred_prob, axis = 1)\n",
    "\n",
    "y_pred_prob = xgb_tfidf.predict(D_test_tfidf)\n",
    "y_pred_xgb_tfidf = np.argmax(y_pred_prob, axis = 1)"
   ]
  },
  {
   "cell_type": "code",
   "execution_count": 47,
   "id": "1d520fed",
   "metadata": {
    "scrolled": false
   },
   "outputs": [
    {
     "name": "stdout",
     "output_type": "stream",
     "text": [
      "BOW Embedding Classification Report\n",
      "Model Accuracy: 0.8578592697069425\n",
      "              precision    recall  f1-score   support\n",
      "\n",
      "           0       0.99      0.98      0.98      1186\n",
      "           1       0.99      0.99      0.99      1097\n",
      "           2       0.93      0.86      0.90      1120\n",
      "           3       0.58      0.66      0.62       976\n",
      "           4       0.61      0.61      0.61       811\n",
      "           5       0.97      0.95      0.96      1191\n",
      "\n",
      "    accuracy                           0.86      6381\n",
      "   macro avg       0.85      0.84      0.84      6381\n",
      "weighted avg       0.86      0.86      0.86      6381\n",
      " \n",
      "\n",
      "TFIDF Embedding Classification Report\n",
      "Model Accuracy: 0.8517473750195894\n",
      "              precision    recall  f1-score   support\n",
      "\n",
      "           0       0.99      0.97      0.98      1186\n",
      "           1       1.00      0.99      0.99      1097\n",
      "           2       0.93      0.84      0.88      1120\n",
      "           3       0.57      0.66      0.61       976\n",
      "           4       0.60      0.60      0.60       811\n",
      "           5       0.96      0.94      0.95      1191\n",
      "\n",
      "    accuracy                           0.85      6381\n",
      "   macro avg       0.84      0.83      0.84      6381\n",
      "weighted avg       0.86      0.85      0.86      6381\n",
      " \n",
      "\n"
     ]
    }
   ],
   "source": [
    "print(\"BOW Embedding Classification Report\")\n",
    "print(f\"Model Accuracy: {accuracy(y_test, y_pred_xgb_bow)}\")\n",
    "print(classification_report(y_test, y_pred_xgb_bow), \"\\n\")\n",
    "\n",
    "\n",
    "print(\"TFIDF Embedding Classification Report\")\n",
    "print(f\"Model Accuracy: {accuracy(y_test, y_pred_xgb_tfidf)}\")\n",
    "print(classification_report(y_test, y_pred_xgb_tfidf), \"\\n\")"
   ]
  },
  {
   "cell_type": "code",
   "execution_count": 52,
   "id": "5d4eeabc",
   "metadata": {},
   "outputs": [],
   "source": [
    "xgb_bow.save_model(\"../models/xgb_bow.json\")\n",
    "xgb_tfidf.save_model(\"../models/xgb_tfidf.json\")"
   ]
  },
  {
   "cell_type": "code",
   "execution_count": 56,
   "id": "e48dad3d",
   "metadata": {},
   "outputs": [
    {
     "data": {
      "text/html": [
       "Tracking run with wandb version 0.12.17"
      ],
      "text/plain": [
       "<IPython.core.display.HTML object>"
      ]
     },
     "metadata": {},
     "output_type": "display_data"
    },
    {
     "data": {
      "text/html": [
       "Run data is saved locally in <code>D:\\capstone\\src\\notebooks\\wandb\\run-20220605_211024-gshclqcl</code>"
      ],
      "text/plain": [
       "<IPython.core.display.HTML object>"
      ]
     },
     "metadata": {},
     "output_type": "display_data"
    },
    {
     "data": {
      "text/html": [
       "Syncing run <strong><a href=\"https://wandb.ai/cyberbullying/capstone/runs/gshclqcl\" target=\"_blank\">gallant-sea-9</a></strong> to <a href=\"https://wandb.ai/cyberbullying/capstone\" target=\"_blank\">Weights & Biases</a> (<a href=\"https://wandb.me/run\" target=\"_blank\">docs</a>)<br/>"
      ],
      "text/plain": [
       "<IPython.core.display.HTML object>"
      ]
     },
     "metadata": {},
     "output_type": "display_data"
    }
   ],
   "source": [
    "run = wandb.init(project = \"capstone\")"
   ]
  },
  {
   "cell_type": "code",
   "execution_count": 57,
   "id": "64ce296e",
   "metadata": {},
   "outputs": [
    {
     "name": "stderr",
     "output_type": "stream",
     "text": [
      "\u001b[34m\u001b[1mwandb\u001b[0m: Adding directory to artifact (.\\..\\models)... Done. 0.0s\n"
     ]
    },
    {
     "data": {
      "text/plain": [
       "<wandb.sdk.wandb_artifacts.Artifact at 0x21aacb07940>"
      ]
     },
     "execution_count": 57,
     "metadata": {},
     "output_type": "execute_result"
    }
   ],
   "source": [
    "artifact = wandb.Artifact(\"xgb_models\", type = \"models\")\n",
    "artifact.add_dir(\"../models/\")\n",
    "wandb.log_artifact(artifact)"
   ]
  },
  {
   "cell_type": "code",
   "execution_count": 58,
   "id": "27caa212",
   "metadata": {},
   "outputs": [
    {
     "data": {
      "text/html": [
       "Waiting for W&B process to finish... <strong style=\"color:green\">(success).</strong>"
      ],
      "text/plain": [
       "<IPython.core.display.HTML object>"
      ]
     },
     "metadata": {},
     "output_type": "display_data"
    },
    {
     "data": {
      "application/vnd.jupyter.widget-view+json": {
       "model_id": "",
       "version_major": 2,
       "version_minor": 0
      },
      "text/plain": [
       "VBox(children=(Label(value='4.193 MB of 4.193 MB uploaded (0.000 MB deduped)\\r'), FloatProgress(value=1.0, max…"
      ]
     },
     "metadata": {},
     "output_type": "display_data"
    },
    {
     "data": {
      "text/html": [
       "Synced <strong style=\"color:#cdcd00\">gallant-sea-9</strong>: <a href=\"https://wandb.ai/cyberbullying/capstone/runs/gshclqcl\" target=\"_blank\">https://wandb.ai/cyberbullying/capstone/runs/gshclqcl</a><br/>Synced 6 W&B file(s), 0 media file(s), 2 artifact file(s) and 0 other file(s)"
      ],
      "text/plain": [
       "<IPython.core.display.HTML object>"
      ]
     },
     "metadata": {},
     "output_type": "display_data"
    },
    {
     "data": {
      "text/html": [
       "Find logs at: <code>.\\wandb\\run-20220605_211024-gshclqcl\\logs</code>"
      ],
      "text/plain": [
       "<IPython.core.display.HTML object>"
      ]
     },
     "metadata": {},
     "output_type": "display_data"
    }
   ],
   "source": [
    "wandb.finish()"
   ]
  },
  {
   "cell_type": "code",
   "execution_count": 49,
   "id": "55e37272",
   "metadata": {},
   "outputs": [
    {
     "data": {
      "image/png": "[encoded data removed]",
      "text/plain": [
       "<Figure size 1500x1500 with 1 Axes>"
      ]
     },
     "metadata": {
      "needs_background": "light"
     },
     "output_type": "display_data"
    }
   ],
   "source": [
    "plt.rcParams[\"figure.figsize\"] = [5,5]\n",
    "plt.rcParams[\"figure.dpi\"] = 300\n",
    "\n",
    "fig, ax = plt.subplots()\n",
    "conf_mat = confusion_matrix(y_test, y_pred_xgb_bow)\n",
    "\n",
    "ax.matshow(conf_mat, cmap = \"PuBu\")\n",
    "\n",
    "labels = [\"Age\", \"Ethnicity\", \"Gender\", \"Not\\nCyberbullying\", \"Other\",  \"Religion\",]\n",
    "\n",
    "ax.set_yticks(np.arange(6), labels)\n",
    "ax.set_xticks(np.arange(6), labels)\n",
    "\n",
    "#set minor ticks for grid seperation\n",
    "ax.set_xticks(np.arange(0.5, 5.5, 1), minor=True)\n",
    "ax.set_yticks(np.arange(0.5, 5.5, 1), minor=True)\n",
    "\n",
    "ax.xaxis.set_ticks_position(\"bottom\")\n",
    "\n",
    "#add in labels for numbers \n",
    "for (i, j), z in np.ndenumerate(conf_mat):\n",
    "    if z > 1000: \n",
    "        ax.text(j, i, '{:,}'.format(z), ha='center', va='center', color = \"white\")\n",
    "    else: \n",
    "        ax.text(j, i, '{:,}'.format(z), ha='center', va='center')\n",
    "\n",
    "ax.grid(which=\"minor\")\n",
    "ax.set_ylabel(\"True Labels\")\n",
    "ax.set_xlabel(\"Predicted Labels\")\n",
    "ax.set_title(\"BOW + XGBoost Confusion Matrix\")\n",
    "\n",
    "plt.savefig(\"../../plots/xgb_confmat.png\", bbox_inches = \"tight\")"
   ]
  },
  {
   "cell_type": "markdown",
   "id": "e0c4da68",
   "metadata": {},
   "source": [
    "# Probability Averaging Ensemble \n",
    "\n",
    "While the three models have similar accuracy they may perform differently class by class. With the probability averaging ensemble the three model probabilties per class are averaged before a classification is chosen. "
   ]
  },
  {
   "cell_type": "code",
   "execution_count": 39,
   "id": "9fee555b",
   "metadata": {},
   "outputs": [],
   "source": [
    "#retrain svms to enable probability\n",
    "svm_bow = SVC(max_iter = 10000, C = 0.13422383454969025, probability = True,\n",
    "                kernel = \"linear\").fit(X_train_bow, y_train)\n",
    "\n",
    "svm_tfidf = SVC(max_iter = 10000, C = 0.9384186373383406, probability = True,\n",
    "                kernel = \"linear\").fit(X_train_tfidf, y_train)"
   ]
  },
  {
   "cell_type": "code",
   "execution_count": 82,
   "id": "e774c37a",
   "metadata": {},
   "outputs": [],
   "source": [
    "#bow ensemble \n",
    "avg_probs_bow = np.mean(np.array([\n",
    "        log_reg_bow.predict_proba(X_test_bow),\n",
    "        xgb_bow.predict(D_test_bow),\n",
    "        svm_bow.predict_proba(X_test_bow)]), axis = 0)\n",
    "\n",
    "y_pred_ens_bow = np.argmax(avg_probs_bow, axis = 1)\n",
    "\n",
    "#tfidf ensemble\n",
    "avg_probs_tfidf = np.mean(np.array([\n",
    "        log_reg_tfidf.predict_proba(X_test_tfidf),\n",
    "        xgb_tfidf.predict(D_test_tfidf),\n",
    "        svm_tfidf.predict_proba(X_test_tfidf)]), axis = 0)\n",
    "\n",
    "y_pred_ens_tfidf = np.argmax(avg_probs_tfidf, axis = 1)"
   ]
  },
  {
   "cell_type": "code",
   "execution_count": 83,
   "id": "26489ce5",
   "metadata": {},
   "outputs": [
    {
     "name": "stdout",
     "output_type": "stream",
     "text": [
      "BOW Embedding Classification Report\n",
      "Model Accuracy: 0.8623927472883277\n",
      "              precision    recall  f1-score   support\n",
      "\n",
      "           0       0.59      0.66      0.62       899\n",
      "           1       0.92      0.88      0.90      1083\n",
      "           2       0.95      0.95      0.95      1183\n",
      "           3       0.63      0.61      0.62       744\n",
      "           4       0.98      0.97      0.97      1177\n",
      "           5       0.99      0.98      0.98      1091\n",
      "\n",
      "    accuracy                           0.86      6177\n",
      "   macro avg       0.84      0.84      0.84      6177\n",
      "weighted avg       0.87      0.86      0.86      6177\n",
      " \n",
      "\n",
      "TFIDF Embedding Classification Report\n",
      "Model Accuracy: 0.861583292860612\n",
      "              precision    recall  f1-score   support\n",
      "\n",
      "           0       0.61      0.62      0.61       899\n",
      "           1       0.91      0.88      0.89      1083\n",
      "           2       0.95      0.96      0.95      1183\n",
      "           3       0.63      0.62      0.62       744\n",
      "           4       0.96      0.97      0.97      1177\n",
      "           5       0.98      0.98      0.98      1091\n",
      "\n",
      "    accuracy                           0.86      6177\n",
      "   macro avg       0.84      0.84      0.84      6177\n",
      "weighted avg       0.86      0.86      0.86      6177\n",
      " \n",
      "\n"
     ]
    }
   ],
   "source": [
    "print(\"BOW Embedding Classification Report\")\n",
    "print(f\"Model Accuracy: {accuracy(y_test, y_pred_ens_bow)}\")\n",
    "print(classification_report(y_test, y_pred_ens_bow), \"\\n\")\n",
    "\n",
    "\n",
    "print(\"TFIDF Embedding Classification Report\")\n",
    "print(f\"Model Accuracy: {accuracy(y_test, y_pred_ens_tfidf)}\")\n",
    "print(classification_report(y_test, y_pred_ens_tfidf), \"\\n\")"
   ]
  },
  {
   "cell_type": "code",
   "execution_count": 93,
   "id": "3e9047a1",
   "metadata": {},
   "outputs": [
    {
     "name": "stdout",
     "output_type": "stream",
     "text": [
      "BOW+LR\n",
      "f1:\t0.8313 accuracy:\t0.8527\n",
      "\n",
      "BOW+SVM\n",
      "f1:\t0.8345 accuracy:\t0.8540\n",
      "\n",
      "BOW+XGB\n",
      "f1:\t0.8454 accuracy:\t0.8645\n",
      "\n",
      "TF-IDF+LR\n",
      "f1:\t0.8242 accuracy:\t0.8473\n",
      "\n",
      "TF-IDF+SVM\n",
      "f1:\t0.8361 accuracy:\t0.8575\n",
      "\n",
      "TF-IDF+XGB\n",
      "f1:\t0.8360 accuracy:\t0.8559\n",
      "\n"
     ]
    }
   ],
   "source": [
    "models = [\"BOW+LR\", \"BOW+SVM\", \"BOW+XGB\", \n",
    "          \"TF-IDF+LR\", \"TF-IDF+SVM\", \"TF-IDF+XGB\"]\n",
    "predictions = [y_pred_lr_bow, y_pred_svm_bow, y_pred_xgb_bow, \n",
    "               y_pred_lr_tfidf, y_pred_svm_tfidf, y_pred_xgb_tfidf]\n",
    "\n",
    "for model, y_hat in zip(models, predictions): \n",
    "    print(model)\n",
    "    f1_macro = f1(y_test, y_hat, average=\"macro\")\n",
    "    print(f\"f1:\\t{f1_macro:0.4f}\", f\"accuracy:\\t{accuracy(y_test, y_hat):0.4f}\\n\")\n"
   ]
  }
 ],
 "metadata": {
  "interpreter": {
   "hash": "747f214ecf83b1305cceefba704903bac84d6276413a23dab6d06a484ef806e3"
  },
  "kernelspec": {
   "display_name": "Python 3.8.13 ('cyberbullying')",
   "language": "python",
   "name": "python3"
  },
  "language_info": {
   "codemirror_mode": {
    "name": "ipython",
    "version": 3
   },
   "file_extension": ".py",
   "mimetype": "text/x-python",
   "name": "python",
   "nbconvert_exporter": "python",
   "pygments_lexer": "ipython3",
   "version": "3.8.13"
  }
 },
 "nbformat": 4,
 "nbformat_minor": 5
}
