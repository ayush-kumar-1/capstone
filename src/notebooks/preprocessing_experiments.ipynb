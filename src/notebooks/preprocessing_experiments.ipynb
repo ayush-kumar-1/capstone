{
 "cells": [
  {
   "cell_type": "code",
   "execution_count": 108,
   "id": "65c09657",
   "metadata": {},
   "outputs": [
    {
     "name": "stderr",
     "output_type": "stream",
     "text": [
      "Intel(R) Extension for Scikit-learn* enabled (https://github.com/intel/scikit-learn-intelex)\n"
     ]
    }
   ],
   "source": [
    "import pandas as pd \n",
    "import numpy as np \n",
    "import matplotlib.pyplot as plt \n",
    "import spacy \n",
    "import optuna\n",
    "import xgboost as xgb\n",
    "import re\n",
    "from spacy_langdetect import LanguageDetector\n",
    "from spacy.language import Language\n",
    "\n",
    "import sys; sys.path.insert(0, '../') #adds all the code we've written in src\n",
    "from tqdm.notebook import trange, tqdm\n",
    "from preprocessing import *\n",
    "\n",
    "from sklearnex import patch_sklearn\n",
    "patch_sklearn()\n",
    "\n",
    "from sklearnex.svm import SVC\n",
    "from sklearn.metrics import accuracy_score as accuracy\n",
    "from sklearn.linear_model import LogisticRegression as LR\n",
    "from sklearn.metrics import classification_report \n",
    "from sklearn.metrics import accuracy_score as accuracy\n",
    "from sklearn.model_selection import train_test_split\n",
    "from sklearn.feature_extraction.text import CountVectorizer\n",
    "from sklearn.feature_extraction.text import TfidfTransformer as tfidf\n",
    "from sklearn.preprocessing import MaxAbsScaler"
   ]
  },
  {
   "cell_type": "code",
   "execution_count": 109,
   "id": "1934d01b",
   "metadata": {},
   "outputs": [],
   "source": [
    "@Language.factory('language_detector')\n",
    "def language_detector(nlp, name):\n",
    "    return LanguageDetector()\n",
    "\n",
    "nlp = spacy.load(\"en_core_web_sm\", disable = [\"tagger\", \"parser\", \"attribute_ruler\", \"ner\"])\n",
    "nlp.add_pipe('sentencizer')\n",
    "nlp.add_pipe('language_detector', last=True) #2\n",
    "spacy_tokenizer = nlp.tokenizer\n",
    "docs = nlp.pipe(tweets)"
   ]
  },
  {
   "cell_type": "code",
   "execution_count": 230,
   "id": "8cc6e330",
   "metadata": {},
   "outputs": [
    {
     "data": {
      "text/html": [
       "<div>\n",
       "<style scoped>\n",
       "    .dataframe tbody tr th:only-of-type {\n",
       "        vertical-align: middle;\n",
       "    }\n",
       "\n",
       "    .dataframe tbody tr th {\n",
       "        vertical-align: top;\n",
       "    }\n",
       "\n",
       "    .dataframe thead th {\n",
       "        text-align: right;\n",
       "    }\n",
       "</style>\n",
       "<table border=\"1\" class=\"dataframe\">\n",
       "  <thead>\n",
       "    <tr style=\"text-align: right;\">\n",
       "      <th></th>\n",
       "      <th>tweet_text</th>\n",
       "      <th>cyberbullying_type</th>\n",
       "      <th>lang</th>\n",
       "      <th>score</th>\n",
       "      <th>y</th>\n",
       "    </tr>\n",
       "  </thead>\n",
       "  <tbody>\n",
       "    <tr>\n",
       "      <th>0</th>\n",
       "      <td>In other words #katandandre, your food was cra...</td>\n",
       "      <td>not_cyberbullying</td>\n",
       "      <td>en</td>\n",
       "      <td>0.999999</td>\n",
       "      <td>0</td>\n",
       "    </tr>\n",
       "    <tr>\n",
       "      <th>1</th>\n",
       "      <td>Why is #aussietv so white? #MKR #theblock #ImA...</td>\n",
       "      <td>not_cyberbullying</td>\n",
       "      <td>en</td>\n",
       "      <td>0.999994</td>\n",
       "      <td>0</td>\n",
       "    </tr>\n",
       "    <tr>\n",
       "      <th>2</th>\n",
       "      <td>@XochitlSuckkks a classy whore? Or more red ve...</td>\n",
       "      <td>not_cyberbullying</td>\n",
       "      <td>en</td>\n",
       "      <td>0.999997</td>\n",
       "      <td>0</td>\n",
       "    </tr>\n",
       "    <tr>\n",
       "      <th>3</th>\n",
       "      <td>@Jason_Gio meh. :P  thanks for the heads up, b...</td>\n",
       "      <td>not_cyberbullying</td>\n",
       "      <td>en</td>\n",
       "      <td>0.999996</td>\n",
       "      <td>0</td>\n",
       "    </tr>\n",
       "    <tr>\n",
       "      <th>4</th>\n",
       "      <td>@RudhoeEnglish This is an ISIS account pretend...</td>\n",
       "      <td>not_cyberbullying</td>\n",
       "      <td>en</td>\n",
       "      <td>0.999998</td>\n",
       "      <td>0</td>\n",
       "    </tr>\n",
       "    <tr>\n",
       "      <th>...</th>\n",
       "      <td>...</td>\n",
       "      <td>...</td>\n",
       "      <td>...</td>\n",
       "      <td>...</td>\n",
       "      <td>...</td>\n",
       "    </tr>\n",
       "    <tr>\n",
       "      <th>44615</th>\n",
       "      <td>Black ppl aren't expected to do anything, depe...</td>\n",
       "      <td>ethnicity</td>\n",
       "      <td>en</td>\n",
       "      <td>0.999998</td>\n",
       "      <td>5</td>\n",
       "    </tr>\n",
       "    <tr>\n",
       "      <th>44616</th>\n",
       "      <td>Turner did not withhold his disappointment. Tu...</td>\n",
       "      <td>ethnicity</td>\n",
       "      <td>en</td>\n",
       "      <td>0.999995</td>\n",
       "      <td>5</td>\n",
       "    </tr>\n",
       "    <tr>\n",
       "      <th>44617</th>\n",
       "      <td>I swear to God. This dumb nigger bitch. I have...</td>\n",
       "      <td>ethnicity</td>\n",
       "      <td>en</td>\n",
       "      <td>0.999995</td>\n",
       "      <td>5</td>\n",
       "    </tr>\n",
       "    <tr>\n",
       "      <th>44618</th>\n",
       "      <td>Yea fuck you RT @therealexel: IF YOURE A NIGGE...</td>\n",
       "      <td>ethnicity</td>\n",
       "      <td>en</td>\n",
       "      <td>0.857141</td>\n",
       "      <td>5</td>\n",
       "    </tr>\n",
       "    <tr>\n",
       "      <th>44619</th>\n",
       "      <td>Bro. U gotta chill RT @CHILLShrammy: Dog FUCK ...</td>\n",
       "      <td>ethnicity</td>\n",
       "      <td>en</td>\n",
       "      <td>1.000000</td>\n",
       "      <td>5</td>\n",
       "    </tr>\n",
       "  </tbody>\n",
       "</table>\n",
       "<p>44620 rows × 5 columns</p>\n",
       "</div>"
      ],
      "text/plain": [
       "                                              tweet_text cyberbullying_type  \\\n",
       "0      In other words #katandandre, your food was cra...  not_cyberbullying   \n",
       "1      Why is #aussietv so white? #MKR #theblock #ImA...  not_cyberbullying   \n",
       "2      @XochitlSuckkks a classy whore? Or more red ve...  not_cyberbullying   \n",
       "3      @Jason_Gio meh. :P  thanks for the heads up, b...  not_cyberbullying   \n",
       "4      @RudhoeEnglish This is an ISIS account pretend...  not_cyberbullying   \n",
       "...                                                  ...                ...   \n",
       "44615  Black ppl aren't expected to do anything, depe...          ethnicity   \n",
       "44616  Turner did not withhold his disappointment. Tu...          ethnicity   \n",
       "44617  I swear to God. This dumb nigger bitch. I have...          ethnicity   \n",
       "44618  Yea fuck you RT @therealexel: IF YOURE A NIGGE...          ethnicity   \n",
       "44619  Bro. U gotta chill RT @CHILLShrammy: Dog FUCK ...          ethnicity   \n",
       "\n",
       "      lang     score  y  \n",
       "0       en  0.999999  0  \n",
       "1       en  0.999994  0  \n",
       "2       en  0.999997  0  \n",
       "3       en  0.999996  0  \n",
       "4       en  0.999998  0  \n",
       "...    ...       ... ..  \n",
       "44615   en  0.999998  5  \n",
       "44616   en  0.999995  5  \n",
       "44617   en  0.999995  5  \n",
       "44618   en  0.857141  5  \n",
       "44619   en  1.000000  5  \n",
       "\n",
       "[44620 rows x 5 columns]"
      ]
     },
     "execution_count": 230,
     "metadata": {},
     "output_type": "execute_result"
    }
   ],
   "source": [
    "df = pd.read_csv(\"../../cyberbullying_tweets/tweets_with_lang.csv\", index_col = 0)\n",
    "df_en = df[df.lang == 'en'].copy().reset_index(drop = True)\n",
    "cat_dict = {}\n",
    "for i, type in enumerate(df.cyberbullying_type.unique()):\n",
    "    cat_dict[type] = i \n",
    "    \n",
    "df_en[\"y\"] = df_en.cyberbullying_type.map(cat_dict)\n",
    "df_en"
   ]
  },
  {
   "cell_type": "code",
   "execution_count": 222,
   "id": "0e3a942d",
   "metadata": {},
   "outputs": [],
   "source": [
    "def test_preprocess(X, y):\n",
    "    X_train, X_test, y_train, y_test = train_test_split(X, y, test_size=0.2, random_state=42)\n",
    "\n",
    "    vectorizer = CountVectorizer(tokenizer=word_tokenize, analyzer = 'word', stop_words=None, ngram_range=(1,1), lowercase=False)\n",
    "    vectorizer.fit(X_train)\n",
    "\n",
    "    X_train_bow = vectorizer.transform(X_train)\n",
    "    X_test_bow = vectorizer.transform(X_test)\n",
    "    print(\"Input Dimensionality\")\n",
    "    print(X_train_bow.shape)\n",
    "    print(X_test_bow.shape)\n",
    "    print()\n",
    "\n",
    "    log_reg = LR(max_iter=10000, solver = 'saga', \n",
    "                 multi_class='multinomial').fit(X_train_bow, y_train)\n",
    "    y_pred = log_reg.predict(X_test_bow)\n",
    "    print(\"BOW Embedding Classification Report\")\n",
    "    print(classification_report(y_test, y_pred))\n",
    "    print(accuracy(y_test, y_pred ))\n",
    "    print()\n",
    "\n",
    "    tf_vectorizer = tfidf()\n",
    "    tf_vectorizer.fit(X_train_bow)\n",
    "\n",
    "    X_train_tfidf = tf_vectorizer.transform(X_train_bow)\n",
    "    X_test_tfidf = tf_vectorizer.transform(X_test_bow)\n",
    "\n",
    "    log_reg_tfidf = LR(max_iter=10000, solver = 'saga', \n",
    "                      multi_class='multinomial').fit(X_train_tfidf, y_train)\n",
    "    y_pred_tfidf = log_reg_tfidf.predict(X_test_tfidf)\n",
    "    \n",
    "    print(\"TF-IDF Embedding Classification Report\")\n",
    "    print(classification_report(y_test, y_pred_tfidf))\n",
    "    print(accuracy(y_test, y_pred_tfidf))\n",
    "\n",
    "    \n",
    "# test_preprocess(df_en.tweet_text, df_en.y)"
   ]
  },
  {
   "cell_type": "code",
   "execution_count": 231,
   "id": "0ef1df41",
   "metadata": {},
   "outputs": [
    {
     "name": "stderr",
     "output_type": "stream",
     "text": [
      "C:\\Users\\Ayush\\AppData\\Local\\Temp/ipykernel_65712/477408584.py:19: FutureWarning: The default value of regex will change from True to False in a future version.\n",
      "  return text_arr.str.replace(at_regex, \"@\")\n",
      "C:\\Users\\Ayush\\AppData\\Local\\Temp/ipykernel_65712/477408584.py:15: FutureWarning: The default value of regex will change from True to False in a future version.\n",
      "  return text_arr.str.replace(url_regex, \"@LINK@\")\n"
     ]
    }
   ],
   "source": [
    "#removing @'s\n",
    "def remove_punctuation(text): \n",
    "    my_punct = ['!', '\"', '$', '%', '&', \"'\", '(', ')', '*', '+', ',', '.',\n",
    "           '/', ':', ';', '<', '=', '>', '?', '[', '\\\\', ']', '^', '_', \n",
    "           '`', '{', '|', '}', '~', '»', '«', '“', '”', '#']\n",
    "    punct_pattern = re.compile(\"[\" + re.escape(\"\".join(my_punct)) + \"]\")\n",
    "    return re.sub(punct_pattern, \"\", text) # the \"-\" symbol should remain)\n",
    "\n",
    "def remove_nums(text_arr): \n",
    "    numbers = r\"[0-9]+\"\n",
    "    return text_arr.str.replace(numbers, \"\")\n",
    "\n",
    "def remove_links(text_arr): \n",
    "    url_regex = r\"https?:\\/\\/(www\\.)?[-a-zA-Z0-9@:%._\\+~#=]{1,256}\\.[a-zA-Z0-9()]{1,6}\\b([-a-zA-Z0-9()@:%_\\+.~#?&//=]*)\"\n",
    "    return text_arr.str.replace(url_regex, \"@LINK@\")\n",
    "\n",
    "def replace_ats_with_token(text_arr): \n",
    "    at_regex = r\"@[^\\s]+\"\n",
    "    return text_arr.str.replace(at_regex, \"@\")\n",
    "\n",
    "tweets = df_en.tweet_text.copy()\n",
    "tweets = replace_ats_with_token(tweets)\n",
    "tweets = remove_links(tweets)\n",
    "tweets = to_lowercase(tweets)\n",
    "#tweets = expand_contractions(tweets)\n",
    "tweets = tweets.apply(remove_punctuation)\n",
    "# tweets = remove_emoji(tweets)\n",
    "# tweets = remove_nums(tweets)\n",
    "# tweets = stem_series(tweets)\n",
    "# tweets = lemmatize_series(tweets)\n",
    "\n"
   ]
  },
  {
   "cell_type": "code",
   "execution_count": 157,
   "id": "97b3e9db",
   "metadata": {
    "scrolled": false
   },
   "outputs": [
    {
     "name": "stderr",
     "output_type": "stream",
     "text": [
      "C:\\Users\\Ayush\\.conda\\envs\\nlp\\lib\\site-packages\\sklearn\\feature_extraction\\text.py:516: UserWarning: The parameter 'token_pattern' will not be used since 'tokenizer' is not None'\n",
      "  warnings.warn(\n"
     ]
    },
    {
     "name": "stdout",
     "output_type": "stream",
     "text": [
      "Input Dimensionality\n",
      "(35696, 42873)\n",
      "(8924, 42873)\n",
      "\n",
      "BOW Embedding Classification Report\n",
      "              precision    recall  f1-score   support\n",
      "\n",
      "           0       0.59      0.52      0.56      1399\n",
      "           1       0.90      0.84      0.87      1517\n",
      "           2       0.96      0.94      0.95      1587\n",
      "           3       0.58      0.70      0.63      1364\n",
      "           4       0.97      0.97      0.97      1544\n",
      "           5       0.99      0.98      0.98      1513\n",
      "\n",
      "    accuracy                           0.83      8924\n",
      "   macro avg       0.83      0.83      0.83      8924\n",
      "weighted avg       0.84      0.83      0.84      8924\n",
      "\n",
      "0.8342671447781264\n",
      "\n",
      "TF-IDF Embedding Classification Report\n",
      "              precision    recall  f1-score   support\n",
      "\n",
      "           0       0.63      0.49      0.55      1399\n",
      "           1       0.90      0.83      0.86      1517\n",
      "           2       0.93      0.95      0.94      1587\n",
      "           3       0.58      0.71      0.64      1364\n",
      "           4       0.94      0.98      0.96      1544\n",
      "           5       0.97      0.98      0.98      1513\n",
      "\n",
      "    accuracy                           0.83      8924\n",
      "   macro avg       0.82      0.82      0.82      8924\n",
      "weighted avg       0.83      0.83      0.83      8924\n",
      "\n",
      "0.831353653070372\n"
     ]
    }
   ],
   "source": [
    "test_preprocess(tweets, df_en.y)"
   ]
  },
  {
   "cell_type": "code",
   "execution_count": 232,
   "id": "abb485e8",
   "metadata": {},
   "outputs": [],
   "source": [
    "df_en[\"processed\"] = tweets"
   ]
  },
  {
   "cell_type": "code",
   "execution_count": 233,
   "id": "0ef70d08",
   "metadata": {},
   "outputs": [],
   "source": [
    "df_en[df_en.processed.duplicated()].to_csv(\"../../cyberbullying_tweets/duplicated.csv\")"
   ]
  },
  {
   "cell_type": "code",
   "execution_count": 234,
   "id": "d6afc158",
   "metadata": {},
   "outputs": [
    {
     "data": {
      "text/html": [
       "<div>\n",
       "<style scoped>\n",
       "    .dataframe tbody tr th:only-of-type {\n",
       "        vertical-align: middle;\n",
       "    }\n",
       "\n",
       "    .dataframe tbody tr th {\n",
       "        vertical-align: top;\n",
       "    }\n",
       "\n",
       "    .dataframe thead th {\n",
       "        text-align: right;\n",
       "    }\n",
       "</style>\n",
       "<table border=\"1\" class=\"dataframe\">\n",
       "  <thead>\n",
       "    <tr style=\"text-align: right;\">\n",
       "      <th></th>\n",
       "      <th>tweet_text</th>\n",
       "      <th>lang</th>\n",
       "      <th>score</th>\n",
       "      <th>y</th>\n",
       "      <th>processed</th>\n",
       "    </tr>\n",
       "    <tr>\n",
       "      <th>cyberbullying_type</th>\n",
       "      <th></th>\n",
       "      <th></th>\n",
       "      <th></th>\n",
       "      <th></th>\n",
       "      <th></th>\n",
       "    </tr>\n",
       "  </thead>\n",
       "  <tbody>\n",
       "    <tr>\n",
       "      <th>age</th>\n",
       "      <td>7901</td>\n",
       "      <td>7901</td>\n",
       "      <td>7901</td>\n",
       "      <td>7901</td>\n",
       "      <td>7901</td>\n",
       "    </tr>\n",
       "    <tr>\n",
       "      <th>ethnicity</th>\n",
       "      <td>7323</td>\n",
       "      <td>7323</td>\n",
       "      <td>7323</td>\n",
       "      <td>7323</td>\n",
       "      <td>7323</td>\n",
       "    </tr>\n",
       "    <tr>\n",
       "      <th>gender</th>\n",
       "      <td>7420</td>\n",
       "      <td>7420</td>\n",
       "      <td>7420</td>\n",
       "      <td>7420</td>\n",
       "      <td>7420</td>\n",
       "    </tr>\n",
       "    <tr>\n",
       "      <th>not_cyberbullying</th>\n",
       "      <td>6587</td>\n",
       "      <td>6587</td>\n",
       "      <td>6587</td>\n",
       "      <td>6587</td>\n",
       "      <td>6587</td>\n",
       "    </tr>\n",
       "    <tr>\n",
       "      <th>other_cyberbullying</th>\n",
       "      <td>5580</td>\n",
       "      <td>5580</td>\n",
       "      <td>5580</td>\n",
       "      <td>5580</td>\n",
       "      <td>5580</td>\n",
       "    </tr>\n",
       "    <tr>\n",
       "      <th>religion</th>\n",
       "      <td>7948</td>\n",
       "      <td>7948</td>\n",
       "      <td>7948</td>\n",
       "      <td>7948</td>\n",
       "      <td>7948</td>\n",
       "    </tr>\n",
       "  </tbody>\n",
       "</table>\n",
       "</div>"
      ],
      "text/plain": [
       "                     tweet_text  lang  score     y  processed\n",
       "cyberbullying_type                                           \n",
       "age                        7901  7901   7901  7901       7901\n",
       "ethnicity                  7323  7323   7323  7323       7323\n",
       "gender                     7420  7420   7420  7420       7420\n",
       "not_cyberbullying          6587  6587   6587  6587       6587\n",
       "other_cyberbullying        5580  5580   5580  5580       5580\n",
       "religion                   7948  7948   7948  7948       7948"
      ]
     },
     "execution_count": 234,
     "metadata": {},
     "output_type": "execute_result"
    }
   ],
   "source": [
    "df_unduped = df_en.drop_duplicates(\"processed\").copy()\n",
    "df_unduped.groupby(\"cyberbullying_type\").count()"
   ]
  },
  {
   "cell_type": "code",
   "execution_count": 235,
   "id": "1b94ff5e",
   "metadata": {},
   "outputs": [
    {
     "name": "stderr",
     "output_type": "stream",
     "text": [
      "C:\\Users\\Ayush\\.conda\\envs\\nlp\\lib\\site-packages\\sklearn\\feature_extraction\\text.py:516: UserWarning: The parameter 'token_pattern' will not be used since 'tokenizer' is not None'\n",
      "  warnings.warn(\n"
     ]
    },
    {
     "name": "stdout",
     "output_type": "stream",
     "text": [
      "Input Dimensionality\n",
      "(34207, 43072)\n",
      "(8552, 43072)\n",
      "\n",
      "BOW Embedding Classification Report\n",
      "              precision    recall  f1-score   support\n",
      "\n",
      "           0       0.62      0.65      0.64      1362\n",
      "           1       0.90      0.85      0.87      1495\n",
      "           2       0.96      0.94      0.95      1525\n",
      "           3       0.60      0.63      0.62      1121\n",
      "           4       0.97      0.98      0.97      1566\n",
      "           5       0.98      0.97      0.98      1483\n",
      "\n",
      "    accuracy                           0.85      8552\n",
      "   macro avg       0.84      0.84      0.84      8552\n",
      "weighted avg       0.85      0.85      0.85      8552\n",
      "\n",
      "0.8500935453695042\n",
      "\n",
      "TF-IDF Embedding Classification Report\n",
      "              precision    recall  f1-score   support\n",
      "\n",
      "           0       0.62      0.63      0.62      1362\n",
      "           1       0.90      0.84      0.87      1495\n",
      "           2       0.94      0.95      0.94      1525\n",
      "           3       0.59      0.62      0.61      1121\n",
      "           4       0.96      0.97      0.97      1566\n",
      "           5       0.99      0.97      0.98      1483\n",
      "\n",
      "    accuracy                           0.84      8552\n",
      "   macro avg       0.83      0.83      0.83      8552\n",
      "weighted avg       0.85      0.84      0.85      8552\n",
      "\n",
      "0.8437792329279701\n"
     ]
    }
   ],
   "source": [
    "test_preprocess(df_unduped.processed, df_unduped.y)"
   ]
  },
  {
   "cell_type": "code",
   "execution_count": 236,
   "id": "19c5ac21",
   "metadata": {},
   "outputs": [
    {
     "name": "stderr",
     "output_type": "stream",
     "text": [
      "C:\\Users\\Ayush\\.conda\\envs\\nlp\\lib\\site-packages\\sklearn\\feature_extraction\\text.py:516: UserWarning: The parameter 'token_pattern' will not be used since 'tokenizer' is not None'\n",
      "  warnings.warn(\n"
     ]
    },
    {
     "name": "stdout",
     "output_type": "stream",
     "text": [
      "Input Dimensionality\n",
      "(34207, 65425)\n",
      "(8552, 65425)\n",
      "\n",
      "BOW Embedding Classification Report\n",
      "              precision    recall  f1-score   support\n",
      "\n",
      "           0       0.64      0.66      0.65      1362\n",
      "           1       0.91      0.86      0.88      1495\n",
      "           2       0.95      0.95      0.95      1525\n",
      "           3       0.63      0.67      0.65      1121\n",
      "           4       0.98      0.97      0.97      1566\n",
      "           5       0.98      0.97      0.98      1483\n",
      "\n",
      "    accuracy                           0.86      8552\n",
      "   macro avg       0.85      0.85      0.85      8552\n",
      "weighted avg       0.86      0.86      0.86      8552\n",
      "\n",
      "0.8574602432179607\n",
      "\n",
      "TF-IDF Embedding Classification Report\n",
      "              precision    recall  f1-score   support\n",
      "\n",
      "           0       0.66      0.63      0.64      1362\n",
      "           1       0.89      0.87      0.88      1495\n",
      "           2       0.92      0.96      0.94      1525\n",
      "           3       0.62      0.65      0.64      1121\n",
      "           4       0.96      0.97      0.96      1566\n",
      "           5       0.98      0.97      0.97      1483\n",
      "\n",
      "    accuracy                           0.85      8552\n",
      "   macro avg       0.84      0.84      0.84      8552\n",
      "weighted avg       0.85      0.85      0.85      8552\n",
      "\n",
      "0.85266604303087\n"
     ]
    }
   ],
   "source": [
    "unprocessed_tweets = df_en.tweet_text.copy()\n",
    "test_preprocess(df_unduped.tweet_text, df_unduped.y)"
   ]
  },
  {
   "cell_type": "code",
   "execution_count": 216,
   "id": "3a6ab17d",
   "metadata": {},
   "outputs": [
    {
     "data": {
      "text/html": [
       "<div>\n",
       "<style scoped>\n",
       "    .dataframe tbody tr th:only-of-type {\n",
       "        vertical-align: middle;\n",
       "    }\n",
       "\n",
       "    .dataframe tbody tr th {\n",
       "        vertical-align: top;\n",
       "    }\n",
       "\n",
       "    .dataframe thead th {\n",
       "        text-align: right;\n",
       "    }\n",
       "</style>\n",
       "<table border=\"1\" class=\"dataframe\">\n",
       "  <thead>\n",
       "    <tr style=\"text-align: right;\">\n",
       "      <th></th>\n",
       "      <th>num_ats</th>\n",
       "      <th>score</th>\n",
       "      <th>num_tags</th>\n",
       "      <th>rt</th>\n",
       "    </tr>\n",
       "    <tr>\n",
       "      <th>cyberbullying_type</th>\n",
       "      <th></th>\n",
       "      <th></th>\n",
       "      <th></th>\n",
       "      <th></th>\n",
       "    </tr>\n",
       "  </thead>\n",
       "  <tbody>\n",
       "    <tr>\n",
       "      <th>age</th>\n",
       "      <td>0.065206</td>\n",
       "      <td>0.997388</td>\n",
       "      <td>0.093278</td>\n",
       "      <td>0.197508</td>\n",
       "    </tr>\n",
       "    <tr>\n",
       "      <th>ethnicity</th>\n",
       "      <td>0.611028</td>\n",
       "      <td>0.977364</td>\n",
       "      <td>0.141444</td>\n",
       "      <td>0.131960</td>\n",
       "    </tr>\n",
       "    <tr>\n",
       "      <th>gender</th>\n",
       "      <td>0.570849</td>\n",
       "      <td>0.988996</td>\n",
       "      <td>0.342405</td>\n",
       "      <td>0.179249</td>\n",
       "    </tr>\n",
       "    <tr>\n",
       "      <th>not_cyberbullying</th>\n",
       "      <td>0.780499</td>\n",
       "      <td>0.978211</td>\n",
       "      <td>0.410184</td>\n",
       "      <td>0.121099</td>\n",
       "    </tr>\n",
       "    <tr>\n",
       "      <th>other_cyberbullying</th>\n",
       "      <td>0.860868</td>\n",
       "      <td>0.982929</td>\n",
       "      <td>0.206333</td>\n",
       "      <td>0.122510</td>\n",
       "    </tr>\n",
       "    <tr>\n",
       "      <th>religion</th>\n",
       "      <td>0.519433</td>\n",
       "      <td>0.997447</td>\n",
       "      <td>0.225677</td>\n",
       "      <td>0.379012</td>\n",
       "    </tr>\n",
       "  </tbody>\n",
       "</table>\n",
       "</div>"
      ],
      "text/plain": [
       "                      num_ats     score  num_tags        rt\n",
       "cyberbullying_type                                         \n",
       "age                  0.065206  0.997388  0.093278  0.197508\n",
       "ethnicity            0.611028  0.977364  0.141444  0.131960\n",
       "gender               0.570849  0.988996  0.342405  0.179249\n",
       "not_cyberbullying    0.780499  0.978211  0.410184  0.121099\n",
       "other_cyberbullying  0.860868  0.982929  0.206333  0.122510\n",
       "religion             0.519433  0.997447  0.225677  0.379012"
      ]
     },
     "execution_count": 216,
     "metadata": {},
     "output_type": "execute_result"
    }
   ],
   "source": [
    "def get_number_of_ats(tweet): \n",
    "    at_regex = r\"@\"\n",
    "    ats = re.findall(at_regex, tweet)\n",
    "    return len(ats)\n",
    "\n",
    "def get_number_of_hashtags(tweet): \n",
    "    return len(re.findall(r\"#\", tweet))\n",
    "\n",
    "def is_retweet(tweet): \n",
    "    return len(re.findall(r\"rt\", tweet))\n",
    "\n",
    "df_en[\"num_ats\"] = df_en.tweet_text.apply(lambda row: get_number_of_ats(row))\n",
    "df_en[\"num_tags\"] = df_en.tweet_text.apply(lambda row: get_number_of_hashtags(row))\n",
    "df_en[\"rt\"] = df_en.tweet_text.apply(lambda row: is_retweet(row))\n",
    "\n",
    "cols = [\"cyberbullying_type\", \"num_ats\", \"score\", \"num_tags\", \"rt\"]\n",
    "df_en[cols].groupby(\"cyberbullying_type\").mean()"
   ]
  },
  {
   "cell_type": "code",
   "execution_count": 215,
   "id": "3ede7696",
   "metadata": {},
   "outputs": [
    {
     "name": "stdout",
     "output_type": "stream",
     "text": [
      "1785\n",
      "1314\n"
     ]
    }
   ],
   "source": [
    "lengths = df_en.processed.apply(lambda x: len(x)).apply(lambda x: x <= 20).sum()\n",
    "unduped_lengths = df_unduped.processed.apply(lambda x: len(x)).apply(lambda x: x <= 20).sum()\n",
    "\n",
    "print(lengths)\n",
    "print(unduped_lengths)"
   ]
  },
  {
   "cell_type": "code",
   "execution_count": 205,
   "id": "699e6ab9",
   "metadata": {},
   "outputs": [],
   "source": [
    "X_train, X_test, y_train, y_test = train_test_split(df_unduped.tweet_text, df_unduped.y, test_size=0.15, random_state=42)\n",
    "X_train, X_val, y_train, y_val = train_test_split(X_train, y_train, test_size=0.175, random_state=7 )\n",
    "\n",
    "vectorizer = CountVectorizer(stop_words='english', ngram_range=(1,1))\n",
    "vectorizer.fit(X_train)\n",
    "\n",
    "tf_vectorizer = tfidf()\n",
    "\n",
    "X_train_bow = vectorizer.transform(X_train)\n",
    "X_val_bow = vectorizer.transform(X_val)\n",
    "X_test_bow = vectorizer.transform(X_test)\n",
    "\n",
    "tf_vectorizer.fit(X_train_bow)\n",
    "\n",
    "X_train_tfidf = tf_vectorizer.transform(X_train_bow)\n",
    "X_val_tfidf = tf_vectorizer.transform(X_val_bow)\n",
    "X_test_tfidf = tf_vectorizer.transform(X_test_bow)\n",
    "\n",
    "scaler = MaxAbsScaler()\n",
    "scaler.fit(X_train_tfidf)\n",
    "\n",
    "X_train_tfidf = scaler.transform(X_train_tfidf)\n",
    "X_val_tfidf = scaler.transform(X_val_tfidf)\n",
    "X_test_tfidf = scaler.transform(X_test_tfidf)"
   ]
  },
  {
   "cell_type": "code",
   "execution_count": 144,
   "id": "5eb1f434",
   "metadata": {},
   "outputs": [
    {
     "name": "stdout",
     "output_type": "stream",
     "text": [
      "['horseshit', 'inconsistency', 'timesyou', 'timesup', 'timesofisrael', 'timesiamthankfulforamask', 'timesbut', 'timesaver', 'timesas', 'timezone', 'timers', 'timenotedhtml', 'timely', 'timelinei', 'timeisup', 'timeframe', 'timebecause', 'timcad', 'timbersarmy', 'timbaland', 'timm', 'tikka', 'timmy', 'tii', 'tigrisxxx', 'tighty', 'tightened', 'tighmir', 'tigers', 'tiffydianne', 'tiffsmells', 'tiffalips', 'timonen', 'tienen', 'tiene', 'tiempo', 'tieflings', 'tidies', 'tidal', 'ticsterrorizinghumanitypolicemany', 'tickling', 'tickles', 'timpayton', 'timrigby', 'tichacekwill', 'tice', 'tiburke', 'tibo', 'tiara', 'tian', 'tiaaguwop', 'thâ', 'thz', 'thyself', 'timwisebookclub', 'thwy', 'thwarted', 'thw', 'thursdaymotivation', 'thursdaymorning', 'thunkit', 'thunderfury', 'thundercats', 'thunderball', 'thumbs', 'tinbarka', 'thuglife', 'thuggin', 'thuggerrr', 'thuggatee', 'thugdawg', 'tindakan', 'thucydides', 'ththth', 'ththinkr', 'thth', 'tinfoil', 'thst', 'thse', 'thry', 'thruthfulness', 'thrust', 'throwsintowel', 'tingkat', 'tinha', 'throwin', 'thrower', 'throwdatindabagwow', 'throughthat', 'throughmykyes', 'throughj', 'througg', 'throttle', 'thronesyall', 'thrones', 'throbbing', 'throated', 'tink', 'thrived', 'thristy', 'thrilled', 'thrifted', 'thries', 'thrice', 'thriats', 'tinkertim', 'threshing', 'threlfall', 'threesome', 'threes', 'threeentry', 'threattened', 'threatshate', 'tinpot', 'tinseley', 'tinyaddiction', 'thre', 'thrash', 'thraalvlis', 'tinyteeth', 'thow', 'thousandstepsagain', 'thousandsjesusbuddha', 'tinytwerk', 'tinyurlcomaqewu', 'thoughttt', 'tinyxoxo', 'thoughtquestion', 'thoughtbring', 'tio', 'thoughshit', 'thoughi', 'thots', 'thoto', 'thoso', 'thoseother', 'thorsprovoni', 'thorsennk', 'thoroughly', 'thorough', 'thorlorealadsherewecome', 'tiodecapanegra', 'thooooose', 'thoo', 'thoniggers', 'thongs', 'thong', 'thompson', 'thomen', 'thomassayys', 'thomasmantlo', 'thodakdarkbane', 'tipoff', 'thlnfx', 'thiz', 'thix', 'thisð', 'thiswat', 'thistles', 'thisstrawman', 'thisss', 'thissheeeepllle', 'thisrt', 'thisracism', 'thispussyphat', 'thispretty', 'tipp', 'thismake', 'thisknowing', 'thiskill', 'thiskidbrice', 'thiskevin', 'thisjihad', 'thisit', 'thisiswhyweneedfeminism', 'thisistimramos', 'thisisislam', 'thisisfnw', 'thisiscfc', 'thisidiot', 'thisguytrey', 'thisdudeleo', 'thischick', 'thisbitch', 'thisand', 'thirteen', 'thirdtest', 'thinly', 'tipped', 'thinkprogress', 'thinkpiece', 'thinkingyou', 'thinkingsgod', 'tippers', 'thinki', 'thinkers', 'thinker', 'thinkblueoso', 'thinkaboutit', 'tipping', 'thinhad', 'thingz', 'thingy', 'thingsyoushouldntdo', 'thingswhitepeoplesay', 'thingsthose', 'thingsthatirritateme', 'thingsromneyshouldsaytothenaacp', 'thingsppl', 'thingsiwastoldaboutmyscrewdriver', 'thingsexodus', 'thingsbetterthankatandandre', 'thingmoon', 'thingfan', 'thingdo', 'thinc', 'thiloadamitz', 'thiifany', 'thighing', 'thicking', 'thicketxlegerape', 'thibgs', 'thfoundationdayofmqi', 'theү', 'thezooniverse', 'theyâ', 'tirar', 'theysl', 'theyrejustannoying', 'tire', 'theyneedtogo', 'theylovejayp', 'theyllbeback', 'tiredâ', 'theyestribe', 'theyellowpete', 'tirei', 'theycantcook', 'thewoolerite', 'thewizardofoz', 'thewayoftheid', 'thevoidpocket', 'thevelvetbrick', 'theuppitynegro', 'theu', 'thetrudz', 'thetriviajockey', 'thetokennegro', 'theth', 'thet', 'thesunnewspaper', 'thesulk', 'thestruggle', 'thespypoet', 'thesnowflakeee', 'theslumpgod', 'theslum', 'theshrillest', 'theshaderoom', 'thesethhughes', 'theses', 'thescoop', 'thesaturation', 'thesamuelpriest', 'theroot', 'therock', 'therobotard', 'therm', 'theri', 'thereyou', 'therewwwooowwwww', 'therethey', 'theresounds', 'theresa', 'therere', 'thereof', 'therell', 'thereisnohope', 'therehippocrate', 'theregoty', 'theregoessmoke', 'theregoesniam', 'theregod', 'thereginamom', 'thereforth', 'thereforekilling', 'therecuz', 'therecis', 'therebring', 'therebeltiger', 'therebelheart', 'therealtjorsini', 'therealtaraji', 'therealsumo', 'therealskgnsd', 'therealrae', 'therealmodsquad', 'thereallivefree', 'therealjacquet', 'therealheez', 'therealfattlaff', 'therealexel', 'therealeboue', 'therealbwian', 'therealblogan', 'theraphy', 'theramosheader', 'thequint', 'thequinnspiracys', 'thequinn', 'thepurge', 'thepro', 'thepommies', 'thepoliticalhat', 'thepoliticalcat', 'theperezhilton', 'theoryone', 'theorynot', 'tiro', 'theorize', 'tiss', 'theorey', 'theoretical', 'theonlyjharris', 'theonlyanimal', 'theonion', 'theonemissluu', 'theologically', 'theoliverstone', 'theocrat', 'theo', 'thenpot', 'thenow', 'thenits', 'thenim', 'thenihtgenga', 'thenewschool', 'thenewkidd', 'theneuralblast', 'thenamesbreeyah', 'thenameisjohn', 'themwhat', 'themuslimissue', 'tissue', 'themthey', 'themthen', 'themthe', 'themstill', 'themselvesslitting', 'themselvesall', 'themselve', 'themrscruffles', 'thempreferably', 'themor', 'themoedee', 'themlot', 'themkarma', 'themite', 'themim', 'themikewebster', 'themikelawrence', 'themightytrout', 'themi', 'themfiles', 'thembi', 'themand', 'themamerica', 'thema', 'thelma', 'thelastvigil', 'theladyinblackk', 'thekylagray', 'thekr', 'thekittykat', 'thekillah', 'thekidjr', 'thekiddon', 'thekevinryder', 'thekennarvato', 'thekarami', 'theka', 'thejusticecat', 'thejuliadee', 'thejordonbrown', 'thejordaneers', 'thejoespears', 'thejimcornette', 'theiâ', 'theism', 'theirslike', 'theirannews', 'theinfoislam', 'theimeu', 'theiconbeast', 'thei', 'thehout', 'thehottestjew', 'theholykuran', 'thehobbit', 'thehistorybook', 'thehiredmind', 'thehindu', 'theheraldsun', 'thehausofkuntetoo', 'thehaternation', 'thehairtrapper', 'thegooserf', 'thegirlganghq', 'thegay', 'thegame', 'theg', 'thefuggle', 'thefreakinme', 'theforceawakens', 'thefootballrep', 'thefinal', 'thefeedsbs', 'thefatass', 'thefarahkhan', 'thefanvent', 'thefantasyninja', 'thefactualgamer', 'theenvygap', 'theejeffoconner', 'theeemarati', 'theeeee', 'theeccles', 'theeaglesfan', 'thedudedevin', 'thedryve', 'thedreamishead', 'thedooristhatway', 'thedingojohnson', 'thedemoneyex', 'thedebtlistcom', 'thedebbyryan', 'thedarkcrystalageofresistance', 'thedanishgirl', 'thedanaaddams', 'thedamnmuteki', 'thedailyshow', 'thed', 'thecumiashow', 'thecraftyvetern', 'thecooperative', 'thecondon', 'thecolouredkid', 'thecobsyshow', 'theclituation', 'theckman', 'thechewandvomit', 'thecaseylacey', 'thebut', 'thebritafilter', 'thebreakfastclub', 'thebossjimmbo', 'thebook', 'theboghdady', 'theblaze', 'theblackvoice', 'thebigkahuna', 'thebigfella', 'thebiblelied', 'thebiancadelrio', 'thebeernerd', 'thebaysawesome', 'thebachlorette', 'thebachelorette', 'thebachelorabc', 'tit', 'theaurahz', 'theattrapats', 'theatlanticamputmcontentlater', 'theatened', 'thearkboi', 'thearchers', 'theaprilfool', 'theapgamer', 'theangrysemite', 'theanfieldwrap', 'thealley', 'theagumbert', 'theadrift', 'thea', 'thb', 'thay', 'thaxtonrobin', 'thatwouldbeaviolationoftherestrainingorder', 'thatwednesday', 'thatwe', 'thatuse', 'thattypeofniga', 'thattonyg', 'thatthis', 'thatthey', 'thatthats', 'thattaboylieber', 'thatt', 'thatstheshitidontlike', 'thatssolauren', 'thatspecially', 'thatsmyshit', 'thatshows', 'thatsfunny', 'thatsexyafrican', 'thatsettlesit', 'thatsecond', 'thatsdawg', 'thatsbing', 'titanfall', 'titanic', 'thatpersianguy', 'thatmcgowankid', 'thatmanpalmer', 'thatll', 'thatkidsonya', 'thatjust', 'thatit', 'thati', 'thatgt', 'thatgood', 'thatfems', 'thatfeminism', 'thatdrtomguy', 'thatdont', 'thatdarnwolf', 'thatcountenance', 'thatchers', 'thatcher', 'thatboimitri', 'thatbcoz', 'thatassume', 'thatandromeda', 'thatam', 'thatall', 'thass', 'thareall', 'thankyouuu', 'thankyoutaker', 'thankyoudarululoomdbd', 'thankssss', 'thanksss', 'thankss', 'thanksdaddy', 'thankgodfortheholidays', 'titch', 'tithead', 'titked', 'thanhlachowsky', 'thangtgtgtgtall', 'thang', 'thandiwempofu', 'thanalan', 'thamis', 'thames', 'thali', 'thakeraykumaraswamy', 'thain', 'thaiisroriizxd', 'thae', 'thads', 'thacockykind', 'thabk', 'thaaaat', 'titl', 'tgradous', 'tgmvr', 'tgilmore', 'tggeorgee', 'tgdn', 'tfr', 'tfln', 'titleix', 'tezsofakingfly', 'texto', 'textimg', 'textgram', 'textcall', 'titombowenivideo', 'texasdemocrats', 'titontoton', 'texans', 'tew', 'teukie', 'tetris', 'tethaliona', 'tet', 'testingperfecting', 'testingi', 'testicles', 'testerosterone', 'tester', 'testaments', 'titsybot', 'tess', 'terusan', 'terus', 'tertorist', 'terryocarroll', 'terryjr', 'terrror', 'terrosim', 'terrorstatepakistan', 'terrorsist', 'terrorminded', 'terrorizing', 'terroristwho', 'terroristwe', 'terroristur', 'terroristterrorism', 'terroriststhey', 'terroristspushcrewpowered', 'terroristsmany', 'terroristsisis', 'terroristsfanatics', 'terroristsappeal', 'tittie', 'terroristorganisation', 'terroristnationpakistan', 'terroristjihad', 'terroristjews', 'terroristie', 'terroristics', 'terroristhumanity', 'terroristhe', 'terroristan', 'terroristactivity', 'terrorismwhole', 'terrorismwe', 'terrorismvoilence', 'terrorismviolence', 'terrorismtrump', 'terrorismthey', 'terrorismthen', 'terrorismthat', 'terrorismterrorist', 'terrorismtell', 'terrorismtake', 'terrorismsorry', 'terrorismso', 'terrorismsislamic', 'terrorismshame', 'terrorismpercecution', 'terrorismpakistan', 'terrorismpak', 'terrorismmultiple', 'terrorismmost', 'terrorismmadarsa', 'terrorismlike', 'terrorismjihad', 'terrorismits', 'terrorismisrael', 'terrorismisisalqaida', 'terrorismintolerance', 'terrorismindia', 'terrorismin', 'terrorismhasmazhab', 'terrorisme', 'terrorismcorona', 'terrorismcan', 'terrorismbut', 'terrorismbhagwasafforn', 'terrorismbecause', 'terrorismatleast', 'terrorismand', 'terrorismampy', 'terrorising', 'terrorises', 'terrorised', 'terroris', 'terrorfying', 'terrorcamps', 'territorial', 'terrisom', 'terrioust', 'terriosm', 'terriorists', 'terrifyingð', 'terrifyingly', 'tittykanes', 'tiver', 'terrier', 'tiwaryrajeev', 'tixx', 'terrellowens', 'terrell', 'terraces', 'terpconfessions', 'termssssss', 'tj', 'termo', 'termmmsssssss', 'terminatory', 'termination', 'terminated', 'terminar', 'terminalwk', 'termdumb', 'termampi', 'tjbernasky', 'terima', 'teria', 'teri', 'tereko', 'tepy', 'tephuney', 'teo', 'tenure', 'tents', 'tenths', 'tentacles', 'tensei', 'tennisno', 'tennesseans', 'tennessean', 'tenido', 'tenets', 'tenderness', 'tender', 'tje', 'tenaciousd', 'templesampharassed', 'tjecs', 'tjere', 'templatesfpolitical', 'tempered', 'tempels', 'tempat', 'temma', 'temir', 'temennya', 'telsuiza', 'telstra', 'tellumyumadd', 'tellsthey', 'tjprodigy', 'tellingly', 'tk', 'tkahntas', 'telford', 'televisions', 'tkn', 'telethon', 'teleprompter', 'teleports', 'teleportation', 'telephone', 'telepath', 'telenipara', 'telekinetic', 'telefone', 'tekthemaestro', 'teknomantik', 'tekayfotuwan', 'teixeiramark', 'tehzeeb', 'tehrebound', 'tehran', 'tehgodclan', 'tehdawghouz', 'tegrayscales', 'tefsit', 'teexxiii', 'teesmurf', 'teenyoung', 'teeny', 'teenshalf', 'tlale', 'teenrap', 'teenmom', 'teenagewave', 'tlampfuck', 'tlbrn', 'teem', 'teefing', 'teef', 'teeee', 'teeacakes', 'tlel', 'tedtully', 'tedtba', 'tedious', 'teddysmile', 'teddypiink', 'tlga', 'teckdeck', 'techs', 'technologists', 'technocratic', 'techno', 'technique', 'technicallychallenged', 'tliab', 'technicality', 'techncianhunt', 'tlou', 'teb', 'teatro', 'teasers', 'teasedrejoice', 'teasedcalled', 'tlpchief', 'teas', 'tearsellingboy', 'tlsince', 'tearra', 'tearfully', 'tmadisonx', 'teanna', 'teamzimmerman', 'teamwork', 'teamusajohn', 'teamtrump', 'teamthe', 'teamstrizzcom', 'teamsophy', 'teamskynick', 'teamsilence', 'teamsandhu', 'tml', 'teampakistan', 'teamodoro', 'teamnot', 'teamnigeria', 'teammoli', 'teamlou', 'teamlcpakistan', 'teamjoe', 'teaming', 'teameminem', 'teamed', 'teamdollface', 'teambarackobama', 'teamaobama', 'tmla', 'teacoffee', 'teachs', 'teachoo', 'tmlog', 'tmphpgc', 'teachertwitter', 'teachersstaff', 'teachersprincipals', 'teachersnever', 'tmrw', 'teacherrrrr', 'teachermum', 'teacherbullies', 'tmz', 'teachable', 'tna', 'tnlkeith', 'tdy', 'tdpug', 'tdistjohn', 'tdc', 'tcmunderground', 'tcmparty', 'tchrquotes', 'tchr', 'tcherylt', 'tch', 'tcdsb', 'tcboiwill', 'tbtrill', 'tbt', 'tbrough', 'tbqh', 'tbowditch', 'tboprepsports', 'tbocom', 'tbm', 'tblank', 'tbis', 'tbings', 'tbielawa', 'tbhometeam', 'tnttroll', 'tbe', 'tbc', 'tbandzzpsm', 'tazenator', 'tnwhiskeywoman', 'tayymonnayy', 'tayyip', 'tayraeaye', 'tayo', 'taylortot', 'taylorswift', 'taylors', 'tayloreda', 'taylored', 'taylordriftaway', 'tnx', 'tayeemino', 'tayang', 'tay', 'taxpayers', 'taxonomy', 'taxis', 'taxidrivershow', 'taxi', 'taxeslet', 'taxenuffalready', 'taxdollars', 'taxation', 'tawag', 'taurus', 'tauren', 'tauntsslurs', 'taunte', 'taughtkids', 'tau', 'tatumisd', 'tattooedmimi', 'tattood', 'tattletale', 'tattle', 'tatti', 'tatsncounting', 'tate', 'tatara', 'tat', 'tastycummpies', 'tastesweettay', 'tastedisoreo', 'taslimanasreen', 'tasked', 'tashlee', 'tashie', 'tashajessiejxx', 'tasha', 'tash', 'tasek', 'taseer', 'tasbeeh', 'tarzansavelo', 'tarzans', 'tartcan', 'toasted', 'tarraqueta', 'taro', 'tarnished', 'targetting', 'targetted', 'toastedbaguette', 'toaster', 'toastie', 'tareek', 'tarde', 'tard', 'tarantula', 'taranaburke', 'tobinmaker', 'taraba', 'tar', 'taqyah', 'taqiyah', 'tapping', 'tapety', 'tapete', 'tobyetc', 'taoists', 'tanzer', 'tanygriff', 'tantrums', 'tantrumming', 'tantoo', 'tanto', 'tantheman', 'tante', 'tanpa', 'tanning', 'tanners', 'tanner', 'tannenbaum', 'tanking', 'tanisha', 'taniaprice', 'tango', 'tangled', 'tangible', 'tandem', 'tanach', 'tana', 'tobyrobertbull', 'tamuchck', 'tamuc', 'tamra', 'tampon', 'tammykennon', 'tamimi', 'tamilian', 'tameramowrytwo', 'tameki', 'tame', 'tambourine', 'también', 'tamang', 'tama', 'talwar', 'talveez', 'tallula', 'tallets', 'toc', 'tocesarbrie', 'talkradio', 'talkpay', 'talkn', 'talkingincircles', 'tock', 'todas', 'todayhttpt', 'todayl', 'talisasofie', 'talibn', 'talibans', 'talibanisisboko', 'talibanfats', 'todaymuslims', 'taliawalter', 'talespun', 'talentless', 'todaythere', 'todddlers', 'taleban', 'taleahs', 'toddfriel', 'talcahuano', 'talban', 'talaqislamic', 'talaqfattee', 'talabyad', 'tal', 'takut', 'taksies', 'taklu', 'takingyouhome', 'takfiris', 'takfiri', 'takethat', 'toddlers', 'takers', 'toddval', 'takekeyswhiteribbon', 'takehov', 'takeaminute', 'takeaguess', 'takbeer', 'tak', 'taju', 'tajinderbagga', 'taiyba', 'taints', 'taintpunch', 'taint', 'taimurs', 'taimiisays', 'tails', 'tailor', 'tailgating', 'taibajaish', 'tai', 'tahirulqadri', 'tahirhussainterrorist', 'tahhir', 'tahawi', 'taha', 'tah', 'tagtvcanada', 'taglines', 'tagforlikes', 'tagame', 'tagalog', 'taetaeminnn', 'taenips', 'taekwondo', 'taebrooksteam', 'taebrooks', 'tados', 'tadinhu', 'tadinho', 'tadiiiiiiinha', 'tadashi', 'tadams', 'tacybarbosa', 'tacticsi', 'todoroki', 'tactical', 'tactful', 'tacs', 'tacobell', 'taclassof', 'tacit', 'tacha', 'tabu', 'tabrezansari', 'tabloids', 'tabliqis', 'tabligijamaat', 'tablets', 'tablegi', 'tableeghijamaat', 'tabled', 'tabitharavin', 'tabitha', 'tabitaella', 'tabhi', 'tabariusndacut', 'taapsee', 'taalibjamia', 'toeianimation', 'toeing', 'sí', 'sétima', 'série', 'säpo', 'sás', 'toerag', 'systemized', 'systemdo', 'systamic', 'syrianturkish', 'syrianpernews', 'tofrom', 'syrializer', 'syriaits', 'syriairaqafganpak', 'syriac', 'tofu', 'syonizm', 'synthetic', 'synopsis', 'synonyms', 'synogogue', 'synkami', 'synergy', 'toga', 'syndrevm', 'syndicates', 'syncs', 'syncing', 'synchronization', 'synagog', 'syn', 'symptom', 'sympathizes', 'sympathizers', 'sympathize', 'sympatheties', 'symonedsanders', 'togetheri', 'symbiotic', 'sylvirtongue', 'syers', 'syeoga', 'syedmuhammad', 'syed', 'sydneyyberutti', 'sydneyparkerr', 'sydneylove', 'sydneygirls', 'sydneygaloozis', 'togetherness', 'sydhightower', 'syd', 'syannenicole', 'sxnatra', 'sxm', 'swtor', 'sws', 'swot', 'togetherrr', 'swoon', 'switzerlan', 'swithched', 'switchmanzzz', 'swipe', 'swinton', 'swingset', 'swimmie', 'swiggycares', 'swiftwolf', 'togo', 'swifties', 'togodly', 'swf', 'swers', 'swer', 'swellings', 'swelling', 'sweetkellykiss', 'sweetiepie', 'tohave', 'toiindianews', 'sweeper', 'swedens', 'sweaty', 'sweatshops', 'sweaters', 'swears', 'sweared', 'sweaaaaaarrrrrrr', 'swayam', 'swathe', 'swater', 'swat', 'swarmed', 'swarajyamag', 'swara', 'swapping', 'swapnote', 'swansea', 'swampism', 'swalwell', 'swallowing', 'swagreese', 'swagkriz', 'swaggesz', 'swaggert', 'swaggering', 'swaggadaddy', 'swagdonors', 'swagdaddymaddy', 'swab', 'svt', 'svaradarajan', 'sv', 'suziequemontana', 'suzie', 'suzannestahl', 'suzanneblueblue', 'suvara', 'suuuuuuuumemo', 'sutter', 'sustaintrap', 'sustain', 'suspends', 'toinsinuate', 'susiethejit', 'susie', 'sushmaswaraj', 'sushilulutwitch', 'sushi', 'sushantrajpootsingh', 'susasan', 'susansaundersjz', 'susanrice', 'susanpanoyan', 'susanhaggard', 'susanbrooksin', 'susan', 'susah', 'tokens', 'tokio', 'tokyo', 'surtou', 'surrounding', 'surrogatesstaff', 'surrendering', 'surreal', 'tokyodiamond', 'surprisesurprise', 'surprisedevery', 'tokyozfinest', 'toler', 'surpress', 'surpassed', 'surging', 'surgical', 'tolerable', 'surgeon', 'surfacing', 'surfaces', 'surfaced', 'sureyoure', 'suresies', 'sureashale', 'tolerancia', 'suranie', 'suprisingly', 'suprise', 'supremicists', 'supremely', 'supremaist', 'supremacst', 'tolerates', 'supre', 'supramacy', 'supramacists', 'suppremacist', 'suppr', 'supposenot', 'tolong', 'supportui', 'supportthe', 'tomando', 'tomarrow', 'supportindiefilm', 'supportin', 'supportimg', 'supportfund', 'supportevery', 'tomaspano', 'supportedendorsed', 'tomaz', 'supportbut', 'supportantiterrorbill', 'tomb', 'supplying', 'supplied', 'supplemented', 'supplement', 'suppkrting', 'supperrrrrrr', 'suposed', 'supes', 'superwhodat', 'supervillain', 'supertuesday', 'supertrashbros', 'superthon', 'supersunday', 'superstitions', 'superstar', 'superslaviswife', 'superseded', 'supersaturday', 'superpowers', 'supernena', 'supermodel', 'supermercado', 'supermathskid', 'superlover', 'superiors', 'superiornot', 'superiorityhow', 'tomboysdkes', 'superinteressante', 'superintendentjp', 'tomcatkiefer', 'superfront', 'superfluous', 'supercoon', 'superchristian', 'supercharged', 'superbutterbuns', 'superbowl', 'superbad', 'superb', 'superangiee', 'tomcottonar', 'supah', 'supadupasai', 'sunrise', 'sunnshinee', 'sunnishia', 'sunniqaziboard', 'sunniiin', 'tomfordyce', 'sunnelise', 'sunnahboth', 'tomgara', 'sunlight', 'sunless', 'sunglasses', 'sungjjomg', 'sundsuu', 'tomgibbons', 'tomgreenbean', 'sumthing', 'sumthen', 'sumski', 'sums', 'sumo', 'summy', 'summoned', 'summerreadingchallenge', 'summerheightshigh', 'summerbrennan', 'tomi', 'summarizestatscounterstweetstatshashtagallcountmsum', 'summarize', 'summarise', 'summa', 'sumir', 'tomiccomics', 'tomkinson', 'sumanthraman', 'tommeh', 'sultrasov', 'sultans', 'sultah', 'sullydish', 'sulks', 'sulk', 'suldrew', 'sul', 'sukanya', 'suka', 'sujood', 'suitelifeofstar', 'suited', 'suite', 'suicie', 'suicidou', 'suicideself', 'suicides', 'suiciderascal', 'suicidemental', 'suicidehomicide', 'suicidebomber', 'tommychong', 'tommyjohn', 'suicde', 'suhfix', 'suhailassalafi', 'suggs', 'suggestsceyjexaioijkvqilcjhbgcioijiuzinijeyjubrlxlkijoxmtizmswichjldmlldyizmfscusimnvbwfawqiojindcwmtisimrlcrfawqiojmzntmnzlrearnjdwdmrtbscnjovzjvjuahrhyjqowwg', 'tommypickless', 'tommys', 'sugarshanem', 'sugarcoated', 'sugapeas', 'sufrir', 'sufreram', 'sufren', 'sufis', 'suficiente', 'suffix', 'sufficiently', 'tommysativa', 'sufferer', 'tommyscarr', 'tommyvirtue', 'sufc', 'sues', 'tomo', 'sudhirchaudhry', 'sudhar', 'sudeshamman', 'sudesh', 'sudent', 'sudeep', 'tomorrowor', 'tomorrows', 'sudanese', 'sud', 'suckyuhmuma', 'suckonthis', 'suckonmylips', 'tomregan', 'suckin', 'suckered', 'tomrglass', 'suchhhh', 'suchathingastoomuch', 'sucha', 'sucesso', 'sucessand', 'succinct', 'successseaker', 'successors', 'successor', 'tomtheloud', 'succeeds', 'succ', 'subversive', 'suburbsjust', 'suburbs', 'suburbiiaboy', 'suburbia', 'subuhi', 'subtweets', 'subtweeting', 'subtweet', 'subtraction', 'subtract', 'subtly', 'subtlety', 'subtleasasledgehammer', 'subtitles', 'subtext', 'substerrr', 'substantiallymore', 'substantially', 'substanceor', 'tomwba', 'subsidized', 'subsequent', 'subscriptions', 'subscription', 'subscribelike', 'subreddit', 'subpanallah', 'suboptimal', 'submerge', 'subliminal', 'subjugate', 'subjectislamic', 'tomz', 'subhanallah', 'subhamlawrence', 'subculture', 'subcription', 'subash', 'subaru', 'tomzolisa', 'suas', 'suarezturns', 'suahshuasuah', 'tonadoes', 'tonbelleamour', 'stylist', 'stylinonyu', 'styling', 'styled', 'toner', 'stxystrong', 'stxrryxjoong', 'stux', 'stutteringgiant', 'stutterer', 'stuttered', 'sturnbull', 'sturgeon', 'stupit', 'stupidviciousaggressivedisrespectfuldishonestshamelesslack', 'stupidness', 'stupidly', 'stupidist', 'stupidi', 'stupidhoe', 'stupidheard', 'stupidhate', 'stupidgirls', 'stupidbitch', 'tonesmooth', 'stupi', 'stupendous', 'stunted', 'stunplaygb', 'stunned', 'stung', 'stump', 'stumbling', 'stuip', 'stuggle', 'stufox', 'studyingsmhbully', 'tongs', 'studiously', 'studious', 'studiopierrot', 'tongued', 'studentshttptcoesqgng', 'tongues', 'studentampmarry', 'studentactivism', 'tonightliterally', 'stubb', 'stuartpaget', 'stuartbarron', 'sttephy', 'strutted', 'strung', 'strumpet', 'tonihgt', 'tonkiel', 'structures', 'structural', 'strubbestition', 'tont', 'strongheart', 'tonto', 'tonuge', 'stroller', 'strokes', 'strivr', 'strive', 'striped', 'stringing', 'tonya', 'stright', 'strides', 'strictmachine', 'strictest', 'strewn', 'stressing', 'stressin', 'stresses', 'stresscyber', 'tonyarko', 'strengths', 'tonycdkelly', 'strenght', 'strenfffffff', 'streight', 'streetz', 'streetstarnorbe', 'tonycollinet', 'streetindia', 'streetholy', 'tonyflo', 'streamers', 'streamed', 'streak', 'strays', 'straws', 'tonyhilfiger', 'tooawl', 'strangeronfire', 'strangely', 'toocoolforschool', 'strained', 'straightrepublican', 'straightplus', 'straightening', 'straighten', 'toocoolfortv', 'straddle', 'strachan', 'stoves', 'stourbridge', 'storylines', 'storyit', 'storyfrteens', 'tood', 'storner', 'stormgryphon', 'stormer', 'toodamnawesam', 'storify', 'toogo', 'toohottoohandle', 'stopwhitepeople', 'tooi', 'stopwad', 'stopvisatopaki', 'stopurbannaxals', 'stopur', 'stopthisshame', 'tooif', 'stopredicalislamicterrorism', 'tooit', 'toolazy', 'stoppard', 'stopp', 'stopnfocus', 'stopneo', 'stopmondaytesting', 'stoplying', 'stoplight', 'stopic', 'stopglamorisingrioters', 'stoped', 'stopcyberbullying', 'stopchristiankillings', 'stopbullyingsys', 'toolbag', 'stopbiafraoppressions', 'stopbiafrakillings', 'stopbeingsexist', 'stopalienation', 'toolbar', 'stoopid', 'stooped', 'stoogies', 'toolol', 'stonyshotya', 'toolsexp', 'stonewall', 'toomiz', 'stoner', 'stonepelters', 'stonemirror', 'stonedsmurphy', 'stonedgays', 'stoneage', 'toonami', 'stomps', 'stomped', 'stomached', 'stomachache', 'toooh', 'tooooo', 'stoled', 'toooooelite', 'stoke', 'stoiq', 'stoic', 'stocks', 'stockportmanchester', 'stockings', 'stocker', 'stly', 'stlmulation', 'stlcards', 'stj', 'stitches', 'stis', 'stirrers', 'stirrer', 'stirling', 'stirfryedshana', 'stirfrie', 'stir', 'stipid', 'stints', 'stinks', 'stinking', 'stinkin', 'sting', 'stinabnasty', 'stimulated', 'stillwithher', 'stillwater', 'stillswerve', 'stiller', 'stilled', 'stillaf', 'stilget', 'stilettos', 'stiletto', 'stikes', 'stigmaz', 'stigmatize', 'stifles', 'stifled', 'sticky', 'toooooo', 'stickers', 'sticker', 'toor', 'sthing', 'sthaussiegirl', 'sth', 'stfustfd', 'stfuimtweetinho', 'tooshie', 'stewardship', 'stevieknip', 'steviejohnson', 'steviejbee', 'steviejay', 'steventurnbu', 'stevens', 'stevenmontion', 'stevemarqs', 'stevemarkham', 'stevejewbs', 'toothats', 'steubenville', 'steroids', 'stern', 'sterilization', 'stereotypically', 'toothbrush', 'stereottping', 'stereo', 'toowhat', 'steppe', 'stephmcmahon', 'stephenpyron', 'stephenlawrenceday', 'stephenbarnes', 'toowoomba', 'stephenasmith', 'stephaybabes', 'stephanierevans', 'steph', 'steped', 'toox', 'stench', 'stelllaaa', 'stellar', 'stellacopter', 'steling', 'stekettle', 'steinmeller', 'steffybabyx', 'stefapie', 'stefaniescott', 'steezjoweez', 'steezeyflow', 'steering', 'steelydanalbum', 'steelthunder', 'steeles', 'steelersdepot', 'steelers', 'steelchick', 'stedmanclaire', 'stearing', 'steamworksbaths', 'steampunkkanye', 'steampunk', 'steamgames', 'tooyall', 'topaz', 'topaziosmeraldo', 'steakhouse', 'stdan', 'stbefore', 'staystrong', 'staynasty', 'stayingjust', 'stayinginpower', 'topboy', 'stayhomestaysafe', 'topgear', 'stayclassic', 'topicand', 'staxxfifth', 'staues', 'staudt', 'statutes', 'statute', 'statusesretweetersids', 'statuses', 'topicu', 'statuesww', 'topmodel', 'statslinks', 'statsd', 'statment', 'statler', 'topnewsa', 'statistically', 'topped', 'stathamsapp', 'statessomeones', 'statesman', 'stateskeep', 'stateoftheunion', 'staten', 'toppings', 'topple', 'stateleft', 'statejihad', 'statedemocrats', 'statecorruptjihaddiseasedisasterhumanity', 'stassieebabeyy', 'starwarsfannews', 'starwars', 'starved', 'torbuf', 'startled', 'torcedores', 'startd', 'torchbearer', 'starryjjk', 'starrawassfuck', 'starr', 'starparker', 'starma', 'starius', 'torched', 'stargazecayien', 'stares', 'stareing', 'starclassy', 'starcastic', 'staples', 'staple', 'stanleys', 'stanley', 'stanlee', 'stankin', 'staners', 'stanek', 'standwithsajid', 'torileggett', 'standout', 'standom', 'standoffish', 'torimonique', 'standin', 'standbythebody', 'standby', 'standbut', 'torisoreal', 'standardized', 'stances', 'tormentedbut', 'stancarey', 'stamping', 'stamped', 'stamnt', 'stamford', 'stalls', 'stallion', 'stalkkidnap', 'stalin', 'stale', 'staking', 'tormentora', 'staircase', 'stains', 'staight', 'staging', 'staffs', 'stafford', 'staffed', 'stadro', 'stadiums', 'stacy', 'stackoverflow', 'stackflow', 'stack', 'staceyrenee', 'stacey', 'stacegots', 'stabs', 'stabby', 'stabbings', 'toroloconc', 'torrents', 'stabane', 'torsion', 'staaaaahp', 'tortilla', 'ssushi', 'sssshhh', 'ssn', 'ssiders', 'sshoie', 'ssees', 'ssd', 'tortion', 'ssailormoon', 'srzdsamazonawscomsrzduploadzazangiefbullyingjpg', 'sruhle', 'srtakruger', 'srslyjosh', 'srromeos', 'sript', 'srip', 'srinagar', 'srilankan', 'torts', 'srfernando', 'sreggin', 'sredrow', 'srdios', 'src', 'sramsey', 'squishy', 'squirrelgirl', 'squirrelgerms', 'squirrel', 'squirming', 'squidirun', 'squick', 'squeezinpeaches', 'squeekovic', 'squeeing', 'squeeeeee', 'squeeeee', 'squeak', 'squaw', 'squatter', 'squaring', 'squarely', 'squads', 'tortures', 'sqlite', 'sqaure', 'spydaman', 'spubs', 'spsyco', 'sprytd', 'sprite', 'sprint', 'sprinkling', 'springfield', 'springbreak', 'sprew', 'spree', 'spred', 'spreaker', 'spreadersnot', 'spreadersmuslims', 'sprawled', 'spotter', 'sportsnaytion', 'toryboypierce', 'spoopieme', 'spoonsclass', 'spoonfuls', 'spooky', 'spooks', 'spookedyour', 'spooked', 'spoofing', 'spontaneously', 'torys', 'sponge', 'spokesperson', 'toshs', 'spoilt', 'spoiler', 'spn', 'spluff', 'splitsider', 'splints', 'splinter', 'splendid', 'splcenter', 'spking', 'spj', 'spivonomist', 'spittoon', 'spittin', 'toshutup', 'spirituals', 'spirituality', 'spirits', 'spiritequality', 'spiritbox', 'spiral', 'spinsvixenella', 'spinelessness', 'spinelessly', 'spindle', 'tosser', 'spills', 'spilling', 'spill', 'spiky', 'spikey', 'spikelee', 'spiked', 'spidey', 'spiderman', 'spidergirleddie', 'spicymemes', 'spics', 'spicks', 'spicedixie', 'spi', 'sphe', 'sph', 'tosses', 'spewers', 'spewer', 'sperm', 'tossing', 'spendy', 'tostop', 'tot', 'spencerhynes', 'spence', 'spelt', 'spellshexes', 'spelldumb', 'totalerreinfall', 'speks', 'speitsch', 'speel', 'speeking', 'speedstas', 'speedos', 'speedo', 'speechunconditional', 'totaling', 'sped', 'speculation', 'spectral', 'spectacularly', 'speck', 'specifies', 'specificity', 'totallyamerica', 'specialties', 'specials', 'specialized', 'specialize', 'specialists', 'specialfx', 'totallyneededtobetweeted', 'specgram', 'spearheaded', 'spearhead', 'totalmente', 'tote', 'totems', 'spead', 'speacially', 'speachless', 'spc', 'spazkidind', 'spatula', 'spatchies', 'spatchcocky', 'spasing', 'sparta', 'sparky', 'sparkling', 'sparked', 'sparefor', 'spankdaddy', 'spangnation', 'spammed', 'totez', 'spalding', 'spainballin', 'tothe', 'spaghettiomals', 'spacious', 'spacey', 'spacex', 'spacetime', 'tother', 'spacedcowboy', 'spaced', 'soyour', 'soylent', 'soyallcolored', 'sowhen', 'sowed', 'sovocepelu', 'soviets', 'sovereign', 'souza', 'souumabolinha', 'totoo', 'southenpride', 'southcenter', 'totoong', 'sourpuss', 'sourcessay', 'totp', 'sourcelist', 'sourcefree', 'sourced', 'tottenham', 'souprry', 'souperfan', 'soundscaper', 'totti', 'tottis', 'souly', 'soulxciety', 'soulu', 'soulsone', 'soulmech', 'soulmate', 'soulless', 'souljah', 'souljadaniel', 'soulfully', 'soulfuladonis', 'soulefacts', 'sould', 'touche', 'sotu', 'sot', 'sosueme', 'sosoqueens', 'sosoososos', 'soso', 'soshiszun', 'sosh', 'sorynotsorry', 'sorryprincekaybee', 'sorryitsthetruth', 'sorryit', 'sorryimalex', 'sorryim', 'sorryi', 'sorrycummings', 'sorrybecause', 'touchso', 'sorrrrryyy', 'sorrrrrta', 'sorrisodopelu', 'toufiquekhalidi', 'sororities', 'soriano', 'sorcery', 'sorcererlance', 'sopretty', 'sopranojm', 'sopore', 'sopko', 'sophsalix', 'sophistihips', 'sophisticated', 'sophiaαγία', 'sophiathapa', 'sophiabush', 'soper', 'sooze', 'soososo', 'soootired', 'soooou', 'soooooooooooo', 'sooon', 'soonstay', 'soone', 'toughend', 'soofy', 'soodi', 'sood', 'toughens', 'sonu', 'sonthe', 'sonthapelo', 'sonserina', 'sonofanutcracker', 'sonniejohnson', 'sonnench', 'soniasena', 'soniamalikcrazy', 'soniadeamarques', 'songwriterstarzñ', 'sone', 'sonderjylland', 'sonatasetshy', 'sonamakapoor', 'sonam', 'tourch', 'somuchclass', 'somuch', 'somthing', 'somone', 'somoan', 'somnath', 'somn', 'sommers', 'somma', 'somizi', 'somewhatintellectual', 'somethkng', 'somethingwhitepeoplesay', 'somethingi', 'somethingebooks', 'somestrangefx', 'someshmight', 'someshji', 'somersert', 'someonâ', 'someoneu', 'toure', 'someonepregnancy', 'someonecomeclean', 'someonebelow', 'somekindaboogin', 'somehw', 'somee', 'somebodyâ', 'somebodyhatesya', 'tourmaline', 'somalsarwar', 'somakes', 'somaiya', 'som', 'solyent', 'solves', 'tourney', 'solvated', 'solv', 'solutionone', 'solutionbecause', 'tournys', 'soluable', 'soltero', 'soloing', 'solo', 'solitary', 'solitaire', 'solimões', 'soliemani', 'solider', 'solicitor', 'solestruck', 'soleimani', 'soldierx', 'soldierswho', 'towas', 'towed', 'solariumâ', 'solanki', 'solangeknowles', 'solanas', 'sol', 'sokay', 'sojourners', 'sois', 'soignorant', 'soicytaco', 'soho', 'sohighskylow', 'sohaib', 'soha', 'sogassed', 'sofá', 'sofucknayysian', 'softy', 'softer', 'soften', 'sofsmom', 'sofru', 'sofreu', 'sofres', 'towleroad', 'townhall', 'townhouse', 'sofiawhat', 'sofia', 'sofer', 'sofdalma', 'sofanovelglobal', 'soeasy', 'sodomygay', 'sodomized', 'sodom', 'sodamntrue', 'sodall', 'soda', 'sod', 'socme', 'socksmittens', 'sockphiles', 'socket', 'sockdreams', 'sociopolitical', 'sociopaths', 'sociological', 'sociolinguistic', 'socioeconomic', 'socio', 'townswhere', 'socialpolitical', 'socialmediatrolls', 'socialized', 'socialize', 'socialistmarxist', 'socialistislamists', 'toxickat', 'socialise', 'socialhousing', 'socialentrepreneurs', 'socialabuse', 'toyfill', 'sochte', 'sochne', 'soccerplex', 'soccerdance', 'soccerboy', 'toyindc', 'socallks', 'socalgod', 'socal', 'sobri', 'sobretodo', 'toyota', 'sobrang', 'sobermongeau', 'sobbing', 'soartenser', 'soare', 'toâ', 'soaiai', 'snydercut', 'snyder', 'snwults', 'snwojcik', 'snupe', 'snuff', 'sns', 'snowmanroberts', 'snowman', 'snowie', 'snowfury', 'snowed', 'snowbynight', 'snowboarding', 'snowboard', 'snowballs', 'snowallthetime', 'snotty', 'snorted', 'snorlax', 'snopes', 'snoozeyoulose', 'snooze', 'snooping', 'snooor', 'snook', 'snobs', 'snob', 'snitfit', 'snitching', 'snippets', 'snippet', 'sniperkc', 'sniggering', 'sniffer', 'snickers', 'snickering', 'snicker', 'snick', 'snerpusina', 'sneezes', 'sneering', 'sneekinsneekout', 'sneaky', 'sneaks', 'sneaking', 'sneakiness', 'sneakier', 'sneakernxa', 'sneakerchief', 'sndwill', 'snazzy', 'snarl', 'snarkahol', 'snark', 'snared', 'snapthekidd', 'snaps', 'snapdragon', 'snapbackswagg', 'snadwich', 'sn', 'smwill', 'smut', 'smule', 'smugtown', 'smuggy', 'smugglymcweed', 'tpd', 'smua', 'smthing', 'smthg', 'smt', 'smsm', 'sms', 'smrti', 'smritiin', 'smqureshipti', 'smq', 'smpe', 'smp', 'smovies', 'smoovfellow', 'smoovecac', 'smoove', 'smoothstartup', 'smooth', 'smookdawg', 'smooches', 'smollett', 'smollets', 'tpjsix', 'smokinf', 'smokin', 'smokieelodns', 'smokeywater', 'smokerlife', 'smokenmirrors', 'tpkennedyy', 'smockyplocky', 'smm', 'smjahte', 'smiths', 'smithkayt', 'smirks', 'smirking', 'smileyt', 'smileiou', 'smilefortyeight', 'tpm', 'smi', 'smhstp', 'smhracism', 'smhi', 'smgdh', 'tpthompson', 'smexy', 'smethwick', 'smething', 'smert', 'smerican', 'smellkanks', 'smed', 'sme', 'smdhhh', 'smashes', 'smartphones', 'smartphone', 'smartflexin', 'smarterthan', 'tqmm', 'smarted', 'smartat', 'smartass', 'smallman', 'smallindie', 'smalleryounger', 'trabalhar', 'smackwhite', 'smacks', 'smacked', 'trabalhos', 'slycooperton', 'sly', 'slutwalkto', 'trac', 'tracci', 'slurred', 'slurp', 'sluring', 'traceable', 'slung', 'slumdogg', 'slum', 'slowgun', 'slowest', 'slowed', 'slowclap', 'traces', 'slouchy', 'slouched', 'slot', 'slore', 'slop', 'slomo', 'slog', 'slob', 'sloanehowell', 'slmnelmaghrbi', 'slits', 'slips', 'slipping', 'slippers', 'slipknot', 'slinkyslappa', 'slimchaney', 'slimbaeless', 'slights', 'trackcross', 'slickchris', 'slices', 'sliceofslater', 'trackies', 'slenderman', 'slender', 'slef', 'sleezystevie', 'sleezeball', 'sleeveless', 'sleepytime', 'sleepyjirachi', 'sleepyhollow', 'sleepybed', 'sleepy', 'sleeptight', 'sleepin', 'sleazeball', 'sldier', 'slayindemons', 'slavs', 'slavi', 'slavesn', 'slavesi', 'tracksuit', 'slaverycouldnt', 'tractor', 'slaverscaravan', 'slavering', 'slavenout', 'slaved', 'slaughterers', 'tradcaths', 'tradecentre', 'slaught', 'slated', 'slashing', 'slasher', 'slash', 'slapstick', 'slappy', 'tradechat', 'slanging', 'trademark', 'slamming', 'slammer', 'slamic', 'slags', 'slagofftwits', 'slaggynotsassy', 'slagging', 'slaggg', 'sladegoodnough', 'slackonic', 'slacking', 'slaaay', 'skywalker', 'skysportsnewshq', 'skyrocketing', 'skyping', 'skypes', 'skydiving', 'skychad', 'traderkirk', 'skweed', 'skull', 'sksksksksksj', 'sksksksk', 'skskaksksk', 'sksjsjjs', 'sksjsjdjdj', 'skripal', 'skrateup', 'skoomapipe', 'skoogyy', 'skollies', 'skolah', 'skol', 'skl', 'skittles', 'skittleelena', 'skits', 'skis', 'skippy', 'skippeddidnt', 'skinnychesta', 'trades', 'tradetariff', 'skingmike', 'sking', 'tradie', 'skimming', 'skiln', 'skillzfrom', 'skillsplease', 'skilled', 'skiing', 'skewer', 'skewed', 'sketches', 'skepticism', 'skeptic', 'skepta', 'skeppyextra', 'skeoviengthong', 'skeleton', 'skeleta', 'skelator', 'skeet', 'skeemsaam', 'skdjdkdj', 'skdbskbd', 'skategurldee', 'skata', 'skase', 'skarang', 'skankkat', 'skam', 'skaduna', 'ska', 'sjwreptilian', 'sjvanterpool', 'sjtoplin', 'sjneo', 'sizwedhlomo', 'sized', 'sizeauthority', 'trads', 'sizable', 'sixuzuhka', 'sixteendigits', 'sixshambles', 'traethompson', 'situational', 'situated', 'situ', 'sitters', 'sitonthisdick', 'sitaramyechury', 'sitamaa', 'sita', 'sistersnever', 'sisterlt', 'traill', 'sissyboy', 'sissis', 'sissies', 'sisshintaa', 'sisolack', 'sismawi', 'sisd', 'trails', 'sirva', 'siru', 'sirripnsip', 'sirmikecrayton', 'sirmaam', 'sirlummox', 'siriuslyyellow', 'siriuslyamazin', 'siriusjay', 'siribarren', 'trainees', 'sirf', 'sire', 'trainer', 'sirajofficial', 'sira', 'trainers', 'sipidkiller', 'sipid', 'sip', 'siobhanrooney', 'sioa', 'sino', 'sinner', 'trainin', 'sinja', 'sinistro', 'sinisini', 'sinisend', 'singularity', 'singto', 'sings', 'trainings', 'trainingtrainingpeople', 'singhs', 'singers', 'singe', 'singapore', 'singal', 'sindis', 'sindh', 'sincethgrade', 'sincerejayde', 'sincee', 'sinai', 'sinaga', 'trainor', 'simultaniously', 'simulator', 'simulating', 'simstagram', 'simpsonmatt', 'simpsei', 'simplyshamar', 'simplylaurax', 'simplydabest', 'simplybetteram', 'simplify', 'simplicity', 'simplex', 'simplesmente', 'simplemente', 'simonwang', 'simonharley', 'simonefiasco', 'simone', 'simondrewery', 'simole', 'simmonssteve', 'simmering', 'simmerforlife', 'simionds', 'similarities', 'traiter', 'similalry', 'similacrum', 'simicampusheat', 'simboryo', 'simba', 'simarly', 'silêncio', 'silverman', 'silva', 'silobela', 'traitorand', 'silliness', 'silkroadtrial', 'silently', 'silencetolerance', 'silences', 'silahkan', 'sila', 'sikkim', 'sikhspakistan', 'sikhsha', 'sikhata', 'sike', 'siiiiiiigh', 'siiiiigh', 'sihlesiphe', 'tramp', 'significantly', 'trannies', 'significance', 'sightedwhat', 'sighed', 'transcripts', 'sies', 'siento', 'sienchoon', 'siempre', 'siekensou', 'sidnaaz', 'sidistic', 'sidharthshukla', 'sidetrackbar', 'sideswipe', 'sideniggajoel', 'sidemint', 'sidelines', 'sideline', 'sidekick', 'sida', 'sicologico', 'sickpicsever', 'sickos', 'sicko', 'sicknso', 'sicknessthedick', 'sickeven', 'sicker', 'sickens', 'sickened', 'sicken', 'sicide', 'sicced', 'transference', 'sibersong', 'sibeledmonds', 'sibechukcha', 'siarin', 'siarah', 'siapp', 'siapose', 'sialkot', 'shyyy', 'shyster', 'shystee', 'shyness', 'shyly', 'shyguyflyy', 'shutupjeff', 'transfers', 'transfolk', 'shuts', 'shurgs', 'shunga', 'shun', 'shuldnt', 'shuld', 'shukriya', 'shukri', 'shukla', 'shujaiya', 'shuf', 'shuddup', 'shucola', 'shubhammishra', 'shuahsuha', 'shters', 'transformed', 'shsnkaskan', 'shsjsj', 'shrunken', 'shrugs', 'shroedinger', 'shrivel', 'shriners', 'shrinakwal', 'shrillness', 'shrill', 'shreyabafna', 'shrekt', 'shreks', 'shreeya', 'shredding', 'showð', 'showu', 'transformers', 'showpussy', 'showproof', 'showover', 'showoff', 'transforming', 'transforms', 'showin', 'showering', 'transgayrapefeminist', 'showcasing', 'showcases', 'showboat', 'shovved', 'transgeekmovie', 'transgenderlol', 'shouty', 'shoutsony', 'shoutin', 'shoutedrapists', 'transgressed', 'transgressions', 'transgressive', 'transit', 'shouldered', 'shotters', 'shotsor', 'transitioned', 'shosmoove', 'shortweek', 'shortturtle', 'shortstory', 'transitioning', 'shortoftheweek', 'shortness', 'shortly', 'shorthand', 'shorth', 'shortest', 'shortened', 'shortage', 'transitive', 'shorr', 'shoq', 'shopped', 'shoplifting', 'shopblackowned', 'shoottheducks', 'translating', 'shootin', 'shoodars', 'shoobiedoo', 'shondarhimes', 'sholvah', 'shola', 'shohei', 'shoffmanab', 'shoelaces', 'shoelace', 'shodowed', 'shocky', 'shockfems', 'translatorshere', 'transmascs', 'shobak', 'shmoice', 'shmerin', 'shluts', 'shkodran', 'shiying', 'shivsenacomms', 'shivsena', 'shivendushekhar', 'shivaroor', 'shiv', 'shitwhitepeoplesay', 'shitwalker', 'shitur', 'shittygamertakes', 'shittybthing', 'transmen', 'shitttt', 'shittiness', 'shittiest', 'shitter', 'shitte', 'transmuter', 'shitposting', 'shitposter', 'shitpile', 'shitnoonesays', 'shitness', 'shitish', 'shithouses', 'shitholes', 'shitherpessquad', 'shitfuckin', 'shitfuck', 'shitfoh', 'shitecunt', 'shitdick', 'shitdare', 'shitbroadystan', 'shitbags', 'shitbag', 'shitanybody', 'transparency', 'shishani', 'shisha', 'shirya', 'shirtcidsharetwitter', 'transparently', 'shiromani', 'shirleymarmenta', 'shirley', 'shirk', 'shirazmaher', 'ships', 'shiplap', 'shipka', 'shinypb', 'shinier', 'shingal', 'shiner', 'shinee', 'shinada', 'shimrational', 'shimmyfab', 'shimmer', 'shilpi', 'shill', 'shikiirl', 'shikha', 'shikari', 'shikao', 'shiizzzz', 'shiitttttt', 'shiii', 'shii', 'shifu', 'shifty', 'shifts', 'shieldsu', 'shielded', 'shielafrank', 'shian', 'transphobianot', 'shhhread', 'shhhno', 'shhhits', 'shhhhtheyre', 'shhhhlerae', 'shhhhhhhhhhhhhhhhhhhhhhhhhhhhhhhh', 'shhh', 'shhabag', 'shflykkkk', 'shfghsghfghm', 'shez', 'shey', 'shesworthit', 'shesmjbaddd', 'transported', 'sherrieemilie', 'sherpa', 'transpoâ', 'sherlyteng', 'sherlockholmboy', 'sherlock', 'sheriff', 'sherie', 'sheridan', 'transrightsarehumanrights', 'sheree', 'sheratchet', 'sheradelelee', 'sheppard', 'shepnewsteam', 'shepherd', 'shepher', 'shepard', 'shenikaroberts', 'shengal', 'sheneededmusic', 'shenandoah', 'shemekamichele', 'shelve', 'sheltons', 'sheltering', 'transsexual', 'shellyclicks', 'shells', 'transvestite', 'shelbykvia', 'shelbydatgirl', 'shel', 'shekhargupta', 'shekeelajones', 'sheilamatmalam', 'sheila', 'sheikh', 'shehla', 'sheher', 'sheffield', 'sheff', 'sheeter', 'sheeran', 'sheeple', 'sheenvysme', 'sheenaghpugh', 'sheemthehumble', 'sheeeneee', 'shedevil', 'transvestites', 'shebad', 'shearers', 'sheaintd', 'shaziailmi', 'shazia', 'shayyougostaybyhimself', 'shaytat', 'shayshay', 'shayloyt', 'shawttyj', 'shawnreynolds', 'shawnfinchum', 'shawnathadoll', 'shawarma', 'shaw', 'shaves', 'trapgod', 'shavanebandoo', 'shausa', 'shaunnagh', 'shaunacitynews', 'shaun', 'shatterprooff', 'shattering', 'shatrughan', 'shatiyagraham', 'sharzil', 'sharptk', 'sharply', 'sharonpiggott', 'sharonb', 'sharon', 'sharmai', 'sharkyobitch', 'sharkies', 'sharjeel', 'shariromine', 'trappers', 'trapping', 'sharellmariee', 'trappings', 'shareamputmmediumtwitter', 'sharam', 'sharad', 'shaqi', 'trashbitch', 'shapchat', 'shaolin', 'shao', 'shantpriy', 'shanti', 'shannonsharpe', 'shannonmoorer', 'shannonleigh', 'shannonbrown', 'shannnesee', 'shanmcgowan', 'shanleys', 'trashes', 'shanifrr', 'shanicaxoxo', 'shania', 'shanemadden', 'shaneclaiborne', 'trashnymf', 'shandlingutmsourcefeedburneramputmmediumfeedamputmcampaignfeedabreitbartbreitbartnews', 'shanaynayx', 'shamspriest', 'shamshan', 'shammed', 'shamiwiteless', 'shamissmoney', 'shamisomally', 'shamiobserver', 'shamingi', 'trashtalk', 'shameshameshame', 'shamers', 'shameonmodi', 'shameonba', 'shamelessness', 'trashynothing', 'shamedont', 'trata', 'tratar', 'shambolic', 'shambhulal', 'shaman', 'shamampcond', 'shalt', 'shakubras', 'shakhas', 'shakha', 'shakewell', 'shakes', 'shaken', 'shaikhmohdarif', 'shahzadadeindia', 'shahs', 'shahruk', 'shahishtiaque', 'shahid', 'shahfaesal', 'shaheemhbcarter', 'shahbaazkhan', 'shahanamin', 'shaggy', 'shaeamoure', 'shadymumbai', 'shadydelrey', 'shadowpraxis', 'traumática', 'shadi', 'traveled', 'shabudin', 'shabooty', 'shabirburhani', 'shabbath', 'shabazz', 'shabaab', 'shaayde', 'shaabut', 'sgp', 'sggainey', 'sgaletxo', 'sg', 'sfx', 'sfsu', 'sfsqueecast', 'sfmorrigan', 'sfgiants', 'travelled', 'sfetsodj', 'señora', 'señitasdepolanco', 'seâ', 'sexylloydmkr', 'sexylala', 'sexydraco', 'sexyconserv', 'travelling', 'sexxxxyyyyy', 'sexuallising', 'sexualizes', 'sexualityhad', 'travels', 'sexualgayrape', 'sexting', 'sexta', 'sexpathetic', 'sexmoneybagz', 'sexkittenparty', 'sexistutmcampaignvoxamputmcontententryamputmmediumsocialamputmsourcetwitter', 'sexistim', 'sexistgayrape', 'sexistbullying', 'sexistbiggot', 'sexistabusive', 'sexismour', 'sexismcolored', 'sexismchivalry', 'travisbland', 'sexishard', 'sexhonest', 'sexggc', 'sexgayrape', 'sexes', 'sexc', 'sexandrum', 'travisbrown', 'sewed', 'sewageshe', 'sewage', 'severus', 'severed', 'travisdehoppus', 'seventy', 'seventh', 'sevenfoot', 'sevaks', 'seurgnyon', 'seungri', 'settling', 'settlers', 'settings', 'settingespecially', 'travisgutshall', 'setter', 'travisnashh', 'sethmeyers', 'sete', 'setarehgan', 'travolta', 'sesuatu', 'serêkaniyê', 'será', 'travyola', 'servin', 'trawl', 'serverless', 'servely', 'trayvoning', 'servbotmitch', 'servant', 'serously', 'seroovilbrooks', 'trayvonmartin', 'seriosuly', 'serio', 'serieslist', 'treach', 'serials', 'serially', 'serialkellogs', 'treacherous', 'seria', 'sergiovee', 'sergio', 'sergeants', 'sergeantkozi', 'sergeantashley', 'serene', 'serenashim', 'serbs', 'serbiayoure', 'serbiasupport', 'serba', 'sept', 'seplzzzzsecularism', 'seperti', 'seperatist', 'seperating', 'seperated', 'seperate', 'separates', 'treading', 'sepa', 'sep', 'seon', 'senyumsemangat', 'sentoddyoung', 'sentimentsâ', 'sentimental', 'sentient', 'senthomtillis', 'sentencing', 'treadmill', 'treadmills', 'sensor', 'sensitivity', 'sensitivities', 'sensitised', 'sensibly', 'sensibilities', 'senses', 'sensebiden', 'treasures', 'senschumer', 'sensation', 'senpaigaharabot', 'senpai', 'senorandrew', 'senna', 'senmer', 'senmcsallyaz', 'seniorshigh', 'seniorsbullied', 'seniorrataa', 'treasury', 'senhor', 'sengoku', 'senfeinstein', 'senetics', 'treatable', 'sendo', 'treatement', 'sendemocrats', 'treatthe', 'senatorwong', 'senatorbraun', 'treaty', 'senatemajldr', 'senatedems', 'treeslmaooo', 'semo', 'semitist', 'treestheir', 'treezydiditonem', 'semites', 'seminário', 'semifinalist', 'semicolon', 'semanas', 'selwan', 'selonn', 'trelekidd', 'tremendous', 'sellis', 'sellers', 'trenches', 'selhussieny', 'selfxd', 'selfso', 'selfs', 'selfless', 'selfjus', 'trendingtopic', 'selfharm', 'selffucking', 'selfdefense', 'selfcentered', 'trendsettashane', 'selenagomez', 'seleee', 'selectivism', 'selectivehaters', 'selected', 'trentkocke', 'selamat', 'selalu', 'seladon', 'sekiranya', 'sekelas', 'sejarah', 'seized', 'seize', 'seinfield', 'seinfelds', 'seiler', 'seijohgorl', 'seiing', 'sehunnnnnnnnie', 'sehri', 'segundos', 'segunda', 'seguiria', 'segregationist', 'segregating', 'segration', 'segragation', 'segalink', 'segala', 'sefkombo', 'seffyr', 'seeyou', 'seethe', 'seeta', 'seesm', 'seert', 'seerah', 'seenit', 'seenheard', 'seemajain', 'seelampur', 'seekingjannah', 'trevan', 'seekhopeaceful', 'seeby', 'seditious', 'sediqsediqqi', 'seder', 'sedated', 'sed', 'securityrest', 'trevornoah', 'trevorstahl', 'secularyou', 'secularity', 'secularistun', 'secularismwhy', 'trey', 'secularbut', 'treylascott', 'secu', 'sectors', 'sectioned', 'treymays', 'secterial', 'sectarian', 'secstate', 'secs', 'secrets', 'treysanchezsez', 'secretgamergrrl', 'secretabout', 'treysongz', 'secoriea', 'treystakks', 'secondreally', 'secondheadloss', 'tri', 'secnielsen', 'sebkha', 'sebelah', 'sebastienyou', 'sebastienjrm', 'sebastian', 'trials', 'seated', 'seatbelt', 'seatamazingnever', 'triats', 'seasonyr', 'seasonbut', 'seasonal', 'seashell', 'searly', 'tribalism', 'seanschemmels', 'seanschemmel', 'seans', 'seanfsmith', 'seandalehayward', 'seanchapman', 'seanaaitken', 'seales', 'seahawk', 'seagulls', 'seafood', 'seaeph', 'tribunal', 'tribunals', 'sdont', 'sdliveaftermania', 'sddec', 'scwjett', 'scurvy', 'scurtis', 'scunt', 'scumthisdick', 'scummie', 'tribute', 'tricialockwood', 'sculpting', 'scufyy', 'scubasteve', 'scs', 'scruton', 'scrutinise', 'scrupulous', 'scrunchie', 'scrunched', 'scrumhalf', 'scrubs', 'scrubbers', 'scrowder', 'scrolls', 'tricked', 'scritch', 'scriptural', 'tricking', 'screetching', 'screenshotted', 'trickle', 'trickledownscam', 'screens', 'screenplay', 'screengrabs', 'screechdinero', 'screamscape', 'trickster', 'tricky', 'screamin', 'scrawny', 'scratched', 'scraps', 'scrappy', 'scrapes', 'scrape', 'scrap', 'scrambling', 'scrambled', 'scraggs', 'scours', 'scoundrels', 'scottzolak', 'scottyswaggod', 'scottyfommarketing', 'scottsdale', 'scotto', 'scottnofriends', 'scottlucasea', 'scotthallhater', 'scottgreenfield', 'scottforflorida', 'scotteweinberg', 'scottcarasik', 'scottbrown', 'scottbass', 'scotsmiler', 'scorsese', 'scorpioxxx', 'scorpios', 'scorpio', 'scorn', 'trident', 'tridents', 'trife', 'scoreboard', 'scorched', 'scooters', 'scoop', 'scoooterrr', 'scool', 'scooby', 'scolisis', 'scoldjudgebully', 'scoffs', 'scoff', 'scocial', 'scoccimaro', 'scms', 'sclowers', 'sclancey', 'scissorhands', 'scissor', 'scifinerd', 'scifictional', 'trigeño', 'scientifically', 'sciencewillwin', 'scienceuniversal', 'sciences', 'scienceandfaith', 'schwartz', 'schwagbags', 'schultzthey', 'schultz', 'schtick', 'schroeder', 'schorstney', 'schorstnes', 'schorstlayne', 'schoolyoud', 'schoolyear', 'schoolthey', 'schoolthen', 'schoolsreopening', 'schoolsmhnow', 'schoolsalways', 'triggerasaurus', 'schoolretailing', 'schoolplayground', 'schoolofrock', 'schoolnow', 'schoolnone', 'schoolmy', 'schoolmiddle', 'schoollook', 'schoolliterally', 'schoolingthrough', 'schoolim', 'schoolhe', 'schoolground', 'schoolgrade', 'schoolfitting', 'schooleveryone', 'triggeredduring', 'schoolearly', 'schooldo', 'schooldictatorship', 'schooldays', 'schoold', 'schoolcuz', 'schoolcollege', 'schoolcaptain', 'schoolboylq', 'schoolboyb', 'schoolbag', 'schoolb', 'schooland', 'schoolamp', 'schoolah', 'schoo', 'scholl', 'scholarsquran', 'scholarshipscom', 'scholarships', 'scholarshipdiversity', 'scholarshipcomputers', 'triilllwill', 'schmucks', 'schmuck', 'schmiddlebopper', 'schmeezi', 'schlixgawd', 'schlatter', 'schlatt', 'schlafman', 'schinkle', 'schilling', 'schiffs', 'scheming', 'schemers', 'trill', 'schemaly', 'scheer', 'schedules', 'scheduled', 'scheana', 'schadenfruëde', 'schadenfreude', 'schaarons', 'scentsy', 'scent', 'scenarios', 'trillions', 'scattered', 'scats', 'scatological', 'scathing', 'scashriel', 'scaryxx', 'trilllife', 'scarred', 'scarlet', 'scarface', 'scaredy', 'trillsuade', 'scarecam', 'trillxbxtch', 'scarce', 'scaramucci', 'scapegoated', 'scanned', 'scandinavians', 'scan', 'scammers', 'scamfetish', 'scamdemic', 'scalzis', 'scales', 'trilogy', 'scabies', 'trimking', 'sbtanos', 'sbsn', 'sbroph', 'sbrew', 'sblueprint', 'sbhouse', 'sbeitihassib', 'sayymiaa', 'sayy', 'saythese', 'sayswho', 'saysnever', 'saysdont', 'trin', 'saynotoschoolbullies', 'saynotorape', 'saynotoracism', 'saynotonipostfee', 'saynotoislamophobia', 'saynotoantisemitism', 'sayn', 'sayingyoure', 'sayingniggershe', 'sayingniggabut', 'sayinglook', 'sayingjust', 'sayingfuck', 'sayingfreedom', 'sayingacknowledgingdoing', 'trinafancyhuh', 'trinarockstarr', 'sayfudeeen', 'sayeveryone', 'saycollins', 'saybut', 'trinidadjamesgg', 'saxons', 'saxena', 'saww', 'sawsaid', 'saws', 'sawit', 'sawcasm', 'sawarkar', 'sawal', 'triotroublemakers', 'saviour', 'saviors', 'savings', 'tripleceez', 'savetheworld', 'savesoulmate', 'savesanditon', 'saveodaat', 'savemuslimsfromrss', 'savekittykat', 'saveindia', 'savedyouaclick', 'tripled', 'saveasuicide', 'saveahoe', 'triplenigga', 'savants', 'savannuchi', 'savannahsatori', 'savan', 'savagery', 'savagely', 'savaged', 'tripling', 'saul', 'tripn', 'saudigazette', 'saudicastro', 'saudiarabia', 'tripoli', 'saucypickles', 'saucelingo', 'sau', 'saturdaynightconfessions', 'satta', 'satsukitv', 'satricial', 'satori', 'sates', 'satanplss', 'satanically', 'trippingfool', 'saswhodareswins', 'sasunarukawaii', 'sasuke', 'trippypip', 'sassnpearls', 'sassing', 'sassiest', 'sassed', 'saskia', 'sashaerose', 'sasha', 'sartre', 'sarsournihad', 'sarr', 'sarkar', 'sarinhacoral', 'sariaddicted', 'sari', 'sargent', 'sardarji', 'sarcastlcunt', 'sarcastically', 'sarcasshole', 'sarcasms', 'sarcasmo', 'triptych', 'sarcarsten', 'sarashaelewis', 'saraph', 'sarandon', 'saralynch', 'saraj', 'sarai', 'sarahschwartz', 'sarahransley', 'sarahplayfair', 'sarahkendzior', 'sarahkate', 'trisector', 'sarahjane', 'sarahhuckabee', 'sarahhamill', 'sarahbarbosaa', 'sar', 'sapphic', 'sapoes', 'sap', 'sao', 'sanvidhan', 'santos', 'santorum', 'santiago', 'santi', 'santei', 'santamonicapd', 'santafeez', 'santacruztax', 'santacruz', 'sanskriti', 'sansaar', 'sankofatravelhr', 'sankofabrown', 'sankalpsesiddhi', 'sanjaydixit', 'sanjayazadsln', 'sanjay', 'sanity', 'sanitizers', 'sanitized', 'sanitising', 'sanitation', 'sanitary', 'sangis', 'sangi', 'sanghicreatures', 'sanghatan', 'sangharaman', 'sanga', 'sandywhite', 'sandyhook', 'sandyhallett', 'sandy', 'sandwichbut', 'trishsellsatl', 'sandwhich', 'sandusky', 'sandukankanack', 'sandra', 'sandman', 'sandler', 'sanditonpbs', 'sanditon', 'sandeep', 'sandbox', 'sandbenderca', 'sandbardubbed', 'sandals', 'trishuls', 'sanctionsisminternational', 'sanctimoniously', 'sanctifies', 'sanchez', 'sana', 'tristanhonda', 'samy', 'samwisesederman', 'samwisel', 'samuels', 'samuelrobertooo', 'samuelmahoney', 'samuday', 'samtaverna', 'samsmithworld', 'samschulman', 'samples', 'samplers', 'sampler', 'sampled', 'sampaio', 'samoan', 'samne', 'sammytim', 'sammythechink', 'sammyskitchen', 'sammysharples', 'sammyscooking', 'sammylannone', 'sammychampagne', 'samjhayen', 'samjauta', 'samiamhermister', 'samiahrgriff', 'samhuz', 'samharveya', 'samgolbach', 'samgibsoniii', 'samflowerr', 'samethe', 'samerissawi', 'samefor', 'sameexcept', 'sameert', 'sameer', 'sameeeeeeee', 'samebloody', 'samdicas', 'samcough', 'sambuca', 'sambo', 'sambit', 'sambhali', 'samatha', 'samandcolby', 'samajh', 'samaatv', 'tristanparrish', 'salón', 'salías', 'salz', 'salves', 'salvege', 'salve', 'salvaged', 'salvage', 'saludoo', 'saltylemonjuice', 'triste', 'salts', 'saltnpeppa', 'saltnburnem', 'saltine', 'saltball', 'salsa', 'saloon', 'salons', 'tristendevalk', 'salmonfarmer', 'salmonella', 'salmondish', 'salmam', 'salmaa', 'sallystrange', 'sallyquinndc', 'sally', 'sallllt', 'salisbury', 'saline', 'salida', 'salespeople', 'salesmancolored', 'triumphs', 'saleh', 'trivia', 'salat', 'salarioeso', 'salafis', 'sakusa', 'sako', 'sakjkashasjkhsajka', 'sakit', 'sakin', 'sakboyballout', 'trivialise', 'saiyan', 'saiu', 'sairasameeraro', 'saio', 'saintz', 'saintsshes', 'saing', 'sailab', 'saidthere', 'saidthat', 'saids', 'saidrt', 'saidnooneever', 'saidi', 'saidgtgtgtgt', 'trivialises', 'saiacarleton', 'sai', 'sahur', 'sahsm', 'sahi', 'saheeds', 'saheb', 'sahara', 'sahalat', 'sahaba', 'sah', 'sageofsichuan', 'sageofcaution', 'sagegnosis', 'sagedelong', 'sag', 'safya', 'saftly', 'safran', 'safoora', 'trivializationjokes', 'safertohateyou', 'saferreefer', 'trixie', 'safaritahari', 'safari', 'saedsdk', 'sae', 'sadyou', 'sady', 'sadus', 'sadtu', 'sadomasochism', 'sadkxtty', 'sadiqkhan', 'sadik', 'sadia', 'sadhuslynched', 'sadhu', 'sadewillnel', 'sadettin', 'saddos', 'saddled', 'sadder', 'saddens', 'saddened', 'saddendisturbed', 'saddam', 'saddad', 'sadboys', 'sadam', 'troca', 'sacrificing', 'sacrificial', 'troco', 'sacraments', 'sacramento', 'sacralizing', 'sackvegas', 'sacking', 'sackashokswain', 'sachs', 'sachibub', 'sache', 'sacaron', 'sac', 'sabsul', 'sabrinaschick', 'sabri', 'sabres', 'sabotaging', 'sablackwhitecolored', 'sabit', 'sabhi', 'sabendo', 'sabc', 'sabbstreets', 'sabarmati', 'sabarimala', 'sabar', 'sabanaqvi', 'sabaji', 'sabaajmal', 'saavbrianna', 'saandf', 'saab', 'saaadbaigg', 'saa', 'troglodyte', 'ryxwu', 'ryxter', 'ryun', 'ryrybeardguy', 'ryloxify', 'rylandfoster', 'rylak', 'rye', 'rycolganator', 'rycasper', 'ryben', 'ryanwhuck', 'ryantemple', 'ryansorge', 'ryanoutrich', 'ryanlochte', 'ryanlesterlaugo', 'ryanjdoyle', 'ryangowan', 'ryanclevenger', 'ryanbrimble', 'rxppling', 'rws', 'rvikander', 'rvidxrklvn', 'rvawonk', 'rv', 'ruwaydamustafah', 'ruwaybidah', 'ruuuude', 'ruthmather', 'ruthde', 'rustin', 'russias', 'russiareport', 'russianbounty', 'russianasset', 'trolleys', 'trollingyou', 'russelleelliott', 'russa', 'rusplt', 'ruskus', 'rushing', 'rushdie', 'trolljunes', 'rusconcan', 'rus', 'rupertmurdoch', 'rupees', 'rupaulsdragrace', 'rupauls', 'rupaul', 'runyanave', 'runts', 'runtelldatrt', 'trollop', 'runnn', 'runninggt', 'trollpedia', 'runni', 'runner', 'runnaway', 'trollsome', 'tronathon', 'rumored', 'rumblings', 'rumble', 'rumana', 'ruleu', 'ruleofthumbumd', 'ruleidiot', 'tropfest', 'trophies', 'rukm', 'ruizluis', 'ruinedtuskegee', 'rugoingbend', 'rugbyclub', 'rugbybencohen', 'troublemaker', 'ruffelldan', 'rudygiuliani', 'rudolph', 'rudimentary', 'rudeness', 'ruda', 'rucking', 'ruckinandrew', 'trough', 'rubs', 'rubro', 'rubium', 'rubin', 'rubikaliyaquat', 'rubika', 'rubenhe', 'trounces', 'rubberyducky', 'rubberbands', 'ru', 'rtweet', 'rtuknews', 'rtruth', 'rtpig', 'rtoday', 'rti', 'rtgtnigger', 'rtgangsterroristbordersmarxistpolice', 'rtgame', 'rtfav', 'rte', 'rtc', 'rtardpls', 'rtarded', 'rtard', 'rs५', 'rstevens', 'rssu', 'rssterroristorganization', 'rssterrorism', 'rsshumanity', 'troutish', 'rsprasad', 'rspca', 'rsodmaun', 'rsho', 'rsee', 'troux', 'rrubick', 'rriffner', 'rreflectt', 'rrddavao', 'rrangel', 'rq', 'rps', 'rpist', 'rpgsavage', 'rpgpastora', 'rpeltltltltltltltltltltltltltltlt', 'rpeezy', 'rpe', 'royisarsenal', 'royce', 'royalmarine', 'trouxa', 'roxyendjila', 'roxas', 'roxannethinnks', 'rownd', 'rowland', 'rowhtml', 'rowe', 'rowdy', 'troycrazy', 'routines', 'rouser', 'rourkela', 'roundto', 'troymv', 'rounded', 'roundabâ', 'trpgo', 'roughly', 'trrorists', 'rouba', 'rotredrod', 'rotffl', 'rotation', 'rotating', 'rosswilliamknig', 'rossbarnes', 'roshes', 'roshanna', 'roseveleth', 'rosesareswift', 'rosemarys', 'rosegarden', 'rosebuddoll', 'tru', 'rosariochantal', 'rosa', 'roped', 'trubro', 'rooting', 'truckloads', 'roost', 'rooprozay', 'roop', 'roooobbb', 'roomy', 'roomthirteencom', 'roomcouk', 'roofies', 'roofie', 'ronniek', 'ronniegrether', 'ronnie', 'ronndeezy', 'ronitshebson', 'ronin', 'rongg', 'ronda', 'ronaldinho', 'ronald', 'rona', 'ron', 'romstar', 'romper', 'romp', 'romneys', 'romneyryan', 'romneycuz', 'trueachievement', 'rommney', 'rommey', 'romiti', 'romeorakheila', 'romeonedwards', 'romeomiller', 'romeo', 'romcom', 'romas', 'romantics', 'romanticize', 'romantically', 'romanecho', 'romances', 'truealexlambert', 'roma', 'rolândia', 'rollins', 'rollingstone', 'rolliebeenflee', 'rollercoster', 'rollercoaster', 'rollen', 'rollbacks', 'rolivaresh', 'truestorybro', 'roleemodel', 'truetweets', 'rolando', 'roku', 'rojdarabbit', 'truflo', 'rohitchahal', 'rohinisgh', 'rohingyao', 'rohingyacrisis', 'rohinghyas', 'rohangiya', 'rogues', 'roguelynch', 'truishh', 'rognarb', 'rogertenard', 'rogerstone', 'rogersherrer', 'trully', 'rogen', 'rogdrickbuck', 'rogan', 'roethlisberger', 'rodriigomoraees', 'rodrigotoller', 'rodrigo', 'rodgarraud', 'rodeobars', 'rodeo', 'rodents', 'rodeios', 'rodei', 'roddlyspecific', 'rocnateion', 'rockstargames', 'rocksound', 'rocksmithgame', 'rocksmith', 'rocknreelreview', 'rocklin', 'rockintheussa', 'rockferzy', 'rockers', 'rockdots', 'trumpdc', 'rochester', 'rochelleyap', 'rochdale', 'roccopolis', 'rocco', 'roc', 'robux', 'robotwars', 'robmarkman', 'roblynzey', 'robloxcom', 'trumped', 'roblol', 'robinriedstra', 'robfrmda', 'robertmooreitv', 'robertjeffress', 'trumper', 'robdaves', 'robbynv', 'robbiesingh', 'robbierinder', 'robbery', 'robar', 'robanddave', 'roba', 'trumpet', 'roasts', 'roasted', 'roastbustersponytail', 'trumpfailedamerica', 'roaringsoftly', 'roarghmetal', 'roared', 'roam', 'roadsometimes', 'roadshitter', 'roadkill', 'roadfor', 'rnyblacksmile', 'rnrstl', 'rnorienz', 'trumpian', 'rmullane', 'rms', 'rmg', 'rmestridge', 'rmendenhall', 'rmbr', 'rmaed', 'trumpisabully', 'rlm', 'rllystylized', 'trumpisacompletefailure', 'rlj', 'rlfrmllvwr', 'rl', 'rjd', 'rjclifestyle', 'rjbarbosa', 'rizal', 'riz', 'riyaznaikoo', 'riyaaz', 'trumpisalaughingstock', 'riviera', 'riverside', 'riverare', 'trumpiskillingamericans', 'rivals', 'rival', 'rittanybetch', 'ritaslo', 'ritakatz', 'ritacantemail', 'rita', 'rissuh', 'risssrattt', 'risquè', 'rislamic', 'risky', 'risked', 'trumpism', 'rishibagree', 'rishawi', 'rises', 'riseofburnol', 'risen', 'trumpleaks', 'risalat', 'riqhts', 'riptana', 'rippin', 'ripoffkink', 'ripofffetish', 'riotsnotprotests', 'trumplican', 'riotous', 'trumpliesamericansdie', 'riotgames', 'riotfest', 'rioterslinda', 'trumpmeltdown', 'trumpnowmorethanever', 'riosjose', 'rint', 'rinnn', 'rinmakls', 'rinkeat', 'ringwalds', 'ringing', 'trumprussia', 'rindo', 'rindieheads', 'rims', 'rim', 'rileyyz', 'rileysomething', 'rileynixon', 'rileygriffiths', 'rile', 'rikumemes', 'rikkiloney', 'rikers', 'rihnaviii', 'rihannanavyusa', 'rihannaforlife', 'rih', 'rigormortus', 'rigor', 'rigjt', 'rightwrong', 'rightwing', 'rightwhat', 'rightspakistan', 'rightsm', 'rightsince', 'rightscholar', 'rightsa', 'trumprussiacoâ', 'rightonly', 'rightnews', 'rightleft', 'rightist', 'righthand', 'righteously', 'trumpshutdown', 'righ', 'trumpster', 'rift', 'rifle', 'rifftrax', 'rieron', 'ridonkulous', 'trumpsters', 'ridin', 'ridiculously', 'trumpsupporters', 'ridicules', 'trumpswalkaway', 'ridic', 'ridhimatripath', 'ridge', 'trumptards', 'riders', 'rider', 'trumpthere', 'riddle', 'ridding', 'riddance', 'trumptom', 'ricochet', 'rickygee', 'rickles', 'rickkmv', 'rickeysmiley', 'rickeyrayban', 'rickcastellano', 'rickandmorty', 'richpoor', 'richpeopleproblems', 'richpenney', 'richnow', 'richness', 'richly', 'richiemondchang', 'richielhp', 'richieelove', 'richfelker', 'richey', 'richer', 'richdolarz', 'richconnor', 'richchigga', 'richboi', 'richardmeal', 'richardloaf', 'richardiurilli', 'richardgambler', 'trumptrain', 'trumpty', 'ricchyunv', 'ricards', 'ricardos', 'ricardoalemanmx', 'ricardo', 'ricanstg', 'ribsturbation', 'rib', 'riannepageex', 'rialto', 'rialismss', 'rial', 'riahkawaii', 'ri', 'rhys', 'rhymes', 'rhwanda', 'rhum', 'rhoward', 'rhonj', 'rhojreunion', 'rhoj', 'rhode', 'rhoc', 'rhln', 'rhinos', 'rhino', 'rhines', 'rhiannondutton', 'rhee', 'rhea', 'rhe', 'rhat', 'rh', 'rght', 'rgays', 'trumpviruscatastrophe', 'rft', 'trumpyou', 'rfm', 'rfifton', 'rfc', 'rezwan', 'rezpet', 'rezarahman', 'rez', 'reynhard', 'reyes', 'rexmundane', 'rex', 'rewriting', 'rewind', 'rewatching', 'revolved', 'revolve', 'revolutions', 'revolutionary', 'trunks', 'revolted', 'revolt', 'revoked', 'revoke', 'revivalists', 'revitalize', 'revistes', 'revistasuper', 'revisit', 'revisions', 'reviewers', 'reviewed', 'trunp', 'reverts', 'reverting', 'reverted', 'reverenddg', 'reverend', 'trussville', 'reveluvs', 'reveluv', 'revelations', 'revelationlukewarm', 'trustedtrevor', 'revcom', 'revaluation', 'reusing', 'reused', 'reusable', 'reuniting', 'reunites', 'reunited', 'reunionand', 'trustee', 'reughweir', 'reuben', 'reub', 'retweett', 'trusthe', 'trustyjudeau', 'retroo', 'retrievers', 'retriever', 'retribution', 'retracting', 'retract', 'retorted', 'retook', 'retirelook', 'retiredusncapt', 'retconning', 'retartid', 'retardsfckd', 'truthdoe', 'retardo', 'retardgayrapeeating', 'retardedgayfaggot', 'retardedgay', 'retardado', 'retaliates', 'retailing', 'ret', 'resurrection', 'resurfaced', 'resupply', 'truthhaqq', 'truthhurts', 'resturants', 'restrooms', 'restroom', 'restrictive', 'restrictionsyou', 'restricting', 'restrict', 'restraint', 'restoration', 'resto', 'restaurantsover', 'truthi', 'restaurante', 'truthno', 'restarts', 'restartica', 'restaraunt', 'truthr', 'responsáveis', 'responsibly', 'truthshame', 'responsibilities', 'truulyblessed', 'responseintelligence', 'truâ', 'responds', 'truð', 'trvpcocaine', 'respeto', 'respectwomen', 'respectmadougie', 'respectjai', 'respective', 'respectits', 'tryen', 'respectable', 'resource', 'resounding', 'resorts', 'reson', 'resolver', 'resolvee', 'resolvedltlmaoo', 'resolved', 'resolve', 'resolutions', 'resisti', 'resigntrump', 'resigning', 'resignations', 'reshade', 'reserves', 'resentz', 'resents', 'resentful', 'resemble', 'resemblance', 'researchesof', 'researchered', 'tsar', 'rescuing', 'rescuce', 'rescinds', 'rerun', 'rereddit', 'requisito', 'tse', 'requirement', 'tshegoxo', 'tshidilee', 'requiem', 'requestcontext', 'reputations', 'repulsivethe', 'repulsed', 'repubprincess', 'republishing', 'republicrat', 'republicant', 'tshirtomg', 'republicanasshole', 'tsizzzzle', 'tsmy', 'reptar', 'repswalwell', 'tsn', 'reproducing', 'reproduce', 'reprobate', 'reprising', 'reprinting', 'reprimanded', 'reprimand', 'repression', 'repress', 'tsnorway', 'tsnsports', 'tsukkishima', 'tsukkiyama', 'reprehensible', 'reprecussions', 'repr', 'reposting', 'reposted', 'reportrape', 'reportmultiple', 'tsunde', 'reporterfemale', 'reportagem', 'tswift', 'repohdz', 'repmaxinewaters', 'repmartharoby', 'replyx', 'tswifts', 'tszarnev', 'repliesi', 'tteokbokki', 'replicatable', 'replays', 'replaying', 'replacing', 'replaces', 'tthacker', 'repjoeneguse', 'repjayapal', 'rephrase', 'repholding', 'repetitive', 'repetition', 'repercussion', 'repented', 'repentance', 'repelled', 'repeatsuburban', 'ttloverlaura', 'repcummings', 'repaoc', 'repackaged', 'ttrail', 'ttrejuan', 'reoccurring', 'rentif', 'rentacenter', 'tuapuntando', 'renowned', 'renouncing', 'renoomokri', 'renonathan', 'renolace', 'reno', 'renmulligan', 'renjun', 'reng', 'reneerox', 'renearroyoo', 'rencananya', 'renardqueenston', 'renaissancereez', 'renaissance', 'ren', 'remus', 'removes', 'removeitforzayn', 'removeilhan', 'tub', 'tube', 'remiomoyele', 'reminiscing', 'remingtons', 'tuber', 'reminders', 'reminderrich', 'tuck', 'rememer', 'rememberthosedays', 'tucking', 'remembed', 'remedy', 'remedio', 'remedies', 'rematch', 'remarried', 'tuckmyjpp', 'remarkably', 'remakingmanhood', 'remainstoned', 'tudinho', 'remainingjust', 'tudo', 'remainder', 'rem', 'reluctantly', 'reloj', 'reloginho', 'relocated', 'rell', 'relisha', 'relinquish', 'religous', 'religns', 'relignnor', 'religiousfreedom', 'tuf', 'religiosshh', 'religionwhats', 'religionuve', 'religionu', 'religionterrorist', 'religionsbabri', 'tufailelif', 'religionpls', 'religionpeople', 'religionor', 'religionon', 'religionlord', 'religionisnothate', 'religionif', 'religioni', 'religionculture', 'religioncolorsexuality', 'religionclaiming', 'religioncaste', 'religioncan', 'religionbut', 'religionbe', 'religionbasedcrime', 'religionaka', 'religiolizer', 'relig', 'reliever', 'relieved', 'relied', 'relics', 'reliance', 'reliability', 'relgon', 'relevanthttptcozekuxlyt', 'relevancy', 'tug', 'relegates', 'relegated', 'releasethesnydercut', 'tugzgxkwampfeatureshare', 'tuh', 'relação', 'relaying', 'relayed', 'relay', 'relaxing', 'relavent', 'relationsnational', 'tuiteros', 'relational', 'relates', 'relatedamp', 'tuits', 'rekted', 'rekomenfilem', 'rekindles', 'reked', 'rejoices', 'rejection', 'rejectedkidsbooks', 'tulips', 'tullian', 'reiterating', 'reinvented', 'reinvent', 'reinforces', 'reimburse', 'reilly', 'reigion', 'reidlostoof', 'reid', 'reichenbachs', 'rehte', 'rehmatul', 'rehearsed', 'rehearse', 'rehearsal', 'rehash', 'rehabilitation', 'rehab', 'regxb', 'regulatory', 'regulations', 'tulsi', 'regu', 'regs', 'regrouping', 'regrouped', 'regretted', 'regrettably', 'regretsi', 'regression', 'regreso', 'regresara', 'regram', 'registerâ', 'regis', 'regionyou', 'regions', 'regional', 'tumhare', 'regimen', 'tumko', 'reggie', 'regen', 'regaurded', 'tummy', 'tummyback', 'regalos', 'regaining', 'regain', 'reg', 'tumne', 'tumor', 'tump', 'refuring', 'tunchi', 'refuge', 'refsupportuk', 'refsand', 'refrigerators', 'refrigerator', 'refrigeration', 'refreshing', 'refresh', 'refrains', 'reforms', 'reformist', 'reformer', 'reformedbroker', 'reformation', 'tunchie', 'reforestation', 'reflective', 'refining', 'reffing', 'referre', 'refering', 'tunechii', 'referenced', 'tunechiim', 'refered', 'tunee', 'reeve', 'reesy', 'reesonabledoubt', 'reeseneedsahug', 'reesa', 'reenacting', 'reelingjamaican', 'reel', 'reeeeeal', 'reeealbigsean', 'reeducation', 'reeducated', 'reecetaylor', 'reebok', 'ree', 'redundantly', 'reductive', 'reduceinternetprices', 'redtails', 'redstone', 'redskinsjews', 'redskins', 'redscarebot', 'redroom', 'redraw', 'redpilled', 'redone', 'redoblemos', 'rednetsarah', 'rednecked', 'tunery', 'rednation', 'redlining', 'rediscovered', 'redis', 'redirecting', 'redidi', 'redicule', 'tunes', 'redheadrepubs', 'redheadeliza', 'tunesmlkstatues', 'redefining', 'redefines', 'redeemed', 'redeemable', 'reddy', 'reddogroberts', 'redditama', 'redden', 'redd', 'redculous', 'redbrasco', 'redblueswing', 'redblue', 'redação', 'redambition', 'redacteds', 'tunisia', 'recycling', 'recycledtexan', 'recycled', 'recupera', 'recuerdas', 'rectifying', 'rectify', 'recruits', 'recruitment', 'recreate', 'recquirement', 'recourse', 'reconstruct', 'reconsider', 'reconnect', 'recone', 'reconcile', 'recommedned', 'recombine', 'recoiling', 'recoil', 'recognizes', 'recognising', 'reclusive', 'reclassified', 'reclama', 'recklessnprada', 'recites', 'recited', 'recitation', 'reciprocator', 'reciprocated', 'recieve', 'rechecked', 'recession', 'receptionists', 'tupacs', 'recentish', 'tupped', 'receivers', 'receiveing', 'tuq', 'turbo', 'receipt', 'receeding', 'receding', 'recanting', 'turbonigga', 'rebuttal', 'rebuilt', 'rebooting', 'rebooted', 'reboot', 'reblock', 'rebelred', 'rebelling', 'rebeccablacks', 'reaverbait', 'reaur', 'reassuring', 'reassured', 'reasonwhysomeonewouldkillme', 'reasontobe', 'reasonstofollowme', 'turdis', 'reasonifailatbeingagirl', 'reasoncalled', 'reasonas', 'turds', 'turfs', 'rearranged', 'rearmed', 'rearing', 'reapply', 'reaping', 'reamed', 'realzvasiyana', 'realwizkhalifa', 'realtimwilliams', 'realtime', 'realronphillips', 'realpushpendra', 'realpolitidiva', 'realparkerj', 'realnigger', 'realmente', 'realmen', 'reallyyou', 'reallytrained', 'reallyswara', 'reallyrt', 'reallyreally', 'reallycan', 'turing', 'realllll', 'reallilmouse', 'reallidoeee', 'realli', 'realkevinnash', 'realkaynewest', 'realjoeypoirier', 'realjannetty', 'realizó', 'turkestan', 'realiving', 'realityraver', 'realism', 'turkishchristian', 'realign', 'reali', 'realholder', 'realgabbylogan', 'realetybytes', 'realeethough', 'realdonaldtrumps', 'realdonaldtrumpguy', 'realdonaldtrumpa', 'turkmens', 'realdoctorwhite', 'realdealsky', 'realconorjones', 'realcloutlord', 'realcandaceo', 'realbrandonrae', 'realbradstaggs', 'realbencarson', 'realandillusory', 'turko', 'reaks', 'reailty', 'reaffirming', 'readyyyyyyyyyy', 'readytorage', 'turnaround', 'readuuugghh', 'readlisten', 'readinglist', 'readingaprompter', 'turneddddd', 'readiness', 'readin', 'readilyi', 'readhow', 'readable', 'readability', 'turnt', 'reactics', 'turntables', 'turth', 'reaaallly', 'reaaaaaaaaly', 'reaaaaaaaal', 'rds', 'rdly', 'rdj', 'rcrowster', 'rcmp', 'rccghq', 'rcallimachi', 'rbwmamamoo', 'rbut', 'rbrthilliker', 'rbrnet', 'rbreich', 'rbpundit', 'rbot', 'rbdc', 'rbc', 'razónya', 'razão', 'razr', 'razimn', 'razdan', 'razbk', 'razanspeaks', 'razakar', 'raza', 'raz', 'rayshard', 'rayoammar', 'raynicolexo', 'raymondibrahim', 'rayjones', 'rayjbray', 'rayfisher', 'raybush', 'raya', 'tus', 'rawbayy', 'rawaftermania', 'ravishuddinhe', 'ravishkumar', 'raving', 'raviagrawalcnn', 'raverx', 'ravensymone', 'ravendelmuerto', 'raven', 'ravan', 'raunchydance', 'raulnovoa', 'raul', 'ratty', 'rationalmale', 'rationally', 'rationality', 'ratillathehun', 'rathyatra', 'rathee', 'rateds', 'rateand', 'tutu', 'ratchlex', 'ratchetness', 'ratatouille', 'ratansharda', 'tuxdapenguin', 'rassists', 'raspberry', 'rasool', 'rasmea', 'rasm', 'rasing', 'rasin', 'rasikdar', 'rasict', 'rashidatlaibs', 'rashida', 'rashid', 'rash', 'rases', 'rascals', 'rasa', 'tvamphigh', 'rarebloodline', 'tve', 'rara', 'raquellykelly', 'raquelcernuda', 'rapture', 'raptors', 'raps', 'tvlions', 'rapperguydmv', 'rapperand', 'tvlizzie', 'rapped', 'rapmm', 'rapline', 'rapistshttps', 'tvso', 'rapistno', 'tvthey', 'rapism', 'tvthousands', 'rapin', 'rapidly', 'rapid', 'raphip', 'rapewoman', 'rapesuicide', 'rapesexual', 'rapesexistracisthomophobic', 'rapesexistgay', 'rapeselfharmsuicidegay', 'tvunscripted', 'raperacistsexist', 'raperacistgay', 'raperacialgayetc', 'raperacethe', 'raperacefatgay', 'rapepeople', 'rapepedophiliaterrorism', 'rapepedophile', 'rapelynching', 'rapeiswhen', 'rapein', 'rapehtm', 'rapehoax', 'rapegayracist', 'rapegaypoc', 'rapegaymental', 'rapegayincestchild', 'rapegayfeminism', 'rapegaydick', 'rapegayand', 'rapegangrape', 'rapefeminist', 'rapeebolasexistgayracist', 'rapedrew', 'rapedomestic', 'rapedisabledracegay', 'rapedisableddeath', 'tvw', 'rapecrisiseandw', 'rapecosby', 'rapechildmolesting', 'rapebill', 'rapebad', 'rapeassault', 'rapeabusepeople', 'twain', 'raopers', 'rao', 'rantings', 'twancassette', 'rantexplanation', 'twas', 'ransom', 'rannnnyx', 'rankedchoicevoting', 'ranjit', 'twash', 'rangolia', 'rangers', 'ranged', 'rangabdullah', 'randyalvarâ', 'randy', 'randos', 'randomthoughtofthemorning', 'randomhero', 'randomfox', 'randomest', 'rando', 'randles', 'randizzle', 'twatsack', 'twce', 'randall', 'randahabib', 'ranallo', 'tweak', 'rana', 'tweakerbell', 'ramzimort', 'tweaking', 'rampancy', 'rampaging', 'rampage', 'ramos', 'ramoni', 'ramona', 'rammed', 'ramirmilhem', 'ramifications', 'ramdan', 'rambo', 'ramblings', 'rambling', 'ramazan', 'ramayana', 'ramayan', 'ramasamy', 'ramalanetwork', 'ramai', 'ramadi', 'ramadhan', 'tweakmonster', 'ralphtice', 'ralphreject', 'ralphie', 'twee', 'rakkathen', 'raking', 'rakho', 'rakhine', 'rakhe', 'rakha', 'rake', 'rajtarangni', 'rajputs', 'rajjies', 'rajin', 'raje', 'rajastha', 'raj', 'raito', 'tween', 'raiser', 'tweep', 'tweeplast', 'rainy', 'raintees', 'tweetaboutit', 'rails', 'railing', 'railgirl', 'railed', 'raijinpapi', 'raiderbearcat', 'raided', 'rai', 'rahulgandhi', 'rahoge', 'rahman', 'raheem', 'rahay', 'rahain', 'rahafadil', 'ragzouken', 'ragiiiin', 'ragheads', 'raghead', 'raggedy', 'rages', 'rager', 'rageeeeee', 'rageboner', 'rageahooligan', 'rageaholics', 'rafidah', 'raffle', 'raffa', 'rafaeldearizaga', 'rae', 'raducal', 'radleybalko', 'radioyeg', 'radiowavefm', 'radiomoderation', 'radiohead', 'radiodisney', 'tweetcinta', 'radinfadli', 'radicalmuslimterrorist', 'radicalmuslim', 'radically', 'radicalleft', 'radicalism', 'radicalislamistterrorists', 'radicalhearts', 'radicalcommunist', 'radicalcan', 'radiatoryang', 'radiantimageslc', 'radi', 'radfems', 'radfem', 'rades', 'raddy', 'racobaldorich', 'racking', 'racket', 'racistwash', 'racistthe', 'racistterf', 'racistsyou', 'racistssunnis', 'racistsexistnazigaydead', 'racistsexist', 'racistsand', 'racistrape', 'racistpresident', 'racistpedorapegay', 'racistnegro', 'racisthomophobicmisogygnistrape', 'racistes', 'racistdumb', 'racistbullying', 'racistbot', 'racistbigotedetc', 'racistbigoted', 'racistbiggot', 'tweetfunnys', 'racismyall', 'racismthat', 'racismso', 'racismsexismabuse', 'racismsexism', 'racismnot', 'racismmy', 'racismits', 'racismegesprek', 'racismdumb', 'racismcolorism', 'racismantisemitism', 'racismall', 'tweetin', 'racisim', 'racis', 'racing', 'tweetlik', 'racialgayrape', 'tweetlikeafeminist', 'rachesamuel', 'rachelwahlquist', 'rachelshadoan', 'rachellite', 'rachellindfield', 'rachdancey', 'rachaelmanleytb', 'rachael', 'rachada', 'racescarshorsestracketc', 'tweetlikealocal', 'racemidgetgaygimp', 'raceist', 'racehate', 'raced', 'raceculturepubchurch', 'racecard', 'racebait', 'raceand', 'tweetlikekyle', 'rabulmuslameen', 'rabulaalmeen', 'rabiyeel', 'rabies', 'rabidcommunalzombies', 'rabia', 'rabble', 'raawnpp', 'raaj', 'raachel', 'raaaaar', 'qçsaok', 'qwhite', 'qveenbreezy', 'quzohdesigns', 'qurtuba', 'quranwritten', 'quranwhen', 'quranused', 'quranmohammad', 'quranforall', 'qurancited', 'quranand', 'quranamerica', 'tweetme', 'tweetn', 'quotient', 'tweetomg', 'tweetsfrommarc', 'quotations', 'quota', 'quora', 'quizzes', 'quits', 'tweetsmoirod', 'tweetsofyekaaa', 'quismar', 'quirkynerd', 'quirkless', 'quinton', 'quint', 'quinoa', 'tweetsrts', 'quinhodelarosa', 'quincy', 'quiltingmuriel', 'quillam', 'quiksotik', 'quietnice', 'tweetsstop', 'quieres', 'quidasimi', 'quid', 'tweetstatshashtaggamergatementionfreebsdgirloc', 'tweetthatshit', 'quetta', 'questionthe', 'tweetwhy', 'tweetyall', 'questionresearch', 'questionof', 'questionnier', 'questioner', 'tweeâ', 'questio', 'questing', 'ques', 'quería', 'querría', 'queroooo', 'queries', 'queria', 'querer', 'twelvehundred', 'quelling', 'quejen', 'queijo', 'queersqueens', 'queersammy', 'queermurphys', 'queerbaiting', 'twenties', 'queenshnir', 'queenkya', 'queeniness', 'twerk', 'quedara', 'quedan', 'quebrando', 'quebra', 'quease', 'queada', 'quazarnahaishacanada', 'quazar', 'quatro', 'quasi', 'quashing', 'quase', 'quarta', 'quarentine', 'quantumdude', 'quantify', 'quandaries', 'quand', 'qualquer', 'qualification', 'qual', 'quaking', 'quaker', 'quaida', 'quadrupleentendre', 'quadrant', 'quadnigger', 'quadcitypat', 'quad', 'qua', 'qu', 'qtbadd', 'qt', 'qsn', 'qrt', 'qro', 'qnon', 'qnoftherealm', 'qnd', 'qldugh', 'qldbesties', 'qiyamah', 'qg', 'qettin', 'qeida', 'qeerroos', 'qdo', 'qcts', 'qbs', 'qb', 'qaum', 'qasimrashid', 'qarro', 'qaraqawzaq', 'qant', 'qanda', 'qampa', 'qalma', 'qaidah', 'qafirs', 'qafir', 'qaedamuslim', 'twicenever', 'qadri', 'qadhi', 'qadeda', 'públicos', 'pública', 'pésimo', 'pérez', 'pé', 'pzfear', 'python', 'pyladies', 'pyjamas', 'pye', 'py', 'pwr', 'pwi', 'pwers', 'pvt', 'pvping', 'pvlpfiction', 'pvezng', 'pvekpwvg', 'pve', 'puzzles', 'puzzled', 'puy', 'puxxy', 'putâ', 'putzes', 'putz', 'twillback', 'putt', 'twincest', 'putrid', 'putra', 'puto', 'putintrump', 'putinrfeng', 'putinpuppet', 'twinec', 'putemupcdukes', 'pute', 'putanginamoka', 'puta', 'pussyhole', 'pussyasshoe', 'pussyandheroin', 'twinkies', 'pussie', 'pussi', 'puss', 'pushyamitra', 'pushy', 'pushes', 'twinkzfasho', 'pursues', 'pursuer', 'pursued', 'purses', 'purrpals', 'purr', 'purposelyã', 'purposelyflawed', 'purposeless', 'purposeif', 'twinmomsue', 'purported', 'purplepotency', 'purplealien', 'twinners', 'purowoookie', 'puro', 'purity', 'puritanjosh', 'puritanical', 'purging', 'purexelegance', 'purelyambition', 'purekkoke', 'twinning', 'purdydidit', 'purchases', 'puran', 'pura', 'pur', 'pupusas', 'pups', 'twinningronnie', 'puppeteer', 'puppermaster', 'punya', 'punting', 'punters', 'twinstead', 'punnished', 'punkrock', 'punkmanners', 'punkgrunge', 'punketterocker', 'twirl', 'punjabis', 'punjab', 'punitri', 'punishmnt', 'twistedu', 'punishedu', 'punishedislam', 'twister', 'punishable', 'pundits', 'punditacademic', 'puncturing', 'punctuation', 'punctuated', 'punchfistingâ', 'twitcam', 'punchbag', 'punchable', 'twitcan', 'pumpkinking', 'pumped', 'pulwamaattack', 'pulseirinhas', 'pulpits', 'pulpify', 'pulpark', 'pullytm', 'pullitzer', 'twitchers', 'pullin', 'twitchhost', 'pulld', 'twitching', 'puling', 'puking', 'pujatiwaribjp', 'puja', 'puig', 'pughs', 'pug', 'pufwgpucmq', 'pufntrees', 'puffyjacket', 'puffs', 'puffin', 'pues', 'puede', 'pudgy', 'puddingi', 'pud', 'puck', 'publix', 'publisher', 'publimetromx', 'publics', 'twitcon', 'publicize', 'publicise', 'publichousing', 'publice', 'publications', 'twition', 'publ', 'pubic', 'pubh', 'pubgmobile', 'pubes', 'puberphonia', 'puasanya', 'puasa', 'puamra', 'ptr', 'pto', 'pti', 'pta', 'psyqosaken', 'psyop', 'psychotherapy', 'psychosocial', 'psychosis', 'psychopathy', 'psychopaths', 'psychopathperhaps', 'psychopath', 'psychologist', 'psychologicalthriller', 'twitr', 'psychodrama', 'psychoanalyzing', 'psychicstoner', 'psychiatry', 'psyched', 'psyche', 'psych', 'psws', 'psure', 'psufacts', 'psuedo', 'pssychh', 'psshcome', 'pss', 'psogeco', 'psog', 'psnow', 'pslive', 'psicologicamente', 'pseudonymity', 'twitt', 'psas', 'psalms', 'twitte', 'próximo', 'próprias', 'práticas', 'práticar', 'pryzm', 'prune', 'prueba', 'prueamptrude', 'pru', 'prsocial', 'prsn', 'prrd', 'prq', 'proximo', 'proximity', 'proxies', 'prowrestling', 'provokator', 'provok', 'provocations', 'provocar', 'twitteracting', 'twitterblades', 'twitterboy', 'twitterbut', 'twittercats', 'twitterdads', 'twitterfacebook', 'prounce', 'proudofisro', 'twitterfamouswhofollowme', 'protractor', 'protocolshami', 'protestw', 'twitterfb', 'protestor', 'protestinglooting', 'protesterslike', 'twitteri', 'protester', 'protestants', 'protestant', 'protein', 'protectorate', 'protector', 'protecterits', 'twittersphere', 'twittersupport', 'proteas', 'protagonist', 'prostitutes', 'prostitute', 'prostatectomy', 'prosperous', 'prosperity', 'prosper', 'prospect', 'prosfortes', 'prosecutors', 'pros', 'proprios', 'proprietary', 'propping', 'propped', 'proposition', 'proposing', 'proposal', 'proportions', 'proportionate', 'proportion', 'propogate', 'prople', 'prophetsthe', 'twitterterf', 'prophetmuhammad', 'prophetic', 'prophetesses', 'twittertiktokinstagram', 'propertyplate', 'twitterwhiny', 'twittingsystem', 'twofatcats', 'propangada', 'propanelord', 'propalittlebitch', 'propagez', 'propagandist', 'propagandause', 'propagandas', 'propagandaidiot', 'twon', 'prop', 'proofs', 'twondon', 'pronto', 'pronounciation', 'pronoun', 'prono', 'prompts', 'promptly', 'promots', 'promotions', 'promotional', 'promotinâ', 'twos', 'twrape', 'promoskanks', 'promitroy', 'promising', 'twtsretweet', 'twubblez', 'promiscuoussexually', 'promiscuous', 'prolonged', 'txlege', 'prolific', 'prolgbt', 'proletariat', 'proletarian', 'txsu', 'projections', 'prohibition', 'prohibites', 'progressively', 'tyanderson', 'programmes', 'programed', 'programa', 'tye', 'prognose', 'profrenatohist', 'profits', 'profited', 'profitability', 'tyga', 'proficiency', 'proffingerz', 'proffered', 'professors', 'professores', 'tyklovesyou', 'professions', 'professionalmau', 'professionally', 'tykreeshrina', 'professing', 'professes', 'professed', 'profesional', 'proern', 'proequality', 'tylenol', 'productionswe', 'tylerbucket', 'tylerisbaby', 'tylerjbroderick', 'tylerpsycho', 'tylerrjoseph', 'procurar', 'procreation', 'procrastinationprobz', 'procrastinating', 'processes', 'processed', 'tylerxbryant', 'proceedings', 'proceeding', 'procchat', 'probz', 'tyliccc', 'problms', 'problemthen', 'problemsserious', 'problemhave', 'probleme', 'tyme', 'tyounggod', 'proble', 'problack', 'probl', 'probe', 'probation', 'typa', 'proam', 'proactively', 'proactiv', 'prnewswire', 'prlific', 'prizren', 'prizetrain', 'prizes', 'prized', 'privwhitegirl', 'privlaged', 'typee', 'typeonegative', 'privelege', 'privateers', 'typeonegatives', 'prisongay', 'prisonanal', 'typesisis', 'prism', 'prision', 'prisident', 'priorjust', 'prioritising', 'prioritise', 'priorities', 'printouts', 'printers', 'typicaldumbasss', 'princeton', 'princessputout', 'princesspadison', 'princessmunira', 'princesschantx', 'princesmunchkin', 'princes', 'princelaqroix', 'princei', 'princeerie', 'princeducci', 'princeadmak', 'typicalnyscumbags', 'princ', 'primping', 'primordialradio', 'primila', 'primevideo', 'primero', 'primeministerhow', 'primeiro', 'typicalwoman', 'primaries', 'primal', 'prima', 'prieto', 'prides', 'pridebecause', 'pricy', 'typos', 'priciples', 'pri', 'prgamer', 'prey', 'preventive', 'tyrambitious', 'prevented', 'preventative', 'prevelant', 'prettyredlips', 'prettypopulargood', 'prettykryssy', 'prettykiyyx', 'prettyawful', 'pretext', 'tyreebp', 'preta', 'presumptuous', 'presumptively', 'presumptions', 'presumption', 'presume', 'presumably', 'preston', 'prestigious', 'preste', 'pressures', 'pressuremore', 'tyrese', 'tyreses', 'presstitude', 'pressley', 'tyriebrownrw', 'presscorporate', 'tyrone', 'presley', 'presidentsso', 'presidentsid', 'presidentshow', 'presidentkassie', 'presidentjust', 'presidentialfukup', 'presidentchicho', 'tyronjohnson', 'preserve', 'preservation', 'presença', 'presently', 'presenters', 'tys', 'tysm', 'preseason', 'prescribe', 'prescilla', 'preschoolprobs', 'preschool', 'prerogative', 'prepped', 'prepares', 'tyson', 'preparando', 'preoccupied', 'premises', 'premiere', 'premeditated', 'premchand', 'prem', 'tysonpickler', 'pregunto', 'pregunta', 'prego', 'tyt', 'pregnancymiscarriage', 'tyvm', 'preggers', 'preffered', 'preferredpackagepubpagearticle', 'preferem', 'tzortzis', 'prefacing', 'preety', 'preetampatil', 'preemptive', 'preempting', 'predominant', 'predictions', 'predictably', 'predictablenigga', 'predicated', 'tzuyu', 'precludes', 'preciso', 'precisa', 'tênis', 'precepts', 'precept', 'precedent', 'precautions', 'preaident', 'preadolescent', 'preachyou', 'preachy', 'tía', 'tô', 'türks', 'prdctantifa', 'prcnt', 'prchovanec', 'prayingforhead', 'türnerworld', 'prayforsun', 'prayforourfuture', 'prayerthathealsorg', 'tяmp', 'prayerful', 'ua', 'uabouttogetmurked', 'praxis', 'prawn', 'pravyy', 'pravingandhino', 'praveen', 'prats', 'praticantes', 'praticado', 'prateek', 'pratcher', 'prat', 'prasing', 'prashar', 'pranksters', 'pranks', 'pranked', 'uac', 'prancingaround', 'pramukh', 'pramoting', 'pramoter', 'praiseworthy', 'praisd', 'pragya', 'pragmatic', 'prafullaketkar', 'pradip', 'uasdhaiusdhaish', 'uasymdjcoze', 'prac', 'prabhus', 'prabha', 'pqst', 'uberboom', 'ppzpzpzp', 'pplz', 'pplyou', 'pplterrorism', 'pplgay', 'uberfacts', 'powerwomens', 'poweripob', 'ubhusanhav', 'powerbombjutsu', 'ubiquitous', 'powah', 'ubiquity', 'pove', 'pouyalilpou', 'pouts', 'pouting', 'pourriat', 'pounding', 'pounded', 'pound', 'pounce', 'poudriere', 'pouco', 'potuss', 'pottyparity', 'potty', 'potters', 'potret', 'potray', 'pothead', 'ubitusher', 'potent', 'potatottamus', 'potatopotato', 'potaters', 'ubmacoqamputmcampaignlater', 'posturing', 'postulating', 'poststhey', 'postsart', 'ubmit', 'postmodern', 'ubus', 'postindustrial', 'uc', 'postedu', 'ucc', 'postbut', 'posta', 'uccc', 'possível', 'possum', 'ucd', 'ucddublin', 'possession', 'possesive', 'poso', 'positives', 'positivelypage', 'positivegunner', 'ucdhistory', 'ucdscience', 'positioning', 'ucdsu', 'uchimouchi', 'posi', 'poshie', 'posers', 'portuguesa', 'portugues', 'portraits', 'portrait', 'portman', 'portlands', 'portlandpolice', 'portlandmoms', 'portlandia', 'ucpcaucus', 'portions', 'portialoso', 'porte', 'portay', 'portals', 'portaloos', 'portal', 'portableshua', 'portabledaemonless', 'porra', 'porr', 'ucpcorruption', 'pornthat', 'pornstartae', 'pornstar', 'porns', 'pornmmovies', 'pornhub', 'ucsb', 'porkninja', 'porkistanpakistan', 'porkistanis', 'porke', 'porkchop', 'ucwradio', 'poquiiiitoo', 'populous', 'populists', 'populationif', 'popularitythere', 'populari', 'populardemand', 'udcdujkwtwitter', 'popsocket', 'uddhav', 'poppunkbible', 'poppin', 'popo', 'popesweetmusic', 'popeslap', 'udf', 'popeharrigan', 'popefrancis', 'udh', 'popcornsutton', 'popats', 'popandrock', 'poot', 'poors', 'uds', 'poorer', 'ueno', 'poopy', 'uer', 'poolparty', 'ueue', 'pookiee', 'pookiebear', 'pookie', 'pookey', 'pooh', 'poofters', 'pooed', 'ponty', 'pons', 'pongalo', 'poney', 'pone', 'pondrán', 'pompeos', 'pompeo', 'pommiesforthewin', 'pommies', 'pomelowan', 'pomelodtiys', 'polywhoop', 'polytheists', 'polygons', 'polygon', 'polygamy', 'polydetestrous', 'poluution', 'polticial', 'polovelli', 'polotics', 'polotek', 'poloprophed', 'polonigda', 'pollyyc', 'pollyannas', 'polly', 'polluters', 'pollsters', 'polka', 'politícal', 'politiquestions', 'politicspower', 'ufcpride', 'politicized', 'politicize', 'politiciansjournalists', 'politiciansare', 'ufo', 'ufuk', 'politicaly', 'politicaltweet', 'ug', 'politicalkathy', 'uga', 'ugg', 'politcal', 'politas', 'polio', 'policylegal', 'policygo', 'uggghhhhhhhhhhhhhhhhhhhhhhh', 'uggh', 'policial', 'policethe', 'policeso', 'policescotland', 'policepunish', 'policelabour', 'poliahus', 'poli', 'polanski', 'polak', 'pol', 'pokémon', 'pokkst', 'pokey', 'pokes', 'pokemons', 'poisonings', 'poisoned', 'poisioning', 'poision', 'poise', 'pois', 'pointy', 'pointwalk', 'pointthis', 'ughar', 'ughh', 'pointfirst', 'ughhhhhhhh', 'pogi', 'pog', 'poetic', 'poejust', 'poejace', 'poe', 'podre', 'podesta', 'podem', 'podcasters', 'podcaster', 'ugirl', 'pocwhats', 'pocolow', 'ugirls', 'pocahontasgem', 'pocaai', 'pobres', 'pobierz', 'pnutsays', 'pnruf', 'pnp', 'pngdawg', 'png', 'pnc', 'pmuch', 'pmsing', 'pmoys', 'pmits', 'pming', 'pmb', 'plzzzz', 'plzz', 'plural', 'pluonash', 'plumsofdoom', 'plss', 'plsnothnx', 'plse', 'uglly', 'ploys', 'plox', 'plough', 'plotting', 'plotline', 'ploting', 'uglyyy', 'plonkers', 'plonker', 'pln', 'pllprmqmy', 'pllllayer', 'plese', 'plena', 'pleia', 'pleeeease', 'pledis', 'pledging', 'pledged', 'pledgde', 'pleazestop', 'pleaz', 'pleasures', 'pleassseeee', 'pleaseshave', 'pleaseno', 'pleaseeeeâ', 'pleaseee', 'pleasedontshoot', 'pleasecontinue', 'pleaseck', 'pleading', 'plea', 'plc', 'playupfootball', 'playtime', 'playthings', 'playstore', 'playstations', 'playstation', 'ugugbyyds', 'playoffs', 'ugyhur', 'playhearthstone', 'playgroundi', 'uhauhsauhsauhsa', 'playgether', 'uhbitch', 'uheuaehauehueh', 'uhgunner', 'playboy', 'playa', 'plato', 'platitudes', 'platitude', 'platinum', 'platework', 'plates', 'plastics', 'plastickimmy', 'plastered', 'plase', 'planting', 'plantearon', 'plantbasedk', 'plantation', 'plant', 'uhhow', 'plano', 'planners', 'planner', 'plannedparenthood', 'uhigurs', 'planking', 'plankin', 'planing', 'planettyler', 'planetsomeone', 'planetjozie', 'uhmm', 'plaintext', 'plainsmh', 'uhmmh', 'plaidcat', 'plaid', 'placing', 'placeand', 'uhohitsjordyn', 'placate', 'placardbrigade', 'pla', 'pjs', 'pjnet', 'pjmcentee', 'pjbish', 'pjb', 'pjamesjp', 'piñeratanto', 'pizzagate', 'pixely', 'pixelbuff', 'piulinfection', 'pittyfull', 'pittsburgh', 'pitting', 'pitiable', 'pitchforks', 'pitchfork', 'uhsauhsahuuhsahuas', 'pistachiopassengershaming', 'pissy', 'pissslam', 'pisssedoffalready', 'pisssandwich', 'pissjust', 'pissin', 'pissedofgrandad', 'uictoria', 'pissd', 'uigar', 'piscesgeek', 'pis', 'pirus', 'pirating', 'piratesswoop', 'pira', 'pipogypopotamus', 'pipinhoes', 'piping', 'pipeline', 'pipedown', 'pip', 'piojaa', 'pinte', 'pint', 'pinoybuiltusa', 'pinoy', 'pinocchiotm', 'pinnacle', 'pinna', 'pinksupernova', 'pinkherin', 'pinkface', 'pinkchele', 'pinkbus', 'uigher', 'ping', 'pinesol', 'pinefoxi', 'pinecrest', 'pineapplecruz', 'pinealpples', 'pineal', 'pinche', 'pinapple', 'pimpnamedgator', 'pimple', 'pimping', 'pilots', 'pilotpenusa', 'pillarsuk', 'pillaging', 'pillaged', 'pilgrim', 'pilgar', 'piles', 'piler', 'pileons', 'uighurs', 'pikachu', 'piiiissed', 'pigsquealerrrrr', 'uitrgibkptwitter', 'pigistani', 'pigeons', 'uiuc', 'pif', 'pietromora', 'pies', 'piersmorgan', 'piercethevic', 'piercetheveil', 'pierced', 'piercecotwa', 'pier', 'uiuhiduhsiuhdsiuhd', 'pieceofwork', 'ujhtqpooqtwitter', 'ukadlo', 'picwhatting', 'pictwittercomzxworjy', 'pictwittercomzoylmyfjj', 'pictwittercomzceugk', 'pictwittercomyjjjbjkd', 'pictwittercomyemgkkx', 'pictwittercomydxyhfj', 'pictwittercomycnwlcabz', 'pictwittercomxnskco', 'pictwittercomxkjkzn', 'pictwittercomxjtiygyfq', 'pictwittercomwuupser', 'pictwittercomwsjmrmyg', 'pictwittercomwlzebcyx', 'pictwittercomwjjdsdyrr', 'pictwittercomwfvbqnq', 'pictwittercomwfulrmgxr', 'pictwittercomwcbstgokcb', 'pictwittercomvytdip', 'pictwittercomvqblomco', 'pictwittercomvhsneveu', 'pictwittercomvadxndil', 'pictwittercomumpiwyqcv', 'pictwittercomuioutgfja', 'pictwittercomuetixnkph', 'pictwittercomtiswait', 'pictwittercomtfdgdcg', 'pictwittercomtezbucqkk', 'pictwittercomssgrepien', 'pictwittercomsbxnrldv', 'pictwittercomrwccswo', 'pictwittercomrpfeob', 'pictwittercomrnkqxumezt', 'pictwittercomrcuckcoib', 'pictwittercomqlbxodcue', 'pictwittercomqgdbtlee', 'pictwittercomqbxeao', 'pictwittercompqwbqnox', 'pictwittercompqhttsu', 'pictwittercompphyqqu', 'pictwittercompfwlroqis', 'pictwittercomoelvwohp', 'pictwittercomoclkmekoq', 'pictwittercomnulmbyquna', 'pictwittercomnsgyxcrmu', 'pictwittercomnsdejpcpv', 'pictwittercomnlsdjakn', 'pictwittercomnlccipiu', 'pictwittercommwmpspebd', 'pictwittercommodwzhwgqw', 'pictwittercomlshoevyhs', 'pictwittercomloacvq', 'pictwittercomlnvfzsqjqq', 'pictwittercomldosftv', 'pictwittercomkzufrmqv', 'pictwittercomktxfpncn', 'pictwittercomkkgyhxt', 'pictwittercomkjslahmu', 'pictwittercomkaaevapup', 'pictwittercomjyaqhuyzq', 'pictwittercomjsflbviq', 'pictwittercomjntwojfx', 'pictwittercomjisdvtliu', 'pictwittercomisjynvp', 'pictwittercomhosniu', 'pictwittercomhhxrmpvf', 'pictwittercomhefabf', 'pictwittercomgzfgnzbrr', 'pictwittercomgcojhrcn', 'pictwittercomgbgakmxp', 'pictwittercomgakrxk', 'pictwittercomfzdqlzqka', 'pictwittercomeowvtbg', 'pictwittercomdmnepvh', 'pictwittercomctxmcmrjv', 'pictwittercomcmvqulj', 'pictwittercomceomhukw', 'pictwittercomcdvfnyd', 'pictwittercombzjqndm', 'pictwittercombtoowaqoqt', 'pictwittercombsspyd', 'pictwittercombomwmmmwn', 'pictwittercomboczrldtgk', 'pictwittercombklhzke', 'pictwittercombguzrtihpn', 'pictwittercombbkrrkcn', 'pictwittercomayrcrhbh', 'pictwittercomavbyopebl', 'pictwittercomaapqtsu', 'picturesu', 'ukadna', 'pictureit', 'pictured', 'ukbloggers', 'picsamp', 'ukbrawlers', 'picnik', 'picname', 'ukcdnampprojectorgvswwwdailymailcouknewsarticle', 'pickles', 'ukelalie', 'pickett', 'pickers', 'picker', 'ukik', 'pickdisgusting', 'pickchoose', 'pickaxe', 'pichaikara', 'piccy', 'piccup', 'ukipimplodeyetagain', 'piaglenn', 'piada', 'physicsnerdyt', 'physician', 'ukipwton', 'physicality', 'uklabour', 'phyrelight', 'phvntvsmvgoriv', 'phuphurei', 'phumngcobo', 'phrankmax', 'photoshops', 'photoshopping', 'ukrainian', 'photoshoot', 'ukranian', 'photons', 'photokill', 'photographer', 'photogenic', 'photobook', 'ukthe', 'phonies', 'phonehe', 'ukwim', 'phoenixplexus', 'phlight', 'phlegm', 'phirruup', 'phinone', 'phinkkk', 'phineas', 'philosophical', 'philosopher', 'phillymag', 'phillipadams', 'philipplahm', 'philippinesthis', 'philippinestarvice', 'philipp', 'philip', 'phildiscenza', 'phildgreen', 'phildaht', 'philandering', 'philadelphias', 'phfame', 'phew', 'pheonnexx', 'phenomenal', 'phenomena', 'phenom', 'phasing', 'phasei', 'phann', 'phahahahaha', 'phaezen', 'phadeblack', 'pgp', 'pft', 'pflpps', 'pflp', 'pfilippelli', 'pfftt', 'pfft', 'pezzalittlemix', 'pey', 'pewdiepieisoverparty', 'uldum', 'pewdie', 'pew', 'petuniavernon', 'petulant', 'pettystubbornbossy', 'pettymarshall', 'ulema', 'petting', 'pettily', 'petrus', 'petro', 'petrillic', 'petrified', 'petpeeve', 'petitions', 'petitioner', 'petite', 'peterkayrt', 'peterduttonmp', 'peterdcohanlon', 'petercoffin', 'petercnz', 'peterburnsradio', 'ulo', 'petelets', 'petehattam', 'peteevansnot', 'petebuttigiegs', 'peteampmanu', 'ulrich', 'petboirowdy', 'petaindiaexposed', 'ult', 'pesty', 'pests', 'pesto', 'pesticides', 'pesso', 'pessimist', 'pess', 'pesquisa', 'peshwar', 'ultimatecollegeblackparty', 'peshawarattack', 'pesce', 'pesadilla', 'pervs', 'pervertraping', 'pervertido', 'perverse', 'pervasive', 'perv', 'perturbed', 'perth', 'perterson', 'pertences', 'pertains', 'pertaining', 'pertain', 'persuaded', 'persuade', 'personmale', 'personify', 'personified', 'personification', 'ultrafundamentalist', 'personalitiesmusic', 'personalhome', 'ultron', 'ultros', 'umad', 'persnality', 'persn', 'persists', 'persistently', 'persistent', 'persistence', 'persist', 'persia', 'persevering', 'umairv', 'persecuting', 'persecutes', 'persecutedkilled', 'perscription', 'perrys', 'perplxed', 'perplexed', 'perpetration', 'perniciousducks', 'pernicious', 'perms', 'umarzf', 'permanently', 'umbrage', 'periodically', 'periodic', 'perioddd', 'perigoso', 'perigosas', 'perhitungan', 'performers', 'performative', 'umbridge', 'perfffff', 'umfollows', 'perfectbut', 'umg', 'perez', 'perera', 'pereirao', 'perdí', 'perdoname', 'perdis', 'perdeu', 'percyharvin', 'percy', 'percussion', 'percieved', 'perceptive', 'umhe', 'perceiving', 'perceive', 'percebeu', 'perai', 'pequeño', 'pepreachout', 'peppoverheard', 'peppermint', 'pepperidge', 'peple', 'pepeauth', 'pepcman', 'pepaad', 'peopleyoutrulylove', 'peoplewho', 'peoplesreport', 'uminn', 'peoplepresently', 'peoplepolice', 'peoplenon', 'peopleno', 'peoplemagupdate', 'peoplekindor', 'peopleidiot', 'peoplegay', 'peoplefor', 'peopledoesnt', 'peoplecrazy', 'peoplechill', 'peopleare', 'peopleagainstrapeculture', 'umjbdoe', 'peole', 'peodphilia', 'peodophiles', 'penultimate', 'pentucky', 'penso', 'pense', 'pensa', 'umjita', 'pennisula', 'penitent', 'penismale', 'penised', 'pengalaman', 'penetrate', 'pendejo', 'pendant', 'pendampingnya', 'ummahwitness', 'penalties', 'penalized', 'penal', 'película', 'ummat', 'pelos', 'pelo', 'pellet', 'pellenino', 'peliting', 'pelas', 'pelamor', 'peion', 'peggyorensteins', 'peggyolrenshaw', 'peggy', 'pegging', 'pegeuro', 'peeves', 'peeve', 'ummid', 'ummmmrknox', 'ummmmy', 'peeor', 'peeling', 'peel', 'peeked', 'pedozoophile', 'pedowood', 'pedophilic', 'umno', 'pedophilea', 'umon', 'pedohtml', 'pedogay', 'pedira', 'pederasty', 'pedem', 'peddles', 'peddlers', 'pedchanged', 'peculiarly', 'peck', 'pecans', 'peasants', 'peas', 'pearsonglobalforum', 'peals', 'unadulterated', 'unaffiliated', 'peadophila', 'peado', 'peacfull', 'peacful', 'peaceplease', 'peaceofmind', 'unambiguously', 'peacemoin', 'peacemakerthe', 'peacefuls', 'peacefulprotest', 'peacefulness', 'peacefulchaoshd', 'peacebut', 'peacebahrain', 'peaceamphumanity', 'unannounced', 'pea', 'pdt', 'pdosincest', 'pdlmma', 'pdemmett', 'pdahal', 'pcthen', 'pcraigroberts', 'pcn', 'pcgamer', 'pcbsd', 'pcaudi', 'unapologetically', 'pbump', 'pbcountysheriff', 'pbandjenelley', 'pbampj', 'pazferanda', 'paytonraemusic', 'paytonhodges', 'payton', 'unapologeticamc', 'payroll', 'paypay', 'payouts', 'payout', 'payneoriginal', 'payments', 'payless', 'payingi', 'unappealing', 'payer', 'payega', 'payalrohtagi', 'payalrohatgi', 'unappreciated', 'paxton', 'unappreciative', 'pawpaw', 'pawned', 'pawn', 'pawar', 'pawankhera', 'pavnarm', 'pavlovian', 'pauses', 'paulypmc', 'paulthese', 'paulstephen', 'paulryan', 'pauloapanucci', 'paulkidd', 'pauljacob', 'paulista', 'paulieon', 'paulhenryniemeyerhe', 'pauleldridge', 'paulbalbas', 'paulawhite', 'paulawalnuts', 'paulanthonyward', 'paulandstorm', 'pauladeen', 'unashamed', 'pauigeorgeleg', 'patungan', 'patue', 'pattys', 'pattonoswalt', 'patting', 'patsherlock', 'patsaydat', 'pats', 'patrons', 'patronizing', 'patronise', 'patronage', 'patron', 'patrols', 'patro', 'patriottk', 'unathi', 'patrickjbutler', 'patrickfish', 'patrickbuchanan', 'patriciaxh', 'patriciaparis', 'patriciaarquette', 'patriarch', 'unattended', 'patiently', 'patient', 'pati', 'pathmark', 'pathetically', 'pathar', 'patenting', 'patented', 'patelismael', 'patel', 'patdollard', 'patashu', 'patal', 'pataallok', 'pataal', 'pata', 'pastwhen', 'pastwhat', 'pastu', 'pastordscott', 'unbanned', 'pastlesouls', 'pasting', 'pastimes', 'pasties', 'pasthow', 'pastelwhite', 'pasted', 'pastand', 'passwords', 'passmypills', 'unbeatable', 'unbecoming', 'passenger', 'passa', 'unbelievanly', 'pashtoons', 'paschim', 'paschblue', 'pascaarafah', 'pasado', 'parvesh', 'partystrange', 'partyshipdown', 'partyit', 'partydemocrats', 'partyampthe', 'unbeliever', 'parton', 'partnered', 'unbelieves', 'partisan', 'partion', 'partieshouse', 'unblockable', 'unblocked', 'particpate', 'particle', 'unboned', 'participates', 'participated', 'participant', 'partic', 'parth', 'parted', 'parsis', 'parsies', 'parse', 'parrotttd', 'parrot', 'parole', 'parodyrp', 'parodyguy', 'unbothered', 'parodies', 'parochial', 'parliamentreally', 'parlance', 'parkwe', 'parkinson', 'unboxing', 'parkian', 'parkersburg', 'parkers', 'parkerreid', 'parkerbradley', 'unbreakable', 'parisshooting', 'parissaxo', 'pariss', 'parisdennard', 'parisba', 'paripassu', 'pariksha', 'pariisjaxn', 'pariahpotimouth', 'pariah', 'paresca', 'parentscnn', 'uncertain', 'parented', 'uncertainty', 'parem', 'pareja', 'pareho', 'paredes', 'parecia', 'pardos', 'pardons', 'pardonmyfrench', 'parasitic', 'paras', 'parar', 'paraphrasing', 'paraphrased', 'paraphrase', 'paranoia', 'parameters', 'paramatma', 'paralyzingly', 'paralysis', 'paralyse', 'parallels', 'parakeet', 'paragraphs', 'paragons', 'paradoxical', 'paradises', 'parading', 'paradigm', 'parades', 'parachute', 'parabéns', 'uncf', 'paq', 'paprikash', 'papos', 'papolitics', 'papo', 'papiroast', 'papiluisito', 'papi', 'papermachesky', 'papercuts', 'paperbackhtmlspreftw', 'unchallenged', 'papaw', 'paparazzi', 'paosolano', 'panzipura', 'panwade', 'unchanged', 'pantie', 'pantengin', 'pantami', 'pant', 'pannusf', 'panitia', 'pang', 'panels', 'panelrific', 'panelist', 'panditswhom', 'panditand', 'pandita', 'pandey', 'panders', 'unchristlike', 'pandered', 'pandasl', 'panda', 'panchsarpanch', 'pancetti', 'panache', 'pamzekman', 'pamplet', 'pampg', 'palwatch', 'palsy', 'palsbgals', 'palmeye', 'palmera', 'palmeirense', 'palma', 'pallakad', 'palistine', 'palins', 'pali', 'palho', 'palghar', 'unclesalvo', 'palestineisrael', 'uncletom', 'palestinans', 'uncompromising', 'palavras', 'palate', 'palastinians', 'palakkad', 'palaka', 'paladingunn', 'palaban', 'pala', 'paksaan', 'pakisthan', 'pakistanwhere', 'pakistanturkey', 'unconditional', 'pakistanilliterate', 'pakistandue', 'unconfessed', 'pakisan', 'pakhizbulslashkars', 'unconfirmed', 'pajeets', 'paison', 'pairing', 'unconscionable', 'paintings', 'paingain', 'painfulaugustus', 'paineven', 'pained', 'unconsciously', 'paigeyx', 'paigesnipes', 'paigeleighhx', 'paige', 'paidaish', 'pahahaha', 'paging', 'paghintayin', 'uncontrollably', 'pagerduty', 'unconventional', 'pagar', 'pagans', 'paga', 'paedo', 'paediatrician', 'padte', 'pads', 'padhe', 'padh', 'padega', 'paddymcbride', 'paddock', 'paddle', 'padded', 'pada', 'pacs', 'pacquiaos', 'pacomikz', 'pacmancannon', 'packing', 'packie', 'packets', 'packers', 'packages', 'uncooked', 'pacing', 'pacify', 'pacifist', 'pacified', 'pacifictombrt', 'pacifictomb', 'pacificim', 'pacific', 'pacersvsheat', 'pacersnation', 'pacemaker', 'pacem', 'paced', 'pabs', 'pablovillaca', 'pablo', 'paavadai', 'paattorneygen', 'paartiai', 'paansee', 'paani', 'paal', 'paakistanits', 'ozzy', 'ozzsue', 'ozzsu', 'ozzie', 'ozrant', 'ozgecanaslan', 'ozarks', 'oz', 'oyinbo', 'oyeeemc', 'oyeee', 'oyee', 'oy', 'oxygen', 'oxyclean', 'oxide', 'owta', 'owrangle', 'owo', 'uncountable', 'owni', 'ownerwhite', 'uncouth', 'uncouths', 'ownedyourpsass', 'uncovered', 'owncommenting', 'ownbut', 'owlshow', 'owlcity', 'owl', 'owens', 'owen', 'owed', 'uncredited', 'uncritical', 'overworked', 'overwhemingly', 'overwhelmingly', 'uncrustable', 'overviewtires', 'overview', 'overused', 'overuse', 'overturn', 'overtop', 'overtoned', 'overthrowing', 'overthinking', 'overtaking', 'overstepped', 'oversold', 'oversized', 'oversize', 'overshame', 'overshadowed', 'oversees', 'override', 'overreaction', 'overpriced', 'overpower', 'overnightidiotswake', 'overlooking', 'overlook', 'overloaded', 'overload', 'overlapped', 'overlap', 'overinflated', 'overhearing', 'overheardatust', 'overground', 'overfrom', 'overestimate', 'overcome', 'overcame', 'overbetween', 'overamoonlight', 'overally', 'overalls', 'uncrwnedking', 'ovaries', 'outve', 'outt', 'outskirts', 'outsider', 'uncw', 'outroars', 'outro', 'outrages', 'unde', 'outputting', 'outpouring', 'outposts', 'outnumbering', 'outnumbered', 'outmagazine', 'outlook', 'outline', 'outlet', 'outlawing', 'undeadrypien', 'outlandish', 'outfitters', 'outfitsshame', 'undeadturning', 'undecerning', 'outdoor', 'outdistance', 'outcomes', 'outchyea', 'outcheaa', 'undefinedangel', 'outback', 'ouryour', 'ourselfs', 'ourself', 'ourschristians', 'ouran', 'ouo', 'ounce', 'ould', 'ouhyeahadel', 'oughtto', 'oufit', 'ouchnolarry', 'ouchie', 'ottomon', 'otter', 'ott', 'ots', 'otrasg', 'otp', 'otislee', 'otin', 'otimo', 'othman', 'otherwi', 'othertruth', 'otherstrainedto', 'otherothers', 'otc', 'otario', 'osx', 'osullivan', 'osu', 'ostrova', 'ostrich', 'ostentatiousola', 'ostensibly', 'ostensible', 'ostealyourmoney', 'ospreay', 'osothekid', 'osofine', 'osmosis', 'osman', 'osker', 'osi', 'oshit', 'osephjays', 'oscoscoscosc', 'oscartheblue', 'oscartaracena', 'oscarssowhitethey', 'oscardelahopia', 'oscarchavez', 'osamabinladen', 'underclassmen', 'osakw', 'undercooked', 'ortiz', 'orthopedic', 'orstriving', 'orphans', 'orphanages', 'oromos', 'oromiaampsouthern', 'orkeds', 'orissa', 'orintals', 'orijinal', 'origins', 'originates', 'originate', 'originality', 'originalcbc', 'undercovermutha', 'origem', 'orig', 'orientação', 'orientalism', 'oriental', 'orher', 'underestimate', 'orgo', 'orgnzsns', 'orgies', 'orgens', 'orgasms', 'organizing', 'organizers', 'organizationu', 'organizationsthey', 'underfuckingstang', 'organizarion', 'organisms', 'organising', 'organiser', 'organise', 'organisationit', 'undergone', 'organic', 'orga', 'undergrad', 'orfus', 'orenstein', 'orehaf', 'oregonmbb', 'ore', 'orderu', 'ordersclasses', 'orderly', 'ordained', 'orcrist', 'orchid', 'orchestrated', 'orchestra', 'orbvase', 'orbcjay', 'oras', 'orangeyellow', 'oranger', 'oranga', 'oraltwjnk', 'undermined', 'oracle', 'opção', 'opulence', 'optn', 'optionschoices', 'undermines', 'optionone', 'undermining', 'opticscumper', 'opticpaul', 'optickablez', 'opticalunicorn', 'oprressed', 'opression', 'opress', 'oprahs', 'opps', 'oppresses', 'oppressedtherefore', 'underpants', 'underprivileged', 'underpriviliged', 'opposer', 'underreported', 'underrepresented', 'underscores', 'opportunist', 'underscoring', 'oppoing', 'opp', 'opm', 'understandable', 'opinionit', 'understandu', 'opindiacom', 'opina', 'opiesiraru', 'opieradio', 'ophra', 'operationally', 'operates', 'operated', 'understated', 'openings', 'openers', 'openely', 'understimate', 'openchallenge', 'understudy', 'ope', 'opaa', 'opa', 'undertake', 'oozing', 'oozes', 'oort', 'oooow', 'ooooooooooooh', 'oooooof', 'ooookay', 'oooohhh', 'ooobbbaaammaaaaaaa', 'undertaken', 'oompa', 'undertaking', 'oomed', 'oointeresting', 'undervalued', 'onzelfzuchtig', 'onz', 'onyaled', 'onya', 'onwe', 'onwards', 'onwardedge', 'onward', 'onus', 'onthis', 'onthemedia', 'onted', 'underwalt', 'onscreen', 'onrt', 'onoislam', 'onna', 'onmyblacktieshit', 'onmybirthday', 'onmm', 'onlyshara', 'onlypl', 'onlymatterantifa', 'underwaterprick', 'onlycino', 'onlyariel', 'onlooker', 'onlinebullying', 'underway', 'onlike', 'onlies', 'onli', 'onision', 'onif', 'onibus', 'onhere', 'ongodthatstre', 'ongeesh', 'ongawwdd', 'oneâ', 'onethose', 'onessmh', 'onesgirl', 'oneself', 'oneright', 'onelove', 'onekingslane', 'onejust', 'oneflyniccafuck', 'onedirectionyears', 'onedeepnecie', 'oneday', 'oneberkeley', 'onebe', 'oneas', 'oneandonlyakash', 'oneand', 'oneampnone', 'oneamp', 'onealexharms', 'onde', 'onda', 'onboard', 'onaholes', 'omnipresent', 'omm', 'omk', 'omgs', 'omgosh', 'omgitsmattv', 'omgggg', 'omggg', 'omgcant', 'omgawdthis', 'underweight', 'omfgsogay', 'omfgod', 'omfggg', 'underwood', 'omf', 'omens', 'omegle', 'omas', 'omarsuleiman', 'omari', 'omarcollabrone', 'omarclh', 'omarboulakjar', 'omarabdullah', 'underyourporch', 'omahajon', 'omaba', 'olympic', 'olympian', 'oluwajoyracism', 'olusoga', 'olmecaxicana', 'ollielobb', 'olla', 'oliviacornett', 'olivewahh', 'oliverhunter', 'oliverharrison', 'oliverage', 'olipeace', 'olipaterson', 'oligarchs', 'oligarch', 'oli', 'olga', 'olf', 'olewahr', 'oleuanna', 'undeserved', 'oldsound', 'oldschoolflow', 'undeserving', 'oldisolatedfits', 'oldies', 'oldeven', 'oldengliiish', 'undetectable', 'olauuber', 'olaoliv', 'olabijan', 'undivided', 'oky', 'okwhy', 'okthen', 'okstop', 'oksteev', 'okpaulista', 'okokand', 'okok', 'oknuking', 'okletsgo', 'okkaykaye', 'oking', 'okie', 'oki', 'okespeed', 'oked', 'okcupid', 'okcommuter', 'okays', 'okayed', 'okayand', 'undocumented', 'okamlord', 'okamas', 'okai', 'okaaaay', 'ojaojaojaoajoajoja', 'oits', 'oisoubea', 'oisforoxford', 'oily', 'oilier', 'oiled', 'oigan', 'oic', 'oibanai', 'ohyoumad', 'ohwho', 'ohthatsxavier', 'ohthat', 'oht', 'ohsooffensive', 'ohsomany', 'ohsnapitsgreta', 'ohshititssasha', 'ohshc', 'ohsaa', 'ohpalmer', 'ohooh', 'oho', 'ohnoshetwitnt', 'ohnoes', 'ohmygod', 'ohmoweee', 'ohlike', 'ohlandmusic', 'ohkay', 'ohjynx', 'ohiosbadguy', 'ohhoooo', 'ohhhhhh', 'ohheyjesssager', 'ohheyimnicole', 'ohhellnojessica', 'undrafted', 'ohadvise', 'undressed', 'ogstingz', 'ogscottie', 'ogsaxx', 'ogre', 'oglum', 'ogdaveo', 'ogbaisteid', 'undubbed', 'ofw', 'oftheguild', 'ofhow', 'ofglass', 'offyou', 'offso', 'offline', 'offiâ', 'offiice', 'offihes', 'officperriee', 'officmattpenny', 'officialuarh', 'officialtroywee', 'officialsthis', 'une', 'officialreaper', 'unearthed', 'officialgialana', 'officialadele', 'unedit', 'officesbecause', 'officerwilson', 'officefbi', 'unequalled', 'offi', 'offhand', 'offerings', 'unethical', 'offensiveyou', 'offensivesexistracisttransphobicableista', 'offensively', 'offensiveand', 'unexpected', 'offenses', 'unexpecting', 'offenes', 'offeneded', 'unfairness', 'offences', 'offen', 'offbeat', 'offaye', 'ofensiva', 'ofendida', 'ofende', 'ofcom', 'ofamp', 'ofallon', 'oecta', 'odyssey', 'odunavan', 'odrs', 'odr', 'odontoma', 'odious', 'odioooooo', 'odiei', 'odiariolondrina', 'odiado', 'odia', 'odemwingplay', 'odeia', 'odehs', 'odeh', 'oded', 'oddporno', 'unfamiliar', 'oddfuckingslim', 'unfashionable', 'odah', 'oda', 'octthveryown', 'octojay', 'octaviaspencer', 'oct', 'ockenden', 'oceanup', 'oceanorbsrbx', 'oceandrivejeff', 'ocd', 'occurrence', 'occuredonly', 'occured', 'occational', 'occasional', 'ocassion', 'ocare', 'obâ', 'obvsly', 'obvs', 'unfathomably', 'unfavourable', 'obummer', 'obtain', 'unfettered', 'obstrufucated', 'obstruction', 'obstruct', 'obsidianfiles', 'obsessives', 'obsessive', 'obsessing', 'obsessedetc', 'unfinished', 'observing', 'observational', 'observant', 'obongo', 'oboma', 'unfinishedtoday', 'obliviousdont', 'obligatory', 'obligated', 'obl', 'objectivity', 'objectional', 'objectionable', 'objection', 'objectified', 'objected', 'obiuhgbe', 'obituary', 'obfuscate', 'obeytina', 'obeyjulio', 'obeyjax', 'obeying', 'obeyfaker', 'obeya', 'obese', 'obeisance', 'obc', 'obby', 'obamawho', 'unfollo', 'obamalaw', 'obamaklye', 'obamahitler', 'obamagate', 'obamadumb', 'obamademocrat', 'obamabiden', 'obamaand', 'obamaaa', 'ob', 'oauth', 'oau', 'oats', 'oates', 'oasis', 'oann', 'oaks', 'oakley', 'oakleighwas', 'oajoajoajajo', 'oafc', 'oaf', 'nóis', 'níggér', 'nãoisso', 'unformed', 'nº', 'nzzml', 'nzi', 'nytopinionator', 'unfortunatelythey', 'nypdshea', 'nypdnews', 'nymphetamine', 'nyjier', 'nygovcuomo', 'nyepam', 'nyekilllllll', 'nyekil', 'nydailynews', 'nycsheletrs', 'nycs', 'nycpeach', 'nyan', 'nyami', 'unfrikinbelievable', 'nworyzen', 'nwa', 'nvq', 'nvm', 'nva', 'nuttssss', 'nuttin', 'nutters', 'nuttall', 'nutso', 'nutsa', 'unfuckble', 'nutritional', 'nutjobs', 'nutjob', 'nutin', 'nutella', 'nutcom', 'nutcases', 'nutcase', 'nutass', 'unfunded', 'nusince', 'nusensei', 'nuscense', 'nurturing', 'nurtures', 'nurture', 'nursesthis', 'nursescarers', 'nursesbut', 'nurseloco', 'ungabafusegisa', 'nurmannurman', 'nur', 'nunesalt', 'nunes', 'nunavutisgod', 'numskulls', 'numpads', 'numbingly', 'numbing', 'unhay', 'numberrr', 'unheard', 'numbdave', 'num', 'nullifying', 'nuked', 'nuh', 'nugget', 'nuffsaid', 'nufcourclub', 'nufc', 'nuevo', 'nuestras', 'nuest', 'nuclearoâ', 'nubile', 'nubian', 'nuanced', 'ntr', 'ntierney', 'ntc', 'nta', 'nsoamesmp', 'nsn', 'nshizzle', 'nsciang', 'ns', 'nrdrgerenegades', 'nras', 'nr', 'nq', 'npryzm', 'npc', 'npa', 'nozzzander', 'noyzze', 'nowyou', 'nowwwwww', 'nowwwww', 'nowwww', 'nowwatching', 'nowts', 'nowthisnews', 'nowtake', 'nowrt', 'nowomenexis', 'nowmakes', 'nowlinn', 'nowkys', 'nowindians', 'nowimmad', 'nowgto', 'nowdidnt', 'nowand', 'nowah', 'nowaday', 'nowa', 'unhygienic', 'novela', 'noval', 'nouson', 'nourzz', 'nourishedschool', 'nourished', 'noun', 'nouglyhoes', 'noughtsandcrosses', 'noughtiifaya', 'notð', 'notã', 'notwiley', 'notwaving', 'nottt', 'notthingstojokeabout', 'nottheres', 'notthats', 'notsorry', 'notsohappymonday', 'notsmart', 'unica', 'notsexis', 'notse', 'notsassy', 'nots', 'notright', 'notreallyoffended', 'notoriousseth', 'notoriousamp', 'notokay', 'notoallbullying', 'notnicepeople', 'notmybaby', 'notmuggs', 'notmeeeeeee', 'notlearningmuch', 'notions', 'notinmycountry', 'noting', 'notificationsvery', 'notificationstldm', 'unicatbirdwhale', 'noticingapatternhere', 'noticeably', 'noticeable', 'nothingyou', 'nothings', 'nothingmean', 'nothanks', 'notfunny', 'notfuni', 'unicycle', 'notcute', 'notcoolman', 'notcomingouttoplay', 'notatmassillon', 'notar', 'notalycat', 'notallwhites', 'notalljournalists', 'notafrican', 'notably', 'notable', 'nota', 'nosy', 'nostradamus', 'nostalgic', 'nossos', 'nosso', 'nosqlkv', 'nosoul', 'nosejob', 'nosebleeds', 'unification', 'nosavageshere', 'norwich', 'northwest', 'northsew', 'northmuslims', 'northmor', 'northernblues', 'northampton', 'uniforms', 'normie', 'normative', 'normaojeda', 'unilaterally', 'normalizes', 'unima', 'norfolk', 'nordicninja', 'nordic', 'norco', 'norcalduck', 'norbertghofer', 'norareed', 'noraml', 'norah', 'noplacehere', 'unimaginable', 'nopaki', 'nooses', 'nooooooooooooooooo', 'nooooooooooo', 'nooooooooo', 'nooooooo', 'noooooo', 'noooapuesto', 'noones', 'nooks', 'noobs', 'noob', 'nonviolence', 'nontrivial', 'unimaginablei', 'nonprofityou', 'nonmuslims', 'nonmuslim', 'nonman', 'nonetheless', 'noneedtogloat', 'nonbinary', 'nonathan', 'nonarabs', 'nonanswer', 'nonabortion', 'nomurud', 'noms', 'nomorexcuses', 'nomore', 'nomoon', 'nomokonokonoko', 'nominees', 'nominee', 'nominating', 'nomercy', 'nombre', 'nomaybe', 'nolion', 'nolife', 'nolanmurray', 'nolan', 'nola', 'nokigivesuwingz', 'nokamryn', 'noits', 'noisy', 'noisis', 'noida', 'nohw', 'nohope', 'nohindutemple', 'nohate', 'nog', 'nofakingg', 'nods', 'nodo', 'nodern', 'nodebotanist', 'nocoz', 'nocoolknickname', 'nocomment', 'nochillpaz', 'noche', 'noc', 'nobut', 'nobodies', 'nobigotry', 'nobelprize', 'nobel', 'nobby', 'nobber', 'nobanact', 'noartienoparty', 'noamchomskyt', 'noahrough', 'noaaammmyyy', 'nnti', 'nnnnnoooooooooo', 'nnnn', 'nne', 'unimpressed', 'nmos', 'nmjc', 'nmcgough', 'nlmgmarc', 'nlbmprez', 'nkt', 'nkrause', 'nkoreans', 'nkli', 'nkilgore', 'nk', 'njh', 'niña', 'nizbit', 'nizarnayouf', 'nizamuddincoronacases', 'niyog', 'niyan', 'niya', 'nivoxz', 'niver', 'niveau', 'nitwits', 'nittygeez', 'nitroo', 'nitishkumar', 'nit', 'nissan', 'nishant', 'niseycouture', 'niqqas', 'niqash', 'nipstagram', 'nipsey', 'nipplesss', 'ninth', 'nintendoswitch', 'ninteensixtyfour', 'ninoblakkx', 'nino', 'ninja', 'nini', 'ninguém', 'nimrod', 'uninstall', 'nimby', 'nimbe', 'nilium', 'nikle', 'nikkioh', 'nikkiglaser', 'nikkie', 'nikker', 'nikii', 'nikielaineinc', 'niki', 'nikfuq', 'nikeyg', 'niketa', 'nikensusanto', 'nikaloge', 'nikal', 'nikaal', 'niiiiiiger', 'niiiiice', 'nih', 'nigro', 'niglet', 'nighttrain', 'nightstick', 'nightjust', 'nightholding', 'nightcore', 'unionist', 'nightamp', 'nighta', 'unionize', 'nigh', 'nigguh', 'niggra', 'niggie', 'nigggger', 'nigget', 'niggeryu', 'niggerxjaws', 'niggerwhewww', 'niggerwaa', 'niggeru', 'niggertyrone', 'niggertits', 'niggertake', 'niggersyes', 'niggersyall', 'niggerstupid', 'niggersthe', 'niggerstfu', 'niggerssmh', 'niggersshut', 'niggersomebody', 'niggersniggers', 'niggersnegros', 'niggersltltdumb', 'niggerskkk', 'niggersi', 'niggershit', 'niggersfuck', 'niggerseven', 'unionjworld', 'niggerrudeu', 'niggerrt', 'niggerrsb', 'niggerrobot', 'niggerprobs', 'niggeron', 'niggerobama', 'niggerltthis', 'niggerltltltthis', 'niggerltltltltltltltltlt', 'niggerltltltlt', 'niggerltltlt', 'niggerltlt', 'niggerltgt', 'niggerlol', 'niggerlmao', 'niggerkmsl', 'niggerish', 'niggeri', 'niggerhttplockerzcoms', 'niggerhe', 'niggerhating', 'niggerhater', 'niggerfuckin', 'niggerend', 'niggerdo', 'niggerbrokeand', 'niggerblacky', 'niggerbitches', 'niggerbet', 'niggerbear', 'unionlobbyist', 'niggda', 'niggazwho', 'niggawhatmoney', 'nigganiggernegro', 'niggalogic', 'niggahas', 'niggahahahahha', 'niggah', 'niggafuck', 'niggafemale', 'niggaas', 'niggaaa', 'uniquely', 'nigewillson', 'nigerplease', 'nigeriaothers', 'nigerians', 'uniqueness', 'nigeriadumb', 'unironic', 'nigerdoormat', 'nigensei', 'nigelkerr', 'nieq', 'niel', 'nieces', 'nidhi', 'nidaansary', 'nicwkelly', 'nicotine', 'nicoleholness', 'nicolebrown', 'nicolasturgeon', 'nicoiemac', 'nicks', 'nickroxnrx', 'nickolemariee', 'unisex', 'nickis', 'nickin', 'unislamic', 'nickel', 'nickdelmazo', 'nicht', 'nicholson', 'nichegamer', 'niche', 'niceslyguy', 'nicehodgy', 'niceee', 'niceantifem', 'nicca', 'nicbeardsley', 'nic', 'nibbis', 'niamhbull', 'niamh', 'nialls', 'unitednations', 'nhlhistorygirl', 'nh', 'ngrti', 'ngpoliceforce', 'ngotak', 'ngos', 'ngoc', 'ngoand', 'ngm', 'ngiyabazonda', 'nggrs', 'ngger', 'ngga', 'ngelawan', 'ngelala', 'ngejokes', 'ngbully', 'ngbelain', 'ngatain', 'nganga', 'unitepink', 'nflmemes', 'nflis', 'nflcommish', 'nfjdjfjdjfj', 'nfccg', 'nfacmoves', 'newz', 'newtgingrich', 'newsworthy', 'newswe', 'newswars', 'newsvinecom', 'newsom', 'newsnight', 'newsnew', 'newsmediaidiots', 'newsletter', 'newsince', 'newshe', 'newsflashthat', 'newsapp', 'newsagentnetnewsadphpurlhttpbitlylxq', 'newsad', 'units', 'newpakistan', 'newmans', 'newideamagazine', 'newhaven', 'newcomers', 'newbyandrew', 'newborns', 'newbies', 'unityrally', 'nevr', 'nevous', 'neveryield', 'nevers', 'nevermind', 'neverending', 'neverbernie', 'neve', 'nevanfuqua', 'nevada', 'neutralize', 'neutrality', 'neurotypical', 'neurons', 'networkð', 'netvisto', 'nettxt', 'nettemichelle', 'netsinger', 'netscapenegro', 'nets', 'netizens', 'nethang', 'netflixs', 'neta', 'neste', 'nessas', 'nessabearcantu', 'nessa', 'nes', 'nerrving', 'nerdsexxxy', 'universitystatistics', 'nerdiness', 'nerdier', 'nerdiejoseph', 'nerdgamer', 'nerdfemale', 'nerddog', 'nerdbully', 'universitário', 'neraka', 'univrsal', 'nephews', 'neoward', 'neopronouns', 'neopet', 'neonsyoutube', 'neonourry', 'neonazis', 'neoliberal', 'neogreek', 'neoege', 'neocons', 'neoaaragorn', 'unixes', 'nennabaston', 'nenhuma', 'nenhum', 'nengi', 'nemri', 'nemesis', 'nema', 'nelsoncat', 'nellywhy', 'nelle', 'nel', 'nekole', 'nek', 'neitherthe', 'neiltyson', 'neilasaurus', 'neighbours', 'neighboring', 'unjoke', 'unjustly', 'nehgov', 'neh', 'neguinho', 'negrosalways', 'unka', 'negroralph', 'negroplease', 'negronigga', 'negronegritonegrita', 'negroid', 'negroi', 'negroblack', 'negroampdon', 'unkindly', 'negotiable', 'negligent', 'negligence', 'negetive', 'neger', 'negatives', 'negativedyllanp', 'negate', 'neftegna', 'neff', 'nefarious', 'neev', 'neelangdave', 'neel', 'neekroh', 'neekie', 'neeed', 'needlepoint', 'neededlmao', 'neededd', 'needarethinkinformat', 'unknowndawg', 'nedslanders', 'ned', 'necrophiliac', 'necrophilia', 'neckzoh', 'necklaces', 'necklace', 'unkool', 'unlawful', 'unlawfully', 'nebulous', 'nebulachain', 'nebula', 'nebruno', 'neber', 'nebbish', 'unlearn', 'unleash', 'neanderthal', 'nealcarter', 'nealcarr', 'nea', 'ndtv', 'ndp', 'ndotchowdhury', 'ndizomthuka', 'ndirishfootball', 'ndilunge', 'ndamendment', 'nctzen', 'nct', 'ncksanchz', 'ncis', 'ncinco', 'nceasl', 'ncaa', 'nby', 'nbw', 'nbueno', 'nbs', 'nbody', 'nbd', 'nbak', 'unleashes', 'naõ', 'nações', 'nazismfascism', 'unlikeable', 'naziophobe', 'naziarmy', 'nazhussain', 'nazareth', 'naynaycantstop', 'nayelixnicoleee', 'nayadri', 'nay', 'naxal', 'nawmy', 'nawmi', 'nawa', 'navratri', 'navratra', 'navinkhaitan', 'navigated', 'navictim', 'nave', 'navarre', 'navahw', 'nauseating', 'naureenax', 'naureen', 'naughtynerdess', 'naughty', 'naturuan', 'natures', 'natureevolution', 'unloading', 'unlocked', 'naturalhair', 'unlogo', 'nattycman', 'natticomeau', 'natous', 'natlz', 'nativists', 'unlucky', 'nationwide', 'nationthere', 'unmarked', 'unmasculine', 'nationalities', 'unmasked', 'nationalistic', 'unmature', 'unmercifully', 'unmitigated', 'natin', 'nathanwassihun', 'nathanrice', 'nathanpoole', 'nathanielhadden', 'nathanael', 'nathan', 'natgotemall', 'natendramodi', 'natehurrle', 'nategutman', 'unmute', 'natch', 'nataytayrow', 'natashas', 'natashalh', 'natanji', 'natalietudor', 'nataliagggomez', 'nat', 'nastypasty', 'nastyjvc', 'unnamed', 'nastiness', 'nasralla', 'nasl', 'nashellbadu', 'nashe', 'nasharchy', 'nash', 'nasboat', 'nasal', 'narutoyein', 'narryyymate', 'narrators', 'narion', 'unnaturally', 'naren', 'narco', 'narcissisticdip', 'narape', 'narad', 'naqueles', 'naquele', 'napping', 'napoléon', 'napoleon', 'napalm', 'napakarmy', 'naomiwwe', 'naomirwolf', 'naomi', 'unnecessarily', 'nantes', 'nanoelle', 'nano', 'nannykfc', 'nanny', 'nani', 'nangisdibawahshower', 'nang', 'nanette', 'nane', 'nandini', 'nandaduartesa', 'nancypelosirocks', 'unnerving', 'nanamilan', 'nana', 'nan', 'namsayin', 'namoral', 'namjoon', 'nameð', 'nameu', 'unnervingly', 'nameif', 'unnie', 'namecalling', 'namazis', 'namaste', 'namandkang', 'nalin', 'nakko', 'nakers', 'nakeddc', 'nakedcheerios', 'nakal', 'nakakadiri', 'nak', 'najween', 'naively', 'unobstructed', 'nailedit', 'nailainayat', 'unodostrayce', 'naijathis', 'naiirita', 'naick', 'naib', 'nahniggernah', 'nahii', 'nahhhhh', 'nahhh', 'nahhell', 'nahh', 'nahbatista', 'nagging', 'nageexist', 'nagawa', 'nag', 'nafalt', 'naeun', 'naethelovelyone', 'naehomelessness', 'nadu', 'nadinebtrfan', 'nadie', 'nadda', 'nac', 'nabvi', 'nabra', 'naazzk', 'naazaish', 'naay', 'naawp', 'naattss', 'naaray', 'naam', 'naah', 'naaaw', 'naaahhh', 'naa', 'unpack', 'músicas', 'mãe', 'mã', 'mâ', 'mzwandile', 'mzlongleggz', 'mzlaina', 'mzi', 'mzbenz', 'myyyyyyy', 'myyyy', 'mywishin', 'myvote', 'myveejay', 'mythical', 'mythat', 'mysweetness', 'mystyre', 'mysterious', 'mysoginists', 'myselfe', 'mysef', 'mys', 'myriad', 'myquotesswag', 'myplayers', 'mypatronusisyou', 'mynigga', 'mynameztom', 'mynameiskhan', 'mynameisjonnii', 'mynameisface', 'mynameisearl', 'mynamar', 'mylife', 'myliek', 'mylblife', 'mykualla', 'myknittingwool', 'unpardonable', 'myjam', 'myi', 'myfucking', 'myfavstrash', 'myeeshaanna', 'mye', 'mydiddybop', 'mydearwormwood', 'myday', 'myboy', 'mybodymychoice', 'mybirthname', 'myaunt', 'myasia', 'mxtx', 'mxnira', 'mxm', 'mxattx', 'mwlorgen', 'unpc', 'mwilbur', 'mwforhr', 'mwaqar', 'mwah', 'mwa', 'mvps', 'mvmt', 'mvketowers', 'mvelic', 'mvckfadden', 'muçarela', 'muva', 'mutualsguys', 'unpccomix', 'mutter', 'mutt', 'mutra', 'mutludc', 'muting', 'mutherfucking', 'mutherfucker', 'muthafuker', 'muthafuckas', 'muthafu', 'mutguru', 'mutating', 'mutant', 'mutagens', 'musy', 'mustn', 'mustfollow', 'mustang', 'mustafi', 'mustafahkennedy', 'muslmdawah', 'muslm', 'muslins', 'muslin', 'muslimwhy', 'muslimtwitter', 'muslimthen', 'muslimswhy', 'muslimswell', 'muslimsur', 'muslimsthey', 'muslimsstop', 'muslimsso', 'muslimspeace', 'muslimspakistanissoyou', 'muslimsor', 'muslimsnow', 'muslimsman', 'muslimslynchinghindus', 'muslimslooks', 'muslimslivesmatter', 'muslimsits', 'muslimsislam', 'muslimsif', 'muslimshameful', 'muslimsdo', 'muslimsconnect', 'muslimscolluding', 'muslimschinese', 'muslimschi', 'muslimsbut', 'muslimsbeing', 'muslimsareterrorist', 'muslimsarabsegyptiansbuddhistschristians', 'muslimsanyways', 'muslimsall', 'unpga', 'muslimpersons', 'muslimpatrol', 'muslimnot', 'muslimnew', 'muslimloveindia', 'muslimlivesmatter', 'muslimhow', 'muslimgo', 'muslimgirl', 'muslimgenocide', 'muslimfor', 'muslimchristian', 'muslimchoosing', 'muslimbut', 'muslimbrotherhood', 'muslimbrotherhod', 'muslimban', 'muslimatankwaad', 'muslimat', 'muslimanarchist', 'muslimampchristian', 'muslimamp', 'muslimahnews', 'muslima', 'musli', 'musk', 'musjid', 'musing', 'musim', 'musiibo', 'musicyousavedme', 'musicxcraze', 'musicshooter', 'musician', 'musicgeekminaj', 'mushrooms', 'mushrooming', 'mushriks', 'mushlim', 'museumbartonight', 'muscular', 'musalmano', 'musalman', 'murtazageonews', 'murtaddeen', 'murry', 'murray', 'murrah', 'murphysimon', 'murk', 'murica', 'murdochs', 'murdoch', 'murdoc', 'unpluggingreplugging', 'unpolished', 'unpoliticalprty', 'murdereryou', 'unprecedented', 'murderedbombeddestroyed', 'unpredictable', 'murderbigotry', 'unpresidential', 'murdeing', 'murde', 'murdamookez', 'murdagame', 'murda', 'muratkuzgun', 'murata', 'murari', 'mur', 'muppets', 'munthir', 'munshi', 'munis', 'municipalities', 'munich', 'mungu', 'mungo', 'munchneedchill', 'munchetty', 'munasmiley', 'munafiqeens', 'mun', 'mumtazceltik', 'mumrapegay', 'mummyyjoy', 'mummy', 'mummies', 'mummer', 'mumblyjoe', 'mumbaiterrorattack', 'mumbais', 'unprincipled', 'multiverses', 'multitude', 'multitask', 'multistoried', 'multiplicador', 'unproductive', 'multiplayers', 'multimillionaire', 'multimedia', 'multan', 'mulsims', 'mulle', 'mullavictim', 'mullasyou', 'unprotected', 'mulla', 'mulims', 'mulheres', 'mulford', 'muldoon', 'mulch', 'mulatos', 'mulaney', 'mukt', 'mukhtarnaqvi', 'mujra', 'mujibur', 'mujib', 'mujer', 'mujahiddin', 'mujahidak', 'mujahid', 'muitas', 'muimlim', 'muhibbudhin', 'muhhamad', 'muhfcka', 'muhc', 'muhammed', 'muhammadquranislam', 'muhammadizzann', 'muhammadali', 'muhamad', 'muhajid', 'muhaddith', 'mugs', 'mugnezee', 'mugly', 'muggleborns', 'muggle', 'muggings', 'muggers', 'mugged', 'mugg', 'mugals', 'muftimenk', 'muftahorg', 'muffintopmon', 'muffins', 'mufasa', 'muestra', 'muelleramptrueamptwitterimpressiontrue', 'unpublications', 'mudlim', 'muders', 'muddled', 'mudda', 'mudar', 'mudafucker', 'mud', 'mucus', 'muck', 'muchos', 'muchly', 'muchfollow', 'muchcan', 'muath', 'muahahaha', 'mua', 'mtvhottest', 'mtvgaga', 'mtlb', 'mthokozeni', 'mtdewnoscope', 'mtbakertheatre', 'unpublished', 'mszubrina', 'msw', 'msvinntage', 'msuniquet', 'msugioarto', 'msthompson', 'mssyboi', 'mssweetjonesss', 'msshandrarae', 'msreno', 'msrebeccablack', 'msprimadona', 'msnique', 'msnayebaby', 'msms', 'unrealistic', 'msloulou', 'mslms', 'mslm', 'mslizziemarie', 'mslh', 'mslatoyag', 'mskoolaidsmile', 'mskellay', 'mske', 'msk', 'msintervention', 'msians', 'msgs', 'msgmeaning', 'mses', 'mseloom', 'mseifried', 'mscandii', 'msbnc', 'msantosxo', 'msama', 'mrwolfeee', 'mruthkrik', 'mrtsterner', 'mrtonymartin', 'mrtimothykaye', 'mrtaxnjckson', 'mrsvanessatrump', 'mrstrump', 'mrstjohnsgreat', 'mrstayinyolane', 'mrssamirnasri', 'mrsquire', 'mrsmwbands', 'mrsmufc', 'mrskparrish', 'mrsdecav', 'mrsbarkel', 'mrrheese', 'mrrglgrgl', 'mrrepzion', 'mrreese', 'mrredmartian', 'mrpresident', 'mrpeterandre', 'mrpatriot', 'mrp', 'mrosyriveter', 'mroficial', 'mrniceguy', 'mrnatural', 'mrn', 'mrmodace', 'mrmikeyreid', 'mrmaskeddows', 'mrmarcwithacee', 'mrmanps', 'mrmadeulook', 'mrmacasshole', 'mrlowercasea', 'mrleelhb', 'mrlebrun', 'mrknicknack', 'mrkakawani', 'mrjokeredward', 'mrjihadihow', 'mrinsaf', 'mriceguy', 'mrhee', 'mrharris', 'mrhandsomeee', 'mrguestlist', 'mrgimmiedatbeat', 'mrgarvey', 'mrfootball', 'mrflysociety', 'mrfloyd', 'mredkavalee', 'mrdewmaster', 'mrder', 'mrdangdang', 'mrdane', 'mrcyruscom', 'mrcpt', 'mrchuckd', 'mrcarter', 'mrburns', 'mrbump', 'mrbrokaw', 'mrbossftw', 'mralext', 'mragaterwhatever', 'mrad', 'unrecognizableampunreasonable', 'mpshirey', 'mphusaindalwai', 'mphorez', 'mpdial', 'mpanzthabiso', 'mozzythamotive', 'mozlimz', 'mozambique', 'mowins', 'mowhores', 'movinggoalposts', 'unrelenting', 'movin', 'moviments', 'movimento', 'moviestv', 'unrelentingly', 'moviemight', 'moviegoers', 'moviegems', 'unreliable', 'movementrpc', 'movementist', 'unrequited', 'unrespectful', 'mouthpiece', 'mouthour', 'mouthnigger', 'mouthing', 'mouthevery', 'mouthed', 'mouthbreathers', 'moustachioed', 'moustache', 'mourns', 'mourning', 'mourabitoun', 'mounts', 'mountie', 'moufofdasouth', 'motto', 'motorcitybellex', 'motivo', 'motives', 'motivators', 'motivator', 'motivational', 'motion', 'motherteresa', 'motherson', 'motherly', 'motherjones', 'motherhood', 'motherfuckin', 'unsaid', 'motherfckers', 'motherboard', 'unsanitary', 'mothafuckin', 'mothafuckas', 'motha', 'moth', 'motel', 'motdfuck', 'unsc', 'mosty', 'mostttt', 'mostlywomen', 'mostidiot', 'mostaacks', 'mosquès', 'mosquitos', 'mosquitoes', 'mosquewe', 'unscripted', 'mosquemaryam', 'unsee', 'mosman', 'moslims', 'mosleytribe', 'mosher', 'moses', 'moscow', 'mosaic', 'mos', 'morvantcheryl', 'mortis', 'mortifying', 'morte', 'mortared', 'mortar', 'mortality', 'mortal', 'morselya', 'morris', 'morphs', 'morph', 'moronity', 'moronbitch', 'unsettles', 'moromon', 'moro', 'morningsir', 'morningg', 'unskilled', 'morneau', 'morn', 'mormonsutah', 'morld', 'morginward', 'morganmcclain', 'morganastra', 'morgana', 'unsmooth', 'morfca', 'moreyears', 'morethan', 'moresnow', 'morel', 'moregt', 'morecaucusuft', 'mordi', 'morcheeba', 'morbid', 'morasilh', 'moralofthestory', 'moralcourage', 'moralcharacter', 'unspeakable', 'morafornelli', 'mor', 'moprepboy', 'moplahbengalup', 'moplac', 'moor', 'moooooore', 'moony', 'moonnor', 'moonk', 'moonchildren', 'moomer', 'moola', 'mookymcnasty', 'moods', 'unstanning', 'mooching', 'monur', 'monument', 'montrell', 'unstyconverted', 'unsubscribe', 'montelin', 'monte', 'monstrosities', 'unsubscribed', 'unsubstantiated', 'monoxide', 'monopoly', 'monogamy', 'monochromatic', 'mono', 'monna', 'unsubtle', 'monkeynypd', 'monkeyetc', 'unsuccessful', 'monitoring', 'unsung', 'moniquehoesan', 'moniker', 'monicaluck', 'monicalewinsky', 'mongrel', 'mongolian', 'mongodb', 'unsupported', 'monger', 'moneysound', 'moneyslave', 'moneys', 'moneymikemitch', 'moneyhungry', 'moneyevery', 'moneyandmary', 'unsupportive', 'monetizing', 'monetize', 'moneh', 'mondekelsie', 'mondayonly', 'mondaycant', 'unsure', 'monaro', 'monarchs', 'monarch', 'mona', 'momz', 'momtherapistsetc', 'momthats', 'momorsa', 'momories', 'momoland', 'mommys', 'mommybloggers', 'mommmmmmm', 'mommas', 'mommajillwallace', 'mommagrocks', 'momenttheres', 'momentsimissthatoldmanofhonor', 'unt', 'momentos', 'momentary', 'momentarily', 'momconflicted', 'momarazzi', 'moma', 'untalked', 'moly', 'molviyis', 'molvis', 'molotov', 'molonlabe', 'moloch', 'mollys', 'mollymarie', 'mollycoddled', 'molls', 'molliejones', 'moll', 'moley', 'molesters', 'molestarlo', 'moles', 'molenbeek', 'moldy', 'molatiz', 'mojizel', 'moito', 'mohon', 'mohommed', 'mohitmsood', 'mohds', 'mohdrizwangujjar', 'mohatama', 'mohamuds', 'mohammeduk', 'mohammedtaouf', 'untasteful', 'mohammedpubh', 'mohammedbenanam', 'unteenable', 'untenable', 'mohameds', 'mohamad', 'mogadishu', 'moflavadj', 'moetken', 'moedurden', 'moeblike', 'modtalkleak', 'modisurrenderstochina', 'modisurrendersgalwanvalley', 'modimadedisaster', 'modijisavedoctors', 'modijis', 'modigovernment', 'modicum', 'untested', 'modesty', 'modestly', 'modest', 'modernyoung', 'modernized', 'modernise', 'untill', 'moderator', 'moderation', 'moderately', 'moderated', 'untimelygamer', 'untnews', 'modelesque', 'modeled', 'mocktheweek', 'mockingbird', 'mockednow', 'untouchableshe', 'untouched', 'mocinha', 'mocho', 'mochagraham', 'moccochang', 'moc', 'mobynching', 'mobjigga', 'mobilize', 'mobility', 'mobetta', 'mobb', 'mobage', 'untradeble', 'moans', 'moaners', 'moa', 'untrue', 'mnyou', 'mnuchin', 'mntana', 'mnsvng', 'mnreformer', 'mnk', 'mnh', 'mnetboys', 'mnel', 'mmwila', 'mmvas', 'mms', 'mmochampion', 'mmmseany', 'mmmmm', 'mmmmbacon', 'untrustable', 'mmjspelman', 'mmhmm', 'mme', 'untsocial', 'mlkday', 'mlinliin', 'mlgzooted', 'mlgrelaxer', 'mlgraxx', 'mlgomni', 'mlgffamine', 'mlgcodyy', 'mlgbranny', 'mlg', 'mlecchas', 'mleasure', 'mlas', 'mky', 'mkrsexylloyd', 'mkrs', 'mkriegbaumjr', 'untwist', 'mkofficial', 'mkidj', 'mkhajdin', 'mkes', 'mkaygreene', 'mjumeh', 'mjs', 'mjr', 'mjolna', 'mjjeremiah', 'mjem', 'mjcochran', 'mjbsf', 'mjayrosenberg', 'mjanetmars', 'mjalshrika', 'mizzshayboo', 'mizuniver', 'miyabi', 'mixure', 'mixture', 'mixes', 'mixedisnt', 'unu', 'unusual', 'mitz', 'mitrebox', 'mitne', 'mitchmilesmurph', 'mitchkelly', 'mitchjump', 'mitchie', 'mitchell', 'mitch', 'mitake', 'misógino', 'miszchyna', 'misygonist', 'misuses', 'misused', 'misuh', 'misty', 'mistrust', 'mistressmatisse', 'mistreats', 'misterfister', 'mistaking', 'mistaketook', 'mistakestop', 'mistakesboysmake', 'mistakegirl', 'unveil', 'misszoelala', 'missykathy', 'missus', 'missunderstanding', 'missserenareads', 'misss', 'missrammie', 'misspronuouncing', 'misspelling', 'misspell', 'missourah', 'missonary', 'misslamuerta', 'misskolathis', 'misskeribaby', 'misskeeta', 'missjupiter', 'missions', 'missionaryampradical', 'missionariesnaxalites', 'missingwhose', 'unwaned', 'missinformed', 'missiles', 'missile', 'missgypsyck', 'missemma', 'misscandyx', 'missalimarie', 'unwarranted', 'misreading', 'misread', 'misquoted', 'mispronounce', 'misplaced', 'misogynyhomophobia', 'unwashed', 'unwatchable', 'unwavering', 'misogonist', 'misleaded', 'mislabeled', 'misjudged', 'misinterpretion', 'misinterpreting', 'misinterpreted', 'misinformationlie', 'misimpression', 'mishkin', 'mishbucsai', 'misguide', 'misguidance', 'misgendering', 'misgendered', 'misfits', 'misfitinchains', 'miseries', 'unwaveringly', 'misdirecting', 'misdeeds', 'misconstrue', 'misconceptions', 'misconception', 'mischievous', 'mischief', 'miscellanées', 'misbehavior', 'misbehaved', 'misaligned', 'misake', 'misable', 'mirzawaheed', 'mirwaizkashmir', 'unwittingly', 'mirrawey', 'mirlagerfield', 'mirelaladen', 'mirebotan', 'mirandanwalton', 'mirandaalynn', 'miranda', 'mirahimage', 'mipesomhe', 'minutos', 'minutesi', 'minuscule', 'minty', 'mintt', 'mints', 'mintpressnews', 'minted', 'minta', 'unwrittenj', 'minors', 'minoroty', 'minorityrights', 'minorityamp', 'uod', 'minoritiesshame', 'minoritieshtml', 'minoritiesbecoz', 'upa', 'minorannoyance', 'upabout', 'minntzy', 'minnie', 'minnesotas', 'upandaway', 'minjungs', 'minjeong', 'minj', 'minivan', 'ministryofstalk', 'ministration', 'ministrando', 'ministers', 'upanishads', 'minioritys', 'minimizing', 'minimized', 'minimising', 'minimised', 'minigame', 'miniestmini', 'minidome', 'minichettiutmsourcetwamputmmediumwhizbuzzbcopydamputmcampaignsnap', 'minichetti', 'minhwan', 'upar', 'mineral', 'mindyrosier', 'mindwho', 'mindvision', 'mindsjust', 'upbringing', 'mindofmo', 'mindofaymaniac', 'mindofagenius', 'mindlessly', 'mindlessbhavior', 'mindgrowth', 'mindfulness', 'mindful', 'mindbut', 'minasmith', 'mimosas', 'mimic', 'milyhehe', 'milwaukee', 'miltshook', 'milta', 'miloge', 'millionsmarchnyc', 'updown', 'millionlivesmatter', 'millionairebillionaire', 'upend', 'millie', 'millhouse', 'millett', 'milleteng', 'millermad', 'millennium', 'millennials', 'millennial', 'millenials', 'millbauer', 'milkmaid', 'milking', 'upfront', 'upfuck', 'militarypathway', 'militaries', 'militancy', 'milion', 'milikelyke', 'mileys', 'uphlbno', 'milestone', 'milesmtv', 'mile', 'mildest', 'mild', 'milakunis', 'milahdenise', 'milady', 'miku', 'mikistones', 'mikhail', 'mikeymike', 'mikeyfenn', 'mikevick', 'mikestud', 'mikespencer', 'upholding', 'mikes', 'mikeq', 'mikepearson', 'mikeofcc', 'mikemulti', 'mikeltfubrown', 'mikelahenry', 'mikehpr', 'mikehillespn', 'mikehctr', 'mikeharrisn', 'mikegvrza', 'mikefrancesayes', 'mikedevil', 'mikeboom', 'mikebigby', 'mikebautista', 'upholds', 'miint', 'miikitox', 'migrates', 'migrantion', 'migrant', 'migraines', 'migo', 'mightyjoeham', 'mightve', 'mightnt', 'mightily', 'mighthe', 'mightd', 'mightcould', 'miftakhair', 'midwife', 'midwest', 'midway', 'midtown', 'midterms', 'midterm', 'midly', 'midlifecrisis', 'midland', 'midiots', 'midhigh', 'midgets', 'midget', 'midfield', 'mideo', 'middxfa', 'middleinformer', 'upholste', 'middleeasteye', 'middleeast', 'middleearly', 'middleclassanger', 'upi', 'upits', 'microsoftcares', 'microscopes', 'microphone', 'microjacksonkj', 'microaggressions', 'micro', 'micpye', 'mickyhouy', 'mickie', 'mickeyavalon', 'mickens', 'michxeijxckson', 'michiryan', 'michigans', 'michelledbeadle', 'micheal', 'michaelvaughan', 'michaeltoes', 'michaeltavon', 'michaels', 'michaelkeyes', 'michaelgaristo', 'michaeldelbay', 'michaelcondrey', 'michaelaubele', 'michaela', 'uplayubisoft', 'micaleel', 'mib', 'miatheboss', 'miamidouchebag', 'miakhalifa', 'miaimperial', 'uplift', 'mhoye', 'mhleli', 'mhen', 'mharrisperry', 'mgtxzbamps', 'mgthevillain', 'mgtaylor', 'mgr', 'mgniii', 'mgmt', 'mgm', 'mgcoll', 'mgandhi', 'uplifted', 'mfw', 'mfn', 'mfjlewis', 'mfing', 'mfc', 'mfaturkey', 'meyes', 'mexicanlatina', 'mex', 'mewtwo', 'mewat', 'mewanted', 'mever', 'mets', 'metrosexual', 'metropolitan', 'metropolis', 'upp', 'metrofm', 'metroadlib', 'metric', 'metres', 'metokur', 'meto', 'meting', 'methteeth', 'methout', 'methey', 'methat', 'methank', 'methaniel', 'upperclassmen', 'meters', 'mete', 'metas', 'metaphorically', 'metaphorical', 'metamorphosis', 'metabolism', 'meta', 'uppercut', 'mestizos', 'mestaryobra', 'messyprostituting', 'messs', 'messlike', 'messier', 'messican', 'messianic', 'messiahturns', 'messiahs', 'messiah', 'messengers', 'uppp', 'upppppp', 'mesner', 'mesmerise', 'mesjidsampmuslim', 'meshanojas', 'mesaid', 'meryl', 'merusworks', 'merrylands', 'merrell', 'meron', 'mermaidx', 'merlyn', 'merkel', 'merits', 'meritocracy', 'meringue', 'meridethbieber', 'merger', 'meredith', 'mereachingout', 'uprooted', 'upsets', 'merciful', 'merchant', 'merchandise', 'mercer', 'mercenary', 'mercedesamgf', 'meralhece', 'mep', 'meowrobot', 'meof', 'menz', 'upsettin', 'mentored', 'mentirosa', 'mentionke', 'upsettingperhaps', 'menthey', 'mentes', 'mentalmente', 'upstate', 'mentalitysorry', 'mentalilty', 'uptoand', 'mentain', 'menstrual', 'mensrightsrdt', 'uptownsfav', 'menrwizards', 'menonstrike', 'menlet', 'menjadi', 'meninst', 'meninist', 'menininha', 'meningitis', 'meningbird', 'menina', 'menin', 'menghina', 'mene', 'mendenhall', 'mendapatkan', 'menance', 'menaka', 'menac', 'upxm', 'memsksk', 'memri', 'memphis', 'uraatay', 'memorized', 'memorization', 'memon', 'memestagram', 'urbangaygriot', 'memelord', 'memebers', 'urbanski', 'membrs', 'membersplease', 'membership', 'urbanvalues', 'memberits', 'memberikan', 'urbina', 'memaki', 'memade', 'mema', 'melts', 'meltdowns', 'melstar', 'melody', 'melodram', 'mellymel', 'melissaterrones', 'melissaryan', 'melissagira', 'melissa', 'melhyphen', 'melh', 'melet', 'melctyrevslufc', 'melcornelius', 'melanin', 'melaniedrinnan', 'melababy', 'mek', 'meizybaby', 'meisupport', 'mehsusan', 'mehreen', 'mehowever', 'mehmood', 'mehmet', 'mehfooz', 'mehdonny', 'mehboobamufti', 'mehated', 'megztttw', 'megatron', 'megatokyo', 'meganrl', 'meganplays', 'meganpayned', 'megankelly', 'megangarland', 'megane', 'meganavocado', 'meganamram', 'megan', 'megamindnick', 'megami', 'megalomaniacs', 'megalomaniac', 'megahalfie', 'megadyke', 'megaaylewy', 'mega', 'mefixerr', 'meffing', 'meff', 'meettttt', 'meetthebatman', 'meetjosmith', 'urgent', 'urgently', 'meening', 'meekmill', 'meeka', 'meek', 'meeeeeeeepo', 'meeee', 'meech', 'mee', 'medusa', 'medswhat', 'medpsycmajors', 'medo', 'mediums', 'meditating', 'medirty', 'medinathey', 'urging', 'medicalaidpal', 'urgnt', 'mediator', 'mediathe', 'mediabut', 'mediaampalso', 'urie', 'meddlers', 'meddled', 'meddle', 'urinated', 'med', 'meclaim', 'meckel', 'mecheck', 'mechasauce', 'mechapoetic', 'mechanisms', 'mechanics', 'mecaesmal', 'mebeing', 'meaty', 'meatsauce', 'meats', 'meatherdash', 'meathead', 'meatgrindr', 'meatgirls', 'measurement', 'measured', 'measles', 'meanthat', 'meantest', 'urkindofbrand', 'urks', 'meanies', 'meangive', 'meandtig', 'meandean', 'meana', 'urlauthor', 'meaindia', 'meagan', 'mea', 'mdzs', 'mdna', 'mdmpsy', 'mdesabato', 'mdelafontaine', 'mddleastprince', 'mdbishop', 'mcswtrvst', 'mcspocky', 'mcs', 'mcppresident', 'mcpherson', 'mcnedelsky', 'mcnasty', 'mcn', 'mcmasters', 'mcmahon', 'mcm', 'mckinnon', 'mckinney', 'mckinlayliz', 'mckinlay', 'mckeldin', 'mcjdagreat', 'mcintyre', 'mcintosh', 'mchenryross', 'mcgruders', 'mcgorrigan', 'mcfly', 'mcelhone', 'mcds', 'mcdorman', 'mcdonals', 'mcddjj', 'mcdavideichel', 'mcdavid', 'mcdaniel', 'mcd', 'mccree', 'mccoys', 'mcconnell', 'mccollum', 'mcclouskey', 'mcclain', 'mccar', 'mccains', 'mcbride', 'mcateebooks', 'mcaops', 'mcallisterden', 'mcacapello', 'mcabbas', 'mbrew', 'mbo', 'mbmbam', 'mbde', 'mbbriand', 'mba', 'mb', 'maşalyan', 'mañana', 'mazzz', 'mazloum', 'maze', 'mazak', 'mazaaq', 'mayyyybe', 'mayssss', 'mayors', 'mayornyc', 'mayorga', 'urltv', 'mayonnaise', 'mayonaise', 'maymay', 'mayhaps', 'mayer', 'maybesexist', 'maybemidfield', 'maybee', 'maybachs', 'maybach', 'mayatyahya', 'mayadeen', 'maxxmageee', 'maxwell', 'maxofsd', 'maxmoefoe', 'maximoff', 'maxime', 'maxhenryauthor', 'maxdavidpaul', 'maxcodedy', 'urologist', 'maxblacksheep', 'urr', 'maws', 'mawning', 'maut', 'maurya', 'mauro', 'maureenjs', 'maulvis', 'maulvi', 'maullyolly', 'maulanasaad', 'maualvas', 'matutino', 'matures', 'maturemoms', 'ursa', 'mattyrowell', 'mattyice', 'mattyclark', 'urslf', 'matttoppa', 'matttherios', 'mattscorpio', 'mattress', 'mattp', 'mattmurphy', 'mattmiazga', 'mattlb', 'mattissotrendy', 'matthewsays', 'matthewknight', 'matthewjones', 'mattflamand', 'matteryou', 'matterthey', 'mattersreligion', 'ursovanilla', 'usable', 'mattemery', 'mattel', 'matte', 'mattdavedavies', 'mattcamps', 'mattblondek', 'usado', 'matronly', 'matriculants', 'matou', 'matotoo', 'mathof', 'mathis', 'mathematics', 'mathematicianboth', 'maternity', 'materialtopicssyllabusmy', 'materials', 'materialize', 'matenot', 'matecan', 'matebut', 'usainbolt', 'matchtalk', 'matchmakingaparna', 'matchmaking', 'usally', 'matarmalak', 'matarcomtiro', 'matangi', 'matam', 'masturbate', 'mastostm', 'mastevy', 'masterrofpuppet', 'masterninja', 'masterj', 'mastering', 'masterfully', 'masterbatker', 'usambnl', 'masta', 'massni', 'usaone', 'massimo', 'massacring', 'massacres', 'usar', 'massacering', 'usaram', 'masoomon', 'masonrulz', 'masonrhade', 'masonjarvis', 'masonic', 'masonclay', 'masochistand', 'masmamah', 'maskup', 'usas', 'maskers', 'masked', 'usawhy', 'masivo', 'masih', 'masi', 'mashup', 'mashabas', 'masha', 'maseeh', 'usdghidsujfhg', 'mascarpone', 'masalabai', 'masahif', 'masacre', 'masa', 'usdnobody', 'marzzx', 'maryrogar', 'marylene', 'maryjbligenews', 'maryforbes', 'maryanne', 'usdojs', 'marxistmuslim', 'marxistcomunism', 'useamp', 'marxis', 'marvintodd', 'marvinjrees', 'marvelousmusing', 'marvelous', 'useampif', 'marved', 'maru', 'martyrs', 'martyncapp', 'martybiron', 'marty', 'martinsnottrill', 'martino', 'martinlutherpls', 'martinez', 'useare', 'martians', 'marthas', 'martay', 'marsxgod', 'marshmallow', 'marshannn', 'marshanda', 'marshallss', 'marsden', 'marscarpone', 'marrón', 'usecouldnt', 'useddo', 'marrow', 'marriott', 'marriedmed', 'marriedatfirstsight', 'marriagedozen', 'usefuiidiot', 'marquis', 'marquesdaryl', 'marques', 'marqrobinson', 'maroon', 'marnoldpalmer', 'marnold', 'marmiterus', 'marlputri', 'marlothomas', 'marlon', 'marlomusic', 'marleymeks', 'marleyfeen', 'marley', 'marlenac', 'marla', 'markuslenz', 'markusfeehily', 'markus', 'marktvn', 'marktuna', 'marktrueblood', 'marksanchez', 'markrubello', 'markroundtreejr', 'markmcreynolds', 'markm', 'markle', 'markiplier', 'markimbriaco', 'markhgn', 'markgaleotti', 'usefulidiots', 'markdice', 'markdavis', 'markafuquahunt', 'usefull', 'marj', 'marissamariie', 'marines', 'marinated', 'marinasdiamonds', 'marilyn', 'mariimarqs', 'marifbatista', 'marieharf', 'marianne', 'marianagmez', 'marianacouto', 'mariaaelise', 'marguerite', 'marginalize', 'marginalization', 'marginalism', 'marginalised', 'margariaziza', 'margaretcho', 'margaretavania', 'usembassies', 'marerawr', 'mareep', 'mare', 'mardimoi', 'mardegi', 'mardeekm', 'marcushokage', 'marct', 'marcotte', 'marcos', 'marcoli', 'marcodeservedbetter', 'marcirl', 'marchsown', 'marching', 'marchers', 'marched', 'marchandsego', 'usembassyharare', 'marce', 'marca', 'marawilson', 'maravillatom', 'maracas', 'mar', 'mapsdata', 'maori', 'maoist', 'maobane', 'manã', 'manâ', 'manwoman', 'manuwho', 'manutd', 'manus', 'manufacturing', 'usembassyjlm', 'manti', 'mantelpiece', 'mantasfl', 'manssport', 'manspreading', 'manonive', 'mano', 'mannythemenace', 'mannypacquiao', 'mannymua', 'manny', 'mannnnn', 'mannn', 'mannerswe', 'mannerbunds', 'manmumtaz', 'manmade', 'manlyplayer', 'manjuyod', 'manit', 'manipur', 'manipulators', 'manilanews', 'manila', 'maniktalaall', 'manigga', 'manifestação', 'maniacmcgee', 'manhunt', 'manhe', 'manhattan', 'mango', 'manginas', 'mangaluru', 'mangalore', 'mangadex', 'manfsteeel', 'maneuvering', 'manera', 'maneira', 'manega', 'mandys', 'mandou', 'mandingo', 'mandem', 'mandbeck', 'mandating', 'mandaswaggie', 'manchildren', 'manchester', 'manches', 'manboydumb', 'manbitch', 'manbabies', 'manaus', 'userspace', 'useurtongue', 'manag', 'manafort', 'manadeprived', 'manabanana', 'manab', 'usfollow', 'mamá', 'mamshae', 'mampg', 'mamona', 'mammys', 'mammoth', 'mammified', 'mammary', 'mammals', 'mamimermelada', 'mamiip', 'mames', 'mamataofficial', 'mamamoo', 'mamamia', 'mamak', 'mamaeri', 'usgovernment', 'malugatto', 'maltrato', 'malteserubble', 'maltayer', 'malpractices', 'malpractice', 'malnoidyankee', 'mallory', 'malkiacurie', 'malkia', 'maliki', 'malik', 'malignoslt', 'malignos', 'maligned', 'malickbee', 'mali', 'malfunctioning', 'malfunction', 'malfoy', 'maletears', 'malesthe', 'malessociety', 'ushering', 'maleprivilege', 'malema', 'malekason', 'malefoot', 'malefemalegnc', 'usherpassion', 'maldives', 'malaysians', 'malays', 'malaydude', 'malayalee', 'malawian', 'malam', 'malalahypocrite', 'malala', 'malah', 'maladroit', 'malachi', 'malabar', 'mal', 'makâ', 'makofury', 'makkaarmuslims', 'makka', 'makingcommissioning', 'usits', 'makimh', 'makgowa', 'makeyoulovemee', 'usley', 'makesmesomad', 'usmarinecorps', 'usmca', 'makel', 'makeing', 'makefeministcry', 'usmds', 'makayylameow', 'makaylatylerdo', 'makaylarenee', 'makandiwa', 'makan', 'makakakita', 'majorx', 'majorpoonia', 'majorpaulsmyth', 'usmle', 'majorit', 'majoring', 'majorgauravarya', 'majored', 'usnatarchives', 'majinbitch', 'majestic', 'majes', 'majah', 'usne', 'maire', 'mairabenjamin', 'mainvocai', 'maintainof', 'mainstreet', 'mainstreamchurch', 'uspatialsymp', 'uss', 'mainline', 'mainland', 'maingirls', 'mainediworld', 'mained', 'usse', 'mainboys', 'usseriously', 'maimed', 'mails', 'mailonline', 'maileee', 'mailboxes', 'mailandguardian', 'ussr', 'maieaiyed', 'maiduguri', 'maidan', 'maicon', 'mahwambi', 'mahrez', 'mahnn', 'mahn', 'mahmut', 'mahmoud', 'mahmood', 'mahfucker', 'mahfucka', 'mahesh', 'mahela', 'mahdi', 'mahdamarocb', 'mahasabha', 'maharaja', 'maharaj', 'mahadri', 'magus', 'mags', 'magra', 'magpies', 'magnusxxn', 'magnus', 'magnitudes', 'magnifying', 'magniflux', 'magna', 'magistrates', 'magina', 'magikkh', 'magiging', 'magicshows', 'ustajudge', 'ustedes', 'maggot', 'maggiesox', 'magents', 'mage', 'magath', 'magallonaian', 'magalic', 'mafs', 'mafghan', 'maelbeek', 'madwhitepeople', 'madusa', 'madtzoo', 'madtrophywife', 'madt', 'madrugadisse', 'madrsaa', 'madressa', 'madres', 'madre', 'usworld', 'madrasachap', 'madnesss', 'madjoypad', 'madjan', 'madi', 'madhappy', 'madflyentist', 'madethat', 'madersachap', 'madelineashby', 'madejokes', 'maddyiegalbann', 'maddy', 'maddotsu', 'maddiewozniak', 'maddh', 'madder', 'maddens', 'maddening', 'madddierusssell', 'madddddddd', 'maddddddd', 'madddd', 'usyou', 'madarsha', 'madarse', 'madarsachaaps', 'madarsaas', 'madarasa', 'macys', 'macstein', 'macquarie', 'macoy', 'maclin', 'maclemon', 'mackymarz', 'mackweezy', 'mackmanee', 'macklmore', 'mackirstys', 'mackinxstackin', 'mackem', 'mackeben', 'mack', 'macies', 'uta', 'machin', 'machihathelma', 'macfreshprince', 'macfarlanesque', 'macewanu', 'macewanosvpe', 'macewan', 'macdonald', 'macchli', 'maccas', 'maccapone', 'macam', 'macalofishuc', 'macabritpopdm', 'macaalejandra', 'mabry', 'mabnoxshuz', 'mabnfsnim', 'mabigyan', 'mabel', 'maarne', 'maan', 'maajid', 'maafucks', 'maafi', 'maae', 'maaddddddd', 'maaan', 'maaam', 'maaadddd', 'maaaddd', 'maaaan', 'maaaad', 'maaaaannn', 'utak', 'løjt', 'língua', 'lécole', 'lçksaçkdsalçkdsa', 'lyzbutz', 'lyuze', 'lysm', 'lysaterkeurst', 'lyricshahahanigger', 'lyric', 'lyons', 'lynzey', 'utaunenamibot', 'uterus', 'lyneepooo', 'lyndseyboo', 'lyndsay', 'lyndon', 'lyndagage', 'lyndag', 'lynchings', 'uthanks', 'lynchedw', 'uthe', 'lymphedema', 'lylapooh', 'lyke', 'lyingim', 'lyingampshe', 'uthman', 'lye', 'lydiaslyfe', 'lydialiskai', 'lydia', 'lyd', 'lychees', 'lwwy', 'lwj', 'lweiting', 'lvview', 'lvoe', 'lvelya', 'luís', 'luz', 'luvvieig', 'luvselenamarie', 'luvmlfs', 'utilise', 'luumpushesa', 'luuizaum', 'lutyens', 'lutyen', 'lutheran', 'lusts', 'lusting', 'luster', 'lushlino', 'lush', 'lusa', 'lureprovoke', 'lunkhead', 'lung', 'lunchtime', 'lunchables', 'utilities', 'lunaraps', 'lunacystep', 'lunacy', 'lunaaaa', 'lumps', 'lumped', 'lumkilest', 'lumberjacks', 'lumbar', 'lulwhore', 'luluvulture', 'lulustracher', 'lululemon', 'lulmaryjane', 'luky', 'lukeyjuke', 'lukesbeyonce', 'lukeran', 'lukeparker', 'lukemoon', 'lukejeffrey', 'lukeisnotsexy', 'utility', 'luk', 'luizavmachado', 'luislinanglz', 'luisfer', 'luisayen', 'luggage', 'lugar', 'lug', 'luella', 'luego', 'ludist', 'ludacris', 'lucyrouxheaux', 'lucrative', 'luckyxo', 'luckynoonecanseeme', 'luckykaa', 'luckyivon', 'luckyforus', 'utilizing', 'utk', 'luckiest', 'lucked', 'utmmediumsharefromsiteamputmsourcedeadspinfacebookamputmcampaigntop', 'lucienchristian', 'lucic', 'luchi', 'luchadeer', 'lucasrobson', 'lucasprosty', 'lucas', 'utmost', 'lubnaae', 'lubes', 'luanconta', 'luana', 'lu', 'lty', 'ltwebb', 'ltuh', 'lttsui', 'ltthis', 'ltsosincere', 'lts', 'ltotheewis', 'ltock', 'ltltltltltlt', 'ltltltltlook', 'ltltltanother', 'ltltdammmmn', 'ltltbut', 'ltlmfao', 'ltinsert', 'lti', 'lthr', 'ltheechosl', 'ltgurlgt', 'ltgt', 'ltdumb', 'ltcuntmuscle', 'ltampamanatsugt', 'ltag', 'utmsourceigtwittershareampigshidyaryugco', 'lsu', 'lshb', 'lscydnew', 'lsbo', 'utmsourcesocial', 'lrng', 'lr', 'lqtbq', 'lqhibat', 'lps', 'lpm', 'lpga', 'lpcarvalho', 'loyalists', 'loyalelectron', 'utmsourcestltodaycomamputmcampaignfnewsletter', 'loyadadestroya', 'lows', 'lowry', 'lowpayisnotok', 'lowneed', 'lowkeywood', 'lowkeyeloc', 'lowkeybee', 'utmsourcetwitteramputmmediumstoryamputmcampaignsharebuttons', 'lowestand', 'loweryjake', 'lowers', 'lowered', 'utterance', 'lovsjihad', 'lovrmesomefood', 'lovinhf', 'lovingk', 'lovingit', 'lovies', 'lovie', 'loveyourlovethemost', 'lovexlikewind', 'lovewins', 'lovevuitton', 'loveusomenita', 'lovett', 'lovetheqldmatesanyway', 'lovethatshit', 'utters', 'utubecast', 'utv', 'lovelinessde', 'loveliest', 'lovelies', 'lovelaurenxoxo', 'loveislove', 'loveisis', 'lovegood', 'loveeetdale', 'lovedrunkhangov', 'loveday', 'uuh', 'loveandlonging', 'loveallah', 'loveadriana', 'loveableaizah', 'louudagoat', 'loutish', 'lousycanuck', 'lousiest', 'lousaymanana', 'lourenzojeanbs', 'louisville', 'louistomlinson', 'louistom', 'louisfeola', 'louisfarrakhan', 'louisescheid', 'uuuf', 'loug', 'loudens', 'louden', 'loudboring', 'uuuniversity', 'uuuuu', 'lotr', 'lotion', 'uuuuuuuuuuuuuuuugh', 'lostartistsm', 'uv', 'losses', 'lossed', 'uva', 'uwg', 'loserbtw', 'uwhen', 'loscruzadotwitteros', 'lorries', 'lorilightfoot', 'lordthinker', 'lordthe', 'lordtaylor', 'lordt', 'lordosis', 'lordkat', 'lording', 'lordie', 'lorddexter', 'lordbrandonman', 'uyazi', 'lorain', 'lora', 'lor', 'loquori', 'lopsided', 'lopez', 'looweihao', 'uyghrus', 'loosly', 'loosin', 'loosen', 'loopnotdefined', 'loophole', 'loootttt', 'loooots', 'looooooose', 'looooooooove', 'loooooooooooooooooool', 'loooooolll', 'loooool', 'loooong', 'loony', 'looney', 'loona', 'loompa', 'loollike', 'looksvoiceheight', 'lookn', 'lookitsmeggnog', 'lookingacting', 'uz', 'uzairjaat', 'lookie', 'uzbekistan', 'uã', 'loo', 'longweekend', 'longtime', 'longno', 'longnap', 'longhorn', 'longest', 'longdue', 'vacas', 'loners', 'vacate', 'loneliness', 'londons', 'londoner', 'londonampcttyugxwn', 'londlebo', 'londas', 'loml', 'lomifeh', 'lome', 'lolzz', 'lolyou', 'lolwut', 'lolwhat', 'lolunderstandable', 'lolsuprach', 'lolosway', 'lolomg', 'lolololololol', 'lololololol', 'lologray', 'lollywood', 'lolly', 'lolltltwut', 'lolls', 'lolll', 'lolling', 'loll', 'lolkml', 'lolgood', 'lolfunny', 'lolcyber', 'lolcalling', 'lolawwww', 'lolaaisdope', 'vacationing', 'lois', 'lohman', 'loh', 'logue', 'logoh', 'logistically', 'logie', 'vaccinated', 'logical', 'vaccination', 'logarithmic', 'logar', 'loganpeeples', 'loganpaul', 'loganbrown', 'loeb', 'loe', 'lodycash', 'lodisilverado', 'lodges', 'lodged', 'lodge', 'locutores', 'locs', 'locomotive', 'lockthemup', 'lockthegate', 'locko', 'lockheed', 'lockerbie', 'vaccum', 'locke', 'lockdownviolations', 'lockdownrakhi', 'lochte', 'lochiel', 'vaginafemale', 'vaginai', 'localstate', 'locally', 'localized', 'localities', 'locajae', 'lobster', 'lobotomy', 'lobbyists', 'lobbying', 'lobbies', 'lobbed', 'loathsome', 'loathes', 'loate', 'loanee', 'loamorim', 'loafing', 'vago', 'lnyhbt', 'lng', 'lndlerock', 'lmmfaooooooooo', 'lml', 'lmk', 'lmfaooouekqjbwkwjd', 'lmfaoooooooooooooooooooooooooo', 'lmfaoooooooooooooooo', 'lmfaoooooooo', 'lmfaol', 'lmfaojsjsjs', 'lmfaaoo', 'lmaou', 'lmaothe', 'lmaoooooooooo', 'vaguing', 'vainsmall', 'lmaodats', 'lmaocan', 'vaise', 'lmalto', 'lmaaooo', 'lmaaoo', 'lmaaaaao', 'llphatmac', 'lloyddunwell', 'vaishno', 'llorai', 'llm', 'llj', 'llf', 'llegar', 'llcoolmax', 'llcooljami', 'llam', 'llaboss', 'valawhen', 'ljs', 'ljiawei', 'ljbeebe', 'lizzy', 'lizzlep', 'lizzjohnson', 'lizcheney', 'liya', 'livrs', 'livinlifeilove', 'livinlifeiconic', 'livingstone', 'livinghurt', 'livingdll', 'vale', 'lividity', 'liviadaniellee', 'liveyourdreems', 'liveuamap', 'livetweetsau', 'livetweeting', 'livestreaming', 'livestream', 'livesmuslim', 'livesbrown', 'valencia', 'liverpoolfans', 'liveporn', 'livelihoods', 'livejournaleverywhere', 'livehealth', 'livedhas', 'valenti', 'livebylove', 'valentina', 'lituals', 'littã', 'littul', 'littney', 'littler', 'littleoldme', 'littlemixla', 'littlemix', 'littleemonster', 'littlebluepixel', 'valentinaamour', 'litteraly', 'litterally', 'litter', 'littany', 'litrally', 'litlle', 'literature', 'literary', 'literalbanana', 'valentis', 'literacy', 'litazia', 'litany', 'valentona', 'lisu', 'listwhen', 'listennn', 'valeriechowdog', 'listenin', 'listeni', 'listener', 'valeriejeanc', 'valesband', 'liste', 'valet', 'lissmyass', 'lissluxe', 'lissen', 'lissasauras', 'lisp', 'lisin', 'lisene', 'lisawest', 'lisastanbridge', 'lisanhayes', 'lisamromanos', 'lisamarie', 'lisajey', 'lisagrande', 'lira', 'lipsticks', 'valiant', 'valiantly', 'lionstv', 'lionlioneateat', 'lioning', 'lionelriaos', 'lionelmedia', 'lion', 'linzijarratt', 'lint', 'lins', 'linniekravitz', 'linn', 'linkinbio', 'linkin', 'linimasa', 'linguists', 'linguagroover', 'lingo', 'lingerie', 'linesticks', 'linesman', 'lineker', 'linebacker', 'validating', 'lindsaybeavs', 'lindodimple', 'lindarutter', 'lindaikeji', 'lincolnwi', 'lincolnproject', 'linakhatibcmec', 'lina', 'lin', 'limpieza', 'limo', 'limmy', 'limitation', 'valk', 'limi', 'limecola', 'limb', 'lilysboo', 'lilyiaart', 'lilyconwell', 'lilwoozie', 'liltunechii', 'lilpoloblowsos', 'lilnigga', 'lilmissdianne', 'lilmillieon', 'lilmike', 'lilmae', 'lillovatic', 'lillians', 'lille', 'lillai', 'liljayupnext', 'liljaob', 'lilian', 'lili', 'lilhades', 'lilgirl', 'lilcruz', 'lilchickenxx', 'lilbthegreat', 'lilbruh', 'lilbeastunleash', 'vally', 'likod', 'valor', 'likin', 'likh', 'likey', 'likewtf', 'likeway', 'likeu', 'liketrying', 'likethose', 'liketheres', 'likethe', 'liker', 'likeohmaybe', 'likenino', 'likened', 'liken', 'valued', 'likei', 'likegtgtgtyou', 'likefck', 'likedo', 'likedesire', 'valueswhile', 'likebeing', 'likeahermancain', 'likeahem', 'likeacock', 'valve', 'valveceogabe', 'lijie', 'lije', 'liizardpatroi', 'liinradio', 'lii', 'lightweight', 'lighttheworld', 'lightsup', 'lightskint', 'lightskins', 'lightnovel', 'lightening', 'lightdreams', 'vampiremochi', 'ligh', 'ligeriin', 'ligar', 'ligado', 'liga', 'lifted', 'lifewhen', 'lifethat', 'lifethank', 'lifestyles', 'lifesize', 'lifer', 'lifeofcriley', 'lifenow', 'lifeless', 'lifei', 'lifeguards', 'lifefacts', 'lifecoach', 'vanbadham', 'lieutfaber', 'lieutenant', 'lieut', 'liesampcheat', 'liefeld', 'lieberman', 'lieberal', 'liebenlaramutti', 'vancouverfinanc', 'lickmystacks', 'vancouverpd', 'lickhernochaser', 'lickers', 'licken', 'licensing', 'licensed', 'vandal', 'licence', 'liceharassing', 'libyans', 'libyaif', 'libtard', 'librasrus', 'libraryone', 'vandalize', 'libraries', 'librano', 'librals', 'libido', 'libfeathers', 'libertycapent', 'liberties', 'libertarians', 'liberationists', 'liberando', 'liberalsour', 'liberalsecular', 'vandalizing', 'liberalphenom', 'liberalparty', 'liberallunacy', 'liberallogic', 'liberalization', 'liberalismisamentaldisorder', 'liberalexcept', 'vandals', 'libels', 'libbu', 'liarwho', 'liarso', 'vandalsavage', 'liarmps', 'liarfromtheshire', 'vandilized', 'liamtighe', 'liampomfret', 'liammacl', 'liamkiniery', 'liamdangersmith', 'liamalexisdm', 'liable', 'lia', 'lhc', 'lh', 'lgu', 'lgtbq', 'lgitq', 'lghtningstrikez', 'lggl', 'lgbts', 'lgbtqnation', 'lgbtqi', 'vandross', 'lgbtphobic', 'lgbtnews', 'lgbti', 'vanessa', 'lgb', 'lfs', 'lfmsmssm', 'lfi', 'lfesexuality', 'lfckeith', 'lezzer', 'lez', 'leytonxscott', 'ley', 'lexxuuus', 'lexxhope', 'lexxathepinup', 'lextayloredahh', 'lexnaija', 'lexmechanic', 'lexithompson', 'lexington', 'lexijosephine', 'lexicon', 'lexi', 'lewismacleod', 'lewishutchinson', 'lewishamilton', 'lewisduncan', 'lewisdorigo', 'lewisburgkid', 'lewinsky', 'levou', 'levorestartcmig', 'levonsixd', 'leviticus', 'levison', 'levikrueger', 'levi', 'lever', 'levelsthe', 'levant', 'lev', 'leud', 'letâ', 'letzakis', 'letwomenspeak', 'vanishing', 'lettin', 'lettermans', 'lettermana', 'letterfrompakistan', 'letsgetitnas', 'letselenasmile', 'letsbehonest', 'vanityfair', 'letmehide', 'letmebegreat', 'letjem', 'lethalcupcake', 'lethabo', 'letang', 'vanityfairmag', 'vanncastro', 'lesizmore', 'lesboterrorista', 'lesbophobia', 'lesbo', 'lesbiansrape', 'vanny', 'lesbianrape', 'lesbianest', 'lesbianbi', 'vanquished', 'lesbains', 'leroy', 'leroseyschool', 'leppers', 'leonardskynard', 'lens', 'lenovosuperfish', 'lenletaylor', 'lenjart', 'leninist', 'lenin', 'lenient', 'leni', 'lengthy', 'lengkap', 'lene', 'lending', 'lenahyukjae', 'len', 'lemontarts', 'lemonsterr', 'lemons', 'lemondefr', 'vantafish', 'lemmysodmg', 'lemmonteagg', 'lemmonex', 'lemming', 'vao', 'lembrei', 'lembothegeneral', 'lemaitre', 'lelyyruizz', 'leluvgotobed', 'lelouch', 'lelos', 'lele', 'lel', 'lekin', 'leizlibranza', 'leiza', 'leitch', 'leila', 'leighton', 'leighlupindo', 'leighleepinnock', 'leighalexanders', 'leicspolice', 'leicslive', 'leicsfirerescue', 'leh', 'legwork', 'vape', 'legos', 'legitimated', 'legitest', 'legislatures', 'legislators', 'legislatively', 'legislate', 'legendstation', 'legendofshelby', 'legalkant', 'legalizing', 'legalize', 'legalised', 'vappywave', 'legacypow', 'varanasi', 'leftys', 'leftydammit', 'leftsilence', 'lefts', 'leftright', 'leftistswhen', 'leftisti', 'leftistare', 'leftism', 'leftie', 'lefti', 'leftard', 'varied', 'lefist', 'leeway', 'lees', 'leerigbyday', 'leepingpill', 'leeordior', 'leenavand', 'leenaeun', 'leelon', 'leehmz', 'leears', 'ledorganised', 'ledidija', 'ledapple', 'ledaisy', 'varina', 'lecturers', 'lecturecommentatordebate', 'lecreep', 'lebronvuitton', 'lebronsucks', 'lebrons', 'varnashram', 'lebonvivant', 'lebonigger', 'lebih', 'lebaran', 'varsity', 'leavey', 'leavemealone', 'leaveitin', 'leaveeuofficial', 'varun', 'leasure', 'leassion', 'leasing', 'learnwe', 'learningsliving', 'vaseline', 'learnanything', 'vassa', 'learik', 'leanne', 'leanna', 'leanings', 'leaned', 'leandroco', 'leaklive', 'leahashe', 'leaflets', 'vastaire', 'vastalitech', 'leadfootedlion', 'leadershipexcellence', 'leadershipdevelopement', 'vastly', 'vatan', 'leaderparty', 'vats', 'leach', 'lea', 'vaughan', 'lds', 'ldnont', 'ldhsisjsisj', 'ldhakslslalla', 'ldfjsldjf', 'lcks', 'lchspatriots', 'vaughany', 'lborogrammar', 'lbjs', 'lbjoakim', 'lbgt', 'lbbbxx', 'vaughn', 'lazercrazy', 'lazer', 'laz', 'layy', 'layups', 'layup', 'layou', 'laymen', 'laylee', 'laylah', 'layla', 'laying', 'layed', 'laydeez', 'laya', 'vaughns', 'laxmibahi', 'lax', 'lawâ', 'lawyersdoctors', 'vault', 'lawwwwd', 'lawwhat', 'lawson', 'lawsfab', 'lawrenceantnhoy', 'lawrence', 'lawremipsum', 'lawman', 'lawlors', 'lawlook', 'lawlessness', 'lawl', 'lawgtfreaks', 'lawdddd', 'lawd', 'lawandorder', 'lawak', 'vauxhall', 'lavita', 'lavigne', 'lavar', 'lavaita', 'lauvergnate', 'laurenschacher', 'laurennicoolee', 'laurenellisxxx', 'laurenalboswell', 'laurenakalozza', 'laurahollis', 'laura', 'laundryy', 'laundryfinal', 'launches', 'launcher', 'laughyou', 'laughthey', 'vax', 'laughsmokelove', 'vaxer', 'laughingstock', 'vaxxer', 'vbergs', 'laughbetter', 'laughably', 'vbor', 'laug', 'laudo', 'lauded', 'latuff', 'latry', 'latorrerafa', 'lato', 'latley', 'vcs', 'latinao', 'vd', 'latimeralder', 'lathis', 'lathandd', 'latham', 'lateyou', 'vdengswkgtwitter', 'latersays', 'vdjkcwluitwitter', 'latenty', 'vdybudrcnnmtwitter', 'vecatiön', 'lataco', 'lasttimelord', 'lasts', 'lastnightasawarrior', 'lastnamejones', 'lastfm', 'lastcontract', 'laskar', 'lashkr', 'laservueeye', 'lasersushi', 'lasaniayunus', 'larryvance', 'larrysjones', 'larryputt', 'larryking', 'larryemdur', 'larryelder', 'larry', 'larping', 'larkmead', 'larissaass', 'veeerrry', 'veem', 'larfly', 'larf', 'lareunion', 'lardocelar', 'laraspencer', 'laraleatrump', 'laporcia', 'lapis', 'lapiezaoscura', 'lapidation', 'lapearljadore', 'lapdogs', 'lapdchiefbeck', 'lanky', 'languagethere', 'languagehindus', 'veer', 'langer', 'langdoggydog', 'lanez', 'lanes', 'landscapes', 'landscape', 'landile', 'landcaping', 'veet', 'lanche', 'lancewalton', 'lancashire', 'lancar', 'lampoon', 'lamount', 'lamora', 'lamo', 'lammy', 'lamjasmine', 'lamesstupid', 'lamer', 'lamenting', 'lamefuck', 'veg', 'lambs', 'lambo', 'lambmeatballs', 'lambert', 'lalu', 'lalascrazy', 'lalalian', 'lal', 'lakshmyramki', 'laks', 'lakeside', 'lakeshores', 'lakelandhonestly', 'lajouetreine', 'lajnamediausa', 'laird', 'laimbeer', 'laih', 'vegan', 'lahren', 'lahoreblast', 'lahellraiser', 'lagueritaxo', 'laguatonacandy', 'lagu', 'lagos', 'lagmatchmaking', 'lagigng', 'lagian', 'laggy', 'lagem', 'lagane', 'laffin', 'laff', 'laen', 'lae', 'ladyvelvethfq', 'ladyurbanfox', 'ladytinder', 'ladymrs', 'ladymavv', 'ladylolita', 'ladyhe', 'ladygaga', 'ladyfleur', 'ladybug', 'veganforareason', 'lados', 'lado', 'ladkiyaan', 'ladin', 'ladieswholunchslc', 'ladiesknowyours', 'ladiesif', 'veganpanda', 'ladiej', 'ladenits', 'veganstar', 'ladders', 'ladder', 'ladden', 'laddakh', 'ladastalls', 'veganwhatever', 'lacy', 'lactoses', 'lactose', 'lacthere', 'lackofempathy', 'lackluster', 'vegas', 'lachyhulme', 'lacey', 'laces', 'laboureoin', 'vegata', 'laborer', 'laboratory', 'vegeta', 'lables', 'labled', 'lable', 'labelmedope', 'labeld', 'vegetable', 'labbai', 'labajettamike', 'laarrma', 'laalchi', 'laabuyao', 'kzeus', 'kywilliams', 'kyun', 'kyuki', 'kyuhyun', 'kyrgyz', 'kyranadiya', 'kyou', 'kylo', 'kyliegibbo', 'kyles', 'kyleedoo', 'kyk', 'kyhwana', 'kwrose', 'kwonkimshi', 'kwok', 'kwkwkw', 'kwkw', 'kwk', 'kwekwe', 'kweenjenn', 'kween', 'kweefa', 'kwarzem', 'kwaito', 'kvrch', 'kvltjuggalo', 'kvin', 'kvetches', 'kvanh', 'kvalumni', 'kutti', 'kuttakuttibitch', 'kutta', 'kutriya', 'kutchen', 'kushwisdomlove', 'kushtev', 'kushnic', 'kushkingmorris', 'kushalr', 'kurulus', 'kuruka', 'kurtbelcher', 'kuro', 'kurdsnews', 'vegetamoustache', 'kurdishturks', 'kurdi', 'kurda', 'kupwara', 'kunuhay', 'kuntsi', 'kunte', 'kunneman', 'kunalkamra', 'kumi', 'kumaonis', 'kullasegaran', 'kulbushanjadhav', 'kulbhushanjhadavfamily', 'kulbhushanjhadav', 'kufungua', 'kufiri', 'kuffirs', 'kuffir', 'kufaar', 'kudabrazyy', 'kuchh', 'kublai', 'kuan', 'kturner', 'kthx', 'kthopkins', 'ktheaney', 'kta', 'kt', 'kss', 'ksorbs', 'kslackie', 'ksian', 'ksi', 'kshatriyas', 'kshaheen', 'ksa', 'krzknews', 'kruisingbye', 'kruger', 'krti', 'krteho', 'krsh', 'kroenke', 'kro', 'krna', 'krk', 'kristrealest', 'kristp', 'kristithinks', 'kristina', 'kristianelise', 'kristefany', 'kristanophobia', 'krisbareki', 'krisaquino', 'krinkle', 'krimmiss', 'krillznuhcare', 'krillany', 'kriegsson', 'krg', 'kreye', 'kremlin', 'kreek', 'kre', 'krazyvkanye', 'krazyeyeskat', 'krazye', 'krayfish', 'krauss', 'kramer', 'kralho', 'krakassame', 'kraka', 'veggie', 'kraftscafe', 'kqedforum', 'kppies', 'kpoptoday', 'kpopnews', 'kpopidols', 'veggies', 'kovandire', 'koujakuwest', 'kotakuinaction', 'kota', 'kosom', 'kosher', 'korzify', 'vehement', 'korvin', 'korpspropaganda', 'koromonayy', 'kornflakes', 'koriganstone', 'koreanidols', 'korban', 'koraa', 'kopp', 'kopice', 'kopek', 'koon', 'koomuttai', 'koolaide', 'koofa', 'koo', 'kongers', 'kon', 'komedian', 'komanyoko', 'komalqureshi', 'kom', 'kokoomus', 'kok', 'kohl', 'kohfuckyourself', 'kohchincries', 'kofo', 'koferim', 'koenamitra', 'koe', 'kobanê', 'kobaneamprocket', 'kobach', 'veil', 'knyjah', 'knws', 'knuckle', 'knp', 'knoy', 'knowwhat', 'knowwe', 'knowwas', 'knowthats', 'veio', 'knowremember', 'vejo', 'knowledgeknow', 'vele', 'knowkudos', 'velho', 'knowid', 'knowhmm', 'knowgross', 'knowbut', 'vellore', 'knouase', 'knots', 'knot', 'knolg', 'knockyou', 'knockin', 'knocker', 'velma', 'knockandrun', 'velorubedo', 'knocc', 'velouk', 'knive', 'knights', 'knifes', 'knifehorse', 'knicks', 'knewwwww', 'knewtom', 'knewknow', 'kneewgrow', 'kneelingban', 'velvethammer', 'kneck', 'knappsara', 'kn', 'kmrn', 'kmft', 'kmakms', 'kmaddock', 'kmactane', 'klux', 'kludgykiller', 'klout', 'kloss', 'klod', 'klo', 'klls', 'klling', 'kliksf', 'kleptocracy', 'kleeb', 'klediana', 'klavan', 'klaus', 'klassydaisy', 'klansman', 'kkkrecruting', 'kkkkkkkkkkkkkkkkkkkkkkkkkkkkkkkkkkkkkkkkkkkkkkkkkkkkkkkkkkkkkkkkkkkkkkkkkkkkkkkkkkkkkkkkkkkkkkkkkkkkkkkk', 'kkkkkkkkkkkkkkkkkkkkkkkkk', 'kkkkkkkkkkkkkkkkkkkkkkkk', 'kkkkkkkkkkkk', 'kkkkkkkkkkk', 'vemos', 'kkendra', 'kjv', 'kjeroh', 'kjbar', 'kizzy', 'kiyoko', 'kiyo', 'kix', 'kiwi', 'kittyholiday', 'kittyfitz', 'kitties', 'kittiedolls', 'kitteh', 'kits', 'kitna', 'kites', 'kitchenetc', 'vendepiñas', 'kit', 'kissradhiya', 'kissonbee', 'kissmysmilee', 'kissmyass', 'kissmake', 'vending', 'kisser', 'veneer', 'kislyak', 'kisi', 'kishimoto', 'kirsten', 'kirkeby', 'kirk', 'kirit', 'kiri', 'kirbyjenner', 'kiranbhedi', 'kipp', 'kipjaime', 'kiosks', 'kinship', 'kino', 'kinnocks', 'kinnleeb', 'kinna', 'kinkytera', 'kinkykevd', 'kinky', 'kink', 'kingzzley', 'kingtravie', 'kingteej', 'kingston', 'kingsolar', 'kingsdartwars', 'kingsalmon', 'kingquad', 'kingofwar', 'kingofthehill', 'kingofankh', 'kingme', 'kingmark', 'kingluther', 'kinglou', 'kingkaiser', 'kinghurrikayne', 'kinghendo', 'kinghatter', 'kinghatemode', 'kinghammock', 'kingcuh', 'kingcooper', 'kingcobba', 'kindy', 'venerating', 'venetian', 'kindleunlimited', 'kindles', 'kindergartners', 'kindergarden', 'kinder', 'kindel', 'kimskitchensink', 'kimpetras', 'kimpalencia', 'kimora', 'kimoidoutei', 'kimmy', 'kimdavis', 'kimberrlym', 'kimberlyhalketts', 'kimberlyhalkett', 'kimberleynixon', 'kimbeex', 'kilt', 'kilometre', 'kilo', 'kilmeade', 'killyourself', 'killumi', 'vengeful', 'killracism', 'killong', 'killmust', 'killlakill', 'killinit', 'venham', 'killingmurder', 'venmo', 'killhow', 'killherself', 'killforqueenmjb', 'killerxward', 'killertwats', 'killedunless', 'killedraped', 'killedmedia', 'ventdramathey', 'killamike', 'killadelphia', 'ventin', 'kiley', 'kilberalves', 'kikioraa', 'kikileilani', 'kikiarsyad', 'kihabara', 'kievan', 'kiersten', 'kiernan', 'kieranyates', 'kidwonda', 'kidtini', 'kidsyou', 'kidsparents', 'kidshours', 'kidshe', 'kidsfor', 'kidsbooks', 'kidrock', 'kidonly', 'kidneys', 'kidnaps', 'kidnappers', 'ventoh', 'kidmcfly', 'kidmalo', 'kidif', 'kidhttptcowdevlr', 'kiddy', 'kiddos', 'kiddingi', 'kiddin', 'kiddies', 'kiddie', 'kiddd', 'kickvic', 'venues', 'kickoff', 'kickin', 'kickers', 'veplayed', 'kickboxing', 'kickass', 'kicc', 'kibble', 'kiaranicoleex', 'kianaaa', 'vera', 'khyenci', 'verafilatova', 'khune', 'khun', 'khumagari', 'khulkr', 'khulfa', 'khudaayi', 'khud', 'khow', 'khotay', 'khorsibad', 'khorsabad', 'khona', 'khomatose', 'kholke', 'khloe', 'khilji', 'khilafah', 'khilaf', 'khiblazee', 'khelsey', 'khelna', 'kheitir', 'kheer', 'khayamthethwa', 'khatre', 'khati', 'khat', 'khass', 'khashoggi', 'khasam', 'khas', 'veravanhorne', 'khamenei', 'khameini', 'kham', 'khalvy', 'khalla', 'khalistanis', 'khalistanio', 'khalistani', 'khalidsaifi', 'khalid', 'khaled', 'khaldun', 'khakis', 'khaki', 'khakar', 'khaega', 'khadimhussainrizvi', 'khabibs', 'khaba', 'kgs', 'kgb', 'kg', 'kfegyak', 'kfchris', 'kfc', 'kf', 'keywordmkt', 'keystonepol', 'keysthelex', 'keyshawnswag', 'keypadfirst', 'keyin', 'keychcain', 'keyboardchoir', 'verb', 'keybaseio', 'verballyabrupt', 'kewldevzzo', 'kevjach', 'kevinrose', 'kevinmenzel', 'kevinmaxwell', 'kevinlangue', 'kevinkohout', 'kevini', 'kevinhartreal', 'kevinelitelive', 'verbatim', 'kettstyles', 'ket', 'kessock', 'keshi', 'keserbodo', 'kesenangan', 'kertio', 'kerstin', 'kerpen', 'kerner', 'kernels', 'kermit', 'kerja', 'kerido', 'keras', 'keralaus', 'verbiage', 'kenzipachec', 'kenziemariah', 'kenstaaa', 'kenroth', 'kennyrubensito', 'kennykrayola', 'kennygurl', 'kennwoo', 'kennethchia', 'kennedys', 'kennedymlb', 'keninblackpat', 'kenichi', 'kengkang', 'kendricks', 'kendricklamar', 'kendrakensingto', 'kendrag', 'kendjdnnd', 'kendall', 'kenbest', 'kena', 'ken', 'kemiliza', 'kemetic', 'keluaq', 'keltounet', 'keltonsexy', 'kelsssg', 'kelsiebelsi', 'kelseydoylek', 'kelseyaclark', 'kels', 'verca', 'kellys', 'kellyohara', 'kellyob', 'kellyfile', 'kellycanukickit', 'vercingetorix', 'kellixbrown', 'kellinak', 'kelas', 'kejriwal', 'keivans', 'keito', 'keithng', 'keithbishop', 'keisyooo', 'keisha', 'keirstarmer', 'keiran', 'keira', 'kei', 'keffiyah', 'keeth', 'keepupwitkilla', 'keepithunnit', 'keepitclean', 'keepitclassy', 'keepingtheleith', 'verde', 'keenimaree', 'keengaze', 'keener', 'keemstar', 'keemsharts', 'keeks', 'keefstuart', 'keef', 'keebztrilla', 'kee', 'keduanya', 'kecil', 'kebogotti', 'kebiinu', 'kebab', 'keatonwessman', 'keatonrich', 'kdramakpop', 'kdotslewk', 'kdndksk', 'kdei', 'kcmabalane', 'kcheeeezy', 'kcgreenn', 'kca', 'kbsalsaud', 'kbrnnr', 'kbhi', 'kbeelrsreiyen', 'kbdeuce', 'kbalma', 'kazatta', 'kazamaryuji', 'kazakhstan', 'kazakhs', 'kayyloco', 'kayung', 'kayso', 'kayrandles', 'kaynewest', 'kayliroseee', 'kayleeisahippie', 'kaylee', 'kaylameares', 'kaylakayoh', 'kaylaelek', 'kaycz', 'kayaköy', 'veredehsani', 'kaxamdays', 'kawawa', 'kawaiichristi', 'kawai', 'kavp', 'kautilya', 'katz', 'katys', 'katyfancypants', 'kattwillliams', 'katthebitch', 'kattar', 'verge', 'katrus', 'katruinsmkr', 'katrinsalmani', 'katrina', 'katreally', 'katniss', 'katisdirt', 'katisbanned', 'katisawanker', 'katisadog', 'katiexd', 'katiestars', 'katies', 'katieorsini', 'katiemats', 'katiehalliday', 'katiebell', 'katieampnikki', 'vergonha', 'kathykilleavy', 'kathtonkin', 'kathrynmalen', 'kathope', 'kathblue', 'katgainer', 'kateredeker', 'kateplusmy', 'katepatto', 'katelinreed', 'katefoxyi', 'katefoxy', 'katedudge', 'katbhart', 'katara', 'katandandrearejustmeanespeciallykat', 'verifiable', 'katachi', 'kata', 'kasumi', 'kasmua', 'kasmir', 'kasitopshayela', 'kasihan', 'kasih', 'kasian', 'kashuv', 'kashtakari', 'kashmirwantsfreedom', 'kashmiru', 'kashmirispakistan', 'kashmirismuslims', 'kashmirishaverighttolive', 'kashmirisalso', 'kashmiripanditgenocide', 'kashmirbleeds', 'verizon', 'kashiichan', 'kase', 'kasasbeh', 'karyn', 'karyewest', 'karthe', 'kartarpurkhalistan', 'karseva', 'karoldance', 'karoc', 'karnataka', 'karmanegative', 'karmadont', 'karmad', 'verliswolf', 'karlremarks', 'karlizlee', 'karlisyle', 'karlie', 'karlakta', 'karla', 'karke', 'karkatv', 'karismaetienne', 'karisjade', 'karishmabhosal', 'karishma', 'karinjiri', 'karinahogan', 'karin', 'karentozzi', 'karennsports', 'karennaduhdabs', 'karening', 'verma', 'kareemmajjour', 'kareaur', 'kardojaldi', 'kardi', 'kararı', 'karanjohar', 'karachistockexchange', 'karachi', 'kara', 'kappa', 'kapoor', 'kapnkarl', 'kapernick', 'kapayan', 'kapan', 'kaosdagreatbfe', 'kanyei', 'vermin', 'kantrn', 'kante', 'kansas', 'kanowyatt', 'kano', 'kanika', 'kangz', 'kanguro', 'kanghsien', 'kang', 'kane', 'kand', 'kanan', 'kaname', 'kana', 'kamuzuday', 'kamuzu', 'kamilka', 'kamilaarudenko', 'kame', 'kamalaharris', 'kamaalrkhan', 'kama', 'kalzoney', 'kalynnkoury', 'kalvinle', 'kallisty', 'kalitroiii', 'kalishnikovs', 'kalipornia', 'kalen', 'kaledaaramadani', 'kalarlis', 'kalap', 'kalank', 'kalah', 'kalagulabi', 'kala', 'kal', 'kakubi', 'kakistocracy', 'kakgra', 'kaka', 'kaivax', 'kaitlynshae', 'kaitlynn', 'vernon', 'kaitlin', 'kaitavender', 'kaisers', 'kais', 'kainehill', 'kaine', 'kailaringhoff', 'kailangan', 'kaijusoshingeki', 'kaidou', 'kaia', 'kahylahoran', 'kahmiri', 'kaharap', 'kahan', 'kagee', 'kag', 'kafka', 'kafirslove', 'vernsviews', 'kafirampmushriks', 'veronicasuxx', 'kaffirsgthindus', 'kaffirs', 'kaffer', 'kafeer', 'kaepsinging', 'kaelynk', 'kadunazamfarasokotokatsina', 'kadunawith', 'kadunas', 'kaduna', 'kadeyjames', 'kadang', 'kadafi', 'kachoarinodesu', 'kace', 'kabhee', 'kabbalism', 'kabba', 'kabar', 'kabab', 'kabaatheir', 'kaba', 'kaavi', 'kaash', 'kaapu', 'kaaliannie', 'kaafirs', 'kaafirislam', 'kaaba', 'veronicavictoria', 'jô', 'jzarif', 'jyp', 'jyotichand', 'jykfqy', 'jyada', 'jxtuckx', 'jwprimetime', 'jwinno', 'jwillmitch', 'jweis', 'jweave', 'jvstinperry', 'jvolk', 'jvdias', 'juziya', 'juvie', 'juupaiva', 'juuls', 'juul', 'juts', 'justâ', 'justwrong', 'justwowdef', 'justunnecessary', 'justtruthful', 'justthetruth', 'justspeakenglish', 'justsomepoetic', 'justshocking', 'justscared', 'justorea', 'justobservant', 'justo', 'justno', 'veronikacloutie', 'verrrry', 'justjokes', 'justjennnnnni', 'justinthyme', 'justinroiland', 'justinmashburn', 'justinlegendre', 'justinj', 'justinhebert', 'justinbiebers', 'justinakehurst', 'justimagine', 'versaaant', 'justifydgaf', 'versatile', 'justifications', 'justicy', 'justiceyour', 'justices', 'justiceforyearold', 'justiceforkorvin', 'justiceforkhaled', 'justiceforgeorgefloyd', 'justiceand', 'versed', 'justfacts', 'justdavidvideos', 'justdatroof', 'justcurio', 'justcomplaining', 'justchill', 'justcallmeaj', 'justcallherkii', 'justbiology', 'justbamsy', 'justastounding', 'justannoyed', 'verseoftheday', 'jusstjordan', 'jusslynnie', 'jussie', 'juslickkay', 'jushollywood', 'jusfappinaround', 'versions', 'jurors', 'jure', 'jura', 'jup', 'junogoddess', 'junkyard', 'junkterrorbillnow', 'junipers', 'juniorprobs', 'versu', 'jungtaekswoon', 'juneteenth', 'junejuly', 'june', 'junction', 'jumpsuit', 'jumpol', 'jumpin', 'vertical', 'verwoesten', 'jumla', 'jumbles', 'jumat', 'jum', 'julius', 'verywhiteguy', 'julies', 'juliebishopmp', 'juliealoos', 'juliayates', 'julias', 'juliaontv', 'juliansemenza', 'juliandavis', 'julessraimes', 'julesrisk', 'julescarbonaro', 'jujus', 'juiicyk', 'juicystar', 'juicyjleigh', 'juicybrittanyx', 'verão', 'juhi', 'juggling', 'juggle', 'juggernautbg', 'juggerbad', 'jugak', 'jueves', 'judo', 'judithshulevitz', 'judism', 'judijaikrazi', 'judicialwatch', 'judi', 'veréis', 'judginggggg', 'vessel', 'judgeth', 'vestibular', 'judgeme', 'judgejeanine', 'judgebambi', 'judent', 'judea', 'judd', 'judahplan', 'judaeism', 'jud', 'juckfohn', 'jubsmoove', 'jubilee', 'juanpee', 'juann', 'juanitabroaddrick', 'juanfarias', 'jtuinauvai', 'jtss', 'jtpuhlyak', 'jtklamm', 'jthekidd', 'jswagusaf', 'jstdomo', 'jstcwarrior', 'jss', 'jsomsihtuha', 'jsng', 'jsmiller', 'jskkskdkd', 'jsjdk', 'jsedit', 'jscxmanny', 'vete', 'jrsbbq', 'jrodriguez', 'jrl', 'jrizzytyb', 'jrizzlykidd', 'jris', 'jrichardson', 'jrhigh', 'jratchet', 'jramirez', 'jpurnalist', 'jpodhoretz', 'jpj', 'joyvbehar', 'joysms', 'joys', 'joyintorah', 'joycheokk', 'joyce', 'veteransagainsttrump', 'jowilliams', 'jowhiz', 'jovvven', 'jovi', 'jovan', 'journo', 'journeys', 'journelist', 'journalproject', 'veterinarian', 'journalistnow', 'journalistnotacritic', 'veto', 'vetprolive', 'joswhedon', 'josiexhall', 'josianefanasci', 'joshuayowler', 'joshuaolatunde', 'joshuakwalker', 'joshuahamilton', 'joshuacorley', 'joshua', 'joshstifler', 'joshrayney', 'joshpowers', 'joshmadj', 'joshie', 'joshharvey', 'joshearnest', 'joshdmanning', 'josezarate', 'josephmc', 'josephine', 'joselitohuerta', 'josejalapeno', 'jos', 'jorts', 'jormarkovitch', 'jorja', 'jordypordy', 'jorden', 'jordantakemeout', 'jordansekulow', 'jordans', 'jordanrape', 'jordanowen', 'jordanlebanonturkeysyria', 'jordanlastking', 'jordanjon', 'jordandagoat', 'jordanatascione', 'jor', 'joplin', 'jophylavenia', 'jontron', 'jontaylorr', 'jonsul', 'jonsnowc', 'jonrussell', 'vetting', 'jonronson', 'jonnystallone', 'jonnyg', 'jonnebooks', 'jonkoli', 'jonhendry', 'jonhelfrich', 'jongwoons', 'jongwoon', 'jonghyun', 'jonesington', 'jonesin', 'vex', 'joncruz', 'jonathansword', 'jonathangrider', 'jonas', 'jonah', 'jonaahv', 'jokingyou', 'vexedeagle', 'jokingfriendly', 'vexingvision', 'jokeyou', 'jokewhen', 'jokeswell', 'jokesthreats', 'jokesthis', 'jokesthats', 'jokestalking', 'jokesst', 'jokesshit', 'jokessexist', 'jokesracist', 'jokesontop', 'jokesok', 'jokesits', 'jokesit', 'jokeshilarious', 'jokescsa', 'jokescanon', 'jokesblackwhite', 'jokesampthink', 'jokereference', 'jokerape', 'jokenot', 'jokelt', 'jokeim', 'jokegay', 'jokefalse', 'vez', 'jokecomment', 'jokebutt', 'vghe', 'jok', 'jojo', 'vh', 'vhpnut', 'johnxbl', 'vhsbluedevils', 'johnsitaras', 'johnrabe', 'johnpstringer', 'johnpdburns', 'johnpaulfans', 'johnnythorn', 'johnnyperez', 'johnnyblaz', 'johnnewbery', 'johnnbread', 'johnmeehan', 'johnmccain', 'johnmannmp', 'johnlloydtaylor', 'johnkriesel', 'johnkeypm', 'johniiboiixd', 'johnhague', 'johnfurrtoronto', 'johndoejo', 'johncrawfords', 'johncardillo', 'johnbunando', 'johnathanhorak', 'viable', 'johgriggs', 'johanssonsole', 'johanakoagow', 'joguei', 'jogando', 'jog', 'joeyvital', 'joeyryanonline', 'joeyrichter', 'joeyramos', 'joeyjounichi', 'joeyhometeam', 'joeyg', 'joeyessex', 'joeyeitner', 'joeycorleonebgr', 'joeyclersaint', 'joeybarton', 'joeybadass', 'joeworld', 'joewillman', 'joeparker', 'joenastypoint', 'joelserious', 'joelnoizes', 'joelengel', 'joeldanger', 'joekriz', 'joek', 'joejusa', 'joeheim', 'joegallois', 'joefulgham', 'joedalton', 'joebudden', 'joebonham', 'viajar', 'joebabe', 'joeapplebythfc', 'joeadeh', 'viajey', 'jodie', 'jodiarias', 'jodi', 'joder', 'jodeci', 'vibing', 'jockinmyfresh', 'vibrant', 'jocelynn', 'jocelyn', 'jobwould', 'jobhe', 'jobdisgusting', 'jobbyblobby', 'vibrations', 'joaopduarte', 'joannepardoe', 'joanneleon', 'joannedelacruz', 'joanne', 'joannasaline', 'vicarious', 'jnsanchez', 'jnr', 'jncos', 'viceiship', 'jn', 'jmzedbe', 'jmillzgotjuice', 'jmillerworks', 'jmess', 'jmes', 'jmdunner', 'jmdoman', 'jmarcello', 'jmant', 'jmanrife', 'jmaniz', 'jmac', 'jm', 'jlupul', 'jls', 'jlptalk', 'jlowrie', 'jlibby', 'jlaw', 'jlacocaina', 'jkrowling', 'jkr', 'jklf', 'jkility', 'vicenews', 'jjyounghearts', 'jjonguforeplies', 'jjohnsonlaw', 'jjlejetplane', 'jjk', 'jjcjerry', 'jjansu', 'jjammerzs', 'jjalwaysblazedd', 'jjackiediazz', 'jizzyneutron', 'jizzesâ', 'jizya', 'jizstiknathtw', 'jiwell', 'jitsoon', 'jitskidd', 'jitnay', 'jita', 'jit', 'jisoo', 'jisme', 'jish', 'jis', 'jirabitbucket', 'jiocare', 'jinping', 'jinna', 'jinkksy', 'jinaha', 'jin', 'jimrome', 'jimmymccunty', 'jimmykimmel', 'vices', 'jimmnasty', 'jimmcelwainshat', 'jimirsay', 'jiminiehopps', 'jimhumbert', 'jimenezs', 'jimenez', 'jimdwrench', 'jimdaratchetk', 'jimcramer', 'jimchines', 'vicesandviagra', 'jillzarinsux', 'vicesu', 'jijao', 'jihadwatchrs', 'jihadwartracker', 'jihadwahabism', 'jihadterrorists', 'jihadterrorististhreattohumanity', 'jihadremoving', 'jihadmaybe', 'viceversa', 'jihadismindian', 'jihadisgteliminate', 'viciousness', 'jihadinhuman', 'jihadijohn', 'jihadiis', 'jihadii', 'jihadiaa', 'vicitim', 'jihadgtfor', 'jihadgt', 'jihadf', 'jihaddoes', 'jihaddists', 'jihadbrotherhood', 'jihadand', 'jihadampislamdifferentiation', 'jihadampisis', 'vicjusticerules', 'jihaadso', 'jihaadi', 'jigt', 'jiggling', 'jiggled', 'jiggaboo', 'jigaboouzi', 'jigaboo', 'jig', 'jiaenjiaunnie', 'jiabrahams', 'jhwrr', 'jhs', 'jhonnybravo', 'jhoiraartificer', 'jhoffstein', 'jherby', 'jhaylobee', 'jhalas', 'jhahneu', 'jhadev', 'jgwdupreez', 'jgraf', 'jgopikrishnan', 'jgn', 'jgmason', 'jga', 'jfuck', 'jfo', 'jfmthethird', 'jfleetwood', 'jfgchin', 'jezzy', 'jezz', 'jeztuya', 'jexit', 'jewsnot', 'jewschristians', 'vickhighest', 'jewry', 'jewlicious', 'jewishpriviledge', 'jewishcommunist', 'vicki', 'jewcatholic', 'vickwilliams', 'jevensteakobson', 'jetsdoit', 'jetmissqueen', 'jetmissescharm', 'jesuss', 'jesusisthereason', 'jesusisrisen', 'jesusfigure', 'jesusbut', 'jester', 'jessymas', 'jessxlove', 'jessmcguire', 'jesslovestrump', 'jessimckenzi', 'jessiiccaa', 'jessievercetti', 'jessielbaker', 'jessiejbrfans', 'jessiej', 'jessicayumz', 'jessicayahida', 'jessicavalenti', 'jessicanicoler', 'vickychandler', 'jessewilson', 'jesserodriguez', 'jesos', 'jeshey', 'jerzboyusa', 'jerusalema', 'vickytrump', 'jerseyshore', 'jerryrices', 'jerryfalwelljr', 'jerrod', 'vicrims', 'jerkgoid', 'jerica', 'jeremys', 'jeremymonti', 'jeremymesa', 'jeremyfaust', 'jeremiahpena', 'jeremiah', 'jeraleeds', 'jeprody', 'jepattybun', 'jeopardizes', 'jeopardize', 'jeong', 'jenziih', 'jenxinfinity', 'jenrpetersen', 'jennyzhy', 'jennydarebel', 'jennimason', 'jennihesterman', 'jennajameson', 'jennabella', 'jenna', 'jenlisa', 'jenlawliet', 'jenifer', 'jenbean', 'jemsimi', 'jemmaica', 'jemfleming', 'jemelehill', 'jelp', 'jellyfish', 'jellybeanie', 'jell', 'jelavic', 'jeje', 'jeiza', 'jeito', 'jehovahs', 'jehadiwhole', 'jeffx', 'jeffwise', 'jeffries', 'jeffreyguterman', 'jeffreygoldberg', 'jeffnacht', 'jeffj', 'jeffhumps', 'jeffgluck', 'jeffgiesea', 'jeffersons', 'jeffersonobama', 'jefferson', 'jefferies', 'jeffdauler', 'victima', 'jeezy', 'jeezas', 'jeeves', 'jeeps', 'jeeeeeeeez', 'jee', 'jedediahbila', 'jecountryboy', 'jebus', 'jeb', 'jearbear', 'victimas', 'jeankyaz', 'jeanhe', 'jeanettejing', 'jeandalmeida', 'victimbully', 'jealoustweet', 'jdubzlad', 'jdu', 'jdoiasjiodjaodjsojo', 'jdno', 'jdmslutjesse', 'jdkdldk', 'jdhometeam', 'jdharm', 'jdg', 'jcsliva', 'jcsaint', 'jcolbert', 'jclark', 'jchrismas', 'jcb', 'jcassinelli', 'jcantrell', 'jburrows', 'jburnacp', 'jbridgeman', 'jbrenning', 'jbossbrown', 'jblohm', 'jblaze', 'jbigboote', 'jbiebzisboss', 'jbclaims', 'jballard', 'jb', 'jazzyvixenbeat', 'jazzruma', 'jazed', 'jayyk', 'jayweixelbaum', 'jaywebbsb', 'jaywcobb', 'jayvizzy', 'jayvictoriaward', 'jayversace', 'jayten', 'jaysekulow', 'jayneprior', 'jaymmmlee', 'jaymartin', 'jaykyew', 'jayjaybiebs', 'jayhxwks', 'jayhanlon', 'jayfoee', 'jayee', 'jaydenkramer', 'jayden', 'jaycen', 'jaybeans', 'jaybarz', 'jaybangaa', 'jayapal', 'jayabharati', 'victimise', 'jawns', 'jawi', 'jawans', 'javu', 'javotta', 'javielokks', 'javelin', 'javedakhtarjadu', 'javedakhtar', 'javas', 'jav', 'jauh', 'jats', 'jaszyfuknswag', 'jaswtaylor', 'jassssssssxo', 'jasonwadhwa', 'jasonverlanderr', 'jasonnixonab', 'jasoninthehouse', 'jasoneyerman', 'victimised', 'jasminepore', 'jasminebomb', 'jasmine', 'jasm', 'jascowen', 'jasander', 'jas', 'jarvis', 'jarvaris', 'jarule', 'jars', 'jarrotneedle', 'jarrett', 'jarred', 'jarpadsbeanie', 'jarodfrye', 'jarihimanen', 'jarel', 'jaredfogle', 'jaredcarrabis', 'jard', 'jara', 'japrincess', 'japhethashkenazi', 'japantimes', 'jap', 'jaoamin', 'jao', 'januaryfebruary', 'jantakareporter', 'janpaulouise', 'jannatulbaqi', 'janmorganmedia', 'janitorryan', 'janicewidit', 'janhune', 'janeu', 'janemeseck', 'janellemonae', 'janellebrindle', 'janegotjustice', 'janecaro', 'janearcumsfirst', 'jandi', 'janambhumi', 'janab', 'janaane', 'jamz', 'jamuni', 'jams', 'jamrs', 'jammu', 'jamming', 'jammed', 'jamir', 'jamilsmith', 'jamielynnspears', 'jamia', 'jamesycuv', 'jameswmk', 'jamestatijeffreeshane', 'jamessspurcell', 'jamesmaynot', 'jamesmassola', 'jamesliamcook', 'jameskakisingi', 'jameshtavfc', 'jamesgweenwood', 'jamescharles', 'jamesblunt', 'jamesaltoft', 'victimizes', 'jameis', 'jambudweep', 'jamatis', 'jamatie', 'jamalmemaybe', 'jamaatwhat', 'jamaathi', 'jallikattu', 'jalen', 'jalabdullah', 'jakt', 'jaksoulbright', 'jako', 'jakes', 'jakepowles', 'jakem', 'jakehartsbygod', 'jakeeydavies', 'jakechiodostarr', 'jakechatty', 'jakear', 'victimizing', 'jakarta', 'jajia', 'jajajajavarosada', 'jajajajajjajaja', 'jajajajajaja', 'jajajajaajja', 'jajajajaa', 'jajajaja', 'jajajaj', 'jajaj', 'jaisriram', 'jaisewhat', 'jaise', 'jais', 'jaipur', 'jaimee', 'jailovesniggers', 'jaillmao', 'jailing', 'jailhouse', 'jailedroxass', 'victimme', 'jaichands', 'jaichand', 'jaibharat', 'victimsasifasafoora', 'jahuriyat', 'jahquizz', 'jahikopoi', 'jahfamouslife', 'jaheel', 'jahchrist', 'jahatin', 'jahannam', 'jahadi', 'jah', 'jagmeet', 'jaggers', 'jagannath', 'jagain', 'jaffles', 'jaehee', 'jadonpaco', 'jadhists', 'jadh', 'jadetrowbridge', 'jaden', 'jadedpunkhulk', 'jadecfc', 'jadebriana', 'jacquescuze', 'jacques', 'jacquelinbabe', 'jacobsenjohn', 'jacobselvey', 'jacobmalone', 'jacoblaubner', 'jacobkramer', 'jacobboov', 'jackyalcine', 'jackwilshere', 'jackvidgen', 'jacksyit', 'jackst', 'jacksonw', 'jacksonsperduti', 'jacksonmark', 'jacksonbrit', 'jacksmiff', 'jackshahine', 'jacksduncan', 'jacks', 'jackposobieccnn', 'jacknicas', 'jackmccormick', 'jacklynkendrick', 'jacklke', 'jacking', 'jackieboyyyyy', 'jackets', 'jackbranagan', 'jackboys', 'jackbox', 'jackbooted', 'jackalltimelow', 'jackal', 'victimsattempted', 'jacie', 'jaccpot', 'jaccidental', 'jabu', 'jabronis', 'jabiralhujaifa', 'jabbinghacking', 'jabarithegreat', 'jabari', 'jabal', 'jaarroonn', 'jaant', 'jaagohind', 'jaackkieeee', 'jaa', 'victomise', 'iâ', 'izzzyevans', 'izzylloydcarter', 'izzard', 'izlemic', 'izlamist', 'izlamic', 'izienthefreak', 'izeej', 'izackchan', 'iyadelbaghdadi', 'ixines', 'ixine', 'iwuwildcat', 'iwrestledabearonce', 'iworkthehardest', 'iwishyouwouldturnmedown', 'iwishihad', 'iweekly', 'iwd', 'iwatchpepsiiplfor', 'iwasthatkid', 'iwan', 'ivyexec', 'ivicong', 'ivf', 'ives', 'victorialayne', 'ivashkinator', 'ivanleeyk', 'ivankatrump', 'ivanka', 'ivana', 'iut', 'iuml', 'iugurs', 'iu', 'itzsivz', 'itzleemah', 'itzguccibitch', 'itzameerah', 'ityeah', 'ity', 'itworks', 'itwith', 'itwhy', 'itwhen', 'itwhat', 'itunes', 'itthey', 'itsystematic', 'itsyahboyernie', 'itsyahboiray', 'itsvibezzz', 'itstrickey', 'itstherealdre', 'itsthedangtruth', 'itstaysmith', 'itsssss', 'itsshaqhoe', 'itssamnigga', 'itsrynn', 'itsreallykeith', 'itsquettaduh', 'itsnotmyfault', 'itsnotfunnyanymore', 'itsnature', 'itsmrrazaq', 'itsmiky', 'itsmeee', 'itsmamato', 'itslolau', 'itskinggio', 'itskieren', 'itsjustyousef', 'itsjustweird', 'itsjusbz', 'itsjourdan', 'itsjoiiceg', 'itsjayjaybruh', 'itshelladom', 'itsfornarry', 'itsfact', 'itsericalkelley', 'itselfwhy', 'itselfthe', 'itschrisbro', 'itscaitlinhello', 'itsbrilliant', 'itsbrandiee', 'itsblakeb', 'itsbakari', 'itsamerican', 'itsamanssport', 'itsallydawson', 'itsakmal', 'itrt', 'itone', 'itna', 'itmuslim', 'itmakesyoublind', 'itlet', 'itishda', 'iti', 'ithmmmmmm', 'ithinkso', 'itherwise', 'ithaha', 'ith', 'itfar', 'iteveryone', 'itdo', 'itdefinition', 'itching', 'itbut', 'itash', 'italktwit', 'itagaindumb', 'itagain', 'iswv', 'iswhat', 'iswap', 'isupportarnavgoswami', 'isupportarnabgoswami', 'isto', 'istickmytongueouttothehaters', 'isthisthelife', 'isthis', 'isthey', 'istandwithvic', 'istandwithtucker', 'istandwithrayden', 'istandwithisrael', 'istandwithilhan', 'istanbul', 'issus', 'issuessuch', 'issuesracist', 'issueshuh', 'issuesbut', 'victoriassecret', 'issueit', 'victories', 'isstanthatcool', 'issokay', 'victorious', 'isshe', 'isse', 'iss', 'isrl', 'israhell', 'israelzangwill', 'israelstacks', 'victorlavalle', 'victorlisboa', 'israelipm', 'israelandstufff', 'victormaggi', 'isr', 'isprison', 'ispeakcharming', 'isolatedpakistan', 'isntits', 'isnot', 'ismisecaz', 'ismamic', 'islmacist', 'isles', 'islasays', 'islappedahoe', 'islamwhats', 'islamwe', 'islamthats', 'islamthat', 'islamterrorism', 'islamsaboda', 'islamprobably', 'islamphobic', 'islamphioian', 'islamophobicislamophobia', 'islamophobiccommunalanti', 'vidanthihi', 'vidas', 'islamopho', 'videoed', 'islamofasicsm', 'islamofascim', 'islamofanatic', 'islamofacsist', 'islamlabling', 'islamkillsgays', 'islamkills', 'islamjihad', 'islamization', 'islamiterrorism', 'videofrom', 'videogamehero', 'islamispeace', 'islamismmap', 'islamisevil', 'islamise', 'islamisationspread', 'islamimo', 'islamidiot', 'islamicterrorist', 'islamicterrorismthen', 'islamicstatemedia', 'islamics', 'islamicjohn', 'islamicjihad', 'islamically', 'videoontrail', 'islamiats', 'islamhttptcoxdjvevoqz', 'islamgive', 'islamfornia', 'islamexposed', 'vidhttptcoeyncrsiedd', 'islamcontinue', 'islamaphobes', 'islamaphobe', 'islamabad', 'vidhttptcozljqzqwscg', 'iskaros', 'isjesynelson', 'isititiktitik', 'isitfridayyet', 'isisâ', 'isistalibanqaeda', 'isistaliban', 'isispaperzz', 'isismoreover', 'isismed', 'isislaves', 'isislashkar', 'isisky', 'isisislamic', 'isisisis', 'isisi', 'isishezbollahal', 'isishezbollah', 'isisdays', 'isisaremuslims', 'isinya', 'isilbokoharam', 'ishwara', 'ishlaaam', 'ishfaqahmad', 'ishewaani', 'ishehnaazgill', 'ishe', 'ishabazz', 'isha', 'iseegreatness', 'isdawah', 'isd', 'iscoutgirls', 'isb', 'isampwill', 'isamjs', 'isalmophobic', 'viejo', 'isaiahmhorton', 'isadora', 'isacssonoscar', 'isabellegioia', 'isabelle', 'isabelaseraffim', 'isaai', 'isaaalmeeida', 'irush', 'irtsuki', 'irsandiaria', 'irritation', 'irritates', 'irritatedwoman', 'irritate', 'irritant', 'irritando', 'irresponsible', 'irresponsibiliy', 'irresponsablereligions', 'irreligious', 'vietnamese', 'irrationally', 'irosedoit', 'ironport', 'ironmikegallego', 'ironmanmanny', 'viewers', 'ironical', 'ironed', 'ironcurtainyc', 'iroc', 'viewpoint', 'irksra', 'irked', 'viewpoints', 'irinita', 'irinalv', 'irina', 'iribrise', 'irfanpathan', 'irfanmumbai', 'irfandos', 'ire', 'irc', 'irational', 'iraqis', 'iraqiran', 'iraqhurreng', 'vig', 'irantalksvienna', 'irantalks', 'iransera', 'irans', 'iranianatheist', 'vigil', 'ira', 'iqy', 'iqbal', 'vigilance', 'ipv', 'iprogramfun', 'ippatel', 'ipick', 'iphones', 'iphiiammah', 'ipagahasa', 'iownyou', 'iowahawkblog', 'iono', 'ionn', 'ionlyrespond', 'iok', 'iojk', 'inweighttraining', 'invés', 'vigraham', 'vigxrarts', 'involuntary', 'invoking', 'invoke', 'invitetoislam', 'viii', 'viiu', 'invitations', 'invitation', 'invitados', 'invisibly', 'invincibility', 'investigator', 'vijayrupanibjp', 'inverted', 'inventioncontribution', 'invejinha', 'invasive', 'viking', 'invalidates', 'invalidated', 'invalid', 'invades', 'invader', 'vikingsfan', 'invadechange', 'intruding', 'intruders', 'introverts', 'introvertedness', 'introvert', 'introuble', 'introspection', 'introspected', 'intriquej', 'intrinsicly', 'intrigued', 'intramurals', 'intoxication', 'intoxicant', 'intonation', 'vikramjoshi', 'viledirtydisgusting', 'intolerably', 'intodays', 'intitulada', 'intimidatecontrol', 'intimated', 'intimacy', 'intifada', 'inthelittlewood', 'interwebz', 'interventions', 'intervening', 'intervalstring', 'intervals', 'intertwined', 'interstate', 'intersections', 'intersecting', 'viles', 'interpolcyber', 'interpertation', 'interpersonal', 'internship', 'internett', 'viletweets', 'internationa', 'internally', 'intermixing', 'interment', 'interlink', 'interior', 'interfering', 'interestthey', 'interestingt', 'interestingly', 'villager', 'villagers', 'interesante', 'interchangeably', 'interchangeable', 'interacts', 'villainize', 'intenta', 'villanova', 'intends', 'intending', 'villans', 'intelligently', 'villaraigosa', 'intelligencetvshow', 'intelligencer', 'ville', 'intellectually', 'villegod', 'integrityamp', 'integrations', 'integratedme', 'integral', 'intead', 'intake', 'intact', 'insure', 'vilson', 'insultnoseat', 'vim', 'insulten', 'insulated', 'insucceration', 'instructs', 'instructional', 'instruction', 'institutionalization', 'institutes', 'instinctively', 'instill', 'instigating', 'instated', 'instastyle', 'instantrestaurant', 'instantreporter', 'instantiated', 'vincent', 'instamood', 'installers', 'installer', 'installed', 'vinces', 'instagood', 'instafamous', 'instacat', 'vinchad', 'inst', 'inspite', 'inspiring', 'inspires', 'vindication', 'insperion', 'inspectordrew', 'insomnia', 'insinuation', 'insinuating', 'insinuated', 'insignificant', 'insignia', 'insightsbs', 'insideu', 'insiders', 'insider', 'insiatan', 'inshahallah', 'vinegar', 'vinehockeyhits', 'inseguro', 'insects', 'insecticides', 'inscribes', 'insaniyat', 'insanesaavage', 'vingança', 'insamam', 'insaf', 'insaangt', 'insaan', 'inreplytouserid', 'inreally', 'inquiriesprovide', 'inputting', 'inothers', 'inopportune', 'inopen', 'inonvicious', 'inocents', 'inocent', 'inoccent', 'inns', 'innovation', 'innominatesterd', 'innocuous', 'innocentsthe', 'vinnyjoel', 'innnnteresting', 'innnnn', 'innnn', 'innit', 'inningsi', 'innings', 'inningi', 'innernet', 'vinosteph', 'innately', 'innate', 'inna', 'inmate', 'inlove', 'inline', 'inland', 'inkdarapper', 'inkbuns', 'vinspiration', 'injuriesnot', 'injures', 'injunctions', 'injepan', 'injected', 'initiatives', 'inital', 'iniquty', 'iniesta', 'inicia', 'inhumanpakis', 'inhumanewowjust', 'inhumaneamp', 'inhumane', 'inherited', 'inherit', 'inhaler', 'inhaled', 'inhabitants', 'ingratiate', 'ingrahamangle', 'inglish', 'ingles', 'ingay', 'ingame', 'ingamae', 'ingaahh', 'infusions', 'infusing', 'infused', 'infrnt', 'infringe', 'infrastructure', 'infosechulk', 'informing', 'violación', 'informações', 'informants', 'informal', 'inforcement', 'infomercials', 'influential', 'inflate', 'inflatables', 'inflatable', 'infinitequeenz', 'infinitely', 'infinitefacts', 'infiniteent', 'infiniteammo', 'infiltration', 'infilterates', 'infidelsmuslim', 'infidelsi', 'infidelfor', 'infest', 'inferno', 'violater', 'inferences', 'infer', 'infection', 'infantilizing', 'infantile', 'infanticidetrans', 'infamous', 'inexcusable', 'inewyorker', 'inequities', 'ineptitude', 'inept', 'ineffective', 'ineedtovent', 'ineedsomepercs', 'ineedmeninismbecause', 'inec', 'indyrctly', 'indyintx', 'indyfromspace', 'industryplacement', 'indulgent', 'induction', 'indstrikesbackandhard', 'indset', 'indore', 'indoors', 'indoor', 'indonesiansinshort', 'indonesians', 'indoctrinating', 'indoctrinate', 'indo', 'violator', 'individualchoosing', 'violen', 'indisputable', 'indiscriminately', 'indiscriminate', 'indiscretion', 'indios', 'indies', 'indieheads', 'indiegogo', 'indiecadeeast', 'indictments', 'indicted', 'indicators', 'indiawithzee', 'indiawithsudhirchaudhary', 'indiawithpakistan', 'indiawithout', 'indiawe', 'indiau', 'indiatoday', 'indiathen', 'indiasuckballs', 'indiasdaughter', 'indiarejectsnoiseterror', 'indiapple', 'indiapakistan', 'indiaok', 'indiansand', 'violenceb', 'indianpersons', 'indianow', 'indianmuslims', 'indianmujahideen', 'indianhrc', 'indianembriyadh', 'indianapolis', 'indianand', 'violenceblasphemy', 'indiakillingyouthiok', 'indiaits', 'indiaisnotademocracy', 'indiahow', 'indiafightscorona', 'indiadoesnotsupportviolence', 'indiaand', 'violences', 'indescribably', 'independents', 'independant', 'indefinitely', 'indeeuhh', 'indeedcorrect', 'indecisive', 'indaba', 'incwe', 'incumbent', 'incubators', 'increíble', 'increment', 'violettacrisis', 'violin', 'violência', 'incourages', 'incorporate', 'ᶠⁱⁿᵍᵉʳ', 'incomprehensibly', 'incompetenti', 'vipersworry', 'viprah', 'virando', 'incleftindian', 'incl', 'inckinju', 'inciteful', 'incidentu', 'virat', 'incidentampmillennials', 'virgen', 'incidence', 'incelterrorism', 'incels', 'incarnations', 'incarcerate', 'incalls', 'inbreeding', 'inbetweens', 'inbetweenersmarathon', 'virgiltexas', 'inadequate', 'inadequacy', 'inaction', 'inaanak', 'imv', 'imupfl', 'imunholy', 'imtupac', 'imticklepickle', 'imthesnowbunny', 'imsparticus', 'imsorryjustpissed', 'imsoodd', 'imsojames', 'imsogay', 'imsillli', 'imseerat', 'imsandeshjain', 'imrbarfield', 'imrankhan', 'imranjr', 'improvised', 'improvisation', 'improvement', 'improper', 'imprisoning', 'imprisonedrider', 'impressão', 'impregnates', 'impregnate', 'impostor', 'imposters', 'virginkylin', 'imposes', 'imposeible', 'imports', 'importante', 'virginmadi', 'import', 'impoliteness', 'virgins', 'implosion', 'implicating', 'implayingwarcraft', 'implausible', 'impimmy', 'impersonation', 'impersonating', 'virtues', 'impeaching', 'impatient', 'impartial', 'impart', 'impaired', 'impactmirx', 'impactlive', 'impacting', 'impacted', 'virtuous', 'imortalmonkeyyy', 'virtuousqueen', 'imnot', 'immunity', 'immoralevil', 'virulent', 'imminently', 'imminent', 'viruss', 'immidiately', 'immediatley', 'vis', 'immaturityprojection', 'visas', 'imlesliechow', 'imkittiees', 'imjustmikeymike', 'imjonduhh', 'imitator', 'imitation', 'imitating', 'imiss', 'imillin', 'imho', 'imhighokay', 'imhbit', 'imgooby', 'imfreshfreddy', 'imessage', 'imdonetho', 'imdavidduhh', 'imda', 'imchildishtbh', 'imbécile', 'imbred', 'imboutdattweet', 'imbecile', 'imbarrassed', 'imbalance', 'imayoungstar', 'imatvjunkie', 'imatalkingdoor', 'iman', 'imamofpeace', 'imakbarowaisi', 'imaginoooontem', 'imagining', 'imaginetg', 'viscous', 'imaginations', 'imaginar', 'imaginable', 'imagestory', 'visibility', 'imagamergirlx', 'imadeyoumoan', 'imadamhawk', 'imabzzagent', 'visigoths', 'ilyy', 'ilytttt', 'iludacrys', 'iloveyou', 'ilovetony', 'iloveobama', 'ilovejenniferlawrencebecause', 'ilovefood', 'iloveehoess', 'iloveeeladygaga', 'ilovecollege', 'ilovecarl', 'ilongga', 'ilnewsflash', 'illy', 'illustrious', 'illustrators', 'illusion', 'illumination', 'illumanti', 'illtry', 'illplzyourweave', 'visionary', 'visions', 'illmindoftan', 'visita', 'illiteracyjihadamp', 'illhan', 'illham', 'illetriate', 'illetrate', 'illesttam', 'illegitimate', 'visitedminus', 'visiting', 'illallah', 'illahart', 'illah', 'ilks', 'ilhanelmi', 'ilgdaily', 'ileotart', 'ilang', 'ikut', 'iknowaboutstuff', 'ikkkkkk', 'ikemahrer', 'ikayalami', 'ikalin', 'ijs', 'ijever', 'ije', 'ijah', 'iitombstoneii', 'iit', 'iisip', 'iilspice', 'iiiiiiidiot', 'iiiiidiot', 'iihope', 'iiamty', 'ihuntgoblins', 'ihummble', 'ihope', 'ihnigrs', 'iheard', 'ihatethiskid', 'ihatesirdrey', 'ihatemyratchetassschool', 'ihatekerrick', 'ihatejono', 'ihatebd', 'iharrystyes', 'ih', 'iguess', 'igrant', 'igotanswers', 'viste', 'ignoreignorance', 'visually', 'vital', 'ignorantyou', 'ignorantwere', 'ignorantfuck', 'ignorantass', 'vitalxze', 'ignoranceamplify', 'ignoramuses', 'ignoramus', 'ignominious', 'ignites', 'ignited', 'ignaciio', 'ign', 'vitamins', 'iglevine', 'igjunkie', 'ight', 'iggy', 'iggnorant', 'igers', 'igeldard', 'igbronze', 'igboland', 'igabriellesolis', 'vitória', 'ifuckinrock', 'iftar', 'iftaar', 'ifollowblindppl', 'ifn', 'ifiruledtheworld', 'ifihadanocelot', 'ifalasteen', 'iexpecttolosefollowers', 'iece', 'idylanent', 'idylan', 'idw', 'idubbbz', 'idrk', 'idreampersian', 'idragrihrih', 'idot', 'idontneedfeminism', 'idonthatejews', 'idontdobachelor', 'idolos', 'idolizing', 'idolize', 'idolaters', 'idolater', 'idoits', 'ido', 'idly', 'idltltlt', 'idlib', 'idlediletante', 'idle', 'idkkk', 'idkjodz', 'idkidk', 'idki', 'viva', 'idiotsyou', 'idiotswho', 'idiotswhen', 'idiotsthis', 'idiotsoh', 'idiotsnot', 'idiotsjust', 'idiotsi', 'idiotshindus', 'idiotsbut', 'idiotsblmwhat', 'idiotsarrogantignorants', 'idiotsanti', 'idiotsampevil', 'idiotsamerica', 'idiotsabusing', 'vivaashleighxo', 'idiotputin', 'idiotology', 'idiotism', 'vivalaplayboi', 'idiothe', 'idiotgodhra', 'idiotduffer', 'idiotdeath', 'idiotampracist', 'vivaldi', 'idiosyncrasies', 'idiomatic', 'idiocracy', 'idia', 'idhome', 'idgf', 'idfwu', 'idfk', 'ideotvpod', 'ideologyhatred', 'ideologyfaith', 'vive', 'ideologue', 'ideologs', 'identitarians', 'vivelahipter', 'identifications', 'identification', 'idek', 'idefk', 'ided', 'ideasstop', 'viviaanajim', 'ideareal', 'ideaor', 'idealogyextremists', 'idealogy', 'idealogies', 'ideally', 'idealizing', 'idealism', 'idead', 'idccccc', 'vivianomgg', 'idashnm', 'idaddy', 'vivicasanovas', 'icoqbbqowfcxskrdebgfbclidiwarxb', 'icons', 'iconicora', 'iconichavanal', 'iconiamme', 'iconiacattakno', 'icolbert', 'icke', 'ick', 'ichbinujjaini', 'iceraids', 'iceprince', 'icee', 'icecreamlicka', 'vividly', 'icc', 'icarusflyer', 'icant', 'icanonlybeme', 'ibustos', 'ibulieve', 'ibtimesnews', 'ibrooze', 'ibras', 'ibnlive', 'ibnkafka', 'vivir', 'ibnabdulmajid', 'iblowshitup', 'ibiolettuce', 'ibiebscanada', 'ibiebercock', 'ibet', 'ibemon', 'ibeen', 'ibdinvestors', 'ibdeditorials', 'ibclassicbeats', 'ibbre', 'ibalkisai', 'iba', 'iasked', 'ianthebobo', 'ians', 'ianpuddick', 'ianpipebomb', 'ianokparty', 'ianianization', 'vivjones', 'iamyouridol', 'iamtutts', 'iamthurnishaley', 'iamtheprince', 'iamtdust', 'iamsunnydeol', 'iamsteen', 'iamshapit', 'iamsexo', 'iamsannay', 'iamrifat', 'iamqueenlatifah', 'iampetergunz', 'iamomarkhalifa', 'iammgraham', 'iamlebaron', 'iamlashae', 'iamlarryb', 'iamlabeng', 'iamkeylolo', 'iamkaylam', 'iamjustice', 'iamjohnoliver', 'iamjackbryson', 'iamdizzle', 'iambustafree', 'iambruno', 'iamarkus', 'iamamuslimtoo', 'iamafeminist', 'ialmostdo', 'ialiyah', 'iainlee', 'iaindale', 'iain', 'iaha', 'iafs', 'iadorewomen', 'iadoreparkertw', 'iadoredawsonx', 'iacademy', 'iaaine', 'há', 'hyunjin', 'hyunjae', 'hyung', 'hyun', 'hyuk', 'hysterically', 'hypothetically', 'hypoistix', 'hypocrits', 'hypocriticalasswipe', 'vizinhança', 'viçio', 'hypocriteinchief', 'vj', 'vk', 'hyphenates', 'hypersexual', 'hyperbole', 'vl', 'hymynameiz', 'hymnforrachel', 'hymn', 'hym', 'hylton', 'hygenisits', 'hydroxy', 'hydroplaning', 'hydration', 'hyde', 'hxnsdxnixl', 'hwoh', 'hwasa', 'hve', 'huzzah', 'huwgruffydd', 'hutiya', 'hustling', 'hustlers', 'hushhush', 'husbandwife', 'husbandto', 'husbandoftheyear', 'vladimir', 'husahuas', 'hus', 'hurtsx', 'vlive', 'hurs', 'hurricanehanna', 'hurricane', 'hurrdurr', 'hurr', 'hurley', 'hurled', 'hurl', 'huriwanigeria', 'hurdles', 'huntsman', 'huntigula', 'hunterlahasky', 'hunterewilliam', 'hunted', 'hunny', 'hunky', 'hunk', 'hungrymuslims', 'vnomresurge', 'hungover', 'vocabword', 'hunan', 'humza', 'humpty', 'humpdatleg', 'hump', 'vocalising', 'humorous', 'humorortruth', 'humorless', 'vocalist', 'humne', 'hummers', 'humiliates', 'humilhar', 'humilating', 'humbletwan', 'vocational', 'humare', 'humanslets', 'humanrights', 'humanoid', 'humanness', 'humankind', 'humanizes', 'humanize', 'humanitywhere', 'humanitytoday', 'humanityterrorists', 'humanitytell', 'humanityisdead', 'humanityis', 'humanityimmaterial', 'humanityif', 'humanityhas', 'humanitygtcant', 'humanitygt', 'humanitygood', 'humanityand', 'vocêê', 'humanitiesucd', 'humanities', 'humanitarianism', 'humanist', 'humanism', 'humanim', 'humanely', 'humanbeings', 'humaity', 'hullcity', 'hulking', 'hulk', 'huit', 'huii', 'huhu', 'huhbitch', 'hugocarrascoo', 'hugggeeee', 'vofbalochistan', 'huffpostcanada', 'huffpost', 'huffman', 'huffin', 'huff', 'huehuehue', 'huddersfield', 'huda', 'hud', 'huckabee', 'huck', 'hubieran', 'huahuha', 'vogel', 'htttpsav', 'httpzpriotdwdk', 'httpzjbnpis', 'httpzeenewsindiacomnewsworldlive', 'httpyoutubezlnniqbny', 'httpyoutubexvtrgjyhdea', 'httpyoutubewkkaewekka', 'httpyoutubeuxwhmrcfa', 'httpyoutubeowwtnwmdoa', 'httpyoutubekxoftusqa', 'httpyoutubekxjpmnusnm', 'httpyoutubekvfgmgjkmga', 'httpyoutubekazywnmauia', 'httpyoutubehnpfwpdia', 'httpyoutubecnvrxghdzku', 'httpyfrogcomocbtwopj', 'httpyfrogcommohcej', 'httpyfrogcomhuikbj', 'httpyfrogcomhsvcuj', 'httpyfrogcomhmeaudj', 'httpyfrogcomhacaakj', 'httpxnxxcom', 'httpwwwyoutubecomwatchvwd', 'httpwwwyoutubecomwatchv', 'httpwwwyoutubecomwatchfeatureplayerembeddedampvijphko', 'httpwwwyoutubecomuserbigbkelthegod', 'httpwwwvicecomreadthe', 'httpwwwtruthdispatchcomp', 'httpwwwtowleroadcommileyhtml', 'httpwwwtmzcommiley', 'httpwwwthrivewealthcaadvisornewssigh', 'httpwwwthelocalitoutrage', 'httpwwwthelibertyeaglecomwatch', 'httpwwwtheguardiancommusicmaymiley', 'httpwwwstarnewsonlinecomarticlearticlespamptcpg', 'httpwwwsaloncomwhatmenwantamericadelivers', 'httpwwwrocknreelreviewscomreviewget', 'httpwwwrepubblicaitcronacafotoinedicolalebarzellettesuigaysutwitteresplodelapolemica', 'httpwwwporncom', 'httpwwwpinknewscoukmiley', 'httpwwwopposingviewscomisocietyeducationkansas', 'httpwwwodusaorgprayerapp', 'httpwwwmstarzcomarticlesmiley', 'httpwwwmanmademagcomnewspeh', 'httpwwwjewishpresscomnewsbreaking', 'httpwwwispuorgmental', 'httpwwwglennbeckcomcontentshow', 'httpwwwgigwisecomnewmusicmiley', 'httpwwwgifyocomtrollhunter', 'httpwwwgaylaxymagcomp', 'httpwwwdailykoscomstory', 'httpwwwcoasttocoastamcompagescontact', 'httpwwwbustlecomarticles', 'httpwwwbrycebentleysummerscomsupport', 'httpwwwafanetaction', 'httpwwwabovetopsecretcomforumthreadpgutmsourcedlvritamputmmediumtwitter', 'httpwpmepaprp', 'httpwordso', 'httpwhatsleftoftheleftcomis', 'httpwebogicomvfynu', 'httpwashingtonjournalcomchristian', 'httpwashingtonexaminercomdem', 'httpwapostnpifstidsstw', 'httpwaposthylmotidsstwamputmtermedab', 'httpvinecovodvuadplxbitch', 'httpviame', 'httpustablack', 'httptwittercomcompguytracy', 'httptwitraxcomsomehf', 'httptwitpiccomqns', 'httptwitpiccompkr', 'httptwitpiccompjoi', 'httptwitpiccomjdl', 'httptwitpiccomhn', 'httptwitpiccomgag', 'httptwitpiccomekt', 'httptwitpiccomdkdyb', 'httptwitpiccomceqw', 'httptwitpiccomaxluq', 'httptwitchtvtallertoast', 'httptwitchtvsaturninesun', 'httptwitchtvainiwaffles', 'httptwitcamcomyl', 'httptwitbitmefd', 'httptwibinlkkaeaanrbl', 'httptwibinljgakkdgj', 'httptwibinlbxbxbemxb', 'httptumblrcomxzfyde', 'httptumblrcomxyydyoe', 'httptumblrcomxunxycfun', 'httptumblrcomxtwycohnb', 'httptumblrcomxszom', 'httptumblrcomxsohwqq', 'httptumblrcomxolxlzy', 'httptumblrcomxmxjpybi', 'httptumblrcomxkctqx', 'httptumblrcomxjycmiz', 'httptumblrcomxjuyjrzr', 'httptumblrcomxjqfsfr', 'httptumblrcomxixlan', 'httptumblrcomxhzvzjd', 'httptumblrcomxeaxmfy', 'httptumblrcomxdtxrvo', 'httptumblrcomxcasdx', 'httptumblrcomxbrlxe', 'httptmimeyvkct', 'httptmimefjad', 'httptmimefimv', 'httptmimefdcyo', 'httptmblrcozwbrfvwy', 'httptmblrcoztmzuxsyoi', 'httptmblrcozsztyzhpev', 'httptmblrcozqz', 'httptmblrcozkunvxgblye', 'httptmblrcozjqadqhtxz', 'httptmblrcozitbmvkhnkew', 'httptmblrcozgzvgypymbyi', 'httptmblrcozboxsgdgw', 'httptmblrcozalerfiicy', 'httptlrdusreglud', 'httptlgdkot', 'httptlgdhirc', 'httptlgdcr', 'httptlgdchit', 'httptlgdcavat', 'httptlgdcapuj', 'httptlgdahif', 'httptinyurlcomzvgpox', 'httptinyurlcomovhzqeu', 'httptinyurlcomesap', 'httptinyurlcomdobqe', 'httptinyurlcomczho', 'httpterroristslike', 'httptcozyvmzmeea', 'httptcozyvmzmee', 'httptcozyorggzwvm', 'httptcozyjvrqkikt', 'httptcozyhwbtlke', 'httptcozyhosbrfff', 'httptcozxtvfdd', 'httptcozxjeziukrb', 'vogtuj', 'httptcozwrcto', 'httptcozwbzldtf', 'httptcozw', 'httptcozvebziqin', 'httptcozvcxkvaiv', 'httptcozvcnnkdxo', 'httptcozuxrgvehme', 'httptcoztojtxbk', 'httptcoztmkadf', 'httptcoztjtjfwol', 'httptcoztgvbcaclu', 'httptcoztfhnn', 'httptcozsihzmzqew', 'httptcozshilbdg', 'httptcozrmmheeeg', 'httptcozrivz', 'httptcozravc', 'httptcozqkttu', 'httptcozptrtsyfiv', 'httptcozptkgdjjj', 'httptcozpgyjcbunb', 'httptcozorewahss', 'httptcoznkvjhyaeh', 'httptcoznktiwbhmo', 'httptcoznczvczfzc', 'httptcozmqzdo', 'httptcozmpovztk', 'httptcozmofioehsq', 'httptcozmmdftslj', 'httptcozkqzuyyhjs', 'httptcozjwjwnjsj', 'httptcozjbwagvnrg', 'httptcozitydgzmmz', 'httptcozibkino', 'httptcozibgnjvsx', 'httptcozhfzwyif', 'httptcozgmvwrzhtj', 'httptcozgllcd', 'httptcozgkuozjqn', 'httptcozejvvckcu', 'httptcozeglms', 'httptcozdqxafhea', 'httptcozdpbamhxr', 'httptcozdmoctyqg', 'httptcozcrdawhrg', 'httptcoyzdxicbll', 'httptcoyzdjhnfqen', 'httptcoyyzenjaa', 'httptcoyylddwqt', 'httptcoyygapty', 'httptcoywqlcyuim', 'httptcoyvomfkytk', 'httptcoyvlpqzqx', 'httptcoyvkburix', 'httptcoyuwouzugw', 'httptcoyuvshvowy', 'httptcoyuozlaipy', 'httptcoytrultw', 'httptcoytokdpaiga', 'httptcoytmpphc', 'httptcoyteir', 'httptcoyskwdanu', 'httptcoyrtsvnpknk', 'httptcoyqka', 'httptcoyppridpk', 'httptcoyonzoc', 'httptcoynzgoowq', 'httptcoynoixfd', 'httptcoynguyouq', 'httptcoylqkikpfq', 'httptcoylqbkmnsbn', 'httptcoyllsaqoir', 'httptcoylflnnfwbh', 'httptcoykllhsg', 'httptcoykdijns', 'httptcoyizeiyui', 'httptcoyiwlhqh', 'httptcoyivoaryt', 'httptcoyirtere', 'httptcoyhlypc', 'httptcoygzcldxqwq', 'httptcoygokdpaif', 'httptcoygfgftrtrj', 'httptcoyexeanbxz', 'httptcoyetaaado', 'httptcoyeqrymdy', 'httptcoyeaygku', 'httptcoydtiuxck', 'httptcoycxtdau', 'httptcoycrxebyz', 'httptcoycrouu', 'httptcoyclyjcmdz', 'httptcoybudgxolco', 'httptcoyaxwpm', 'httptcoy', 'httptcoxzjozuqnzx', 'httptcoxymshvzbko', 'httptcoxyfcsrzd', 'httptcoxycnsivcy', 'httptcoxybftjwd', 'httptcoxxwcczat', 'httptcoxxvqjddy', 'httptcoxxfhtcx', 'httptcoxwqvstnr', 'httptcoxvvtdvpmk', 'httptcoxvhxvvl', 'httptcoxvanjznra', 'httptcoxuvkjayjb', 'httptcoxuccwoetmn', 'httptcoxtosyxdl', 'httptcoxsqldjzu', 'httptcoxspgfcmm', 'httptcoxrwjtjsxhz', 'httptcoxrrtixn', 'httptcoxrozsnn', 'httptcoxrhx', 'httptcoxqxxqwdho', 'httptcoxqukis', 'httptcoxnpbrmhbq', 'httptcoxmwnqlrf', 'httptcoxmrbyhu', 'httptcoxljbkyiww', 'httptcoxldnwbvzx', 'httptcoxldhmltm', 'httptcoxlbwxtgsej', 'httptcoxk', 'httptcoxjpqlkpe', 'httptcoxjdwite', 'httptcoxiudjmcf', 'httptcoxihmetalon', 'httptcoxhvkjw', 'httptcoxgstzxp', 'httptcoxghrtbo', 'httptcoxgdexcpyqq', 'httptcoxeglofsnwj', 'httptcoxdicmjhbo', 'httptcoxdhuvqel', 'httptcoxcwnbiuowe', 'httptcoxcslpodqsh', 'httptcoxcmhwqbml', 'httptcoxbmxwc', 'httptcoxbekiefs', 'httptcoxaxgqlzynk', 'httptcowzyjx', 'httptcowzsqdd', 'httptcowzpgcifaj', 'httptcowzmsfrjn', 'httptcowyzmfl', 'httptcowyzllpbfs', 'httptcowxassjmktd', 'httptcowwopumnxy', 'httptcowwmvcxavm', 'httptcowwiqaiul', 'httptcowwaietw', 'httptcowvxlpeim', 'httptcowvqh', 'httptcowvivyikk', 'httptcowurzenwp', 'httptcowuojis', 'httptcowuegamxavu', 'httptcowtdeboeha', 'httptcowshoe', 'httptcowsecomp', 'httptcowsdzbgye', 'httptcowqivz', 'httptcowqaylcanq', 'httptcowpeeftrw', 'httptcowoconvnh', 'httptcownmheguhv', 'httptcownjytmalma', 'httptcowmvjwslqy', 'httptcowlzrz', 'httptcowkmbwma', 'httptcowjpvxdnhks', 'httptcowjjjewcshu', 'httptcowjdlg', 'httptcowiydwodnjp', 'httptcowixpclwv', 'httptcowitizfu', 'httptcowhyrpb', 'httptcowhyaoz', 'httptcowhdlciaxz', 'httptcowgxxop', 'httptcowgrutwf', 'httptcowgkgiaze', 'httptcowgetwphz', 'httptcowfywul', 'httptcowfqbtklgf', 'httptcowfpjjqphwi', 'httptcowcyjnpy', 'httptcowciykpqx', 'httptcowbhonizxaf', 'httptcowaiyytxiwb', 'httptcow', 'httptcovzzcgghaae', 'httptcovyzewbzbuf', 'httptcovyrqfoqsz', 'httptcovypnbfjgh', 'httptcovykjko', 'httptcovybsfdofz', 'httptcovxykiuzu', 'httptcovwzqxct', 'httptcovwtizgk', 'httptcovvkxuk', 'httptcovvkphdh', 'httptcovuvtwgcnzt', 'httptcovubelwzl', 'httptcovtwhx', 'httptcovttorsboe', 'httptcovtimagm', 'httptcovsobnehv', 'httptcovsfjroi', 'httptcovsdcnnjgwx', 'httptcovrayekyt', 'httptcovqqoawakl', 'httptcovqasiuufei', 'httptcovpvzzsuo', 'httptcovpqpdlpmfd', 'httptcovppgmiv', 'httptcovpenkhd', 'httptcovonyoatpfk', 'httptcovomcpk', 'httptcovoffuhmnas', 'httptcovoeyfspr', 'httptcovngsfees', 'httptcovmknwnaw', 'httptcovlwunkzl', 'httptcovldrxtlp', 'httptcovkvdrnghn', 'httptcovksrrgmnk', 'httptcovkazxi', 'httptcovjtyjzleeg', 'httptcovjcterhoo', 'httptcovhmujttr', 'httptcovhbckxyi', 'httptcovhayl', 'httptcovgummyl', 'httptcovgqmrvbvfr', 'httptcovgiknsuf', 'httptcovevdea', 'httptcovenszsfp', 'httptcovcilwffd', 'httptcovcfaglcp', 'httptcovbvvpwnq', 'httptcovbvsuko', 'httptcovbuidlcct', 'httptcovbosyv', 'httptcovanpyclr', 'httptcovafbyfwp', 'httptcovaessfx', 'httptcov', 'httptcouzhrtsgh', 'httptcouzfkazyue', 'httptcouzehgfdfi', 'httptcouyquzhqjl', 'httptcouyfnllwjq', 'httptcouybgovcg', 'httptcouxrzyik', 'httptcouwfhoyhkx', 'httptcouvrmaje', 'httptcouuudxxcty', 'httptcouttuxjpif', 'httptcouttdrqmjb', 'httptcoutjnslx', 'httptcousqinywgn', 'httptcousopdcoss', 'httptcoushdoaee', 'httptcoursuknaqo', 'httptcourghuon', 'httptcouqqpnaq', 'httptcouqgmlysfj', 'httptcouqcmbqoh', 'httptcoupzrmbl', 'httptcoupfpts', 'httptcoupbkhael', 'httptcouopuisx', 'httptcouomvzwccq', 'httptcouodwzski', 'httptcouoafmmgraj', 'httptcounzkcypi', 'httptcounmlcy', 'httptcoumtijf', 'httptcoumtaqagbsd', 'httptcoummeyz', 'httptcoumkitlbh', 'httptcoumkbrtqyfa', 'httptcoulnvvmycd', 'httptcoulglubbop', 'httptcoulcrjtls', 'httptcoukttrogvl', 'httptcoukrikch', 'httptcoukkhcf', 'httptcoukfwj', 'httptcoukdwtzx', 'httptcoujqdk', 'httptcouhwtnd', 'httptcouhtv', 'httptcouhrhybs', 'httptcougwcronpu', 'httptcougouqamrit', 'httptcoufqtmhhyd', 'httptcoufjtiazzw', 'httptcoufjofpimi', 'httptcoufcmjntab', 'httptcouefisgbz', 'httptcoudxwcl', 'httptcoudwmdtxxdw', 'httptcoudqljtxmv', 'httptcoudaobevjli', 'httptcoudanwclck', 'httptcouczkxxfvxq', 'httptcoucmkptqwr', 'httptcouakhcwavl', 'httptcouadceuhfb', 'httptcou', 'httptcotzpzrn', 'httptcotzmoflfa', 'httptcotymihqkxb', 'httptcotyehfhvs', 'httptcotycihdpkw', 'httptcotwtqzko', 'httptcotvsczyiqw', 'httptcotvrils', 'httptcotuyoowm', 'httptcotupazdx', 'httptcotuowgltyj', 'httptcottgdrpoos', 'httptcotsqnjz', 'httptcotracuyvd', 'httptcotpibcylem', 'httptcotpaopz', 'httptcotpamojs', 'httptcotonoupko', 'httptcotoehgqfeb', 'httptcotoeeahmrk', 'httptcotlwsrez', 'httptcotlsvcs', 'httptcotlgbkyrvh', 'httptcotknttqmp', 'httptcotkdndozrr', 'httptcotjltpfdn', 'httptcotjjnakpe', 'httptcotjezmd', 'httptcotjcrlri', 'httptcotiqdnnipbw', 'httptcothkoszli', 'httptcothearye', 'httptcotgxveu', 'httptcotgffsp', 'httptcotgdeuytaw', 'httptcotfmpchazh', 'httptcotfgupxra', 'httptcotecoai', 'httptcotdtoqiuqdc', 'httptcotdkikr', 'httptcotdgsfthah', 'httptcotcurswe', 'httptcotcksvgbn', 'httptcotcayzt', 'httptcotbuwcf', 'httptcotblxqxjp', 'httptcotbjusaemuh', 'httptcotbdbvda', 'httptcotayhpdrh', 'httptcoszjwnbmvl', 'httptcosysmjn', 'httptcosyolxlnd', 'httptcosxdmnr', 'httptcosweylcujsi', 'httptcosvylpqcdp', 'httptcosvxfppihef', 'httptcosvbalxmif', 'httptcosumwsuonc', 'httptcosttpnicr', 'httptcostejqqhfj', 'httptcostaaotrp', 'httptcosrvmuimfbc', 'httptcosrszi', 'httptcosrrwksaqxi', 'httptcosrahvipb', 'httptcosqyqrglmy', 'httptcosqvgjjvf', 'httptcosoxopobi', 'httptcosohlkog', 'httptcosmtwnjy', 'httptcosmdmlzfib', 'httptcoslycd', 'httptcoslcnx', 'httptcosijkrjyz', 'httptcosiinaws', 'httptcosihdwqmv', 'httptcoshlfxrmzo', 'httptcoshieydcc', 'httptcoshaqngphn', 'httptcosgrfou', 'httptcosfphapes', 'httptcosdwhqbyrzg', 'httptcosdieruyia', 'httptcosdbbpnhbt', 'httptcosbhjdut', 'httptcosalmpfsln', 'httptcorxxhdqt', 'httptcorxdfvzjoeb', 'httptcorvtczfdf', 'httptcorveworsezx', 'httptcorubevujo', 'httptcorsxpoehf', 'httptcorsvogfqn', 'httptcorrym', 'httptcorqxzbbxv', 'httptcorqxiqojlf', 'httptcorqnfrbuyf', 'httptcorqjilgfzvl', 'httptcorpuhmyj', 'httptcorprbubws', 'httptcorpacxztnor', 'httptcoroqpyzb', 'httptcorohvjmqq', 'httptcorohur', 'httptcornxsoxjkl', 'httptcornumpjhjh', 'httptcorkuigiwu', 'httptcorkfufeqi', 'httptcorkctthzhu', 'httptcorjxqczsg', 'httptcorjsymibb', 'httptcorjmotyyf', 'httptcorjbtsiz', 'httptcoriaiyrqeb', 'httptcorhenxnvhbo', 'httptcorhebnpaopk', 'httptcorgnqmzieas', 'httptcorgjacfoit', 'httptcorfodaqehaw', 'httptcorfigkpnr', 'httptcorerjy', 'httptcorelpaah', 'httptcoregdzztmwq', 'httptcorebtuej', 'httptcordzdcqhjsc', 'httptcorcejcjou', 'httptcorbrxhtjp', 'httptcorbqnvabwo', 'httptcoqzyefudu', 'httptcoqzvtlhss', 'httptcoqzhhmz', 'httptcoqygarbgqdp', 'httptcoqxkzaosft', 'httptcoqxihbdnv', 'httptcoqweaq', 'httptcoqv', 'httptcoquwpxyu', 'httptcoquwglkwfab', 'httptcoqupimban', 'httptcoqukvcvet', 'httptcoqudyezwyzx', 'httptcoqtlafeku', 'httptcoqteoew', 'httptcoqsttdzvj', 'httptcoqsfjz', 'httptcoqrvbfoaan', 'httptcoqrpkuugp', 'httptcoqreifmwbrc', 'httptcoqrdprlqi', 'httptcoqqxxusei', 'httptcoqoumhohj', 'httptcoqouibenjm', 'httptcoqnizc', 'httptcoqmhfsyik', 'httptcoqmdsdtfvya', 'httptcoqlzfvzxkj', 'httptcoqlewwz', 'httptcoqkwobakz', 'httptcoqkohztxmeg', 'httptcoqjxdsfmyw', 'httptcoqjhsyyan', 'httptcoqjciiwcwi', 'httptcoqijkbdq', 'httptcoqigeerlzpj', 'httptcoqhswcyvem', 'httptcoqhrbedggtr', 'httptcoqhodhumjc', 'httptcoqhfzahku', 'httptcoqhfmcthmu', 'httptcoqgnwhpde', 'httptcoqgaqjdgaq', 'httptcoqftaqlytnd', 'httptcoqfoxppqx', 'httptcoqffjrzbxfn', 'httptcoqeisua', 'httptcoqeibxlz', 'httptcoqehdkki', 'httptcoqdmqxsbj', 'httptcoqdasmo', 'httptcoqbsxg', 'httptcoqbpqdrf', 'httptcoqbkijeno', 'httptcoqbghhxgco', 'httptcoqaxlnvg', 'httptcoqaxbncqxf', 'httptcoqaqiq', 'httptcoqaodzdhj', 'httptcoqabwvqn', 'httptcoqaabwipm', 'httptcoq', 'httptcopxbtrrfl', 'httptcopwxcgccht', 'httptcopwgdklbdae', 'httptcopvqqxbhuu', 'httptcopvcoalw', 'httptcopuyimqjk', 'httptcoptqcsx', 'httptcopswsudppd', 'httptcoprvbxhebv', 'httptcopqwpu', 'httptcopqtkra', 'httptcoppouadmx', 'httptcopoqebth', 'httptcoponrty', 'httptcopoaozqef', 'httptcopnutoswbo', 'httptcopntmamdq', 'httptcopmjzeza', 'httptcopmfsvsss', 'httptcopmfckdyh', 'httptcopliwepbsf', 'httptcopktltxbz', 'httptcopksqzmc', 'httptcopkhhdsgypg', 'httptcopjxnch', 'httptcopidnvkqb', 'httptcophzepvncx', 'httptcophvvgj', 'httptcophvoiynr', 'httptcophhcbgvpl', 'httptcopgztpoh', 'httptcopgmxnt', 'httptcopgfmhby', 'httptcopfmpvitedy', 'httptcopfiwpdbd', 'httptcopfei', 'httptcopewhpkepnm', 'httptcopepfxllkfu', 'httptcopecdmbhpg', 'httptcopdqzlikbp', 'httptcopbyzarag', 'httptcopbshrf', 'httptcopblyq', 'httptcopbltrrdha', 'httptcopaytfbqhb', 'httptcopayesdi', 'httptcopalsidih', 'httptcooyvgpqtpz', 'httptcooyijkbhkl', 'httptcooygbclnw', 'httptcooxxkiaas', 'httptcooxwavyc', 'httptcooxozrvx', 'httptcoowdvpddt', 'httptcoovpccqvpwv', 'httptcoovkzuakfx', 'httptcoovjyscmm', 'httptcoouymbauog', 'httptcootsgwcnc', 'httptcootmcwrhhk', 'httptcootjrrspuub', 'httptcooshviwabuu', 'httptcoorxemf', 'httptcooqppgewue', 'httptcooqgyknwb', 'httptcoopotzqpbi', 'httptcooogkhf', 'httptcoonulrf', 'httptcoonqmsadry', 'httptcoonikwyo', 'httptcoomyzqgpz', 'httptcoomldzygyum', 'httptcoolrxhiwy', 'httptcoojrufjneb', 'httptcoojqyyicuyo', 'httptcooiqrgkjw', 'httptcoogzsgaedu', 'httptcoogiftgh', 'httptcoogeifkyc', 'httptcoogcjvsghq', 'httptcoofozak', 'httptcooduovvu', 'httptcoodsptcgt', 'httptcoodfmfvhat', 'httptcoocdr', 'httptcoocblbv', 'httptcoocbcqylo', 'httptcooaqqjffpb', 'httptconzyejmgy', 'httptconztimyr', 'httptconzqxxxk', 'httptconzevqaoapv', 'httptconxptp', 'httptconxgtqslchg', 'httptconwybx', 'httptconwpuifwby', 'httptconwjzljbhoe', 'httptconwgzlygr', 'httptconw', 'httptconvwkqwkl', 'httptconvqfkoyh', 'httptconuwzxxuo', 'httptconurvhikbhz', 'httptconujufxnp', 'httptconuhtadkfwz', 'httptcontojwolnt', 'httptcontaz', 'httptcontanxtgh', 'httptconskjfvmf', 'httptconrrwnzlsd', 'httptconrlepyevd', 'httptconrkrqhty', 'httptconrjqfuzxi', 'httptconrdsxixfj', 'httptconqrha', 'httptconpodnwqze', 'httptconpcylvnll', 'httptconoykuoitn', 'httptconoxqkkub', 'httptconounlugc', 'httptconoqerxy', 'httptcononpbsjlhx', 'httptconoggbwbn', 'httptconlzswtzsr', 'httptconltbefw', 'httptconlmojdzo', 'httptconlgnhvy', 'httptconkqqwiuav', 'httptconjxgmgkl', 'httptconjmsnk', 'httptconiwmqp', 'httptconinavu', 'httptconhhnlamnp', 'httptcongxmdxgyp', 'httptcongtgour', 'httptcongtaodzyv', 'httptcongbkoz', 'httptconfqigwky', 'httptcondguhgh', 'httptconcwxdx', 'httptconcrrs', 'httptconcdjfwfc', 'httptconbwung', 'httptconbkukms', 'httptconbbajmwt', 'httptconaphhbfuc', 'httptconaojeoqwo', 'httptconalvhpc', 'httptconalunmjys', 'httptcon', 'httptcomzrwpby', 'httptcomzqxcpg', 'httptcomznrxir', 'httptcomzkymgzun', 'httptcomycpcjj', 'httptcomxnqljv', 'httptcomxmvx', 'httptcomxkcggisv', 'httptcomxdshz', 'httptcomwrydihpm', 'httptcomwlvtewaqp', 'httptcomwfgivrkk', 'httptcomwfdfa', 'httptcomwbuiu', 'httptcomwausmibh', 'httptcomvxgjcah', 'httptcomvryu', 'httptcomvklfmky', 'httptcomujaiktldz', 'httptcomtxytzi', 'httptcomtukpkt', 'httptcomtbrzwpsl', 'httptcomrvxzook', 'httptcomrufykaqz', 'httptcomrmrwtcwx', 'httptcomqjpcmnds', 'httptcomqizrdo', 'httptcomqeuia', 'httptcomqefesuh', 'httptcompxldsbpbh', 'httptcompxbuazc', 'httptcomozyrykx', 'httptcomozbsqhpg', 'httptcomocmdhbr', 'httptcomnnnnrzl', 'httptcomnemku', 'httptcommhnvbrxj', 'httptcomjwkzma', 'httptcomjtpksm', 'httptcomjtbgpjai', 'httptcomjckair', 'httptcomhrxdew', 'httptcomhdyknhce', 'httptcomgzuvsomi', 'httptcomgadlcwyx', 'httptcomfselzfe', 'httptcomenrkxz', 'httptcomdubwaihhs', 'httptcomdtyumon', 'httptcomdkjyhfcaz', 'httptcomclzdtc', 'httptcombtflxqk', 'httptcombneqhcmyt', 'httptcomaugtry', 'httptcomao', 'httptcomagxqview', 'httptcomadeob', 'httptcolzmeqk', 'httptcolzmempfg', 'httptcolzkhwddv', 'httptcolzdycsso', 'httptcolyyeggfac', 'httptcolypqgbi', 'httptcolwtgrb', 'httptcolwjjmdxjau', 'httptcolwhvy', 'httptcolvvbdxhe', 'httptcolvpwaio', 'httptcoluubglyu', 'httptcolurgrswx', 'httptcoluqw', 'httptcoluezgj', 'httptcoltoxypkwww', 'httptcolsxggern', 'httptcolpgjaki', 'httptcoloktbxgmgn', 'httptcolnmnd', 'httptcolnguhxnryj', 'httptcolmwvaegsa', 'httptcolmsydwic', 'httptcolmpvpjvsyx', 'httptcolludcujsp', 'httptcollpllggi', 'httptcolkhwji', 'httptcolkesavci', 'httptcoljwwfmex', 'httptcoljpiovg', 'httptcoljhmwdr', 'httptcolihrqu', 'httptcolhzjjalz', 'httptcolhfsuctgh', 'httptcolgewmbcdw', 'httptcolfocindut', 'httptcolflbtzusrh', 'httptcoletkiejgf', 'httptcoldsxzvflt', 'httptcoldkphyuvo', 'httptcolbrwffkkb', 'httptcolbftmtyanp', 'httptcolbdldtxy', 'httptcolaewayju', 'httptcokyxnxtzzf', 'httptcokynqpnlyb', 'httptcokxgubyeo', 'httptcokxadsgjb', 'httptcokwjbybptev', 'httptcokuxeeq', 'httptcokufcibnk', 'httptcoktw', 'httptcokteyrfk', 'httptcoksmnvofng', 'httptcokskglrhjt', 'httptcokrafxdxb', 'httptcokqvlumpwg', 'httptcokpvbxcmjx', 'httptcokpjseal', 'httptcoknyzmxzmgo', 'httptcoknufuu', 'httptcokmrpoxcoga', 'httptcokmasdip', 'httptcoklxiwzfmd', 'httptcokkcsabhgzs', 'httptcokitdlidr', 'httptcokisciau', 'httptcokhzgodiwf', 'httptcokgmplda', 'httptcokggretau', 'httptcokggkulkttp', 'httptcokfxzxkfqso', 'httptcokfsbdefykd', 'httptcokfryrpict', 'httptcokflygptbqb', 'httptcokfjbghw', 'httptcokffossb', 'httptcokdspekie', 'httptcokcxgkdsk', 'httptcokckrnbaai', 'httptcokbuirr', 'httptcokboqusp', 'httptcokbawtyv', 'httptcokaqcld', 'httptcojzwronpwx', 'httptcojzqklpyyh', 'httptcojzmtlkveyk', 'httptcojzjnhj', 'httptcojypgtrl', 'httptcojymwdylov', 'httptcojygelter', 'httptcojyfhmibc', 'httptcojxkypdj', 'httptcojxjbmhwtr', 'httptcojvpltfqq', 'httptcojvlwlrbdl', 'httptcojvjolpqm', 'httptcojtzer', 'httptcojtjse', 'httptcojtcedvbqr', 'httptcojsytuxhxtz', 'httptcojsqojsue', 'httptcojrxiheqjmg', 'httptcojrvmjyilge', 'httptcojqrusgs', 'httptcojqdfeungg', 'httptcojpqolzjrgi', 'httptcojopkwkiyqh', 'httptcojofakalj', 'httptcojoetvnha', 'httptcojnpajbd', 'httptcojnahiqet', 'httptcojmuvlji', 'httptcojmrrhxpq', 'httptcojlvkeepws', 'httptcojlavovnmqr', 'httptcojktbzkfs', 'httptcojjojalmx', 'httptcojioichp', 'httptcojiajhwj', 'httptcojgmewhur', 'httptcojfzjlobyr', 'httptcojepuuxng', 'httptcojbtpuamob', 'httptcojbnzwoyr', 'httptcojbamnbzi', 'httptcojayisluoz', 'httptcojaubcspo', 'httptcojarsys', 'httptcojagblxzeh', 'httptcoiztgy', 'httptcoizedlq', 'httptcoizbnkhu', 'httptcoixhlcwxbet', 'httptcoixbbbywf', 'httptcoiwhlvipqzt', 'httptcoivrtdvhsx', 'httptcoitgxkuuwbm', 'httptcoitbqince', 'httptcoisrfymyrss', 'httptcoismchnlgm', 'httptcoisepdx', 'httptcoirzkwiylj', 'httptcoirxjcjys', 'httptcoirovjhgvp', 'httptcoiptwltlte', 'httptcoiokzapg', 'httptcoinliktlcp', 'httptcoinduvxukp', 'httptcoimcbldclm', 'httptcoilvgqtxva', 'httptcoilpvgeo', 'httptcoijlsvlmvj', 'httptcoijjh', 'httptcoiizxl', 'httptcoiiligxbbzw', 'httptcoiiibigeomu', 'httptcoiiibifwnuw', 'httptcoihmtivccnb', 'httptcoigvxqzqj', 'httptcoigsqqjzj', 'httptcoifymgrpvt', 'httptcoifvaggan', 'httptcoifrntkf', 'httptcoifbcwxmc', 'httptcoiegmnkaj', 'httptcoidykzeb', 'httptcoidinjglje', 'httptcoidbfrq', 'httptcoicxdffu', 'httptcoicwb', 'httptcoiclulnkfbt', 'httptcoicfnjohu', 'httptcoibyhy', 'httptcoibnjkumhwk', 'httptcoiaursh', 'httptcoiatebaox', 'httptcoiailkcv', 'httptcoiacvwtndcx', 'httptcoia', 'httptcoi', 'httptcohziyitpr', 'httptcohyfan', 'httptcohwpbtljns', 'httptcohwhvlwbwis', 'httptcohvrhvhwbp', 'httptcohvkp', 'httptcohviafzzd', 'httptcohuwcwmcp', 'httptcohuiwluhcb', 'httptcohubsvbkgl', 'httptcohrbnrajtf', 'httptcohqiakjjwuw', 'httptcohqcylenw', 'httptcohqcupqdke', 'httptcohnumtccmk', 'httptcohmzjanaa', 'httptcohmtwwzpt', 'httptcohmsdfuzr', 'httptcohmkdkjn', 'httptcohluhn', 'httptcohkwygn', 'httptcohklrddnqy', 'httptcohkhymmd', 'httptcohkhtyeiej', 'httptcohivieyqcvz', 'httptcohhtbihkrjc', 'httptcohhsyodaqx', 'httptcohgojrfoieo', 'httptcohgdoq', 'httptcohfvntm', 'httptcoheyqpbev', 'httptcoheptznszl', 'httptcohelzkbxt', 'httptcohelrfxhsm', 'httptcohedpyz', 'httptcohdpidsu', 'httptcohcypgn', 'httptcohcefqlsvi', 'httptcohbxoveycae', 'httptcohbuwfzd', 'httptcohbp', 'httptcohatkhrhenf', 'httptcohajkfudo', 'httptcoh', 'httptcogznfqdnni', 'httptcogyrgfqzdl', 'httptcogyrcvzgbo', 'httptcogxoh', 'httptcogvsibpitfl', 'httptcogvripeu', 'httptcogvlellbfdp', 'httptcogvjcnohbm', 'httptcogvem', 'httptcoguqtlqhity', 'httptcoguobewsnb', 'httptcogujqipye', 'httptcogtyirao', 'httptcogtvyxhlfy', 'httptcogtpqkbcz', 'httptcogtlzsagq', 'httptcogtljdgu', 'httptcogsxo', 'httptcogsukcl', 'httptcogsssqeeb', 'httptcogsnntrvj', 'httptcogsgrmaq', 'httptcogrdrajt', 'httptcogqxbzafj', 'httptcogqpatuop', 'httptcogqlkjhwvqq', 'httptcogqbldlypg', 'httptcogpswmvalv', 'httptcogpimwcfpw', 'httptcognvdifadir', 'httptcogmpczyfyp', 'httptcogmishqqag', 'httptcoglncgkuukp', 'httptcogkzv', 'httptcogkhejyxzig', 'httptcogkchxmt', 'httptcoghyxicnkt', 'httptcoghntreb', 'httptcoggbsgxa', 'httptcogezdeef', 'httptcogerltkyab', 'httptcogeeqh', 'httptcogdswrqyjz', 'httptcogdqgeqw', 'httptcogdagwcoxl', 'httptcogczkvfoac', 'httptcogbvojnmbcv', 'httptcogbnxywpg', 'httptcogbdivaxz', 'httptcoganrhka', 'httptcogamlyrad', 'httptcofztynbdrq', 'httptcofzmsz', 'httptcofxznfya', 'httptcofxzdsr', 'httptcofwkxhgtt', 'httptcofweecvnm', 'httptcofwdej', 'httptcofvfemo', 'httptcofuxmijl', 'httptcofuqjcwbt', 'httptcofuibkdc', 'httptcoftxeenwq', 'httptcoftvnyg', 'httptcoftrwssluzu', 'httptcoftiljcw', 'httptcoftafdi', 'httptcofra', 'httptcofqzmooxu', 'httptcofqvsiyg', 'httptcofnumrzzjz', 'httptcofntmduet', 'httptcofniyppc', 'httptcoflerluqxq', 'httptcofisdj', 'httptcofiocnlvnj', 'httptcofinazfttt', 'httptcofiekrxi', 'httptcofhogvhls', 'httptcofhdmelkahr', 'httptcofguplrvosi', 'httptcofgmadrkqpx', 'httptcofflemtn', 'httptcoffbqlul', 'httptcofewrmfiqn', 'httptcoferqus', 'httptcofejbmbbw', 'httptcofczwecso', 'httptcofcvhijyjz', 'httptcofbnrjvi', 'httptcofbhihbm', 'httptcofbflcfdlu', 'httptcofbcoshqzt', 'httptcofapjotkuk', 'httptcofansjdsia', 'httptcofafjrplit', 'httptcof', 'httptcoezwqnqiiyh', 'httptcoezqvdzaf', 'httptcoeyvqennthh', 'httptcoeyanmjk', 'httptcoexikgo', 'httptcoewjvzidflm', 'httptcoevscmdycy', 'httptcoevlbzozvoc', 'httptcoevgbu', 'httptcoeuzrxch', 'httptcoeswubv', 'httptcoesqyyrmx', 'httptcoerzxfnaout', 'httptcoermqwfedm', 'httptcoeqhyqleabg', 'httptcoeqczse', 'httptcoepmjea', 'httptcoepkwlmr', 'httptcoeozac', 'httptcoeodwdc', 'httptcoenyxaprxi', 'httptcoenkxbqa', 'httptcoenedtcjf', 'httptcoendrwkumk', 'httptcoemwodvq', 'httptcoemqbrt', 'httptcoemlmoaj', 'httptcoemetln', 'httptcoekwnullxjc', 'httptcoekriuapn', 'httptcoekijcaw', 'httptcoejvupqfdf', 'httptcoejnzxsu', 'httptcoejjotgqa', 'httptcoeja', 'httptcoeicmbyf', 'httptcoehybqdrrr', 'httptcoehvkqytd', 'httptcoehqjgkkivl', 'httptcoegwuwntmm', 'httptcoegqaoabh', 'httptcoefzeutxgt', 'httptcoefj', 'httptcoeeclbewtb', 'httptcoedyxcfkjm', 'httptcoecpnrein', 'httptcoebxaoxjf', 'httptcoebgwbx', 'httptcoebgawwuc', 'httptcoeavlrraa', 'httptcoeajpcaikiw', 'httptcoeajai', 'httptcodzslg', 'httptcodzceddogkk', 'httptcodyxbxc', 'httptcodyawomzlu', 'httptcodxrtdeyao', 'httptcodxjoejb', 'httptcodwyifavtam', 'httptcodwpqauyv', 'httptcodwejk', 'httptcodvytmbco', 'httptcodvscvhovn', 'httptcodvpvkgku', 'httptcodveqxulyqi', 'httptcodtokpscn', 'httptcodsdklwk', 'httptcodryql', 'httptcodqlsadwth', 'httptcodq', 'httptcodppoxmidu', 'httptcodonloqygyj', 'httptcodonccrwzrh', 'httptcodoflbucjd', 'httptcodnxufiy', 'httptcodngixlckww', 'httptcodnezcja', 'httptcodmqjbkmj', 'httptcodmldzc', 'httptcodlnsah', 'httptcodldxhctq', 'httptcodkxqffryf', 'httptcodjvqeze', 'httptcodjtuosx', 'httptcodjhaukuyfm', 'httptcodisjsqyrnc', 'httptcodibaqwrb', 'httptcodhodwohbv', 'httptcodgxqraws', 'httptcodgqzxnuv', 'httptcodgqbtzhp', 'httptcodgnnmupva', 'httptcodgcjvfdn', 'httptcodfojypset', 'httptcodduxzbmte', 'httptcoddssoslgw', 'httptcoddgnsti', 'httptcodcunngbxqz', 'httptcodbvwchhwvz', 'httptcodbrmazglyf', 'httptcodaznqzrte', 'httptcodayosyv', 'httptcodasmycxodb', 'httptcodangsup', 'httptcodalzlzuov', 'httptcodajgdnwy', 'httptcod', 'httptcoczdlhbjyw', 'httptcoczarbtco', 'httptcocyqfexb', 'httptcocxmxltlxq', 'httptcocwvglyxhja', 'httptcocwjxsf', 'httptcocvmwgnz', 'httptcocvhaffbfaq', 'httptcocuzrgcttg', 'httptcocuqdanq', 'httptcoctthezxus', 'httptcoctkt', 'httptcocthpb', 'httptcocrhamdmum', 'httptcocrayuog', 'httptcocqlxsusf', 'httptcocqjcndgow', 'httptcocqhgitwoz', 'httptcocqajvol', 'httptcocpttnhih', 'httptcocouwqlq', 'httptcocodecc', 'httptcocoagfddanu', 'httptcocnqqwc', 'httptcocnozqafra', 'httptcocnnkbmo', 'httptcocnassfo', 'httptcocmupves', 'httptcocmoskv', 'httptcoclxuoey', 'httptcoclfmglse', 'httptcockphuzqpr', 'httptcockidcgdug', 'httptcocjbwjwurc', 'httptcociwf', 'httptcocijmsz', 'httptcochycjtepyf', 'httptcocgxrhxelsp', 'httptcocgvlocf', 'httptcocgaijthqs', 'httptcocftuecmynu', 'httptcocftsxl', 'httptcocfpzzvfc', 'httptcocfbnaaktu', 'httptcoceohcawrk', 'httptcocdlwixjpc', 'httptcocbzcop', 'httptcocbsjyu', 'httptcocbcrufc', 'httptcocaxxusl', 'httptcocaegq', 'httptcobzrdlkfu', 'httptcobzctzadc', 'httptcobywkrelyo', 'httptcobyveuyjuru', 'httptcobygcwwqjw', 'httptcobxfnuwh', 'httptcobwuenv', 'httptcobvzlbmir', 'httptcobvxoxtuyno', 'httptcobvrcrnanw', 'httptcobvfjnshk', 'httptcobvazjfhs', 'httptcobqbidaaom', 'httptcobpirb', 'httptcobohniaqku', 'httptcoboagdo', 'httptcobnjkhmkst', 'httptcobndkrd', 'httptcobnbenjvt', 'httptcobmeyuxquq', 'httptcoblbwdysp', 'httptcobkmkcvybv', 'httptcobjylinzciz', 'httptcobjuaezyjj', 'httptcobjhjgcehd', 'httptcobivkpyd', 'httptcobidmnbrd', 'httptcobhkrxrxpg', 'httptcobgdmzlajsj', 'httptcobeougputk', 'httptcobebvbipz', 'httptcobdrkpn', 'httptcobdrcwfoct', 'httptcobdbdercswd', 'httptcobcspxtotge', 'httptcobcovcrng', 'httptcobbskirw', 'httptcobaujio', 'httptcobaramj', 'httptcobajt', 'httptcobajgnj', 'httptcobaclczn', 'httptcoazvuuxmp', 'httptcoazuxxsne', 'httptcoazdxuw', 'httptcoaxovjyzz', 'httptcoawxfofsmv', 'httptcoawqooqvlp', 'httptcoavpyjtekz', 'httptcoavbycqzy', 'httptcoaumfysluok', 'httptcoaukokew', 'httptcoaugbpotv', 'httptcoaudrqnyrz', 'httptcoasycnbpvnq', 'httptcoasn', 'httptcoasmiqzfvag', 'httptcoasjlyfgcd', 'httptcoasemrioxn', 'httptcoaryckacd', 'httptcoarxeplp', 'httptcoaqwdf', 'httptcoaqhlkyw', 'httptcoaqect', 'httptcoapnhsacs', 'httptcoapcfgdf', 'httptcoaoopthin', 'httptcoanzkkivzw', 'httptcoanpsdut', 'httptcoanoubgcrr', 'httptcoaniokabs', 'httptcoangykaud', 'httptcoamgfxuxgbp', 'httptcoalvzuyujy', 'httptcoalemsk', 'httptcoakjideyr', 'httptcoajgvxmafb', 'httptcoajbwkkp', 'httptcoaikxjup', 'httptcoahsuwvpjo', 'httptcoagxdizuih', 'httptcoagsjftxzu', 'httptcoafusvb', 'httptcoafawjfokx', 'httptcoacqkuxwej', 'httptcoacolxlz', 'httptcoacfaob', 'httptcoaanpsujmyi', 'httptcoaaewsehcv', 'httptcoaadcvgkjg', 'vogue', 'voguegwyneth', 'httpsyoutubevtnjjoemb', 'httpsyoutubevpgohaseedc', 'httpsyoutubeveqpgxmzjo', 'httpsyoutubepqgdfhzjg', 'httpsyoutubepotmovkrrte', 'httpsyoutubepcnsynceomm', 'httpsyoutubeoorupmpgi', 'httpsyoutubenulpcmoukg', 'httpsyoutubeniuv', 'httpsyoutubelsmhhd', 'httpsyoutubelaaoyqdnxi', 'httpsyoutubel', 'httpsyoutubejtabjogy', 'httpsyoutubeixwfoebpq', 'httpsyoutubeiuamplxhoy', 'httpsyoutubeinxiuscvppq', 'httpsyoutubedsdbaxks', 'httpsyoutubecowmzdoho', 'httpsxyonlinenetbooksbibliography', 'httpswwwyoutubecomwatchvnyhbohg', 'httpswwwyoutubecomwatchvmxvmqszhugk', 'httpswwwyoutubecomwatchvjxstbbuvc', 'httpswwwyoutubecomwatchvintowxlgwkampfeatureyoutubeampt', 'httpswwwyoutubecomwatchvgjdsbw', 'httpswwwyoutubecomwatchvfhtczcvei', 'httpswwwyoutubecomwatchvfhapd', 'httpswwwyoutubecomwatchvbweoetxrk', 'httpswwwyahoocomnewsobama', 'httpswwwwashingtonexaminercomnewssomething', 'httpswwwvoxcomrush', 'httpswwwtwitchtvjeffgamerryer', 'httpswwwthirteenorgwnetjimcrowstoriesorgdemocratichtml', 'httpswwwtheguardiancomworldapratheist', 'httpswwwtheblazecomnewsmaher', 'voicelaugh', 'httpswwwteapartyorgjoe', 'httpswwwteapartyorgbombshell', 'httpswwwstltodaycomnewslocalmetropage', 'httpswwwsofanovelcombookspring', 'httpswwwsnacsorgcontact', 'httpswwwshortoftheweekcomthe', 'httpswwwsheptytskyinstitutecalogos', 'httpswwwsenmercoma', 'httpswwwrefworldorgdocidbcffeahtml', 'httpswwwredditcomrgamerghazicommentsggwantifeministyoutuberdoublesdownonvilejess', 'httpswwwpinknewscoukcarl', 'httpswwwpcnbritainorguk', 'httpswwwopindiacommumbai', 'httpswwwoneindiacomindialashkars', 'httpswwwnewsweekcomgay', 'httpswwwnewsbreakappcomnnnwosasaamppdbyepdd', 'httpswwwnewsbreakappcomnnnwosasaamppdbfvmgk', 'httpswwwnewsbreakappcomnnnwosapdpcxampsi', 'httpswwwnewkeralacomnewsreadus', 'httpswwwmeforumorgturkeys', 'httpswwwmeatpoultrynutritionorgcontentgreat', 'httpswwwinstagramcomtvccvvkmfx', 'httpswwwinstagramcompcdkeuwjzdiigshidogiaxduq', 'httpswwwinstagramcompcdjajthrigshidlckgutgsp', 'httpswwwinstagramcompcdetmqanugaigshidehbahpkt', 'httpswwwinstagramcompcddmthqgpigshidrvflirrtfx', 'httpswwwinstagramcompcdbooezgcigshidubnbobiyc', 'httpswwwinstagramcompcdbakznnigshidaqiuyjknv', 'httpswwwinstagramcompcbzxofhlmujigshidfskpwqm', 'httpswwwinstagramcompcbvmnkoqigshidlngyypv', 'httpswwwinstagramcompcbb', 'httpswwwinstagramcompcba', 'httpswwwinstagramcompcauskoxjsdeigshidoxlsfxkgq', 'httpswwwinstagramcompbzh', 'httpswwwinstagramcompbqryjoxgurbutmsourceigtwittershareampigshidogtnxalj', 'httpswwwinstagramcompboirgmaczmigshidxocmpsn', 'httpswwwinstagramcompbnruh', 'httpswwwinstagramcompbkcgsasdyigshidnnupacfawco', 'httpswwwinstagramcomblackathanovercps', 'httpswwwictorgilarticlefarrightterrorismeng', 'httpswwwgatestoneinstituteorgpersecution', 'httpswwwfoxnewscomsportsdrew', 'httpswwwfacebookcompostsextidscbshtjsegzdoampdtampvhe', 'httpswwwfacebookcomphotofbidampseta', 'httpswwwfacebookcompermalinkphpstoryfbidampid', 'httpswwwfacebookcomlesliepriceposts', 'httpswwwdramanicemoviedramabetter', 'httpswwwdailymailcouknewsarticle', 'httpswwwciagovlibrarypublicationsthe', 'httpswwwchristianheadlinescomcontributorsmichael', 'httpswwwcampussafetymagazinecomsafetygirls', 'httpswwwcameronespositocom', 'httpswwwbreitbartcomtechtwitter', 'httpswwwbreitbartcomeuropeillegal', 'httpswwwbreitbartcomentertainmentwill', 'httpswwwbreitbartcomentertainmentkanye', 'httpswwwbradford', 'httpswwwbitchutecomvideobmopvldchekn', 'httpswwwbaynewscomfltampanewsflorida', 'httpswwwbarnesandnoblecomwhow', 'httpswwwamazoncoukdpbbxb', 'httpswwwamazoncomdpbggbwl', 'httpswwwaljazeeracomnewsafghanistan', 'httpswww', 'httpswpmephgqz', 'httpsworldstarhiphopcomvideosvideophpvwshhszsqzglbxbwampnohlstrue', 'httpswhizbuzzbookscomschool', 'httpswhizbuzzbookscompixies', 'httpswashexampmjq', 'httpswashexamblenf', 'httpsvinecovopedduxxtz', 'httpsvinecovhqpmjppzdu', 'httpsvinecovhgzudpewx', 'httpsunnahcom', 'httpsunmaskingthemesscomp', 'httpstâ', 'httpstwittercomzoieburgherstatus', 'httpstwittercomzlamsturbatestatusphoto', 'httpstwittercomyoungwheauxstatus', 'httpstwittercomwavyemmastatus', 'httpstwittercomwarriortrumpstatus', 'httpstwittercomvidyakrishnanstatus', 'httpstwittercomvalentaevibesstatus', 'httpstwittercomuyazistatusphoto', 'httpstwittercomuscirfstatuss', 'httpstwittercomtrelekiddstatusphoto', 'httpstwittercomtheslothygirlstatus', 'httpstwittercomthehirstystatus', 'httpstwittercomswisszwstatus', 'httpstwittercomsvntnhstatus', 'httpstwittercomstupidnolastatus', 'httpstwittercomsmqureshiptistatus', 'httpstwittercomsmisosaastatus', 'httpstwittercomsahluwalstatus', 'httpstwittercomrestartleaderstatus', 'httpstwittercomrealdonaldtrumpstatus', 'httpstwittercomragnorikstatus', 'httpstwittercompiyushbanerjestatus', 'httpstwittercompinkpixeisstatus', 'httpstwittercomphonkytownstatusphoto', 'httpstwittercompenabdullstatuss', 'httpstwittercompeeanofreekstatus', 'httpstwittercomotfzuiystatus', 'httpstwittercomofficerwilsonstatusphoto', 'httpstwittercomnzayedstatusvideo', 'httpstwittercomnoahfanstatus', 'httpstwittercomniggerflipperstatusphotono', 'httpstwittercomniggerflipperstatusphoto', 'httpstwittercomnicolasturgeonstatus', 'httpstwittercommrtweetthatstatusphoto', 'httpstwittercommrsomtookonkwostatuss', 'httpstwittercommeraaalustatuss', 'httpstwittercommaximmillsstatus', 'httpstwittercommanojsastatus', 'httpstwittercomlosersclubdanstatus', 'httpstwittercomlolleeastatus', 'httpstwittercomlilcuteybunnystatus', 'httpstwittercomleafeonerikastatus', 'httpstwittercomksunjaistatus', 'httpstwittercomjeffgieseastatus', 'httpstwittercomjakeprocestatus', 'httpstwittercomitsnaznotnasstatus', 'httpstwittercomimoonlightdancestatus', 'httpstwittercomimmakstatus', 'httpstwittercomhtgrlwllstatus', 'httpstwittercomhotfreestylestatus', 'httpstwittercomhitlerpuncherstatus', 'httpstwittercomhismusicianstatus', 'httpstwittercomharshitstatuss', 'httpstwittercomharddongthemanstatus', 'httpstwittercomgxeorgxiastatus', 'httpstwittercomgopstatus', 'httpstwittercomgldenerastatuss', 'httpstwittercomfrankthatankstatusphoto', 'httpstwittercomflightclubceostatus', 'httpstwittercomfinefolklorestatus', 'httpstwittercomfeimmstatus', 'httpstwittercomfawadchaudhrystatus', 'httpstwittercomemmynicgstatus', 'httpstwittercomdunekhaalstatus', 'httpstwittercomdragonballblkstatus', 'httpstwittercomdlatnstatusphotofuck', 'httpstwittercomdeletedrewstatus', 'httpstwittercomcrisslesstatus', 'httpstwittercomcreolequeenbstatusvideo', 'httpstwittercomcrazyclarinestatus', 'httpstwittercomcharlotteescamistatusphoto', 'httpstwittercomcernovichstatus', 'httpstwittercomcbethandersonstatus', 'httpstwittercombrensssstatus', 'httpstwittercomblacktolivestatusphoto', 'httpstwittercombigsaschastatus', 'httpstwittercombeijingfentyystatus', 'httpstwittercomashlleysosastatus', 'httpstwittercomashleymonrosmstatus', 'httpstwittercomaquabeingsstatus', 'httpstwittercomannarhiannonstatus', 'httpstwittercomaltafraja', 'httpstwittercomakrmalrqymystatus', 'httpstwittercomafucktoystatusphoto', 'httpstmeshaziah', 'httpstmblrcozykitijvmcxr', 'httpstmblrcozhedemeopsm', 'httpsthetabcomukexeterexeter', 'httpstcâ', 'httpstcozzajbaaz', 'httpstcozwsrgumcdw', 'httpstcozvwlcpgyk', 'httpstcozvwfjbaws', 'httpstcozucddqq', 'httpstcozsixelab', 'httpstcozrfqgbrz', 'httpstcozpyyikvp', 'httpstcozpkfwfxã', 'httpstcozpkfwfxâ', 'httpstcoznhlfpa', 'httpstcozmuzylrrpe', 'httpstcozlssgcyiu', 'httpstcozkqownib', 'httpstcozkdgsrk', 'httpstcozdugdx', 'httpstcozaxbgcqv', 'httpstcozavhhgdg', 'httpstcoyzwlmjjg', 'httpstcoyyrmqtm', 'httpstcoywgizywkk', 'httpstcoyuqveucvia', 'httpstcoyszadked', 'httpstcoyshehfhmfm', 'httpstcoyshbfjf', 'httpstcoypdhrrvx', 'httpstcoymwxwaqgv', 'httpstcoylkwslk', 'httpstcoyknvkrj', 'httpstcoykaawvria', 'httpstcoycâ', 'httpstcoycbqvtti', 'httpstcoxxveyru', 'voiceless', 'httpstcoxvmcdsaby', 'httpstcoxufwsigxfk', 'httpstcoxqhijasnye', 'httpstcoxqdmngzh', 'httpstcoxnrwdubjd', 'httpstcoxmlyoqsi', 'httpstcoxkknmgiã', 'httpstcoxkcqorgd', 'httpstcoxirkmuexsk', 'httpstcoxhcccladv', 'httpstcoxeojxgd', 'httpstcoxecogkmvu', 'httpstcoxblxunqjx', 'httpstcoxakiplru', 'httpstcowynnefwzfc', 'httpstcowyhiazii', 'httpstcowvwdku', 'httpstcowvhlvkcqs', 'httpstcowsdhajmga', 'httpstcowscywhyr', 'httpstcowrrueguy', 'httpstcowqxeufprl', 'httpstcowpideyvwad', 'httpstcowoncydwfvb', 'httpstcowoczkyi', 'httpstcownqnky', 'httpstcownjfkobpxs', 'httpstcownamhhctv', 'httpstcoweforys', 'httpstcowdxvjzwj', 'httpstcovzwdrxrul', 'httpstcovtplawxuz', 'httpstcovstvehhn', 'httpstcovsjtgwqxp', 'httpstcovrvbuwhtb', 'httpstcovnpndfvjr', 'httpstcovndyfwlb', 'httpstcovnbwqnvind', 'httpstcovmoolnb', 'httpstcovmhiymcj', 'httpstcovkbfdtqtyi', 'httpstcoviktmqsq', 'httpstcovfcephush', 'httpstcovdofdeemhy', 'httpstcouuagjigiak', 'httpstcoumsvjgazu', 'httpstcoumrybbjfn', 'httpstcoulfqderty', 'httpstcoukxefvvfc', 'httpstcoukkuseoa', 'httpstcoukaxnnzk', 'httpstcouiyqfjhlz', 'httpstcouiczubxa', 'httpstcougbddh', 'httpstcouekxqus', 'httpstcouczgnybieg', 'httpstcouclbszmr', 'httpstcoubzwgufaw', 'httpstcoubnhhvyq', 'httpstcouaspjcwf', 'httpstcotzaurqljt', 'httpstcotxrvrfccx', 'httpstcotxoflj', 'httpstcotxnfqvvk', 'httpstcotsxaoxoj', 'httpstcotswkqxjqo', 'httpstcotsivtizf', 'httpstcotschycvs', 'httpstcotpyncyq', 'httpstcotoxpbfnymj', 'httpstcotkdqawvo', 'httpstcotjxccfwz', 'httpstcotidhqicap', 'httpstcotiddhxvlvt', 'httpstcothjbcvniy', 'httpstcotgikljpfv', 'httpstcotfhnrinnwd', 'httpstcotffjcwfix', 'httpstcotddhzpvzp', 'httpstcotaâ', 'httpstcoszjqcuzcij', 'httpstcosxsprz', 'httpstcosvufbce', 'httpstcosvhtdqtn', 'httpstcosu', 'httpstcostâ', 'httpstcosqxhjhq', 'httpstcosqdmqhs', 'httpstcosotkfo', 'httpstcosogj', 'httpstcosnmvm', 'httpstcoslnkqtb', 'httpstcoshaenrvfy', 'httpstcosgzyjbggwe', 'httpstcosdwmâ', 'httpstcosbdzvcmdvn', 'httpstcorxvteutp', 'httpstcorxfykyuxgq', 'httpstcorseyfas', 'httpstcornvdnlcdr', 'httpstcorkwiosan', 'httpstcorkkvawij', 'httpstcorkdqpdrmvb', 'httpstcorjtbzpcna', 'httpstcorhroctoy', 'httpstcorfjuqmmypf', 'httpstcordiybips', 'httpstcorbkpynvbd', 'httpstcoqzhastxgz', 'httpstcoqytyagtc', 'httpstcoqyoakcc', 'httpstcoqxrknfuqqa', 'httpstcoqulercbbf', 'httpstcoqujyauigqh', 'httpstcoqucdxeeh', 'httpstcoqtnkcdeb', 'httpstcoqsudicriep', 'httpstcoqrjrtec', 'httpstcoqpshlooin', 'httpstcoqpsczxooi', 'httpstcoqpsbaaoa', 'httpstcoqpbzitzqu', 'httpstcoqgzyncis', 'httpstcoqeanitji', 'httpstcoqcqbwpmus', 'httpstcoqbyoepr', 'httpstcopznobjnz', 'httpstcopvsezjdhm', 'httpstcopttdb', 'httpstcoprernejm', 'httpstcopqekhzrwbs', 'httpstcoppwjhequxo', 'httpstcopocuzhdi', 'httpstcopmhrxigveq', 'httpstcopkynmxcbs', 'httpstcopkgadrsm', 'httpstcopjnzspsoa', 'httpstcopicusmr', 'httpstcopglqbuim', 'httpstcopfjkpx', 'httpstcopfgrygkn', 'httpstcopdwnrbtcr', 'httpstcopdlvqowp', 'httpstcopdeecqfjj', 'httpstcopcwqftjjj', 'httpstcopbqsuvcwg', 'httpstcoowmmssfh', 'httpstcoowkoaa', 'httpstcoovsopps', 'httpstcoovfxakjcc', 'httpstcooupnfwsef', 'httpstcoossrashgd', 'httpstcoospxokpb', 'httpstcoosdgmwrh', 'httpstcooqxdjnfkn', 'httpstcoopmenrmndi', 'httpstcooombxrff', 'httpstcoonrvctoxv', 'httpstcooltxcpox', 'httpstcoojtesaaj', 'httpstcoojcbncy', 'httpstcoohxaxjvgep', 'httpstcoogfxyoomg', 'httpstcooffqbqjwjx', 'httpstconzepcmizn', 'httpstconwqlrjriv', 'httpstconvkpvpl', 'httpstconmvxja', 'httpstconjorvfiq', 'httpstcongohmfowce', 'httpstconecgoym', 'httpstconbyqozcik', 'httpstconbxdxcvu', 'httpstcomzgetitvl', 'httpstcomwyaqkzi', 'httpstcomtvwzqoplz', 'httpstcomqasfpoz', 'httpstcomnvsjqvsc', 'httpstcomnrakenq', 'httpstcomndpftmir', 'httpstcommymlaw', 'httpstcomknaqjxwa', 'httpstcomjâ', 'httpstcomjhdnrmohx', 'httpstcomixmunbfm', 'httpstcomgqqgrxdx', 'httpstcomfptkyvql', 'httpstcomfggjaty', 'httpstcomckkxyjw', 'httpstcomcakppr', 'httpstcombukczt', 'httpstcolznnduxm', 'httpstcolxuomkels', 'httpstcolxnukiazh', 'httpstcolvvahraeza', 'httpstcolvoigzbbz', 'httpstcolpimytu', 'httpstcolooâ', 'httpstcollochmdfr', 'httpstcolkurhkvf', 'httpstcolkmjqduf', 'httpstcoljvyhpnu', 'httpstcoljjozrwlbs', 'httpstcolhaqseeocd', 'httpstcolerttfdx', 'httpstcolepmtfosk', 'httpstcolcplpdoe', 'httpstcolaukejvo', 'httpstcolanfksxd', 'httpstcokzxeydjg', 'httpstcokzdydgsug', 'httpstcokynyxdi', 'httpstcokyaehjcfxj', 'httpstcokwslnqb', 'httpstcokwibvbmyi', 'httpstcokvubpdq', 'httpstcokvnzcsktx', 'httpstcokustlmp', 'httpstcokufttyvwec', 'httpstcoktboxzbib', 'httpstcoktapfatnf', 'httpstcokoqjpmomv', 'httpstcokjpirmcv', 'httpstcokhoetuczpa', 'httpstcokfsndpidu', 'httpstcokfansro', 'httpstcokeegdcjsk', 'httpstcokdxfltzma', 'httpstcokbzdgadb', 'httpstcokbxstngkog', 'httpstcokbsgikki', 'httpstcokatumocb', 'httpstcokalqfxjo', 'httpstcojzifujvul', 'httpstcojxqdytevgi', 'httpstcojxpdgugy', 'httpstcojxgtzfnnlz', 'httpstcojugmzmro', 'httpstcojsqhjvbzc', 'httpstcojqoqfahxe', 'httpstcojmxtiernv', 'httpstcojmbmxdyby', 'httpstcojjauyuyarg', 'httpstcojhejmajjsh', 'httpstcojgeskhomd', 'httpstcojdgâ', 'httpstcojczicav', 'httpstcojcpufmgixb', 'httpstcojbywfjf', 'httpstcoiâ', 'httpstcoizhstsmta', 'httpstcoiyiadj', 'httpstcoivkiznocq', 'httpstcoisiwme', 'httpstcoipheajduo', 'httpstcoiogpivcod', 'httpstcoilfynip', 'httpstcoikxxedkvyi', 'httpstcoiinccbdz', 'httpstcoihjdrcq', 'httpstcoifsnjdomzj', 'httpstcoiemnugm', 'httpstcoielbypf', 'httpstcoiebkawjwc', 'httpstcoiajfxfent', 'httpstcohzzjan', 'httpstcohzozcinzcm', 'httpstcohyucvmeqm', 'httpstcohykhehuyxy', 'httpstcohwwtdskdx', 'httpstcohumltddk', 'httpstcohtyfsjj', 'httpstcohttmlrpna', 'httpstcohorkezh', 'httpstcohmyhidpt', 'httpstcohkkrzcfcud', 'httpstcohjnenkbt', 'httpstcohjjykif', 'httpstcohikxirtnn', 'httpstcohhsqgdlhgn', 'httpstcogzwkgeoh', 'httpstcogzuudpna', 'httpstcogxpathijy', 'httpstcogxkhot', 'httpstcogwoarbvsuw', 'httpstcogwlvbxkggh', 'httpstcogtkneseb', 'httpstcogqxhofax', 'httpstcognoefx', 'httpstcognnvfdopm', 'httpstcogmxsjkrg', 'httpstcogmsryvl', 'httpstcoglzwgkt', 'httpstcogikwiysos', 'httpstcogihgroo', 'httpstcoghpygpnidl', 'httpstcoghfwvqm', 'httpstcoghcukwg', 'httpstcogfbaemzw', 'httpstcogdwpqgcui', 'httpstcofymscmnah', 'httpstcofsdalwjhg', 'httpstcofrohluet', 'httpstcofrgsmygo', 'httpstcofofzqcex', 'httpstcofnpenyab', 'httpstcoflavruo', 'httpstcofiisemg', 'httpstcofhxgthlab', 'httpstcofhslaydv', 'httpstcofdvxxxoh', 'httpstcofaxdufim', 'httpstcoeypsqmsz', 'httpstcoeyditgvhn', 'httpstcoexckrhi', 'httpstcoevcltwgzwe', 'httpstcoeuaeuwczhn', 'httpstcoerqhgtmpc', 'httpstcoeqsazurrbh', 'httpstcoepfvkxhooc', 'httpstcoeosleynbj', 'httpstcoemtfkade', 'httpstcoekvtudmbho', 'httpstcoejzqiiew', 'httpstcoejwyqyhhr', 'httpstcoegbqlo', 'httpstcoeecrwnyibe', 'httpstcoebqhdyd', 'httpstcoeapdqvy', 'httpstcoeajgslxuf', 'httpstcodvkdeibpv', 'httpstcoduvkhylkzq', 'httpstcoduuhonfddo', 'httpstcodtzaqurxr', 'httpstcodtpnjhwcr', 'httpstcodtkdxygwem', 'httpstcodtjpsihuif', 'httpstcodmzvdlq', 'httpstcodlufoedhy', 'httpstcodkuppkwrm', 'httpstcodksvajkrg', 'httpstcodkbgskdpi', 'httpstcodhzxedli', 'httpstcodgznp', 'httpstcodezjooa', 'httpstcodcjogwfg', 'httpstcodbgianmpyt', 'httpstcoczdotonbv', 'httpstcocxhivaqgba', 'httpstcocprlaswzf', 'httpstcocplltejrw', 'httpstcocnogjtfju', 'httpstcockxtjay', 'httpstcockxtiqzv', 'httpstcockgnkgl', 'httpstcockctyxpoys', 'httpstcocjcuqdco', 'httpstcocgputwxq', 'httpstcocgeigcjgi', 'httpstcoceianjm', 'httpstcobyfyjsuzlv', 'httpstcobvectjm', 'httpstcobvbeqjrlo', 'httpstcobtrwcpl', 'httpstcobtdzsqxp', 'httpstcobqfqyuft', 'httpstcobpmjiefel', 'httpstcoboyqvoxj', 'httpstcobmlhwxppx', 'httpstcobkyqcfxg', 'httpstcobkwzgzioq', 'httpstcobkoypxicez', 'httpstcobixpntiek', 'httpstcobivbnulv', 'httpstcobadllreu', 'httpstcoazjcxmx', 'httpstcoawtklqjapo', 'httpstcoatsvcy', 'httpstcoartkrspkm', 'httpstcoaobkpsdvo', 'httpstcoamkayucblj', 'httpstcoakhrggmdad', 'httpstcoakgbmdkm', 'httpstcoajqxhekkt', 'httpstcoajgdzkirub', 'httpstcoajbpgfeoe', 'httpstcoagftlwjf', 'httpstcoaevqjgrzzn', 'httpstcoaeebmhfrl', 'httpstcoacqdbpryp', 'httpstcoachâ', 'httpstcoaaxzedg', 'httpstcoaawhbicowe', 'httpstc', 'httpstalkingpointsmemocomlive', 'httpst', 'httpsstoreplaystationcom', 'httpssoundcloudcom', 'httpssnowoffthebenblogspotcomthistles', 'httpsrobertpaulreyescomroger', 'httpsreutrspyred', 'httpsreligionandpoliticsorgthe', 'httpsqurancomtranslations', 'httpsqcomngpvoh', 'httpspotifinoec', 'httpspoliticojjbcg', 'httpsplusgooglecompostshesvkyg', 'httpspalwatchorgpage', 'httpsonlyfanscommasterapollogod', 'httpsnytvuevvzb', 'httpsnytimshvtpe', 'httpsnewsyahoocomtrump', 'httpsnbcnewstofvgxtn', 'httpsmyoutubecomwatchvtkighfxvgsw', 'httpsmolima', 'httpsmobilenytimescomopinioncharles', 'httpsminnesotareformercombriefsminnesota', 'httpsmfacebookcompostsnotifidampnotiftclosefriendactivityamprefnotif', 'httpsmediumcom', 'httpsmailchimphoustonreaderstart', 'httpslnkdingn', 'httpslnkdinez', 'httpslnkdineekifxz', 'httpslfacebookcomlphpuhttpsaffwwwyoutubecomfwatchfvdrrxwucpgkeamphatscprylwghsieecdoqfozjxiewoommmennkfhyoyxubqoaapqcuiostgdafnvxhmplkhktwlqwwfrpycpugquyqrxnhibcxwqnp', 'httpsjubejucompm', 'httpsiweoneqyk', 'httpsiweoneagzoj', 'httpsinnewsyahoocombollywood', 'httpsindpnvzfx', 'httpsindonetspider', 'httpsimagesappgooglfblukfftfryx', 'httpsiftttmhbcs', 'httpsiftttkivwp', 'httpsifttthtoytj', 'httpshumansofhiitcoukholly', 'httpshnhhcoaefzd', 'httpsharesjtefr', 'httpsgetpocketcomexploreitemit', 'httpsgellerreportcommuslims', 'httpsflipitokowve', 'httpsenmwikipediaorgwikicategoryislamicterrorisminindia', 'httpsenmwikipediaorgwikibuggeryact', 'httpsenmwikipediaorgwikialanjonesradiobroadcaster', 'httpseinnewscomyeghsfgwa', 'httpsdefensemaveniobluelivesmatternewsmother', 'httpsdeadspincomhigh', 'httpsdailymaiios', 'httpscuriouscatmeyukkipostt', 'httpscuriouscatmeyarasarapostt', 'httpscuriouscatmethirdeyescribepost', 'httpscuriouscatmesailorgripost', 'httpscuriouscatmepostt', 'httpscuriouscatmelocalgothmamipostt', 'httpscuriouscatmedoripost', 'httpscuriouscatmedelashereenpost', 'httpscuriouscatmecstryderpost', 'httpscuriouscatmecoraranjelpostt', 'httpscnnitjcepak', 'httpsbuzzflashcomarticlesbill', 'httpsbufflyxgr', 'httpsbufflyxgfr', 'httpsbufflywztmn', 'httpsbufflyjpti', 'httpsbooksfaithandcoffeecomp', 'httpsbitlyxqyju', 'httpsbitlyrhoxd', 'httpsamzntovkef', 'httpsamzntonqyl', 'httpsamzntoexnvp', 'httpsamzntoespyq', 'httpsamzntocrod', 'httpsamredeemedcomend', 'httpsakinokureblogspotcomal', 'httpsafhttpfwwwnewsbreakappcomfnfnnwosafsdapddqxrry', 'httpsacljusagfw', 'httpsabcnycomexcidtawabcfbamputmcampaigntrueanthematrendingcontentamputmmediumtrueanthemamputmsourcefacebook', 'httpsabclarksr', 'httpsabccoqgpwhg', 'httpsabccomexcidtaktrkfbamputmcampaigntrueanthematrendingcontentamputmmediumtrueanthemamputmsourcefacebook', 'httpsabccom', 'httpsabcchicagocomfbclidiwarzeigoysrxyyyafeiqjrazqigfcgxfgfgpwivgclwqrahtimu', 'httpsabcchicagocomexcidtawlstwamptaidefcfcbamputmcampaigntrueanthematrendingcontentamputmmediumtrueanthemamputmsourcetwitter', 'httpquranit', 'httpqgsyty', 'httpqgsylmh', 'httpqgsyeg', 'httpqgsycd', 'httpqgslzl', 'httpqchristianorgtake', 'httpprovokingvoting', 'httppostngodz', 'httpplurkcompiodaux', 'httppinkcxjsnzqf', 'httpowlyzqh', 'httpowlyxemlb', 'httpowlyxdwff', 'httpowlywplg', 'httpowlywla', 'httpowlyvouaw', 'httpowlytbbcqyzpo', 'httpowlykkm', 'httpowlygdnpd', 'httpowlygdgnt', 'httpowlygbxne', 'httpowlygbgjs', 'httpowlygarma', 'httpowlyeyil', 'httpowlyeqpn', 'httpowlybd', 'httpowlligczjf', 'httpontheatlntcikiiva', 'httponno', 'httponceso', 'httpoddfuturetumblrcompostbeen', 'httpnytimsoapndu', 'httpntonocc', 'httpnoiorgwebcast', 'httpnewsgooglecomnewsurlsatampfdrampctukampusgafqjcnfuoewlwjstnojyowrqhxhohwwampclidcadbbaebcfbampcidampeigpwucncxwggegweampurlhttpwwwnmecomnewsmiley', 'httpnewsgooglecomnewsurlsatampfdrampctukampusgafqjcnezdpikafijuubjjfvethsulwgampclidcadbbaebcfbampcidampeittwucsimwngaesmaampurlhttpwwwgigwisecomnewsmiley', 'httpnecolebitchiemobifymekim', 'httpncmrgxwhj', 'httpnakeddccommark', 'httpmylocmeqsrsn', 'httpmtmimezxvh', 'httpmtmimezrbg', 'httpmtmimezkw', 'httpmtmimewqxxk', 'httpmtmimeueub', 'httpmtmimekyf', 'httpmtmimedydwp', 'httpmsmepfcpao', 'httpmsmeogazd', 'httpmsmemscyl', 'httpmigremejjg', 'httpmetronewscanewstorontodean', 'httpmeltbgta', 'httpmanboobzcomdeprived', 'httplniswwwoutcompopnogramtt', 'httplniswwwbreitbartcombiyzzt', 'httplivenwswsmbjw', 'httpliveforlivemusiccomnewsmiley', 'httplifeofagotcom', 'httplatmsphekdo', 'httplaskfmigotodkecnvddaupyiqorcndjjaqpdgxdslnznuyyzmegmrrukyeqjjquhdbyevmvonslpbruuarbeycdwgpbmtgohpzspfwdscsmubqctthdfmilwlaesnvxghnyukytfglydtqoppypsfzzwhxmnpkjxtqivy', 'httpkoreaboocomstoriesmamamoo', 'httpjmpcbqxzp', 'httpjmpagemes', 'httpitso', 'httpisolationworld', 'httpisgdphi', 'httpisgddrhr', 'httpiphotob', 'httpinstagrampsquscnjojl', 'httpinstagrampreexfjirmo', 'httpinstagrampjfia', 'httpinstagramcompvkojkenhjv', 'httpinstagramcompugdduptam', 'httpinstagramcompnbzuwd', 'httpinstagramcompkmliytwm', 'httpinstagramcompfwummioadg', 'httpinstagramcompenrfwkdn', 'httpinstagramcompelxgsyedy', 'httpinstagramcompbbqfughbh', 'httpimgs', 'httpiimgurcomtmhmjpng', 'httpiftttuvcgc', 'httpiftttutl', 'httpiftttsmxpen', 'httpiftttslqvv', 'httpiftttskdyz', 'httpiftttsjxvit', 'httpiftttsjqee', 'httpiftttshcffl', 'httpiftttrnpgc', 'httpiftttrhgqpx', 'httpiftttrgxmpjoke', 'httpiftttrfwqed', 'httpiftttrfqcsm', 'httpiftttqyhgbl', 'httpiftttqxwqn', 'httpiftttpbfww', 'httpiftttoikbp', 'httpiftttnyoqf', 'httpiftttnguyxi', 'httpiftttnefyc', 'httpiftttncdxlp', 'httpiftttmngnih', 'httpiftttmjrqma', 'httpiftttmgcus', 'httpiftttmborl', 'httpiftttlngqhvjoke', 'httpiftttljjlf', 'httpiftttljfbfjoke', 'httpiftttlclsf', 'httpiftttlbonsg', 'httpiftttlavtlv', 'httpiftttlajfz', 'httpiftttlaczqj', 'httpiftttjxfav', 'httpiftttjsyjtu', 'httpiftttjrkpl', 'httpiftttjpz', 'httpiftttjpjhqq', 'httpiftttjlzcvl', 'httpiftttjluqd', 'httpiftttjlmdk', 'httpiftttjatqxx', 'httpiftttiieup', 'httpiftttguiup', 'httpiftttgeplyx', 'httpiftttgdznjm', 'httpiftttgdsxxe', 'httpiftttgaq', 'httpiemojicomtwgxwim', 'httphujazerogmobirgphpfaampucknntampv', 'httphufftopbrc', 'httphtlyzsr', 'httphtlyxeopr', 'httphtlyxeoot', 'httphtlyxdak', 'httphtlygd', 'httphtlyev', 'httphinduin', 'httphereisthecitycomen', 'httpgttk', 'httpgooglfbckweg', 'httpgoddontlike', 'httpglobopdhlh', 'httpforumnyccomtopic', 'httpfeedzillaplbjuf', 'httpfeedproxygooglecomreverydayfeminismugdhsva', 'httpfeedproxygooglecomrbreitbartttamgreljg', 'httpfbmexguvavm', 'httpfbmexdjtol', 'httpfbmeuvafrv', 'httpfbmetpuonhyx', 'httpfbmestdupbee', 'httpfbmerxmujet', 'httpfbmerowjgy', 'httpfbmepzqhee', 'httpfbmepqnsoyp', 'httpfbmenlroob', 'httpfbmekqexnnhj', 'httpfbmejzpboim', 'httpfbmejqpaip', 'httpfbmeiuze', 'httpfbmehvymezyr', 'httpfbmehgbaaud', 'httpfbmehdxgijq', 'httpfbmehbfxcp', 'httpfbmeflvamcb', 'httpfbmeflftta', 'httpfbmefjrwiri', 'httpfbmeekubi', 'httpfbmeccfqlsg', 'httpfbmebfzdwc', 'httpfbmeasimgw', 'httpfbmeartejc', 'httpfbmeaboz', 'httpdoyou', 'httpdlvrithrwqf', 'httpdlvritfrm', 'httpdlvritfhts', 'httpdlvritfdyrq', 'httpdlvritfdygz', 'httpdlvritfdybq', 'httpdlvritfdqm', 'httpdlvritdyvm', 'httpdlvritdypbj', 'httpdlvritdydgd', 'httpdlvritbnwz', 'httpdldbzcawgf', 'httpdldbzabaej', 'httpdigitaleditionstelegraphcoukdatareaderreaderhtmlsocial', 'httpdemocracyno', 'httpdecklyungf', 'httpdeadspincomtake', 'httpdaughternumberthreeblogspotcomthe', 'httpdailymaiandroid', 'httpcyg', 'httpcspnaajeb', 'httpcnnmexicocommexicoopina', 'httpcnmnewzcomwatch', 'httpclearit', 'httpchngitxvbxycpn', 'httpchngitxpyjr', 'httpchngitvcrnvyq', 'httpchngittgthmy', 'httpchngitsmwnhdh', 'httpchngitrytrpgz', 'httpchngitrrnyhwtn', 'httpchngitrdhjqbng', 'httpchngitqnwrglhc', 'httpchngitkyfnczrt', 'httpchngitkdzksnh', 'httpchngitfwntmkfz', 'httpchngitbcpgjfs', 'httpchildrensex', 'httpcheezburgercomblake', 'httpchattercomaena', 'httpbufflysslvjl', 'httpbufflykrlerw', 'httpblogtimesunioncomlocalartsreview', 'httpbitlyzbx', 'httpbitlyxskw', 'httpbitlywxpdz', 'httpbitlywsabookstore', 'httpbitlywflc', 'httpbitlyvcsyz', 'httpbitlyugixc', 'httpbitlytedg', 'httpbitlysimxut', 'httpbitlyrxg', 'httpbitlyrorv', 'httpbitlyrhzfk', 'httpbitlyretq', 'httpbitlyqwpci', 'httpbitlyquvhwd', 'httpbitlyqreqg', 'httpbitlyqfusb', 'httpbitlyqdhyv', 'httpbitlyqarzk', 'httpbitlypvme', 'httpbitlypozuvv', 'httpbitlyphwyqg', 'httpbitlyova', 'httpbitlyooihk', 'httpbitlyoeufg', 'httpbitlyoadtv', 'httpbitlynulpea', 'httpbitlyntghhq', 'httpbitlynsykv', 'httpbitlynkevg', 'httpbitlynctrgd', 'httpbitlymycxn', 'httpbitlymwdgg', 'httpbitlymrzlv', 'httpbitlymntb', 'httpbitlymfyikk', 'httpbitlymfjb', 'httpbitlylqgy', 'httpbitlyldfssg', 'httpbitlyldfhoe', 'httpbitlykznit', 'httpbitlykpwd', 'httpbitlykeym', 'httpbitlyjtwqtr', 'httpbitlyiinrdc', 'httpbitlyiimcim', 'httpbitlyhrdpf', 'httpbitlygnsyd', 'httpbitlyfxqha', 'httpbitlyfcmrjm', 'httpbitlyegkpg', 'httpbitlydvov', 'httpbitlydqxgfe', 'httpbitlycjuiu', 'httpbitlyaatib', 'httpbewakoofcom', 'httpbadas', 'httpauibtimescomarticlesnancy', 'httpauibtimescomarticlesgay', 'httpaskfmaqihpd', 'httpaskfmapq', 'httpaskfmapaqn', 'httpaskfmaoqqefj', 'httpaskfmaomol', 'httpaskfmaolmg', 'httpaskfmaogepp', 'httpaskfmanhlb', 'httpaskfmanea', 'httpaskfmampfjmn', 'httpaskfmammbdfe', 'httpaskfmamjed', 'httpaskfmamikl', 'httpaskfmamcikj', 'httpaskfmamaje', 'httpaskfmalfgdq', 'httpaskfmakoch', 'httpaskfmakhgf', 'httpaskfmajmgc', 'httpaskfmaikd', 'httpaskfmaibe', 'httpaskfmahicp', 'httpaskfmahdla', 'httpaskfmahcn', 'httpaskfmagigjc', 'httpaskfmage', 'httpaskfmaelbjagf', 'httpaskfmaehik', 'httpaskfmaehbbf', 'httpaskfmadkbn', 'httpaskfmadhccb', 'httpaskfmadhbi', 'httpaskfmaddbb', 'httpaskfmacq', 'httpaskfmabefqa', 'httpaskfmaabo', 'httpaskfm', 'httpagogoogle', 'httpafricaworldnewsngus', 'httpaddlcucckff', 'httpabccom', 'httpabcchicagocom', 'voiceofvegetas', 'hts', 'htmlutmsourcearticleamputmmediumtweet', 'voiceover', 'htem', 'hsujunhao', 'hsuahushauihsuaihsuahui', 'hsuahsuah', 'hsts', 'hsm', 'hshdhshsha', 'hse', 'hsaymssik', 'hsauhauauhsuahusa', 'voite', 'hrzebari', 'hrz', 'hrw', 'hrsmonth', 'voitin', 'hrnewsworld', 'hrm', 'hrheyd', 'hraja', 'hpy', 'hppy', 'hpg', 'hp', 'hoye', 'howxg', 'howwrestling', 'howve', 'howtospotafeminist', 'howto', 'howthehelldidtheygetonthisshow', 'volatile', 'howmariefeels', 'howlintwolf', 'howleriq', 'howiwork', 'howdoyouevenselfie', 'howbigbossman', 'houthis', 'houthi', 'houstonhall', 'volkerbeck', 'houseruleson', 'houserules', 'househeadiam', 'houseforeigngop', 'houseforeign', 'housedemocrâ', 'houseaggop', 'houseadmngop', 'hoursi', 'volt', 'hourly', 'voltron', 'houmayor', 'hotyoure', 'hottakegamer', 'hotspurworld', 'hotshiiiii', 'hotpocky', 'hotmama', 'hotkobe', 'hotheadscomau', 'hotep', 'volumes', 'hotcarl', 'hotboxwes', 'hotboxing', 'hotbed', 'volumesband', 'hosty', 'hostility', 'hostesses', 'hosted', 'hostage', 'volumevitriol', 'hossein', 'hospitality', 'hoskinsty', 'hoshiyar', 'hoses', 'hoseinmortada', 'hose', 'hos', 'timevxs', 'durrie', 'coumo', 'aaaaa', 'aaaaaaaaaaaaaaaaaaaaaah', 'aaaaaaaaaah', 'aaaaaaaaaajajajajajajajahahahajahaja', 'aaaaargh', 'aaaag', 'aaaah', 'aaand', 'aaannndd', 'aaarait', 'aabhas', 'aadhar', 'aajaatay', 'aajakia', 'aak', 'aaka', 'aalaameenmercy', 'aalawofficial', 'aalsi', 'ᵗʳⁱᵍᵍᵉʳ', 'aampe', 'aampf', 'aapchutiyehain', 'aaradhna', 'aardvarkwizard', 'aaron', 'aaronandaaron', 'aaronhernandez', 'aaronlescott', 'aaronobviously', 'aaronstein', 'aas', 'aatifakhan', 'aatishtaseer', 'aaya', 'aayi', 'ᵗʳᵃⁱˡ', 'abadonaew', 'abaixo', 'aban', 'abandona', 'abandoning', 'abaut', 'abbie', 'abbsbohrer', 'abbu', 'abbuse', 'abbykguilfoil', 'abbymartin', 'abbythegroovy', 'abbé', 'ᵗʰᵉᵐ', 'abcbreaking', 'abcdefg', 'abcpolitics', 'abcthey', 'abd', 'abdi', 'abdirahmancali', 'abdoshbag', 'abducted', 'abducting', 'abduction', 'ᵗʰᵉʸ', 'abdula', 'abdullah', 'abdullahi', 'abdullas', 'abdulrazaq', 'abed', 'abedhalawi', 'abee', 'abeee', 'abeeeeggiiiiii', 'abhe', 'abhi', 'abhijitmajumder', 'abhor', 'abhors', 'abialbaraashami', 'abide', 'abillty', 'abiw', 'abject', 'ablazing', 'ᵗʰʳᵒʷ', 'ableg', 'ableism', 'ablerunoffice', 'ablest', 'ablondpanda', 'abnormal', 'abnormally', 'aboard', 'abolishing', 'abolishment', 'abolishmuslimpersonallawboard', 'abolishteachersunions', 'abolition', 'abolitionism', 'abominable', 'abominations', 'aboot', 'aborigines', 'aborting', 'ᵖᵘˡˡ', 'abortionrapesuicideself', 'ᵖᵒⁱⁿᵗ', 'aborts', 'abos', 'abot', 'abotu', 'abou', 'aboualizarif', 'abound', 'aboutislamic', 'aboutoh', 'aboutprotecting', 'aboutsaying', 'aboutta', 'aboutthatlife', 'abra', 'abram', 'abrams', 'abrasive', 'abrirem', 'abrogated', 'abrogstion', 'abruptly', 'absent', 'absinthe', 'absolut', 'ᵒᶠ', 'ᵉᵛᵉⁿᵗᵘᵃˡˡʸ', 'absolution', 'absolved', 'absorbing', 'abstain', 'abstained', 'abstaining', 'abstinent', 'abstract', 'ᵇᵉ', 'absurdism', 'absurdist', 'absurdo', 'เจอมาใน', 'abualbaraasham', 'abualiis', 'abubakar', 'abumusabalturki', 'สพ', 'abundance', 'abundant', 'aburumaisa', 'abusaalihah', 'รว', 'abusebulliedcalled', 'abusecommunity', 'มเป', 'abusedbullied', 'abusedharassed', 'abusedmurdered', 'abusedonce', 'abusemarriagerape', 'นไรมากปะ', 'abusesexual', 'abusetrauma', 'คร', 'กแสดงต', 'abutalal', 'abuwitness', 'abv', 'กเจ', 'acab', 'acabada', 'acaban', 'acacia', 'academia', 'समय', 'acai', 'acb', 'लव', 'accas', 'accdmidently', 'acceded', 'accelerate', 'बरद', 'बर', 'acceptability', 'बज', 'acceptableits', 'नब', 'नट', 'तरम', 'accessbankhelp', 'accessible', 'accession', 'accessorizing', 'acche', 'जय', 'गय', 'accommodate', 'accommodations', 'accompanies', 'accompanying', 'accomplice', 'accomplishes', 'accomplishing', 'करन', 'accorhotels', 'accoring', 'accost', 'कन', 'उपय', 'अब', 'accountant', 'accountjust', 'چاہے', 'accredited', 'accross', 'واقتلوهم', 'acctswork', 'accumulated', 'accuracy', 'مدينة', 'محمد', 'accusationsfacts', 'accusatory', 'على', 'عقولهم', 'عبر', 'aceitar', 'aceito', 'acekia', 'acemuney', 'aceofspadeshq', 'aceoss', 'acer', 'acertei', 'aces', 'acestayicy', 'acha', 'ache', 'acheaving', 'aches', 'achi', 'شرم', 'achievers', 'achieves', 'achieving', 'achool', 'achuykrenzy', 'acidprincess', 'ack', 'ackles', 'زحلق', 'acknowledgements', 'aclobby', 'زايد', 'acnh', 'acompanhar', 'acomplejao', 'acontece', 'acording', 'acorns', 'acoso', 'acosta', 'acostumbrado', 'acquiesce', 'acromartie', 'بن', 'المدثر', 'أشفق', 'actinganeejit', 'آپکو', 'actionflickdoc', 'آنی', 'actionsthinkingamp', 'activate', 'activated', 'ўΰ', 'щºдºщ', 'σοφίαgreek', 'ˡˡ', 'ʸᵒᵘʳˢ', 'activitys', 'acton', 'ʸᵒᵘʳ', 'actoractress', 'ƒσr', 'śooooooooooooooooooooooooooooooooooooooooooooooooooooooooooooooooooooooooooooooooooooooo', 'único', 'actualization', 'actualluy', 'ídolo', 'acurrentaffair', 'acused', 'acuwable', 'acyber', 'ì½', 'adaa', 'adachuu', 'adalah', 'ì²', 'adamandcarol', 'adamdicarlo', 'adamdriverisoverparty', 'adamholisky', 'adamhorowitzla', 'adamjdt', 'adamknight', 'adamseeley', 'adamsj', 'adamsmasher', 'adamsmithusa', 'adamsteinbaugh', 'adapted', 'adapting', 'adarshliberal', 'adays', 'ìs', 'ése', 'él', 'addictions', 'addicts', 'ée', 'addisonvillarre', 'additionally', 'addon', 'çoklu', 'addresspay', 'addthis', 'addy', 'addyell', 'addyourlink', 'adeeth', 'adegg', 'adelaidemale', 'adele', 'ademich', 'adequate', 'adequately', 'ades', 'adetayo', 'adf', 'adgpi', 'adherents', 'adil', 'adityanath', 'adivasi', 'adivcei', 'adivinha', 'adjoin', 'adjusts', 'adkins', 'adkinsalexandre', 'adlalita', 'adlfringe', 'adlib', 'â½ã', 'administered', 'administering', 'âºã', 'administrations', 'admiral', 'admired', 'admirer', 'admiring', 'âª', 'águas', 'ànd', 'adnan', 'adnanbahatti', 'adobe', 'adobsonartworks', 'adofuro', 'adolescente', 'adolescentes', 'adolescents', 'adolf', '¾not', '¾i', 'adorezoey', 'adotsansyy', 'adoug', 'adrian', 'adrianmulholla', 'adrianoventura', 'adrianr', 'adriarichards', 'adriruizencina', '½ð', 'adtr', 'adudh', 'adulteres', 'adultering', 'adulterycanon', 'adulthood', '½of', 'adultswim', 'adv', '¼ð', 'advancing', '¼ï', 'adventure', 'adventurer', 'adventurous', 'adversary', 'adversarys', 'adverse', 'adversity', 'advertisement', 'advertisers', 'adverts', 'advised', 'advisers', 'advising', 'advisory', '¼êµ', 'advocated', '¹ï', '³ð', 'adyoho', 'aeliasen', 'aelijah', 'aequate', 'aeroplane', 'aesthetics', 'aetnas', 'aevitaslux', 'aewrestling', 'afa', 'afab', 'afaik', 'afarwen', 'afazenda', 'aff', 'ªð', 'affections', 'zzzzz', 'affectsnatch', 'affence', 'affers', 'affiliated', 'affirmations', 'affirming', 'affirms', 'affluence', 'zzzz', 'affordable', 'afforded', 'affording', 'afghanistanplease', 'afghanistans', 'afghanistantheir', 'afghans', 'afghst', 'afi', 'afiches', 'afk', 'aflawedking', 'afleveringen', 'afloat', 'afonja', 'zyeth', 'africaamerican', 'africaand', 'zydrizz', 'africanaboss', 'africanamericans', 'zyampii', 'africasmh', 'africatechie', 'afrikaans', 'afshannoor', 'afsoos', 'afterburners', 'afterdecember', 'afterhope', 'afterlife', 'afterwecollidedmovie', 'aftr', 'aftrebecca', 'afucktoy', 'afull', 'afzal', 'agai', 'againampit', 'againand', 'againi', 'againthey', 'againts', 'againð', 'agaisnt', 'agaknya', 'agay', 'agaye', 'agbessitomisin', 'zuzeabelle', 'agebrazz', 'ageism', 'agencia', 'zuppa', 'agendadivided', 'agentofchange', 'agentpatriarch', 'agentsaffron', 'zumbi', 'agg', 'aggravated', 'zulfiqar', 'zuko', 'aggrevates', 'aggy', 'aghamemnun', 'aghhh', 'agianst', 'agin', 'aginst', 'agitation', 'agitators', 'aglow', 'agnes', 'agnew', 'agni', 'agnosticism', 'agnotology', 'zuckerberg', 'agobut', 'agoi', 'agolt', 'agonow', 'agoodhusband', 'zucchini', 'agorista', 'agostarted', 'agqueue', 'agradehang', 'agred', 'agredida', 'ztddupuis', 'agreeable', 'zt', 'zs', 'agreewhole', 'agresor', 'agressive', 'agressively', 'aguantar', 'aguantara', 'aguilera', 'aguynamednick', 'aguyuno', 'agwilliambarr', 'agâ', 'zrpzofkepscdyzueljgzgwdahpxydal', 'ahaa', 'ahah', 'zram', 'ahahaahaha', 'ahahah', 'ahahahaha', 'ahahahahah', 'ahahahahahah', 'ahahahahahahahaha', 'ahahahahahahahahah', 'ahall', 'ahalol', 'ahbigmak', 'zoutliquorice', 'ahed', 'zouden', 'ahha', 'ahhaahahhahaha', 'ahhahahahhaha', 'ahhhaaahunnie', 'ahhhhhgkjhfdeathtoamericasomebodygottadiebitch', 'ahhhhhh', 'ahinsa', 'ahit', 'ahm', 'ahmadkamil', 'ahmediya', 'ahmedsnoory', 'ahmesehwetnessltlmao', 'ahmetbaris', 'ahoe', 'ahold', 'ahoms', 'ahora', 'ahout', 'ahptik', 'ahsjjff', 'ahtweet', 'ahya', 'aib', 'aided', 'aidenobrien', 'aidenzhane', 'aidhiv', 'zoos', 'aidsbeing', 'aidsrape', 'aidsraperacegaydisabled', 'aidungeon', 'aifam', 'zooming', 'aiianes', 'aikido', 'zoomers', 'zoomer', 'aimfta', 'aimim', 'aimimfansclub', 'aimimnational', 'aimimonly', 'aimpeace', 'aimplb', 'aimplbofficial', 'aims', 'zoobear', 'ainna', 'ainsworth', 'aintdatwaytwice', 'ainteeentrippin', 'aintnobodygottimeforthat', 'aiovesong', 'aipac', 'zong', 'airbnb', 'airhead', 'airmen', 'airon', 'airplanehtml', 'airpower', 'airsick', 'airtelindia', 'airways', 'airy', 'aisa', 'aisazia', 'aishas', 'aishasekhmet', 'aishia', 'ait', 'aita', 'aiudf', 'aiueiauiea', 'aiyonaaa', 'ajajaja', 'ajarenaye', 'ajate', 'ajay', 'ajc', 'ajchip', 'ajdarcy', 'ajddjksfbskdbd', 'aje', 'aji', 'ajie', 'ajiehatadji', 'ajimran', 'ajit', 'ajitdevel', 'ajjsgdhs', 'ajm', 'ajnabis', 'ajosse', 'ajplus', 'ajs', 'akal', 'akasap', 'akaworldwide', 'zoned', 'akbaris', 'akbarthey', 'akdldkakakkd', 'akdoug', 'aked', 'akelsaruman', 'akh', 'akhand', 'akhandbharat', 'akhca', 'akhdaral', 'akheemv', 'akhfuaadh', 'akhir', 'aki', 'akidaffendi', 'akira', 'akjskjaks', 'akjv', 'aknowledge', 'akon', 'aksed', 'akshardham', 'aksuna', 'akzx', 'alabamians', 'alah', 'alana', 'alanafraiz', 'alanamassey', 'alannrembosdds', 'alanwickham', 'alanwphotos', 'alanya', 'alaoui', 'alarmed', 'alarms', 'alawite', 'alayah', 'albadrmujahideen', 'albaghdadi', 'albeism', 'albertaucp', 'albions', 'zomg', 'albus', 'alcança', 'alcoholism', 'aldaglevi', 'aldubksgoestous', 'ale', 'alec', 'alecmachet', 'aleheumann', 'alejandraxabn', 'alena', 'alerta', 'alertsis', 'aleveria', 'alevi', 'alexabads', 'alexadamo', 'alexadventure', 'alexaim', 'alexalexburton', 'zombiecatmeow', 'alexandersnow', 'alexandra', 'alexaury', 'alexbecerraaa', 'alexdelasalle', 'alexdramaaklilu', 'alexhahn', 'alexisjordan', 'alexissnicolee', 'alexithymia', 'alexjohanson', 'alexleigh', 'zombie', 'alexlinder', 'alexnew', 'alexstubb', 'alexwithanex', 'alexxxstinnett', 'aleyna', 'aleynablondo', 'alfananaboe', 'alfredo', 'algarich', 'algeria', 'algerian', 'algerianwitness', 'alghurair', 'algiers', 'algo', 'algohar', 'alguien', 'algumas', 'algunos', 'alhamdulillah', 'alhumduallah', 'zoey', 'alia', 'alialyami', 'alianus', 'aliaquinta', 'alibi', 'alibis', 'alicejonessx', 'aliceskids', 'alicesprings', 'alicewillhelp', 'aliciabernardez', 'alicialunaxo', 'alieastwest', 'alienates', 'alienating', 'aliendeallstar', 'alienlizard', 'aliffabr', 'aligarh', 'aligning', 'alihashemtv', 'zoenitanna', 'alikeskintr', 'alimhaider', 'alimin', 'alimony', 'alinalovesyouu', 'alinedel', 'alisha', 'alisohrab', 'alisonpower', 'alissa', 'alistairpdbain', 'alisyaridha', 'alittlecrzy', 'zoellasmiles', 'alixtrachtman', 'aljazeeraall', 'alkie', 'alkilled', 'allaah', 'zoeharris', 'allahand', 'allahi', 'allahif', 'allahyhwh', 'allama', 'allanlopez', 'allanschumacher', 'allat', 'allav', 'allbsforballer', 'allcapsmovie', 'alle', 'zoegclifford', 'allegationsi', 'allegorical', 'allentheshift', 'allenwest', 'allergies', 'alley', 'allha', 'allhailcaesar', 'alliances', 'allierileyjones', 'zoebeastt', 'alligators', 'alljessiejorkut', 'alllightskin', 'alllivesmattter', 'allll', 'alllll', 'allllmost', 'allo', 'allocated', 'alloocharas', 'allot', 'allotment', 'allowances', 'zoar', 'zneoni', 'zmgitshutch', 'allrace', 'alls', 'allstarsmandoo', 'allthe', 'allthese', 'alltime', 'alltimelow', 'allude', 'alludes', 'allures', 'alluring', 'allweknowisamy', 'allwhat', 'allwomenshouldfeelsafe', 'zmartinx', 'allyes', 'allyleiba', 'allypickless', 'almorzaron', 'almostheaven', 'almuqaddas', 'alnassarkw', 'alnitak', 'alooot', 'alopecia', 'zkotek', 'alota', 'alovelykink', 'alphaomegasin', 'alphatacha', 'alpoignorantass', 'zjuvenile', 'alqaedasame', 'alqaede', 'alquaedaquran', 'alquaida', 'alqueda', 'ziya', 'alshababthe', 'alshehmania', 'alsisiofficial', 'alsissi', 'alsoby', 'alsoobama', 'alstonmyles', 'zippy', 'altard', 'alteration', 'altercations', 'zipped', 'altnevative', 'altoona', 'altpress', 'alu', 'aluce', 'aluminum', 'alumna', 'alumno', 'alumnos', 'alunos', 'aluta', 'alvarossanti', 'alwa', 'alwaysklassydee', 'alwaysnkept', 'alwaysproud', 'alwayswrighthoe', 'alwineaaron', 'alycia', 'alyssaaa', 'alyssadaguise', 'alyxpleaden', 'amag', 'amala', 'amalgamated', 'amandadupont', 'amandapalmer', 'amantullah', 'amar', 'amargo', 'amarn', 'amarnath', 'amaryllis', 'amassment', 'amaz', 'amazingatheist', 'amazingmee', 'zionits', 'amazonin', 'ambani', 'ambercamacho', 'amberdawn', 'amberinzaman', 'ambervernea', 'ambmsteiner', 'amboy', 'ambrosefarmer', 'ambulancefiretruck', 'ameaçando', 'ameerauk', 'amei', 'ameiliaaa', 'amejam', 'ameliagree', 'amelialovesu', 'amem', 'amend', 'amendmentthe', 'ameobis', 'amercansno', 'zionistikas', 'americaanti', 'americadont', 'americagive', 'americam', 'americaness', 'zionhorst', 'americansall', 'americanshate', 'americansmh', 'americansniper', 'americanwhitehm', 'americascourt', 'americasgottalent', 'americathe', 'americon', 'amerikaans', 'ameriken', 'amesfp', 'amharas', 'amiable', 'amid', 'amidget', 'amiericksecker', 'amiga', 'amiguita', 'amiller', 'aminterest', 'amirashaa', 'amirfarokhy', 'amishdevgan', 'amit', 'zion', 'amizades', 'amk', 'amma', 'ammarafp', 'ammo', 'ammobeatz', 'amnesia', 'zings', 'amoka', 'amor', 'amorosa', 'amorous', 'amos', 'amoursheshe', 'zing', 'ampadmire', 'ampalestine', 'ampall', 'ampanti', 'ampbow', 'ampboys', 'ampcalled', 'ampcan', 'ampcant', 'ampclosest', 'ampcompletely', 'ampdemocrat', 'ampdoing', 'ampe', 'ampflirting', 'ampfreedom', 'ampgive', 'ampgod', 'amphe', 'ampignoranteverything', 'ampkashmiri', 'ampkill', 'ampmany', 'ampnd', 'ampor', 'amppictured', 'ampprobibly', 'ampracism', 'ampreceive', 'ampsaid', 'ampseek', 'ampshould', 'ampstill', 'ampsupport', 'amputation', 'amputmmediumsocialamputmsourceinstagramampfbclidiwarcgpzmhqberwagxqctorpcsvsitiamzehrshorysqpirljcezu', 'ampviet', 'ampwill', 'ampworldviews', 'ampyoure', 'amr', 'amra', 'amrakljajic', 'amreading', 'amricn', 'ams', 'amsatweet', 'amseelyeducator', 'amseif', 'amt', 'amulet', 'zina', 'amuslim', 'amv', 'amwilder', 'amworldtodaypm', 'amyadams', 'amyalkon', 'amyloukingery', 'amymunce', 'amynfgx', 'amyordman', 'amyschumer', 'amyshaped', 'amzf', 'américa', 'anadumitrescu', 'anaicess', 'zimmermantrial', 'anally', 'analogous', 'analuciapinh', 'analyse', 'analytical', 'analyzers', 'anamardoll', 'anamists', 'ananavarro', 'anand', 'anannoyingtweep', 'anaphylactic', 'anarchys', 'anastasios', 'anath', 'anbaari', 'anc', 'ancesters', 'ancestor', 'anchorman', 'anchors', 'zimbabwe', 'ancientctrl', 'ancyl', 'andaban', 'andalusia', 'andclearly', 'anddd', 'andersonydg', 'andhakar', 'andhe', 'andhertz', 'andisaputro', 'andpeople', 'andrastes', 'ziltch', 'andrea', 'andreagcav', 'andreajanelle', 'andreasrossi', 'andredrown', 'andreget', 'andrespava', 'andreur', 'andrewbesford', 'andrewbleh', 'andrewbossvoss', 'andrewm', 'andrewmnorton', 'andrewpeters', 'andrewrod', 'andrewsherriff', 'andrewvaleri', 'andrizzzzzzzle', 'androgynous', 'andrè', 'andré', 'andthensuddenly', 'andyjonas', 'andykhouri', 'andyrewbooth', 'andâ', 'anecdotal', 'anecdote', 'anecdotes', 'anem', 'aneucere', 'anfal', 'angelalynn', 'angelasimmons', 'angelbabylola', 'angelemichelle', 'angelicalazoss', 'angelicpsalms', 'angelina', 'angelinajolie', 'angelisam', 'angered', 'angg', 'anggarasuwahju', 'angie', 'angiemarie', 'angiesandla', 'angiibangie', 'angiievtfb', 'angkatan', 'anglekaitlyn', 'angles', 'anglican', 'anglicization', 'anglocentric', 'zillion', 'angryangelsfan', 'angryaussie', 'angryman', 'angryregard', 'angrysad', 'angrytweet', 'anifanifay', 'aniijuarez', 'anikahle', 'anikaroseaus', 'zika', 'animalscowardsidiotsnonsense', 'animalwatch', 'animation', 'animators', 'animação', 'zidanomajid', 'animes', 'animism', 'aniston', 'zibalady', 'anitazoebrimyself', 'anitwit', 'zhorahs', 'anjir', 'anka', 'ankit', 'anklecalf', 'anmo', 'zhombe', 'annabellespeaks', 'annajohnston', 'annaluizafss', 'annannnnnnnn', 'anncoulter', 'annegrethe', 'annestarling', 'annetheriault', 'annexed', 'annhihilate', 'zhiyong', 'anniefdxxx', 'annihilate', 'anniversarymy', 'annjj', 'annknwledge', 'annnnie', 'anno', 'zfs', 'announcementsaid', 'zforinger', 'annoybullyharass', 'annoyi', 'annoyin', 'zezitom', 'annoyinglihan', 'annoyinglose', 'annoyingpubic', 'annual', 'anoda', 'anonintelgroup', 'anonoperations', 'anonymity', 'anonymousliberi', 'anonymouswave', 'anorak', 'anorexia', 'anorexicshe', 'anotherfallow', 'anotherrebel', 'anothers', 'anout', 'anoutlawlife', 'anow', 'ansar', 'ansarilashi', 'ansarulshareeah', 'zeyami', 'zester', 'zes', 'antacids', 'antagonist', 'antagonize', 'antagonizes', 'antarkampung', 'antenna', 'antes', 'anth', 'anthfieg', 'zerodom', 'anthonybiasetti', 'anthonybriggs', 'anthonydepetres', 'anthonysammarco', 'anthonytburro', 'anthonythe', 'anthropologist', 'zerar', 'antiblackness', 'antiblackpeople', 'zeppo', 'antichristamerican', 'antichristand', 'antichristare', 'antichristarent', 'anticipate', 'zene', 'antifablm', 'antifacist', 'antifascist', 'antifascisttt', 'antifeminism', 'antifi', 'antihinducongress', 'antihindufacebook', 'antihinduncp', 'antiierii', 'antimuslim', 'antinatal', 'antinational', 'antinationals', 'antiquated', 'antique', 'antiquusxy', 'antis', 'antisemetic', 'antisemite', 'zendayaagency', 'antisemtisim', 'antisjwampfeminazi', 'antiskta', 'antisocial', 'antisocialmajor', 'antisoylent', 'antissemitism', 'antiterrorcurriculum', 'antoine', 'antoineleblond', 'antonia', 'antoniodelotero', 'antoniofrench', 'antonioguterres', 'antonios', 'antonm', 'antrooney', 'ants', 'antv', 'anubhavsinha', 'anupampkher', 'anurodh', 'anut', 'anuzy', 'anvil', 'anwarprince', 'anway', 'anxieties', 'zemichi', 'anxietystress', 'zelwigger', 'anyi', 'zelretro', 'anymoregt', 'anyon', 'anyother', 'anytechnology', 'anythingfuck', 'anythinghatecandolovecandobetter', 'anythingwhat', 'zelensky', 'anytimeolaaa', 'anyw', 'anywaaaaaays', 'anywaynot', 'zeke', 'anywaysjust', 'anywayso', 'anywaysz', 'anywheremust', 'aocs', 'aohampreferrerhttpsaffwwwgooglecomampamptffromsampampsharehttpsaffwwwdailymailcoukfnewsfarticle', 'aok', 'aonde', 'apaa', 'apaaa', 'apache', 'apagar', 'apalagi', 'apanha', 'aparently', 'zehad', 'apartir', 'zeewarriors', 'apathy', 'apatow', 'apc', 'apdoesit', 'apefrica', 'apefrika', 'apeshit', 'apetito', 'apex', 'apexys', 'apfergus', 'apicazo', 'apis', 'apko', 'aplenty', 'apna', 'apocalypseobama', 'apocalyptic', 'apocryphal', 'apoderados', 'apolitical', 'apolocalypses', 'apologed', 'apologied', 'zeenewssealkaro', 'zeenewshindi', 'apologising', 'apologism', 'apologistoverall', 'apologistpotential', 'apologistsexistracist', 'zeebie', 'apologizedturns', 'apoloigze', 'apon', 'apostasy', 'zeandre', 'apostle', 'apostolic', 'zealousaubreona', 'appallingly', 'zealots', 'zealotry', 'appartmentfucking', 'appealed', 'ze', 'appearancemaking', 'appeared', 'zaytunacollege', 'zaynmetro', 'appeased', 'appeaser', 'apperance', 'appetit', 'appl', 'applauded', 'applebees', 'applecheeksxo', 'appleciderpapi', 'applicable', 'applicant', 'zaykhalifaoz', 'appointees', 'appoints', 'appose', 'apposed', 'zayed', 'zawahari', 'zarqawi', 'apprehend', 'appriver', 'zarqanawaz', 'approaches', 'approachin', 'zarin', 'appropriated', 'approvals', 'zariavonmars', 'appstore', 'appt', 'aprende', 'aprendeu', 'apron', 'apropo', 'apropos', 'aprova', 'apst', 'apts', 'aqi', 'aqsa', 'aquaman', 'zargar', 'aquelas', 'aquele', 'aquilo', 'aqutbuddin', 'zardari', 'arabdizzle', 'arabelladelucc', 'arabelladelucco', 'arabfury', 'arabi', 'zarate', 'zarar', 'arabians', 'arabica', 'arabicth', 'arabicwhich', 'arabinowitz', 'arabised', 'arabnews', 'zappy', 'arakunrin', 'arbitrary', 'arbk', 'arcanalegacy', 'arcbloodnorcal', 'arch', 'archaeological', 'archangeldux', 'archbishop', 'archeology', 'archetypal', 'archie', 'arching', 'architects', 'archived', 'archivistgeek', 'archnerdian', 'archsuriel', 'arcs', 'arcticfox', 'ard', 'ardaisy', 'ardeleancgem', 'ardentadvocate', 'ardyn', 'zanu', 'areans', 'zankie', 'areefuhstanklin', 'areiam', 'arennie', 'arenotfunny', 'zandermercury', 'arepa', 'aretha', 'arethey', 'areyessss', 'areyou', 'areyoufuckinfkiddingme', 'areyoutoo', 'arfa', 'argentinian', 'argghh', 'arghhhhh', 'argmnt', 'zamnight', 'zamneaseupbitch', 'zamfarastate', 'argylegray', 'arh', 'arhives', 'arhourigan', 'aria', 'ariaakarico', 'ariadna', 'arian', 'arianas', 'arianaseashore', 'arianators', 'ariannyceleste', 'arias', 'arica', 'aricalamagna', 'arie', 'ariel', 'arielamigdal', 'ariellemimi', 'ariesspears', 'arif', 'arigmatica', 'arihaflores', 'arimelber', 'aritzia', 'arjakovsky', 'arjuna', 'ark', 'arkane', 'arkansas', 'arlen', 'arlene', 'arlenebc', 'arlethcantakeit', 'arlington', 'arlyne', 'arma', 'armageddon', 'armaj', 'armario', 'armchair', 'zaman', 'armiece', 'armin', 'armpits', 'armpitvaginas', 'zalel', 'armsso', 'zakula', 'zakisafar', 'armyso', 'arnajane', 'arngrim', 'arnold', 'aro', 'arose', 'arou', 'aroundsquare', 'arozenbachs', 'arrafs', 'arrangement', 'arrangements', 'arrestamishdevgan', 'arresttahirhussain', 'arrives', 'arrogancemtu', 'zakawaqar', 'ars', 'arsed', 'arsenalroni', 'arsenick', 'arses', 'arshadwarsi', 'arsonlooting', 'arsons', 'arsvampyre', 'zakat', 'artawk', 'zak', 'articleon', 'zajice', 'articulate', 'artifacts', 'artifexh', 'artificially', 'artillery', 'artinyehhaiye', 'artisanal', 'artistic', 'zaira', 'artistt', 'artph', 'zainiboy', 'artsakh', 'arty', 'artículo', 'aruaugust', 'arum', 'arungzeb', 'arusan', 'aryaavart', 'aryanqueen', 'aryans', 'aryas', 'asad', 'asadhashim', 'asaf', 'asajii', 'asam', 'zain', 'asapnavv', 'asapsteph', 'asavagenation', 'asbahi', 'asbarack', 'asbat', 'ascend', 'ascending', 'ascribe', 'asd', 'asda', 'zaidjilani', 'asexual', 'asff', 'asfuk', 'asgar', 'zaid', 'ashabusive', 'ashad', 'ashamani', 'zahoorgorsi', 'ashanthans', 'ashelia', 'asherbudd', 'ashforsyria', 'ashfurrow', 'ashhh', 'ashhv', 'ashia', 'ashias', 'ashkayv', 'ashkenazis', 'ashleybellamy', 'ashleyjudd', 'zaho', 'ashllyd', 'ashlynharris', 'ashokavankluyve', 'ashpash', 'ashs', 'ashtamimay', 'ashton', 'ashtonsos', 'ashwait', 'ashwilliams', 'asi', 'zahnster', 'asiabibi', 'asianbabes', 'asianbutts', 'asiandelight', 'asiangirls', 'asianidiots', 'asianjapanese', 'asianmuslim', 'zaganashikwe', 'asiatic', 'zaffarnama', 'asif', 'asiffshahzad', 'asign', 'asiik', 'asik', 'asimb', 'asimsbajwa', 'asinine', 'asiwajutinubu', 'zaenbassem', 'askafridi', 'askawhitefeminist', 'zaeef', 'askey', 'askhamas', 'zacksnydersjusticeleague', 'askinggooo', 'askjosh', 'askshikhar', 'asleap', 'asma', 'asmaani', 'asmayaqoob', 'aso', 'asoodalrafidain', 'asperger', 'aspergers', 'asphyxiate', 'aspirations', 'asra', 'zackford', 'zack', 'assadists', 'assads', 'assamese', 'assange', 'assassination', 'zachs', 'assaultbattery', 'zachk', 'assaulting', 'assaultingattackinghumiliating', 'assclown', 'assda', 'assemble', 'assembling', 'assertions', 'zachduffy', 'assespop', 'assesses', 'assface', 'asshats', 'asshe', 'zachbalzer', 'assignments', 'assigns', 'zac', 'assimilation', 'assimilationno', 'assistants', 'assisted', 'assisting', 'assistir', 'assists', 'asskickery', 'assless', 'assoc', 'zaboravio', 'associating', 'zabiullah', 'assrape', 'assright', 'asss', 'asssoros', 'assthat', 'zaabsethna', 'yyy', 'assumir', 'yyouu', 'assured', 'assuredly', 'asswipes', 'asswoopin', 'assyrians', 'assâ', 'astagfirullah', 'astagfurillah', 'asteroids', 'asthma', 'asthmatic', 'astolfo', 'astonished', 'astonishingly', 'astounded', 'astounds', 'astral', 'astro', 'astrology', 'astros', 'asucces', 'asureim', 'asvppiedrita', 'aswell', 'asylumseekers', 'asyrfmzlan', 'así', 'atahasnain', 'atb', 'atchatheking', 'atchley', 'yyou', 'atefehnaeemi', 'atention', 'atenção', 'atestado', 'athamjyeshtha', 'ywood', 'atheistranger', 'ywca', 'atheistsall', 'yw', 'athenatx', 'athens', 'athiest', 'athletics', 'athough', 'atia', 'atkgwfoo', 'atl', 'atla', 'atlantic', 'atlanticrecords', 'atlantis', 'atlas', 'yvss', 'atlest', 'atlgemini', 'atlus', 'atmospheric', 'atomic', 'atractive', 'yvonnenishiocru', 'att', 'attach', 'attackall', 'attackby', 'yuyunarutoballz', 'attackedu', 'attackers', 'attackersits', 'yuyan', 'yuuuummmm', 'attain', 'attained', 'yuuuu', 'attemptedactual', 'attendance', 'yusuf', 'yurustars', 'attentionwhore', 'attentionã', 'attest', 'attheroot', 'yurtle', 'attracting', 'attraction', 'attractivelook', 'attractiveness', 'attributing', 'atuh', 'atv', 'atyour', 'atâ', 'até', 'aubrey', 'auckland', 'audacious', 'audi', 'audible', 'yupppp', 'audioseal', 'audition', 'audreejo', 'audreyxo', 'audzwack', 'aufgepasst', 'aught', 'yupperz', 'augustus', 'aunq', 'aunthentic', 'auntshe', 'yupp', 'aura', 'aurrraaaa', 'ausencia', 'aushwitz', 'ausmedia', 'ausocial', 'yuore', 'auspolquesttime', 'aussieoriginal', 'aussies', 'aussoldiercooks', 'austere', 'austerity', 'austindrawbond', 'austinkeller', 'austinlong', 'austinlyons', 'austinmichals', 'austinnian', 'austinphilippi', 'austinraysmith', 'austism', 'austlaw', 'austracey', 'austrailian', 'yuoooo', 'austrian', 'austrians', 'ausvotes', 'yunhosprint', 'authored', 'authorised', 'yunhos', 'yungxsmba', 'authornim', 'yungtrezzy', 'yungthothunter', 'autistics', 'autoblock', 'autoblocker', 'autochthonous', 'autocracy', 'autocratic', 'automatic', 'yungironic', 'automaticzen', 'automobile', 'autonotifying', 'autoplayed', 'autopsy', 'autorizou', 'autotie', 'autoworid', 'autumn', 'autumnreinhardt', 'av', 'yungblackpinup', 'avani', 'avasail', 'avashin', 'avatarhina', 'avatars', 'avenida', 'yungbeyay', 'averageape', 'averagebloxer', 'averaged', 'averagemeninist', 'averagespursfan', 'averse', 'aversion', 'avfc', 'avfmnews', 'avgn', 'aviahvee', 'avigdor', 'avijitsinha', 'avimayer', 'aviname', 'avinashtharoor', 'avis', 'aviv', 'avocados', 'avocate', 'yuna', 'avoiders', 'avon', 'avonsuppports', 'avril', 'awa', 'awaam', 'awad', 'awae', 'awaits', 'awakes', 'yumeko', 'awared', 'yull', 'awas', 'yuk', 'awaycanon', 'awayno', 'awc', 'awells', 'awesmenathan', 'yujithe', 'awesomeadanxd', 'awesomefeeling', 'awesomeo', 'awesâ', 'yuhkill', 'awithmines', 'awkwardduck', 'awmillertime', 'awoods', 'awpromotions', 'awry', 'yudhi', 'awwr', 'yucky', 'awwwww', 'awwwwwwwww', 'awzayneatme', 'axas', 'axe', 'axed', 'axes', 'axis', 'aya', 'ayasofya', 'ayasofyaevery', 'ayatollah', 'aydanmccoy', 'yuchiro', 'ayee', 'ayeecaleb', 'ayeekkayla', 'ayeeyoogabby', 'ayein', 'ayejimenez', 'ayeokay', 'ayer', 'ayeverb', 'ayi', 'ayooleeeeish', 'aysharenna', 'aytanavazquez', 'ayva', 'ayyub', 'ayyyyyyyyyyyyyyyyyy', 'ayé', 'azaalshaikh', 'azalea', 'azealia', 'azeeezah', 'azerbaijan', 'azhammalek', 'azhi', 'azireog', 'azizamichelle', 'azliaerwina', 'azzadi', 'azzalobbies', 'aâ', 'aí', 'años', 'baaarrrbbeeeqquuueee', 'baadh', 'baap', 'bab', 'baba', 'babakristian', 'babbbbby', 'babble', 'yttwitchgrowth', 'babee', 'babeits', 'babelt', 'babesyou', 'babetrayal', 'babey', 'ytps', 'babiesgettin', 'babiesthe', 'babri', 'babu', 'babushka', 'babybitch', 'babyboydaprince', 'babyfear', 'babyfocus', 'babygirlmonica', 'babyish', 'babykinsbunbutt', 'babyphantastick', 'babyrape', 'babystephiee', 'babyteeth', 'babyyyy', 'bac', 'bacause', 'bacchon', 'bachane', 'bache', 'bachelorette', 'yshhtb', 'bachelors', 'bachi', 'bachiri', 'bacj', 'backawayfromthetable', 'backczech', 'backdo', 'backdoor', 'backdown', 'ys', 'backend', 'backfired', 'backflips', 'backgroundmiddle', 'backhanded', 'backhard', 'backi', 'backings', 'yrssimply', 'backpedalling', 'yrsshes', 'backside', 'backsies', 'backslash', 'backstabbed', 'backstabbing', 'backstage', 'backstories', 'backtheblue', 'backtrack', 'backups', 'backwardness', 'yrself', 'backxwash', 'backyard', 'backâ', 'yrnlouie', 'yrgreatestluv', 'bada', 'badall', 'badand', 'badare', 'badassthat', 'badboyrecords', 'badbut', 'badcall', 'badchoice', 'badchoices', 'badchoicesa', 'baddddd', 'badder', 'baddie', 'baddream', 'baddreammichael', 'baddtootheebone', 'badfeminist', 'badger', 'badically', 'badislamic', 'badlemonbone', 'yrdeshmukh', 'badlyexplainyourjob', 'badlyð', 'badmanmitel', 'badnaam', 'badnam', 'badnewscentral', 'badonlinedates', 'badponyracing', 'badproducer', 'badr', 'badrinathkidulhania', 'bads', 'badtaste', 'badthis', 'badtrip', 'badu', 'badð', 'baem', 'baffled', 'baffles', 'baffooon', 'bagdad', 'bagg', 'bagged', 'baggi', 'baghdad', 'bagheera', 'bah', 'baha', 'bahah', 'bahahahaha', 'bahahahahahahaha', 'bahamas', 'bahan', 'bahar', 'baharmustafa', 'bahhahah', 'bahudha', 'bahut', 'baidwangurpal', 'baiji', 'baileytaylr', 'bailonthechief', 'bailout', 'bain', 'baines', 'baio', 'bair', 'baised', 'baisis', 'baiters', 'yp', 'baitreach', 'baitthis', 'baixando', 'bajaj', 'bajanpora', 'bajillion', 'bajrang', 'bajrangbali', 'bajwa', 'bak', 'bakchodithose', 'bakedalaska', 'bakersfield', 'bakin', 'baking', 'bakit', 'bakra', 'bakralivesmatter', 'bakri', 'bakrid', 'bakugo', 'bakugou', 'bakwaas', 'bala', 'balada', 'balalaahmed', 'balanced', 'balao', 'balarabe', 'balchen', 'baldheaded', 'yoyomax', 'baldwins', 'bale', 'balidan', 'balik', 'balked', 'balkissocklodge', 'yov', 'ballbark', 'ballerina', 'balletboyz', 'ballforlife', 'balling', 'balllot', 'ballondor', 'balloons', 'balochis', 'balochistanisnotpakistan', 'balockayayayron', 'baloney', 'balor', 'balsam', 'balshaw', 'baluchistan', 'bama', 'bamacoachjanese', 'bambelly', 'bamboozled', 'bamfeo', 'bamon', 'bampot', 'banaana', 'banae', 'bananaqueeeeen', 'bananas', 'banata', 'banbury', 'youyou', 'bandartist', 'bande', 'banded', 'bandeja', 'bandh', 'banding', 'bandoe', 'bandskink', 'bandt', 'bandwidths', 'baner', 'bangal', 'bangali', 'bangalis', 'bangalore', 'bangamodiji', 'banger', 'banget', 'youwontvme', 'bangle', 'banhammor', 'banheaven', 'banish', 'youwe', 'banking', 'bankruptcy', 'bankrupted', 'banmen', 'youuuuuuuuuu', 'bannedbliving', 'youuuuuuu', 'banningtheburka', 'bannon', 'bannothing', 'banns', 'banpetaindia', 'banpink', 'banquran', 'banredicalislaminwholeworld', 'banshee', 'banta', 'bantams', 'banterror', 'banthem', 'banthemmm', 'banthemoms', 'bantrap', 'bantu', 'banyak', 'banzaka', 'bao', 'bapey', 'youuuuuu', 'baps', 'baptists', 'baqar', 'youuuuu', 'youuuu', 'baradar', 'baragay', 'barak', 'baralheia', 'baramulla', 'baran', 'barb', 'barbara', 'barbaranogueira', 'barbaravolkwyn', 'barbarian', 'youtubers', 'barbarie', 'barbequed', 'barber', 'barbi', 'youts', 'bardot', 'baree', 'barelvi', 'youthwould', 'bareng', 'bargaining', 'barge', 'barger', 'bargue', 'bari', 'barista', 'barker', 'barkha', 'barkley', 'barkway', 'barnes', 'barnet', 'barneysny', 'barns', 'barnsidekennelsjk', 'baro', 'barons', 'baroqueout', 'youthey', 'barrack', 'barracks', 'barrage', 'barrens', 'barrettwatson', 'barrhtml', 'barricading', 'barriecassidy', 'barriga', 'barring', 'barristas', 'barrock', 'barrow', 'barshmmmmm', 'barsnley', 'youthen', 'bartender', 'bartitos', 'barton', 'yousuck', 'yousofancy', 'basedanarchy', 'basedbananasama', 'basedmonitored', 'basedpirate', 'basedworld', 'basedxdom', 'baselessly', 'baseline', 'basements', 'basesgeneral', 'youso', 'bashers', 'youshame', 'bashings', 'bashlol', 'yousef', 'basicallyirunit', 'basicbitch', 'basichoesadore', 'yourthebest', 'baskekball', 'yourseâ', 'basketballispussyshit', 'basketballwives', 'bass', 'bassboy', 'bassemshow', 'bassett', 'bassists', 'bastad', 'yourselfthis', 'bastardised', 'bastardkeith', 'yourmale', 'bastardsob', 'basterdhe', 'basterds', 'bastion', 'basturdsfor', 'bata', 'batang', 'bataya', 'batch', 'bate', 'bathe', 'yourgirlhalle', 'bathroomsampwater', 'batons', 'batshit', 'batsonface', 'battering', 'yourfavwhiteguy', 'battled', 'battlefield', 'battlegrounds', 'battleofwho', 'batty', 'bauer', 'bawdy', 'bawsladi', 'bawumia', 'youreyour', 'bayand', 'bayar', 'bayesianupdater', 'baykara', 'bayonet', 'bayoubadboy', 'bayt', 'bayuprincess', 'bazaar', 'bazjayuu', 'bazmati', 'bbaekhui', 'bbborrreddd', 'bbbtmenw', 'yourewelcome', 'bbcbreaking', 'bbcbums', 'bbcpauladams', 'bbcsport', 'bbcsportsound', 'bbcturkce', 'bbcwoke', 'bbfrankie', 'bbhuttozardari', 'bbj', 'bbl', 'bbmwr', 'bbnaijia', 'youreatwat', 'bbrad', 'bbs', 'bbz', 'yourboykalinw', 'bcafc', 'bccc', 'bcdrew', 'bchy', 'bcmakinitbig', 'bcom', 'bcoms', 'bcox', 'yourather', 'bcr', 'bcraig', 'bcran', 'youranoncentral', 'bcunninghamx', 'youradical', 'youonly', 'bd', 'bdds', 'bdiddy', 'bdjmauri', 'bdl', 'bdsers', 'bdsf', 'youonce', 'bea', 'beacause', 'younuss', 'beachballo', 'beachbodyready', 'beaconchills', 'beam', 'younusalgohar', 'beaners', 'younus', 'bearded', 'bearers', 'bearspear', 'beastars', 'beastiality', 'beastie', 'beastility', 'beastmanjr', 'beasts', 'youngwayne', 'youngton', 'youngthug', 'beatenverbal', 'beaters', 'beatin', 'youngsters', 'beatle', 'beatmckinley', 'beatoff', 'beatriz', 'beattle', 'beatty', 'beaucoup', 'beauregarde', 'beause', 'youngsmaggie', 'beautifulcheap', 'beautifull', 'beautifulllllll', 'beautifullovewonderfullife', 'beautifulne', 'beautifulsmart', 'youngsharkbait', 'beautykids', 'beautywonder', 'beavis', 'beban', 'bebe', 'bebird', 'bebop', 'beca', 'becarefulwhatyouwishfor', 'becasue', 'becausefood', 'becausegoodheroesdeservekidneys', 'becausei', 'becca', 'bechare', 'bechdel', 'beckett', 'beckles', 'becks', 'beckybabe', 'beckym', 'beckysð', 'becomed', 'becpobjie', 'bect', 'becuaes', 'becus', 'becuse', 'becz', 'youngrightusa', 'bedale', 'bedbuggers', 'bednever', 'bedouin', 'bedouins', 'bedwenching', 'beeb', 'beebs', 'beeeeee', 'youngpilot', 'beefed', 'beefit', 'beefobradysbowl', 'beefsbowl', 'beeing', 'beeismrblx', 'beenbasedb', 'beening', 'bees', 'beethoven', 'befor', 'beforemajority', 'befriended', 'youngmen', 'begacheese', 'youngiff', 'begani', 'begars', 'beggar', 'beggary', 'begger', 'beggin', 'younggoon', 'youngesttyler', 'youngestpound', 'beginninghe', 'beginnings', 'beginpagepid', 'begrudge', 'begums', 'youngdolph', 'youngblackbitch', 'younah', 'behavioral', 'youmightnotbearealallyif', 'youm', 'youltwowltltlt', 'behere', 'behi', 'behinds', 'behlehyong', 'beiber', 'beig', 'beigns', 'beingreshmabjp', 'yoult', 'beingsthis', 'beingthe', 'beingweirdand', 'beirut', 'bejohnce', 'bekers', 'bekindtoeachother', 'belated', 'beleived', 'belfastscouse', 'belgian', 'belgila', 'beliebers', 'youl', 'youknowyoulovethem', 'believable', 'youknowitsdoug', 'youkayla', 'youignorant', 'believersespecially', 'believeted', 'belittles', 'belittlingkilling', 'beliv', 'belived', 'beliving', 'bellajella', 'bellatwins', 'bellean', 'belleville', 'bellies', 'bellingham', 'bellletstalk', 'bellpickle', 'bells', 'bellssy', 'bellum', 'bellyflower', 'youhart', 'belongings', 'belongingsnow', 'yougrow', 'belowdecksailingyacht', 'yougettingdumpedif', 'beltrew', 'belts', 'bemetor', 'bemoan', 'bemzi', 'benbroadnax', 'benches', 'benchmark', 'bencreasey', 'bender', 'bendis', 'bene', 'benedict', 'youfailedbruh', 'youcheck', 'benefitshave', 'beneran', 'benfranklin', 'benfromcanada', 'bengalburning', 'benjamiin', 'benjaminfranklin', 'benjaminnorton', 'benji', 'benjilaw', 'benjorrell', 'benleasor', 'bennettruth', 'bennyd', 'bennythebull', 'benoxd', 'bens', 'ber', 'beralih', 'berani', 'berate', 'berated', 'berber', 'berbers', 'bercanda', 'bereaved', 'berekspresi', 'berhm', 'berinformasi', 'berkeley', 'berkeleyeagle', 'berkeleyð', 'bermwalker', 'bern', 'bernadinebarber', 'bernadino', 'bernardgaynor', 'bernardhayman', 'bernardi', 'bernardino', 'berniat', 'youbring', 'berniesbullshit', 'berpendapat', 'bertha', 'bertolaca', 'berylpatmore', 'besh', 'beso', 'besok', 'besotted', 'bespectacled', 'besssst', 'youand', 'bestactress', 'bestbet', 'bestdr', 'bestest', 'bestexceptionever', 'bestf', 'bestfriends', 'besto', 'bestow', 'bestselling', 'youabsolute', 'bethpeerless', 'bethpricebish', 'betomtzortiz', 'betr', 'betrayd', 'betrayed', 'betsy', 'betsydevos', 'betsydevosed', 'betta', 'bette', 'bettemidler', 'betterhe', 'bettering', 'betterluck', 'betting', 'betty', 'betw', 'bev', 'bevelin', 'bevelyn', 'bewbs', 'bewhy', 'bex', 'beyoncã', 'beyoncé', 'beyondbabymamas', 'beyondgawjus', 'beyondpissed', 'bezure', 'beĺve', 'yosuke', 'yosoyemmy', 'bffhigh', 'bfgf', 'bfhusband', 'bfleshripper', 'bgconoxygen', 'bgcshellyray', 'bgeise', 'bgtruckdriver', 'bhaag', 'bhadda', 'bhadwa', 'bhadwe', 'bhag', 'bhagat', 'bhagavad', 'bhagvat', 'bhagwa', 'yoshis', 'bhaichara', 'bhaiya', 'bhakteria', 'bham', 'bhamdailynews', 'bharati', 'bharatiya', 'bharatkhande', 'bharatmatakijai', 'bhashanbazi', 'bhausahebajabe', 'bhawani', 'bhayankur', 'bhendrix', 'bhgva', 'yorker', 'bhikari', 'bhikharipakistan', 'bhkats', 'bhkton', 'bhla', 'bhn', 'bhosda', 'bhote', 'bhramin', 'bhudhists', 'bhuk', 'bhumi', 'bhusaa', 'bhutan', 'bhuti', 'bhutto', 'yor', 'bia', 'bialystok', 'bian', 'yoou', 'biasa', 'yoos', 'biasedracist', 'biasult', 'bibibourelly', 'bibitohen', 'yooouuuuignorant', 'bibleampyoure', 'biblegeetha', 'yoooooouuuu', 'biblioeva', 'bibswwpd', 'bibulb', 'bictima', 'bid', 'bidats', 'yoooooooo', 'bidenisracist', 'bieberniggas', 'bieberroast', 'biebers', 'biebersddi', 'yoooooo', 'biebscyrusarmy', 'bielsa', 'bien', 'biff', 'biffers', 'yooooo', 'bigamist', 'bigangryplays', 'bigass', 'bigbadcharn', 'bigballin', 'bigbang', 'bigbitch', 'bigboi', 'bigbottomcottom', 'bigbupiswatchin', 'yooomaddddddd', 'yooohooo', 'bigggg', 'biggie', 'biggmigo', 'biggots', 'bigheavy', 'bigiot', 'bigly', 'bigmackdontrel', 'bigman', 'bignono', 'bigolbootay', 'yoonmin', 'bigotperhaps', 'bigotryracism', 'yooka', 'bigplaycj', 'bigpoppagaines', 'bigpussylicker', 'bigred', 'bigrennies', 'bigshitxtalker', 'bigsmooth', 'bigsweener', 'bigwigs', 'bii', 'biiiiiig', 'biiiiiitch', 'biiiitch', 'bijouxlille', 'bijuukitsune', 'bikin', 'bikinacoolebro', 'bil', 'bilabadazz', 'yonghchdhd', 'bilangin', 'bileleducate', 'bilic', 'bilious', 'billbarriscorrupt', 'billboardchart', 'billboards', 'billcosby', 'billdollarton', 'billi', 'billies', 'yon', 'yomama', 'billon', 'billow', 'billrigg', 'billweiss', 'yolsuzlukverüşvetyılı', 'billyblanks', 'billygarcia', 'billygardell', 'billyhiphop', 'billyk', 'billyminaj', 'billys', 'biloxi', 'bimbingan', 'bimboz', 'yolomastar', 'bina', 'binalerts', 'yolo', 'binch', 'bind', 'binders', 'bingewatching', 'binghe', 'bingsta', 'bins', 'bintehawwa', 'yoliana', 'biocot', 'biocotting', 'biohazard', 'biologist', 'bioluminescence', 'bionicle', 'bipolardepression', 'biq', 'biradar', 'yoko', 'birdbrain', 'birdies', 'birdman', 'birdstl', 'yokels', 'birthdaaaaaaay', 'birthdaaay', 'birthdark', 'yoitsdeeboi', 'birthing', 'birthmark', 'birthright', 'biryani', 'bis', 'bisa', 'bisaya', 'bisbiss', 'yohos', 'bisexuality', 'bisexuals', 'bishes', 'bishops', 'bisk', 'bisleriterrorism', 'bisping', 'yohopussyassbitch', 'bitcchh', 'bitchass', 'bitchblacks', 'bitchdoes', 'yohoalexandria', 'bitchesas', 'bitchesfemales', 'bitcheshoesfemales', 'bitchess', 'bitcheswhere', 'bitchesã', 'bitchfemale', 'bitchgt', 'bitchgtgtgt', 'bitchies', 'bitchiest', 'bitchim', 'bitchin', 'bitchinglesbian', 'bitchjones', 'bitchkutti', 'bitchlike', 'bitchplease', 'bitchprick', 'bitchstupid', 'bitchthe', 'bitchubeenafan', 'bitchute', 'bitchwas', 'yogurt', 'bitchyness', 'bitchð', 'bitethesetweets', 'bithacker', 'bitlocker', 'bitten', 'yogas', 'bitxch', 'bitxh', 'biurny', 'bivisibilityday', 'biwi', 'bizarre', 'biznitches', 'bizniz', 'biâ', 'bjdgaf', 'bjj', 'bjjahnke', 'bjpindia', 'bjpis', 'bjpmp', 'bjpyou', 'bjtqld', 'bjwon', 'björk', 'bkdreamer', 'bkg', 'bkus', 'yofavoriteexgf', 'blab', 'blabber', 'blabbers', 'blabla', 'blabluebblib', 'blac', 'blacckgall', 'yodaism', 'blackampwhite', 'blackand', 'blackandblue', 'blackandfly', 'blackandwhitephoto', 'blackballed', 'blackbear', 'blackbeard', 'blackburn', 'blackchiquitita', 'blackcollective', 'blackdumb', 'blacken', 'blacker', 'yoctopidge', 'blackfeminists', 'blackfilmfeb', 'blackford', 'blackgirlsrock', 'blackgirltia', 'blackhe', 'blackhistory', 'blackhistorymonth', 'blackie', 'blackiechan', 'blackineeze', 'blackisbutiful', 'blackisright', 'blackkeycartel', 'blackkklansman', 'blacklives', 'yoco', 'blacklivesmattter', 'blackmagicccc', 'blackmailcoerc', 'blackman', 'blackmen', 'yoboyniqs', 'blackmilks', 'blackmilktweets', 'blackmombaaa', 'blackmuslim', 'blackocracy', 'blackout', 'blackouttuesday', 'blackpeopledickall', 'yoarob', 'blacksdwilson', 'blacksjust', 'blackstatus', 'blackstewie', 'blackthis', 'blacktric', 'blacktwitter', 'blacktwitterwelcomemanual', 'blackview', 'blackvoicestrump', 'blackwhich', 'blackwhite', 'blactimusprime', 'yoapp', 'blahdominated', 'blahhh', 'blai', 'blaiming', 'blak', 'blakc', 'blalalabeauty', 'ynot', 'blamei', 'blameonenota', 'ymc', 'ykwtfgo', 'blanchard', 'blancos', 'blankmane', 'blanks', 'blantantly', 'blantently', 'blaqanesse', 'blaqangus', 'blarghhhh', 'blarked', 'blarts', 'blase', 'blaspemy', 'blasphemers', 'ykno', 'blasphemywhen', 'blastiseeeeeee', 'yjoyding', 'yiven', 'blathering', 'blatherings', 'blazeupbutera', 'blazinbirdman', 'blazingly', 'blaztful', 'blcinsd', 'blckobsessed', 'blcks', 'bld', 'bldg', 'yiur', 'bleaching', 'bleak', 'bled', 'yiu', 'bleep', 'bleeping', 'bleez', 'blehhh', 'blending', 'yisssss', 'blessem', 'blesses', 'blessin', 'yintoni', 'bliggivee', 'blimey', 'yield', 'blindfolding', 'blindness', 'blindsides', 'blinking', 'yids', 'blizzheroes', 'blklivesmatter', 'bllah', 'yid', 'blmantifamuslim', 'blmburn', 'blmprotest', 'blms', 'bloated', 'blocka', 'blockcheckleague', 'yhur', 'blockem', 'yhdjgdjhyghghgj', 'blogged', 'blogging', 'blogim', 'blogtrump', 'blomquistrich', 'yhat', 'blondebrat', 'blondemomentforthe', 'blondessorry', 'blondiegirl', 'blondies', 'blonds', 'blondthe', 'bloodbath', 'bloodstonesoup', 'bloodthirsty', 'bloodu', 'yfnzay', 'bloodyosiris', 'bloomenthal', 'bloomenthals', 'bloomers', 'bloomfield', 'bloomington', 'bloomquist', 'blooodygorgeous', 'bloubergstrand', 'blowindatpink', 'blowjob', 'yezedis', 'blownnnnnnnnnnmy', 'bloxburg', 'bls', 'bltch', 'blud', 'bluddy', 'yewkay', 'blueberry', 'bluebunny', 'bluedupage', 'blueeee', 'bluehole', 'blueicefiesta', 'bluekai', 'bluemaga', 'bluemy', 'bluenomatterwho', 'bluestupid', 'bluf', 'yeven', 'blundell', 'blunders', 'blunted', 'bluray', 'blurred', 'blurry', 'blurs', 'blurt', 'bluscholar', 'blushbreezy', 'blutalthedog', 'bly', 'bmattingly', 'bmkt', 'bmmechalegs', 'bmw', 'bn', 'bna', 'bncartwright', 'bnha', 'bnuno', 'yeti', 'boarded', 'boarder', 'boarderline', 'boardman', 'boardroom', 'boardwalk', 'boatercycles', 'bobandtom', 'bobbidana', 'bobbiecattani', 'bobble', 'bobbobbsbobby', 'bobbyjindal', 'bobbyzarin', 'bobf', 'bobg', 'bobjinx', 'bobo', 'bobpoekert', 'bobrae', 'bobs', 'bochistan', 'bodhidharma', 'bods', 'yesyoureabellend', 'bodyguard', 'bodymake', 'bodys', 'bodyshaming', 'bodyslam', 'bogans', 'boggling', 'bohoharam', 'boieeee', 'boii', 'boiled', 'boilinggg', 'boils', 'boisterous', 'boiz', 'boke', 'yeswe', 'bolas', 'boleynbuttz', 'bolinger', 'boliwoodiya', 'bollyrocket', 'yesu', 'bollywoods', 'bolo', 'bolshevic', 'bolta', 'bolti', 'boltjames', 'bolton', 'boltons', 'bolts', 'bomacbrian', 'bomanijones', 'yesthis', 'bombarded', 'bombardment', 'yesthe', 'yester', 'bombinha', 'yest', 'bombsguns', 'bombspot', 'bombthenhungup', 'bomedy', 'bondage', 'bonding', 'boned', 'bonedagger', 'bonefig', 'boners', 'bonerville', 'bonesinsetember', 'bonfire', 'bonglez', 'bongs', 'bonita', 'bonitacourtney', 'bonkers', 'bono', 'bontot', 'yessssssur', 'bonza', 'boob', 'boober', 'boobieaintshit', 'boobiedixon', 'booboort', 'boobpillow', 'yessssssss', 'boobz', 'bood', 'boogaloo', 'booger', 'boohoo', 'bookand', 'bookbag', 'bookfat', 'booking', 'bookings', 'booklybooks', 'bookworth', 'boombap', 'boomers', 'boon', 'boondocs', 'boooooom', 'booooooyahhh', 'boooooy', 'boooring', 'boop', 'boosa', 'boosiehes', 'boosted', 'bootcamp', 'booted', 'boothmmm', 'bootleggirl', 'bootlicker', 'bootlickers', 'bootlicking', 'bootsie', 'bootyhole', 'bootz', 'booyastreak', 'booyoww', 'booze', 'bopps', 'bora', 'borad', 'borat', 'yesser', 'borderi', 'borderline', 'yess', 'yesrt', 'boredom', 'yesmeninism', 'yeske', 'yesits', 'bornday', 'borned', 'borno', 'bornrichh', 'borntodiebaby', 'boro', 'borre', 'borris', 'borrowing', 'boruto', 'bose', 'bosnians', 'bosox', 'yesitisthatdeep', 'bossbabes', 'bossbossboss', 'bossbytchh', 'bossdk', 'bossfilm', 'bossing', 'bossman', 'bossmankendrick', 'bossnigger', 'bosssdjme', 'bossyeri', 'yesican', 'botched', 'botdf', 'botdfmusic', 'bothdont', 'yesiamsaffron', 'yeshua', 'botheres', 'yeshh', 'bothersome', 'yeshe', 'yesh', 'bottled', 'bottomless', 'bottoms', 'boturra', 'bou', 'boudicca', 'yeses', 'boughtsold', 'boughtwhat', 'bougie', 'boujie', 'bouls', 'bounce', 'bounevialle', 'boup', 'bourgeoisbit', 'bourgholtzer', 'yescan', 'bouta', 'boutique', 'bowed', 'bowel', 'bowels', 'bowie', 'bowing', 'bowling', 'bowls', 'bowtieguy', 'bowtomorandaa', 'boxcutters', 'boxed', 'boxer', 'boxofbudgies', 'yesallmen', 'boycottbollywoodmafia', 'boycottdbanj', 'boycotted', 'boycottindian', 'boycottturkey', 'yercuntiness', 'boygirl', 'boyhoodstudies', 'boyigor', 'boylooks', 'boymom', 'boypreviewiueaqcbgmsvmpfdo', 'yepperim', 'boysgo', 'boysies', 'boyspeak', 'boythis', 'boyu', 'boyyyyyyyyy', 'bozos', 'boâ', 'bp', 'bpub', 'bq', 'bquinn', 'bqvftieigshidufekor', 'brad', 'bradford', 'bradjgreer', 'bradleedean', 'bradleyjose', 'bradwall', 'braelyn', 'brags', 'brahma', 'brahman', 'brahmanism', 'brahmans', 'yepimaasshole', 'yepa', 'braiding', 'braie', 'yeojuda', 'braincell', 'braincells', 'brained', 'brainlesssteel', 'brainpower', 'yennijb', 'brainstorm', 'brainsz', 'yemens', 'yemenlybiaafghanistanpakistaniraqiransyrialebanon', 'brake', 'braking', 'branden', 'brandishing', 'brando', 'brandon', 'brandoncorado', 'brandongorham', 'brandonhonaker', 'brandonjcarr', 'brandonmcinerney', 'brandonmckenzie', 'brandy', 'branston', 'brashness', 'brasil', 'bratz', 'yelp', 'bravedont', 'bravely', 'braveness', 'bravest', 'braxtondsnyder', 'brazilianbiebs', 'brazilians', 'brcause', 'yellowwmustache', 'breadcrumbs', 'breaddd', 'breadmansports', 'breadwinners', 'breaghing', 'yellows', 'breakbeatjunkee', 'breaker', 'yellowclaw', 'breakfasting', 'breakfastnews', 'breakfeast', 'breakhave', 'yellowbellied', 'breakingbad', 'breakingfreefromfeministidiots', 'breakingnews', 'breakout', 'yello', 'breaksi', 'breakup', 'breanichole', 'breast', 'breastfeed', 'breastfeeding', 'breastmilk', 'yeilded', 'breathed', 'breathtakinggood', 'breatj', 'breeannamclovin', 'yehbruh', 'breedoesntpanic', 'breeyoutiful', 'brehâ', 'brenanf', 'brenchong', 'brendaasmar', 'brendanrochford', 'brendenlipps', 'brendlewhat', 'brennan', 'brennanking', 'brentmy', 'bret', 'brethren', 'brett', 'brettfavre', 'brettjsimpson', 'brettkavanaugh', 'brettonme', 'brettporter', 'breville', 'brewer', 'brewing', 'brexiters', 'brezzy', 'bria', 'briakelly', 'briana', 'brianahart', 'brianfenton', 'brianrienecker', 'brianrogers', 'brianwisti', 'bribedancing', 'brickwallisoverparty', 'bridesmaids', 'yefisher', 'brie', 'brief', 'briefed', 'briefly', 'briefs', 'brien', 'brietbart', 'yeeted', 'brighten', 'brightened', 'brighter', 'brighterdays', 'brightprimate', 'brights', 'briistosick', 'brikeilarcnn', 'briliante', 'brilliance', 'brillo', 'brinca', 'brincadeirinhas', 'yeet', 'bringbackclarkson', 'bringbackourinternet', 'bringbackpayal', 'yeesii', 'bringit', 'yeehh', 'brink', 'brinks', 'brionna', 'brirourk', 'brisk', 'brisket', 'briskiee', 'bristol', 'yeehaw', 'brisvegas', 'yeeeeeesh', 'britains', 'yee', 'britjohnsonnnn', 'britneyspears', 'britni', 'briton', 'brittbrit', 'brittnaomi', 'brittney', 'brittweizel', 'brixton', 'yeassssssss', 'yearwill', 'broadcasted', 'broadcaster', 'broadcasting', 'broaden', 'broader', 'broadly', 'broadoak', 'broand', 'brobearindy', 'broderick', 'brodt', 'brody', 'brokaw', 'yearswithexo', 'yearswho', 'brokentourneys', 'broker', 'brokered', 'brolol', 'broma', 'bromance', 'bron', 'bronco', 'broncos', 'bronny', 'bronx', 'bronxbittch', 'brony', 'bronze', 'brood', 'brooke', 'brookemarielane', 'brooklynhtml', 'brooklynhtmlampjsvaampampgsaampusqpmqaqfkagwasad', 'broom', 'brooooo', 'yearsofonedirection', 'brosas', 'brosconfessions', 'brosexist', 'brosis', 'brosstale', 'brothel', 'yearsofd', 'brotherare', 'brothereven', 'yearslmaoooo', 'brotherhoodbdsboycott', 'brotherhooddid', 'brotherhoodi', 'brotherhoods', 'brotherhoodthe', 'brotherislam', 'brotherlising', 'brotherlylove', 'brotherno', 'yearsis', 'brotherssister', 'yearsin', 'yearsgt', 'brownblue', 'browne', 'brownie', 'brownmuslim', 'brownmuslims', 'brows', 'browsers', 'brrrr', 'bruceveltri', 'yearschatterboxwe', 'yearsbut', 'bruhaha', 'bruhhhh', 'bruhrt', 'bruins', 'bruisers', 'brulins', 'brumby', 'brunettes', 'bruno', 'brunocbreis', 'brunsprov', 'brurellsue', 'brushed', 'brussels', 'yearsampmy', 'brutalities', 'yearold', 'brutalized', 'yearnings', 'bruv', 'brvden', 'brxndie', 'bryanlmao', 'bryanrenno', 'bryanrivera', 'bryantmcalister', 'bryants', 'bryanurns', 'brycemeyer', 'brynn', 'bryonanicole', 'brysontliier', 'brysynner', 'yearmy', 'bsdk', 'bsf', 'bsk', 'bskxjsox', 'bsmu', 'bst', 'yeaji', 'btchhh', 'btfo', 'bth', 'bthamuthafuknp', 'yeaitsloopy', 'btss', 'yeahlet', 'btwpunching', 'bu', 'bubbalubber', 'bubblebutnation', 'bubbling', 'buberzionist', 'buble', 'bublly', 'bubnation', 'bubonic', 'bubookinss', 'bucause', 'buciumean', 'buckey', 'bucko', 'bucks', 'bucnasty', 'bucookie', 'buddahs', 'yeahhes', 'buddying', 'budge', 'budgets', 'budging', 'budh', 'budha', 'budhijeevi', 'budhists', 'budi', 'budingers', 'budlightbro', 'yeaah', 'buffailo', 'buffie', 'buffoonal', 'yeaaah', 'buggernot', 'buggin', 'bugskarama', 'buh', 'yeaaaaaa', 'builders', 'yeaaaa', 'builds', 'buillied', 'ybs', 'buk', 'bukhari', 'bukowski', 'bukowskiquote', 'bulgarian', 'bulimia', 'bulinando', 'ybahrumi', 'bullcrap', 'bulldogs', 'bulleabamos', 'bulled', 'yb', 'bullhit', 'bulli', 'bulliedamp', 'bulliedare', 'bulliedblown', 'bulliedchased', 'bulliedhtmlitofacebooksharearticle', 'bulliedjudgedand', 'bulliedmay', 'bulliedpicked', 'bulliedsmh', 'bulliedsupport', 'bulliedtargeted', 'bulliedthat', 'bulliedwere', 'bulliesbegone', 'bulliescowards', 'bulliescrying', 'bulliesenemies', 'bullieshigh', 'bullieslolol', 'bullieslook', 'bulliesother', 'bulliessuck', 'yazan', 'bullish', 'bullishness', 'bullsh', 'yazaidi', 'bullshits', 'bullshittarek', 'bullsht', 'bullshxt', 'bullsxxt', 'bullyable', 'bullyand', 'bullybarr', 'bullyhe', 'bullyif', 'bullyingcyberbullying', 'bullyingem', 'bullyinggrave', 'bullyingharassing', 'bullyinghttpwwwyoutubecomwatchv', 'bullyingis', 'bullyingjajajajajaja', 'bullyinglt', 'bullyingmental', 'bullyingonline', 'bullyingsi', 'bullyinguk', 'bullyism', 'bullymacem', 'bullymean', 'bullyno', 'bullyplg', 'bullyreads', 'bullysort', 'bullythe', 'bullytrying', 'bullyuh', 'bullyvery', 'bullywhoa', 'bullyyup', 'bullyâ', 'yawns', 'bumbitch', 'bumch', 'bumlicking', 'bummed', 'bumped', 'bumpkin', 'bumps', 'bun', 'bunannie', 'buncha', 'bunched', 'bundle', 'bungled', 'bunkerbaby', 'bunkerboy', 'bunks', 'bunniksacha', 'bunsen', 'bunty', 'burak', 'burbs', 'burch', 'burdened', 'bureaucrats', 'burfict', 'burger', 'burglar', 'burglary', 'burial', 'burkahe', 'burke', 'burkha', 'burkhah', 'burlap', 'burmese', 'burnburn', 'burndeface', 'yawerhali', 'yave', 'burnley', 'burnol', 'yatris', 'burnwithbrando', 'burrawonggaian', 'burrhead', 'bursted', 'burying', 'yatesietweets', 'buschlightbabe', 'busin', 'busine', 'yasuo', 'businessinsider', 'businessmen', 'buss', 'buster', 'busterespn', 'busters', 'bustmagazine', 'busty', 'yasssss', 'busywriting', 'buta', 'butbush', 'yass', 'butchery', 'butdamn', 'butducks', 'butfemale', 'butitmakessense', 'butits', 'butlerbeliebers', 'butleru', 'butlove', 'butn', 'butneverdoubt', 'butno', 'butnotallmen', 'butsure', 'yasnecati', 'buttalk', 'buttcheek', 'butted', 'yasmine', 'butterflies', 'butters', 'butterthere', 'buttfuck', 'buttfucking', 'butthatsjustme', 'butthor', 'buttigieg', 'buttin', 'buttmunch', 'yasir', 'buttonamputmcampaignarticle', 'buttpirate', 'buttttt', 'buttwrangler', 'butyou', 'yasinmukhtar', 'buyao', 'yasin', 'buyingfarming', 'buynopromisesonitunes', 'buys', 'buzzaldrinms', 'buzzard', 'buzzfeedlgbt', 'buzzfeeduk', 'buzzflah', 'buzzkill', 'buzzterms', 'buzzword', 'bvse', 'bwahahaha', 'bwampbm', 'bwhiteec', 'bwilly', 'bwnarrative', 'bwshell', 'bwt', 'bxeuj', 'bxokrissy', 'bxtchesinparis', 'bxterflystyles', 'bxxch', 'bybye', 'yasiel', 'byebye', 'byeman', 'byert', 'byfor', 'bygones', 'bypassing', 'byron', 'byu', 'bz', 'büłłíęš', 'yaseen', 'caanrcprotest', 'caanrcprotests', 'caaprotests', 'cabbiesjust', 'cabello', 'cabelu', 'cabeça', 'cabitaylor', 'cable', 'cabron', 'cabros', 'cache', 'cacheayala', 'cack', 'cackled', 'cad', 'cadarço', 'cafechatnoir', 'cagesit', 'caging', 'cahalan', 'cahastings', 'caileebutler', 'cailey', 'cainp', 'caint', 'caitbit', 'caitlinmariee', 'caitlyndare', 'caitytay', 'caked', 'cakenot', 'cakesome', 'cal', 'calabar', 'calabasas', 'calc', 'calcetin', 'calculus', 'caldervhs', 'caldwomenk', 'caleb', 'calendars', 'caliamp', 'caliber', 'calibre', 'yarns', 'caliphat', 'caliphatalism', 'caliphfaggoti', 'caliphs', 'calisthenics', 'callate', 'yarehamakallah', 'calledniggerby', 'calles', 'yardmoney', 'callingwood', 'callmeclairj', 'callmeegeorge', 'callmemontana', 'callmother', 'callous', 'callums', 'yapper', 'calmed', 'calmly', 'caloric', 'calories', 'calumadariaga', 'cambia', 'cambie', 'cambridgeschool', 'camdaterrorist', 'yaoiz', 'cameizzz', 'camenbhandal', 'cameo', 'yaoi', 'cameraman', 'cameramen', 'camerashy', 'yanukovich', 'cameronauclair', 'cameronclater', 'cameronespositos', 'cameronmentel', 'cameronmines', 'camerons', 'cameroonian', 'camiihidalgo', 'camilaastar', 'camille', 'camillecarelli', 'camirubim', 'camlafontaine', 'cammatthews', 'cammyhoskins', 'yanks', 'campaigned', 'campaignsosa', 'camparrison', 'campbellpaton', 'campign', 'campsite', 'campswow', 'campuses', 'campusmost', 'campuspriceless', 'camrawdavis', 'camrenincrime', 'cams', 'yanggang', 'canadadragrace', 'canadainperil', 'yandiisa', 'canadianspider', 'canary', 'yandere', 'cancelct', 'cancellation', 'yana', 'cancelthatbihh', 'yams', 'canceror', 'cancerous', 'canchoose', 'canciones', 'candadian', 'candi', 'candice', 'candicekp', 'candidacy', 'yamonday', 'yammyaustin', 'candidte', 'candied', 'candikanepr', 'candle', 'candyladychel', 'candyxiumn', 'caneloteam', 'canifuckornah', 'cankles', 'cannon', 'cannotwait', 'canonical', 'canonization', 'canoodles', 'canova', 'canse', 'cantando', 'cantar', 'canteloup', 'canterbury', 'canterlot', 'canteveroutdo', 'cantgetenough', 'cantinho', 'canto', 'cantttt', 'canty', 'capability', 'yammering', 'capacitación', 'yammama', 'capehartj', 'capehog', 'capenga', 'capes', 'capita', 'yamlmjj', 'capitalizing', 'capitanhawk', 'capitolrecords', 'capitulated', 'capitulo', 'capncococharms', 'capp', 'capped', 'cappella', 'cappyd', 'capri', 'capricorn', 'capsicums', 'yamen', 'captainaxiom', 'captainpanties', 'captaintypo', 'captcaustic', 'captclover', 'captioned', 'captions', 'yameannnnn', 'captureewcbee', 'captures', 'caputure', 'caq', 'yamcha', 'carabineros', 'caracter', 'caracters', 'carajo', 'caralho', 'caramba', 'caramel', 'yam', 'carbbyfx', 'carbide', 'yalls', 'cardiff', 'cardiologist', 'cardo', 'cardozo', 'yalll', 'yallknowwhoyouare', 'carea', 'careand', 'yallasouriya', 'yalibhai', 'yalenyewe', 'carefull', 'carein', 'carelessone', 'carelesssam', 'caremuch', 'carenurturecoddling', 'caresok', 'caretaker', 'carethey', 'carewhich', 'careyc', 'cargos', 'caribbeans', 'caricatures', 'caricaturist', 'caricouture', 'cariin', 'yakub', 'carissaicha', 'carlawheezer', 'carlcabalsi', 'carlile', 'carlin', 'carlospivetta', 'carloss', 'carlpowerade', 'carlsons', 'carly', 'carlyfreddy', 'carlyle', 'carmeldip', 'carmella', 'carmelo', 'carmichael', 'carmodle', 'carnally', 'carnell', 'carnival', 'carnivore', 'carnoustie', 'carnt', 'caroline', 'carolineflack', 'carolinefourest', 'carolineslaw', 'carollld', 'carolmswain', 'carolsilva', 'caroranwill', 'carouselcarouse', 'carrds', 'carriage', 'carribean', 'carriehfletcher', 'carriekeagan', 'carrier', 'carries', 'carrotfuck', 'yakityyakblah', 'yak', 'yahyas', 'carstle', 'cart', 'carta', 'cartel', 'carterdowdle', 'cartermontg', 'yahushua', 'cartoonist', 'cartridges', 'cartwright', 'carve', 'carvings', 'carwashes', 'cas', 'casais', 'casamento', 'caseclosed', 'casella', 'casend', 'yaho', 'cashandboobies', 'cashbackforairtime', 'cashed', 'cashless', 'cashtfe', 'cashyeww', 'casper', 'cassgirl', 'cassidy', 'cassidyjonesadv', 'yaha', 'castebut', 'casteism', 'casteist', 'castekamma', 'castes', 'castiel', 'castigate', 'castigo', 'castingcouch', 'castism', 'castnoshnathan', 'castor', 'castrate', 'castrating', 'castreally', 'castreligionpoor', 'castromikec', 'castrotrapmoney', 'yagurlcallmebae', 'cata', 'catagory', 'catalogue', 'catalyst', 'catatwitering', 'catcalled', 'catcalling', 'yachty', 'catches', 'catchestheworm', 'catchment', 'catchphrase', 'catchthewave', 'categorisations', 'categorise', 'yacht', 'categoryislamic', 'cater', 'catered', 'catfishbrat', 'catfished', 'catfishfetish', 'catfishfindom', 'catfishrt', 'catherinebray', 'cathmayoevans', 'cathmckenna', 'yaboiyayo', 'catholicbishops', 'catholicchurch', 'cathyby', 'cathykilledjian', 'catkin', 'catmontana', 'yaarehamakallah', 'catsandcatts', 'catsarehorrible', 'catsgotswag', 'catsofinstag', 'catstagram', 'cattery', 'caturday', 'yaakovlappin', 'caucasity', 'caucasus', 'yaaas', 'caus', 'causal', 'causally', 'causando', 'causar', 'yaaaasssssss', 'causeamp', 'yaaaa', 'causefuck', 'causeing', 'caustic', 'causticbob', 'causticpodcast', 'causticsodafizz', 'causulties', 'caution', 'cauz', 'cavalier', 'cavemans', 'cavetown', 'caveyou', 'caving', 'cavorting', 'cbb', 'cbctoronto', 'cbd', 'cbfbbbbhtml', 'cbi', 'cbn', 'cbodacious', 'cbortz', 'cbsnews', 'cbssportscbb', 'xylem', 'cccp', 'ccisd', 'cclus', 'ccmsparkster', 'ccobey', 'ccot', 'ccplied', 'ccriadoperez', 'ccunningham', 'cdfrsty', 'xxxxx', 'cdragon', 'cds', 'cdzila', 'ceases', 'cece', 'ceciwee', 'cede', 'cedo', 'cedric', 'cee', 'ceecee', 'ceeeeeeeebs', 'ceeeleeeman', 'ceeowcee', 'ceilidhann', 'celah', 'celebitchy', 'xxxtentacions', 'celebratin', 'xxxkellyklass', 'celebratingthe', 'celebratory', 'celeynichole', 'celibate', 'celieahn', 'celina', 'celines', 'cellmate', 'cellsinfact', 'celphtitledd', 'cemcfarland', 'cements', 'cemetery', 'cena', 'censors', 'censured', 'centaur', 'xxgriffinxx', 'centimeter', 'xxfactor', 'centralizing', 'centric', 'centrists', 'centro', 'xxctchxx', 'centuriesgtwhenever', 'centurionfenty', 'xxchloexx', 'cenário', 'xxbet', 'cep', 'cera', 'cerca', 'cerebrawl', 'cerisecastle', 'cernovich', 'cernowatch', 'cero', 'cerrara', 'certaim', 'xwildsters', 'certainty', 'certan', 'certeza', 'certificado', 'certificatesreturn', 'cervixseasoning', 'cesarisadork', 'cesarsaysno', 'cesc', 'cesounds', 'cesspools', 'cestith', 'cetniks', 'cf', 'cfcfanatic', 'cfd', 'cfps', 'cgefirstlady', 'cgpa', 'chaaa', 'chaaaarm', 'chacha', 'chacheri', 'chadh', 'chadmfverbeck', 'chads', 'chadsisson', 'chaff', 'chahiyehow', 'chahto', 'chai', 'xuxislayer', 'chaindiamond', 'chained', 'chainlezchainz', 'chainsmokerscoldplay', 'xul', 'chairman', 'chairmany', 'chakka', 'chakkandha', 'chakrabartyearlier', 'chal', 'chala', 'chalaga', 'chaldeans', 'chali', 'chalips', 'chalky', 'chall', 'challange', 'xtians', 'challengemtv', 'xthatgirlmari', 'chamando', 'chamano', 'chamberlain', 'chambers', 'chamcha', 'chameleon', 'chameleons', 'chamou', 'xss', 'xsprrws', 'chancellorf', 'chancers', 'xsmoovie', 'chandlerparsons', 'chando', 'chandra', 'chandragupta', 'chanel', 'chang', 'xsiemprejcyfer', 'changeaus', 'changebritain', 'xshlyj', 'changedand', 'changeing', 'changelike', 'xsatylejah', 'changestools', 'xs', 'chani', 'chanks', 'xredsid', 'channels', 'channi', 'channybh', 'chaparis', 'chapel', 'chaplainhospice', 'chapo', 'chappell', 'xpuw', 'chaps', 'chaqueta', 'xpensive', 'characterand', 'characteristics', 'characterskat', 'charalice', 'charas', 'charasor', 'charcoal', 'charenton', 'xoxsaleha', 'chargeable', 'xoxoxoxoxo', 'chargenothing', 'xoxorihanna', 'chargesheets', 'charice', 'charities', 'xoxonyzhe', 'charlee', 'charlesmblow', 'charlessschan', 'charlicehurst', 'xox', 'charliedestries', 'charlieeevanss', 'charliejarls', 'charlielangton', 'charliesgirlmk', 'charlotte', 'charlotteescami', 'charlottesph', 'charltaylorpage', 'charlton', 'charlwhat', 'charmer', 'charmieos', 'charms', 'charters', 'chartoc', 'charvak', 'chasedahlabillz', 'chasemichaela', 'chasencashe', 'chasers', 'xomanderrr', 'chasma', 'chaste', 'chastise', 'chastising', 'chastity', 'xochitlsuckkks', 'chatham', 'chathewanted', 'chatted', 'chatter', 'chattin', 'chatting', 'chatty', 'chau', 'chaudhry', 'chauhan', 'chauvenistpig', 'chauvinism', 'chauvinist', 'chav', 'chaz', 'chazermann', 'chcks', 'chd', 'chdpmigshidlojypbpzjv', 'chead', 'chealsemarie', 'xobrittbritt', 'cheapish', 'xobethgreene', 'cheatcodesmusic', 'xo', 'chechnya', 'xms', 'checkdumb', 'xmoshingzombiex', 'checkers', 'checkitcool', 'checklist', 'checkout', 'checkpoint', 'chedd', 'cheeekaboo', 'cheekbones', 'cheeky', 'xmoneica', 'cheered', 'cheerios', 'cheeseawe', 'cheesecake', 'cheesed', 'cheeses', 'cheeted', 'cheeto', 'cheetohs', 'cheetos', 'cheezburger', 'xmerelove', 'chefconf', 'cheia', 'cheikh', 'cheio', 'cheireyna', 'chekozucconi', 'xmasnigga', 'chelseaaaronn', 'chelseabieber', 'chelsey', 'chemaly', 'chemicalgas', 'chemicalweapons', 'chemistry', 'cheng', 'chennai', 'cheong', 'chepal', 'cher', 'cherguiambark', 'cherie', 'cherieamour', 'cherischeris', 'cherish', 'cheritz', 'cherlloiyd', 'cherrybell', 'cherryferretti', 'cherryxme', 'chestnut', 'chet', 'chetballsohard', 'cheung', 'chevaldayoff', 'chevape', 'chevys', 'chewbacca', 'chewcansam', 'chezpazienza', 'chhat', 'chhati', 'chhaya', 'chhhhhh', 'chhod', 'chhodo', 'chia', 'chic', 'xlouistom', 'xlmlggamerlx', 'chicka', 'xlilstarx', 'chickencoleman', 'chickendinneratdchowk', 'chickenfilm', 'chickensmost', 'chickentastey', 'chickenyou', 'chickfila', 'chickfilacow', 'chickfilatraitors', 'xlearned', 'chickswith', 'chicoine', 'chicoms', 'chicorockx', 'chicser', 'xkit', 'chiefs', 'chiefzee', 'chieko', 'chii', 'chijy', 'chiken', 'chikfila', 'chil', 'xkilluminati', 'xjry', 'childchildren', 'childhoods', 'xith', 'childless', 'childlike', 'childlikeman', 'xis', 'childrencurriculum', 'childrenget', 'childrensbooks', 'childrenso', 'chileeee', 'chili', 'chilled', 'chilli', 'chillllll', 'chilllllll', 'chillshrammy', 'chimeras', 'xinhberreman', 'chinaampislamic', 'chinai', 'chinaisterrorist', 'chinakillsmuslims', 'chinamendumb', 'chinato', 'chinauighurs', 'chincs', 'chineese', 'chineke', 'chinelo', 'xinh', 'chinesemuslims', 'chinesemuslimsblack', 'chineseviruscorona', 'chingada', 'chingamiento', 'chink', 'chinos', 'chinstopcrying', 'chintan', 'chiodos', 'chipotletweets', 'chipper', 'chipperapp', 'chippies', 'chippydagod', 'chiqstudios', 'chiragroshan', 'chiristians', 'chise', 'chiste', 'chit', 'chitea', 'chitown', 'chivalrygonemad', 'chlldhoodruiner', 'chloeandkelly', 'chloehallidaytw', 'chloesims', 'chloevee', 'chmaev', 'chnage', 'ximenayuriria', 'chobani', 'chobitcoin', 'choccy', 'xijingpingreal', 'chode', 'chodron', 'choi', 'xijiang', 'choicepro', 'xico', 'choijonghyun', 'xians', 'choked', 'chokers', 'chokes', 'cholas', 'chomos', 'chongi', 'chook', 'choosefamilia', 'chootiyo', 'choppa', 'chopratp', 'chor', 'chora', 'choram', 'chord', 'chore', 'choreograph', 'chores', 'chorly', 'chortled', 'xia', 'chosed', 'chosin', 'chosing', 'chou', 'chouhanshivraj', 'chowdh', 'chowk', 'chrez', 'chrisbrown', 'chrischristiepresidentialtourbusname', 'chriscofield', 'chrisdubsaye', 'chrisduguay', 'chrisgray', 'chrisgurton', 'chrishihosilver', 'chrisjenki', 'chriske', 'chrislilley', 'chrisloor', 'chriss', 'chrissa', 'chrissam', 'chrissibaxter', 'chrissmax', 'chrisssyr', 'chrisswenson', 'xghettogirlx', 'christain', 'christains', 'christainty', 'christans', 'christchurch', 'christellelin', 'christendaland', 'christened', 'christenpadua', 'xfactor', 'christianall', 'christianampthugs', 'christianaphobe', 'christiancatholic', 'christiancpope', 'christiandom', 'christianfamily', 'christianhlines', 'christianhtmlutmsourcedlvritamputmmediumtwitter', 'xerox', 'christianityre', 'christianityreminds', 'christianitythe', 'christianmato', 'christianmedna', 'christiano', 'christianprince', 'christianright', 'xerdynamite', 'christiansampjews', 'christianseither', 'christiansex', 'christiansincluding', 'christiansjews', 'christiansjewsamp', 'christianstalk', 'christianvalues', 'christianyou', 'christianzionists', 'christina', 'christinaloken', 'christinelockw', 'christlike', 'xer', 'christmasmustnotlookyet', 'christo', 'christoph', 'christophwelsh', 'christwhile', 'chrisvc', 'chrisvoice', 'xenoxed', 'chriswarcrafts', 'chromosomes', 'chronically', 'chronicles', 'chronological', 'chronomancy', 'chrstians', 'chs', 'chu', 'chubbzyola', 'chubster', 'chubsters', 'chuckaholik', 'chucked', 'chuckie', 'chucking', 'chucknellis', 'chuckpfarrer', 'chucksterchun', 'chucky', 'chuckyrt', 'chudian', 'chufmoney', 'chuhe', 'chuna', 'chunat', 'xenophobe', 'churchhill', 'churchs', 'churchtoo', 'churning', 'chutiy', 'chutiyapa', 'chuttiya', 'chutzpah', 'chuva', 'chvrchs', 'chy', 'chyaboizellms', 'chyle', 'chynasiabitch', 'chynese', 'chyychy', 'chá', 'châ', 'xena', 'ciaa', 'cian', 'ciara', 'ciarran', 'cibernetico', 'cic', 'cicadas', 'cielsolwazi', 'ciennanicolee', 'cierto', 'cigan', 'cigany', 'cigar', 'cigarvolante', 'cilantro', 'cillizzacnn', 'cima', 'cincinnati', 'cincy', 'cinderella', 'cindy', 'cinemas', 'cinemassacre', 'cintiafaria', 'cinvlou', 'cioudtears', 'xdddd', 'circulated', 'circumambulate', 'circumcision', 'cirf', 'cirkeet', 'xdannyxbrownx', 'cisco', 'cisgender', 'cishetdude', 'cishets', 'cisrabbit', 'cissexism', 'cit', 'citation', 'cites', 'citgo', 'xcococha', 'citizenamphindu', 'xcharliemk', 'citlali', 'citrus', 'xcellent', 'cityshow', 'citywide', 'citywith', 'civic', 'civics', 'xcaliboundx', 'xbwjx', 'xboxsupport', 'civilizedtribeskillme', 'civillians', 'cizzymachd', 'cja', 'cjalred', 'cjavaltinsert', 'cjesiu', 'cji', 'cjobray', 'cjoie', 'cjriley', 'cjsajulga', 'cjscarlet', 'cjschubes', 'cjthegenesis', 'cjwerlema', 'xboxs', 'ckcesar', 'ckerr', 'cknightt', 'cla', 'xbonetourneys', 'claime', 'xb', 'xayeitstay', 'xavierleeds', 'claireabella', 'clairekoolkat', 'clairemedeiros', 'clairetella', 'clairlemon', 'clam', 'claming', 'clanceman', 'clancycnnrt', 'clandestine', 'clankadank', 'xans', 'clappers', 'claramente', 'clard', 'clarendon', 'claretgg', 'clarifying', 'clarissacrawley', 'clark', 'clas', 'clash', 'clashing', 'clashroyale', 'clasp', 'xander', 'classaward', 'classcooor', 'classdo', 'classe', 'classed', 'xalled', 'classia', 'xaiax', 'classicalbums', 'classiccody', 'classickz', 'classicxcupcake', 'classifying', 'classing', 'classism', 'xadako', 'wzak', 'classmatesthey', 'classof', 'classpresenters', 'classrooms', 'classs', 'classss', 'wyowanderer', 'classyandfabulous', 'classybroadx', 'classycarmenm', 'classynotrashy', 'claudiamaza', 'clauscmanterola', 'claustrophobic', 'claw', 'claws', 'claymorezx', 'claymoses', 'claywareagle', 'cldfrontrblx', 'cleaaarly', 'wyour', 'wyobuck', 'cleanising', 'cleans', 'wyd', 'cleanup', 'wyattjamez', 'clearance', 'clearing', 'clears', 'cleats', 'cleavage', 'cleaver', 'clefthoof', 'clenches', 'clergymen', 'clerics', 'wya', 'clevlenblack', 'cli', 'wwyd', 'clicked', 'clickin', 'clicking', 'clicquotsuave', 'wwx', 'clientweb', 'climates', 'climatestrike', 'clincher', 'clinging', 'clingy', 'clink', 'wwwelephant', 'clintonbodybags', 'www', 'clipped', 'clippers', 'clipperteas', 'clitbabe', 'clits', 'clkitchens', 'cloaked', 'clocked', 'clocks', 'clogged', 'clonker', 'clorox', 'wwiii', 'closecant', 'wwi', 'wwhl', 'closes', 'wwhites', 'wwgwga', 'closets', 'clot', 'clothed', 'clotheonly', 'wwetitle', 'clothesand', 'clothingi', 'cloths', 'wvoting', 'clouding', 'clouds', 'wviruses', 'clovis', 'wv', 'clownery', 'clowning', 'wuznt', 'clps', 'wuz', 'clubbing', 'clublt', 'clued', 'wut', 'cluelessness', 'clues', 'clunatoon', 'clusterfuck', 'clusters', 'clutch', 'clutz', 'clutzy', 'wuss', 'cmac', 'cmadatme', 'cme', 'cmo', 'cmomaharashtra', 'cnames', 'cnas', 'wuld', 'cnndirt', 'cnni', 'cnnmex', 'cnvrt', 'wuhan', 'coachamp', 'wudd', 'coachestribune', 'coachfriend', 'coachk', 'coachktemp', 'coaltion', 'coastcoast', 'coaster', 'coated', 'coating', 'cobb', 'cobbdaboss', 'coburn', 'coca', 'cockboy', 'cockhead', 'cockpit', 'cockroachdid', 'cocksucking', 'cocksyou', 'cocktails', 'cockybad', 'cockâ', 'cocok', 'cocoon', 'coda', 'codediversity', 'codegrit', 'codenamewiax', 'codex', 'codyalthouse', 'codyyyizzo', 'coe', 'coercive', 'coeurdartichaut', 'coexist', 'coexisted', 'coexisting', 'cofa', 'cofe', 'wtrwwaw', 'cohabit', 'coherent', 'cohesive', 'cohn', 'cohorts', 'coincidentally', 'coinhell', 'coins', 'coiny', 'coisas', 'coitado', 'cokensmile', 'col', 'colberts', 'colby', 'colbybrock', 'colconnaughton', 'wtraitor', 'coldestbtch', 'colectivo', 'coleg', 'colegas', 'colegio', 'coleguinhas', 'colej', 'colemcdowell', 'colette', 'coleycee', 'wtochetto', 'colinbrauns', 'colintheclown', 'coliseum', 'collage', 'collapsing', 'collarbone', 'collarbones', 'collard', 'collardgreen', 'collars', 'wthis', 'wthese', 'collectedn', 'collector', 'colleen', 'wthell', 'collegeboi', 'collegeboyk', 'collegebrat', 'collegeprobs', 'collegeð', 'collette', 'collie', 'collâ', 'colmorrisdavis', 'coloca', 'colocar', 'colocharachel', 'colocou', 'cologne', 'colombiana', 'colon', 'colonialismidiotyou', 'colonialistsdas', 'colonised', 'colonists', 'colonizer', 'colony', 'colorblind', 'colordumb', 'wtfwhile', 'coloredblackniggercoon', 'colorednd', 'colorednigger', 'coloreds', 'colorgender', 'coloridas', 'coloring', 'colorism', 'colorismmake', 'wtfw', 'wtfrt', 'colourism', 'colston', 'wtfrack', 'columbia', 'columbian', 'columbiarecords', 'columbiaspec', 'columbiauk', 'columnists', 'columns', 'colégio', 'wtffff', 'coma', 'wtfff', 'comb', 'combate', 'combating', 'combatir', 'combinations', 'combine', 'combos', 'combover', 'wterror', 'comebackkitchen', 'comece', 'wtech', 'comedienne', 'wtat', 'comedycouple', 'comemitoto', 'comensais', 'comentário', 'comeonson', 'wtaf', 'cometer', 'comeyou', 'começar', 'comfortably', 'comforted', 'comicsgate', 'wsoptournaments', 'comings', 'comitt', 'comix', 'comma', 'commadant', 'commanded', 'commanderccto', 'commanding', 'commandment', 'commandos', 'commands', 'commemorative', 'commended', 'commender', 'commends', 'wschmookler', 'commentates', 'wscheme', 'wsbtv', 'commenter', 'commentsobama', 'commentð', 'commerce', 'commercials', 'commin', 'comming', 'comminist', 'wrt', 'commiting', 'commitmentshe', 'wroteinman', 'committers', 'wrongterrorists', 'committokitchentoo', 'commiunist', 'wrongtalk', 'commonality', 'commonwealth', 'commumity', 'wrongsexist', 'communalise', 'communalised', 'communalize', 'communial', 'communicable', 'communicate', 'communismradical', 'communistas', 'communistdog', 'wrongi', 'communistsamp', 'communistsocialist', 'wrongfully', 'communityrape', 'communitystop', 'communitythey', 'commuted', 'comnunity', 'wrongbeing', 'companiespeople', 'companions', 'wrng', 'comparative', 'comparatively', 'wrlds', 'comparin', 'wrk', 'writtn', 'writting', 'compassionately', 'compassionhumanitymy', 'compatible', 'compe', 'compensating', 'compered', 'competen', 'competence', 'competency', 'writs', 'competitionin', 'comphet', 'compilation', 'compiliation', 'complacency', 'complacent', 'writings', 'writeoff', 'wristy', 'completing', 'completion', 'completley', 'complexions', 'complexities', 'compliance', 'compliancy', 'complications', 'complimented', 'comply', 'complô', 'composerdavid', 'compound', 'compred', 'comprehaned', 'comprende', 'compressed', 'comprise', 'comprising', 'compromised', 'compute', 'wrinkley', 'comradefu', 'comunidadi', 'comunidadpucv', 'comunity', 'conadet', 'conan', 'conanobrien', 'conbinada', 'concealable', 'conceded', 'concentrated', 'wrinkled', 'wring', 'conceptionsor', 'conceptualization', 'conceptualize', 'wrigjo', 'wright', 'concerneddo', 'wretchednetwork', 'wretched', 'concertación', 'conclave', 'concoctedwherever', 'concsiderd', 'concubine', 'concussions', 'conde', 'wrestlinglad', 'wrestlers', 'wrestle', 'conditioned', 'wrenesse', 'wrecks', 'condoned', 'condorian', 'condp', 'condwyer', 'conf', 'confederation', 'confessed', 'confessing', 'confessional', 'confessionnight', 'confide', 'wrecked', 'confidential', 'configa', 'confinedpc', 'wreality', 'confirming', 'confiscate', 'wrcorg', 'conflicted', 'confluence', 'confrontati', 'wrathoftyr', 'confrontingracism', 'confronts', 'confundem', 'confuses', 'congis', 'conglomerate', 'congman', 'congrass', 'congratualations', 'congratualtion', 'congratulate', 'congratulating', 'wr', 'congresses', 'congressionalassaultonwomen', 'wpvp', 'wpurple', 'congressmens', 'congressmuslims', 'congresspersons', 'wpuldve', 'conheça', 'conivergara', 'conjurupfood', 'conlanwebster', 'conn', 'wps', 'wplates', 'conned', 'connellybock', 'connerdowsn', 'conniptions', 'connoisseurs', 'connolly', 'connoly', 'connor', 'connorbrown', 'connorfranta', 'connorreed', 'connorrutledge', 'connotations', 'conocerme', 'conormaynard', 'wpatreon', 'conquerers', 'conquestsits', 'consars', 'conscent', 'consciously', 'consejos', 'consensually', 'consensus', 'wp', 'consentual', 'consequenceit', 'woz', 'consequencesits', 'consequently', 'conservation', 'wowza', 'conservativerepublican', 'wowyoure', 'conservativesnorthing', 'conserving', 'conservmiss', 'consevativehypocrisy', 'wowwwww', 'considerably', 'wowwww', 'woww', 'considersmuslims', 'consist', 'consistantly', 'consists', 'consolidate', 'consoling', 'wowthis', 'conspirators', 'conspircies', 'conspire', 'wowkelly', 'const', 'constabulary', 'constance', 'wowjust', 'constantcontact', 'wowice', 'constanty', 'constipated', 'constituencies', 'constituency', 'constituent', 'constitutes', 'wowi', 'constitutionally', 'constiutionally', 'constructed', 'constructing', 'constructstuff', 'construed', 'consultant', 'consumed', 'consumerism', 'consumes', 'consummated', 'consumption', 'woware', 'contacted', 'contar', 'contemporaries', 'contend', 'contenders', 'wowa', 'contentment', 'wovum', 'contesting', 'wover', 'contextno', 'contibuted', 'contigo', 'continentare', 'contingent', 'continua', 'wount', 'wounds', 'wounding', 'contorting', 'contortion', 'contraction', 'contractor', 'contracts', 'contradicts', 'contrarian', 'contrarians', 'contrary', 'contrasting', 'contrib', 'wound', 'wouldnyou', 'contributor', 'contributors', 'controlin', 'wotchu', 'controlpower', 'controver', 'controversey', 'contusiones', 'contâ', 'conté', 'conundrum', 'conv', 'convened', 'conventionally', 'conventionthey', 'converge', 'conversate', 'worthlessness', 'conversionsetc', 'worstviking', 'worstday', 'convertion', 'convertías', 'convey', 'conveyed', 'conveying', 'conveys', 'convict', 'convicts', 'convite', 'convoluted', 'conway', 'worshipped', 'cookedwhich', 'cookery', 'cookin', 'worshipers', 'cookkiimonsttr', 'cookout', 'worshiper', 'cookthey', 'cookwhat', 'worshiped', 'coolbreeze', 'coolers', 'cooleyoneurasia', 'coolfunny', 'coolkidmarah', 'coolmake', 'coolness', 'coolpopular', 'coolron', 'worryu', 'cooncats', 'coonery', 'cooneryatitsfinest', 'cooneys', 'coongt', 'coonhater', 'coonleon', 'coonlilbitch', 'coonstyle', 'coonville', 'coonwe', 'cooohkies', 'cooool', 'coop', 'cooped', 'cooperatefirst', 'cooperation', 'cooperlewis', 'coordinating', 'worryingly', 'copedipper', 'copiados', 'copiesofcopies', 'copper', 'coppers', 'coppin', 'coprophilia', 'coprophilic', 'copsway', 'coptheworld', 'worryin', 'copymyclass', 'cor', 'coralineada', 'corbynite', 'cordoba', 'cordovansplotch', 'worrrrrrd', 'corens', 'coreyhutchins', 'coreywalton', 'corgichihuahua', 'corinthiana', 'cork', 'cornbread', 'worrisome', 'cornette', 'cornfedbeachbum', 'corola', 'coronaindia', 'coronation', 'coronationstreet', 'worriedlol', 'corp', 'corporal', 'corps', 'corpse', 'worr', 'corrections', 'correspondent', 'corresponds', 'corridor', 'corrie', 'corrosive', 'worms', 'corsetry', 'cortanav', 'cortes', 'cortesía', 'wormghostin', 'corybeats', 'corygunz', 'corymonteith', 'wormen', 'cosigned', 'cosmetics', 'cosmic', 'cosmicsneaker', 'worm', 'costarring', 'costing', 'costumes', 'costuming', 'cosy', 'cosyant', 'cotten', 'worldwidewhat', 'cottupt', 'couches', 'cougar', 'coughs', 'worldwidestop', 'worldwhy', 'horsemen', 'worldview', 'councils', 'councilthe', 'counsel', 'counseling', 'counsulate', 'worldu', 'countdistinguish', 'worldthose', 'counteralso', 'counterculture', 'counterfeitrock', 'countingdeadwomen', 'worldstarhiphop', 'worldso', 'countriesall', 'countriesdoes', 'countriesgovt', 'countriesleaving', 'countriesthats', 'countriestrump', 'countrieswhen', 'countrieswhy', 'worldover', 'countryapparently', 'countryboy', 'countryimagine', 'countryleave', 'countrymusic', 'countryour', 'countryr', 'countrystill', 'countrysweets', 'countryu', 'countrywhile', 'worldonly', 'countyr', 'worldofwarcraft', 'coupon', 'coups', 'courageous', 'courier', 'worldlmfao', 'worldislamic', 'courteous', 'courthouse', 'courtneybrady', 'courtneymook', 'courtneyseiter', 'courtnneyleee', 'courtroom', 'courtthis', 'courtyard', 'cousa', 'worldinfinite', 'worldin', 'coustoms', 'couture', 'cov', 'coven', 'worldfree', 'worlddont', 'covertthey', 'coverup', 'workstudy', 'covidaus', 'covidmask', 'covidpandemic', 'covidu', 'covoec', 'worksit', 'workshopped', 'cowardbully', 'cowardiceali', 'workshop', 'workplacewell', 'cowboysnation', 'cowed', 'cowered', 'cowering', 'workplaces', 'coworkeri', 'coworkersformer', 'coworkwes', 'coxyrotter', 'workmoving', 'coza', 'cozying', 'coâ', 'cpassevant', 'cpc', 'cpd', 'cplbart', 'cpmore', 'cps', 'craaaazy', 'workmates', 'cracka', 'crackah', 'crackas', 'workin', 'crackerjohn', 'crackernigger', 'worki', 'crackes', 'crackheadill', 'crackin', 'crackkills', 'crackpipe', 'cradle', 'crafted', 'craigalford', 'craigrivet', 'crake', 'crakersinafrica', 'cramps', 'crane', 'cranked', 'cranky', 'workhardergetbetter', 'crapi', 'crapilicious', 'crapton', 'workforce', 'crashes', 'crashmatrix', 'crates', 'craved', 'craven', 'cravenly', 'cravings', 'cravizne', 'crawling', 'cray', 'crayonbreakywil', 'crayons', 'crazies', 'craziest', 'craziibeauty', 'crazybenghazi', 'crazycultfilms', 'crazydame', 'crazyindapeg', 'crazyjessiej', 'crazynigger', 'crazytown', 'crazyua', 'crazyy', 'creaky', 'workexperience', 'creaming', 'creamy', 'crease', 'creasey', 'creaseyluke', 'creasy', 'workaholics', 'woridstarvideos', 'createdcash', 'wordylibrarian', 'wordt', 'creationists', 'wordspinster', 'wordsphrases', 'wordslut', 'creatureshahaidiot', 'creddies', 'creddy', 'wordsisaywhenimmad', 'credibly', 'wordsactions', 'creds', 'credulous', 'cree', 'creeped', 'creepiness', 'wordpressdotcom', 'creepytriggering', 'creflodollar', 'crematedgtno', 'cremation', 'creme', 'crepes', 'crept', 'crescendo', 'cretinlist', 'crewlovekrazy', 'crewnecks', 'crhedrys', 'criar', 'cribbing', 'wordplay', 'wordnuvola', 'crickets', 'worddealbreakers', 'crimea', 'crimeampmaltreatment', 'crimefiction', 'wordaction', 'crimimal', 'worandthatd', 'criminalbut', 'criminally', 'criminalsm', 'criminalthats', 'crimzilla', 'woozykam', 'cringeee', 'cringing', 'crippled', 'crips', 'crise', 'crises', 'woozy', 'cristoballin', 'critica', 'criticalkaiju', 'criticallywho', 'wooser', 'woooowwww', 'criticizes', 'woooowwow', 'criticreloaded', 'critiqueshes', 'critize', 'crj', 'crnctmarkampì½', 'croaked', 'crochet', 'crock', 'crocodile', 'crocs', 'croix', 'cromage', 'cron', 'cronies', 'cronkitesays', 'crony', 'crooks', 'cropped', 'crops', 'crores', 'woooow', 'crossbreed', 'crosscheck', 'crossdressing', 'wooooow', 'crossings', 'crossword', 'crowbar', 'wooooooow', 'crowded', 'crowdfunded', 'crowed', 'crowguye', 'crowlberg', 'crowned', 'crownkakashi', 'crownxroyal', 'croydon', 'crqa', 'crtfct', 'crtin', 'crucial', 'crucifixion', 'crucify', 'crude', 'crudely', 'wooooooorst', 'cruelly', 'woooooooooow', 'crueltybcoz', 'crueltytoanimals', 'cruelyear', 'cruise', 'cruiserweight', 'crule', 'crulity', 'crumbled', 'crumpet', 'crunch', 'crunkboy', 'wooooo', 'crusadist', 'woooh', 'crushingbort', 'crust', 'crutch', 'crybabies', 'crybully', 'wooo', 'cryptic', 'cryptonari', 'crystalyn', 'crystbot', 'crzy', 'crítica', 'csa', 'csgo', 'cshallwriter', 'csn', 'cspanjnky', 'ctayyy', 'woont', 'ctfuu', 'ctfuuuu', 'ctheisco', 'cthrasherz', 'ctmagazine', 'ctmf', 'ctmurfy', 'ctp', 'ctr', 'ctrl', 'ctry', 'cu', 'cuba', 'cube', 'cucinelli', 'cucked', 'cucks', 'cucumber', 'cuddled', 'cuddles', 'cuddly', 'cueil', 'cuenta', 'cuentas', 'cuentos', 'cues', 'cuffin', 'cuffs', 'cuhz', 'cuida', 'cukup', 'culinary', 'cullanmako', 'culpa', 'culpritdamn', 'wooly', 'cultcha', 'cultivate', 'cultivated', 'cultivation', 'cultofvivian', 'cults', 'woolwich', 'culturekills', 'culturespecifically', 'woohoo', 'cumberbatch', 'cumonmechino', 'cumpadre', 'cumple', 'cumpleaños', 'cums', 'cumuo', 'cumð', 'cunce', 'cunliffe', 'cunning', 'cunningham', 'woody', 'cuntasaurus', 'cuntdid', 'cuntgod', 'cuntish', 'cuntjust', 'cuntly', 'cuntofahead', 'cuntry', 'woodworks', 'cuntstill', 'cunty', 'cuntyou', 'cuntyrih', 'cuomo', 'woodward', 'cupcakedamiles', 'cuphead', 'cupped', 'cuprit', 'cups', 'cupu', 'curates', 'curb', 'curbing', 'curbstomped', 'woodside', 'curdle', 'cures', 'curhatadmin', 'curing', 'woodpile', 'curiousdo', 'curioussealion', 'curl', 'curliesue', 'curling', 'curlsandsports', 'curlsgoddess', 'curlyyheaadd', 'currencies', 'currency', 'currencylisten', 'woodland', 'wooden', 'currentprevious', 'currents', 'curriculums', 'curry', 'curses', 'cursive', 'cursoshoras', 'curt', 'curtsies', 'curvables', 'curve', 'curved', 'cussed', 'cussin', 'cust', 'custard', 'custodian', 'wontttt', 'wontonlui', 'cuted', 'cuteemergency', 'cutemadeleine', 'cutesss', 'cutesy', 'cuties', 'cutigerbruce', 'cutlery', 'cutlet', 'cutoff', 'cutscene', 'cuuuute', 'cuzykim', 'cuzzo', 'cvaldary', 'cvoter', 'cvpayne', 'cwade', 'cwknews', 'cwoodfield', 'cws', 'cwyka', 'cx', 'cy', 'cya', 'cyandvai', 'cyberbulled', 'cyberbulliedutmsourcenewsletteramputmmediumemailamputmcampaigncontentampeidampbidampfbclidiwarlmzsl', 'cyberbulling', 'cyberharassmentcyberbullying', 'cybernova', 'cycling', 'cyclist', 'cyclists', 'cyclone', 'cycopplelops', 'cylinders', 'cynated', 'cynthiadritchie', 'cypheroftyr', 'cyprus', 'cyrilramaphosa', 'wonderfull', 'cyruss', 'câmera', 'cê', 'cómo', 'daaaaaaaad', 'daaaaamn', 'daaaamn', 'daarulislamcom', 'daauntouchable', 'dab', 'daban', 'dabbled', 'dabears', 'dabiq', 'dablackjesus', 'dacieimapinkbee', 'womenyoud', 'dada', 'dadahati', 'daddygang', 'dade', 'dadeycall', 'dadfuck', 'womensweeklymag', 'dadtennis', 'dae', 'daech', 'daechwita', 'daeish', 'daes', 'daeshbags', 'daetiesv', 'dafallen', 'daftlimmy', 'dafuq', 'dag', 'daggy', 'dahhh', 'dahir', 'dahlia', 'dahliasin', 'dahlkmper', 'dahodgson', 'dahomiefuzz', 'dai', 'daibhidc', 'womenshistorymonth', 'dailydot', 'dailykos', 'dailymail', 'dailymirror', 'dailyxlover', 'dain', 'daines', 'dairemaureen', 'dairemcgilloway', 'dairy', 'daizak', 'dakota', 'dakotacoy', 'dal', 'dalal', 'dalburecht', 'daleindenver', 'dalek', 'daletvavdalet', 'womensday', 'womensay', 'dalitslol', 'dalrymple', 'dalsunnah', 'damado', 'womenpreachers', 'damagedestruction', 'damagedmagamind', 'damages', 'damedavis', 'damelio', 'damemagazine', 'damian', 'damianferia', 'damianmichael', 'damienprincejr', 'womennot', 'damncoons', 'damnukat', 'damocles', 'damolatomas', 'damseling', 'womenishuman', 'danaleigh', 'danaperino', 'danashtreelane', 'womenintheworld', 'danced', 'dances', 'dancingblue', 'dancohen', 'dandakich', 'dandebuf', 'dandiedinmont', 'dando', 'dane', 'dange', 'womenintech', 'dangerfirst', 'womeninminstry', 'dangertiny', 'dangitobama', 'danica', 'danidanidaniii', 'danieelady', 'danieimao', 'danielandrewsmp', 'danielbshapiro', 'danielcoletta', 'daniele', 'daniellesucher', 'danielpetty', 'daniels', 'danielzklein', 'danimal', 'daninicole', 'danis', 'danish', 'dankfrogmusic', 'danklionprince', 'womenindian', 'dankula', 'danman', 'dannyo', 'dannyskywalker', 'dannyvelasco', 'dannyyonce', 'dans', 'dantasrodolfo', 'dante', 'dantomlinson', 'danyeahenvyme', 'danzara', 'danzierlea', 'daprast', 'daps', 'daquelas', 'womengirl', 'dara', 'daraa', 'daraghobrien', 'darah', 'darden', 'womenempowerment', 'darealkha', 'dargah', 'dari', 'darienamber', 'daringly', 'womenempowered', 'darkboyish', 'darkdume', 'darkeanjel', 'darkedgy', 'darken', 'darkgorey', 'darkhours', 'darkies', 'darkknightgg', 'darkly', 'darkmoon', 'darknightt', 'darks', 'darkskinn', 'darkskn', 'darkstash', 'darky', 'darlin', 'darlings', 'darlingsweetie', 'darlingwestallen', 'darraghfrawley', 'darrellhall', 'darrencollison', 'darrencriss', 'darrenkopp', 'darrenshome', 'darrenwilson', 'darriusreese', 'darthconans', 'darthkbub', 'darthschmoo', 'darthven', 'darwinism', 'darwinlp', 'darxtorm', 'daryl', 'darylmansbridge', 'darynjones', 'daseetmane', 'dashed', 'dasher', 'dashers', 'dasia', 'dassitcause', 'dastard', 'womendefyukip', 'womenand', 'datacenter', 'datacentre', 'datdamntwill', 'datdudedamon', 'womenamp', 'womenall', 'datemarry', 'datemyfamily', 'womenagainstfeminis', 'womenagains', 'datingadvice', 'datinghttpbitlywsabookstore', 'datniggatykee', 'datnofact', 'datpiffhomie', 'datrhemboy', 'datyellaboi', 'dau', 'daucanthave', 'daughghters', 'wombatoverlord', 'davallone', 'daveowens', 'daveyonef', 'womanwow', 'davidalice', 'davidcameron', 'davidcleevely', 'davidfeild', 'davidfranzen', 'davidiclineage', 'womanwomen', 'davidjones', 'davidklion', 'davido', 'davidpatmichelle', 'davidrobertsss', 'davidsons', 'davidvjones', 'davidvonderhaar', 'davidwoods', 'davina', 'davincibeau', 'daviscleveland', 'womanwhoever', 'dawgs', 'dawik', 'dawkins', 'dawlaaaccount', 'dawlah', 'dawlahaccount', 'dawnward', 'dawnya', 'dawood', 'dawoods', 'dawseyslinstead', 'daww', 'dawwww', 'womanu', 'dayamp', 'daydreams', 'dayesh', 'dayfianceselfquarantine', 'dayfiancetheotherway', 'daying', 'daylin', 'daynot', 'womanswork', 'daysdo', 'dayshe', 'dayssss', 'daysweeksmonthsall', 'daytona', 'dayum', 'dayuummm', 'dayyepteens', 'dayyyy', 'daza', 'daziley', 'dazzacamilo', 'dazzythemermaid', 'daí', 'dañada', 'db', 'dbabholloway', 'dbd', 'dbhateweek', 'dblcheesemeeks', 'dbongino', 'dbrozz', 'dbz', 'dbza', 'womanright', 'dcdeacon', 'dchrysostom', 'dck', 'dcks', 'dclaude', 'dcopee', 'dcrap', 'dcstarkey', 'dcvstorm', 'dcyoungfly', 'dd', 'ddbomont', 'ddeadheadd', 'ddnali', 'ddos', 'ddrugskids', 'ddstyy', 'dea', 'deaannnaakatie', 'deacons', 'womanly', 'deadhomosexual', 'deadlaced', 'deadliest', 'deadlifted', 'womanladyfemale', 'deadme', 'deadname', 'deadset', 'deadt', 'womanizing', 'deafening', 'deafgirl', 'deafness', 'deaky', 'womani', 'womandriver', 'womanbeater', 'deaming', 'deandowning', 'deanieswienies', 'deanmachine', 'deanofcomedy', 'dearest', 'dearly', 'dearnamay', 'dearsarah', 'dearx', 'deathno', 'deathrape', 'wolfhis', 'deathssmhwhat', 'deaththreats', 'deauna', 'deb', 'debaixo', 'debarked', 'debases', 'wolferfly', 'debatido', 'debbie', 'debe', 'debhitchens', 'debi', 'debilitates', 'debonair', 'debraeva', 'debtdebate', 'debunk', 'debunking', 'debuts', 'deca', 'woketake', 'decedents', 'deceive', 'deceived', 'wohoo', 'decentuntil', 'decept', 'deceptive', 'wogfood', 'decidebut', 'woes', 'decimated', 'decimatedme', 'decimating', 'decipher', 'decir', 'decirme', 'wocracial', 'decked', 'declarations', 'wocka', 'declaring', 'declears', 'declining', 'decolonisedsoul', 'deconstraucted', 'wobblechops', 'deconstructs', 'decorates', 'decorating', 'decorations', 'decrease', 'decreased', 'decreases', 'decreasing', 'decree', 'decriedfor', 'decry', 'decrypt', 'dededeconstructed', 'dedicate', 'dedicating', 'dedinho', 'deductible', 'deductions', 'deedhe', 'deedontplay', 'deedscruelty', 'deefizzy', 'deefrmupt', 'deegy', 'deekhade', 'deela', 'woahhhhh', 'deepak', 'deepdown', 'deepest', 'deepltlt', 'woahh', 'deepstatewho', 'deer', 'deeun', 'woahbritney', 'defames', 'defect', 'defective', 'woaaahhxcassidy', 'defendant', 'wnyc', 'defenderse', 'wns', 'defenition', 'wno', 'defenseunits', 'defensoria', 'deference', 'deferential', 'deff', 'deffo', 'defiance', 'defiant', 'defiantly', 'deficiencies', 'defiencey', 'definatley', 'definatly', 'wniggers', 'wndrlst', 'defineobamainoneword', 'definetely', 'wnbaill', 'defjamrecords', 'deflected', 'deflection', 'defleee', 'deformed', 'defriended', 'defriendlytroll', 'deft', 'defundschools', 'defundthebbc', 'defundthepolice', 'defundtheschools', 'defundtvdsb', 'degeneracy', 'degenerates', 'degeon', 'wn', 'degrassi', 'degrassie', 'degrassigtgtgtgtgt', 'deh', 'dehneh', 'dehumanise', 'dehumanising', 'dehumanizes', 'dehza', 'dei', 'deigo', 'deion', 'deism', 'deities', 'deixamos', 'dejacqq', 'dejaymattyd', 'dejected', 'dejen', 'dejuane', 'dekecked', 'dekingtweet', 'wme', 'delare', 'delay', 'delaybieber', 'delays', 'delco', 'dele', 'delectable', 'delegates', 'delenafan', 'delenasdictator', 'wmds', 'wmd', 'deletes', 'deleuthère', 'delfuego', 'wmc', 'delhigenocide', 'delhistop', 'delia', 'delibernation', 'delibird', 'wmany', 'deliciousgood', 'delight', 'delinquents', 'delito', 'deliver', 'delivering', 'delivermost', 'delivers', 'dell', 'dellerka', 'dellvink', 'deloca', 'deloitte', 'delongcombaldwin', 'deltabluesking', 'delude', 'deludedrt', 'wmales', 'wlove', 'deluxe', 'deluxxe', 'wlocation', 'demagogue', 'demais', 'wlm', 'demandar', 'demasiado', 'demean', 'demeanor', 'demen', 'demetrigoinham', 'demie', 'demitrisfeast', 'demo', 'democracies', 'wlkn', 'democracythe', 'wlem', 'democraticchristian', 'wlcmizzle', 'democratsliberals', 'demogoguery', 'demolition', 'demongd', 'demonic', 'demonically', 'demonizes', 'demonstrate', 'demonstrates', 'demonstrators', 'demonzined', 'demoralize', 'demos', 'wlarge', 'demuestra', 'demure', 'demzartiste', 'dena', 'denaj', 'dendi', 'dene', 'denegration', 'dengan', 'denge', 'dengue', 'deniability', 'deniable', 'denialand', 'denials', 'denicewilliams', 'denier', 'denigrating', 'denim', 'denise', 'denisedn', 'dennieta', 'dennisfields', 'denom', 'denominational', 'denot', 'denotation', 'denotes', 'denouncedtwo', 'denouncement', 'dens', 'densedence', 'densely', 'densest', 'dentist', 'denunciar', 'denunciare', 'wks', 'wkkwk', 'deo', 'deoband', 'deobandi', 'deosh', 'deosnt', 'departed', 'wkamaubell', 'departure', 'depe', 'depended', 'wkakabhsa', 'depens', 'depenthene', 'depicts', 'depleting', 'deployment', 'deployments', 'depo', 'depoimento', 'deport', 'deporting', 'deposit', 'deposition', 'deppedropaulo', 'depraved', 'deprecating', 'depress', 'depressant', 'wk', 'depressedsuicidal', 'depressingly', 'wjere', 'depressionanxiety', 'deprive', 'deprives', 'depriving', 'depts', 'dera', 'deradicalize', 'derail', 'derailment', 'deram', 'deramazinglarry', 'derank', 'derby', 'deregulated', 'derek', 'derekbisaccio', 'derelict', 'deriding', 'derisive', 'derisively', 'derivative', 'derivatives', 'derives', 'wizzyonpoint', 'derogatoryabusingdisgusting', 'derricklofton', 'derrrppppp', 'derrwe', 'desanuvio', 'descended', 'descending', 'descends', 'descobri', 'desconcentras', 'descretion', 'wizputer', 'descrimatory', 'descriptor', 'desde', 'desean', 'desent', 'wizards', 'wizardry', 'deservedly', 'wizardofcause', 'deseve', 'desgraça', 'deshdrohiquint', 'deshon', 'desi', 'designampengineering', 'designing', 'desiporn', 'wiveslots', 'desireddisaster', 'desist', 'desoto', 'despair', 'despeaux', 'wiv', 'desperateand', 'desperfecta', 'despilfarro', 'wittering', 'witted', 'desposit', 'despot', 'wits', 'desserts', 'destabilizes', 'desth', 'destintrueheart', 'destinyfaith', 'destinysteffy', 'destitute', 'witriando', 'witou', 'destroyer', 'destroyers', 'wito', 'destructed', 'witnesstoallah', 'destructionthen', 'det', 'detach', 'detached', 'detailing', 'detainingtoturing', 'detastes', 'detected', 'detentions', 'deter', 'determining', 'detesto', 'dethe', 'dethroning', 'detonate', 'detox', 'detractors', 'detrimental', 'detriot', 'detroitpistons', 'deu', 'deusexjuice', 'deuteronomy', 'deutschbags', 'withyousonunigam', 'devalue', 'devalues', 'withyhe', 'develope', 'developerweek', 'withrepost', 'developmentally', 'devesine', 'devestating', 'devi', 'deviates', 'deviations', 'devido', 'withoutboundaries', 'devilcrayon', 'devilgrimz', 'devilish', 'devillike', 'withlike', 'devin', 'devindelacruz', 'devinfinnpv', 'devinnunescow', 'devinnunesspine', 'devinthegreat', 'devision', 'devitoutmsourcetwamputmmediumindieelfamputmcampaignsnap', 'devlin', 'devnagari', 'devnull', 'devnullsa', 'devon', 'devorandolivros', 'devoring', 'devote', 'devotees', 'devotes', 'devour', 'devoured', 'devoutly', 'devoutness', 'devweek', 'dewa', 'dewana', 'dewasa', 'dexisdope', 'dexybailman', 'deyy', 'dezdlt', 'dezypoo', 'dfacts', 'dfapatterson', 'dfkm', 'dfujioladfshjiofdyy', 'dg', 'dgaf', 'dgag', 'dgfurr', 'dgirl', 'dgotbricks', 'dh', 'dhaka', 'dhaminitee', 'dhandha', 'dharam', 'dharna', 'dhere', 'dhhf', 'dhimmi', 'dhis', 'dhjdfhsk', 'dholmeswilliams', 'dhoni', 'dhruv', 'dhs', 'dhscs', 'dhsgov', 'dhuashudsahudahsu', 'dhunter', 'dhusman', 'withits', 'diabetes', 'diabetic', 'diabetics', 'diagnosed', 'diagnoses', 'dial', 'dialogues', 'dialoguing', 'diametrically', 'diamondlakim', 'diamondloudkush', 'diamondrk', 'diana', 'diandrasallini', 'dianeabbottmp', 'withhlove', 'dianoite', 'diapering', 'diary', 'dias', 'diasaywhat', 'diasporaoflove', 'diatribe', 'diay', 'diazepam', 'dibellanyx', 'dic', 'diccckkkkk', 'dicetechjobs', 'dicey', 'dickadefied', 'dickampnigger', 'dickc', 'dicked', 'dickhavers', 'dickievblack', 'dickjuice', 'dickmayy', 'dickmorristweet', 'dicknixon', 'dickpics', 'dickpipe', 'dickpunch', 'dickriding', 'withdumb', 'dickslapyomama', 'dicl', 'dictated', 'dictatorial', 'withdrawals', 'dictatortrump', 'diction', 'withdrawal', 'dictionarycom', 'withdraw', 'diddealed', 'diddy', 'didi', 'didiot', 'didit', 'didlix', 'witchsistah', 'didnâ', 'dido', 'didt', 'didyoukknow', 'didyouknow', 'witchs', 'dieddd', 'dieeee', 'diego', 'diegodondiego', 'diegos', 'dieing', 'dielol', 'diem', 'diesal', 'dieta', 'dietrich', 'diezyn', 'dieâ', 'difama', 'diferente', 'diferenças', 'witcha', 'witamp', 'differentiated', 'wita', 'differenttime', 'differing', 'wist', 'diffrence', 'diffrent', 'diffrnt', 'dificil', 'difollow', 'difrient', 'difícil', 'wismertrashcry', 'diga', 'digby', 'diggers', 'wishthtz', 'diggysimmons', 'digitalsoc', 'dignify', 'wishlist', 'digress', 'digust', 'digusting', 'diiegofernando', 'dijo', 'dikahate', 'dikalangan', 'dike', 'dikhta', 'dikucilkan', 'dilawan', 'dilettante', 'diligence', 'dillonchaissonn', 'dillonmcbride', 'dimag', 'dimaggio', 'dimension', 'dimento', 'diminishes', 'diminishing', 'dimitristourist', 'dimmest', 'dimms', 'dimner', 'dinajpur', 'dine', 'dineo', 'diner', 'dineros', 'dinesh', 'dineshdsouza', 'dinfection', 'dingbat', 'diniccc', 'dining', 'dinosaurs', 'dintolérant', 'dio', 'dion', 'diongkoshha', 'dionisios', 'diot', 'diotfethiye', 'dioxide', 'diplodocus', 'diplomat', 'dipping', 'diprofam', 'dipwad', 'wiser', 'wisely', 'directely', 'directhex', 'directionators', 'directioner', 'directive', 'wiretapping', 'directories', 'directory', 'direhellswan', 'direção', 'dirigida', 'dirilis', 'dirrector', 'dirtbagdaryl', 'dirtbags', 'dirtier', 'dirties', 'wire', 'dirtygate', 'dirtygurdyat', 'dirtyu', 'wirathu', 'disabilites', 'disabilityall', 'disable', 'disabused', 'wipecan', 'disallowing', 'disappearing', 'winnipeg', 'disarmament', 'disassociating', 'disbanded', 'disbanding', 'disbarbarr', 'disbelieves', 'discarded', 'discern', 'discharge', 'disciple', 'disciples', 'disciplinary', 'disciplined', 'disciplinedseriously', 'disclose', 'disclosing', 'discomfort', 'disconairobi', 'disconcerting', 'discontinued', 'winnerphyg', 'discounting', 'discouraging', 'wink', 'discovery', 'discreditwind', 'discribe', 'discrimina', 'discriminada', 'wining', 'wingzero', 'discriminationif', 'discriminationracial', 'discriminative', 'discriminatry', 'discription', 'disculpo', 'wingo', 'winging', 'winger', 'discussionsgt', 'discusting', 'winged', 'diseasefearpovertyconfusion', 'disekolah', 'disembowel', 'disempower', 'disendorsement', 'disengage', 'winfrey', 'disgraced', 'disgracing', 'disgruntledtory', 'disgruntlegamer', 'winehouse', 'windyoure', 'disgustinglt', 'disgustingthank', 'disgustingthen', 'disgusts', 'windy', 'disheartening', 'dishing', 'dishonesty', 'dishonorably', 'dishonoring', 'disinformation', 'disini', 'disintegrated', 'disjointed', 'windseeker', 'disloyaltogod', 'dismal', 'dismembered', 'disneyland', 'disneylands', 'diso', 'disorderly', 'disordersampa', 'disordersuicide', 'disorganized', 'disowned', 'disownment', 'dispatch', 'dispatched', 'dispensing', 'displace', 'displacing', 'windless', 'disprove', 'disproved', 'disproven', 'disputable', 'disputes', 'disqualification', 'disqualifies', 'disregarding', 'disrepectful', 'windefend', 'winded', 'disrespectfulpoint', 'disrespectfulsurei', 'winchester', 'disrespects', 'disrupted', 'disruption', 'disruptions', 'dissant', 'dissapointed', 'disse', 'dissentand', 'dissertation', 'disses', 'winches', 'distanz', 'distinctives', 'distinctly', 'distinguishing', 'distortions', 'distracted', 'distractions', 'distrbuting', 'distressed', 'distribute', 'distributes', 'distribution', 'wimpiest', 'distroy', 'distruction', 'distructive', 'disturber', 'disuade', 'dit', 'diverage', 'diversesoles', 'diversion', 'diversityandinclusion', 'divert', 'divertido', 'divest', 'divideandconquer', 'wilt', 'wilstone', 'divisional', 'wilson', 'wilmington', 'willyummm', 'divorces', 'divorcing', 'divulge', 'diwan', 'dix', 'diya', 'dizendo', 'diznik', 'dizure', 'dizzy', 'dizzyyl', 'djakxen', 'django', 'djarmani', 'djcarnage', 'djcpi', 'djdk', 'djenttherogue', 'djfoota', 'djgolf', 'djkootz', 'djohnsonbear', 'djona', 'djp', 'djphatkid', 'djranx', 'djsyfer', 'djt', 'djzense', 'dk', 'dksjfsjjgjfjsjfj', 'dkslsksm', 'dlacepanties', 'dlangille', 'dlatham', 'dlatn', 'dlcutnstyle', 'dld', 'dleemand', 'dliming', 'dllvllhllvllb', 'dloesch', 'dlowtt', 'dlt', 'dlu', 'willygoncalves', 'dmaffatato', 'dman', 'dmataconis', 'dmballsohard', 'dmcconahay', 'dmd', 'dmelliottjr', 'dmg', 'dmoneystackinn', 'willthat', 'dmvargas', 'dmx', 'dn', 'dnas', 'willsits', 'dnd', 'dnddns', 'dne', 'dnl', 'dnp', 'willsecurity', 'doable', 'doas', 'dobemeister', 'dobetter', 'dobeydobin', 'wills', 'docbastard', 'docfind', 'docile', 'docked', 'docker', 'docnever', 'docrocktex', 'docssource', 'docthompsonshow', 'willpower', 'doctorj', 'willow', 'doctorsensation', 'docu', 'documentaries', 'documents', 'dodadrew', 'dodds', 'dodged', 'willmcavoyacn', 'dodgersfan', 'dodges', 'dodging', 'dodgy', 'dodos', 'doedumb', 'doefam', 'doen', 'doent', 'doers', 'willlsutrack', 'willis', 'doesnot', 'doesreally', 'doest', 'doeth', 'dogannewsagency', 'dogbot', 'dogbountyhunter', 'dogcat', 'dogeismyt', 'dogess', 'dogfood', 'dogged', 'dogging', 'doggystyle', 'dogras', 'williebrownbear', 'dogsand', 'dogscaged', 'dogshit', 'dogsplained', 'doherty', 'willieb', 'willie', 'doingas', 'doings', 'doingthinking', 'dois', 'doiseydoisey', 'doitlikekayla', 'doiâ', 'dojacat', 'dojhakh', 'dojo', 'dokey', 'doling', 'williamshatner', 'dollard', 'dollarsnow', 'dollydntbscared', 'dolphhhhh', 'dolphin', 'dolphinbay', 'dolphins', 'dolt', 'dolts', 'dom', 'domcitriglia', 'domestestic', 'domestich', 'domesticintimate', 'domesticviolence', 'dominantamponly', 'dominantmind', 'willgoi', 'dominates', 'dominator', 'dominicankiiid', 'dominiccummings', 'domkops', 'dommisanchez', 'dommoneek', 'domsicilian', 'willferrell', 'donaldcome', 'donaldtrump', 'willentrekin', 'donatello', 'willed', 'doncha', 'doneal', 'doneee', 'doneeee', 'doneit', 'doneone', 'donewithbots', 'dong', 'dongerz', 'donghae', 'donghyuck', 'dongwoo', 'donidoll', 'willbrianna', 'donlemon', 'wilkins', 'donnelly', 'donnie', 'donomarar', 'donor', 'donors', 'dontbelievethehype', 'dontbemadatmebecause', 'donteltaylor', 'dontemacc', 'dontfetit', 'donthate', 'donti', 'dontletthebehaviourofothersgetyoudown', 'dontopps', 'dontraiseabully', 'dontrushme', 'dontteaseher', 'dontwannatalkaboutit', 'dontwanturfizzystick', 'donut', 'donutking', 'donwinslow', 'donyafox', 'dood', 'doodz', 'dooner', 'doonly', 'doonsquad', 'doooooe', 'doorcause', 'doorknobwe', 'doormat', 'wiles', 'dopamine', 'dopenusss', 'dopes', 'dopeshitt', 'dopeywhitepeoplearepissedtonight', 'dor', 'doramaaar', 'dorkien', 'dorm', 'dormant', 'dorme', 'dormir', 'dormirsh', 'dormitories', 'dorolfe', 'dory', 'wildyetdivine', 'dosayyou', 'dosddos', 'doshit', 'dosier', 'dosnt', 'dosto', 'dotheyreallyknow', 'wildwingback', 'doublebirdexit', 'doubled', 'doubledumbass', 'doublenigga', 'doublespeak', 'doublestandards', 'doublewhammy', 'doublez', 'wildwildchallenge', 'doubtful', 'douch', 'doudi', 'douevenpraise', 'dough', 'dougiedonnelly', 'douglasbot', 'doujinshis', 'douts', 'dove', 'doves', 'dowe', 'downabuse', 'downey', 'downlincoln', 'downloading', 'downneither', 'downsnds', 'downsouth', 'downstairs', 'downstroke', 'downtime', 'downtrodden', 'downvotes', 'dowry', 'doxing', 'doxxedraided', 'doxxers', 'doxxes', 'doyourjob', 'doyourthing', 'dpa', 'dpet', 'dpreston', 'dps', 'dpwain', 'wildness', 'drabbaskadhim', 'dracko', 'drafty', 'wildlife', 'dragapult', 'draggers', 'wildin', 'wildflowercases', 'dragonball', 'dragonite', 'dragonrisingii', 'dragons', 'dragslike', 'drain', 'draining', 'draintheswamp', 'drakeula', 'wildest', 'dramaa', 'dramathe', 'wildcat', 'dramatica', 'dramatically', 'dramatweetbrad', 'dramedy', 'draper', 'drapes', 'drascos', 'draskco', 'wildcard', 'draskodrongo', 'draughts', 'drawings', 'drawls', 'wiladat', 'drawstring', 'draya', 'drbiden', 'drbobbyflavor', 'drbynum', 'drcquaker', 'drct', 'drdre', 'dread', 'dreading', 'dreadzonswagg', 'wil', 'dreamcast', 'dreamcometrue', 'dreamdream', 'dreamer', 'dreamers', 'dreamies', 'dreamon', 'dreamteam', 'drebae', 'dregs', 'drein', 'drenched', 'drepharaoh', 'dres', 'dresaura', 'dresdencodak', 'wii', 'wiht', 'dressedbydre', 'dressers', 'dressingbeing', 'dresstokili', 'drevilgamer', 'wiggum', 'drewmistak', 'drexmcxtch', 'drfathm', 'drharshvardhan', 'dried', 'drillbit', 'driller', 'drills', 'wiggers', 'drinkdo', 'drinker', 'drinkin', 'wigger', 'drinkinggenerally', 'wiger', 'drip', 'drivemaneuveroperate', 'wiff', 'driverless', 'wifeys', 'drivingparking', 'drizzyhendrixxx', 'drjasonjohnson', 'drkafeelkhan', 'drlovegrove', 'drogas', 'droid', 'dromerstein', 'droog', 'drooled', 'wifes', 'dropbox', 'droping', 'dropkick', 'dropof', 'dropouts', 'wifekids', 'droppin', 'wifed', 'droppped', 'drosephnostres', 'dross', 'drpd', 'drqadri', 'drqadrieffortstowardspeace', 'drreneeobey', 'drskyskull', 'drswamiwe', 'druck', 'drugfreenegro', 'drugged', 'druggies', 'druitt', 'druitts', 'druknuncle', 'drum', 'drumboss', 'drummed', 'drummer', 'drummers', 'drumming', 'drumpf', 'drunkgaming', 'drunkrape', 'drunksehn', 'drur', 'drxgzilla', 'drying', 'dryu', 'widowmaker', 'dsnt', 'dsouza', 'dsplaisted', 'dssjsj', 'dstfelix', 'dstrlidat', 'widowed', 'dtflikecaillou', 'dtiys', 'dtruth', 'du', 'dualambal', 'duane', 'dubainameshame', 'dubbed', 'dubes', 'dubhuk', 'dubinc', 'dubiousca', 'dublin', 'dubmasterc', 'dubs', 'duces', 'ducesettutamen', 'ducidni', 'duckdynasty', 'ducked', 'duckface', 'duckford', 'duckiemcphee', 'duckling', 'duckyface', 'duckyties', 'widespreadjewish', 'dudehe', 'duels', 'dues', 'dufourjw', 'dufresnefrank', 'duhhitsswinkelz', 'duhokpost', 'duhvos', 'dukevsunc', 'dulaneyl', 'dullard', 'dumba', 'dumbadmn', 'widening', 'dumbassfuck', 'dumbasshole', 'dumbdumb', 'dumbgoth', 'dumbignorantugly', 'dumbing', 'dumbledore', 'dumblmao', 'dumblondes', 'dumbnow', 'dumboutta', 'dumbppl', 'dumbracistpeople', 'dumbs', 'dumbslut', 'dumbthey', 'dumbtweets', 'dumd', 'dumgass', 'dumping', 'dumpy', 'dumuzi', 'duncan', 'duncanblackxxx', 'dunce', 'dundar', 'dundre', 'dung', 'dungeons', 'dunham', 'dunking', 'widd', 'dunnosomeguy', 'dunny', 'dunraven', 'dunyaeentest', 'duper', 'duping', 'dura', 'duration', 'durazzocover', 'duress', 'durham', 'timetable', 'fagg', 'handedly', 'frsc', 'eramos', 'eranubuwah', 'frozenwes', 'eraser', 'hecc', 'ginty', 'ginyu', 'erbdylovechris', 'giong', 'ercangun', 'frosstyy', 'giordanno', 'giovannitecchio', 'erdogans', 'wagegap', 'erdogen', 'giraffes', 'fronting', 'frontin', 'erdoğan', 'fromi', 'ereckizm', 'girisnotgrey', 'erection', 'fromcarl', 'weallgotthatonefriend', 'heavyweightlbs', 'frnkgerard', 'wealllaugh', 'frkn', 'girland', 'ericd', 'ericfarrisshow', 'heavens', 'fritz', 'ericgarcetti', 'heave', 'heatt', 'girlboylesbian', 'ericjohnson', 'girlbully', 'girldestructn', 'erickluna', 'heathermcintyre', 'heather', 'girldevorg', 'erickson', 'ericliptonnyt', 'ericpickles', 'ericsheppardchallenge', 'heathen', 'girldevweeks', 'girlfriendlong', 'heath', 'erictrump', 'erik', 'erikahhhgeee', 'frist', 'eriksonhayes', 'frisk', 'heartstrings', 'fringes', 'girlgone', 'heartlessfuck', 'erikvolson', 'frikin', 'girlin', 'heartflux', 'erinandrews', 'erinfayola', 'erinjmccarty', 'erinosullivan', 'heartfelt', 'frijoleto', 'frijoles', 'heartcapricorn', 'eritreaamp', 'eritrean', 'heartbreakzayy', 'erkthajerk', 'girlishness', 'heartbeats', 'frighteningly', 'ermagahdd', 'girllssues', 'ernestoaloia', 'erno', 'frightening', 'ernynattasha', 'girllt', 'erod', 'frighten', 'wahabies', 'girlmusic', 'hearsee', 'hearsay', 'girlone', 'hearn', 'hearingtelling', 'waterloo', 'frigging', 'girlsa', 'friggen', 'wahabis', 'errhhh', 'fries', 'erroneous', 'girlsboys', 'friendzone', 'girlsdark', 'girlshbo', 'wahabists', 'friendswhere', 'girlshigh', 'friendsthey', 'errtime', 'erry', 'girlsidk', 'girlsorry', 'erryone', 'heaped', 'heap', 'errywhere', 'friendsthat', 'wahhabi', 'ertogan', 'friendsteases', 'erudite', 'erummkhan', 'friendsofdonaldsterling', 'friendsma', 'healthlooks', 'wealthier', 'erve', 'erwin', 'erwindawson', 'eryanim', 'erynofwales', 'whips', 'esa', 'esaakimmy', 'friendseven', 'wealthiest', 'friendlyfemale', 'healthier', 'girlthey', 'girlthoughts', 'girlwoman', 'weaning', 'healthgovau', 'escalade', 'escalate', 'escalated', 'friendless', 'girlwomanfemale', 'heals', 'healers', 'whipping', 'friending', 'friendfamily', 'wahhabists', 'friended', 'friendand', 'weaponised', 'headteacher', 'headsup', 'headsthen', 'frien', 'headspace', 'escapes', 'girlygamerzbro', 'escaping', 'escapé', 'headscarves', 'eschew', 'fridaythoughts', 'fridays', 'wahhh', 'escolares', 'girlz', 'headremember', 'fridayfortnite', 'weaponising', 'escort', 'frickin', 'waterfallsmh', 'fricken', 'escreve', 'escrevi', 'girlð', 'girth', 'freund', 'headlock', 'headlineschristian', 'giselleox', 'gishomo', 'escribí', 'escuche', 'gist', 'headless', 'fretted', 'headhitsdesk', 'gita', 'escurando', 'esek', 'fresheners', 'esekasperr', 'weaponserdogan', 'wahr', 'esfuerzos', 'gitgitobiet', 'esilver', 'frequency', 'frenzyennie', 'eskender', 'esle', 'esmēe', 'frenzy', 'watered', 'esonomás', 'frente', 'wearamask', 'fren', 'freinds', 'freind', 'gitmo', 'headdress', 'freinchy', 'freguês', 'espanhol', 'esparate', 'giveashit', 'headdesk', 'headcoach', 'espelho', 'headbutts', 'givemebookspr', 'headbanging', 'freeyourmindkid', 'headbands', 'esperado', 'espinacas', 'espionage', 'headac', 'freetayk', 'whinnying', 'giveoutday', 'espnnfl', 'esposito', 'giver', 'espositos', 'espèce', 'freespeech', 'freer', 'watel', 'freepal', 'freeonrii', 'freemookpbdgtgtwhat', 'essanumtevenadaaver', 'givethemthenuts', 'hdpvr', 'givin', 'freemedialive', 'freemasonry', 'hdmovieus', 'hdkshajdkasdhakjsdhkjs', 'essence', 'watchyoureyebrows', 'whinging', 'essentialism', 'whingers', 'givâ', 'hcs', 'hcas', 'essentials', 'essexjimmy', 'gj', 'essstrasssget', 'freelion', 'hby', 'freeks', 'estabas', 'gkketch', 'hbrorg', 'hbo', 'hbluvsddlovato', 'establishmentexpansion', 'hbeezyyxoxo', 'estamos', 'freedomweve', 'estanek', 'estar', 'estará', 'gkmc', 'hazztrh', 'estates', 'gkrnours', 'whinge', 'estblshmnt', 'este', 'gktzrfmtwitter', 'estilo', 'freedomdemocratize', 'freedombruce', 'esto', 'estonian', 'hazzmurphy', 'hazrat', 'glaad', 'wearhouse', 'watchyoback', 'freedforgov', 'estranged', 'glade', 'estuda', 'haze', 'estudando', 'estudante', 'hazard', 'estudar', 'gladi', 'estão', 'gladiator', 'freebsdglri', 'freebsdgirlcom', 'hayyy', 'hayyney', 'hayymb', 'haywire', 'etcislam', 'etcso', 'hays', 'etctaliban', 'etcthank', 'etcthose', 'etcwho', 'haynes', 'eternalzz', 'eternamente', 'gladysmcgee', 'hayley', 'eternos', 'ethan', 'glam', 'glamisguy', 'glamorise', 'glamorous', 'ethically', 'whimsical', 'haylescomet', 'ethicsed', 'hayi', 'glamourfan', 'hayhenning', 'freeblowjbs', 'whims', 'glamping', 'freebandzoe', 'hayden', 'glance', 'hayaam', 'waifus', 'ethnical', 'hax', 'glanced', 'ethnicities', 'glancing', 'ethnics', 'hawnzdynasty', 'ethno', 'freebalochistan', 'eton', 'whilderbeast', 'freeahedtamimi', 'euclid', 'eugene', 'eugenegaytard', 'weaselly', 'eugenia', 'hawl', 'eugenilove', 'fredwimpy', 'eun', 'hawk', 'hawasi', 'eunhyuk', 'eunwoo', 'euphoric', 'eureka', 'eurekalertaaas', 'hawaiinshirts', 'frederick', 'hawaiians', 'euri', 'euro', 'whidmark', 'hawaii', 'freddy', 'europeanists', 'whey', 'freddieroach', 'europeanshope', 'hawa', 'haw', 'euuuuuuurggggh', 'havtoo', 'euxkckfd', 'havr', 'euy', 'glaserface', 'ev', 'waiiiit', 'freddiemachin', 'evaanddebra', 'fred', 'evacuated', 'evade', 'watchtweet', 'freckled', 'fatmackington', 'haveseveralseats', 'evalean', 'haves', 'evaluated', 'evaluation', 'glassesno', 'haveright', 'evangelicalnorm', 'glaucon', 'wherewithal', 'havergal', 'glazing', 'evangelicalsetc', 'freakysoboojie', 'evangilism', 'wail', 'havens', 'freakthebrave', 'freakshow', 'evanpeters', 'evansultana', 'evaryont', 'havem', 'haveing', 'evelyns', 'evenformysogynisticgaymen', 'wheremyfreaksat', 'freakoh', 'freakishly', 'eveningthe', 'evenknow', 'evenly', 'evens', 'wheremydrink', 'wher', 'gleamingrazor', 'everbody', 'everettcole', 'everliving', 'evernot', 'havedon', 'freakish', 'havainas', 'glen', 'everone', 'eversorry', 'glencompton', 'everthing', 'whenthepasideswithterroristsagainsthumanity', 'glenford', 'everybodys', 'freaken', 'hauwei', 'whenthe', 'everydaybut', 'freaked', 'weatherflood', 'everydayrobot', 'haus', 'fre', 'glenn', 'everydaythis', 'everydaytt', 'haunts', 'hauntedhuntsman', 'everythangparis', 'frazier', 'everythiiiiiiing', 'everythingdelete', 'everythinggggggg', 'everythingokay', 'frazercobb', 'everythings', 'glennbeck', 'everythingsupport', 'fraynkwash', 'everythingyou', 'glenneheath', 'watchnow', 'everythint', 'haunt', 'wheniwaslittle', 'haulinbass', 'frayers', 'fraught', 'hauhuha', 'glennkirschner', 'hauhauha', 'everywere', 'hauhaua', 'glew', 'everywhereand', 'glinners', 'hauha', 'evey', 'glitches', 'eveyone', 'glitching', 'hauahuahauahua', 'evidences', 'glitchworksart', 'glitchy', 'wheneveri', 'hatttte', 'fraudulence', 'evilanglistis', 'evildrumstick', 'glitter', 'evilgaywitch', 'hatts', 'hatters', 'evilonly', 'fraudtrump', 'hattao', 'evilsimple', 'evilsislam', 'evilsunbro', 'evilwins', 'fraudsdo', 'fraudscammer', 'evinjiyan', 'evn', 'evoked', 'evoking', 'fraudnaldo', 'gloat', 'evola', 'hatsune', 'evolutionary', 'hatredyes', 'hatredgreat', 'evolves', 'evolving', 'evry', 'evryone', 'evy', 'gloats', 'evâ', 'glob', 'wheels', 'hatori', 'ewaaaan', 'hatm', 'hatian', 'hati', 'ewr', 'hath', 'globalgrind', 'globalism', 'hatewhy', 'ewu', 'ewwjfnfn', 'fraternities', 'fratboy', 'waiter', 'frasesitesm', 'watchhtm', 'hatetheheat', 'waitingsex', 'globallyokay', 'ewwwww', 'haterqlo', 'frases', 'ewyoupeasant', 'haterif', 'hateri', 'franziska', 'exacerbate', 'globalterroristpakistan', 'watchg', 'exacting', 'hatenot', 'globealone', 'hatemy', 'franvalenzuelaa', 'globes', 'exactlyhe', 'hatemore', 'exagero', 'frantically', 'hatemongersterroristsanti', 'franosch', 'hatemonger', 'exaggerate', 'exaggeration', 'exagrating', 'frankzulla', 'globetrotters', 'frankyjacobs', 'hatemondays', 'globnewsen', 'examined', 'hateman', 'wheeeeeeew', 'whedonworship', 'hateignorance', 'glockenspiel', 'examplesits', 'frankworleypr', 'exastris', 'exceedingly', 'exceeds', 'excellence', 'hatefully', 'glockzrtr', 'excepting', 'waityoure', 'glogangricoo', 'exceptional', 'gloriamitchell', 'hatefilled', 'exceptionalism', 'hateerdogan', 'frankthatank', 'exceptionsthey', 'frankteezy', 'excercise', 'excerpt', 'hateee', 'excessive', 'glorify', 'waivers', 'frankston', 'waiving', 'hatched', 'franks', 'excite', 'gloryany', 'wajinga', 'frankiethedug', 'excitin', 'wheat', 'exclaimed', 'glorywhat', 'glove', 'frankies', 'glover', 'hasten', 'webapp', 'hasslingsorry', 'excludes', 'frankfutter', 'frankenstein', 'excluding', 'exclui', 'glowing', 'excluindo', 'frankencomics', 'exclusionist', 'glows', 'hassling', 'glsen', 'hassanrahman', 'hassanfarias', 'hassanen', 'gltterboots', 'exclusions', 'haslakid', 'haskell', 'exclusiveginger', 'hashtaglorenzo', 'hashtagging', 'hashtagged', 'excruciatingly', 'webber', 'gluttonous', 'exculpatory', 'gluttonyfringe', 'excusable', 'whe', 'gma', 'gmail', 'gmailcom', 'wakanabot', 'webbyhrt', 'franiiie', 'franhaswell', 'frandy', 'hashbronxbeast', 'gmana', 'frandlee', 'hash', 'excusemylanguage', 'gmanews', 'haself', 'gmatthewthurman', 'whch', 'excusesforthecrimeinwords', 'excusesno', 'gmb', 'francspays', 'francs', 'francos', 'hasbeen', 'francoroast', 'hará', 'whaã', 'gmfu', 'gming', 'gmmtv', 'gmorales', 'harvested', 'executions', 'gmp', 'gn', 'whatya', 'exegesis', 'exemplified', 'harvest', 'harvardlawdos', 'wakanda', 'exemptions', 'exept', 'exeptionally', 'whatwho', 'exercises', 'harus', 'harunyahya', 'harunomizuhime', 'harun', 'gnaa', 'haruka', 'exes', 'exfeminist', 'hartin', 'gnc', 'francissavage', 'francispiration', 'exhaustingthe', 'exhibit', 'gndbdurham', 'gnn', 'harshbro', 'exhibited', 'gnna', 'exhibiting', 'exhibitors', 'gnocchi', 'exhibits', 'exhile', 'harrythis', 'harrysteanson', 'harrysmallz', 'harrysmaje', 'francis', 'exile', 'harrymeisel', 'exiled', 'gnostic', 'francine', 'exilityyt', 'franchise', 'exis', 'whatup', 'exista', 'harryisaacjr', 'existe', 'gnsl', 'francesca', 'whattrained', 'whatthefuck', 'goa', 'goading', 'goalkeeper', 'franceamp', 'existential', 'wakeupcanada', 'goalpost', 'harrowing', 'goalready', 'webcam', 'framing', 'existiance', 'whatt', 'existzkclskdl', 'framework', 'harries', 'watchers', 'framed', 'exjizyacolector', 'exlepr', 'harrasss', 'goamad', 'exmpli', 'wasup', 'frags', 'exokmv', 'fragility', 'exonerate', 'goaters', 'harrasers', 'exore', 'harrased', 'harpy', 'exoticumg', 'exowhore', 'expaaaaand', 'expandschool', 'expanse', 'fracture', 'harpcast', 'harp', 'expectationsgot', 'whatsnextjake', 'goatscup', 'whatsershame', 'wakeupfools', 'expedient', 'expedition', 'goawaystupidhoe', 'harmrapegay', 'expeienced', 'gob', 'fraaanksalazar', 'wakeupgmmtv', 'webdev', 'gobbling', 'gobs', 'wakeuplibs', 'fqwindow', 'fps', 'fpictured', 'harmgay', 'gobshites', 'harmfuldisrespectful', 'fpdcmxamyqfiryskectkprsxdhjzqbwmmujzfowyhvxas', 'foâ', 'gobuymeabagbitch', 'whatobamataughtme', 'wasto', 'experi', 'godawgs', 'godblessamerica', 'harmas', 'foxysharingan', 'experienc', 'whatnots', 'godd', 'whatisname', 'wakingup', 'experiencemy', 'foxxyllama', 'foxxilove', 'whatilearnedtoday', 'foxxfiles', 'harlem', 'experiment', 'experimenting', 'harkat', 'goddammit', 'wastes', 'foxx', 'harimenui', 'foxsportsaus', 'goddamned', 'harijan', 'hargreavesrobin', 'harem', 'hare', 'hardyboyz', 'expierienced', 'foxsports', 'goddamnit', 'hardy', 'foxs', 'godequalssant', 'foxnewspolitics', 'foxnewsf', 'whati', 'whatfeminismgaveme', 'whatevs', 'godess', 'godfathers', 'explainjustify', 'hardship', 'weber', 'hards', 'whatevery', 'waktu', 'foxfire', 'explatives', 'godforbid', 'godfreyelfwick', 'godgivesuschoice', 'expletives', 'whatevers', 'hardliners', 'hardliner', 'exploded', 'foxcricket', 'hardline', 'exploitee', 'hardidk', 'exploiting', 'hardex', 'godholla', 'foxclaire', 'godjesus', 'foxanother', 'harde', 'explorer', 'explosion', 'explosive', 'webieberarmy', 'godlessutopia', 'godlike', 'foutn', 'harcèlement', 'exports', 'harbour', 'godliness', 'foustiran', 'whateverrrr', 'whateve', 'exposedso', 'whateva', 'foust', 'exposeislam', 'weblack', 'harboredlight', 'fours', 'exposequran', 'harbored', 'godmother', 'harbaugh', 'exposerealitytv', 'fountains', 'foundyall', 'godnasbrothers', 'walahi', 'exposethem', 'godofcyanide', 'exposin', 'whatdoesthismakeyou', 'harasssed', 'harassmentthreats', 'harassmentthen', 'godparents', 'wasteoflife', 'expounding', 'foundational', 'webnovel', 'walang', 'whatdamoufdo', 'godshave', 'harassingbullyingbitching', 'walao', 'websitebut', 'fotográfica', 'fotografías', 'whatd', 'expressive', 'fostering', 'godship', 'exprienced', 'godslord', 'exprncd', 'expul', 'exsist', 'harassedcalled', 'godsson', 'extended', 'extending', 'extends', 'waldorf', 'godthinks', 'extensioner', 'foryoupage', 'godthis', 'harassabuse', 'forwhat', 'harams', 'goducks', 'extensive', 'extensively', 'forwardracism', 'websiteu', 'haramjud', 'haramjebel', 'walee', 'haralddoornbos', 'extentwe', 'hara', 'exteremist', 'godzilla', 'wasteofaredcard', 'gofundme', 'whatchu', 'happyyyy', 'happypride', 'goggleboxau', 'gogis', 'happyits', 'externally', 'extinct', 'gogy', 'extinction', 'happyhumpday', 'extort', 'gohardorgohome', 'fortunatariany', 'waleed', 'gohjarrod', 'extortioners', 'happinesssafety', 'gohome', 'whatbullies', 'extraordinaire', 'happilyme', 'extraordinaryyou', 'forte', 'fort', 'forster', 'goid', 'whatboutry', 'happiiyellie', 'forsaken', 'goingmuslim', 'forrreal', 'happenshe', 'whataprick', 'forrest', 'whatanidiot', 'whataliseryouare', 'goingon', 'goingtobed', 'forrealthough', 'goits', 'extremistamptryin', 'extremistantisemite', 'walewsky', 'forradical', 'extremisthindutvahindu', 'whatacow', 'happenings', 'gojonnybananas', 'happeningbut', 'extremistschurning', 'extrovert', 'fornier', 'gokhle', 'extroverti', 'formspring', 'extrumist', 'walgreens', 'goku', 'happenedthe', 'extrêmement', 'wasshe', 'exxcusemypretty', 'ey', 'goldblues', 'eya', 'eyc', 'goldchanei', 'formerlegend', 'eyeballs', 'eyebrow', 'walkaway', 'happed', 'goldenbvllets', 'eyecandybihhh', 'haphazardly', 'hapendi', 'eyeing', 'goldeneraâ', 'eyekeem', 'hap', 'formatting', 'formatted', 'haoyangg', 'goldman', 'golem', 'eyelashes', 'golems', 'hanzo', 'hanya', 'hansen', 'wasps', 'golfdigest', 'hanovercountyva', 'eyelids', 'eyeliner', 'golfing', 'eyenotaye', 'forma', 'eyeo', 'eyeopening', 'eyerather', 'hanover', 'wedancedonce', 'hannitys', 'forlornparadigm', 'eyeshere', 'eyesight', 'eyeslam', 'forkbombing', 'golification', 'eyesonly', 'eyesopen', 'eyestrain', 'hannibalburess', 'eyesyou', 'eyesz', 'eyi', 'hannahw', 'gomez', 'ezekiel', 'foriegn', 'ezhenkhjen', 'hannahmcurtis', 'hannahmcialwain', 'ezidiz', 'hannahmathews', 'gomezfact', 'forhead', 'weddings', 'ezmacthedream', 'forgothisname', 'hannahdarking', 'ezra', 'gomorrah', 'wededartoe', 'ezusayjanis', 'forgo', 'hannahborland', 'hannahashpole', 'faaaavorite', 'waspointing', 'faaark', 'faahk', 'forgives', 'gonethey', 'faannn', 'hanksingle', 'fab', 'fabecook', 'hankering', 'fabianlassiter', 'fabinf', 'fabiodiz', 'fabioerenannoraulgil', 'fable', 'fabolous', 'wedgies', 'hangups', 'fabray', 'fabric', 'goneyet', 'fabricate', 'hangouts', 'hangin', 'fabrication', 'fabrications', 'fabrics', 'gong', 'forgettin', 'forgettable', 'facade', 'whatabout', 'wharton', 'gonig', 'gonn', 'facebooks', 'waslike', 'hangers', 'whars', 'facedown', 'facemasks', 'faceon', 'facepalming', 'facer', 'forgerycertifate', 'forgerybeheadingraping', 'gonsay', 'facert', 'whare', 'hanged', 'facetime', 'facetious', 'gonsw', 'forged', 'facets', 'haneeyyy', 'facetune', 'faceyb', 'forfather', 'gonzalezabjato', 'forevrr', 'forevr', 'fachel', 'goo', 'facialvideo', 'goobergrape', 'handwriting', 'facile', 'foreverpeazer', 'facilitate', 'facilitates', 'facilitating', 'foreverpalesa', 'handwring', 'handwara', 'goodbad', 'whamidiqb', 'goodbooks', 'wasim', 'goodbyegop', 'handsup', 'fackbar', 'goodbyes', 'faclc', 'facsist', 'whaling', 'goodcallrefs', 'factbookfieldshtml', 'foresee', 'handsomebeautiful', 'walkin', 'walkinlove', 'goodday', 'gooders', 'foreplay', 'factophobia', 'whale', 'factored', 'factorhaunts', 'goodfoodau', 'goodlol', 'handouts', 'foreignaffairs', 'factoring', 'factors', 'weeaboo', 'goodluckharry', 'factoryampbreeding', 'handout', 'whait', 'factsaboutme', 'goodluckwiththat', 'goodmenproject', 'wasi', 'factsand', 'factsmatter', 'forefront', 'factsmiley', 'factsoflife', 'forefather', 'foreeever', 'handling', 'forearms', 'foreal', 'fore', 'goodone', 'forcesargeras', 'handler', 'factuality', 'handleless', 'factwhite', 'goodstudent', 'walkyou', 'facul', 'faculdade', 'goodwill', 'forcehv', 'weeding', 'handidly', 'forcefulconversions', 'handguns', 'wallace', 'faelys', 'goofballrhy', 'handeozsoy', 'faelz', 'whacked', 'handednessunprofessionalism', 'forcec', 'frst', 'faggaot', 'grandchildren', 'fawkes', 'grips', 'grinning', 'fictionâ', 'ficou', 'gripusa', 'gringos', 'fico', 'fichte', 'ficarem', 'grindmode', 'grind', 'gritty', 'ficam', 'fica', 'fictitious', 'fid', 'grizz', 'fibromyalgia', 'fibres', 'grizzled', 'fiancee', 'fiance', 'grizzlies', 'fiddle', 'grjsmith', 'fiddling', 'fide', 'welovesue', 'fielding', 'fhrintp', 'fheykim', 'fh', 'fiercefemme', 'groan', 'fiesa', 'grimy', 'fife', 'fgs', 'fifi', 'fifimarques', 'grofaz', 'groom', 'fifths', 'groomed', 'figgnorance', 'fgkz', 'warehouses', 'groominggang', 'grimm', 'fggots', 'groovesamplinginventivenessvocal', 'grope', 'ffxiven', 'groped', 'ffviima', 'wellwhat', 'grilled', 'grill', 'grifting', 'grifter', 'ffrnn', 'griffiths', 'ffiufjfjkijgng', 'ffhelper', 'welltypical', 'fightersunlike', 'fffgfo', 'grossbut', 'grossed', 'grosses', 'fey', 'grossest', 'grossing', 'fighterswar', 'grossly', 'fevicol', 'feuds', 'feudalism', 'grosssss', 'wellthere', 'griffithbempah', 'fetus', 'fetullah', 'grosssssss', 'grotesque', 'fightingred', 'wellshes', 'fightsmall', 'figment', 'grieving', 'groundbreaking', 'grounding', 'grievances', 'groundless', 'fetishising', 'fetishises', 'groundwork', 'greyumopepisdn', 'fetch', 'figureheads', 'greysanatomy', 'feta', 'groupalsothere', 'groupchats', 'festivall', 'greyish', 'greyhound', 'welpppp', 'greygoose', 'groupfulani', 'figuresthe', 'greyaesthetic', 'groupi', 'warholss', 'groupies', 'fervour', 'wario', 'warcrimes', 'gretta', 'fiiiire', 'fertilizer', 'groveling', 'fertilized', 'fikile', 'fertilize', 'groves', 'warchina', 'gretchen', 'grenade', 'fertile', 'ferrogaysex', 'ferris', 'ferrets', 'growarticlecbfb', 'growi', 'ferrel', 'warched', 'growinguptrump', 'growl', 'wellllll', 'fernleex', 'filcab', 'fernands', 'wellll', 'warblerblaine', 'grownmanjones', 'gremlin', 'fernandoprados', 'filed', 'fernandesbuilt', 'filetxt', 'fernandarova', 'gregytrumob', 'grownup', 'filibuster', 'wellif', 'ferminlaura', 'warampjesusthis', 'fergusons', 'fergusonoctober', 'growup', 'growwwwww', 'welsh', 'ferdinandgouw', 'ferdinand', 'ferb', 'gregymc', 'filipinohtm', 'fer', 'gregtheterrible', 'grreeey', 'welli', 'feom', 'fender', 'grrm', 'fend', 'fencing', 'fence', 'gregskywilliams', 'femwarcult', 'grrr', 'femshevik', 'fills', 'femshep', 'grrrr', 'wellevilgelicals', 'filme', 'filmfestival', 'welldid', 'gregjaffe', 'filotto', 'grrrrrrrrrrr', 'femshaveballz', 'wellcounting', 'filtered', 'filtering', 'gru', 'grubby', 'filtersays', 'wellbeing', 'femmesinfridges', 'welfarequeen', 'femmefataleirl', 'wapolaying', 'grumpingjoking', 'filthyart', 'filthydegen', 'greggutfeld', 'finaestampa', 'grumpybozo', 'welfarebums', 'grumpypigeon', 'greggs', 'finaldaywitness', 'femists', 'grungiest', 'finalfive', 'femisnn', 'welding', 'gregbugden', 'finalstrike', 'feminized', 'financed', 'feministstheir', 'finances', 'welded', 'greetings', 'financing', 'welshken', 'findawife', 'grybranix', 'greeting', 'feministmirror', 'findchaos', 'grz', 'greeted', 'findin', 'feministlogic', 'gsims', 'findingmariah', 'findinvent', 'feministhulk', 'feministgay', 'welcometomanilaedsheeran', 'gsm', 'fineeee', 'feministfailed', 'finesse', 'finessinfool', 'finestsquad', 'greenyellow', 'gstatus', 'wapo', 'finethough', 'greenwood', 'feministbut', 'greenwill', 'fingering', 'feministamovie', 'feministajones', 'warlord', 'feministabulous', 'greenlight', 'welterweights', 'fingerprints', 'feminismsexismmisogyny', 'greenleaf', 'feminismislies', 'gtaladeva', 'greeneyes', 'gtasbullyreprinceofpersiastwistedmetalblacketc', 'feminismgender', 'gtaseries', 'welts', 'gtc', 'gtcalls', 'gtconwayd', 'gtd', 'wemon', 'gtdenies', 'gtf', 'feminaziyesjust', 'gtfeminazi', 'wanxiety', 'gtfolol', 'greencard', 'feminazism', 'fingertips', 'gtfuck', 'greenappletea', 'gtg', 'feminazilol', 'gtgo', 'wendi', 'femicide', 'finilly', 'femi', 'wantto', 'greedily', 'gtgtgtgt', 'wendie', 'femf', 'femenazi', 'femdom', 'gtgtgtgtgt', 'femboy', 'femanist', 'femals', 'gtgtgtgtgtgtgtgt', 'gtgtgtgtgtgtgtgtgtgtgt', 'femalesy', 'femalescall', 'weknowtherealharry', 'finishes', 'gtgtttt', 'femalejawan', 'finkd', 'femalei', 'femalehe', 'femalegirl', 'femalebloggerrt', 'wendyharmer', 'grecian', 'fema', 'felton', 'greatnessisme', 'wendys', 'gth', 'gtislamic', 'finn', 'weit', 'felons', 'greatfunny', 'greatful', 'wantsneeds', 'finsta', 'gtmal', 'greatfood', 'fiqh', 'fique', 'wendywilliams', 'greatestpresident', 'fiquei', 'warmest', 'gto', 'fellator', 'firaq', 'gtp', 'fellates', 'firebrazile', 'weiss', 'fellaslovebj', 'gtpredators', 'greatday', 'firefighter', 'gtrape', 'greatcompany', 'firehoses', 'firelaineylui', 'firelovie', 'gtrationality', 'felix', 'greatbrianlast', 'fireman', 'firepieces', 'greata', 'firethefool', 'firewall', 'felino', 'greasyshow', 'gtsome', 'gtvictim', 'weirds', 'gtyemen', 'gua', 'firmly', 'guala', 'feline', 'firs', 'firstbankngr', 'firstdont', 'gre', 'firsthavent', 'feliii', 'wantjust', 'firstidiot', 'felicity', 'guarda', 'wantin', 'guardianmusic', 'firstroundexit', 'firstthey', 'firstu', 'grd', 'firstyou', 'fisadi', 'feliciashahan', 'fishbwoy', 'feliciaaharris', 'grayoldhooker', 'gray', 'felder', 'guarding', 'fisherwoman', 'feldart', 'guatonsalinas', 'guccikea', 'gravy', 'fishing', 'gues', 'wannnnnaaaaa', 'feky', 'feku', 'fek', 'wannabully', 'feito', 'guesss', 'feistyfoodies', 'guesssing', 'gravitypike', 'fishlip', 'gravitydynamic', 'gravity', 'feio', 'fishtwat', 'feints', 'guetta', 'fishykissy', 'feinho', 'guezakibully', 'fisik', 'feilony', 'gugou', 'fisted', 'feilds', 'gugrou', 'feigns', 'feif', 'fister', 'weirdly', 'guhyoucrazy', 'feias', 'fitbit', 'fitbut', 'wannabees', 'fite', 'fitna', 'fitnah', 'guidlines', 'fehmida', 'fehimtastekinhttp', 'fitnerd', 'feetfox', 'fitnesshealth', 'wenmama', 'guidoolimpio', 'weon', 'fitr', 'feelmeflowin', 'weirdkrista', 'feelits', 'fitstronger', 'gratuity', 'feelingsad', 'guildvs', 'wept', 'feelingbetter', 'guillory', 'fittoprint', 'fitz', 'wanlov', 'fived', 'fives', 'wer', 'guiltylearn', 'fivesome', 'guinness', 'feefeepr', 'feeelgreatness', 'feeeelinngss', 'feeds', 'guipsp', 'weres', 'warmup', 'weirdfat', 'fixamputmmediumpostupamputmcontentbdbbbecfbdfecbcafe', 'guitarists', 'grate', 'feeders', 'fixation', 'werewolves', 'grata', 'guitless', 'werfucked', 'fedwe', 'guize', 'weirdestfunniest', 'fixednot', 'fixer', 'grasta', 'gujaratis', 'fiz', 'gujaratthere', 'fedora', 'fizz', 'fedhe', 'federalist', 'werido', 'fedelity', 'wermany', 'feckkkk', 'grassroots', 'feckin', 'fecked', 'gujju', 'fizzyvinny', 'gujjus', 'gujrat', 'gulag', 'grasping', 'gulags', 'fj', 'gulam', 'fjoaopedro', 'fjofficial', 'fecal', 'fjällräven', 'gull', 'featuring', 'gullibly', 'grasped', 'fkboy', 'fked', 'wes', 'grapple', 'wani', 'fken', 'fkg', 'gumawa', 'fkin', 'graphs', 'graphics', 'fknalways', 'fearthecreepyones', 'graphically', 'fearsome', 'graphical', 'gumby', 'flab', 'flabbergasted', 'flack', 'grapevine', 'flagellation', 'flagged', 'flagmonuments', 'grapes', 'fearnoman', 'fearmongering', 'fearlessly', 'fearless', 'wesamee', 'fearfulness', 'gumwrappers', 'wanegbt', 'flagwho', 'fearful', 'guna', 'flail', 'wese', 'flaites', 'flaka', 'grany', 'weseeyou', 'fe', 'gunamp', 'gunbanging', 'fdsgjkhljksf', 'flambeau', 'grantleestone', 'fdr', 'gunda', 'gunfights', 'flamed', 'fdbcabebce', 'fcuking', 'flamin', 'wando', 'fcsmiliebers', 'gunnerblog', 'gunnerstaal', 'fckyouumsia', 'fckuupaymee', 'flandermeyer', 'gunns', 'flanzamakhadanc', 'gunpoint', 'gunpoop', 'granite', 'flaqita', 'grandsons', 'wesgodlaflare', 'flares', 'gunshots', 'fckers', 'fce', 'weirded', 'fcc', 'fc', 'fbr', 'gunslaps', 'fbloggers', 'gunsyou', 'flashdrive', 'fblchat', 'guppy', 'fbitankola', 'fbilosangeles', 'wesslou', 'flashes', 'westbrook', 'grandparentsonly', 'gurkas', 'fazetemperrr', 'warner', 'grandmoms', 'weirdcringy', 'gurrrl', 'grandkid', 'flatspaddler', 'flattered', 'gurucomwqmscejbnfprkuuh', 'guruduwaras', 'gurudwara', 'fazelhawramy', 'flattery', 'gussgorgeous', 'fazed', 'flatâ', 'grandeur', 'grander', 'fayedsouza', 'flaunt', 'flavaindamornin', 'faxxu', 'gutsbrains', 'granddragonsl', 'granddaughter', 'freckle', 'fawning', 'hak', 'hakoonamatata', 'weigenn', 'fanboying', 'fanatism', 'governs', 'fanatically', 'hahaga', 'fanatical', 'fanart', 'walrus', 'fohhhh', 'fanarhaddad', 'foiled', 'famousquotenet', 'hahahaa', 'folau', 'famousbully', 'governorperry', 'hahahaaa', 'folded', 'hahahaaha', 'folding', 'governmentindividual', 'governmentbut', 'wetdreams', 'hahahahaa', 'foley', 'folgado', 'hahahahaaa', 'famosos', 'hahahahah', 'wehpudicabok', 'governing', 'governent', 'famosa', 'governed', 'weho', 'famine', 'goveners', 'warrios', 'hahahahahahahaahahahahahaha', 'familys', 'hahahahahahahahaha', 'gourmet', 'hahahahahahahahahahahahah', 'hahahahahahahahahahahahahahhahahahahahaha', 'gotwith', 'hahahahahahahhahahahahahahahha', 'hahahahahhaahahahahahahahahahahahahahahahahahahahahahahahahahaha', 'familyguyonfox', 'folksbelike', 'familyfriends', 'hahahahbahahah', 'hahahahha', 'familyeatch', 'weth', 'wegmans', 'hahahahhahaha', 'gotti', 'wetin', 'hahahahhahahah', 'warsconflicts', 'hahahehetehee', 'followerever', 'gottdammjossi', 'weetbix', 'familia', 'hahahhaha', 'followersislam', 'famesuccess', 'hahakiddingpwe', 'fameandfrtune', 'wetter', 'hahano', 'followersstop', 'gottaluvcarma', 'followin', 'falsos', 'gottacopewithit', 'hahawhos', 'hahha', 'weetaengae', 'gottabe', 'hahhahah', 'falsify', 'hahhahaha', 'falsidade', 'followmylife', 'follownow', 'hahhahh', 'followrtfav', 'wallpapers', 'haideralabadi', 'haideralijutt', 'warthog', 'wees', 'followup', 'haifawehbe', 'haigiographers', 'wetu', 'followyou', 'haikyuu', 'follwin', 'haileybaldwin', 'fomented', 'wever', 'gotpickup', 'fallshow', 'haincase', 'fomentemos', 'weverse', 'hairbrush', 'fomes', 'gotitfree', 'hairdressers', 'falln', 'hairflip', 'gotigers', 'hairif', 'fomos', 'fon', 'fallin', 'gothenburg', 'fondant', 'hairline', 'fallenness', 'warthogs', 'gotdamn', 'gotdam', 'fondness', 'hairman', 'hairwtf', 'haithey', 'fonky', 'font', 'fale', 'fonts', 'gota', 'wary', 'fonzy', 'goswami', 'gostei', 'haiyaa', 'falasteeniyeh', 'gossiping', 'foo', 'warzone', 'hajihuntress', 'gossenphilosoph', 'gospels', 'falando', 'fala', 'hajiishak', 'fakker', 'weytin', 'foodbanks', 'fakeuntil', 'goshh', 'hajjaj', 'foodieben', 'fancied', 'hakeem', 'whaat', 'footsteps', 'goonsthe', 'failane', 'footnote', 'hamesha', 'goonsquad', 'footshuffling', 'washingtonposthumanity', 'hamaz', 'hammerandnigel', 'hamill', 'hammered', 'goonjar', 'gooo', 'hamikdash', 'footytipsters', 'faiigifs', 'whaaaaat', 'hammers', 'fahrenthold', 'hamasislamic', 'foothill', 'failedfoodies', 'goooood', 'hamare', 'failedyou', 'goooooddd', 'whaaaaaat', 'failingrape', 'failings', 'goosebumps', 'footgtsomeone', 'failla', 'footballthere', 'halwai', 'gopbloodmoney', 'halves', 'fai', 'wha', 'fahvruh', 'halts', 'hammite', 'forand', 'gooner', 'fagsniggers', 'weeeeeeed', 'hammmyy', 'goomba', 'hammond', 'fagly', 'hammy', 'hampi', 'hamza', 'fagitaaron', 'hamzaalhabash', 'hamzayusuf', 'googlin', 'hanafi', 'googleçeviricitopluluğukürtçeyidee', 'faggy', 'faggotsplease', 'whaattt', 'faggotry', 'hananehs', 'faggotd', 'hanarmarouf', 'walles', 'handbag', 'googlenews', 'forbut', 'forcaa', 'handbanging', 'handc', 'weeeee', 'handcarwash', 'googlecloud', 'washiturros', 'faggit', 'failur', 'weigh', 'waseca', 'gopchairwoman', 'footbal', 'gopconvention', 'failuresthey', 'fainted', 'faints', 'footage', 'haloularry', 'faiqlutfishahrn', 'wguns', 'gophate', 'fairbairn', 'hallucination', 'gophateswomen', 'hallowed', 'gopher', 'weeey', 'gopleader', 'goplz', 'goptrump', 'wallflower', 'faired', 'gopwaronwomen', 'gor', 'weekendi', 'gorakhpuri', 'halkett', 'fairies', 'fairjust', 'wgreen', 'wallofdads', 'wgay', 'fairytale', 'halifax', 'faisal', 'faisu', 'gordinha', 'wgamergate', 'faithbeliefs', 'faithexiled', 'fooking', 'faithfully', 'gorditos', 'fook', 'foodthought', 'foodstuff', 'wallofmoms', 'foodstamps', 'faithkilling', 'faithless', 'haleymckay', 'haley', 'halen', 'faithsthat', 'haldockins', 'gordofeio', 'halalmeat', 'wflanger', 'fakebook', 'wfh', 'wallofvets', 'foodporn', 'goreejuhssguns', 'fakehadiths', 'fakeness', 'halalatriple', 'halalamulti', 'washes', 'foodnetwork', 'foodies', 'gorillas', 'halalamp', 'fakerapper', 'halalaa', 'gorl', 'fakery', 'fakes', 'wallofvetspdx', 'hahaahahahhahahahah', 'handcuffs', 'flavmiss', 'govinslee', 'govjerrybrown', 'fanda', 'hahaaa', 'wetalkdemi', 'foggy', 'foe', 'walsh', 'fanfiction', 'fangirl', 'focussing', 'focusses', 'fangirling', 'hags', 'govkaduna', 'hagisan', 'govmatawalle', 'fangirls', 'fanmail', 'fanning', 'weighed', 'fanpage', 'fansite', 'govote', 'fantano', 'focking', 'fockers', 'haggard', 'fantasia', 'focken', 'hagan', 'fantasists', 'fobia', 'govrondesantis', 'hafter', 'hafizayazgani', 'wesupportrangoli', 'hafejee', 'foaming', 'fantastikzae', 'weighin', 'govs', 'fmorgank', 'fmewonne', 'haelamedina', 'fantine', 'fmbeltra', 'fma', 'hadouk', 'flyâ', 'flynns', 'faphism', 'faq', 'farages', 'farcical', 'flyin', 'farinjini', 'fariz', 'flyegret', 'fark', 'govtatleast', 'flyboyenzo', 'farlets', 'westvirginia', 'weightwhat', 'flux', 'walz', 'farmhouse', 'farming', 'flutters', 'hadeesh', 'farmville', 'farnham', 'flute', 'flustered', 'hadees', 'flushing', 'farouqzaib', 'haddock', 'govtpolicies', 'govuk', 'flurry', 'faroutakhtar', 'hacían', 'farquaad', 'hacky', 'hackspancakes', 'farsi', 'fluorescent', 'fartcontinue', 'flunot', 'flunked', 'fluids', 'farther', 'gowelljump', 'farthest', 'fluidic', 'hacksis', 'hackjournalism', 'hackes', 'gowri', 'fluffy', 'fartlebee', 'fluff', 'gozahumilha', 'farts', 'hackerscanthide', 'faruqi', 'fluently', 'faruqui', 'fluent', 'farzand', 'fará', 'flthe', 'gozergozarion', 'fascination', 'haci', 'westtogether', 'haces', 'westthe', 'gozleme', 'fascistic', 'floydshivambu', 'floydmayweather', 'gp', 'westpoint', 'weindiasmuslims', 'flows', 'fashionable', 'flowing', 'hacerte', 'flowery', 'hacerlo', 'fashionista', 'gpg', 'gpp', 'wam', 'fashionistas', 'fashionnova', 'gps', 'gqibsbmwhyfsawbabqlwxhnzwampmkten', 'warrioroftrut', 'hacemos', 'fasho', 'weiner', 'westophate', 'flourite', 'habs', 'flourished', 'fasten', 'floss', 'habrían', 'florian', 'fastigor', 'warring', 'flops', 'hablo', 'fasttt', 'grabber', 'flopping', 'hablas', 'flopped', 'hablando', 'warri', 'fatal', 'habitual', 'grabby', 'fatalattraction', 'fatale', 'grabs', 'fatalities', 'fatally', 'habisan', 'gracebrixton', 'fatboyisangry', 'fatdonaid', 'graced', 'fated', 'habibti', 'graces', 'weir', 'habging', 'floods', 'floodof', 'fatezero', 'gracious', 'graciousness', 'habeit', 'warrdk', 'gradebelow', 'habad', 'fatfnewsdo', 'gradehigh', 'fatgod', 'fath', 'flockagucci', 'westley', 'haaz', 'graderwhat', 'fatherdtr', 'fatherland', 'haave', 'floated', 'westhammatters', 'haan', 'float', 'fllw', 'fathersequalty', 'fllatters', 'fatho', 'warranted', 'haahhahahhaa', 'haahahhaahahha', 'fathom', 'fatigue', 'fatima', 'haagia', 'gradesi', 'haaarli', 'haaahaaa', 'fatoshn', 'haaaayyy', 'haaaate', 'gradientlair', 'haaaaha', 'gradually', 'flippant', 'haaaaaaappy', 'haaa', 'fatphobic', 'fatshaming', 'fatslagsad', 'warping', 'wan', 'gyutoki', 'weirdbad', 'gys', 'gyro', 'gypsybelleee', 'fatso', 'gypsy', 'gymshark', 'gymnasts', 'flinched', 'gymnastics', 'fatter', 'flightscheck', 'graduatinggoing', 'fattu', 'gymnast', 'flicks', 'flick', 'flicityflint', 'flexing', 'flexible', 'grafanagraphitestatsd', 'gymnasium', 'gymflow', 'fatwaagainstterrorists', 'gymalwaysliftin', 'gyl', 'fatwah', 'flexibility', 'gyan', 'grahamdavida', 'flexbills', 'grahaminglish', 'grahharwarddd', 'gyada', 'flew', 'gyaan', 'faucithen', 'fleurybanery', 'gy', 'grahib', 'fleming', 'flem', 'gwentakagawa', 'grainy', 'fauxnews', 'favand', 'westernised', 'gwang', 'fleck', 'waronwomen', 'fleabag', 'gwallace', 'grammargate', 'favirote', 'favored', 'favoring', 'westerner', 'flawlessly', 'favorited', 'gvx', 'flawlesslayer', 'gran', 'guénonian', 'favoriting', 'flaw', 'guzzling', 'favorito', 'guzzles', 'favoritos', 'favors', 'guz', 'granalberto', 'guyverhofstadt', 'guytaqiyyah', 'guyso', 'guysdoitbetter', 'wanda', 'favouritism', 'guylogical', 'guyliner', 'guygal', 'guyadami', 'wander', 'guushenkbremer', 'fawadchaudhry', 'guurll', 'fawfulfan', 'eradication', 'fictions', 'ginsburg', 'bsilverstrim', 'hecho', 'bsdtrhodes', 'scotsman', 'violance', 'beachfordva', 'hecshould', 'informative', 'scotch', 'beaches', 'rapepedophilia', 'hectasticcc', 'rapenot', 'eraand', 'hectornewcomb', 'hectpowles', 'scot', 'rapeisntokay', 'frown', 'btoocold', 'infra', 'ginnysimmons', 'rapegaytrans', 'frost', 'rapey', 'influx', 'fruits', 'influences', 'infringed', 'infringement', 'beaner', 'influencers', 'tvvittergod', 'httptcoyfukid', 'equse', 'bdsm', 'hedbo', 'scotts', 'gingerbread', 'infuriating', 'influencer', 'equivalency', 'gingerboybolu', 'trifecta', 'bryant', 'hedgehog', 'inflicting', 'rapebombing', 'beardy', 'bds', 'rapmonster', 'watermelonsugar', 'rapeabuse', 'bdk', 'bucket', 'buckets', 'rants', 'buckle', 'inflict', 'heed', 'frumpy', 'inglonias', 'bruxo', 'ranks', 'httptcoyekxykql', 'scouting', 'heeded', 'girlboss', 'younongs', 'equivalencies', 'equivalences', 'scooter', 'ginge', 'equitable', 'frustrating', 'heeeee', 'inflammatory', 'tvexpert', 'ranging', 'ranges', 'heeeeeee', 'heeey', 'bcus', 'heeg', 'raqqamcr', 'raqqasl', 'httptcoycgtbmmdxb', 'equation', 'ginbotley', 'heekma', 'yeahhh', 'rang', 'frustratingly', 'waffleworks', 'frustration', 'screamingfuck', 'frustrations', 'screed', 'screencapping', 'beast', 'heelsdontbelongonthefield', 'inhale', 'gina', 'heemgotthejuice', 'whistleeee', 'gin', 'screencaps', 'gimpymuse', 'screened', 'girlgerms', 'randileeharper', 'screening', 'inheritance', 'twdfinale', 'gimmick', 'gimme', 'vintage', 'hegemonists', 'hegemony', 'buena', 'girli', 'wafflesgaga', 'heheespecially', 'equallyso', 'screwdriver', 'whit', 'fs', 'brunt', 'heheh', 'equalizer', 'ramped', 'rashard', 'gilmore', 'bcause', 'scripted', 'inhumanity', 'rampages', 'infinitamente', 'rashidatlaib', 'gillistheone', 'equalitywag', 'rashtra', 'sclc', 'bugged', 'scripts', 'gillibrand', 'ramming', 'scissors', 'scissoring', 'beated', 'inicio', 'ramiallolah', 'gilliam', 'hehistorically', 'bruises', 'fsamuslim', 'bruised', 'trickiest', 'iniquity', 'scrolled', 'gillard', 'fsb', 'scrollllllllll', 'fse', 'heidiifreeman', 'beater', 'initial', 'equalityand', 'whiteanti', 'initially', 'buisness', 'gilhoffman', 'scrubbing', 'gilbert', 'bbquiet', 'equalitarians', 'fsenkiw', 'httptcoxtrpledk', 'heidilrn', 'friggin', 'ralphcrafts', 'ralph', 'heifer', 'rakshak', 'bblf', 'infidel', 'equalist', 'bulimic', 'equalisnt', 'equalatbirth', 'scientific', 'rated', 'bbjason', 'whiteblack', 'heifers', 'waffler', 'infested', 'gilani', 'injuring', 'heiii', 'bbcworld', 'hein', 'heir', 'fsf', 'inferring', 'httptcoyulvmwa', 'heis', 'girlswomen', 'hekissnonmytatz', 'gilandn', 'giinsan', 'yazidis', 'ration', 'girlthatsvonte', 'giiamarengo', 'fsjhsjfh', 'schwag', 'inkingmypast', 'inkuplyfe', 'rationalizing', 'youngster', 'fsnvigsta', 'ratios', 'rainmargi', 'httptcoxoywrqzyt', 'rainbows', 'bbcnews', 'scyleet', 'helenkeeble', 'helensaxby', 'httptcoxojhwhuiz', 'bulliedso', 'ratman', 'tut', 'friendsfamily', 'helicopter', 'epman', 'fsu', 'rail', 'gigwise', 'sdlive', 'gigs', 'ftdwarf', 'eplerjc', 'raids', 'raiders', 'gigolo', 'httptcoywfgjvmtv', 'waeyo', 'rave', 'bullier', 'hellakage', 'giggling', 'infect', 'beaut', 'episódio', 'inning', 'hellbent', 'ravens', 'infants', 'raheel', 'whiteboard', 'infantry', 'hellfire', 'epiphanyrenee', 'fte', 'ftempo', 'bball', 'bbad', 'giggles', 'rah', 'epidemic', 'yourewelcomeexe', 'epicimaginebtr', 'infantil', 'ftom', 'epicgames', 'bulliesthey', 'tuskegee', 'beautifula', 'violates', 'epi', 'seal', 'ephesians', 'whiteboy', 'vinny', 'eos', 'schoolwork', 'sealioning', 'infamousklaus', 'hellish', 'helll', 'tweetbot', 'seals', 'eonline', 'eom', 'bullshitting', 'ftp', 'gigglemittens', 'gigglefits', 'eoind', 'hellll', 'yaz', 'innuendo', 'innuendos', 'innumerable', 'seance', 'bullyi', 'inexpensive', 'yayyy', 'eo', 'brothere', 'inoffensive', 'ftr', 'tweetdatass', 'ftrim', 'hellno', 'waer', 'helloemma', 'inordinate', 'helloheliotrope', 'inevitably', 'hellooooashlee', 'baylor', 'enyone', 'fttyman', 'freudian', 'gigantic', 'hellooooo', 'sears', 'httptcoxhjhakea', 'tribal', 'giga', 'inequalities', 'inquest', 'ftunder', 'weakly', 'seasoning', 'inquisition', 'envolvidas', 'weaponize', 'fubama', 'bullylol', 'envisager', 'ins', 'weaponizing', 'broooo', 'fuccc', 'wateronatrain', 'brooks', 'radcampaign', 'radar', 'hellosummer', 'racsim', 'environmentalists', 'hellscape', 'yayy', 'razzist', 'environmentalist', 'fucccccc', 'fuccckkkkkkk', 'bullysteria', 'httptcoxenjexkh', 'rbar', 'hellyeah', 'rbassilian', 'fucing', 'httptcoxdztylfw', 'insanityreport', 'httptcozdqmvfku', 'insatiable', 'tweeters', 'whiteboys', 'waters', 'bumbling', 'enviroment', 'racisti', 'batwoman', 'fucjimh', 'battling', 'giv', 'bumping', 'fucjing', 'weaklings', 'schoolnot', 'gifs', 'waterways', 'bebest', 'freezing', 'racismwash', 'inserted', 'envelope', 'enunciate', 'indulging', 'enuf', 'secession', 'freeze', 'rconflictnews', 'heloisafletcher', 'fuckaname', 'turtles', 'indulged', 'bundles', 'battleaxe', 'secondlady', 'fuckand', 'brokers', 'inducing', 'trf', 'freethisdick', 'induced', 'batting', 'bunnies', 'waec', 'wadwha', 'turtle', 'entrovice', 'fuckas', 'insights', 'watery', 'giddy', 'entrou', 'burberry', 'rachet', 'fuckaurora', 'freepalestine', 'burcucekmece', 'httptcoxalmbwyb', 'insinuate', 'fuckblack', 'entrepreneurs', 'fuckblackppl', 'becandbridge', 'burgers', 'baton', 'burhan', 'sect', 'reactor', 'bathtub', 'reacts', 'burka', 'entrei', 'helpi', 'gibby', 'freemasons', 'fuckblames', 'entrar', 'vindictive', 'burlesque', 'burma', 'sections', 'yawl', 'fuckboi', 'wads', 'reader', 'httptcowzlhfray', 'rabdafgtserdfwgradggrtybgbawfhghddsfdtgtgbwjdserdfggvssadfrwqvxxsdf', 'freeman', 'gibbon', 'gibbiedakid', 'gibberaus', 'giavannacolby', 'giantspride', 'broadway', 'broads', 'entrance', 'entourage', 'burner', 'helplmao', 'fuckbut', 'entj', 'freela', 'gk', 'helpppp', 'freeing', 'wateva', 'fuckchristmassales', 'qué', 'freedungloadlink', 'burp', 'fuckcomputer', 'individually', 'secularterroristskilledsadhus', 'broadcasters', 'fuckcrucifix', 'reagan', 'burquas', 'fuckdamn', 'securing', 'whitechapel', 'hemet', 'beck', 'fuckdev', 'fuckdreamsxo', 'hemming', 'entirelyamelia', 'hen', 'brkeogh', 'fuckdumb', 'whitedawn', 'bastered', 'burritos', 'gianina', 'beckhamishere', 'gl', 'bury', 'gian', 'entir', 'giamorizing', 'becky', 'weakk', 'tweetshr', 'buses', 'hendrickson', 'sedition', 'httptcoznfhooln', 'giacomobert', 'entgt', 'installing', 'indignant', 'trevor', 'seeded', 'seein', 'beco', 'trevdaysweg', 'trevas', 'quintessential', 'busstop', 'whitehall', 'hennessey', 'ghzva', 'henrycuhrd', 'henrygayle', 'becouse', 'weakgtthey', 'fuckerface', 'fuckerim', 'henryjnro', 'weakestreed', 'httptcowtdhqggvp', 'turkmen', 'busting', 'entertainers', 'ghurl', 'basta', 'instapundit', 'quieter', 'scholastic', 'trespass', 'entertainer', 'ghum', 'freeboosie', 'quien', 'ghs', 'hensley', 'realities', 'turkic', 'enterprise', 'ghryswald', 'vincemcmahon', 'fuckery', 'quida', 'insted', 'ghoul', 'realization', 'herald', 'whitemy', 'turkeys', 'whitemzungui', 'fuckface', 'quicker', 'turk', 'entao', 'butchered', 'fuckgays', 'indicative', 'brisbane', 'basketmouth', 'indication', 'indicates', 'fuckget', 'butcherthemodels', 'brinker', 'instigated', 'fuckglaad', 'fuckheads', 'questionor', 'reallllllly', 'ensures', 'ensured', 'sef', 'reallllly', 'realllly', 'fucki', 'fuckid', 'herbad', 'fuckign', 'fuckignortantpeople', 'indiathey', 'fuckilluminiti', 'instinct', 'schneider', 'ghoststupid', 'herbalife', 'ghostfacekillah', 'basing', 'brilliantly', 'ghoster', 'quest', 'ghosted', 'institution', 'enslavement', 'ghostbusting', 'institutional', 'wathon', 'herbing', 'institutionalized', 'butnocigar', 'institutions', 'quer', 'herbs', 'fuckingdesean', 'fuckingpussy', 'instruct', 'realtrumpsfeels', 'herder', 'fredo', 'realtygc', 'basin', 'queerpoc', 'queerness', 'herdsmento', 'basicrepublican', 'herea', 'fuckingð', 'fuckinh', 'herehow', 'brightness', 'hereif', 'youngplatinum', 'instrument', 'ensaio', 'fuckinidiot', 'fuckism', 'queensland', 'herelmao', 'wadhwans', 'basichotdog', 'gland', 'queennigger', 'schizophrenia', 'heresies', 'seh', 'enriquetreto', 'fuckistan', 'queef', 'enrique', 'glare', 'butthanks', 'httptcowlhxqkqjc', 'quebrar', 'enrich', 'vincastronovo', 'enrages', 'fuckjasongravesandhisnigz', 'heresy', 'seibabreggin', 'fuckjoins', 'butthole', 'enquiryif', 'enoyong', 'buttholes', 'heresyourdamncookie', 'enojas', 'quds', 'beds', 'fuckjonathan', 'butthump', 'watitdo', 'httptcowkgrwsbov', 'quatar', 'herethis', 'freckles', 'butting', 'indianexpress', 'heretic', 'hereur', 'fuckkem', 'buttock', 'quarantined', 'bashes', 'quanto', 'seja', 'heritagefestival', 'indianarmy', 'briefing', 'buttoned', 'fuckkkkedddd', 'buttons', 'herjacie', 'quanb', 'schiff', 'fucklearn', 'twerp', 'qualities', 'bridging', 'herme', 'qualifies', 'ghorl', 'seldom', 'insurmountable', 'fucklgmoney', 'fucklmao', 'enoja', 'ghori', 'ghislaine', 'buu', 'ghettos', 'ghettoisation', 'quadruplet', 'freaky', 'wats', 'fucklol', 'ghcanada', 'enof', 'integrate', 'watson', 'integrated', 'ghazni', 'buzz', 'enoch', 'enlisting', 'hermiones', 'hermithwarang', 'enlightening', 'ghazipur', 'villian', 'bribing', 'qq', 'hermoine', 'qpr', 'fuckmel', 'enlightened', 'hermosa', 'qoran', 'enlighten', 'twi', 'enlarged', 'inteira', 'rebound', 'ghaziabad', 'qn', 'trendsetter', 'herms', 'beepss', 'whitenonblack', 'gleefully', 'rebuke', 'heroine', 'whitepeople', 'enjoycarrillo', 'heroism', 'rebuked', 'bw', 'qhstone', 'httptcowgihgslr', 'herokeep', 'heromancer', 'bwhahaha', 'fuckmexicans', 'brianvhughes', 'recanted', 'qe', 'fuckmkr', 'enjot', 'trillion', 'heronymus', 'fuckmore', 'bwood', 'herour', 'herpes', 'herrgibson', 'beerandfeminism', 'enigma', 'watsonspider', 'enhance', 'youthe', 'ghauri', 'herring', 'qasim', 'befitting', 'ghatafan', 'receiver', 'baru', 'hersorry', 'fuckouttahere', 'herstory', 'ghat', 'engraçada', 'hertelling', 'tupperwarebox', 'independently', 'brf', 'httptcowehmqbqwn', 'herts', 'intensity', 'scaryjen', 'engrained', 'intensive', 'hertyredestructn', 'reception', 'ghastly', 'englandshire', 'receptive', 'scarlett', 'barstool', 'brexiteers', 'befriending', 'trench', 'sellingsunset', 'weakens', 'englandrugby', 'hesapsychopath', 'hesiodk', 'scaring', 'byzantine', 'inter', 'semblance', 'yashar', 'hesitant', 'recipes', 'twilight', 'interacted', 'interaction', 'pydanny', 'pyd', 'enginfra', 'reciprocate', 'hesr', 'fucksake', 'fucksam', 'hestiahdruid', 'interactive', 'hetalented', 'fucksgo', 'hetero', 'heterochromia', 'intercept', 'whiter', 'heterophobia', 'befriends', 'fuckslap', 'fuckslol', 'engineered', 'whiteracist', 'scarf', 'cabin', 'engine', 'engender', 'ind', 'reckon', 'cabinet', 'engclass', 'reckoning', 'ghar', 'cablebeach', 'puzzle', 'reclaimed', 'ghapa', 'glo', 'fuckstahlbaum', 'engages', 'heteros', 'violet', 'heterosexuality', 'hetriedrealhard', 'hets', 'fraudklin', 'vilify', 'fuckstay', 'hevy', 'ghap', 'whiterhino', 'hewettnts', 'cackling', 'hexmurdahow', 'barred', 'gloating', 'ghanta', 'hextall', 'sence', 'fucksuspension', 'cadbury', 'ghandis', 'waco', 'enforcmnt', 'heyany', 'cadets', 'heyashwp', 'tupac', 'caesars', 'heycaye', 'httptcovuqomale', 'heychrisedwards', 'watchin', 'heydo', 'ghandi', 'heygossipdrive', 'cagerusty', 'heyidiotre', 'scapegoating', 'httptcovtermd', 'globalists', 'recognizing', 'ghanado', 'cah', 'fuckt', 'senile', 'heyitslizi', 'whitesampblacks', 'twinkle', 'recollection', 'fucktard', 'twinks', 'fucktards', 'heykayy', 'recommendation', 'heymisfit', 'barley', 'scandals', 'ghana', 'heyyy', 'caitlin', 'recommends', 'whitesblacks', 'energised', 'senjohnmccain', 'hezboallah', 'vilification', 'brendon', 'internationally', 'yas', 'enemyccto', 'youthful', 'hfdskjjhsj', 'whiteso', 'fuckthanksgiving', 'whitesupremacists', 'increasingly', 'increasing', 'scammer', 'gh', 'youths', 'ggs', 'frantic', 'purplekissco', 'ggrr', 'ggreenwald', 'hfllacostedee', 'hgive', 'recovering', 'hgrunzke', 'hh', 'endrant', 'recovery', 'endowed', 'ggot', 'brenda', 'ggnys', 'calculated', 'recruited', 'endorses', 'recruiters', 'whitevblacktwt', 'hhead', 'ggmadcat', 'fuckthat', 'linux', 'gghuw', 'interpretations', 'sensei', 'caleburban', 'fuckthenba', 'sbs', 'begs', 'recuperate', 'hheath', 'watt', 'hhelp', 'sensible', 'purchase', 'hhh', 'endof', 'interrogation', 'sbabylife', 'sb', 'hhhh', 'sensip', 'interrupted', 'bargain', 'ggater', 'puppies', 'whitewash', 'watton', 'endings', 'fucktheshitusay', 'glorified', 'hhhhh', 'gfxer', 'endicottcollege', 'pupils', 'endian', 'caliphatecop', 'wackomedia', 'gfs', 'hibach', 'endia', 'treasonous', 'intervene', 'fuckthey', 'hibachi', 'barca', 'gevmage', 'intervention', 'punked', 'yards', 'whitewashes', 'punjabi', 'hibernate', 'inconsiderate', 'interviewed', 'redconversation', 'interviewer', 'punishments', 'glorydiispute', 'hibiscus', 'callmemrcarter', 'fuckthis', 'hiccup', 'seonf', 'hickbilly', 'hickey', 'yaqoubiyeh', 'getâ', 'hicks', 'fucktrying', 'tuning', 'separating', 'separatism', 'separatist', 'sayings', 'getyourmindright', 'hidayah', 'endangermt', 'hidd', 'endangermenton', 'reddroostermann', 'calum', 'endangerment', 'behold', 'redeem', 'incompetence', 'pumpkin', 'incompeten', 'pumpkey', 'pumping', 'redefine', 'incoming', 'bei', 'encyclopedia', 'incoherent', 'sequel', 'treachery', 'encrusted', 'encroached', 'redemptionround', 'pulwama', 'glue', 'pulse', 'getyourigmoranceoutofhere', 'intimidationgame', 'serbia', 'getyoballsup', 'wattssodmg', 'whitewill', 'hiddleston', 'pulp', 'hiddn', 'redhurricane', 'encouragement', 'beijing', 'fuckunobama', 'watzittoyaa', 'camels', 'waccusations', 'fuckurattitu', 'redirects', 'encounters', 'hideously', 'pulitzerprizes', 'hideouspizza', 'getthroughit', 'fuckwad', 'encompass', 'wac', 'encoded', 'fuckwitmetylee', 'enclave', 'fuckwits', 'getta', 'getsi', 'hidingsomethinginhuman', 'hidu', 'wauwatosawi', 'puhlease', 'getpumped', 'redo', 'cameronesposito', 'encerraban', 'incitement', 'fuckwrongwitchall', 'camerongray', 'francois', 'breakdowns', 'enby', 'enbiephobic', 'getoverit', 'incited', 'enamored', 'getonmylevel', 'enamoradiza', 'hidutva', 'virar', 'hierarchical', 'puddle', 'introducing', 'pudding', 'redskin', 'yano', 'bekind', 'fuckwtf', 'introductory', 'enak', 'fuckya', 'gna', 'fuckyea', 'hiffi', 'enactment', 'getk', 'higas', 'reduced', 'incidentally', 'waan', 'highamp', 'serpent', 'getitright', 'highbrow', 'bantheburka', 'fuckyouimcute', 'highdii', 'highelementary', 'getitng', 'publicized', 'getit', 'waale', 'highhigh', 'publicity', 'getherno', 'getherd', 'highimad', 'reed', 'savvy', 'yells', 'highkush', 'brazen', 'belgium', 'reeks', 'gethard', 'gnome', 'whiteys', 'reelected', 'publically', 'bravo', 'incessantly', 'getemeasy', 'reese', 'emyuu', 'sería', 'emwhyayee', 'emwazi', 'emulates', 'emulated', 'emulate', 'reesed', 'seseorang', 'getchassummoney', 'emuhlman', 'campbell', 'incentive', 'emrad', 'gnt', 'fucyamom', 'empxthyx', 'campers', 'getaway', 'whithin', 'sethmacfarlane', 'fue', 'highlights', 'empurra', 'bratty', 'emptiness', 'getare', 'empresssudol', 'empregadas', 'highlightstory', 'vikings', 'getalife', 'campyspornshack', 'gestures', 'referees', 'savekashmir', 'believersoul', 'brass', 'empowers', 'psychopathic', 'youif', 'seungie', 'gestured', 'referral', 'incase', 'empowering', 'frail', 'invalidating', 'psychologically', 'empowereddating', 'invariably', 'seus', 'belittled', 'fragrance', 'highmarcus', 'gesture', 'sevenperth', 'goated', 'gesticulated', 'highoffrosa', 'empmurk', 'banished', 'gestate', 'weakened', 'waaaah', 'highschoolers', 'severity', 'gestapo', 'cancels', 'psu', 'fuels', 'pst', 'inventing', 'goats', 'sauds', 'invention', 'inventions', 'highschoolgirl', 'inventor', 'incapable', 'psn', 'gershom', 'invest', 'sew', 'pseudoscience', 'highschoolmusical', 'pseudonyms', 'pseudonymityprivacy', 'httptcounahvxkisk', 'gerrymandering', 'highschoolprobs', 'fugazy', 'inbred', 'fugly', 'hight', 'investigating', 'germanyblm', 'employes', 'higley', 'bangladeshis', 'fui', 'whitie', 'fujita', 'investing', 'whities', 'investment', 'employeepeer', 'candrew', 'inanimate', 'higshidhttxlcofres', 'branding', 'gobshite', 'saud', 'waved', 'belligerent', 'cannabis', 'saturdaynightonline', 'proxying', 'hihi', 'waveless', 'canned', 'fujo', 'belloxo', 'geriatric', 'empkamikaze', 'sexistbut', 'refusal', 'sexisthomophobic', 'brainwashing', 'fuka', 'fozzie', 'invites', 'gergiachrlton', 'provocateurs', 'inaccurate', 'refute', 'satirical', 'inability', 'fukcing', 'sexrape', 'provides', 'cans', 'fuked', 'regains', 'provider', 'fukin', 'empiremindset', 'invoked', 'sati', 'proverbs', 'hiimjackiee', 'bandit', 'twitterebooks', 'waaaaaaaaaah', 'gerfingerpoken', 'hijabis', 'fuking', 'satans', 'emphatized', 'emphatic', 'gerardgeorges', 'bandera', 'involvement', 'sexualized', 'protoshiv', 'fukking', 'emphasis', 'emperor', 'braindead', 'fukkn', 'satanism', 'protocojhad', 'fuksgiven', 'regiment', 'emperical', 'sexualizing', 'cantlie', 'belly', 'geralt', 'fukyofeeiings', 'geraldo', 'io', 'travellodging', 'ful', 'fulaanhazm', 'whitney', 'geraldivant', 'protested', 'empaths', 'gerald', 'vigilantes', 'registering', 'weaken', 'fulanihausa', 'empathizes', 'empathic', 'fulara', 'fulfil', 'gepest', 'sexyisntsexist', 'regressive', 'empath', 'foxes', 'emoçao', 'geosciberviv', 'georgieyasmin', 'travellers', 'brah', 'ios', 'httpwpmepcyk', 'sas', 'sartoni', 'iota', 'iowa', 'braggart', 'hijbulmujahideen', 'hijra', 'protags', 'emotionless', 'bem', 'whittled', 'sarpanch', 'sferik', 'whiz', 'protag', 'prot', 'capitalize', 'hijrah', 'prostate', 'tulsa', 'vigilante', 'prospects', 'hijrais', 'emosi', 'regulation', 'georgie', 'fullerarty', 'emoroffle', 'vigilant', 'emojiz', 'sge', 'hikyas', 'emojiautoblocker', 'waaaa', 'regurgitating', 'bradley', 'hilariousfamilymemories', 'whizbuzz', 'bemusedlybespectacled', 'httpwwwalloutorgenactionsmtv', 'impulsive', 'sardar', 'sgt', 'ipod', 'hilariously', 'whizzatme', 'emmmxo', 'georgiahope', 'propose', 'capsicum', 'br', 'fullmcintosh', 'fulltime', 'improving', 'proportional', 'hilaryrs', 'hilarys', 'fulltimedevils', 'iqs', 'baluch', 'georgeworshingt', 'reigns', 'httptcotzlbeysx', 'georgetownlaw', 'httpwwwgaylaxymagcomlatest', 'reinas', 'hilda', 'georgetietjen', 'shackle', 'reinforced', 'improv', 'shackscents', 'emmittreed', 'emmaxxxchloe', 'prophesied', 'shaded', 'prophecies', 'capture', 'shadeofritch', 'georgesoros', 'boyz', 'propensity', 'capturing', 'foundations', 'georges', 'reiterated', 'propagating', 'emmasulkowicz', 'hiler', 'emmas', 'propagandists', 'wea', 'yamaguchi', 'vó', 'webseries', 'hillarious', 'baloch', 'youâ', 'boyutmsourcetwitteramputmmediumsocialamputmcampaignshare', 'proon', 'iraqs', 'emmanuelmacron', 'shaephoenix', 'shaffrazz', 'pronouncing', 'georgepumphrey', 'ballots', 'pronounces', 'pronounced', 'imprisonment', 'ballot', 'emmalee', 'emmakennytv', 'emmahxlmes', 'prone', 'emmadaisy', 'rejecting', 'irfan', 'emmaandellie', 'prompt', 'emmaaflanagan', 'cardi', 'shaheenbagh', 'fulmetalhackett', 'httpwwwindependentcouknewsukpoliticsukip', 'cardigan', 'benefitted', 'cardinals', 'shahidsiddiqui', 'rejoiced', 'hillarys', 'fulton', 'promoters', 'rejoicing', 'cardio', 'websites', 'shahji', 'emm', 'httptcottqsnol', 'forza', 'emk', 'emitting', 'imprisoned', 'boysgirls', 'emirates', 'hillbillies', 'georgen', 'fumed', 'tukde', 'eminemtbfh', 'sarahlery', 'virginity', 'hillmorgan', 'shailamiller', 'georgeaf', 'tx', 'irishnightmar', 'forums', 'prolife', 'wavi', 'benifits', 'emilysymons', 'irkmeingram', 'irks', 'traumatised', 'projeto', 'shakedown', 'projectlincoln', 'trish', 'shakenbake', 'txvoodoo', 'hilzfuld', 'saraewilliams', 'emilypisright', 'himand', 'irls', 'prohibited', 'emilypaige', 'sapulpa', 'shaking', 'saps', 'progression', 'shalom', 'emilyosment', 'programming', 'benincitizen', 'carers', 'emilynussbaum', 'programmed', 'geordie', 'programmatically', 'himanity', 'gohan', 'benjamin', 'fumerals', 'impregnated', 'himbernar', 'viewing', 'profusely', 'himdus', 'fortnitegame', 'boycotts', 'profiting', 'boycotting', 'himher', 'balconies', 'viewer', 'whizzy', 'profiling', 'himhttpstcoke', 'emile', 'goi', 'wdudes', 'tying', 'emery', 'himiam', 'impoverished', 'viewed', 'saoirse', 'releases', 'boycottbrandy', 'emerging', 'shameonyou', 'himoverthere', 'geonewsurdu', 'emerged', 'wdouble', 'emerge', 'yesalldogs', 'himselfhe', 'relegation', 'professionalism', 'ememenike', 'relentless', 'boyband', 'eme', 'himtomrats', 'webster', 'himwe', 'emccrady', 'geonewsenglish', 'functional', 'profanity', 'embroidery', 'tuffnell', 'functionalform', 'geometry', 'geographicdivision', 'imposing', 'embracelunacy', 'himynameisseton', 'hina', 'reliancejio', 'hinata', 'geoffellis', 'embraceenjoy', 'carlyandtresne', 'irritated', 'functionality', 'genuinly', 'relies', 'functioning', 'goldberg', 'hindhuphobia', 'shamsmuna', 'bakr', 'yesand', 'imposed', 'hindhus', 'httpwwwthecrimsoncomarticlelive', 'tuff', 'prod', 'benoithamelin', 'wass', 'webtoon', 'importing', 'baki', 'irt', 'wavinator', 'procon', 'sansa', 'proclaims', 'sans', 'shanemcmahon', 'embodiment', 'wdon', 'proclaim', 'processo', 'fundallkids', 'sannan', 'hindsight', 'yesbut', 'waving', 'embittered', 'ember', 'shank', 'importa', 'sank', 'format', 'genug', 'wdiamondracing', 'embellished', 'embedded', 'vyasfalgun', 'procedure', 'genuflected', 'hinduchristian', 'formally', 'isabellaescort', 'formal', 'gents', 'hinduchristiansikh', 'hinduchristiansjews', 'gentrified', 'embassidor', 'vwrongly', 'gentlewolfpig', 'berating', 'wavyjackson', 'gentler', 'hinduismfurther', 'hinduismif', 'hinduismsorry', 'gentlemen', 'gentlemanbycond', 'problema', 'implication', 'forkingawesome', 'fundamentally', 'carolyn', 'carolynneva', 'forked', 'genres', 'genre', 'genrai', 'typ', 'wdiamond', 'probability', 'carr', 'implants', 'hindulifematters', 'isam', 'hindulivesmatter', 'bajalime', 'genocidist', 'proabortion', 'hindumuslim', 'golly', 'hindumuslm', 'reliving', 'implant', 'hinduon', 'reload', 'relocate', 'whoais', 'trashed', 'hinduphobe', 'hinduphobes', 'bottles', 'funders', 'wdga', 'botticellicream', 'hinduphobiainjharkhand', 'hinduphobicacademia', 'berlin', 'emasculating', 'carriers', 'relying', 'httptcoswqisgms', 'fundraise', 'carrot', 'httpyfrogcomkhputkj', 'privately', 'vidyutjammwal', 'imperialists', 'shapes', 'hinduphobicmedia', 'privadas', 'gomutra', 'priv', 'hinduphobicpetaindia', 'emanueljl', 'httptcosurqwcliou', 'emanuel', 'emanin', 'vwpatterson', 'sharethis', 'prisonerno', 'remained', 'ishamalassad', 'sharialaw', 'emanggue', 'hindusbut', 'hinduschristiansbuddhists', 'hindusdid', 'shariaunveiled', 'carte', 'genocidespartitionethnic', 'wedgie', 'emanating', 'genocidesethnic', 'emaleroland', 'httptcosugbbuc', 'hindusgtbefore', 'fundraiser', 'prioritize', 'whoami', 'hindusikhchristian', 'cartergee', 'ishfery', 'imperial', 'emailing', 'genocided', 'impeachtrump', 'prints', 'genocidealso', 'wawa', 'carton', 'ishimmy', 'httptcostpnmjzry', 'print', 'trapped', 'wdaddys', 'wax', 'sandmann', 'remeber', 'botch', 'berners', 'ishmael', 'carts', 'whoarehalfthesepeople', 'whocares', 'hindusit', 'genociadal', 'elyahalim', 'vids', 'princessbravato', 'boston', 'impassioned', 'bai', 'hindusnotsafeinindia', 'waxing', 'isilon', 'tucker', 'sharp', 'sharpay', 'bernier', 'sandilesandro', 'funeralpush', 'bosssdj', 'berniesanders', 'vidor', 'princearihan', 'sharpie', 'isisal', 'hindusterrorist', 'eluniversalmx', 'vwalker', 'funerals', 'funfunny', 'elthosian', 'genitals', 'impacts', 'elsewherebullies', 'hindusunderattack', 'shashitharoor', 'hindusunderthreat', 'funi', 'reminiscent', 'forfeit', 'elsegay', 'funileaks', 'cashier', 'httptcosqzotvsdc', 'genitalia', 'berta', 'cashslave', 'sanctuary', 'wcw', 'foreverrrr', 'shattered', 'removal', 'casket', 'pridemonth', 'elouisee', 'prideful', 'caspasiaboleyn', 'eloquently', 'eloquent', 'eloptimist', 'tubby', 'hindutava', 'vw', 'pricks', 'hindutvagetting', 'wasis', 'impactful', 'funimationsony', 'funinsultcrack', 'imp', 'priceless', 'elonmusk', 'priced', 'elongated', 'funjon', 'remy', 'elon', 'remynorth', 'httptcoskacplnhn', 'preying', 'cassie', 'funkad', 'shawnisfuego', 'bosniaks', 'elo', 'geniasaurus', 'elmo', 'renamed', 'hinduvta', 'imnotmessican', 'funky', 'gengoroh', 'renee', 'geng', 'preventatives', 'renewed', 'elmentary', 'elmarro', 'bagdadi', 'elmagooskuro', 'sanatan', 'foremost', 'ellsbelllls', 'ellison', 'prevail', 'shea', 'ellishornabrook', 'goodluck', 'foreigner', 'casters', 'hindúes', 'prettybsj', 'renirinse', 'immortal', 'immorality', 'prettyagain', 'funmiogunja', 'bafana', 'ellisholt', 'bornrichnigga', 'hinestonla', 'funnee', 'tyrant', 'islaam', 'sheconsulting', 'funnel', 'geneva', 'goodmorning', 'funnelfiasco', 'ellis', 'hinge', 'httptcosahxedt', 'hingham', 'httptcorynvsmwxwl', 'castles', 'hinijosa', 'elliottvkay', 'viruses', 'islamaphobia', 'islamaphobic', 'castrated', 'funneling', 'pressuring', 'borisjohnson', 'forecast', 'hinton', 'httpâ', 'rented', 'genesis', 'ford', 'sheetonurtweets', 'yada', 'weeb', 'sheets', 'immersed', 'hiphop', 'presiding', 'samusclone', 'weebs', 'elliott', 'catalyzed', 'elliotanderdon', 'elliot', 'hiphopsyko', 'generosity', 'elliebaker', 'ellie', 'hubby', 'generic', 'hippocratic', 'httptcoruxoaymbz', 'wcml', 'samsung', 'hubris', 'preservers', 'islamicterrorbombwaitingtogooffphp', 'ellenchisa', 'waxpancake', 'sheikhs', 'sheikhtimes', 'funnily', 'wch', 'forceful', 'bestiality', 'goog', 'immaturity', 'visa', 'badmouthing', 'presentable', 'catchup', 'funnyi', 'bestie', 'sampepper', 'httptcorskdjlajx', 'funnyif', 'funnylol', 'eljaverg', 'funnyrascist', 'imjuscam', 'bootyndabrain', 'islamisation', 'categorize', 'sampe', 'wayans', 'categorized', 'hipsbutt', 'preppy', 'hipsnlips', 'funnythen', 'shelled', 'hipsternudesgod', 'generated', 'generate', 'elizabethhobso', 'vuyos', 'vulva', 'googles', 'replay', 'betcha', 'vultures', 'funrun', 'badges', 'funsizedfazio', 'beth', 'wayask', 'elitism', 'função', 'shelteringsponsoring', 'elitest', 'booths', 'hisbdumbass', 'shelters', 'shelves', 'catfish', 'whodat', 'fupa', 'premier', 'generalkellyisaracist', 'elissa', 'eliseit', 'premarital', 'forbes', 'prejudices', 'prejudiced', 'hischool', 'elisarockdoc', 'eliothiggins', 'catfreq', 'furiechicago', 'cath', 'furiosa', 'huffingtonpost', 'eliminationkats', 'tsusan', 'reportedly', 'hufflepuffs', 'hislilbabyy', 'furiously', 'boosie', 'imfunkydee', 'furiousmulatto', 'httptcorlwzbqubs', 'pregnancies', 'tsunami', 'whois', 'repos', 'betrayal', 'imf', 'hisoka', 'preferring', 'furlowec', 'generalkelly', 'imdone', 'preferences', 'boooo', 'vulnerability', 'hispanicasianindianmuslim', 'furries', 'betraying', 'prefered', 'generalizes', 'represented', 'vulgarity', 'catholicism', 'hissy', 'hist', 'furrybugga', 'badassperger', 'boomer', 'historia', 'yreka', 'historianhe', 'furtherer', 'sheriffs', 'hughley', 'eliminatethem', 'predominately', 'boolean', 'httptcorhdokljndi', 'islamofascist', 'sherman', 'furtherment', 'weeeeird', 'vueltas', 'baconstin', 'bookworm', 'generalization', 'reps', 'sherri', 'vue', 'predecessors', 'predecessor', 'historyffs', 'historyfrederick', 'tâ', 'historyi', 'preconceito', 'whoisluan', 'whoisrondeodom', 'historyscoper', 'transphobicgay', 'historythese', 'furthermoreyour', 'precision', 'tão', 'furtherurdocs', 'cattle', 'catty', 'generalises', 'repub', 'vsramchandra', 'hui', 'hitch', 'furthest', 'precaution', 'furtvly', 'republicanmrs', 'hitchcock', 'foos', 'httptcordlrreymvg', 'backstory', 'eligible', 'eliflockajames', 'bewakoof', 'fury', 'boogie', 'causa', 'fusion', 'hitlers', 'repugnant', 'booed', 'elias', 'repulsivecans', 'hitlersbirthday', 'prblm', 'fuss', 'praylife', 'waydont', 'islamreligionofterror', 'hitmaker', 'hitted', 'reqs', 'genemack', 'backseat', 'eli', 'shielding', 'hitter', 'fussed', 'shields', 'gene', 'yaa', 'hulu', 'causewereguys', 'hum', 'xyz', 'visceral', 'fussy', 'islamthey', 'booboobritt', 'imagpie', 'requirements', 'requiring', 'vry', 'futur', 'shifting', 'vre', 'wcfcourier', 'yesssssssss', 'prattle', 'beyondscaredstraight', 'futurefeminism', 'gordonguano', 'beys', 'praticar', 'hives', 'cautious', 'praticante', 'praticando', 'rescued', 'shiite', 'gordypls', 'futuremd', 'bonsaitreehouse', 'vodafonein', 'hiw', 'caveat', 'bezza', 'researchers', 'hiwataris', 'caved', 'caveman', 'bonnie', 'backgrounds', 'genderqueer', 'elfwreck', 'humane', 'hiyoko', 'bonito', 'ismalists', 'cavs', 'resembling', 'backfire', 'genderflipped', 'hizballah', 'eleventy', 'cazzapuppy', 'futures', 'shin', 'hizbul', 'fuuck', 'hizbulmujahideen', 'wasabi', 'boning', 'cb', 'cba', 'wayfengshui', 'reservations', 'cbc', 'gende', 'cbcradioq', 'hizmetmovement', 'uaegov', 'uapa', 'isms', 'hizzsterr', 'vodafone', 'elevation', 'victory', 'ubc', 'fuukyothoughts', 'reset', 'eles', 'vishaldadlani', 'genarom', 'pqp', 'isolate', 'sallytreadwell', 'ppp', 'genanoncoward', 'whoissizzie', 'hk', 'eleoryth', 'eleonore', 'shiraz', 'hkp', 'tsang', 'isolation', 'pperrin', 'ppe', 'gems', 'resignation', 'hmare', 'httptcoqmdqlqqb', 'fuuuuccckkk', 'fuuuuuuck', 'gemmarogers', 'hmason', 'elenfaith', 'fone', 'powell', 'powdery', 'resilience', 'elemmiddle', 'powder', 'xxxxxxxx', 'pow', 'gemmalouxx', 'transparent', 'victorlopez', 'vpns', 'ts', 'salesforce', 'gotg', 'babyy', 'hmmdnt', 'pouring', 'resisted', 'httptcoqjdub', 'fuuuuuuuck', 'pour', 'ubisoft', 'gemmaburnsx', 'israels', 'geminitrick', 'israelunderfire', 'gothic', 'fuuuuuuuuuuuuu', 'boner', 'ubisofts', 'hmmmhave', 'elementfive', 'gemini', 'elementarymiddlehigh', 'gemeas', 'fuuuuuuuuuuuuuuuuuuu', 'elementarymiddle', 'babygirl', 'salary', 'elementaryhigh', 'resolving', 'hmmmmm', 'potions', 'salaries', 'hmmmmmm', 'gotoculinaryschoolthen', 'hmmpossible', 'hmoindia', 'salafists', 'folx', 'salafism', 'hmoindiawith', 'bhagwan', 'bonds', 'hmuhammad', 'hn', 'electro', 'potatoes', 'shithole', 'ceff', 'fux', 'bonded', 'salad', 'httptcoqgsdumrmt', 'fuxk', 'gelugor', 'electrlcmarina', 'humanityjihad', 'electricskylab', 'shiti', 'electric', 'electorate', 'humanityoverpakterror', 'followingis', 'yte', 'bona', 'hnktherescue', 'gels', 'fuxkrello', 'bhala', 'bombshell', 'fuxwidri', 'gellar', 'xxmizozorxx', 'geladeira', 'celebs', 'fvck', 'saitan', 'fvcking', 'electionyou', 'iloveredbonesz', 'posso', 'electionthey', 'humanitywe', 'hnrysmth', 'wholl', 'hoa', 'hoagie', 'hoarde', 'gej', 'possess', 'hoardings', 'posses', 'hoards', 'xxl', 'hoarse', 'eleanortabone', 'cellist', 'bombay', 'shitstorm', 'cello', 'shitt', 'geingobs', 'whome', 'elduderino', 'elducerises', 'voyeurism', 'fvckthefourth', 'followback', 'weh', 'poshlopez', 'follback', 'eldiariodedross', 'babie', 'fvckyeezus', 'eldest', 'ilovegarick', 'shittest', 'hoaxtourneys', 'posed', 'fvnxy', 'elderawesomeish', 'bom', 'ucla', 'elder', 'portuguese', 'censor', 'sainsburynews', 'fwd', 'eldefinido', 'ports', 'geezer', 'portrays', 'fword', 'elconfeti', 'fwu', 'httptcoqclsqaxojr', 'hobbit', 'hobiipretty', 'elbow', 'folkes', 'elbaxter', 'elasianful', 'isupportarnab', 'hock', 'elas', 'elam', 'restore', 'shivaji', 'voyeur', 'hodgson', 'restraining', 'whomever', 'ekthapatiger', 'eksith', 'bolt', 'shmack', 'folder', 'ekillahh', 'hoed', 'ekam', 'humanizing', 'fold', 'shoaib', 'italians', 'saiki', 'restriction', 'baaaaack', 'saifullah', 'porno', 'hoein', 'ilm', 'cept', 'porky', 'hoeing', 'shocker', 'fxukk', 'fyeredniquee', 'ejks', 'cereal', 'porkistani', 'hoesbitches', 'fyf', 'ejk', 'porkistan', 'porki', 'hoesenvyrockie', 'bhaskar', 'httptcopwzyrrlts', 'ceremony', 'porisso', 'ejekan', 'shoddy', 'ud', 'ejected', 'geetv', 'geetha', 'voce', 'azzamalirhabi', 'ejaculated', 'geertwilderspvv', 'ej', 'udah', 'hoeslovetelly', 'iterate', 'wcapes', 'uday', 'resume', 'xwritersblockx', 'resumed', 'poptart', 'itfor', 'hoess', 'popski', 'fodder', 'saiddone', 'poppy', 'hoesuck', 'foda', 'eitherstfu', 'translator', 'resurface', 'fyihis', 'boleh', 'shojo', 'humansocial', 'geenieyoung', 'eish', 'eiramaydni', 'eint', 'fyiyes', 'bhindrawala', 'truthfully', 'govmikedewine', 'einschonertag', 'eimzkavanagh', 'eilish', 'hoeð', 'eiht', 'sahih', 'eighttrayog', 'udp', 'eighth', 'itnever', 'eighteen', 'itno', 'geekyswede', 'poorest', 'eiger', 'eidlonimp', 'humen', 'eidh', 'fyn', 'pooper', 'geekysuzanne', 'hoffman', 'illnesssuicide', 'fyotweets', 'eiddeddie', 'shoots', 'hoge', 'shootshareeat', 'pooja', 'whomped', 'fmd', 'azealiabanks', 'eichenwald', 'hoggarts', 'chad', 'poochda', 'poo', 'ponytails', 'ponytail', 'shoplifters', 'chaddi', 'httptcopqtvybmue', 'retarted', 'eichel', 'hogging', 'bois', 'ehhhhh', 'boingboing', 'retd', 'chaeronaea', 'pondering', 'hohoho', 'chaeronaeas', 'flynnicism', 'azan', 'hoifvcgdhndashigfodsa', 'shoppers', 'rethink', 'retire', 'flygerianstunna', 'geekyjessica', 'pomegranate', 'flyfishidaho', 'boing', 'ehehe', 'chainreactionzz', 'hoiiesteazy', 'polygamous', 'chainsaw', 'fyoudbag', 'eheeeee', 'shore', 'polp', 'fyp', 'geekwire', 'fzfarulsweg', 'azadi', 'bhuktus', 'chairs', 'egypts', 'sagarikaghose', 'itsjustthai', 'retreating', 'egyptpakistanturkey', 'fâ', 'holbornlolz', 'saga', 'egyptinparadise', 'humiliation', 'shortace', 'retro', 'shortcomings', 'whooped', 'whoopi', 'flushed', 'egyot', 'polling', 'safty', 'flush', 'huminity', 'geeks', 'itsmego', 'politicspr', 'trusty', 'eguevara', 'chalk', 'egs', 'geeked', 'holcaust', 'saffronian', 'politico', 'trustworthy', 'retweetcatfish', 'geekdom', 'fluke', 'shorthair', 'safest', 'egotistically', 'bogun', 'itsomar', 'httptcopoeklonclr', 'ayyjesus', 'fórum', 'boggles', 'fūçkîñg', 'fluid', 'bogan', 'voxdotcom', 'uganda', 'chamar', 'fμ', 'geekboyx', 'safeguarding', 'gaa', 'gaaaaah', 'gabazito', 'geed', 'geechi', 'holdddd', 'policys', 'egoarchitect', 'whooping', 'gedownload', 'flu', 'chamo', 'policing', 'gedaincludin', 'bodied', 'champ', 'illdrinn', 'championed', 'polices', 'gabbiehanna', 'aymannathem', 'holdensedotal', 'egirl', 'aylssa', 'gabby', 'reveling', 'gabbybeauty', 'eggshells', 'uggs', 'whoopn', 'sadist', 'gabbyflobob', 'polarizing', 'eggplant', 'geclassicevent', 'sadhus', 'trus', 'geazy', 'reversing', 'revert', 'egging', 'ayesha', 'gabdulazeez', 'vowel', 'gpl', 'gearing', 'itv', 'saddest', 'holdmypoodle', 'ilhamfauzie', 'ilham', 'vowed', 'gr', 'reviewing', 'gearheart', 'poisonous', 'itvnews', 'revised', 'poisoning', 'geared', 'vouchers', 'shovel', 'gabefox', 'gabiekin', 'vouch', 'flourish', 'egarticle', 'flossweekly', 'saddening', 'gabisa', 'floridians', 'weinstein', 'boasted', 'flora', 'hunni', 'revolize', 'boarhound', 'sadden', 'holiestmost', 'wayland', 'trunk', 'ayaw', 'pogrom', 'gabriel', 'ikr', 'holla', 'geanp', 'boarders', 'showdown', 'poeticgenius', 'iusevatstoomuch', 'poem', 'hollaback', 'ayat', 'chanted', 'showered', 'chants', 'gdwessel', 'hollabackvan', 'efron', 'efimero', 'hunters', 'efftyler', 'whoredom', 'efforthope', 'holland', 'gdr', 'chap', 'sacked', 'graceful', 'floored', 'rewards', 'efffff', 'pocs', 'hollandaise', 'poco', 'showroom', 'rewatch', 'showrunner', 'whorl', 'gabrielchalita', 'hollered', 'gabriistheshit', 'uglier', 'ivantrba', 'pobre', 'gabronies', 'rewritten', 'bieng', 'pnw', 'rexhar', 'gdmq', 'gdm', 'sacco', 'httptcopbhlldmpcp', 'gabystama', 'grader', 'ikaw', 'hollers', 'pn', 'iver', 'flogs', 'xp', 'gadget', 'flocka', 'uglies', 'visnes', 'holli', 'floating', 'gadgets', 'sabu', 'gadhe', 'shriveled', 'hollister', 'pluralism', 'gae', 'waymanflow', 'rg', 'gdaymay', 'plump', 'plugged', 'plug', 'plucked', 'whosit', 'gaelic', 'iwish', 'gaemgyu', 'charger', 'hollowmaniac', 'awkwardep', 'gaetz', 'gdaconductor', 'gaf', 'flirted', 'efeknya', 'hollycocker', 'gd', 'saboteur', 'flirt', 'plotted', 'efcc', 'hollycollett', 'whove', 'charitable', 'flips', 'shterd', 'plonking', 'hollyoaks', 'trumpvirus', 'rhetorical', 'eeshaans', 'shudder', 'eerp', 'eerikz', 'httptcooxtxvbpm', 'gcse', 'warrant', 'sabotage', 'plethora', 'eem', 'httptcooxaaaumgp', 'gagacunty', 'votesyour', 'ugobananas', 'blur', 'eeee', 'izabdul', 'bluntmoms', 'eeediots', 'rhobh', 'eea', 'iii', 'hurricanes', 'edwinrowe', 'hollywoodnetflix', 'flinging', 'charliehebdo', 'gagaglobal', 'gagasapostle', 'edwin', 'hurriyat', 'hollywoodnetflx', 'pledge', 'izlam', 'hollywoods', 'hollywoodtake', 'bluff', 'pleasurebot', 'edwardmalnick', 'aways', 'edwardandrew', 'gagatom', 'gcmayhem', 'shutdown', 'edward', 'shutouts', 'bluewave', 'holman', 'awarenessstopgangdrug', 'bluetooth', 'gago', 'ihollaback', 'gah', 'gahh', 'shxt', 'pleads', 'gail', 'gailsimone', 'chars', 'ricans', 'gaiman', 'educhat', 'holness', 'jaahil', 'sia', 'wcall', 'playoverwatch', 'jaan', 'educationsince', 'siapa', 'gchq', 'votersown', 'educationisnotacrime', 'gaines', 'yun', 'educationhe', 'gaining', 'chases', 'educationcom', 'educationalrightsgtthey', 'await', 'sibandatapson', 'gccgc', 'gcc', 'playbook', 'fledged', 'uhh', 'plausible', 'jabs', 'gajwa', 'gram', 'awaasm', 'holographic', 'whr', 'blu', 'gcarothers', 'platforms', 'husain', 'whroe', 'uhhhh', 'saba', 'gajwah', 'gcamacho', 'transfered', 'plasticbieber', 'blowup', 'richards', 'wc', 'avs', 'saad', 'gbtidcusa', 'yezidi', 'plasma', 'riches', 'plants', 'grammer', 'httptcoolhxrwyuk', 'gramps', 'educador', 'educacional', 'eduardolacs', 'richest', 'galau', 'yezidis', 'edsheeran', 'holster', 'flavours', 'holtarturo', 'edreform', 'gbo', 'blot', 'sid', 'edomite', 'chavs', 'jacked', 'galaxyallie', 'edomedomites', 'httptcoohodltvu', 'galenherron', 'flavors', 'richmond', 'ignorantly', 'jackie', 'flavored', 'galentine', 'che', 'flavor', 'edlaw', 'galepsy', 'edl', 'jackleehi', 'edits', 'holtby', 'editors', 'voteridnow', 'bloomer', 'gbmiley', 'galero', 'vitamin', 'galesburg', 'gali', 'holyshit', 'cheapened', 'editorials', 'sideshow', 'galing', 'ignoarant', 'ricky', 'ryuuji', 'rickygervais', 'sideways', 'plagiarist', 'plagiarism', 'cheater', 'sido', 'cheaters', 'cheatham', 'whte', 'hombre', 'placards', 'rickyrick', 'httptcoodfbicebr', 'grandfathers', 'whtitloklik', 'edithfrost', 'avery', 'edited', 'pkk', 'rico', 'editampreform', 'pk', 'hustle', 'flattened', 'bloodiest', 'gbm', 'warnings', 'ridden', 'flatluigi', 'galinheiro', 'gbh', 'riddled', 'pixie', 'sighting', 'gall', 'edinburgha', 'sights', 'transcript', 'pix', 'flashing', 'homebodies', 'ignant', 'edict', 'pits', 'gallagher', 'gallery', 'grandpas', 'edible', 'piteous', 'homeboys', 'gallon', 'flashed', 'gbenga', 'siguele', 'sih', 'pitbull', 'pistol', 'homed', 'edi', 'sii', 'siiiigh', 'cheerleading', 'trajectory', 'ave', 'gallops', 'sikhism', 'gallows', 'avatastic', 'whusreallyhood', 'huu', 'galor', 'cheeseburger', 'homeforhomeless', 'jacob', 'edgeways', 'gbbie', 'vlack', 'gbaldy', 'whydoihaveto', 'edfisica', 'blokes', 'cheesy', 'traitortrump', 'pirate', 'bigwormshowsoff', 'piracy', 'homegtgtgtgt', 'gals', 'eder', 'homelands', 'votejktid', 'yoo', 'eden', 'flaming', 'eddiecsuf', 'rife', 'galvaopadua', 'galvatron', 'jacquard', 'eddieabell', 'cheezopath', 'silenced', 'granny', 'ryangebble', 'pious', 'rig', 'traitorous', 'pins', 'silk', 'blogger', 'rigging', 'igda', 'galwan', 'blody', 'homelessnessutmsourcetwtrsyndamputmmediumsocial', 'gazwae', 'trojan', 'blocksmutes', 'edchoice', 'homely', 'yhe', 'edchatie', 'homemade', 'homeopathy', 'rxptor', 'pinknews', 'homeowners', 'yhu', 'homer', 'jadhist', 'gam', 'rxnmark', 'edanedwards', 'gambhir', 'chem', 'whygamerhq', 'votedats', 'silver', 'hyderabad', 'gambino', 'chemicals', 'yia', 'gambinoetp', 'jaffaref', 'pineapple', 'rightsyou', 'bikes', 'gamble', 'blmla', 'graph', 'ecxuses', 'righty', 'pimples', 'ecumenical', 'simi', 'ecuador', 'ectocoolerhic', 'gambling', 'automotive', 'wbrokenbourgh', 'graphicfire', 'gamebecause', 'pillow', 'pillars', 'pillar', 'fking', 'chermarlene', 'whyhdo', 'automated', 'whyididntreportit', 'gameboylover', 'rihanna', 'votedad', 'gamedev', 'cheshire', 'simmons', 'autograph', 'hometowns', 'chested', 'gazing', 'votebluetoendthisnightmare', 'grappling', 'gazette', 'autocorrect', 'homewrecks', 'homicidal', 'pigeon', 'econ', 'ecomexpressofc', 'cheuya', 'rihtardd', 'riic', 'riiiight', 'riker', 'rikfiair', 'gamediviner', 'ecological', 'eclectic', 'riko', 'ecig', 'echoz', 'blithering', 'autobiography', 'echofade', 'homocide', 'simpler', 'echoes', 'echo', 'gaze', 'gazawaehind', 'riled', 'bilal', 'echidna', 'echelon', 'gameloading', 'eccentricities', 'blinked', 'blink', 'rutherford', 'homoerotic', 'gameofthrones', 'rin', 'pidgov', 'jaime', 'eccentric', 'gamepass', 'blindfold', 'ebz', 'chibok', 'ebuchholz', 'authors', 'gameplay', 'chicgamer', 'bilalkareem', 'ebst', 'jair', 'eboues', 'gazahtml', 'homofobiae', 'bile', 'homophob', 'gayम', 'gameragodzilla', 'blessings', 'ebook', 'votebiden', 'fiving', 'ebony', 'gayy', 'billaden', 'authoritarianism', 'chickeny', 'gaywhens', 'gamerbobobobob', 'wbrightly', 'gamergater', 'gayweightstdmental', 'eazyy', 'gratitude', 'blended', 'blend', 'homophobeic', 'homophobetransphobe', 'viu', 'trumplethinskin', 'gamerism', 'vosper', 'wbpictures', 'eazy', 'rushetteny', 'gayutmmediumshareserviceamputmcampaignsocialmediaamputmsourcetwitteramputmcontenthereisthecity', 'billie', 'eavesdropping', 'homophobiarape', 'chiefkeef', 'vortex', 'eaueau', 'rips', 'idolized', 'jakeboxer', 'homophobie', 'gamertag', 'eatâ', 'eattin', 'gaytransraperace', 'homosexualagendanow', 'vooolta', 'homosexualsarticle', 'homossexuais', 'wbox', 'rupert', 'homphobic', 'bleached', 'gamesafeau', 'graveyard', 'sinboy', 'jakewilliams', 'honduran', 'hone', 'gaytranspoc', 'austria', 'honestaccountable', 'eaters', 'eater', 'weirdness', 'rishisunak', 'honestiyemma', 'vontungent', 'gametoo', 'whyisitdirty', 'gameyall', 'fishy', 'honestupdate', 'yuo', 'sincerity', 'jama', 'hypocricy', 'wblack', 'sindarina', 'gamingandpandas', 'hypocrisies', 'easton', 'eastland', 'runny', 'gamingworlduk', 'gampang', 'easternfuck', 'chillcuz', 'gamur', 'jamaatis', 'gamurz', 'gana', 'vontethekidd', 'gayswhy', 'honeybadgerbite', 'honeymoon', 'jamaican', 'ganadora', 'gayswen', 'hongkong', 'easterncountries', 'gaystraighttrans', 'ganar', 'honk', 'chime', 'gaystarnews', 'chimp', 'chin', 'honkies', 'blasts', 'idiotð', 'whysoserious', 'graça', 'whytfyewmad', 'easiest', 'blasting', 'whywhy', 'jamesbolton', 'vonta', 'earthwhy', 'gaysrapeimbecilesprostitutesuglinessfat', 'jamescooperquad', 'earthquakes', 'gaysracismrapeself', 'jamesgunn', 'firstly', 'honoring', 'gayspractice', 'vondreaam', 'earthquakea', 'firsthand', 'honourable', 'hypothetical', 'yk', 'idiotyou', 'gayslesbians', 'hooded', 'chinks', 'hoodieallen', 'jamesxx', 'wbeing', 'hoodies', 'gandhiji', 'singled', 'singles', 'ganesh', 'pickup', 'chipotle', 'hoodlums', 'bimbolines', 'jamie', 'rkhayer', 'jamieagatharose', 'hysterical', 'earthif', 'rkp', 'hoods', 'earthers', 'gaysgotta', 'rld', 'wba', 'ganga', 'hoodsoff', 'earther', 'gangbang', 'gangbanged', 'gangbangers', 'whyy', 'pi', 'physique', 'physiology', 'jamuraa', 'ganghe', 'gaysfortrump', 'physics', 'rma', 'chloe', 'sinjar', 'ganging', 'waynejburrows', 'blankbbs', 'chloejames', 'phxken', 'hyuna', 'chlorine', 'hoogli', 'phrases', 'sinks', 'tropical', 'gayrights', 'earphones', 'vomiting', 'tropictiff', 'earnest', 'hookem', 'blanche', 'fiona', 'finsub', 'earlyman', 'wb', 'gangsta', 'ro', 'roaches', 'janet', 'trumpgestapo', 'fino', 'earlychristmas', 'gangstalking', 'gangster', 'sipping', 'ruim', 'phonkytown', 'gayreligiousracist', 'janis', 'greatness', 'janitors', 'wic', 'hooknosed', 'phoenixblue', 'aurangzeb', 'gayrapewoman', 'auragasmic', 'ymca', 'gangsthat', 'siri', 'ganguro', 'idioti', 'hoolagin', 'hoooooo', 'ganguros', 'janna', 'blair', 'phir', 'hoopin', 'auntysoapbox', 'blaine', 'roastd', 'hooserhausin', 'earloffujoshi', 'philosophy', 'ganja', 'welbeck', 'xian', 'roasting', 'january', 'ganjam', 'ganun', 'gao', 'gaokao', 'hyyh', 'hz', 'robbers', 'phillyhey', 'philly', 'aunts', 'earliest', 'phillip', 'rudy', 'waz', 'blacky', 'hoot', 'robbing', 'gappubhakt', 'chop', 'gappyranks', 'philippenis', 'earl', 'aunque', 'gaps', 'gar', 'sisi', 'phildoran', 'gayrapesexistracist', 'roberts', 'robfit', 'eapakistani', 'eam', 'garage', 'vomited', 'rudhoeenglish', 'vivant', 'binksterb', 'eagle', 'eagjigshidmwnqyfnivm', 'garb', 'eagerly', 'wayyyyy', 'eaeolian', 'sistahscholar', 'troubles', 'garbageif', 'garbageperson', 'robobengt', 'wickedly', 'fingertip', 'fingersinthemouth', 'robots', 'garbled', 'ia', 'jar', 'gardai', 'ruckus', 'garethjumaoas', 'gayraperacist', 'gayrapehivaidsrace', 'fingerlickngod', 'gayracial', 'victimize', 'blackmilkx', 'pharmacy', 'rocked', 'gaypride', 'trafficker', 'biologically', 'httptcomszqbmhdk', 'gaypornn', 'pgn', 'pg', 'choudary', 'vom', 'día', 'chouhos', 'chow', 'garethnelson', 'dégénérés', 'décapitation', 'rockin', 'sixties', 'dçksçldskdlk', 'peymaneh', 'xgp', 'dzsuwoo', 'trumpcrimesyndicate', 'hopeless', 'dz', 'identifying', 'httptcomqxjzsilp', 'hopelessly', 'garfield', 'dysphoric', 'findings', 'identifies', 'blackmailing', 'welcoming', 'jash', 'dyslexicdwarf', 'dyslexic', 'hopeloze', 'dyonisiis', 'atwood', 'dynteasing', 'dynsparky', 'petronella', 'blackmailed', 'identified', 'rockstar', 'rubble', 'gaypedophile', 'financials', 'httptcomqewq', 'attribution', 'garfunkel', 'sjwlogic', 'dyncounterfeit', 'traditionalist', 'sk', 'attracts', 'dynastyycolee', 'jasons', 'rod', 'gayonet', 'garibi', 'garlanded', 'hopeyouareeliminated', 'rubbed', 'blacklist', 'jatka', 'rodger', 'yuriko', 'dynastic', 'petechesbot', 'finale', 'garlickingyt', 'petebuttigieg', 'petebreaux', 'gayonce', 'garner', 'troupe', 'hopin', 'garnerlive', 'volvo', 'petaindia', 'dylanwwilson', 'skate', 'wickedness', 'trumo', 'dylanvadnais', 'hopless', 'dylanmills', 'gaylord', 'jaw', 'skateboarding', 'garrettabrown', 'birb', 'dylankreiser', 'skaters', 'jaws', 'ideaology', 'gaylibs', 'rogers', 'garrisons', 'dylahoogaah', 'garronpresident', 'skating', 'blackglass', 'attorneys', 'christianophobia', 'gaylgbtqi', 'attn', 'garthbrooks', 'gayley', 'filmpunk', 'attila', 'attic', 'rterdogan', 'filmed', 'blackgay', 'dykes', 'hopping', 'rtcom', 'gaylestorm', 'hopradio', 'gary', 'wicker', 'rtb', 'fillers', 'jayjthekidd', 'iambidemi', 'garyiq', 'dyes', 'hopyehopyegood', 'rohingyas', 'blackest', 'garyworkid', 'rojas', 'blacked', 'persuasive', 'wayyyy', 'blackcolored', 'skeptical', 'gased', 'ultimo', 'gaske', 'roleplays', 'dyatlov', 'trousers', 'icymi', 'httptcommutay', 'truestory', 'gaslit', 'gaylesbi', 'dyahna', 'roller', 'dy', 'christinelove', 'sketchy', 'dwyane', 'gasped', 'gaspp', 'iconic', 'dwindlingampswindling', 'rollin', 'httptcomltoyml', 'attendant', 'dwindle', 'christopher', 'iamcaticorn', 'horacemd', 'dwights', 'horas', 'dwidgy', 'dwells', 'christs', 'dwelling', 'filas', 'filam', 'horde', 'jaz', 'persisted', 'dwellerofanus', 'gassed', 'dwelled', 'gasses', 'birthdays', 'blackamp', 'birthed', 'persians', 'chromaticx', 'horizon', 'birther', 'skincare', 'dwell', 'chromebook', 'icky', 'dweebs', 'skinhead', 'iamdiddy', 'gayles', 'gaston', 'persecute', 'jazz', 'gatchenhasmcfly', 'romanticizes', 'romanticizing', 'waynepositive', 'gayl', 'perry', 'gated', 'rsgvillena', 'hormonal', 'gatekeepers', 'perpetuated', 'perpetuate', 'gayima', 'gayi', 'skirmisher', 'icecreamqueens', 'dwarf', 'bkt', 'rritan', 'gayhiv', 'httptcomenwsuwo', 'dwama', 'welllllll', 'icecream', 'chsfword', 'dw', 'iceberg', 'yvonne', 'wayyy', 'dvr', 'wayy', 'gateway', 'biscuit', 'biscuits', 'horndog', 'icallhoesout', 'wellness', 'yoga', 'perkins', 'perish', 'ic', 'periodt', 'gayhind', 'skrr', 'horns', 'jbirt', 'ronaldo', 'atp', 'ronan', 'atone', 'figuratively', 'figurative', 'pergunta', 'dvorkin', 'performs', 'gatherings', 'chucker', 'atmosphere', 'gatherthepack', 'skyelittlejohn', 'bizzaro', 'chuckled', 'skype', 'gato', 'gator', 'gaygender', 'perf', 'perezhilton', 'gaygaylekasabs', 'ronnieradke', 'iamlille', 'gatsby', 'duz', 'duyen', 'hornyfacts', 'duvido', 'jcarnivale', 'duuuuude', 'horoscopes', 'fightin', 'roofs', 'jcherkis', 'dutyfree', 'rooftop', 'dutybullied', 'chump', 'rookie', 'chums', 'dutybeheading', 'iammatticus', 'wicks', 'horrendously', 'gatto', 'chunk', 'chunky', 'rped', 'gayfriend', 'trucks', 'grift', 'dutton', 'gatzgames', 'gayfisting', 'slackhq', 'churchill', 'gau', 'fightbut', 'pepsi', 'gayff', 'gaucherhockey', 'volverlo', 'rooshv', 'royalty', 'roostrwoodstock', 'dutt', 'chuslam', 'slag', 'httptcolyamsnqc', 'httptcolwkqvuimv', 'atinys', 'gaudy', 'gayfaggot', 'gaulle', 'horribleness', 'jden', 'gayfag', 'peoplewomen', 'jdfromny', 'peoplethey', 'gayest', 'ropes', 'peopleschoice', 'fiftyshades', 'rorschach', 'gaydumb', 'gaumutr', 'gaumutra', 'chyna', 'rosariogomes', 'gauntletspirit', 'dutchdl', 'gaydisablerape', 'volutenteered', 'grin', 'slams', 'gaydifferent', 'fiercely', 'volupté', 'gaydate', 'slandered', 'dusty', 'gaurav', 'gaurentee', 'waystrump', 'rowan', 'dustinleidgett', 'gaves', 'gavinout', 'gaydar', 'jearle', 'pentagonpressec', 'bitchrt', 'gaybistraight', 'vixen', 'dustinlee', 'cig', 'gaybisexual', 'pension', 'gaybi', 'fidayeen', 'rosti', 'slanders', 'dustbin', 'gaybashing', 'pennsylvania', 'gawar', 'athlete', 'penninsula', 'bitchh', 'gayb', 'slaps', 'horrors', 'penises', 'jeddine', 'gayaids', 'grindr', 'gayactuality', 'waysneeds', 'slashdot', 'penguins', 'rots', 'horsejean', 'dusron', 'penguin', 'cigs', 'duskit', 'durris', 'atheistraven', 'gaya', 'atheistic', 'yoh', 'httptcolrgrigqo', 'slaughtering', 'tracy', 'fics', 'slaver', 'penalised', 'cinema', 'pena', 'httptcolpgtdopb', 'pelt', 'jeeze', 'cinews', 'ciomdx', 'circa', 'ficar', 'pejorative', 'circlejerk', 'gris', 'httptcolnhwyee', 'ateez', 'circulating', 'peg', 'fic', 'ateen', 'xddd', 'slaving', 'peep', 'peek', 'slay', 'slaying', 'atau', 'jeffreestar', 'ummsuhaym', 'sleeper', 'slandering', 'ataturk', 'tracking', 'sleepover', 'unabated', 'ata', 'grocery', 'peddoc', 'asz', 'xcollegeboy', 'peddled', 'peddle', 'slammed', 'pecking', 'pecker', 'sleeve', 'pecannsundae', 'aswel', 'peasant', 'jehadis', 'pears', 'httptcoliskpuuq', 'peaks', 'citynews', 'warfare', 'citys', 'slice', 'sliced', 'tracked', 'grim', 'sliding', 'slight', 'astray', 'civilisation', 'httptcolgtrogvnk', 'civility', 'astounding', 'atlassian', 'peacefull', 'groping', 'slip', 'warehouse', 'slipped', 'astonishing', 'slippery', 'slit', 'pdf', 'cjjacobs', 'pcs', 'cjjmiller', 'fever', 'tracey', 'pbhushan', 'país', 'jennawilkins', 'slope', 'cking', 'wardrobe', 'cks', 'skynews', 'paypig', 'sloth', 'sloths', 'jennifercohagen', 'fetishizes', 'fetishized', 'jennofhardwire', 'skulls', 'asswipe', 'fetishize', 'jennykutner', 'grounded', 'fetishization', 'assunto', 'paychecks', 'atrocious', 'slug', 'slums', 'httptcoktnqadtm', 'xanthecat', 'atrocity', 'zabehulahm', 'pawns', 'jeongguk', 'ward', 'paved', 'pausing', 'slutshaming', 'slutty', 'festering', 'fester', 'grouped', 'associations', 'clarified', 'sma', 'smackdown', 'clarkhat', 'clarkkent', 'grexican', 'associates', 'traders', 'trabalho', 'paula', 'zabul', 'smallest', 'patty', 'jerid', 'tr', 'skinnier', 'fertility', 'jerkoff', 'jermzvi', 'jerry', 'classical', 'yuta', 'patrol', 'smashed', 'patricklenton', 'classics', 'classifications', 'yusufpeaceful', 'assist', 'smashing', 'smd', 'smdh', 'jerusalempost', 'patients', 'smearing', 'classless', 'smears', 'tpwrules', 'smelling', 'assignment', 'assigned', 'paternity', 'zach', 'tpstigers', 'asshat', 'grp', 'asset', 'feral', 'assessment', 'pasts', 'smiles', 'cld', 'pastels', 'smirk', 'assertive', 'passthemike', 'passports', 'passport', 'asserting', 'assert', 'passionately', 'attire', 'smmfh', 'cleaners', 'grrrrrr', 'smoked', 'jest', 'unbelievably', 'passando', 'assed', 'smokes', 'pashtuns', 'jesuischarlie', 'grudge', 'jesuschrist', 'pasabas', 'assaulter', 'yurrr', 'grudges', 'clearer', 'gruesome', 'assassin', 'grumps', 'parttimehobo', 'grumpy', 'assam', 'partnership', 'jesuswlks', 'grumpyvancouver', 'unbiased', 'clegg', 'clementineford', 'zackbeauchamp', 'cleon', 'femisnsn', 'skanky', 'cleric', 'httptcojtrmhhtmtj', 'cleverly', 'aspiring', 'aspired', 'skank', 'partially', 'cliched', 'grup', 'cliché', 'clichés', 'parsi', 'attributed', 'smth', 'feministspanker', 'jewelry', 'jewels', 'aspiration', 'clicky', 'gruyere', 'clientpolicy', 'parliament', 'parle', 'cliff', 'parks', 'gs', 'gsa', 'httptcojrpkjcnvh', 'climb', 'feministing', 'gsl', 'cling', 'snack', 'tp', 'greet', 'asl', 'snape', 'snapping', 'clipe', 'gspitzerr', 'siya', 'parh', 'zacks', 'jfengel', 'parenthoods', 'gta', 'snarking', 'askin', 'snatch', 'snatchers', 'clit', 'auction', 'jfk', 'jfklibrary', 'pare', 'sitter', 'pardusxy', 'trafficking', 'askhermore', 'tragedies', 'snd', 'parchment', 'parasol', 'parasites', 'jg', 'paraphrases', 'audmum', 'feminisms', 'wwii', 'paramore', 'sneaker', 'httptcojmbdskwvf', 'jharkhand', 'paraded', 'sissy', 'wena', 'augvision', 'clothesn', 'wwaazzaap', 'aukat', 'wench', 'snipe', 'sirscatters', 'cloudpeople', 'vick', 'paperwhitevoyager', 'unchained', 'auntie', 'clowned', 'snitch', 'paperback', 'greed', 'panty', 'snl', 'wuth', 'gtgtgtgtgtgtgtgtgtgtgtgtgtgt', 'wendy', 'pansy', 'pansies', 'panorama', 'clumsy', 'snooki', 'zahil', 'unchillgabe', 'femal', 'unchristian', 'fem', 'snoop', 'cmg', 'aus', 'pander', 'greatly', 'uncivilised', 'jihadies', 'gti', 'ashy', 'felony', 'snoring', 'jihadijihadmuktbharat', 'felonies', 'pamelageller', 'felon', 'ashutoshb', 'palms', 'gtmuslim', 'gtnever', 'httptcoisdyggg', 'palm', 'ashran', 'sinto', 'coachella', 'jihadistjoe', 'palin', 'coaching', 'palgharmoblynching', 'warming', 'snowflake', 'snowflakes', 'palestines', 'ashoka', 'jihadmuktbharat', 'snowing', 'ashok', 'snp', 'fellas', 'fella', 'cobain', 'jihadthey', 'jihadu', 'httptcoinyoeskqs', 'feliz', 'paks', 'sinister', 'cocaine', 'ashleyheil', 'jihadwhich', 'cockoh', 'ashley', 'warms', 'jihatweanbarwea', 'pakistanarmy', 'pakistanagainstminorities', 'cocks', 'gtrt', 'soaked', 'jilevin', 'pajeet', 'pajamas', 'wu', 'jillpantozzi', 'greasy', 'paired', 'sob', 'sober', 'guantanamo', 'httptcoihtnirjma', 'sobs', 'jillzarin', 'soc', 'ashamni', 'coconut', 'painbueller', 'cocota', 'wtvr', 'codechef', 'uncontrollable', 'pai', 'pahlkadot', 'singh', 'pahle', 'pahahahaha', 'coded', 'singer', 'codeforamerica', 'pagers', 'codemastermm', 'pageants', 'guardians', 'codemonkeyuk', 'pagan', 'gud', 'gue', 'traininvainn', 'toy', 'padres', 'asciibear', 'coexistence', 'feisty', 'socials', 'wannabes', 'feira', 'pacquiao', 'jimmygeekpa', 'societypeople', 'pacman', 'guests', 'jimmykimmellive', 'jimotermat', 'package', 'coin', 'sociology', 'jinho', 'feign', 'jinn', 'pacers', 'guh', 'guidance', 'sockpuppet', 'jio', 'guided', 'jira', 'coldplay', 'aryan', 'authentic', 'uncool', 'jisung', 'sodomize', 'arvindkejriwal', 'jitsu', 'jiu', 'gratuitous', 'collaborating', 'oxford', 'collaboration', 'httptcohpydzetrpn', 'sofrem', 'simpsons', 'feelin', 'guiltyx', 'jj', 'collateral', 'simps', 'guise', 'guitar', 'tower', 'collectively', 'ow', 'softly', 'feeble', 'overwhelming', 'softsurv', 'overwatch', 'jkohlmann', 'trains', 'guj', 'soggy', 'sogie', 'wanker', 'overtime', 'overthrow', 'articlesposts', 'httptcohhkkbluj', 'overseas', 'overreacting', 'soil', 'trait', 'overpaid', 'overnight', 'feces', 'gulen', 'arson', 'wank', 'overkill', 'sole', 'arseholes', 'tow', 'overhead', 'arsehole', 'httptcohbxvcuvvnk', 'jmeade', 'solidly', 'overdoing', 'overcoming', 'feathered', 'arrowsmithwoman', 'gumbo', 'simmonds', 'colorful', 'jmorganjamie', 'arriving', 'oven', 'ovation', 'feast', 'graphite', 'solomon', 'solri', 'outworlddota', 'outweigh', 'httptcohbbhlccqs', 'uncultured', 'arrive', 'arrivalgame', 'colorist', 'tourneys', 'arrests', 'gummy', 'solving', 'jneen', 'zakirnaikirf', 'arre', 'gump', 'jnk', 'gums', 'somalian', 'undead', 'colt', 'grape', 'somalisarecool', 'arr', 'somebodys', 'joannemillermp', 'outie', 'tourists', 'httptcogwbusbw', 'fearblandness', 'arnt', 'avacadosoup', 'vibrating', 'gunmen', 'outbreak', 'silicon', 'arnabgoswamirtv', 'arnabexposessonia', 'arnab', 'somes', 'gunn', 'fda', 'comcast', 'fcuk', 'oughta', 'somethings', 'ouat', 'otvrztzwiizszpuw', 'armpit', 'arming', 'avatarcmoney', 'wandering', 'armies', 'comedies', 'comedium', 'fckin', 'wesleywitch', 'armia', 'joebentley', 'comeuppance', 'armenians', 'otaku', 'ot', 'wt', 'avenge', 'avengers', 'oswk', 'fbnhelp', 'wswsupdates', 'avenue', 'ostracized', 'ostracised', 'comical', 'wsp', 'comicsalliance', 'armani', 'comingoutday', 'joel', 'comm', 'faça', 'signals', 'signaling', 'gurage', 'wsj', 'joelizaharrison', 'commander', 'gurl', 'toughest', 'zamatee', 'joemaloma', 'osamabinheemin', 'commandments', 'averaging', 'joenbc', 'oryx', 'orwell', 'orvtech', 'guru', 'fazem', 'joerogan', 'orphaned', 'tougher', 'gurus', 'arkangelwinter', 'ornaments', 'gusta', 'gut', 'gutless', 'arizona', 'sidney', 'faz', 'wandered', 'arisroussinos', 'undercover', 'wsabookstore', 'arising', 'arises', 'faye', 'toughen', 'underdog', 'soooooo', 'fax', 'gutsy', 'gutter', 'aries', 'guygirl', 'organize', 'favre', 'underestimated', 'joffrey', 'westcoastanime', 'undergo', 'jogging', 'jogos', 'favourable', 'guzzler', 'sorr', 'favorites', 'communicating', 'sorrow', 'grammys', 'gvn', 'ordering', 'undergroundbby', 'underlying', 'argumentative', 'johncena', 'communistsmuktbharat', 'zamiratwitt', 'orangepuck', 'communitiesu', 'orang', 'argues', 'sibling', 'argued', 'communitys', 'westernreviews', 'comn', 'wrongdoing', 'arguably', 'touches', 'argonblue', 'optimal', 'sosa', 'companion', 'westerns', 'optessors', 'argh', 'opt', 'gworroll', 'argentina', 'opressed', 'awakening', 'oprah', 'johnnymedieval', 'sought', 'underneath', 'souh', 'underpaid', 'gyal', 'httptcofnxfzvtz', 'awarded', 'httptcofnxebnw', 'arewere', 'warped', 'fatwas', 'opposites', 'underrated', 'souljaboy', 'arenas', 'fatuous', 'zane', 'johns', 'oppa', 'johnsarkiss', 'compelled', 'compelling', 'compensate', 'transformation', 'shunned', 'opinionated', 'tou', 'soundcloud', 'graduates', 'competed', 'fattest', 'operations', 'soundofmaddie', 'soundtrack', 'soup', 'competitions', 'openbsd', 'sourcing', 'jojobean', 'haa', 'haaaa', 'oop', 'archives', 'complement', 'jokeamp', 'fatphobia', 'ooooh', 'awh', 'fato', 'linuxfiend', 'sovereignty', 'wristbands', 'sow', 'oohshxtpay', 'archer', 'awizardsbeard', 'complicate', 'archaeologists', 'wrist', 'complimenting', 'sp', 'toto', 'ontem', 'jokereplica', 'jokers', 'onslaught', 'shrugged', 'spacebatgal', 'awkwardly', 'ons', 'fatherless', 'haaretzcom', 'jokesbut', 'jokesgay', 'onlylookatmino', 'shrinking', 'arcadia', 'compulsion', 'compulsory', 'onlineabusepreventionorg', 'graders', 'shrine', 'arcade', 'jokesi', 'spaghetti', 'arbonne', 'onikeji', 'shriekapotomos', 'httptcoevsrefrd', 'ararmaher', 'yuck', 'shree', 'jokesrape', 'aramaic', 'ong', 'jokessigh', 'concede', 'oneswen', 'arabthomness', 'spaniel', 'conceived', 'onesay', 'spanked', 'spanking', 'onepiece', 'fatenumberfor', 'spared', 'arabmuslim', 'sparkle', 'httptcoetrqqxjih', 'onedirection', 'httptcoetgwayvhm', 'spat', 'showers', 'jolie', 'httptcoesecfgo', 'jon', 'zara', 'transgay', 'habits', 'conclusions', 'omniatweets', 'conclusive', 'habitually', 'speach', 'fatah', 'arabeth', 'concussion', 'jonathan', 'omgg', 'fasting', 'totem', 'speakers', 'wrestled', 'condescending', 'fastest', 'omasirichukwu', 'conditioner', 'omarosa', 'condo', 'spear', 'jong', 'condoning', 'fassnidge', 'spears', 'spec', 'conducted', 'oluwaluckie', 'specialised', 'specialist', 'hacerle', 'confederalism', 'confederate', 'aquela', 'gpa', 'wrecking', 'confess', 'aqualec', 'oligarchy', 'transicnyc', 'totalitarianism', 'wests', 'totalitarian', 'confessions', 'confessyourunpopularopinion', 'confidant', 'confided', 'specifics', 'confidently', 'ayo', 'configuration', 'ayodhya', 'specify', 'aq', 'configuring', 'specly', 'haciendo', 'spectrum', 'ola', 'speechless', 'conflate', 'speed', 'conform', 'apricot', 'jordanian', 'goya', 'oklahoma', 'confrontations', 'confronted', 'farting', 'ayy', 'jordanl', 'wraps', 'approximately', 'spells', 'okayy', 'approving', 'confusingthingsgirlsdo', 'confusion', 'cong', 'farted', 'spencer', 'undone', 'spewed', 'hadd', 'approaching', 'spews', 'oikawa', 'joritson', 'az', 'oicoci', 'httptcoeedxrujdxe', 'wqad', 'approached', 'spice', 'ohtobs', 'ohthatliamm', 'spick', 'hadid', 'azad', 'congressmuktbharat', 'appreciative', 'farmers', 'appreciating', 'farmer', 'conman', 'spiders', 'connecticut', 'farking', 'appreciates', 'spike', 'connects', 'ohhhhh', 'shops', 'walter', 'spikes', 'conner', 'fargo', 'ohdearyme', 'farce', 'connollyisking', 'farbenstau', 'wesupportarnab', 'faqinhell', 'ogar', 'connorsmart', 'hadīth', 'appointment', 'josie', 'haechan', 'fanwar', 'offspring', 'appoint', 'offside', 'spineless', 'joss', 'conquests', 'jot', 'cons', 'spinich', 'translated', 'fanthat', 'spinning', 'applied', 'wesupportarnabgoswami', 'applicants', 'hafeez', 'officialbeech', 'zayn', 'shook', 'applause', 'splash', 'applauding', 'splicers', 'applaud', 'hagee', 'splitting', 'jourrrrrrrnalism', 'spock', 'hagiasophia', 'fanny', 'spoiling', 'offenders', 'hago', 'azw', 'appearing', 'azz', 'sponsoring', 'considerado', 'sponsors', 'offal', 'walt', 'fanfic', 'hahaa', 'zealand', 'appeals', 'httptcodplyhcmyz', 'zealot', 'spop', 'conso', 'shoenhead', 'console', 'sportscasters', 'unfaithful', 'conspiracies', 'sportsnation', 'sporty', 'torvos', 'fancams', 'fanboy', 'spotlight', 'fanbase', 'wetback', 'fanaticism', 'jrojo', 'spousal', 'spouted', 'ocs', 'sprayed', 'torturous', 'wetbacks', 'spreaders', 'governors', 'spreads', 'occurred', 'famouse', 'aposto', 'occupying', 'sprees', 'unfathomable', 'spring', 'warriorsialkot', 'apostate', 'springs', 'sprinkled', 'baat', 'sprinkles', 'apostacy', 'consult', 'zebra', 'governmental', 'warriortank', 'spy', 'squares', 'hahahahahah', 'obuma', 'hahahahahaha', 'zeenewsenglish', 'consumers', 'hahahahahahah', 'squeaky', 'obsolete', 'jsydneym', 'shitting', 'wowc', 'hahahahahahahaha', 'apologetic', 'obsess', 'contain', 'observe', 'containing', 'contains', 'obrien', 'contemplating', 'squishilicious', 'squldz', 'obliterate', 'sr', 'shitted', 'obligations', 'objects', 'objectivism', 'apocalypse', 'srebrenica', 'objections', 'contents', 'objecting', 'objectifying', 'srh', 'objectification', 'hahahha', 'apj', 'baboon', 'shitpost', 'contested', 'obfuscation', 'sriracha', 'faltou', 'continents', 'unfolding', 'srs', 'srsantorini', 'obedience', 'obbassi', 'wout', 'ssay', 'apenas', 'falserape', 'obamacare', 'wounded', 'contracting', 'ssr', 'contraculto', 'oatmeal', 'sstwinrova', 'contradict', 'contradiction', 'oapis', 'contraption', 'hail', 'oak', 'falsehood', 'stability', 'stable', 'wallpaper', 'vessels', 'apa', 'stacked', 'aorg', 'torn', 'staffer', 'zeina', 'ao', 'nylenestor', 'tormentors', 'staged', 'controllers', 'babys', 'stages', 'judgments', 'staggering', 'stahl', 'wot', 'nycjulienyc', 'hairlines', 'unfriend', 'worthwhile', 'contry', 'nya', 'judicial', 'stained', 'stake', 'nwo', 'stakes', 'fallacy', 'wey', 'stalkers', 'tormentor', 'gotcha', 'nvanderw', 'nutty', 'stalks', 'stall', 'haitian', 'convent', 'haiwan', 'httptcockfedukn', 'conventional', 'falcon', 'conventions', 'juegosdecolegio', 'stamp', 'worthlesspakistan', 'transphobes', 'haj', 'conversely', 'tormenting', 'conversions', 'nusra', 'juggalo', 'shinynhappy', 'httptcochgkbrirw', 'stancollymore', 'fakewell', 'shiny', 'backbone', 'unga', 'gospel', 'shines', 'standalone', 'juices', 'torment', 'hajj', 'anyday', 'nuns', 'juicyjayyx', 'nunca', 'ungodly', 'standings', 'numeric', 'standpoint', 'httptcocehyduybs', 'convs', 'numb', 'faker', 'anus', 'stanford', 'nuke', 'stanfordmed', 'stank', 'anuragkashyap', 'nuffink', 'stanphilo', 'tori', 'halalfam', 'unholy', 'fakecase', 'cooky', 'tore', 'nu', 'fak', 'julie', 'unhrc', 'stardust', 'starfishclub', 'antonio', 'nri', 'faithfulness', 'starmer', 'juliussmalema', 'halflife', 'halfrican', 'antithetical', 'faithful', 'unhumanrights', 'starring', 'antithesis', 'coongawd', 'nowâ', 'torch', 'gorda', 'starter', 'antispam', 'startup', 'starve', 'gora', 'httptcobpjxjwhlh', 'fairfax', 'nowe', 'faire', 'cooperq', 'halle', 'gops', 'antisjw', 'coordinates', 'stat', 'novo', 'halletecco', 'hallmark', 'backwoods', 'cooties', 'topping', 'hallways', 'copenhagen', 'halo', 'copies', 'copious', 'notyourscapegoat', 'httptcobizotmj', 'jurijuri', 'topper', 'jurisdiction', 'failures', 'hals', 'statistical', 'halt', 'notrust', 'coralivesey', 'notre', 'notracist', 'coração', 'corbin', 'goosenetworkusa', 'antigg', 'statsdgraphite', 'cord', 'antifempsycho', 'cordial', 'juss', 'notjuice', 'topless', 'failedmgc', 'antifeminazi', 'wallet', 'corinthians', 'notices', 'corn', 'unicorns', 'hamburger', 'cornered', 'nothe', 'corners', 'staunch', 'notfaulty', 'httptcobbqycdd', 'notepad', 'antichristian', 'notchrissmith', 'notallmen', 'notalleverything', 'std', 'notagoodfatty', 'justhonest', 'httptcoaxpnlsikg', 'corporation', 'steadily', 'fagot', 'corpus', 'corpuses', 'stealers', 'nosotras', 'gook', 'noshirtkurt', 'steaming', 'steamy', 'norway', 'steeevi', 'shelly', 'steel', 'antagonized', 'justifiably', 'normani', 'norman', 'httptcoashijrfr', 'shelf', 'normalizing', 'ant', 'normality', 'normalising', 'normalise', 'unilever', 'anshul', 'cosas', 'stella', 'cosign', 'versa', 'coslopuss', 'goofy', 'ansaralummah', 'stem', 'noooooooooooo', 'cosplaying', 'stemmed', 'stems', 'shehzilk', 'shehzadind', 'stephanie', 'handicapped', 'shefvaidya', 'handing', 'stephenathome', 'anos', 'justintrudeau', 'anorexic', 'factually', 'nonprofits', 'stepping', 'couch', 'anonymously', 'handlers', 'stereotyped', 'noniggers', 'nonexistent', 'sheet', 'anonymizing', 'sterile', 'nonchalant', 'coughlan', 'nonbeliever', 'justnathaly', 'sterling', 'factsvsopinion', 'anonmnom', 'httptcoaikasu', 'councillors', 'anonheel', 'sheeps', 'justsayin', 'anong', 'counselling', 'counselor', 'nominated', 'anon', 'steveklabnik', 'anomaly', 'nomcookiesnom', 'steven', 'nolanwhyte', 'stevenbirtreal', 'ano', 'factories', 'counterinsurgency', 'counterpart', 'noisundays', 'counterparts', 'stevesalaita', 'noin', 'counters', 'counties', 'stevestreza', 'stevie', 'noexcuses', 'noes', 'noellejoyeuse', 'noel', 'juxtaposition', 'jvdgoot', 'bagh', 'countryboi', 'jw', 'nobun', 'nobullshitgamin', 'httptcoaeeupskq', 'fack', 'countrymen', 'facist', 'facism', 'countrys', 'handunit', 'announcing', 'facilities', 'announces', 'stibbons', 'toopawned', 'announcements', 'handwritten', 'nl', 'stiff', 'zhanaeldaiche', 'courageously', 'nkopper', 'kaabah', 'courses', 'stigmas', 'nje', 'handy', 'niños', 'niñas', 'courtesy', 'kaalu', 'stil', 'annihilated', 'bahrain', 'cous', 'nitramy', 'facerealitynow', 'nitin', 'uninformed', 'annies', 'annielloyd', 'annieknk', 'stimpyrules', 'nips', 'nipples', 'worldends', 'stinch', 'coverings', 'anniechaplin', 'covert', 'niners', 'ninel', 'nineinreverse', 'bail', 'stink', 'sharks', 'fabulous', 'nile', 'kaelajael', 'walkengop', 'hangout', 'nikkikermit', 'unintelligent', 'hangs', 'cowboy', 'cowboyquan', 'stiraght', 'anne', 'nikah', 'sharif', 'niigeriann', 'nigzzzk', 'nigs', 'unintentional', 'nightmarish', 'hanna', 'hannabard', 'kagesatsuki', 'kahaan', 'nightbarbie', 'cp', 'stirring', 'walkawayfromdemocratsocialists', 'anna', 'cpim', 'cpimspeak', 'kai', 'niggger', 'niggg', 'shaped', 'nigges', 'cpp', 'niggeryour', 'ankles', 'stnnrcolechan', 'sto', 'crabfest', 'niggerthis', 'niggersyou', 'workload', 'stockputout', 'ez', 'anjanaomkashyap', 'anitwt', 'niggershow', 'shanselman', 'crackle', 'stoked', 'stokes', 'stoking', 'crafts', 'craig', 'kak', 'niggernigga', 'craigslist', 'hannity', 'eyeshadow', 'whataboutary', 'animosity', 'stomp', 'niggerget', 'kalashnikov', 'stomping', 'niggerflipper', 'hans', 'shannon', 'hanson', 'animated', 'niggerbitch', 'kali', 'kalia', 'bake', 'nigge', 'craves', 'stoners', 'zii', 'trashing', 'anildash', 'crawled', 'stooge', 'kalma', 'hapless', 'crazier', 'anib', 'ani', 'craziibratz', 'workflow', 'crazybitch', 'whataboutery', 'angst', 'nigelbigmeech', 'nigel', 'walidshoebat', 'kamelnasreldien', 'niece', 'kamoshida', 'kamra', 'nicolledwallace', 'angryblacklady', 'kan', 'nicktasticyt', 'stopgamergate', 'nickkristof', 'kandre', 'nickfalkner', 'nickdwilliams', 'angrily', 'nickcannon', 'nickalicous', 'unit', 'nicholas', 'httpswwwphillymagcomg', 'shamiisback', 'happier', 'happiest', 'shames', 'wassup', 'nicememe', 'angled', 'cred', 'wales', 'niccas', 'extras', 'extraordinary', 'shamelessly', 'stoptargetingmuslim', 'credited', 'niallofficial', 'niallcullen', 'credits', 'nhl', 'nhi', 'extortion', 'happycampers', 'creek', 'creen', 'stopw', 'httpswwwkviacomnewseducationsisd', 'storage', 'angerissues', 'nggak', 'ngerti', 'crees', 'sham', 'bali', 'zillytbh', 'cremate', 'shallow', 'kapilmishraind', 'storing', 'stormed', 'happyvalentinesday', 'storming', 'unithed', 'crescer', 'cretin', 'goebbels', 'whatchya', 'nexxylove', 'nexusu', 'haq', 'cretins', 'newyorker', 'newton', 'wordpress', 'crews', 'shaitan', 'angelica', 'angeles', 'uniting', 'crianças', 'newsincredible', 'angela', 'straightened', 'strain', 'kare', 'extensions', 'strait', 'newmusic', 'stranded', 'strands', 'karengeier', 'newest', 'anelylove', 'criminalize', 'newborn', 'newbabylonia', 'wor', 'toobut', 'neville', 'shaheen', 'neversaynever', 'strangle', 'cringeworthy', 'strapped', 'toobaddjs', 'harassers', 'nev', 'crippling', 'strategicscoring', 'expressions', 'neurodivergent', 'tonyseifart', 'harasses', 'strawman', 'univ', 'netware', 'andythewookie', 'crispy', 'cristian', 'netspace', 'stray', 'criterion', 'nethercotteden', 'tonygoze', 'netcrusher', 'streamer', 'netanyahu', 'criticalkelly', 'streams', 'critically', 'shadows', 'criticals', 'shades', 'harassmentstalking', 'criticised', 'ands', 'harassmentstalkingswating', 'universes', 'criticising', 'nerf', 'woops', 'karlthepagan', 'strengthened', 'critiques', 'andrews', 'critiquing', 'nepotism', 'critisize', 'harbor', 'critz', 'stressful', 'croakeyblog', 'bam', 'karmy', 'godly', 'sh', 'andrewcybulska', 'karne', 'croft', 'karo', 'stretching', 'crook', 'exporting', 'strictly', 'wala', 'nela', 'kasab', 'expo', 'striking', 'string', 'crosses', 'godless', 'strings', 'neighbour', 'hardened', 'stripped', 'godi', 'youyoure', 'strippers', 'strips', 'wal', 'kashmirilivesmatter', 'exploitation', 'strongest', 'kashmiriyat', 'stronghold', 'struck', 'negra', 'negotiation', 'negotiating', 'zim', 'structure', 'explanations', 'structured', 'crucified', 'unknowing', 'negated', 'hardware', 'hardwood', 'neeson', 'neener', 'anderson', 'hardworking', 'expire', 'stuart', 'needtwit', 'unknowingly', 'needless', 'needles', 'toni', 'crumb', 'harikondabolu', 'katearthsis', 'crumbs', 'studio', 'anchor', 'ancestry', 'studs', 'crusaded', 'tong', 'stuffed', 'stuffing', 'stuffs', 'katexweis', 'harley', 'stuges', 'crutches', 'anatomy', 'harman', 'bandits', 'kathleen', 'cryin', 'bands', 'kathsstewart', 'anasmechch', 'nda', 'stunk', 'anarchy', 'crystals', 'anarchists', 'stunts', 'kathyburke', 'cs', 'katibabane', 'anarchist', 'bang', 'expenses', 'csi', 'stupider', 'cspanwj', 'nbcnews', 'wakeupummahumarbinabdulaziz', 'cspj', 'httpstwittercomsubliminaimsgsstatusphoto', 'stupididiot', 'goblin', 'expelling', 'analyze', 'bangla', 'tones', 'analytics', 'stupidniggers', 'ctfuuu', 'analysts', 'cthagod', 'stutter', 'stuttering', 'cto', 'analogies', 'stweetheart', 'analog', 'expectancy', 'navikakumar', 'httpstwittercomranaayyubstatus', 'stylish', 'navarro', 'ana', 'harpercollins', 'sevilzadeh', 'harpers', 'amyvernon', 'suaju', 'cud', 'suar', 'cuddling', 'amyvdh', 'kavanaugh', 'banislam', 'nato', 'natl', 'cuffing', 'harrasment', 'kawaii', 'harrass', 'bankrupt', 'cuidado', 'amyjoryan', 'nationally', 'amydentata', 'exmuslims', 'subjected', 'culprit', 'subjective', 'kayinnasaki', 'settles', 'nathanthewanted', 'cultist', 'subliminaimsgs', 'whatta', 'submersechill', 'settlement', 'settled', 'wool', 'submitted', 'submitting', 'kayleighmcenany', 'cummings', 'banners', 'natalie', 'watches', 'kayne', 'natalia', 'subs', 'subscribed', 'httpstwittercommelmorganstatus', 'amusement', 'nastier', 'kaytrendyme', 'nashtysteve', 'woof', 'cuntandandrenot', 'subservient', 'amthey', 'harrys', 'substantial', 'narration', 'narendra', 'wakeup', 'tray', 'narcissist', 'harshly', 'kburgess', 'wakes', 'naptime', 'naps', 'nappy', 'servants', 'exfoliated', 'harts', 'kdrama', 'kebesays', 'nangis', 'kedarnath', 'cured', 'exemplo', 'exemplifies', 'keegannyc', 'keek', 'sering', 'subway', 'curls', 'succeeded', 'httpstwittercomfinngrzerstatus', 'tomsaw', 'executes', 'haría', 'hasan', 'nama', 'amplifying', 'amplify', 'nalanda', 'nala', 'ample', 'keepitgulley', 'toms', 'cursedimage', 'sucker', 'verdade', 'cursing', 'nailed', 'excused', 'suckers', 'hashtaged', 'cursos', 'naija', 'curtain', 'keh', 'unoriginalbabe', 'keibenet', 'hashtagfritch', 'httpstwittercomcondoradorestatus', 'tomperez', 'nags', 'nagpur', 'sudan', 'cussing', 'keith', 'custom', 'nadler', 'nadine', 'naderhaq', 'sudhir', 'sudhirchaudhary', 'exclusion', 'nabi', 'httpstwittercomanakinidiotstatus', 'separatists', 'tommyward', 'sued', 'kel', 'separately', 'suekennedy', 'excludeduk', 'separated', 'hasta', 'kellyannepolls', 'barbarism', 'cutout', 'música', 'httpstwibbleio', 'hastie', 'suffers', 'más', 'barbie', 'wong', 'mzungu', 'wonderzombie', 'sentiments', 'mzassertive', 'suffice', 'kellyray', 'excitement', 'amounted', 'myths', 'sufi', 'cwgusu', 'bare', 'unpaid', 'glorifying', 'exchanging', 'mysteriously', 'amoral', 'httpstcoâ', 'suga', 'cxo', 'cyaa', 'treasure', 'myogiadityanath', 'myntra', 'sugarandsplice', 'amnesty', 'cyberbullied', 'cyberbullying', 'mylostgadget', 'suggestion', 'suggestive', 'cycles', 'mykeymoonshine', 'kendrick', 'senseless', 'amman', 'myers', 'excavation', 'suheri', 'cyro', 'cérebro', 'examine', 'examination', 'mx', 'suicideblondes', 'kent', 'kenya', 'mw', 'amistad', 'dabi', 'mv', 'dablueprint', 'muy', 'suing', 'mutually', 'amir', 'muttering', 'waitress', 'amina', 'womentakingaut', 'suites', 'amigo', 'suleyman', 'muthafuckin', 'mutha', 'waitin', 'kernighan', 'sultan', 'barney', 'kerosene', 'kerry', 'amhara', 'mustve', 'womensrights', 'amg', 'barnflake', 'ameytahl', 'mustaches', 'globalist', 'amerikkka', 'musta', 'daftbrian', 'kesha', 'muslimyou', 'muslimthrough', 'ketchup', 'kethounet', 'evyncollins', 'kevincampfield', 'kevinfinke', 'waisted', 'summertime', 'senategop', 'dainty', 'sumn', 'daisy', 'muslimschristians', 'keyboards', 'keynote', 'dale', 'muslimsand', 'barrhearing', 'keyonmorris', 'americano', 'zionism', 'muslimi', 'damaged', 'kgasso', 'sundays', 'sung', 'evident', 'damhan', 'evicted', 'unplayable', 'glitchdreams', 'damm', 'muslem', 'sungjong', 'semetic', 'dammitboden', 'eveyday', 'semen', 'damnit', 'sunk', 'damnnn', 'musicians', 'semantics', 'damnstraight', 'sunkensomething', 'khaledbeydoun', 'damonte', 'dampscot', 'amends', 'muscles', 'amended', 'dana', 'haunted', 'danasheehan', 'khalistan', 'murphyslaw', 'sunscreen', 'dancer', 'womenintheology', 'everythin', 'sunset', 'khanamanatullah', 'suparups', 'dangerously', 'dangers', 'danhazelton', 'danhickey', 'dani', 'waist', 'ameera', 'khazars', 'mundo', 'munchkin', 'danieleraineri', 'ameedjadallah', 'danielleisanerd', 'danielpunkass', 'kheyteekat', 'superfan', 'everday', 'khloekardashian', 'unproblematic', 'selectively', 'mulu', 'wheras', 'superficial', 'khtm', 'multiculturalism', 'multicultural', 'havehad', 'baseless', 'evenings', 'selection', 'superheroes', 'glbt', 'superintendent', 'waise', 'daqui', 'superintendents', 'evanpascoe', 'superiori', 'evangelism', 'darchmare', 'superiormenarmy', 'amber', 'ambedkar', 'mujahedeen', 'bases', 'dares', 'glassresistor', 'httpstcowguundwmz', 'darinda', 'supernatural', 'amazone', 'superpower', 'evaluate', 'sekac', 'amazingly', 'havi', 'darkest', 'seizure', 'ziorim', 'amazes', 'superstitious', 'amazed', 'evading', 'glasgow', 'evac', 'darkness', 'venturebeat', 'amaze', 'muftis', 'havin', 'amateur', 'amarula', 'darksky', 'muesli', 'httpstcovpiohlngfy', 'amarinaw', 'sei', 'kidnap', 'kidnaped', 'europeusa', 'mucho', 'darren', 'supplies', 'mubarak', 'kidney', 'mtvnews', 'darrian', 'whichever', 'amanhã', 'venting', 'tomatoes', 'amalgamation', 'eunbyullol', 'basimafaysal', 'kieranpegler', 'dash', 'httpstcovhthrdriyr', 'hawks', 'msn', 'segments', 'tomar', 'segment', 'kiiiiiiiinda', 'alyssa', 'kikes', 'alys', 'kiki', 'httpstcousngqfjkjo', 'whiff', 'tollplaza', 'toll', 'alwys', 'killa', 'killary', 'suppression', 'unreasonable', 'tolerating', 'killerblonds', 'alway', 'womderful', 'mrstethompson', 'alwalawalbaraaa', 'supremes', 'ethiopian', 'daves', 'httpstcougruazba', 'sur', 'sura', 'davidfutrelle', 'ethelmonster', 'mrpolyatheist', 'davidithink', 'alumni', 'suree', 'davidromeiphd', 'davidson', 'alum', 'mrlayedbak', 'mrk', 'etcetc', 'seemingly', 'mrjackalstalks', 'alts', 'alton', 'kimkardashian', 'surly', 'surname', 'altogether', 'altogeda', 'alternatively', 'kin', 'alternate', 'seekers', 'venezuela', 'hazed', 'surrendered', 'dayfiance', 'hazel', 'surrey', 'surrogate', 'mralmubarak', 'alter', 'seduce', 'estos', 'daylight', 'kindest', 'surroundings', 'mph', 'surveillance', 'bastendorfgames', 'venereveritas', 'unrelated', 'survey', 'mozilla', 'veneranda', 'survival', 'dazzling', 'toks', 'kingkaay', 'basvandewiel', 'survivegt', 'hbmostdope', 'hbs', 'alshabab', 'dbully', 'alsatian', 'mouthful', 'als', 'kingpin', 'est', 'alr', 'mousetraps', 'hca', 'mourinho', 'mounted', 'alqaida', 'susiec', 'hdharrisirl', 'motorcycle', 'kinks', 'suspects', 'ddlovato', 'suspending', 'ddnt', 'suspense', 'suspicion', 'suspnd', 'sustained', 'httpstcoswnavdvwzd', 'hea', 'unruly', 'ddts', 'batman', 'kinnock', 'essa', 'motherfukin', 'suv', 'deacon', 'suwars', 'ess', 'deactivate', 'kinsella', 'suzan', 'deadbeat', 'waifu', 'esquina', 'deadlier', 'motavate', 'deadline', 'battered', 'secpompeo', 'mostra', 'suzannecarbone', 'deadpoolpewpew', 'mossad', 'venemous', 'deadspin', 'espero', 'kirkour', 'suziedoore', 'alongside', 'dealers', 'kirsty', 'sw', 'deanesmay', 'mortified', 'deanglo', 'kisko', 'deanowen', 'mortais', 'morrison', 'swagged', 'gitu', 'morrall', 'morra', 'almonitor', 'morphed', 'vendo', 'unseenperfidy', 'kissin', 'almajiri', 'esoteric', 'deash', 'wolverine', 'morocco', 'moroccans', 'almafeta', 'swaglordsacred', 'mornings', 'morningjoe', 'alma', 'kissyface', 'mormons', 'mormon', 'moriahrae', 'swain', 'swallow', 'alm', 'swami', 'swamp', 'httpstcosfpjedmqx', 'allying', 'morena', 'deberia', 'header', 'escuela', 'deblasio', 'unsolicited', 'allwomen', 'swastik', 'morale', 'kittens', 'swastika', 'debts', 'swated', 'httpstcorocoiohnv', 'sway', 'headmaster', 'swearing', 'headphones', 'sweater', 'headquarters', 'kittykatkyle', 'wokeness', 'sweating', 'sweatpants', 'sweats', 'deceit', 'ven', 'kivabays', 'sweatshirt', 'escorted', 'woh', 'montwood', 'sweatshirts', 'monthly', 'escolas', 'headscarf', 'kjalliancegoa', 'swedish', 'sweep', 'monotheists', 'monologue', 'monogamous', 'sweeping', 'sweeter', 'decisive', 'monitors', 'kkkkkk', 'sweets', 'kkkkkkk', 'kkkkkkkk', 'swept', 'monica', 'healed', 'mongols', 'wahhabism', 'allllll', 'swifts', 'wahhabis', 'deconstruction', 'kkklan', 'decorate', 'decorated', 'monetized', 'monetary', 'kl', 'swimming', 'swims', 'decorum', 'monastery', 'monarchy', 'swimsuit', 'swinging', 'momsydaisy', 'unsurprising', 'swipes', 'klled', 'swiping', 'eruvadhril', 'dedication', 'toggle', 'erupted', 'dee', 'unsurprisingly', 'ertugrul', 'allison', 'healy', 'swole', 'swords', 'sworn', 'allieemorse', 'errrr', 'alliance', 'sxflint', 'sxhool', 'alli', 'sy', 'whisk', 'deesire', 'wahabism', 'moline', 'syazlicious', 'molester', 'hearings', 'defamation', 'bbm', 'molest', 'moleskin', 'bbnaija', 'defame', 'defamed', 'allergic', 'sydneyeditor', 'kneed', 'mold', 'mojoradio', 'defaultprophet', 'allen', 'hears', 'scrub', 'syeds', 'allegation', 'defeitos', 'err', 'symbolic', 'defender', 'symbolism', 'heartbeat', 'wnt', 'sympathetic', 'allcapsbro', 'sympathiser', 'defenses', 'scriptures', 'moerasgrizzly', 'defensively', 'sympathizer', 'heartbreak', 'togeda', 'sync', 'modified', 'kniw', 'erinscafe', 'deficient', 'knob', 'knobs', 'hearthstone', 'allaha', 'allaboutgeorge', 'girlies', 'synonym', 'synonymous', 'wahabbi', 'synthovine', 'unto', 'heartthrob', 'aliyaist', 'heartwarming', 'alittleopus', 'heated', 'alitahmizian', 'deflecting', 'erikssonmalin', 'syrians', 'ericvdunn', 'mobute', 'untprez', 'syrup', 'defundnpr', 'defundnprnow', 'tricolor', 'mobbing', 'mobbed', 'moansar', 'knowin', 'heats', 'degenerate', 'degenerateboy', 'knowingly', 'degeneres', 'degradation', 'sério', 'heavier', 'mmos', 'wmore', 'alil', 'alikoeln', 'mmmotorsports', 'wagging', 'dehner', 'tab', 'eres', 'scourge', 'dehumanization', 'dehumanize', 'tabby', 'hebdo', 'scotus', 'mlp', 'mlms', 'dehumanized', 'erections', 'untuk', 'dehydrated', 'mlgstunner', 'aligns', 'hebraic', 'knuckles', 'deist', 'aligharib', 'deity', 'mlbnetwork', 'deixar', 'scottmorrisonmp', 'scottish', 'tabligi', 'whispering', 'hebrews', 'mkrofficial', 'mkrkat', 'vehicular', 'tabliqi', 'mkkoampmkten', 'tabloid', 'hecantchill', 'mke', 'kodriscolldev', 'taboo', 'httpstcomwxnundl', 'tabs', 'httpstcomqasfpwofp', 'mjg', 'alienate', 'tackled', 'mjb', 'kohli', 'tackling', 'alien', 'eradicating', 'miyas', 'kola', 'kolaboof', 'tact', 'scotland', 'eradicated', 'mitty', 'mittromney', 'unusually', 'wag', 'tad', 'mitigation', 'gingers', 'mitigating', 'mitigate', 'kony', 'whistleblower', 'delighted', 'delinquent', 'mit', 'delirious', 'kool', 'tadinha', 'aliar', 'scope', 'misuse', 'tae', 'misunderstanding', 'aliabunimah', 'taehyung', 'mistreatment', 'mistook', 'taemin', 'equestria', 'alhamdulilah', 'unvaccinated', 'tagging', 'mist', 'tags', 'deluded', 'algorithms', 'hegartykatie', 'hegelbon', 'whistles', 'equanimity', 'alfuriuskj', 'alfredos', 'missjkill', 'mississippi', 'kosmoatd', 'wll', 'alfreddaw', 'tainted', 'unveiled', 'taiwan', 'kosova', 'hehim', 'taj', 'kot', 'heidi', 'equalitymen', 'heidihan', 'missclarolyn', 'demis', 'demise', 'misrepresented', 'koukopoulos', 'misquote', 'democraps', 'takedown', 'mislukravin', 'misleading', 'miskelayla', 'heights', 'misinterpret', 'alexgnap', 'beatings', 'heirloom', 'wafflegurl', 'kq', 'eps', 'helen', 'httpstcokhicgcuf', 'talaga', 'talaq', 'helena', 'demonises', 'helenaandvikki', 'demonized', 'misfit', 'miserably', 'alexa', 'unwilling', 'zombieneith', 'miscu', 'demonstrated', 'misconduct', 'talents', 'demonstration', 'demonstrations', 'misc', 'alerts', 'talib', 'epiphany', 'krazy', 'zombies', 'mirrors', 'hellhole', 'epicentre', 'epicenter', 'alemaraar', 'miraculous', 'miracles', 'wl', 'unwomen', 'unworthy', 'kris', 'wkwk', 'krisaubuchon', 'httpstcojtrkyaak', 'deniro', 'giggle', 'denmark', 'minoritism', 'dennis', 'tallgirl', 'kristi', 'minorites', 'denomination', 'minnpdx', 'denominations', 'kristinaaegger', 'talm', 'denounced', 'albino', 'albertinho', 'ministries', 'albert', 'gifts', 'também', 'ministerialqldgovau', 'miniscule', 'helm', 'tamera', 'mining', 'tami', 'envious', 'dent', 'helmet', 'enuff', 'krynis', 'mini', 'httpstcoizmfmcqqc', 'entrée', 'schoolmates', 'mingyu', 'ming', 'mines', 'deodorant', 'alarming', 'kshatriya', 'departments', 'helpers', 'entries', 'gibson', 'alarm', 'schooli', 'alarabiyaeng', 'tang', 'minding', 'tangina', 'mindedness', 'helpiamacabbage', 'httpstcoimyjqjvyrz', 'mince', 'depict', 'alanau', 'updating', 'depicted', 'depiction', 'helpless', 'mim', 'giants', 'deployed', 'millwall', 'alan', 'millionth', 'wadhwas', 'tantamount', 'ktonieskacze', 'helsinki', 'helsybobsmith', 'milli', 'tanzania', 'ku', 'akramhmohajer', 'tapa', 'whitefollowers', 'toby', 'milks', 'depressedfuck', 'tapes', 'militias', 'tapper', 'upgrades', 'gi', 'henlo', 'upheld', 'henrybeans', 'kulbhushanjadhav', 'uphold', 'akhtar', 'akhm', 'tards', 'tardy', 'deputy', 'henrywinter', 'whitelist', 'toasting', 'enters', 'hentai', 'deranged', 'mikey', 'whiteman', 'hephinator', 'kunt', 'mikeprysner', 'becuz', 'mikepence', 'entails', 'kupkakekatie', 'mikemetcalf', 'ent', 'herb', 'tarkasteve', 'tarnish', 'derived', 'kurd', 'dernkat', 'mikebrown', 'derp', 'derpy', 'derrick', 'tarnishing', 'ensure', 'kurdistan', 'mii', 'migration', 'ensue', 'ghosts', 'migrate', 'herbiemarcuse', 'descendants', 'enslaving', 'migraine', 'tarred', 'tarttoter', 'akc', 'herd', 'herdsmen', 'herecomesfran', 'tasks', 'toast', 'tasteless', 'midst', 'midoriya', 'enrolled', 'tata', 'deserving', 'desginer', 'wizard', 'kuuuramantoonis', 'tati', 'tatted', 'toallahwereturn', 'tattooed', 'bee', 'ajenglish', 'upkeep', 'kuwrongpv', 'desirable', 'kuyaedu', 'toady', 'hermione', 'mick', 'michonne', 'micholspalag', 'taunt', 'httpstcofljadohl', 'desktop', 'ghengis', 'taunted', 'michelleobama', 'taunts', 'despacito', 'michaelroston', 'toads', 'tava', 'tawheednetwork', 'toad', 'waddup', 'heroin', 'destabilized', 'heromancercosplay', 'destigmatize', 'scenes', 'destination', 'mh', 'aise', 'enimey', 'destrossgx', 'beergynt', 'mgeko', 'kylagray', 'airstrikes', 'kylecrilly', 'airspace', 'engulf', 'mfers', 'mfana', 'airplane', 'kylie', 'uploaded', 'tbf', 'airing', 'witnessing', 'wad', 'aired', 'upmaking', 'metsfan', 'detective', 'hesitation', 'scarier', 'metrics', 'httpstcodtjohnrnhq', 'metpoliceuk', 'determines', 'methodologies', 'method', 'methinks', 'vegetables', 'scares', 'detriment', 'meter', 'lab', 'metaphors', 'aiming', 'tcj', 'metaphor', 'td', 'tds', 'httpstcocqyeywtedw', 'teached', 'aight', 'develishangel', 'developers', 'tmr', 'aiden', 'heyitsjayla', 'uprising', 'zorazzora', 'enforced', 'ai', 'meses', 'begged', 'mes', 'lace', 'aht', 'devices', 'teamkyla', 'merit', 'beggers', 'lacks', 'merica', 'teamlynnandtony', 'teammate', 'enduring', 'scam', 'devinnunes', 'scalzi', 'ahole', 'mercurypixel', 'ahmediyas', 'merch', 'devito', 'httpstcobhfoatfbk', 'ahmed', 'endorsement', 'meow', 'devoid', 'devolve', 'ahmadi', 'menus', 'endorphin', 'ggers', 'mentors', 'ahlefars', 'ahhhhhhh', 'httpstcoasyqxguqv', 'tm', 'ahhhh', 'whitewashed', 'devotion', 'mensuicide', 'mensrights', 'mensamusic', 'teaser', 'ahemas', 'tebow', 'httpstcoadkxhwu', 'meninism', 'endbullyingday', 'dewy', 'techniques', 'techraptr', 'techyfolks', 'mend', 'httpstco', 'endangered', 'endanger', 'mena', 'whitewashing', 'teddy', 'dgbattaglia', 'dgettings', 'hiddenhorcrux', 'memorial', 'lag', 'lage', 'tedlieu', 'lagging', 'hideous', 'tee', 'dhimmis', 'encontro', 'melted', 'meltdown', 'aguero', 'tlc', 'lahavharkov', 'melodrama', 'enchancers', 'mellomark', 'melisssugh', 'dhstom', 'dhurt', 'meli', 'melhor', 'melectable', 'enalolena', 'hierarchy', 'hieress', 'diabolical', 'agreements', 'tees', 'teeyouvee', 'dialectic', 'tehcoder', 'lakers', 'beleive', 'mehif', 'enables', 'highhs', 'tekniklr', 'enabler', 'megynkelly', 'megyn', 'tel', 'lala', 'tele', 'telecast', 'diapers', 'diaries', 'diarrhea', 'emzyme', 'waaah', 'dibs', 'dibully', 'telegram', 'highlighted', 'highlighting', 'withe', 'agnt', 'urges', 'agnostics', 'dickiest', 'meeeee', 'lan', 'waaaay', 'dickkkkkkkk', 'medtek', 'empowerment', 'televised', 'lance', 'youi', 'agnostic', 'empower', 'highmiddle', 'teller', 'tellin', 'dickwad', 'gervais', 'dickwarts', 'bell', 'dickweed', 'aging', 'telly', 'diclehaberajans', 'tema', 'dictating', 'belle', 'temen', 'highway', 'employers', 'temnightmre', 'temp', 'mechanicalcrow', 'aggressors', 'mechandising', 'temper', 'aggressor', 'germanprofessor', 'satu', 'employ', 'hii', 'witchsniffer', 'aggravating', 'lao', 'laos', 'temporarily', 'meatball', 'tempted', 'measures', 'hiimbebbit', 'didymusleonhart', 'measure', 'tencent', 'aggies', 'tendencies', 'meantcan', 'hijabi', 'hijabs', 'url', 'tennessee', 'meaner', 'meand', 'agente', 'lara', 'tense', 'tension', 'witcher', 'meadows', 'laralyn', 'tensions', 'dieselfrost', 'belonged', 'tenth', 'hijack', 'diez', 'agencies', 'hijacking', 'hijbul', 'tequila', 'mcrelyt', 'ter', 'empathetic', 'larger', 'differ', 'differenc', 'zusterschap', 'terf', 'terfs', 'vedas', 'larp', 'httpwwwadvocatecommediany', 'diffic', 'teriyakichink', 'mcfartle', 'mcentropy', 'hike', 'mcdonald', 'larrywest', 'laser', 'terminate', 'sardesairajdeep', 'digesting', 'bench', 'mccraneyboi', 'hilarity', 'againt', 'hilary', 'mccarthy', 'digit', 'lashed', 'termz', 'bend', 'lashing', 'digno', 'httpsamzntowrtaav', 'httpsamzntowpbg', 'mbuyisenindlozi', 'beneath', 'hildabeast', 'httpsamzntomabsm', 'httpsamzntofqejoc', 'aftermath', 'dije', 'lassie', 'dikha', 'dil', 'terriost', 'afterall', 'dim', 'mayo', 'víctima', 'titty', 'mayhem', 'mayfield', 'dimensional', 'httpsabcnycommom', 'emitans', 'dimming', 'eminent', 'benevolent', 'maya', 'maxxiebytes', 'hillbilly', 'waves', 'titts', 'maxs', 'benghazi', 'httpsabccommom', 'maximumtrent', 'httpsabcchicagocommom', 'benign', 'zynga', 'maxcaras', 'ding', 'dinged', 'mawile', 'mawga', 'maverick', 'afl', 'mauritania', 'emeryville', 'maulana', 'maududi', 'vcrblog', 'terrorismislamic', 'himpete', 'matured', 'dip', 'diploma', 'httpwwwphillymagcomg', 'matty', 'diplomatic', 'afghani', 'afghan', 'afganistan', 'dire', 'afg', 'geography', 'terrorisms', 'embraces', 'directing', 'launched', 'vía', 'mattern', 'mattering', 'affluent', 'wisconsin', 'launching', 'vão', 'mattcooke', 'terrorismthe', 'whn', 'emboldened', 'embody', 'matrix', 'laurel', 'affirmative', 'matignon', 'terrorismu', 'embodies', 'usaf', 'affinity', 'dirtiest', 'dirtmore', 'mater', 'dirtymackchapel', 'hindui', 'affectionate', 'terroristic', 'affection', 'zé', 'lavenderblume', 'mata', 'mat', 'masturbating', 'gente', 'disadvantage', 'disadvantaged', 'sanger', 'disadvantages', 'usamani', 'lavi', 'mastermind', 'disagreements', '²â', 'whoaaa', 'disappear', 'terrorize', 'hinduphobia', '³â', 'terrors', 'terrycrews', 'hinduphobiccomedyindustry', 'tersendiri', 'winnin', 'masquerading', 'tesco', 'discernment', 'discharged', 'testicle', 'testicular', 'lawmisuse', 'mashaallah', 'advise', 'lawn', 'testosterone', '¼ì', 'hindusim', 'advertising', 'mascara', 'disco', 'disconnect', 'marytrigiani', 'marys', 'elvis', 'maryland', 'marykaye', 'discounted', 'tex', 'texan', 'bernies', 'discouraged', 'textbook', 'textbooks', 'adventures', 'texture', 'discretion', 'hindutav', 'martyred', 'advances', 'elreda', 'tfs', 'tfw', 'advancement', 'advanced', 'titled', 'layered', 'mart', 'hindutwa', 'genital', 'discusses', 'thaa', 'adulting', 'mars', 'sanction', 'eloisepeace', 'disdain', 'hinduunitedagainstterror', 'layout', 'diseases', 'useeoc', 'adultery', 'marriageequality', 'lays', 'disenfranchised', 'thai', 'marner', 'marne', 'laziness', 'lazyreaction', 'disguised', 'thailand', 'marleygotboobs', 'adulterer', 'adriennecgomez', 'lbh', 'disheartened', 'vv', 'hipchat', 'thanked', 'httâ', 'genes', 'dishonest', 'adovichi', 'hua', 'titans', 'hippie', 'marketplace', 'disintegration', 'adore', 'marked', 'hippy', 'disliked', 'samred', 'generational', 'dislikes', 'thankyou', 'adopting', 'thanos', 'thanx', 'thanxx', 'tharami', 'tharoor', 'dismay', 'marijuana', 'thas', 'adoomieforlyf', 'dismisses', 'adolphus', 'mariam', 'hipsters', 'thatbut', 'hires', 'disobedience', 'elitist', 'marginal', 'margin', 'hirojin', 'admittedly', 'disown', 'disparage', 'disparity', 'displaced', 'admission', 'sammy', 'sammich', 'thatisall', 'hisfeministmama', 'hisher', 'displaying', 'marches', 'samihnewsam', 'displeased', 'disposable', 'disposition', 'admiration', 'leafs', 'marc', 'marble', 'disproves', 'marathon', 'admins', 'administrative', 'leah', 'maps', 'maple', 'huffpostrelig', 'mapatterson', 'generalized', 'hugely', 'adm', 'youa', 'disqualifying', 'leaking', 'winding', 'manure', 'historians', 'adjust', 'betterment', 'sambitswaraj', 'historically', 'manufacture', 'adhere', 'mansplainers', 'thatâ', 'adharma', 'mansions', 'userbase', 'manrik', 'manpower', 'theadvocatemag', 'leap', 'vsimmons', 'eliel', 'sama', 'generalise', 'dissed', 'manning', 'generalisations', 'userid', 'mannered', 'dissenters', 'salvodan', 'adelaide', 'adek', 'userids', 'theaters', 'hittin', 'manits', 'disso', 'manishlimbu', 'dissonance', 'learners', 'titan', 'genders', 'httpiftttidwpo', 'manipulates', 'userland', 'hivaids', 'manilla', 'distanced', 'wimps', 'vascaíno', 'manifests', 'â¾', 'manifested', 'manic', 'addons', 'distinct', 'distinction', 'learns', 'additional', 'distorted', 'distorting', 'addison', 'gendered', 'distracting', 'addictive', 'leash', 'mandurah', 'elevator', 'addicted', 'distressing', 'adderall', 'thecodysimpson', 'salman', 'leather', 'distributing', 'elephants', 'manamifox', 'adbreak', 'vrais', 'thedailybeast', 'usernames', 'httpgucomppt', 'wimp', 'lebanese', 'ditched', 'ditching', 'httpgawkrezuboxm', 'divas', 'dive', 'mammy', 'lebanon', 'adams', 'wimbledon', 'mami', 'hmmmm', 'thedoofmandfs', 'dives', 'divestment', 'salah', 'wilw', 'adamant', 'elegant', 'elects', 'malls', 'theellenshow', 'salafi', 'mallapuram', 'usher', 'sala', 'lectured', 'lectures', 'sakjur', 'ledge', 'malignant', 'diy', 'theesadiemarie', 'sakes', 'trivial', 'malicious', 'malice', 'electoral', 'diyan', 'ada', 'elective', 'dizer', 'hnna', 'leech', 'yoruba', 'dj', 'thefive', 'malaysian', 'theft', 'malawians', 'malappuram', 'saintneko', 'actresses', 'theghrost', 'variations', 'mala', 'hobbies', 'variation', 'dkparagon', 'leftover', 'makers', 'voyage', 'sailorhg', 'legality', 'ek', 'үou', 'dmb', 'activates', 'ejrtairne', 'legends', 'voy', 'theirselves', 'majhab', 'legislature', 'maizerage', 'willtar', 'hoeshateherv', 'actin', 'maintaining', 'maintained', 'maint', 'legitimately', 'acronyms', 'maino', 'legobutts', 'bhikhari', 'thejpdh', 'bhim', 'acronym', 'mainecoon', 'lei', 'mailing', 'geekyzekey', 'docs', 'maids', 'acquired', 'doctorate', 'acounts', 'doctored', 'httpdldbzcarx', 'theknowledge', 'hogwarts', 'documentation', 'bho', 'maharashtra', 'ehhh', 'thelakeshowking', 'mahal', 'dodgeball', 'sahab', 'humiliate', 'lemarbarry', 'vocally', 'theleast', 'thelindsayellis', 'humiliating', 'acolyte', 'magnitude', 'lemieux', 'thelmasleaze', 'magnet', 'themanclaw', 'aclu', 'magically', 'doeringnorman', 'lemonade', 'maghrebi', 'maggie', 'willingness', 'magconboysthe', 'themercedesxxx', 'aclj', 'magats', 'egotistical', 'lena', 'uswe', 'mag', 'acknowledges', 'lenadunham', 'egos', 'acknowledgement', 'egomaniacal', 'egomaniac', 'safeenss', 'egoatizm', 'trizzzy', 'acknowledged', 'lengths', 'dogpile', 'dogpiled', 'madrassas', 'biases', 'dogpiling', 'sadsuspenders', 'biatch', 'trmp', 'egirls', 'holder', 'holders', 'madlmao', 'acid', 'madina', 'sadiq', 'madhav', 'vocab', 'lenny', 'doh', 'madeunless', 'themorningsongs', 'themothreborn', 'vo', 'whoops', 'maddybaylor', 'lent', 'maddow', 'themself', 'maddie', 'leon', 'vow', 'achievements', 'madden', 'leonardnimoy', 'madddddd', 'holier', 'gearcraftus', 'leopards', 'achei', 'holiest', 'madasatrain', 'thenativeboy', 'holiness', 'bidens', 'madarsachap', 'holinka', 'ler', 'hollaatmebaby', 'madamplumpette', 'sacrifices', 'sacrificed', 'ut', 'httpbufflysknfk', 'effing', 'domain', 'efficient', 'theologians', 'theological', 'theology', 'sack', 'theomegakira', 'theomn', 'hollering', 'machete', 'lesleywallace', 'accuses', 'accusers', 'gdi', 'accuser', 'theoretically', 'lessens', 'dominic', 'theorist', 'macbook', 'holliebakerlutz', 'dominionist', 'vanna', 'theparadox', 'lest', 'domosolodolo', 'accurately', 'maata', 'lete', 'maar', 'donaldjtrumpjr', 'lethal', 'tiring', 'accs', 'eep', 'httpbitlyqwtivo', 'ther', 'eek', 'lá', 'therapists', 'thereaibanksy', 'lysandraws', 'lyrical', 'donkeys', 'lynzy', 'sabia', 'lynne', 'leva', 'lyndsey', 'leve', 'vanish', 'leveled', 'sabe', 'vmas', 'accosting', 'dontdoxmebro', 'leveling', 'accosted', 'sabat', 'lyn', 'vlog', 'holmes', 'edulixavot', 'therealnimoy', 'leviathanpride', 'levin', 'donttreadonme', 'lyall', 'accordingly', 'ly', 'accor', 'lw', 'vanessabayer', 'therealtempus', 'doodles', 'lv', 'accomplishments', 'doofsmack', 'saare', 'luxury', 'doofy', 'therealvordox', 'accomplishment', 'educadores', 'wiley', 'edu', 'luton', 'accomplish', 'lust', 'thered', 'lurking', 'luring', 'edm', 'lure', 'therefor', 'holyhoe', 'yooo', 'lunatic', 'dorinda', 'accompanied', 'doritos', 'httpbitlynpgeb', 'lumping', 'leyna', 'lump', 'accidents', 'lumi', 'lulz', 'dorvaltony', 'hussein', 'lula', 'lul', 'accidental', 'lukeyook', 'hombres', 'lukewilliamss', 'accessory', 'tires', 'theresistance', 'homeboy', 'thereval', 'dots', 'luiz', 'edgymeme', 'accepts', 'lgbtqia', 'edginess', 'homegirl', 'ludicrous', 'doubleunionsf', 'lglg', 'therous', 'homeland', 'douchey', 'luciferslawyer', 'lucifer', 'accents', 'homelessness', 'accelerating', 'theshujaatali', 'lhhny', 'douglaskmurray', 'thesis', 'gb', 'thesledgetobias', 'liability', 'lube', 'dover', 'dowewantto', 'downgrading', 'gazwa', 'edbarber', 'homeroom', 'ltnawakgt', 'ltltltltlt', 'downplay', 'academics', 'academically', 'downplaying', 'academic', 'downright', 'homeschool', 'acabei', 'acabar', 'theview', 'ltbitch', 'ltaylor', 'thevoiceau', 'homeschooling', 'thewirein', 'lsarsour', 'abyss', 'homicide', 'abut', 'votebidentosaveamerica', 'homies', 'bikini', 'hominem', 'hominems', 'dpride', 'thezachmills', 'theâ', 'wildly', 'drafted', 'abuseharassment', 'lowering', 'uttar', 'lowcarbdiet', 'wilding', 'liberated', 'hygiene', 'thicc', 'libertarian', 'uttered', 'thicker', 'vandalized', 'loveussr', 'homomisic', 'libra', 'drakino', 'thighs', 'dramaking', 'dramas', 'librarian', 'ebonics', 'russell', 'lovekriee', 'billboard', 'thik', 'ebay', 'lovefndeluxe', 'abusebullying', 'rushlimbaugh', 'eazyboyjoe', 'libtards', 'thingi', 'vandalism', 'libyan', 'aburamadi', 'lovato', 'wilbur', 'drawbacks', 'hyperion', 'abuelitoserge', 'eats', 'lick', 'absurdly', 'loudobbs', 'hon', 'vooc', 'lottery', 'hyping', 'httpaskfma', 'absorbed', 'hypocracy', 'thirdly', 'whynot', 'thirds', 'dreadysupahigh', 'absolve', 'loses', 'gaytrans', 'dreamachineries', 'absolutley', 'thirty', 'easterners', 'lorry', 'abs', 'voiceofvegeta', 'thisistheend', 'whys', 'honkey', 'void', 'lieutenants', 'abrahamic', 'honored', 'lifelong', 'hstapanghosh', 'honours', 'wigs', 'hoochie', 'trooper', 'von', 'bimbo', 'loos', 'loopholes', 'hrt', 'thnx', 'ruler', 'drewbrees', 'looooove', 'tipo', 'looooool', 'drgrrlfriend', 'drhaque', 'thode', 'aborted', 'dri', 'dribble', 'abort', 'hoodwinked', 'looky', 'aboriginals', 'aboriginal', 'hridaybala', 'wi', 'earrings', 'abomination', 'earning', 'wibbys', 'dripping', 'troubled', 'vol', 'drivel', 'abolished', 'longe', 'abolish', 'lonesome', 'hookers', 'abnormalcybias', 'lone', 'drives', 'thoughtful', 'bing', 'hoy', 'londonampcanoysojndckacbpgeibenxg', 'drizzydashdrake', 'thoughtworks', 'drjreid', 'hoor', 'drmalik', 'hoosierjason', 'droh', 'vamos', 'lols', 'lolrt', 'binge', 'abiyahmedali', 'thrall', 'drones', 'lolololol', 'lololol', 'hownowgobbycow', 'lolnope', 'threading', 'rudoren', 'tintinenameriq', 'tintin', 'lollol', 'lolllllll', 'tint', 'ᵗʰᵉ', 'threating', 'howl', 'abhorrent', 'lolgop', 'loled', 'threshold', 'howd', 'likeable', 'loktar', 'lok', 'rudd', 'hopeful', 'abey', 'droves', 'thrift', 'aberration', 'abercrombie', 'thrills', 'bintstranger', 'likeagirl', 'wayneljr', 'abeg', 'thro', 'eaballesty', 'ea', 'logically', 'logicaldash', 'logged', 'wiemanindenwald', 'abeed', 'throne', 'dystopian', 'dysphoria', 'rubiconski', 'housewives', 'locking', 'wield', 'hopes', 'drunken', 'drunkengeebee', 'vacuous', 'dynasty', 'rubbing', 'vacuum', 'tinham', 'rubber', 'drunksehun', 'locations', 'houseparty', 'biotch', 'housenigga', 'widows', 'housemate', 'abduct', 'likeyou', 'ths', 'abcs', 'abcny', 'lilaus', 'loathing', 'loathed', 'loathe', 'dylan', 'loans', 'loan', 'dtklein', 'dtm', 'hopped', 'hopper', 'hoppin', 'dtrump', 'dua', 'lilduval', 'lmlyeera', 'duas', 'birmingham', 'abby', 'hopsin', 'thump', 'thumping', 'iambit', 'thunberg', 'thunder', 'horace', 'thunderchicken', 'abbott', 'dubhe', 'lmargolez', 'hottie', 'lmaooooooooooo', 'dubious', 'tina', 'abandons', 'gaylesbian', 'abandonment', 'vain', 'dwnews', 'dwn', 'lilly', 'hotter', 'tin', 'tia', 'hotpot', 'duct', 'hordes', 'llap', 'rssorg', 'dud', 'birtherism', 'tib', 'tibet', 'dudley', 'dweeb', 'hotline', 'dwayne', 'aave', 'lizquilty', 'tic', 'lizardpatrol', 'lizard', 'liye', 'hormones', 'tick', 'lime', 'limelight', 'aasmani', 'dukes', 'livin', 'livid', 'dull', 'ticketing', 'horn', 'tickled', 'dumass', 'hote', 'validity', 'validation', 'ticklishquill', 'hotcakes', 'tiddie', 'dviper', 'dumbbells', 'livejournal', 'dvd', 'tide', 'rr', 'aarondagloria', 'dumbfounded', 'dumbfuck', 'bish', 'liu', 'tidur', 'aaq', 'littlecbeadles', 'bishop', 'lindo', 'dumbshit', 'tigerclaud', 'litmus', 'dumbwavey', 'aamattyhealy', 'hosting', 'lineage', 'tightkidd', 'horrendousness', 'tiinexile', 'tikariofet', 'hostel', 'litas', 'dumps', 'dumpster', 'dumpweed', 'yohogottago', 'tiktoks', 'tilaurin', 'timinane', 'duties', 'validated', 'hostages', 'aaj', 'aah', 'timcfield', 'timid', 'lista', 'linguistic', 'timgeelen', 'dunk', 'dunked', 'hospitals', 'dunnnnnn', 'horrifically', 'validate', 'valiantrook', 'timer', 'timerbx', 'voluntarily', 'horrified', 'lisa', 'horrifying', 'aaaaah', 'volunteered', 'duplicate', 'lipgloss', 'dur', 'timesnow', 'lions', 'aaaa', 'rouge', 'purge', 'rotting', 'rougek', 'rotten', 'rotherham', 'rotflmao', 'gawker', 'gawd', 'rot', 'ib', 'gavinrambleson', 'ross', 'route', 'routine', 'routinely', 'rosie', 'bitchs', 'roses', 'rosebankdumb', 'roseanne', 'iamstan', 'roseann', 'rorybrownmufc', 'roxane', 'yogi', 'rope', 'bites', 'roy', 'troy', 'rooted', 'bitbecca', 'biting', 'bits', 'ibn', 'rp', 'roommates', 'roommate', 'trudeau', 'iammanbeard', 'rooftops', 'ibnlatif', 'roof', 'gators', 'biz', 'ibrahim', 'gathering', 'gathered', 'gather', 'bkerensa', 'gaterebooks', 'gayhoe', 'bl', 'gater', 'rome', 'blabbering', 'gate', 'romantic', 'romans', 'gassing', 'vivid', 'roman', 'blackamazon', 'rolls', 'rolling', 'gasp', 'rolled', 'gaslighting', 'viviangames', 'ideal', 'rohingya', 'garydlum', 'roguestr', 'roguestar', 'birds', 'rted', 'blackgirldanger', 'rogueallah', 'garry', 'iam', 'ideals', 'garrison', 'rting', 'roflmao', 'biracial', 'gayness', 'roe', 'blackjedi', 'bipartisan', 'garlic', 'rub', 'blacklisted', 'identical', 'bios', 'rode', 'blacklivesmattters', 'rocky', 'blackmail', 'biology', 'rocks', 'rockets', 'rocket', 'biological', 'identities', 'vivek', 'ideological', 'blackness', 'ideologies', 'blackopal', 'garden', 'robs', 'troubling', 'robot', 'idf', 'robinson', 'ruderzz', 'robinashe', 'robertosamalia', 'bingo', 'idiocy', 'blade', 'trumpers', 'robbed', 'rug', 'blades', 'roaming', 'gangsters', 'roads', 'roadmap', 'yknow', 'blanco', 'gangly', 'bland', 'ruins', 'blank', 'binary', 'blanket', 'rm', 'blaring', 'rkinglivedance', 'rjennromao', 'rulers', 'tropes', 'bimbos', 'trope', 'ganesha', 'gandas', 'ganda', 'riyaz', 'blasted', 'riveting', 'rumour', 'rumours', 'blastedsilver', 'rivers', 'rivalry', 'rituals', 'runnin', 'ritual', 'rite', 'blazing', 'gaminglennseto', 'risos', 'bills', 'risks', 'runway', 'risking', 'rising', 'idol', 'billionaires', 'billionaire', 'bleachers', 'idolatry', 'rural', 'bleed', 'ripping', 'bleeds', 'hyper', 'ripped', 'hyped', 'gamergates', 'vkhm', 'gamergaters', 'russ', 'yip', 'gamerfortruth', 'rio', 'blessing', 'rinse', 'ids', 'gaza', 'russians', 'gamer', 'trumpputin', 'yikes', 'rusty', 'ruth', 'blindly', 'gameninja', 'ruthless', 'ruthlessly', 'riley', 'bliss', 'rildom', 'blizzcon', 'iffy', 'blk', 'iftikharawan', 'bike', 'rw', 'blockbot', 'igbo', 'rightly', 'blocklist', 'rightfully', 'righteousness', 'righteous', 'bloggers', 'gbabeuf', 'hw', 'blogs', 'bih', 'bloke', 'galore', 'blond', 'gbazov', 'ridiculing', 'ridiculed', 'yh', 'yg', 'blooded', 'ricohands', 'bloods', 'hussain', 'ryuji', 'yoongi', 'bloodshed', 'rick', 'hush', 'galera', 'galaxy', 'galat', 'husbands', 'ignores', 'gc', 'blows', 'gak', 'sab', 'igual', 'richarddawkins', 'richard', 'riccygee', 'gains', 'gained', 'rican', 'ribs', 'hurtful', 'gags', 'blues', 'rhyme', 'hurry', 'ii', 'blumenthals', 'blunt', 'gaga', 'gag', 'iipkloss', 'iirc', 'blush', 'bm', 'bmackillopthio', 'ijosborne', 'ike', 'sacanear', 'gdkjordie', 'bo', 'rey', 'boa', 'ikea', 'rewrite', 'gdp', 'rewarding', 'hunting', 'rewarded', 'reward', 'revrunwisdom', 'ge', 'hunter', 'sacrifice', 'revolves', 'revolver', 'boarding', 'bieber', 'bidetofevil', 'boards', 'hunt', 'revolting', 'bidding', 'il', 'boast', 'boat', 'bob', 'ilhaam', 'reviews', 'bobby', 'ilhan', 'ilhanmn', 'reversed', 'bibles', 'hunger', 'ilivundrurbed', 'ilk', 'revered', 'ged', 'revenue', 'hun', 'visits', 'sadistic', 'sadists', 'bibi', 'revelation', 'reveals', 'revealing', 'geda', 'reveal', 'yesyoureracist', 'rev', 'gee', 'reuters', 'saeed', 'saeedali', 'bianca', 'bodily', 'gabbie', 'visited', 'reunions', 'safely', 'geek', 'biafra', 'ga', 'trusting', 'retweeted', 'saffron', 'returns', 'returning', 'bogus', 'retrowill', 'illinois', 'humility', 'boi', 'illiteracy', 'retreat', 'boil', 'retracted', 'boiling', 'retort', 'retiring', 'retirement', 'retired', 'retention', 'illogical', 'bokoharam', 'bol', 'truthful', 'bola', 'retaliation', 'retaliate', 'bold', 'retail', 'boldly', 'illuminati', 'resulting', 'resulted', 'geeta', 'bollocks', 'fygm', 'geez', 'rests', 'restrictions', 'bolsonaro', 'restricted', 'sailor', 'fx', 'fwiw', 'fw', 'saint', 'restart', 'saints', 'iloveoldtools', 'truths', 'bombed', 'bomber', 'bombings', 'iltafshehzad', 'responded', 'vision', 'bhakts', 'respects', 'ilysm', 'bon', 'yoself', 'respecting', 'respectfully', 'respectfull', 'bond', 'tryin', 'tryn', 'trynna', 'resorting', 'resorted', 'resort', 'resonate', 'bone', 'gem', 'salarta', 'visible', 'imacelebrityau', 'bonegolem', 'resolution', 'resisting', 'resistance', 'salesman', 'resilient', 'gemmanoon', 'bones', 'resignalfranken', 'bh', 'gen', 'bgt', 'bgs', 'residing', 'residents', 'resident', 'humanitarian', 'reside', 'bg', 'bfs', 'reserved', 'reserve', 'reservation', 'bffs', 'resentment', 'salt', 'resent', 'imaginary', 'researching', 'imagination', 'researched', 'rescue', 'imagined', 'futher', 'salute', 'requests', 'requesting', 'salvation', 'requested', 'tshirt', 'beyonce', 'imams', 'bey', 'reputation', 'repulsive', 'repubs', 'imanothervoice', 'beware', 'yessssss', 'tsk', 'booked', 'imbeciles', 'vodage', 'furthermore', 'vodka', 'generalizations', 'yesssss', 'yessss', 'hugging', 'generalize', 'repressed', 'hugged', 'booming', 'representing', 'hug', 'representatives', 'furry', 'bets', 'boondocks', 'generalizing', 'furniture', 'repost', 'betray', 'reporters', 'samjags', 'tsundererager', 'boost', 'furious', 'boot', 'booth', 'tt', 'imitate', 'yesss', 'beta', 'generals', 'funranium', 'booty', 'replaced', 'besties', 'tti', 'bop', 'sample', 'repercussions', 'repent', 'immediate', 'bestfriend', 'repeating', 'repeated', 'ttp', 'repeal', 'reparations', 'immense', 'hub', 'bore', 'immensely', 'reopening', 'funnier', 'renting', 'immigrant', 'rental', 'renounce', 'immune', 'borrow', 'funkyrefresh', 'rename', 'bosnian', 'sanctioned', 'sanctions', 'removing', 'remote', 'remorse', 'berry', 'bosses', 'reminding', 'tubes', 'tubman', 'sanders', 'bossy', 'remembers', 'tuckercarlson', 'funeral', 'botafoguense', 'impeach', 'impeached', 'impeachment', 'remark', 'remake', 'genocides', 'bothering', 'sandwiches', 'imperialist', 'tuesday', 'rely', 'relive', 'sane', 'sang', 'fundamentals', 'implement', 'sangh', 'implemented', 'religiously', 'sanghi', 'implementing', 'sanghis', 'gentleman', 'implications', 'virtue', 'virtual', 'bound', 'boundaries', 'bounds', 'implore', 'fundamentalists', 'imply', 'fundamentalism', 'fundamental', 'bent', 'boutta', 'benpobjie', 'importance', 'importantly', 'imported', 'bowl', 'sanskrit', 'functions', 'santa', 'impose', 'relief', 'boxedariel', 'bennett', 'reliable', 'benkuchera', 'boxes', 'boxing', 'relevance', 'relegion', 'releasing', 'impotent', 'relax', 'yer', 'relatives', 'relatively', 'relative', 'impress', 'trishesdishes', 'impressed', 'tuition', 'relations', 'impressing', 'bengali', 'relation', 'bengal', 'relating', 'boyle', 'impressive', 'relatable', 'imprison', 'rejoice', 'rejects', 'impromptu', 'reiterate', 'bozo', 'reinforce', 'reiner', 'improve', 'bending', 'improved', 'reigncoco', 'reign', 'sarcastic', 'georgia', 'bra', 'braces', 'bracket', 'impunity', 'httpwwwbreitbartcombig', 'sargonofakkad', 'youfoundthecard', 'imran', 'fullest', 'virginia', 'sarkari', 'sarkeesian', 'bradybaggett', 'fulfill', 'sarsour', 'brag', 'bragged', 'georgieonthego', 'bragging', 'imrtrippy', 'regrets', 'belowthisis', 'sasquatch', 'trips', 'tum', 'beloved', 'imrude', 'registered', 'register', 'belonging', 'braid', 'braids', 'regina', 'tripping', 'satanic', 'regimes', 'fukn', 'tummala', 'brainless', 'regarded', 'regard', 'trippin', 'refuted', 'satisfaction', 'satisfied', 'satisfy', 'satisfying', 'refuses', 'satoshiksutra', 'fuk', 'refund', 'refugee', 'branch', 'tripped', 'yemeni', 'branded', 'refs', 'sauce', 'germans', 'inane', 'brandi', 'refrain', 'inbox', 'reformed', 'bellathorne', 'fufu', 'brands', 'bella', 'reflects', 'sausages', 'savage', 'reflection', 'reflect', 'belive', 'refined', 'savannah', 'bras', 'belittling', 'refers', 'savarkar', 'tune', 'belittle', 'tunechi', 'incel', 'referencing', 'brassidio', 'brat', 'referee', 'brats', 'believer', 'saves', 'tuned', 'reevaluate', 'inception', 'incessant', 'brawl', 'triple', 'gether', 'virgil', 'saviours', 'brazile', 'brazilian', 'inch', 'inches', 'fuckyourkind', 'redundant', 'reducing', 'reduce', 'incindia', 'reds', 'breakdown', 'incites', 'saya', 'rednecks', 'inciting', 'breakfasts', 'inclined', 'viral', 'youltwow', 'fucktyler', 'inclusion', 'inclusive', 'redhead', 'income', 'breasts', 'yeller', 'incompetent', 'breathing', 'bred', 'gewt', 'beheads', 'beheadings', 'wattpad', 'inconsistent', 'behead', 'yeh', 'behaviors', 'breeds', 'brees', 'behaving', 'behaves', 'behaved', 'vip', 'breeze', 'recurring', 'gger', 'begun', 'incorrectly', 'breitbart', 'breitbartnews', 'brenbarber', 'youngest', 'recruiting', 'recruit', 'increased', 'recovered', 'recover', 'brendanalec', 'records', 'recording', 'recorded', 'tunnel', 'brendensparks', 'scampfaridxx', 'recommended', 'scandal', 'recommendations', 'recommend', 'brentonpoke', 'scapegoat', 'beggars', 'breonna', 'recognized', 'recognition', 'recognised', 'recognise', 'reclaiming', 'reclaim', 'reckless', 'reciting', 'recite', 'recipients', 'recipe', 'brexit', 'recess', 'scarmichael', 'independence', 'scars', 'befriend', 'violently', 'receives', 'brian', 'fuckoff', 'index', 'receipts', 'fuckn', 'brianhalldev', 'beer', 'recap', 'recalls', 'bribe', 'rebuild', 'brick', 'reblog', 'bricks', 'rebels', 'schedule', 'rebellious', 'rebellion', 'bride', 'rebel', 'brides', 'turd', 'schemes', 'bridges', 'fuckkkkk', 'reasoning', 'reasonably', 'brigade', 'rear', 'reap', 'realtalk', 'fuckingboyle', 'indias', 'brilliant', 'weaker', 'indiass', 'weakest', 'brincando', 'realizes', 'triggers', 'scholarship', 'indictment', 'realityforger', 'becuase', 'realistic', 'realist', 'indie', 'brit', 'becoz', 'triggering', 'britney', 'indifferent', 'indigenous', 'brits', 'brittany', 'brittanyblade', 'realdackfayden', 'brittd', 'indirect', 'indirectly', 'weakling', 'broadcast', 'reads', 'fuckboys', 'indoctrination', 'schooled', 'indonesia', 'triggercheck', 'brock', 'fuckboy', 'readers', 'turner', 'reactions', 'schoolhigh', 'reacting', 'reacted', 'schooling', 'bec', 'turquoise', 'reaches', 'indulge', 'industrial', 'industries', 'violations', 'fuckall', 'brook', 'gifted', 'indyvoices', 'brooklyn', 'razor', 'violating', 'rayyoosheh', 'inevitable', 'infact', 'rayandawlah', 'rawr', 'schoolyard', 'infanticide', 'ravish', 'ravenhuwolf', 'brotheryellow', 'infected', 'ravaged', 'brownbagpantry', 'weakness', 'inferiority', 'schumer', 'rationalize', 'rational', 'ratio', 'trigger', 'tutorial', 'rating', 'browns', 'rates', 'bruce', 'infidelity', 'ratchet', 'trifling', 'infidels', 'infighting', 'infiltrate', 'rasist', 'infiltrated', 'brunch', 'infiltrating', 'brunns', 'fsa', 'infinite', 'rascist', 'brush', 'rascal', 'infiniteclock', 'brushing', 'fry', 'brutalize', 'bears', 'bearing', 'brute', 'rapping', 'frustrated', 'inflated', 'inflicted', 'violated', 'beards', 'ginger', 'beard', 'influenced', 'beans', 'bryce', 'bryneaux', 'rapids', 'violate', 'fruitondabottom', 'yearbook', 'yeap', 'fruit', 'inform', 'scott', 'informationchef', 'btch', 'frozen', 'frowned', 'btstwt', 'btwn', 'buat', 'bubba', 'bdutt', 'fronts', 'bubbawallace', 'bubble', 'infront', 'bubbles', 'ing', 'frogs', 'ingat', 'tvweekmag', 'buck', 'fro', 'ranking', 'bud', 'ranked', 'rank', 'bday', 'budden', 'buddha', 'buddhism', 'ranger', 'yeahhhh', 'scratch', 'range', 'girldevweek', 'buddies', 'screamed', 'ingredients', 'watermelon', 'ingyusarms', 'fritters', 'girlfriends', 'bcos', 'screeching', 'twat', 'tricks', 'screencap', 'yeahh', 'twats', 'inherent', 'inherently', 'frio', 'fringe', 'bueno', 'bck', 'girlie', 'buff', 'ramzan', 'screw', 'ramsay', 'screwed', 'screwing', 'buffoon', 'rampaigera', 'bugger', 'ini', 'scripture', 'bugs', 'ramen', 'buhari', 'builder', 'rambles', 'frightened', 'bby', 'buildings', 'initiate', 'initiated', 'ramadan', 'rama', 'bukan', 'initiative', 'bule', 'rallies', 'rakshabandhan', 'scrutiny', 'injection', 'rakhi', 'injured', 'scudscorp', 'bulldog', 'injuries', 'injury', 'bullets', 'scumbags', 'rajaaab', 'raja', 'injustices', 'raises', 'raininblack', 'friendships', 'rain', 'inmates', 'raikonl', 'raid', 'yazidi', 'rahul', 'rahe', 'seabreeze', 'innis', 'girly', 'raha', 'raging', 'seahawks', 'innocence', 'sealed', 'fried', 'fridge', 'rag', 'tribes', 'innovatingwomen', 'tribe', 'fricking', 'httptcoxkohwkscyo', 'radioclashed', 'fri', 'seanhannity', 'frfr', 'radicalized', 'radicalize', 'radicalization', 'searched', 'searching', 'input', 'radicalislamicterrorism', 'radicalised', 'radicalisation', 'git', 'freshmen', 'tweetdeck', 'seasons', 'tweeter', 'racisttom', 'insanely', 'insanity', 'vines', 'insecurities', 'seattle', 'bummer', 'battles', 'bump', 'insecurity', 'bums', 'sec', 'yawn', 'inshallah', 'trial', 'vine', 'watercolor', 'bunk', 'bunker', 'freestyle', 'battery', 'insidious', 'bunny', 'insight', 'raciest', 'secretary', 'burden', 'bats', 'rachel', 'insist', 'insisted', 'insisting', 'buried', 'buries', 'bathrooms', 'insists', 'inspirational', 'sector', 'rabid', 'sects', 'bath', 'inspire', 'batchelorshow', 'rabbit', 'freely', 'ra', 'burnt', 'burqa', 'yourhighaj', 'burras', 'qurans', 'quranic', 'freedoms', 'burrito', 'burst', 'freedominguez', 'install', 'bush', 'bushy', 'tweetsm', 'quiz', 'businesses', 'instance', 'instances', 'quirky', 'freed', 'seeker', 'busses', 'bust', 'busted', 'quinn', 'seeks', 'instantly', 'weary', 'quietly', 'weasel', 'butch', 'quickieleaks', 'instigate', 'queue', 'trentmkays', 'butchers', 'questionsforwomen', 'questionsforfeminists', 'instigator', 'tweetybird', 'buti', 'questioned', 'questionable', 'institute', 'buts', 'instructed', 'instructions', 'butter', 'segregated', 'basics', 'segregation', 'queerdalek', 'basicmountain', 'butterfly', 'queens', 'insufferable', 'vince', 'queda', 'butthead', 'quebec', 'yous', 'twerker', 'butthurt', 'quarters', 'quarter', 'twerking', 'watchobserve', 'insurance', 'quantity', 'bashed', 'quando', 'insurgency', 'qualify', 'sekolah', 'qualified', 'qualifications', 'basement', 'butts', 'int', 'freaks', 'integration', 'trendy', 'buzzfeed', 'inteiro', 'intel', 'glee', 'qmarq', 'intellect', 'selenakhan', 'qld', 'weaselzippers', 'intellectuals', 'freakin', 'qatar', 'trends', 'selfies', 'intend', 'bas', 'bxtch', 'qanon', 'intense', 'intensely', 'qaida', 'villains', 'intentional', 'fraudulent', 'byrd', 'intentioned', 'bars', 'barry', 'glinner', 'selves', 'barron', 'sem', 'bystanders', 'villain', 'villages', 'pyrrha', 'trek', 'interacting', 'semi', 'interactions', 'pwreclive', 'cab', 'semite', 'barrier', 'cabal', 'pwafork', 'pvp', 'pvalerianus', 'sempre', 'frauds', 'sen', 'senate', 'fraudla', 'weave', 'barrel', 'cactussoup', 'interface', 'senators', 'cada', 'interfere', 'putins', 'cafe', 'interference', 'cafeteria', 'cage', 'caged', 'cages', 'fraternity', 'twink', 'frat', 'intern', 'vilified', 'seniors', 'internalized', 'cair', 'purse', 'caitlyn', 'barks', 'purposes', 'purposely', 'internationalwomensday', 'purposefully', 'cakes', 'interpol', 'calculate', 'interpret', 'interpreted', 'purely', 'calendar', 'interpreting', 'cali', 'interracial', 'interrupt', 'caliph', 'puppets', 'twins', 'caliphate', 'frankly', 'franklingraham', 'treason', 'glorious', 'punks', 'glory', 'franklin', 'caller', 'sentiment', 'barbies', 'vileness', 'interviewing', 'punishing', 'sentomcotton', 'punishes', 'interviews', 'callout', 'youtuber', 'twisting', 'callouts', 'frankiejgrande', 'punchlines', 'gloves', 'twists', 'separation', 'twit', 'calmicc', 'punches', 'youu', 'glow', 'glowed', 'vileislam', 'pun', 'intimidated', 'cam', 'september', 'pump', 'intimidating', 'intimidation', 'twitch', 'serbian', 'intlcrimcourt', 'frankalvarez', 'gm', 'pulls', 'youuu', 'pullover', 'camel', 'pulitzer', 'bapu', 'cameras', 'baptist', 'puke', 'intoxicated', 'intro', 'introduce', 'introduced', 'puerto', 'puedo', 'introduces', 'gmshivers', 'camila', 'seriousness', 'sermons', 'introspect', 'publishing', 'camillehughes', 'twitchsupport', 'publish', 'franco', 'banter', 'trayvon', 'francisco', 'server', 'camo', 'servers', 'serves', 'camp', 'campagnebds', 'bans', 'introverted', 'publication', 'campaigning', 'campaigns', 'pubg', 'session', 'sessions', 'puberty', 'pub', 'inundated', 'camping', 'seth', 'ptsd', 'yankees', 'vikki', 'twitpic', 'banner', 'yank', 'pt', 'settle', 'psychscientists', 'psychotic', 'invading', 'invalidate', 'banks', 'setup', 'seu', 'frame', 'psychology', 'canadians', 'canadiensmtl', 'psycho', 'seven', 'banko', 'canceled', 'psychbarakat', 'canceling', 'invent', 'vikas', 'severely', 'cancelling', 'pssst', 'fragile', 'invested', 'investigate', 'investigated', 'bangs', 'sewer', 'fraction', 'psa', 'bangladeshi', 'investigations', 'candles', 'banging', 'gobar', 'sexiest', 'candy', 'httptcoumdkgubtg', 'invisible', 'prude', 'invisiblejimbsh', 'travis', 'proxy', 'cannibalism', 'prowomanchoice', 'provoking', 'provoked', 'provoke', 'bandwagon', 'sexists', 'canon', 'provocation', 'provisions', 'inviting', 'province', 'sexretary', 'providing', 'cantcook', 'travieee', 'involve', 'proudpatriot', 'proudly', 'involves', 'protocol', 'protip', 'protestors', 'twitterfeminism', 'goddess', 'cap', 'capacity', 'twitterindia', 'protects', 'protective', 'protections', 'bananaramble', 'twitterkurds', 'banana', 'twitters', 'protagonists', 'capitalism', 'godhra', 'prostitution', 'capitalist', 'ip', 'capitol', 'traveling', 'bame', 'prosecuting', 'bambi', 'prosecuted', 'prosecute', 'props', 'ipl', 'caps', 'sha', 'proposed', 'proposals', 'fourinhand', 'shabab', 'propoganda', 'baltimore', 'ir', 'founding', 'caption', 'founders', 'iranian', 'captive', 'prophecy', 'founder', 'properties', 'iranians', 'godse', 'balochistan', 'founded', 'shady', 'propagate', 'iraqi', 'fotos', 'foto', 'pronouns', 'caravans', 'traumatizing', 'pronounce', 'ireland', 'carbon', 'cardboard', 'foster', 'promotion', 'ballistic', 'twoscooters', 'twothugu', 'promogirls', 'twt', 'promises', 'ballet', 'forwards', 'prominent', 'careers', 'carefully', 'forum', 'careless', 'projection', 'projecting', 'prohibits', 'fortune', 'prohibit', 'progressives', 'fortunately', 'traumatic', 'ty', 'progressed', 'iron', 'tychobrahe', 'programme', 'yal', 'fortunate', 'shambles', 'fortnite', 'bald', 'cargo', 'forth', 'profiles', 'trashy', 'profiled', 'professorf', 'wasted', 'balance', 'irrational', 'professord', 'professora', 'carl', 'shamianalyst', 'professionals', 'irrespective', 'profession', 'carlos', 'prof', 'formula', 'productive', 'forms', 'shampoo', 'forming', 'produces', 'producers', 'producer', 'shandling', 'irritating', 'irs', 'carnage', 'proclaiming', 'proclaimed', 'procession', 'baker', 'processing', 'baked', 'isa', 'proceeds', 'formative', 'proceeded', 'proceed', 'carol', 'carolina', 'carolinesinders', 'tym', 'carpet', 'carrd', 'fork', 'typed', 'prntf', 'carrie', 'carried', 'prize', 'privileges', 'carroll', 'forgiving', 'shapiro', 'privacy', 'bait', 'pritipatel', 'traps', 'gona', 'wasp', 'prisons', 'shares', 'prisoners', 'prisoner', 'shariah', 'wedge', 'forgiven', 'carter', 'priority', 'prior', 'printed', 'principles', 'principle', 'principals', 'cartoons', 'princesses', 'typically', 'isil', 'forgets', 'casa', 'wednesday', 'yahoogames', 'yahoo', 'primitive', 'sharpton', 'casey', 'wednesdays', 'shat', 'typing', 'primarily', 'priests', 'priest', 'typo', 'bahai', 'cass', 'prices', 'bahahaha', 'tyra', 'wee', 'forest', 'shaving', 'bags', 'prez', 'shawn', 'ypg', 'previously', 'previous', 'prevents', 'casspernyovest', 'shawty', 'preventing', 'yah', 'tyrannical', 'prevalent', 'trap', 'ypgypj', 'prevails', 'shd', 'pretzel', 'foreigners', 'tyranny', 'prettiest', 'pretentious', 'pretends', 'shedding', 'bae', 'tyrants', 'pretended', 'forehead', 'goodnight', 'sheep', 'casting', 'forefathers', 'sheer', 'castle', 'sheesh', 'casual', 'presssec', 'pressing', 'forcibly', 'catapults', 'presidents', 'islamicstate', 'goody', 'presidential', 'shehlarashid', 'catcher', 'presidency', 'islamicterrorism', 'catching', 'presents', 'presenting', 'weeds', 'presentation', 'presence', 'categories', 'prescribed', 'googled', 'shelbylynne', 'pres', 'preparing', 'forbids', 'islamism', 'prepare', 'catering', 'shellysmyth', 'prep', 'preorder', 'caters', 'premium', 'badge', 'catesish', 'premise', 'shem', 'forbidden', 'shemetic', 'goon', 'islamistheproblem', 'goonies', 'baddest', 'cathedral', 'footy', 'prefix', 'prefers', 'preferred', 'preference', 'preferably', 'prefect', 'shereeny', 'goose', 'catholics', 'pref', 'islamlibya', 'cathyyoung', 'sherirubin', 'predominantly', 'washington', 'footballer', 'predicted', 'islamofascists', 'predictable', 'predict', 'islamolunatic', 'tá', 'islamophoba', 'islamophobe', 'catwalk', 'shethewolf', 'islamophobes', 'caucasians', 'islamophobiainindia', 'backward', 'caucus', 'caulkthewagon', 'shhhh', 'preaches', 'preachers', 'preacher', 'preached', 'weeezza', 'foolishness', 'shi', 'fooling', 'fooled', 'shias', 'islamrevlution', 'shield', 'vida', 'prayforlynnamptony', 'weekends', 'prayed', 'shift', 'shifted', 'pravana', 'vid', 'washing', 'backlash', 'pratico', 'backing', 'foods', 'pratica', 'gore', 'cave', 'isle', 'caves', 'background', 'gorilla', 'ism', 'cavusseyit', 'praising', 'gorsuch', 'praises', 'praised', 'shine', 'uae', 'practising', 'practiced', 'foodie', 'practical', 'shining', 'victorymonk', 'uber', 'weekly', 'transphobia', 'cbs', 'cbsbigbrother', 'shipped', 'isolated', 'ppls', 'isolating', 'pple', 'pp', 'uberfeminist', 'bachelor', 'powerpoint', 'powerless', 'powered', 'povo', 'pov', 'fondly', 'cd', 'cdc', 'cdcgov', 'poured', 'israelites', 'fond', 'cease', 'goths', 'shite', 'israjourisra', 'isreal', 'potter', 'issa', 'shithead', 'potentially', 'potato', 'celeb', 'issued', 'celebrated', 'posters', 'celebration', 'xxx', 'celiadeeter', 'possibility', 'xxltina', 'possessed', 'positivity', 'weev', 'cellphone', 'cells', 'istg', 'posh', 'poser', 'pose', 'censored', 'portraying', 'portrayed', 'babes', 'portrayal', 'portray', 'censorship', 'census', 'babbling', 'cent', 'centered', 'centers', 'babar', 'portion', 'iswas', 'centre', 'shjade', 'centres', 'shld', 'governments', 'centrist', 'port', 'cents', 'sho', 'victorias', 'italy', 'ba', 'itand', 'foi', 'cerebral', 'shocking', 'shockingly', 'translators', 'itd', 'porch', 'item', 'shoe', 'populations', 'items', 'populated', 'popped', 'certificate', 'certified', 'focusing', 'azmoderate', 'focusin', 'focused', 'victorian', 'popcorn', 'cfp', 'translations', 'shooter', 'translation', 'itreallymakesmemad', 'ch', 'translates', 'cha', 'fml', 'warriors', 'chaap', 'poof', 'pony', 'pontifex', 'flynn', 'weights', 'translate', 'flyers', 'chains', 'chainz', 'itsjust', 'polo', 'pollution', 'azaan', 'pollute', 'polls', 'shorter', 'polled', 'ufc', 'challenged', 'challenges', 'chama', 'chamada', 'politicalcynic', 'politely', 'polite', 'polish', 'champion', 'shorty', 'champions', 'championship', 'shots', 'policemen', 'champs', 'shoulda', 'shoulder', 'policed', 'shoulders', 'pole', 'poland', 'flowers', 'poking', 'itu', 'flower', 'poker', 'transgenders', 'shoutout', 'shouts', 'pokemon', 'poked', 'poke', 'pok', 'poison', 'shoving', 'ughhh', 'ughhhh', 'pogroms', 'flop', 'poetry', 'floors', 'chant', 'chanting', 'chaos', 'pode', 'podcasts', 'warrenleighttv', 'ay', 'chaotic', 'iv', 'pod', 'chapelle', 'pocky', 'pocket', 'gracie', 'chappelles', 'po', 'shred', 'flooding', 'chapter', 'chapters', 'shrek', 'warraq', 'pnibbler', 'flood', 'shri', 'char', 'aws', 'pndiamond', 'chara', 'ivey', 'pmoindia', 'flock', 'ugliest', 'ugliness', 'flo', 'shrug', 'plugs', 'flirting', 'ploy', 'yuh', 'charging', 'plots', 'flipping', 'awhile', 'flipped', 'awfully', 'xoxo', 'shud', 'plo', 'iya', 'charlesrandall', 'plight', 'charli', 'iz', 'flight', 'graduating', 'awe', 'flies', 'pleasure', 'victoria', 'graduation', 'pleasing', 'charm', 'pleased', 'grafana', 'charming', 'graffiti', 'pleasant', 'pleas', 'transferring', 'chart', 'xor', 'yum', 'yumchaaddict', 'flex', 'shyt', 'charts', 'transferred', 'chase', 'chased', 'playlist', 'playin', 'playgrounds', 'flesh', 'fleeing', 'flee', 'sibbysoyabean', 'chastised', 'fled', 'sibelo', 'jac', 'uhhh', 'chats', 'jacepro', 'aw', 'flaws', 'plastic', 'flawless', 'sickening', 'grammy', 'planted', 'avoids', 'sickness', 'avoiding', 'jackass', 'avoided', 'jackasses', 'flawed', 'flavour', 'planning', 'jacket', 'sided', 'grand', 'uhm', 'planes', 'plane', 'grande', 'transfer', 'cheaper', 'jackmjenkins', 'cheated', 'plague', 'yung', 'siding', 'grandfather', 'avg', 'uhohbrochannel', 'placed', 'cheats', 'placard', 'pl', 'flats', 'sierra', 'checking', 'jackson', 'pizza', 'sighs', 'sight', 'pixieyas', 'jacksons', 'pixelfish', 'sigje', 'checks', 'signal', 'pity', 'signalling', 'jacksonville', 'tranny', 'grandpa', 'grandparents', 'cheek', 'signing', 'cheeks', 'pitched', 'flashbacks', 'pit', 'cheering', 'flashback', 'grandson', 'cheerleader', 'cheerleaders', 'cheers', 'pissing', 'cheese', 'traits', 'ui', 'xmjee', 'cheesusslice', 'cheetah', 'avatar', 'pirates', 'pipe', 'flames', 'grant', 'silencing', 'chefs', 'warn', 'flame', 'jade', 'pinoybuilt', 'flamboyant', 'grants', 'pinned', 'flags', 'chemical', 'jadi', 'silvermillsy', 'weirdest', 'sim', 'pin', 'graphic', 'jagregory', 'jags', 'pimp', 'autonomy', 'fl', 'pilot', 'pills', 'similarly', 'fkn', 'pill', 'piling', 'xmas', 'piled', 'chess', 'chest', 'simon', 'jahil', 'piggy', 'grasp', 'fk', 'piers', 'simp', 'piercings', 'chewing', 'chezkig', 'auto', 'grass', 'jailed', 'fixing', 'chi', 'jain', 'jains', 'fixated', 'jaish', 'chickens', 'jaja', 'simpson', 'authoritarian', 'jajaja', 'sims', 'chickowits', 'simulates', 'jajajajaja', 'fitting', 'simultaneously', 'fitness', 'grave', 'graves', 'xjared', 'jaketapper', 'childishly', 'childrens', 'sincerely', 'jam', 'childs', 'chile', 'jamaat', 'xinjiang', 'sinful', 'chillin', 'chilling', 'jamat', 'jamati', 'fish', 'jameeljaffer', 'firstworldproblems', 'chinas', 'ching', 'weirdos', 'picnic', 'chip', 'fireworks', 'chips', 'singular', 'fires', 'austin', 'ukip', 'jampk', 'piano', 'chivalry', 'jan', 'firebomb', 'ukraine', 'fir', 'aussielung', 'sins', 'jane', 'aussie', 'photoshopped', 'photoset', 'photography', 'photographs', 'phony', 'phones', 'finland', 'choir', 'phoenixdk', 'phoenix', 'siren', 'phobic', 'phobia', 'jank', 'greece', 'jannat', 'aunty', 'phillykevin', 'phillips', 'chooses', 'choosing', 'aunt', 'philippines', 'finicalgal', 'greedy', 'aula', 'philipmills', 'chopper', 'choppers', 'warm', 'greeks', 'warlords', 'chopping', 'fingir', 'japan', 'phil', 'victimized', 'phenomenon', 'trail', 'welcomed', 'tragic', 'phd', 'phases', 'audio', 'sitcom', 'tragedy', 'phase', 'greens', 'pharisees', 'xi', 'greenweiner', 'victimization', 'finger', 'yur', 'traffic', 'ph', 'fing', 'pfp', 'pfi', 'sixth', 'finest', 'yuri', 'pf', 'welcomes', 'findom', 'petterwass', 'pets', 'sizes', 'petrol', 'sj', 'sjhcanada', 'jasonbentley', 'financially', 'jasongio', 'traditions', 'ull', 'petfish', 'petes', 'petertownsend', 'attribute', 'peterson', 'greg', 'finance', 'finals', 'finaleve', 'petecheslock', 'javed', 'peta', 'fin', 'pessoas', 'ultimate', 'skater', 'filters', 'peshawar', 'skawtnyc', 'attract', 'pesh', 'attorney', 'filo', 'attitudes', 'perverts', 'perverted', 'pervert', 'perversion', 'filling', 'filipinos', 'christine', 'ultimately', 'sketch', 'personnel', 'filing', 'ultra', 'attends', 'yuskan', 'tradition', 'files', 'trading', 'personalities', 'christophheer', 'chrisvcsefalvay', 'persian', 'attempting', 'chrome', 'chromosome', 'attempted', 'jazeera', 'greta', 'chronic', 'umar', 'figuring', 'skins', 'perpetuation', 'skipped', 'perpetuating', 'skipping', 'perpetuates', 'perpetual', 'skirt', 'skirts', 'umarmal', 'skit', 'perpetrator', 'perpetrated', 'pero', 'chsommers', 'permitted', 'permits', 'attaching', 'attached', 'skool', 'permit', 'xenophobic', 'perks', 'periods', 'grief', 'chubssays', 'wells', 'umbrella', 'chuck', 'atonal', 'perfume', 'performing', 'griffin', 'performer', 'atm', 'performance', 'chuckle', 'perfection', 'jc', 'xenophobia', 'percentage', 'percent', 'jcmanous', 'perceived', 'jcob', 'fighter', 'churn', 'churner', 'pepper', 'atlanta', 'jd', 'chutiya', 'slagkick', 'pepe', 'jdefiant', 'slainvfr', 'slam', 'chutiye', 'fifth', 'fifa', 'je', 'victimhood', 'athletic', 'jean', 'fields', 'pens', 'traded', 'athletes', 'cigardubey', 'slapped', 'slapping', 'penn', 'cigarette', 'cigarettes', 'umm', 'peninsula', 'penguinman', 'umma', 'grip', 'pending', 'jedward', 'fictional', 'pencil', 'fiction', 'slaunchaman', 'penalty', 'atheism', 'atharhkhan', 'jeez', 'pen', 'slavers', 'pelting', 'peice', 'circles', 'peggyorenstein', 'circuit', 'circumstance', 'ummmm', 'circus', 'fiancé', 'pee', 'pedreiro', 'cishet', 'jeffree', 'pedos', 'tracks', 'jeffrey', 'pedophelia', 'citations', 'una', 'sleeps', 'cite', 'cited', 'jeffskalski', 'peddling', 'citing', 'fgm', 'jehad', 'asylum', 'sleeves', 'jehadi', 'citizenship', 'pearls', 'asus', 'pearl', 'peanut', 'fggot', 'fg', 'peaches', 'peach', 'slick', 'citywolfis', 'slid', 'welp', 'slides', 'jelly', 'civilian', 'slightest', 'jellybean', 'civilised', 'slim', 'groper', 'peacefully', 'unamerican', 'civilized', 'jem', 'cj', 'unapologetic', 'pdx', 'pds', 'pdp', 'ff', 'jemima', 'fewer', 'pd', 'cjnu', 'jenn', 'pbuh', 'slogans', 'fetishizing', 'jenner', 'jennie', 'sloppy', 'assyrian', 'sloshedtrain', 'jennifer', 'cl', 'paypal', 'payment', 'jenny', 'payers', 'jennytrout', 'assure', 'payed', 'paycheck', 'tracepeterson', 'payback', 'assumption', 'grounds', 'jensen', 'fetish', 'assumes', 'paws', 'jeon', 'unarmed', 'trace', 'festivals', 'clapped', 'clapping', 'pause', 'jeremiahfelt', 'clarett', 'clarification', 'clarify', 'fest', 'smack', 'jeremy', 'clarity', 'clarkson', 'claro', 'fervent', 'clases', 'patvpeters', 'clashoftherats', 'vics', 'patterns', 'pattern', 'assiye', 'jerrys', 'jersey', 'patriotism', 'patriotic', 'patriot', 'assistant', 'assistance', 'smash', 'patrickosgood', 'patrick', 'classified', 'classify', 'patricechienne', 'unathletic', 'patriarchal', 'smear', 'classist', 'patience', 'assimilate', 'pathological', 'jess', 'unattractive', 'smells', 'smelly', 'grownups', 'grows', 'jesse', 'unaware', 'patently', 'wz', 'jessicaelgot', 'patches', 'patch', 'jessie', 'pat', 'assets', 'pasty', 'smiled', 'clause', 'pastors', 'jessiejofficial', 'clay', 'smiling', 'pastel', 'paste', 'unbearable', 'smith', 'password', 'assertion', 'cleaned', 'passive', 'cleaner', 'assembly', 'unbelievable', 'passes', 'passages', 'passage', 'cleanliness', 'grt', 'cleansed', 'assaults', 'vicky', 'fems', 'smol', 'pas', 'cleared', 'partys', 'partying', 'wyatt', 'assassinate', 'femme', 'jesusreligion', 'unbelievers', 'femitheist', 'partners', 'jet', 'partly', 'unblock', 'clergy', 'jets', 'unborn', 'jett', 'parte', 'click', 'clicks', 'feministsareugly', 'clients', 'parkland', 'aspects', 'aspect', 'clifford', 'wwwhbhliveapparelcom', 'feministlah', 'climbing', 'parker', 'clinic', 'asleep', 'snake', 'snakes', 'feministfailure', 'jezebel', 'snapchat', 'unc', 'clintons', 'snapped', 'feministdeck', 'feministculture', 'jfc', 'uncalled', 'parenting', 'wwjd', 'clique', 'snarky', 'parental', 'cliques', 'snatched', 'cliquey', 'clock', 'pardon', 'paranoid', 'sneak', 'closely', 'askfm', 'feminismisawful', 'sneakers', 'jgray', 'closet', 'parallel', 'paraketa', 'femininity', 'parah', 'paragraph', 'closing', 'cloth', 'paradise', 'gtfoh', 'jhamby', 'parade', 'par', 'pappu', 'feminazidoesnt', 'paperwork', 'snipeyhead', 'gtgtgt', 'paperwhite', 'femfreefriday', 'papa', 'clubs', 'panties', 'panthers', 'panther', 'pansexual', 'unchecked', 'panel', 'jihadia', 'cmon', 'cn', 'unclear', 'pancake', 'pan', 'jihadin', 'cnnpolitics', 'snot', 'pals', 'snow', 'cnt', 'fellowship', 'fellows', 'gtno', 'pallehoffstein', 'viciously', 'jihadjihadimuktbharat', 'palestra', 'uncles', 'coalition', 'coast', 'uncommon', 'jihads', 'coat', 'wenger', 'pal', 'wud', 'pakistans', 'gtreligious', 'unconditionally', 'pakis', 'paki', 'cocksucker', 'jill', 'pais', 'pairs', 'cocky', 'paints', 'painting', 'painted', 'guarantee', 'asheschow', 'guaranteed', 'paint', 'pains', 'painfully', 'unconscious', 'coconono', 'pailofawesome', 'cod', 'jimboslice', 'pageant', 'codes', 'guards', 'pag', 'gucci', 'asf', 'paedos', 'paedophilia', 'paedophiles', 'paedophile', 'coding', 'cody', 'coerced', 'socialists', 'guessed', 'jimin', 'toxicity', 'paddy', 'jimjordan', 'pad', 'sociedade', 'societal', 'societies', 'pact', 'cognitive', 'packs', 'cohen', 'packed', 'coil', 'coincidence', 'sociopath', 'sociopathic', 'coined', 'coke', 'sock', 'jinnah', 'asadowaisi', 'pace', 'pac', 'towns', 'colbert', 'feia', 'guidelines', 'fei', 'cole', 'fees', 'arya', 'feelmymusic', 'coles', 'guild', 'soe', 'colins', 'collaborate', 'jizyacollector', 'aru', 'wankers', 'collapse', 'artsy', 'owns', 'collar', 'ownership', 'wereare', 'collect', 'sofri', 'sofria', 'towers', 'owes', 'collecting', 'collection', 'artist', 'collective', 'feedback', 'overwhelmed', 'software', 'feebee', 'colleges', 'feds', 'artificial', 'jkronenwetter', 'collin', 'overtly', 'collins', 'collusion', 'overt', 'soi', 'overshadow', 'colonelkickhead', 'overreact', 'overrated', 'wthe', 'colonial', 'colonialism', 'overly', 'overlooked', 'february', 'solar', 'feb', 'towel', 'colonization', 'gullible', 'jmatonak', 'arsenal', 'wth', 'colorado', 'overheard', 'overgrown', 'featured', 'touts', 'solidarity', 'arse', 'overdose', 'feature', 'overboard', 'feather', 'feat', 'arrogance', 'jmt', 'oval', 'ova', 'solteiros', 'outward', 'arrived', 'outstanding', 'outspoken', 'outsiders', 'colorless', 'fears', 'arresting', 'zakir', 'solved', 'outs', 'outros', 'coloured', 'outright', 'outreach', 'outrageous', 'somali', 'somalia', 'colours', 'somalis', 'joan', 'outlets', 'columbine', 'column', 'outlawed', 'outing', 'feardept', 'outfits', 'combat', 'outdated', 'outcome', 'outchea', 'outcasted', 'combination', 'fdgonthier', 'outa', 'ousted', 'combined', 'combo', 'comeback', 'comebacks', 'somethin', 'armstrong', 'ought', 'wtc', 'ouch', 'ou', 'somewhat', 'comedic', 'ottomans', 'armor', 'ottomanland', 'ottoman', 'fckn', 'otoh', 'othr', 'fbook', 'armenian', 'comfort', 'comfy', 'comigo', 'comin', 'oscon', 'oscars', 'fazer', 'tour', 'oscar', 'osbridge', 'sonia', 'gurls', 'fazendo', 'joenuzz', 'sonic', 'orthodoxy', 'orthodox', 'joeschmucc', 'commentary', 'oromo', 'commentate', 'oromia', 'commentating', 'sony', 'joewsj', 'joey', 'commented', 'originated', 'wsbg', 'faythemage', 'sooner', 'underdeveloped', 'commercial', 'commie', 'soooo', 'sooooo', 'ws', 'sooooooo', 'orgy', 'commission', 'commited', 'orgasm', 'organs', 'commitment', 'sophia', 'favs', 'organizer', 'organized', 'commits', 'committee', 'sophomore', 'favourites', 'organised', 'jogar', 'commonly', 'organ', 'sorbet', 'ariana', 'favour', 'sore', 'oreo', 'oreilly', 'sorority', 'johnacowie', 'oregon', 'ordinary', 'orders', 'gv', 'communication', 'wrongs', 'gw', 'wrongly', 'westerners', 'undermine', 'wronged', 'faves', 'sorryitsaboy', 'ora', 'sorrynotsorry', 'optional', 'touching', 'comp', 'sorted', 'sorts', 'optimistic', 'sos', 'faux', 'faults', 'gwer', 'opted', 'ops', 'johnny', 'comparable', 'vi', 'oppressors', 'sou', 'oppressor', 'oppressions', 'oppressing', 'wrld', 'compares', 'fauci', 'oppress', 'opposes', 'comparisons', 'wana', 'compass', 'compassionate', 'opportunities', 'souls', 'fatwa', 'arena', 'opponent', 'fatty', 'compensation', 'compete', 'operation', 'sounding', 'operating', 'vhp', 'competent', 'operate', 'opens', 'competing', 'understatement', 'sour', 'ardiemm', 'joinoapi', 'opener', 'gyu', 'competitive', 'joins', 'joint', 'writer', 'complains', 'complaint', 'oops', 'complaints', 'completed', 'oooo', 'oooh', 'oomfs', 'complexion', 'oolon', 'fatimafatwa', 'ooh', 'oof', 'soy', 'complicated', 'joker', 'complicit', 'ontop', 'compliments', 'vexrian', 'compoundmixture', 'comprehend', 'comprehension', 'spaces', 'compromise', 'compton', 'jokeshonestly', 'arc', 'computers', 'onion', 'fatfshouldblacklistpakistan', 'fatfnews', 'ongoing', 'fatfblacklist', 'fatf', 'spamming', 'span', 'onesstop', 'conceit', 'totes', 'onesdont', 'underwear', 'concentrate', 'totenleserin', 'onelegsandpiper', 'fateh', 'oneiorosgrip', 'fate', 'concepts', 'onebrightlight', 'fatass', 'habit', 'concerning', 'spatchcock', 'concerts', 'conclude', 'concluded', 'spawn', 'conclusion', 'oml', 'omitted', 'concrete', 'omglazerkittens', 'westminster', 'condem', 'speaker', 'condemnation', 'wrestler', 'faster', 'condolences', 'condom', 'hace', 'ar', 'om', 'olympics', 'conduct', 'hacen', 'aqui', 'conducting', 'oluwajoy', 'olly', 'confederacy', 'olivia', 'specially', 'conferences', 'oliver', 'fashioned', 'confession', 'olha', 'wreck', 'oldschool', 'oldkhayyam', 'oldest', 'undesirable', 'fascinating', 'spectacular', 'confirmation', 'apt', 'wre', 'hack', 'hacked', 'hacker', 'speeches', 'confirms', 'hackers', 'oktar', 'vets', 'april', 'confront', 'okieatheist', 'hacking', 'confronting', 'okey', 'apps', 'wrapping', 'totalbiscuit', 'spelling', 'okc', 'wrapped', 'approves', 'approved', 'fart', 'oj', 'wrape', 'approval', 'spends', 'appropriation', 'appropriating', 'appropriately', 'spew', 'farrakhan', 'jordisdead', 'oils', 'congratulated', 'undoubtedly', 'congregation', 'oi', 'ohyoufancyhuhfb', 'spic', 'congressi', 'congressional', 'farooqsumar', 'congressmen', 'jose', 'spicy', 'joseph', 'spider', 'congresswomen', 'josephisvegan', 'josh', 'connections', 'ohio', 'ohhhh', 'hadn', 'ohhh', 'hadnt', 'connotation', 'fap', 'ofredandblue', 'conor', 'appointed', 'conquer', 'spine', 'offs', 'applying', 'conquest', 'journal', 'conscience', 'applies', 'conscious', 'tossed', 'applications', 'spirited', 'application', 'officialpax', 'toss', 'consensual', 'spiritually', 'officialdgispr', 'apples', 'spite', 'spiteful', 'hafiz', 'spitting', 'fantasizes', 'fantasize', 'consenting', 'unemployed', 'unemployment', 'consequence', 'journey', 'fantasies', 'offf', 'offers', 'split', 'offering', 'unequivocally', 'hagia', 'appeasing', 'conservatism', 'spoil', 'spoiled', 'wet', 'spoilers', 'offends', 'appeasement', 'offending', 'tos', 'spokesman', 'offender', 'unfairly', 'spongebob', 'sponsor', 'joyless', 'offence', 'consideration', 'considers', 'appearances', 'spook', 'ofcourse', 'jp', 'ofc', 'fandoms', 'spoon', 'appealing', 'consisted', 'consistent', 'consistently', 'consolation', 'sporting', 'tory', 'veterans', 'sportscenter', 'sportsinflatio', 'sportsmanship', 'fancy', 'jrblanc', 'veteran', 'conspired', 'spotify', 'odds', 'spots', 'spotted', 'od', 'fanatic', 'spout', 'october', 'spouting', 'constituents', 'spray', 'jsigj', 'constitutional', 'ocean', 'appalling', 'appalled', 'torturing', 'occurring', 'walmart', 'construct', 'occur', 'occupy', 'occupation', 'construction', 'occasions', 'occasionally', 'constructive', 'occasion', 'json', 'hahahah', 'ocasio', 'walls', 'oc', 'jst', 'apologizing', 'consulting', 'apologizes', 'spying', 'consume', 'obvi', 'zeenews', 'hahahahaha', 'square', 'apologists', 'obv', 'consumer', 'squat', 'obtuse', 'obtained', 'jsut', 'consuming', 'hahahahahahaha', 'apologises', 'jt', 'apologise', 'obsession', 'contacting', 'contacts', 'observed', 'observations', 'observation', 'obscene', 'contempt', 'oblivious', 'oblivion', 'contemptible', 'obligation', 'juan', 'objectively', 'objective', 'apne', 'contest', 'objectify', 'contestant', 'familiar', 'sri', 'unfit', 'obfuscurity', 'obeyx', 'api', 'wetsprocket', 'continent', 'obesity', 'falsities', 'srsly', 'continually', 'continuation', 'judaism', 'juddapatow', 'ss', 'apes', 'continuous', 'continuously', 'contract', 'unfollowed', 'ape', 'judeo', 'judeochristian', 'vet', 'haidry', 'oath', 'unfollowing', 'apartments', 'contradictory', 'judged', 'apartheid', 'oaklandelle', 'hailed', 'oakland', 'hain', 'contrast', 'número', 'judgemental', 'né', 'contributes', 'haircut', 'contributing', 'contribution', 'ap', 'nz', 'stacks', 'contributions', 'stadium', 'haired', 'nyt', 'nys', 'nypost', 'falling', 'woulda', 'nypd', 'judgmental', 'controller', 'controlling', 'nye', 'controls', 'judgybitch', 'unfounded', 'stain', 'nxt', 'fallen', 'hairs', 'hairspray', 'nword', 'judiciary', 'nw', 'hairy', 'nvr', 'stalk', 'stalked', 'stalker', 'nvidiadeveloper', 'nvidia', 'haiti', 'convenience', 'convenient', 'conveniently', 'convention', 'nutshell', 'nutrition', 'juga', 'conversations', 'converse', 'stamps', 'falar', 'anyones', 'worships', 'converts', 'unfunny', 'tormented', 'nursery', 'juicy', 'faketoniatodman', 'nuritbaytch', 'convicted', 'conviction', 'anxious', 'worshipping', 'worshippers', 'convincing', 'hal', 'ungrateful', 'halala', 'worshipper', 'convos', 'tories', 'unhealthy', 'cookbook', 'nukes', 'worshiping', 'nuisance', 'jukes', 'fakenews', 'cookie', 'cookies', 'halalcunty', 'stanning', 'julia', 'juliaferraioli', 'unhinged', 'nude', 'nuance', 'starbucks', 'cooler', 'nsw', 'coolest', 'stare', 'stared', 'faiths', 'nshit', 'nsfw', 'httptcobxyghtfpk', 'nscottg', 'nrrrdcore', 'nrllhkose', 'nrc', 'nrage', 'nra', 'july', 'npo', 'np', 'stars', 'halfway', 'cooning', 'jumping', 'coons', 'fairness', 'nows', 'jungkook', 'coopatropp', 'jungle', 'cooper', 'starving', 'nowbut', 'nowadays', 'coopster', 'novorossiyan', 'torah', 'juniors', 'tops', 'antisemitism', 'coordination', 'novel', 'halloween', 'halls', 'nov', 'hallway', 'cope', 'junk', 'copied', 'coping', 'faint', 'static', 'worrying', 'coptic', 'stations', 'copts', 'jury', 'copying', 'fails', 'notorious', 'statmnt', 'stats', 'corbyn', 'notofeminism', 'ham', 'notmypresident', 'notion', 'justanothermo', 'corinnasladey', 'notification', 'noticing', 'unicorn', 'justbriyou', 'statutory', 'nothin', 'antidarkskinned', 'cornerstone', 'antics', 'notes', 'noted', 'corny', 'faianh', 'hamilton', 'hammer', 'worries', 'notch', 'stays', 'coronajihad', 'faheemhus', 'notallbhas', 'corporate', 'stds', 'fags', 'steady', 'steak', 'corpses', 'nossa', 'corrected', 'nosexist', 'steals', 'noses', 'correction', 'nosed', 'worn', 'correctly', 'han', 'nos', 'anthem', 'correctness', 'correlation', 'northerners', 'unified', 'justifiable', 'norms', 'corrupted', 'corruption', 'justification', 'whack', 'normalized', 'normalize', 'normalised', 'answering', 'justifies', 'stein', 'wallahi', 'versacezaynx', 'fagget', 'cosby', 'nora', 'justinbieber', 'noose', 'cosplay', 'fades', 'fade', 'ans', 'nooooo', 'stepdad', 'noooo', 'handicap', 'costs', 'nooo', 'costume', 'stephen', 'noona', 'noon', 'faculty', 'noo', 'nonstop', 'handled', 'stephens', 'nonsensical', 'nonprofit', 'stepped', 'nono', 'factual', 'justnafisa', 'zeynep', 'toothless', 'nonirishpaddy', 'cough', 'stereotypical', 'handles', 'stereotyping', 'coughing', 'nonbelievers', 'coulda', 'factsofschool', 'unimportant', 'nomorepage', 'justsaying', 'tooth', 'nominate', 'counselors', 'nome', 'nom', 'countdown', 'counted', 'factory', 'noises', 'annoys', 'noise', 'counting', 'noh', 'factions', 'juvenile', 'faction', 'nobodys', 'noble', 'stewart', 'countryside', 'annoyed', 'jwyoder', 'stg', 'facility', 'noah', 'counts', 'coup', 'announcers', 'announcer', 'coupled', 'couples', 'nm', 'já', 'worldly', 'announced', 'facial', 'stigma', 'kaafir', 'nj', 'courtney', 'zhha', 'kaam', 'voiced', 'httpsâ', 'walker', 'anniversary', 'nixon', 'courts', 'nite', 'couscous', 'niqab', 'kabul', 'anniekfox', 'coverage', 'nintendo', 'covers', 'ninaburleigh', 'covington', 'nikkis', 'fabricated', 'stinky', 'kaepernick', 'cowardice', 'kaffir', 'cowboys', 'nike', 'workout', 'cows', 'nightmares', 'uninvited', 'kahn', 'fa', 'niggər', 'cperciva', 'niggr', 'niggeryou', 'cptmashek', 'cr', 'crab', 'stock', 'niggerthats', 'ezidis', 'ezidi', 'kaise', 'kaiser', 'crackhead', 'crackheads', 'cracking', 'crackling', 'cracks', 'kaivaxblizzard', 'niggerltltltltdis', 'cranboonitz', 'anit', 'niggerlt', 'aninkyaffair', 'aaa', 'crappy', 'crashers', 'niggerfuck', 'eyelid', 'animecommentary', 'niggerdumb', 'stoned', 'crashoverridenw', 'niggerbut', 'crass', 'crate', 'kalian', 'craving', 'niggaz', 'unions', 'nigganigger', 'crawl', 'eyed', 'crayon', 'stooges', 'kalo', 'stoop', 'crazed', 'nigg', 'kalu', 'eyebrows', 'unironically', 'happend', 'nig', 'kamille', 'kamu', 'angryfeminazi', 'nicole', 'creat', 'nicknames', 'nicknamed', 'nickiminaj', 'creation', 'creators', 'anglo', 'nicest', 'creature', 'nicer', 'nicely', 'kanji', 'angle', 'unite', 'stoprush', 'nibelsnarfabarf', 'credible', 'happiness', 'nhs', 'kanyewest', 'creed', 'creep', 'creeper', 'ngl', 'angers', 'creeping', 'creeps', 'stored', 'stores', 'kapil', 'nge', 'external', 'angels', 'extermination', 'nga', 'creo', 'exterminating', 'stormsonsaturn', 'kar', 'nexus', 'newsweek', 'extent', 'storyline', 'newspapers', 'criança', 'karate', 'str', 'crib', 'kardashian', 'kardashians', 'angel', 'newsflash', 'ang', 'straightforward', 'newscoverup', 'wale', 'straights', 'wording', 'worded', 'kareem', 'newly', 'extension', 'newerajihadi', 'newer', 'stranger', 'karens', 'extend', 'cringed', 'stransinf', 'strap', 'cringey', 'cringy', 'neva', 'neutral', 'expressing', 'networks', 'networking', 'expresses', 'karl', 'criteria', 'expressed', 'woot', 'universal', 'netball', 'andyblueskyz', 'streaming', 'net', 'andy', 'criticise', 'nervous', 'nerves', 'httpswwwfacebookcomposts', 'android', 'nero', 'universities', 'exposure', 'critics', 'strengthen', 'critique', 'exposes', 'unix', 'nepal', 'karmaisabitch', 'karmas', 'neon', 'karna', 'stretch', 'karte', 'crooked', 'strict', 'nem', 'export', 'crore', 'andrew', 'hardcore', 'neilhimself', 'strikes', 'explore', 'neil', 'andres', 'neighbourhood', 'strip', 'neighbors', 'crossing', 'stripper', 'neighborhoods', 'verify', 'unjust', 'hardest', 'stroke', 'crow', 'verified', 'andreafaulds', 'crowds', 'exploit', 'httpswwwaljazeeracomnewspakistani', 'crown', 'explode', 'negroes', 'explicit', 'negotiate', 'crpf', 'neglected', 'explanation', 'negativity', 'struggled', 'tonitonirocca', 'negatively', 'kasmiri', 'verification', 'expired', 'katampandre', 'expiration', 'katandre', 'needing', 'cruisingbye', 'stubborn', 'andaasonsan', 'experts', 'unknown', 'kate', 'needa', 'crumble', 'studied', 'nedgilmore', 'expertise', 'expert', 'studios', 'experiments', 'zimmerman', 'crusade', 'tongue', 'crusaders', 'experiencing', 'crushed', 'crushes', 'crushing', 'neat', 'nearby', 'crusty', 'cruz', 'ne', 'stumbled', 'crybaby', 'ndebele', 'crystal', 'unleashed', 'harmed', 'stunning', 'ncweaver', 'stunt', 'ncoghlandev', 'kathy', 'nc', 'waking', 'anansi', 'whatsapp', 'katieandnikki', 'stupidest', 'katiebatterman', 'harming', 'nbc', 'ct', 'nb', 'ctatplay', 'expelled', 'nazism', 'ctfu', 'naziphobia', 'expel', 'unlikely', 'analyst', 'analysis', 'naz', 'expeditions', 'harms', 'analogy', 'nayadrikj', 'expects', 'unlimited', 'navy', 'katjia', 'expectations', 'cuando', 'anak', 'styles', 'whatsoever', 'harper', 'cuban', 'expansion', 'nauseous', 'cuck', 'expanding', 'expand', 'exp', 'cue', 'exotic', 'kaum', 'natos', 'natives', 'subban', 'subcontinent', 'exodus', 'amymek', 'harrassed', 'nationals', 'exo', 'kay', 'nationalism', 'culprits', 'subjects', 'kayla', 'subjugation', 'exit', 'amy', 'harriet', 'culturally', 'submission', 'submissive', 'submit', 'cultured', 'kayleigh', 'harris', 'subordination', 'cultures', 'kaylinevergreen', 'existent', 'subscribe', 'kayo', 'kaytheproblem', 'nastiest', 'amused', 'nashville', 'nasa', 'nas', 'naruto', 'narrow', 'cuntfacebitch', 'narratives', 'unnatural', 'narpishach', 'substitute', 'narpashu', 'narcissists', 'subtle', 'narcissistic', 'narcissism', 'exhausting', 'exhausted', 'cupcake', 'nap', 'cupcakes', 'exercising', 'verdict', 'suburban', 'keannareeves', 'curd', 'exempt', 'woods', 'naming', 'keem', 'harvesting', 'succeed', 'execution', 'executing', 'harvey', 'curly', 'successfully', 'namaz', 'execute', 'keeper', 'naman', 'nam', 'excusing', 'curriculum', 'unnoticed', 'wood', 'sucide', 'cursed', 'naive', 'uno', 'curso', 'naikoo', 'naik', 'curves', 'curvy', 'woo', 'unoriginaljohn', 'cuss', 'exclusively', 'naga', 'hashtags', 'nafeezahmed', 'exclusive', 'waka', 'custody', 'customer', 'customers', 'customs', 'nada', 'nachoshield', 'cuter', 'zine', 'kek', 'cutest', 'cutie', 'naacp', 'sueypark', 'excluded', 'exclude', 'cuts', 'exclaims', 'amounts', 'cutters', 'cv', 'whedon', 'wonderwoman', 'mythology', 'exchange', 'mystery', 'kelseytheodore', 'myspace', 'excessively', 'mysoginistic', 'cxarli', 'sugar', 'wonders', 'amo', 'exceptions', 'exceptionally', 'suggested', 'cyberbully', 'exception', 'suggestions', 'cycle', 'suggests', 'kencf', 'excellent', 'myersnfl', 'exams', 'ammaawah', 'kennedy', 'myanmar', 'wondered', 'exam', 'mwein', 'amitmalviya', 'kentucky', 'kenyan', 'dabiqwarrior', 'amirite', 'muzimz', 'wheel', 'kerala', 'tommy', 'mutual', 'wheelchair', 'daddies', 'daddys', 'suits', 'hatered', 'mutilation', 'amigos', 'mutilated', 'wheeler', 'kern', 'kernel', 'ewwww', 'muted', 'mute', 'mutasawwif', 'ewww', 'musty', 'muster', 'eww', 'daft', 'mustache', 'mussolini', 'ewerickson', 'keshiacold', 'hatin', 'waited', 'summary', 'dah', 'americas', 'muslimsyou', 'whelp', 'evrydayfeminism', 'summit', 'evolved', 'evolve', 'muslimsi', 'hats', 'evolution', 'keys', 'dallas', 'evils', 'dam', 'sunburn', 'evilgelicals', 'damaging', 'dame', 'evidently', 'wheniwas', 'dammit', 'damned', 'damnitscloudy', 'musical', 'unpleasant', 'dampd', 'museum', 'damsel', 'amendment', 'muscle', 'khaledhamaki', 'amen', 'sunnis', 'mus', 'khalifa', 'sunny', 'zionists', 'murphy', 'unpopular', 'sunshine', 'dang', 'khanumarfa', 'whens', 'everydaysexism', 'khawarij', 'khaxan', 'daniel', 'ameen', 'muncher', 'mums', 'amd', 'danieltosh', 'evernote', 'danny', 'multi', 'eve', 'mullas', 'unprofessional', 'dapat', 'evans', 'kia', 'mulatto', 'amberhasalamb', 'kianasierraa', 'superiority', 'daradebrun', 'ver', 'mujahideen', 'dared', 'superjutah', 'darensammy', 'superman', 'ambassador', 'whew', 'evan', 'daring', 'kicking', 'supernova', 'kicks', 'unprovoked', 'kickyfast', 'muh', 'darker', 'tomboy', 'venue', 'superstition', 'mughals', 'mughal', 'kidd', 'mug', 'mufti', 'darksim', 'darkskin', 'supervisor', 'havoc', 'eva', 'darktechmonitor', 'darkuncle', 'kidlit', 'darling', 'euroslava', 'darn', 'kidnapping', 'supply', 'zip', 'mtvbrasil', 'amandasheils', 'mtv', 'dartmouth', 'amanda', 'darts', 'darul', 'darwin', 'das', 'msp', 'ama', 'dashboard', 'msnbc', 'eugh', 'eugenics', 'kike', 'database', 'datafran', 'mshaysoul', 'msharkess', 'msg', 'alwiss', 'killallmen', 'suppress', 'whim', 'ethnically', 'dats', 'vent', 'venomous', 'mrthegeoff', 'venom', 'tolerated', 'ethiopians', 'supreme', 'womb', 'davegreene', 'ethiopia', 'killin', 'mrs', 'ethical', 'ethic', 'surah', 'eternity', 'hayleyjoness', 'davidlongshore', 'eternal', 'tolerance', 'davidsgallant', 'vengeance', 'surface', 'davis', 'dawa', 'kimberly', 'surge', 'eta', 'whine', 'dawla', 'esudi', 'kimmel', 'dawlatnamansura', 'dawn', 'está', 'mrfantapants', 'dawson', 'dawww', 'surprises', 'alternative', 'vengarioth', 'surprisingly', 'daycare', 'surrender', 'estoy', 'mrbowers', 'estou', 'mras', 'kindergarten', 'surround', 'surrounded', 'mra', 'kindle', 'mps', 'estimated', 'whined', 'kingdom', 'estate', 'kingjames', 'moves', 'surviving', 'movements', 'dblblackds', 'sus', 'establishment', 'movedi', 'establishing', 'mouths', 'established', 'establish', 'esta', 'unrest', 'kings', 'mouse', 'mourners', 'mourn', 'mountains', 'mountain', 'mount', 'essel', 'suspected', 'esse', 'suspend', 'toilets', 'motive', 'essays', 'essay', 'suspension', 'motivation', 'suspicious', 'motivating', 'motivated', 'motivate', 'ddr', 'essas', 'alpha', 'motherfucking', 'alp', 'motherfuckers', 'sux', 'deadass', 'esr', 'deadpool', 'kirishima', 'headache', 'kirkuk', 'headass', 'suziezumo', 'dealer', 'moslems', 'svn', 'moslem', 'svu', 'deals', 'kirtaner', 'swag', 'dean', 'whip', 'wolves', 'kissed', 'whipped', 'almighty', 'moronic', 'moroccan', 'wolfspirit', 'eso', 'kita', 'kitaab', 'swallowed', 'kitab', 'debated', 'debates', 'wolf', 'moreso', 'swamy', 'swan', 'kitchens', 'swap', 'escuelas', 'kitten', 'heading', 'debra', 'morally', 'morality', 'debt', 'headline', 'debunked', 'kitty', 'headlines', 'debut', 'mop', 'unstable', 'toilet', 'moot', 'moos', 'moors', 'sweat', 'moore', 'dec', 'decapolis', 'unstan', 'kiva', 'december', 'kiya', 'deception', 'escola', 'sweden', 'montana', 'decides', 'deciding', 'monoprice', 'kk', 'escaped', 'wod', 'sweetest', 'kkkk', 'toh', 'deck', 'monk', 'declaration', 'sweharris', 'swell', 'zoe', 'woc', 'declares', 'kkkkkkkkk', 'mongol', 'swerve', 'healing', 'decline', 'mongers', 'declined', 'escalating', 'deconstruct', 'deconstructing', 'swim', 'esau', 'klan', 'mondays', 'mon', 'swine', 'swing', 'ded', 'alllivesmatter', 'momozoned', 'alll', 'kll', 'dedicated', 'swirlies', 'mommy', 'switched', 'switching', 'deeds', 'ers', 'momento', 'switzerland', 'kluwe', 'untag', 'vem', 'errything', 'swore', 'deemed', 'deen', 'heaps', 'swt', 'deeper', 'kms', 'kmsl', 'kmx', 'errors', 'molly', 'deespeak', 'molesting', 'molested', 'molestation', 'mole', 'moldybars', 'defaming', 'default', 'moist', 'allehegens', 'defeat', 'allegiance', 'allegedly', 'defeated', 'alleged', 'defeating', 'kneel', 'kneeling', 'symboics', 'woah', 'knees', 'defenders', 'symbols', 'velvet', 'mohamed', 'mofos', 'sympathise', 'mofo', 'sympathisers', 'defensive', 'knife', 'mods', 'heartbreaking', 'erm', 'knight', 'modiji', 'hearted', 'synagogue', 'knives', 'heartedly', 'allahu', 'allahs', 'definately', 'defines', 'moderates', 'erin', 'heartless', 'defining', 'wnba', 'modelling', 'modeling', 'alla', 'definitions', 'knocking', 'mode', 'mod', 'deflect', 'mocks', 'wahab', 'knocks', 'untouchable', 'mockery', 'defo', 'defund', 'defunding', 'mobile', 'toes', 'systematically', 'moaning', 'systemic', 'defy', 'moan', 'degrade', 'são', 'degraded', 'wah', 'knowledgeable', 'mn', 'wmy', 'waging', 'mmmyers', 'ericcartmanfat', 'erica', 'eric', 'mmm', 'mma', 'mm', 'alihadi', 'ere', 'deirezzor', 'toe', 'aligned', 'align', 'veiled', 'todos', 'tablet', 'mlb', 'tablighi', 'tablighijamaat', 'mla', 'erday', 'kobani', 'aliens', 'dekho', 'kobe', 'mk', 'erasure', 'erasing', 'delayed', 'delbius', 'erased', 'tackle', 'erase', 'koi', 'tacky', 'mja', 'deleting', 'waged', 'mixtape', 'mixing', 'tactic', 'eradicate', 'whispers', 'whistle', 'deliberately', 'vehicle', 'delicate', 'kooky', 'alias', 'misusing', 'koolaid', 'hee', 'delivered', 'misunderstood', 'misunderstandings', 'equivalence', 'delivery', 'mistreated', 'mistertodd', 'equipped', 'mistaphill', 'todo', 'equipment', 'vehemently', 'mistaken', 'tagged', 'delta', 'korea', 'korean', 'missy', 'equating', 'koreans', 'delusions', 'korilashay', 'tahir', 'misspelled', 'equals', 'heh', 'taiba', 'missouri', 'tail', 'algebra', 'equalpay', 'demanded', 'demanding', 'demands', 'missionary', 'missionaries', 'alfonsoaraujog', 'hehehe', 'taitaisanchez', 'demeans', 'demented', 'dementia', 'demi', 'misses', 'unwanted', 'kotaku', 'kp', 'wld', 'misogynists', 'mislead', 'demographic', 'demographics', 'takeover', 'demography', 'demolish', 'heinous', 'demolished', 'misinformed', 'takin', 'toddler', 'epstein', 'misinformation', 'demon', 'mishra', 'misha', 'misguided', 'kr', 'demonise', 'misgrace', 'demonising', 'misfortune', 'demonize', 'misery', 'waffle', 'demonizing', 'demons', 'misconfigured', 'epitome', 'demonstrating', 'tales', 'miscarriage', 'episodes', 'misandry', 'misandrist', 'mis', 'den', 'epic', 'alejandrodagr', 'miracle', 'mir', 'minus', 'deniers', 'denies', 'mint', 'enzk', 'krishna', 'alcoholic', 'alcohol', 'krist', 'taller', 'tallest', 'envy', 'denniscearl', 'albums', 'environments', 'minneapolis', 'denounce', 'environmentalism', 'ministry', 'denouncing', 'environmental', 'dense', 'albeit', 'tamedinsanity', 'minions', 'minion', 'albanians', 'minimum', 'tamil', 'albanian', 'dental', 'tammy', 'krysemlyn', 'krytenxb', 'minecraft', 'alas', 'ks', 'entry', 'upcoming', 'depend', 'dependent', 'mindless', 'helpful', 'depending', 'entree', 'updated', 'updates', 'mincing', 'tobyfee', 'minaj', 'tanks', 'mimi', 'deplorable', 'milo', 'millitary', 'entity', 'entitlement', 'depois', 'alabama', 'zone', 'millionaire', 'tantrum', 'aku', 'deported', 'akshay', 'ktvu', 'entities', 'tao', 'miller', 'kuch', 'depravity', 'kudos', 'kuffar', 'depressing', 'ako', 'enthusiasm', 'militants', 'taqiya', 'kufr', 'taqiyya', 'taquiyya', 'henry', 'deprived', 'akin', 'milfgaardian', 'whitehouse', 'dept', 'depth', 'miles', 'depths', 'mildly', 'der', 'tarek', 'tarekfatah', 'tares', 'mil', 'entertain', 'kumar', 'deray', 'kunikos', 'kurafire', 'kuran', 'derive', 'mikeage', 'vegetarian', 'migrated', 'migrants', 'kuroishi', 'descent', 'mighty', 'tarts', 'kuroo', 'kursory', 'kurt', 'whiteness', 'describes', 'describing', 'kurtopsahl', 'mierda', 'zones', 'ak', 'ajzionts', 'task', 'ajwatamr', 'description', 'kurts', 'desculpa', 'enslave', 'dese', 'tasteofsydney', 'tastes', 'midnight', 'desensitized', 'desert', 'wizardryofozil', 'enraged', 'enormous', 'designated', 'mics', 'microwave', 'wiz', 'microsoft', 'heritage', 'designer', 'microscope', 'designers', 'kuwait', 'tattoos', 'designs', 'desired', 'kuz', 'desires', 'michmcconnell', 'desk', 'michigan', 'taunting', 'uplay', 'enlightenment', 'michaelsos', 'tauriqmoosa', 'michaelplates', 'desperately', 'desperation', 'witty', 'despised', 'enjoys', 'mic', 'aja', 'aj', 'taxes', 'wade', 'enjoyment', 'desse', 'miami', 'mia', 'mhwitchfinder', 'enjoyable', 'whitepower', 'aisha', 'mgtowknight', 'destiny', 'mgt', 'ky', 'kya', 'airtime', 'mga', 'kyle', 'uplifting', 'destroys', 'kylegotjokes', 'airport', 'destructive', 'tb', 'upload', 'mexico', 'uploading', 'whitepowerr', 'detailed', 'detained', 'meus', 'whiteprivilege', 'heshe', 'kys', 'witnesses', 'hesitate', 'kyu', 'determination', 'zoo', 'determine', 'upper', 'ainda', 'het', 'determined', 'engineers', 'detest', 'methods', 'detroit', 'engaging', 'metal', 'heterosexual', 'tnr', 'metafilter', 'metadata', 'metacookbook', 'engagement', 'engaged', 'labeled', 'labelled', 'labels', 'tn', 'messy', 'devastating', 'deve', 'messing', 'httpstcocmfoozwxz', 'eng', 'withtrish', 'withstand', 'messg', 'enforcing', 'messenger', 'uppity', 'messaging', 'developing', 'messaged', 'enforcers', 'enforcer', 'mesmo', 'enforce', 'deviant', 'lac', 'device', 'heyy', 'merry', 'mermaid', 'energies', 'hezbollah', 'lacking', 'lacrosse', 'merely', 'teammates', 'mere', 'merda', 'hg', 'teamobama', 'endure', 'whitethunduh', 'merciless', 'devious', 'endorsing', 'mercenaries', 'endorse', 'ahmadis', 'menwomen', 'devops', 'mentor', 'devopsing', 'upsetting', 'endlessly', 'upside', 'upstanding', 'devos', 'devoted', 'uptight', 'ahhh', 'ment', 'tease', 'devout', 'menshumanrights', 'devpolicy', 'menos', 'devs', 'teasing', 'teatimewithtiny', 'ahem', 'menners', 'devslashzero', 'endearment', 'hick', 'tlot', 'lads', 'meninos', 'meninisttweet', 'endearing', 'endbigotry', 'hid', 'meninas', 'dey', 'technology', 'ladylike', 'ahahaha', 'dezzantibus', 'df', 'hidden', 'encthenet', 'teddyboylocsin', 'urban', 'memo', 'encourages', 'encouraged', 'aha', 'whitey', 'dharma', 'lagi', 'encountered', 'encounter', 'hides', 'mem', 'melt', 'tldr', 'lah', 'melons', 'melon', 'withhold', 'lain', 'melbourne', 'melbiebs', 'agrees', 'melanie', 'melania', 'lake', 'agreeing', 'tlaib', 'mejor', 'enacted', 'mein', 'mei', 'dialogue', 'laker', 'enabling', 'tehmaxh', 'tehmenz', 'diamond', 'lakh', 'waah', 'urdu', 'lakhs', 'enablers', 'ure', 'meghan', 'enabled', 'enable', 'diaper', 'lamb', 'meg', 'dice', 'meetup', 'urgedharry', 'emptive', 'agnst', 'dickhead', 'dickheads', 'lana', 'meds', 'medium', 'empowered', 'mediocre', 'landed', 'medieval', 'medicine', 'highs', 'medication', 'medicare', 'landing', 'medias', 'median', 'mediaite', 'dictate', 'tjones', 'lands', 'dictator', 'employment', 'dictators', 'veerenjubbal', 'lang', 'mechanism', 'employee', 'mechanical', 'mecca', 'employed', 'aggressively', 'languages', 'lanka', 'didnot', 'meatballs', 'temporary', 'urine', 'tempting', 'lap', 'empires', 'meantime', 'lapdog', 'tendency', 'witches', 'empire', 'tends', 'meanings', 'tenho', 'agents', 'meaningless', 'meaningful', 'meanest', 'tennis', 'laptop', 'tens', 'meals', 'agent', 'urls', 'diesel', 'tent', 'agendas', 'witchcraft', 'dietary', 'hijacked', 'agency', 'md', 'mczub', 'mcu', 'dif', 'mcr', 'mcmahoniel', 'witch', 'differences', 'differentiate', 'emotions', 'difficulties', 'difficulty', 'emotion', 'mcenany', 'emojis', 'mcdonalds', 'las', 'digest', 'digger', 'mcclure', 'lash', 'terminology', 'digiranger', 'digital', 'mccain', 'httpsamzntoyvufd', 'lashes', 'ag', 'lashkar', 'digs', 'mc', 'mbuhari', 'mbs', 'digvijaya', 'afternoon', 'lass', 'lasted', 'lasting', 'lastly', 'vítima', 'dilemma', 'mayweather', 'hillaryclinton', 'mayne', 'territory', 'dime', 'afro', 'emma', 'urmindblown', 'mayb', 'maxwelltolvo', 'din', 'maxwarlord', 'eminem', 'hills', 'maximum', 'latina', 'latino', 'latinx', 'emilyesque', 'https', 'emily', 'wished', 'dinners', 'maurice', 'dint', 'maulanas', 'mau', 'urs', 'emergency', 'laughin', 'mattstratton', 'mattsparks', 'zython', 'dipshit', 'dipshits', 'dir', 'mattjbaldo', 'embracing', 'launch', 'matthew', 'wisdom', 'directions', 'mattered', 'embraced', 'laundering', 'directors', 'laundry', 'wired', 'maths', 'affirm', 'lauren', 'mates', 'usage', 'lauriejwillberg', 'dirtytruths', 'titties', 'lauthinv', 'embassy', 'wiping', 'matching', 'matches', 'matched', 'affecting', 'wipers', 'embarrassment', 'affairs', 'affair', 'lavender', 'wiped', 'masterpiece', 'afar', 'winter', 'disagreeing', 'disagreement', 'masterchef', 'disagrees', 'massively', 'disappoint', 'winston', 'terrorized', 'masses', 'masse', 'massage', 'hinduphobiainarab', 'disappointing', 'hinduphobic', 'embarrass', 'terry', 'massacred', 'ae', 'emasculated', 'massa', 'disavow', 'lawandordersvu', 'disc', 'mason', 'lawless', 'advocacy', 'testament', 'maslabdroid', 'tested', 'winners', 'masjids', 'usb', 'lawmaker', 'discipline', 'testimony', 'testing', 'disclaimer', 'adviceforyoungfeminists', 'usc', 'tests', 'emailed', 'mascot', 'disclosure', 'vaush', 'discord', 'lawsuit', 'discourage', 'advertised', 'hindustan', 'marxists', 'discourse', 'discover', 'marxism', 'hindusthani', 'texted', 'voiceofrae', 'discoveries', 'texting', 'hindusthanis', 'titles', 'discovering', 'discredit', 'lawyers', 'whod', 'martyr', 'discriminate', 'elplatt', 'discriminating', 'discriminatory', 'martial', 'layer', 'martha', 'martens', 'layers', 'wingers', 'discussions', 'diseased', 'marries', 'marriages', 'disgraceful', 'marni', 'disguise', 'disgust', 'lb', '½â', 'lbc', 'disgustingly', 'lbcake', 'hint', 'lbgtq', 'lbigmann', 'hints', 'windshield', 'marks', 'lbj', 'markov', 'elliottcable', 'marking', 'thanking', 'disingenuous', 'markets', 'thanksgiving', 'marketing', 'markemer', 'ellen', 'disliking', 'adoption', 'marital', 'hips', 'elle', 'mario', 'ella', 'marine', '¾â', 'dismantle', 'dismiss', 'windows', 'dismissing', 'dismissive', 'window', 'hipster', 'mariachimacabre', 'ldstarr', 'maria', 'marginalizing', 'marginalized', 'adnansadiq', 'elizabeth', 'disorder', 'disorders', 'vatican', 'elites', 'admits', 'marcus', 'marcorubio', 'leadminiature', 'marco', 'displayed', 'displays', 'admire', 'disproportionate', 'vast', 'marathas', 'administrators', 'leagues', 'mara', 'dispute', 'map', 'eliminating', 'disqualified', 'leak', 'disregard', 'historian', 'leaked', 'manufeildel', 'historic', 'leaks', 'manufactures', 'manufactured', 'adjective', 'manually', 'manual', 'lean', 'mantra', 'disrespectniall', 'leaning', 'disrupt', 'mansplained', 'thaumatropia', 'adhd', 'mansplain', 'manson', 'mansion', 'elijah', 'disruptive', 'leaping', 'mannnn', 'mannerisms', 'manner', 'vsco', 'mann', 'eliahr', 'disservice', 'manly', 'theater', 'mankhurd', 'theatlantic', 'dissing', 'manipulative', 'manipulation', 'manipulating', 'theauthor', 'manipulated', 'manimeister', 'adds', 'distant', 'manifesto', 'addresses', 'addressed', 'distaste', 'maniacs', 'distasteful', 'distinguish', 'vas', 'theblockbot', 'addition', 'manga', 'distract', 'lease', 'distraction', 'mane', 'mandirs', 'username', 'distress', 'addict', 'mandatory', 'mandate', 'districts', 'leaves', 'managing', 'manages', 'managers', 'httpgucomppttw', 'manager', 'disturb', 'disturbed', 'ditch', 'ditto', 'hmmm', 'thedaveca', 'diva', 'diverse', 'thedemocrats', 'elements', 'diversityrus', 'mamas', 'wholeheartedly', 'thedoubleclicks', 'wilytone', 'thedress', 'mam', 'element', 'thee', 'dividing', 'maltesecocker', 'hmu', 'various', 'malone', 'divisiveness', 'malign', 'maliciously', 'diz', 'variety', 'wholesome', 'vp', 'electing', 'malefemale', 'wholly', 'elect', 'malcom', 'malcolmnance', 'usin', 'malaysia', 'malay', 'elders', 'thegags', 'actress', 'elderly', 'thegeekchick', 'lefties', 'djtyrant', 'dl', 'hobby', 'makin', 'variant', 'ela', 'thehill', 'makeover', 'legacy', 'activism', 'legalized', 'vaping', 'majors', 'httpeverydayfeminismcommen', 'legend', 'majorly', 'dmed', 'leggings', 'actionable', 'theirs', 'dming', 'legislation', 'vapid', 'maintenance', 'legitimacy', 'maintain', 'legitimate', 'mains', 'dnverg', 'einstein', 'leighalexander', 'acquittal', 'maid', 'mai', 'doctoravenue', 'doctorow', 'doctrine', 'doctrines', 'document', 'maher', 'documentary', 'mahatma', 'documented', 'ehh', 'dodge', 'magpie', 'dodgers', 'whoop', 'magnificent', 'thelokijotunn', 'hoje', 'magnetic', 'doe', 'egyptians', 'egregious', 'theme', 'themed', 'magazines', 'themes', 'magazine', 'acknowledging', 'willingly', 'mafia', 'lend', 'length', 'themirai', 'madrt', 'madrasa', 'madness', 'madmax', 'madison', 'lennyfinnegan', 'lenovo', 'lenses', 'maddr', 'vans', 'acho', 'leokikilady', 'leonard', 'holes', 'doj', 'achievement', 'achieved', 'leonarddelaney', 'leonardomaxwel', 'maddddd', 'madd', 'madcapocelot', 'doll', 'leos', 'egalitarian', 'williams', 'madarsa', 'dolls', 'madam', 'dolly', 'les', 'whores', 'theocracy', 'william', 'theocratic', 'hollapalooka', 'effeminate', 'effectively', 'macho', 'machines', 'dominance', 'dominant', 'ace', 'effective', 'dominate', 'macfarlane', 'leslie', 'lessen', 'domination', 'dominican', 'lesser', 'effected', 'dominictarason', 'hollow', 'accusation', 'mac', 'eff', 'willfully', 'holly', 'utah', 'donated', 'accts', 'donating', 'donation', 'eevee', 'maa', 'vanity', 'letterboxes', 'hollywoodmargaret', 'therapist', 'letters', 'tiresome', 'edzitron', 'lyrics', 'edwardmdblog', 'donnabrazile', 'lynnemcgranger', 'wilkieii', 'dontdatesjws', 'lynch', 'vanilla', 'lyk', 'leverage', 'lyin', 'lyalindotcom', 'educational', 'educating', 'lvl', 'wht', 'luvshinecafe', 'doomed', 'luther', 'edroach', 'accomplished', 'doorstep', 'dope', 'lungs', 'lunches', 'doriangray', 'lunatics', 'doris', 'dork', 'luna', 'editorial', 'edition', 'lfr', 'edit', 'voter', 'lg', 'dose', 'edinburgh', 'lukemckinney', 'accessories', 'lgbtiq', 'dot', 'luizpsc', 'homecoming', 'dou', 'luis', 'doubles', 'edgeofthesandbx', 'acceptance', 'lgtb', 'doubting', 'doubts', 'douche', 'douchebag', 'doug', 'lhhatl', 'douglas', 'lucaswj', 'douglass', 'li', 'eddie', 'liam', 'downed', 'thesounddefense', 'edchat', 'downhill', 'download', 'downloaded', 'ltltltlt', 'ltltlt', 'downplayed', 'ltlt', 'downs', 'homeschooled', 'downside', 'liamxkiwi', 'downtown', 'economics', 'dox', 'thewalkingdead', 'lib', 'doxx', 'doxxed', 'economically', 'libel', 'economic', 'abuyigitalcahrz', 'doxxing', 'dozen', 'dozens', 'dp', 'loyd', 'loyalty', 'liberalism', 'abuses', 'abusers', 'homo', 'dqtwitchstream', 'lowlife', 'draco', 'lowest', 'liberate', 'thi', 'homofobia', 'liberation', 'dragrace', 'ebooks', 'draka', 'thier', 'thieves', 'thigh', 'drake', 'lovers', 'lovemycoffeetoo', 'ebola', 'loveegypt', 'libs', 'tirade', 'homophobes', 'drank', 'loveconcursall', 'drasco', 'tips', 'uur', 'draskos', 'drastically', 'lounge', 'voretaq', 'wilberforce', 'abubaraa', 'draws', 'homosexuality', 'licenses', 'abu', 'whyidontliketrump', 'louie', 'loudspeakers', 'loudspeaker', 'loudly', 'loudest', 'louder', 'thinkin', 'eatin', 'licker', 'lotta', 'eaten', 'lotrquotes', 'dreaded', 'dreadful', 'lostsailorny', 'dreadlocks', 'uve', 'thirst', 'thirsty', 'vancouver', 'uwu', 'honesty', 'los', 'httpadvocatecom', 'dreamed', 'thise', 'lieing', 'thisi', 'hong', 'lori', 'lore', 'vance', 'dreaming', 'lords', 'abroad', 'wiki', 'dreamt', 'honky', 'easter', 'lifecontinues', 'abraham', 'ease', 'van', 'uygaraktas', 'honors', 'looters', 'looted', 'dresses', 'loosing', 'hoo', 'looser', 'earthquake', 'loosely', 'uyghur', 'earthly', 'lifers', 'thm', 'loop', 'lifes', 'lifestyle', 'dreysander', 'looool', 'thomas', 'loool', 'loons', 'driftr', 'lool', 'drill', 'uyghurs', 'lifetime', 'lift', 'lifting', 'hrc', 'drinkers', 'hr', 'hq', 'hooked', 'earned', 'wig', 'va', 'thot', 'wifi', 'hooker', 'thou', 'abo', 'lighten', 'loner', 'lighter', 'drivin', 'wifey', 'vacation', 'lightfoot', 'lighthearted', 'ableist', 'lighting', 'lightly', 'hoors', 'lolz', 'lights', 'lightskinned', 'drone', 'lolol', 'abisinsurance', 'drool', 'wicked', 'threads', 'drooling', 'ear', 'lolllll', 'lollll', 'threatens', 'eagles', 'abilities', 'abiding', 'hoover', 'dropout', 'abi', 'loling', 'loli', 'vomit', 'eager', 'hoped', 'drops', 'loiras', 'wierd', 'drown', 'logs', 'drowning', 'logo', 'logins', 'thrive', 'howard', 'thriving', 'login', 'dó', 'vaccine', 'throats', 'vaccines', 'drugging', 'wielding', 'houston', 'abe', 'housing', 'dysmorphia', 'valuable', 'lockers', 'vagina', 'throwback', 'likewise', 'drurbanski', 'located', 'locals', 'households', 'ting', 'dynamics', 'household', 'dynamic', 'housegop', 'vaginas', 'dsmyxe', 'hopkins', 'dsp', 'lobby', 'lilac', 'housedemocrats', 'thts', 'loads', 'loading', 'volleyball', 'load', 'dyke', 'lmmfao', 'dub', 'dubai', 'dyed', 'lmfaooooo', 'vague', 'lmfaooo', 'lmfaoo', 'abbswinston', 'dye', 'dubey', 'vaguely', 'lilithsaintcrow', 'lmaooooooo', 'hottest', 'lmaoooooo', 'lmaooooo', 'widow', 'abandoned', 'llydisblur', 'lls', 'abandon', 'lloyds', 'ducking', 'ti', 'ducks', 'lily', 'llc', 'llama', 'dudebros', 'widespread', 'lizzo', 'valley', 'limbclock', 'liz', 'dug', 'duh', 'duke', 'dultery', 'dulu', 'dum', 'wider', 'limitations', 'livers', 'dumbasses', 'liverpool', 'liver', 'dumber', 'dumbest', 'dv', 'tie', 'timothy', 'horny', 'lincoln', 'linda', 'hota', 'tier', 'dumbo', 'horrendous', 'aap', 'lindsey', 'tiger', 'lindseygrahamsc', 'hosts', 'valentine', 'timoflegend', 'literate', 'valentines', 'widely', 'hostilities', 'hostile', 'wide', 'tijolo', 'dump', 'lite', 'dumped', 'tikrit', 'lists', 'listing', 'timing', 'valerie', 'listens', 'tim', 'dun', 'dutertes', 'duterte', 'lineup', 'listed', 'dutch', 'dustypee', 'volunteers', 'duniya', 'lismarie', 'timelines', 'lining', 'aaaand', 'linkedin', 'lisamromano', 'duo', 'duped', 'liquor', 'linking', 'lipstick', 'lipped', 'links', 'volunteer', 'dust', 'durotan', 'horses', 'aa', 'times', 'timeline', 'time', 'till', 'til', 'tiktok', 'tik', 'tight', 'ties', 'tied', 'tickets', 'ticket', 'thy', 'thx', 'thursday', 'thugs', 'thug', 'tinder', 'tht', 'throws', 'thrown', 'throwing', 'throw', 'throat', 'threw', 'threats', 'threatening', 'threatened', 'threaten', 'threat', 'tiny', 'thread', 'thr', 'thousands', 'thousand', 'thoughts', 'thought', 'thor', 'tip', 'tho', 'thn', 'thisonesakillaa', 'thinks', 'thinking', 'think', 'things', 'thing', 'theyve', 'theyre', 'tired', 'theyll', 'theyd', 'theres', 'therapy', 'thequinnspiracy', 'theory', 'theories', 'themuslimguy', 'thebachelor', 'theatre', 'thatsabinegirl', 'thats', 'thanks', 'thankfully', 'thankful', 'thank', 'tha', 'title', 'th', 'tf', 'texts', 'text', 'texas', 'tits', 'test', 'terrorists', 'terrorist', 'terrorism', 'terror', 'terrifying', 'terrified', 'terribly', 'terrible', 'terms', 'term', 'tend', 'temples', 'temple', 'tem', 'tells', 'telling', 'tell', 'television', 'tl', 'teeth', 'teens', 'teenagers', 'teenager', 'teenage', 'teen', 'tedyoho', 'ted', 'technically', 'technical', 'tech', 'teased', 'tears', 'tearing', 'tear', 'tmclaughbos', 'teams', 'team', 'teachings', 'teaching', 'teaches', 'teachers', 'teacher', 'teach', 'tea', 'te', 'tcot', 'tbh', 'tayyoung', 'taylor', 'tax', 'taurmaurils', 'taught', 'tattoo', 'taste', 'tart', 'targets', 'targeting', 'targeted', 'target', 'tarah', 'tape', 'tap', 'tank', 'tan', 'tall', 'talks', 'talking', 'talkin', 'today', 'talked', 'talk', 'taliban', 'todays', 'talented', 'talent', 'tale', 'taking', 'takes', 'taken', 'tag', 'tactics', 'tables', 'table', 'ta', 'só', 'systems', 'systematic', 'syrian', 'syria', 'syndrome', 'sympathy', 'symbol', 'sydney', 'sword', 'switch', 'swiftonsecurity', 'swift', 'sweetie', 'sweetheart', 'sweet', 'swear', 'suspended', 'suspect', 'tok', 'token', 'survivors', 'survivor', 'survived', 'survive', 'surprising', 'surprised', 'told', 'surprise', 'surgery', 'surely', 'sure', 'tolerant', 'tolerate', 'supremacy', 'supremacists', 'supremacist', 'supposedly', 'supposed', 'suppose', 'tom', 'supports', 'supportive', 'supporting', 'supporters', 'supporter', 'supported', 'support', 'superspacedad', 'superior', 'superhero', 'super', 'tomdcc', 'sunni', 'sunnah', 'sunday', 'sun', 'summer', 'sumersloan', 'sumbelinaz', 'sum', 'suit', 'suicide', 'suicidal', 'suggesting', 'suggest', 'suffering', 'suffered', 'suffer', 'sue', 'sudixitca', 'tomorrow', 'suddenly', 'sudden', 'sucks', 'sucking', 'sucked', 'suck', 'successful', 'success', 'substance', 'subject', 'sub', 'ton', 'sua', 'su', 'tone', 'style', 'stupidity', 'stupid', 'stuff', 'studying', 'study', 'studies', 'students', 'student', 'tonight', 'stuck', 'tonights', 'struggling', 'struggles', 'struggle', 'tons', 'strongly', 'stronger', 'strong', 'tony', 'strike', 'stress', 'strength', 'streets', 'street', 'stream', 'straw', 'strategy', 'strategically', 'strategic', 'strangers', 'strange', 'straight', 'story', 'storm', 'stories', 'store', 'stopwadhwa', 'stops', 'stopping', 'took', 'tool', 'stopped', 'stopbullying', 'stop', 'stood', 'tools', 'stoning', 'stones', 'stone', 'stomach', 'stolen', 'stole', 'sticks', 'sticking', 'stick', 'stfu', 'stevecorrales', 'steve', 'stereotypes', 'stereotype', 'steps', 'stephenatwar', 'step', 'steam', 'stealing', 'steal', 'staying', 'stayed', 'topic', 'stay', 'topics', 'status', 'statues', 'statue', 'statistics', 'station', 'stating', 'states', 'statements', 'statement', 'stated', 'state', 'starts', 'starting', 'started', 'start', 'staring', 'star', 'stans', 'standup', 'stands', 'standing', 'standards', 'standard', 'stand', 'stance', 'stan', 'stalking', 'stairs', 'stage', 'staff', 'stabbing', 'toronto', 'stabbed', 'stab', 'st', 'sschinke', 'srhbutts', 'torture', 'tortured', 'squad', 'spreading', 'spread', 'spot', 'sports', 'sport', 'sponsored', 'spoken', 'tosh', 'spoke', 'spit', 'spiritual', 'spirit', 'spin', 'spewing', 'spent', 'spending', 'spend', 'total', 'spelled', 'spell', 'speech', 'specifically', 'specific', 'totally', 'species', 'special', 'speaks', 'speaking', 'speakerpelosi', 'speak', 'spare', 'spanish', 'spam', 'spain', 'spacekatgal', 'space', 'southern', 'south', 'sources', 'source', 'sounds', 'sounded', 'sound', 'touch', 'soul', 'touched', 'sorta', 'sort', 'sorry', 'soros', 'tough', 'sooo', 'soon', 'soo', 'sons', 'songs', 'song', 'son', 'someones', 'someday', 'somebody', 'solve', 'solutions', 'solution', 'solid', 'solely', 'soldiers', 'soldier', 'sold', 'soft', 'sofro', 'sofrer', 'town', 'sofrendo', 'sofre', 'socks', 'society', 'toxic', 'socially', 'socialist', 'socialism', 'social', 'soccer', 'sobre', 'toys', 'soap', 'snap', 'smug', 'smoking', 'smoke', 'smile', 'smh', 'smfh', 'smell', 'smarter', 'smart', 'smaller', 'small', 'sm', 'sluts', 'slut', 'slurs', 'slur', 'slowly', 'slow', 'slogan', 'track', 'slightly', 'slide', 'slept', 'sleeping', 'sleep', 'slaves', 'slavery', 'slave', 'slaughtered', 'trade', 'slaughter', 'slap', 'slang', 'slander', 'trader', 'sky', 'skip', 'skinny', 'skinned', 'skin', 'skills', 'skill', 'traditional', 'sjws', 'sjw', 'size', 'situations', 'situation', 'sitting', 'sits', 'sites', 'site', 'sit', 'sisters', 'trailer', 'sister', 'sis', 'train', 'trained', 'sirgoldenrod', 'sirajzarook', 'sir', 'sink', 'training', 'single', 'singing', 'sing', 'sin', 'simply', 'simple', 'similar', 'traitor', 'silly', 'silent', 'traitors', 'silence', 'sikhs', 'sikh', 'signs', 'significant', 'signed', 'trans', 'sign', 'sigh', 'sides', 'sick', 'siblings', 'si', 'shy', 'shutup', 'shutting', 'shut', 'sht', 'shows', 'shown', 'showing', 'shower', 'showed', 'shoved', 'transgender', 'shove', 'shouting', 'shouted', 'shout', 'shouldve', 'shouldnt', 'shouldn', 'transition', 'shot', 'shorts', 'short', 'shopping', 'shop', 'shootings', 'shooting', 'shooters', 'shoot', 'shoes', 'shocks', 'shocked', 'shock', 'shitty', 'shits', 'shit', 'shirts', 'shirt', 'shipping', 'ship', 'shia', 'transphobic', 'shes', 'shervyn', 'shermertron', 'sheri', 'shelter', 'shell', 'shed', 'shaz', 'shave', 'shark', 'sharing', 'sharia', 'shared', 'share', 'trash', 'shape', 'shaofhappiness', 'shanley', 'shaner', 'shane', 'shaming', 'shameless', 'shameful', 'shamed', 'shame', 'trauma', 'shall', 'shake', 'traumatized', 'shah', 'shadow', 'travel', 'shade', 'sfthewolf', 'sffpit', 'sf', 'sexy', 'sexually', 'sexuality', 'sexual', 'sexist', 'sexism', 'sex', 'severe', 'setting', 'sets', 'set', 'serving', 'services', 'service', 'served', 'serve', 'seriously', 'series', 'serial', 'ser', 'separate', 'sentences', 'sentenced', 'sentence', 'sent', 'sensitive', 'sense', 'senior', 'treat', 'sends', 'treated', 'sending', 'treating', 'treatment', 'treats', 'send', 'senator', 'tree', 'trees', 'semzyxx', 'semitism', 'semitic', 'semester', 'sells', 'sellout', 'selling', 'sell', 'trend', 'trending', 'selfish', 'selfie', 'self', 'selena', 'selective', 'select', 'sees', 'seen', 'seeking', 'seek', 'seeing', 'seed', 'security', 'secure', 'secularism', 'secular', 'section', 'secretly', 'secret', 'seconds', 'secondly', 'secondary', 'second', 'seats', 'seat', 'season', 'search', 'seanbonner', 'sean', 'sea', 'se', 'scumbag', 'scum', 'trick', 'scrolling', 'scroll', 'script', 'screenshots', 'screenshot', 'screen', 'screams', 'screaming', 'scream', 'scoring', 'scores', 'tried', 'tries', 'scored', 'score', 'scientists', 'scientist', 'science', 'schools', 'schoolers', 'triggered', 'schooler', 'school', 'scholars', 'scholar', 'scheme', 'scene', 'scenario', 'scary', 'scared', 'scare', 'scale', 'sc', 'says', 'saying', 'sayin', 'say', 'saw', 'trip', 'savior', 'saving', 'saved', 'save', 'sausage', 'saudis', 'saudi', 'saturday', 'satire', 'satan', 'sat', 'sassy', 'sass', 'sarcasm', 'sarahjeong', 'sarah', 'sara', 'sandwich', 'sand', 'san', 'sam', 'salty', 'salon', 'sales', 'sale', 'sake', 'sajidfairooz', 'said', 'safety', 'safer', 'safe', 'sadly', 'trobinsonnewera', 'sad', 'sacred', 'sa', 'ryan', 'troll', 'russian', 'trolling', 'russia', 'rush', 'runs', 'running', 'trolls', 'run', 'rumors', 'rumor', 'troops', 'ruling', 'rules', 'ruled', 'rule', 'ruining', 'ruined', 'trouble', 'ruin', 'rugby', 'rude', 'rudawenglish', 'ruby', 'rubbish', 'rts', 'rt', 'rss', 'rs', 'royale', 'royal', 'row', 'rounds', 'round', 'rough', 'rose', 'truaemusic', 'roots', 'truck', 'root', 'rooms', 'room', 'true', 'romney', 'romance', 'roll', 'roles', 'role', 'roisinmorgan', 'rogue', 'roger', 'truly', 'rofl', 'trump', 'rocking', 'rock', 'roblox', 'robert', 'robber', 'rob', 'roast', 'road', 'rn', 'rly', 'rlly', 'riwired', 'river', 'risk', 'rise', 'rip', 'riots', 'rioting', 'rioters', 'riot', 'rings', 'ring', 'rights', 'trumps', 'right', 'rigged', 'riding', 'ridiculous', 'ridicule', 'rides', 'ride', 'rid', 'rich', 'rice', 'rhetoric', 'rgay', 'rfrankh', 'revolution', 'revolts', 'review', 'reverse', 'revenge', 'trust', 'trusted', 'revealed', 'reunion', 'retweets', 'retweeting', 'retweet', 'returned', 'return', 'truth', 'retards', 'retarded', 'retard', 'results', 'result', 'restaurants', 'restaurant', 'rest', 'responsible', 'responsibility', 'responses', 'response', 'responding', 'respond', 'try', 'respectful', 'respected', 'trying', 'respect', 'tryna', 'resources', 'resist', 'resign', 'research', 'requires', 'required', 'require', 'request', 'republicans', 'republican', 'republic', 'reptedyoho', 'reproductive', 'represents', 'representative', 'representation', 'represent', 'reports', 'reporting', 'reporter', 'reported', 'report', 'replying', 'reply', 'replies', 'replied', 'replacement', 'replace', 'repeatedly', 'repeat', 'rep', 'reopen', 'tu', 'rent', 'removed', 'remove', 'remotely', 'reminds', 'reminder', 'reminded', 'remind', 'remembering', 'remembered', 'remember', 'remarks', 'remains', 'remaining', 'remain', 'religious', 'religions', 'religion', 'relevant', 'relentlessly', 'released', 'release', 'relationships', 'relationship', 'related', 'relate', 'rejected', 'reject', 'regularly', 'regular', 'regret', 'tumblr', 'region', 'regime', 'regards', 'regardless', 'regarding', 'refusing', 'refused', 'refuse', 'refugees', 'reform', 'referring', 'referred', 'references', 'reference', 'refer', 'ref', 'redneck', 'redical', 'redemption', 'reddit', 'red', 'record', 'recognize', 'recently', 'recent', 'receiving', 'received', 'receive', 'turbocunt', 'recall', 'rebecca', 'reasons', 'reasonable', 'reason', 'really', 'realizing', 'realized', 'turkey', 'realize', 'reality', 'turkish', 'realised', 'realise', 'realdonaldtrump', 'real', 'turks', 'turn', 'ready', 'turned', 'reading', 'read', 'turning', 'turns', 'reaction', 'react', 'reaching', 'reached', 'reach', 'rd', 'ray', 'raw', 'rats', 'ratings', 'rate', 'rat', 'tv', 'rarely', 'rare', 'raqqa', 'rappers', 'rapper', 'rapists', 'rapist', 'raping', 'rapes', 'rapegay', 'raped', 'rape', 'tw', 'rap', 'ranting', 'rant', 'raniakhalek', 'randomly', 'random', 'randiio', 'randiebooks', 'randi', 'ranaayyub', 'ran', 'rampant', 'ram', 'rally', 'raising', 'raised', 'raise', 'tweet', 'rainbow', 'rage', 'radio', 'radicals', 'radical', 'tweeted', 'rad', 'racists', 'racist', 'racism', 'tweeting', 'racially', 'racial', 'races', 'race', 'quran', 'quoting', 'quotes', 'tweets', 'quoted', 'quote', 'quo', 'quite', 'quit', 'quinnaemoon', 'quiet', 'quickly', 'quick', 'questionsformen', 'questions', 'questioning', 'question', 'quem', 'queer', 'queen', 'que', 'quarantine', 'quality', 'qoloob', 'twice', 'qaeda', 'pyramid', 'putting', 'twin', 'puts', 'putin', 'pussy', 'pussies', 'pushing', 'pushed', 'push', 'purpose', 'purple', 'pure', 'puppy', 'puppet', 'puns', 'punk', 'twist', 'twisted', 'punishment', 'punished', 'punish', 'punchline', 'punching', 'punched', 'punch', 'pulpit', 'pulling', 'pulled', 'pull', 'published', 'publicly', 'public', 'ptisalarkhan', 'psychological', 'pseudo', 'ps', 'twitter', 'proving', 'providers', 'provided', 'provide', 'proves', 'proven', 'proved', 'prove', 'proud', 'protests', 'protesting', 'protesters', 'protest', 'protection', 'protecting', 'protected', 'protect', 'prophets', 'prophet', 'property', 'properly', 'proper', 'propaganda', 'proof', 'promoting', 'promotes', 'promoted', 'promote', 'promo', 'promised', 'promise', 'prom', 'prolly', 'projects', 'project', 'progressive', 'progress', 'programs', 'program', 'profit', 'profile', 'professor', 'professional', 'products', 'tyler', 'production', 'product', 'producing', 'produced', 'produce', 'process', 'probs', 'problems', 'problematic', 'problem', 'probably', 'prob', 'type', 'pro', 'privileged', 'privilege', 'private', 'types', 'prison', 'typical', 'principal', 'princess', 'prince', 'prime', 'primary', 'pride', 'prick', 'price', 'prevention', 'prevent', 'pretty', 'prettier', 'pretending', 'pretend', 'pressured', 'pressure', 'pressed', 'press', 'president', 'presented', 'present', 'prepared', 'prejudice', 'pregnant', 'pregnancy', 'prefer', 'predatory', 'predators', 'predator', 'precisely', 'precious', 'preaching', 'preach', 'pre', 'praying', 'prayers', 'prayer', 'pray', 'prank', 'praise', 'practicing', 'practices', 'practice', 'practically', 'pra', 'pr', 'pq', 'ppl', 'powers', 'powerful', 'power', 'poverty', 'pounds', 'potus', 'potential', 'pot', 'posts', 'posting', 'poster', 'posted', 'post', 'possibly', 'possible', 'positive', 'positions', 'position', 'posing', 'pos', 'portland', 'porque', 'porn', 'pork', 'por', 'population', 'popularity', 'popular', 'pops', 'popehat', 'pope', 'pop', 'poorly', 'poor', 'poop', 'pool', 'poll', 'politics', 'politicians', 'politician', 'politically', 'politicalant', 'political', 'politibunny', 'policy', 'policies', 'police', 'ugh', 'points', 'pointless', 'pointing', 'pointed', 'point', 'podcast', 'pockets', 'poc', 'pm', 'plz', 'plus', 'pls', 'ugly', 'plot', 'plenty', 'plays', 'playing', 'uh', 'playground', 'players', 'player', 'played', 'play', 'platform', 'plate', 'plans', 'planned', 'planet', 'plan', 'plain', 'places', 'place', 'pitch', 'pisses', 'pissed', 'piss', 'pink', 'uighur', 'pile', 'pigs', 'pig', 'pieces', 'piece', 'uk', 'pie', 'pictures', 'picture', 'pics', 'picks', 'picking', 'picked', 'pick', 'pic', 'physically', 'physical', 'phrase', 'photoshop', 'photos', 'photo', 'phone', 'ul', 'pewdiepie', 'petty', 'petition', 'peter', 'pete', 'pet', 'pessoa', 'peshmerga', 'perspective', 'persons', 'personally', 'personality', 'personal', 'persona', 'um', 'uma', 'person', 'persecution', 'persecuted', 'umarfarooq', 'perpetrators', 'permission', 'perl', 'period', 'perform', 'perfectly', 'perfect', 'perception', 'peoples', 'people', 'penny', 'penis', 'pendragontarot', 'ummah', 'pence', 'pelosi', 'ummayman', 'peerworker', 'peers', 'peer', 'peeps', 'pedophilia', 'pedophiles', 'pedophile', 'pedo', 'pedestal', 'unable', 'unacceptable', 'peaked', 'peak', 'peacenothate', 'peaceful', 'peace', 'pe', 'pc', 'pays', 'paying', 'pay', 'pax', 'pawarnhoff', 'paul', 'patriots', 'patriarchy', 'patreon', 'pathetic', 'path', 'pastor', 'past', 'passionate', 'passion', 'passing', 'passed', 'pass', 'party', 'parts', 'partner', 'partition', 'parties', 'particularly', 'particular', 'participating', 'participate', 'parody', 'parking', 'park', 'paris', 'parents', 'parenthood', 'parent', 'para', 'papers', 'paper', 'pants', 'panic', 'pandits', 'pandit', 'pandering', 'pandemic', 'uncle', 'pancakes', 'palestinians', 'palestinian', 'palestine', 'uncomfortable', 'paleo', 'pale', 'pakistanis', 'pakistani', 'pakistan', 'pak', 'pair', 'painful', 'pain', 'paid', 'pages', 'page', 'pack', 'pa', 'owning', 'owners', 'owner', 'owned', 'owe', 'owais', 'overweight', 'overall', 'outta', 'outside', 'outraged', 'outrage', 'outlaw', 'outfit', 'outed', 'outcast', 'underage', 'osama', 'os', 'originally', 'original', 'origin', 'orientation', 'orgs', 'organizations', 'organization', 'organisations', 'organisation', 'org', 'ordered', 'order', 'orange', 'oral', 'options', 'option', 'oppressive', 'oppression', 'oppressed', 'opposition', 'opposite', 'opposing', 'opposed', 'oppose', 'opportunity', 'opponents', 'understand', 'opinions', 'understanding', 'understands', 'opinion', 'openly', 'opening', 'opened', 'understood', 'open', 'op', 'ooo', 'oomf', 'oo', 'onstage', 'onlyfans', 'online', 'ones', 'omg', 'omfg', 'omar', 'ole', 'olds', 'older', 'old', 'ol', 'okay', 'ok', 'oil', 'ohh', 'oh', 'og', 'officials', 'officially', 'official', 'uneducated', 'officers', 'officer', 'unequal', 'office', 'offered', 'offer', 'offensive', 'offense', 'unfair', 'offended', 'offend', 'odiniainvictus', 'oddly', 'odd', 'occupied', 'obviously', 'obvious', 'obsurfer', 'obsessed', 'obnoxious', 'object', 'obey', 'obamas', 'unfollow', 'obama', 'oapi', 'não', 'unfortunate', 'unfortunately', 'nytimes', 'nyc', 'nyazpolitics', 'ny', 'nuts', 'nut', 'nursing', 'nurses', 'nurse', 'nun', 'numerous', 'unhappy', 'numbers', 'numbergov', 'number', 'nudes', 'nuclear', 'nt', 'npr', 'november', 'uni', 'notsexist', 'notifications', 'noticed', 'notice', 'note', 'nose', 'northern', 'uniform', 'north', 'normally', 'normal', 'norm', 'nope', 'nonsense', 'non', 'nndabbour', 'nitemoogle', 'nimoy', 'nikki', 'nights', 'nightmare', 'union', 'nightclub', 'night', 'niggers', 'nigger', 'niggas', 'unique', 'nigga', 'nigerian', 'nigeria', 'niger', 'nickname', 'nicki', 'nick', 'nice', 'united', 'ni', 'ng', 'nfl', 'newspaper', 'news', 'unity', 'new', 'network', 'netflix', 'universe', 'nerve', 'nerdy', 'university', 'nerds', 'nerd', 'nephilim', 'nephew', 'neo', 'neighborhood', 'neighbor', 'nehru', 'negros', 'negro', 'negative', 'needs', 'needed', 'need', 'neck', 'necessary', 'necessarily', 'nearly', 'near', 'nd', 'nba', 'unless', 'unlike', 'nazis', 'nazi', 'naw', 'nature', 'naturally', 'natural', 'native', 'nations', 'nationality', 'nationalists', 'nationalist', 'national', 'nation', 'natcom', 'nasty', 'narrative', 'narendramodi', 'nao', 'unnecessary', 'nancy', 'names', 'named', 'naked', 'nainfidels', 'nails', 'nail', 'nahi', 'nah', 'na', 'myth', 'mykitchenrules', 'mwlauthor', 'mutuals', 'muslims', 'muslim', 'music', 'murders', 'murderous', 'murdering', 'murderers', 'murderer', 'murdered', 'murder', 'mumbai', 'mum', 'multiple', 'mullahs', 'mullah', 'muhammad', 'mueller', 'mt', 'unreal', 'msm', 'ms', 'mr', 'mp', 'moving', 'movies', 'movie', 'movement', 'moved', 'mouth', 'mothers', 'unsafe', 'motherfucker', 'mother', 'mosul', 'mosques', 'mosque', 'morons', 'moron', 'morning', 'morgan', 'morals', 'moral', 'moots', 'moon', 'mood', 'months', 'month', 'monsters', 'monster', 'monkeys', 'monkey', 'monitor', 'mongering', 'money', 'monday', 'moms', 'momma', 'moments', 'moment', 'mom', 'mohammeds', 'mohammed', 'mohammad', 'modi', 'modern', 'moderate', 'models', 'model', 'mocking', 'mocked', 'mock', 'mobs', 'mob', 'mo', 'mmmm', 'mlm', 'mlk', 'mkr', 'mixed', 'mix', 'mitt', 'mistakes', 'mistake', 'mission', 'missing', 'missed', 'miss', 'misogyny', 'misogynistic', 'misogynist', 'miserable', 'miseducation', 'mirror', 'minutes', 'minute', 'mins', 'minority', 'minorities', 'minor', 'minnesota', 'minister', 'minha', 'mindset', 'minds', 'update', 'minded', 'mind', 'min', 'millions', 'million', 'milk', 'militia', 'military', 'militant', 'mileycyrus', 'miley', 'mikesimswalker', 'mike', 'middlehigh', 'middle', 'mid', 'microbrain', 'michelle', 'michael', 'mi', 'mg', 'mfs', 'mf', 'mexicans', 'mexican', 'meu', 'metroidthief', 'metoo', 'meth', 'met', 'messed', 'messages', 'message', 'mess', 'mercy', 'ups', 'upset', 'mercilessly', 'menu', 'mentions', 'mentioning', 'mentioned', 'mention', 'mentally', 'mentality', 'mental', 'mens', 'men', 'ur', 'memory', 'memories', 'memes', 'meme', 'members', 'member', 'mehdirhasan', 'meh', 'urge', 'meets', 'meetings', 'meeting', 'meet', 'medina', 'medical', 'media', 'medal', 'meat', 'meant', 'means', 'meaning', 'mean', 'meal', 'mayor', 'maybe', 'maxblumenthal', 'max', 'maturity', 'mature', 'urself', 'mattybboi', 'matters', 'usa', 'matter', 'matt', 'math', 'material', 'mate', 'match', 'masters', 'master', 'massive', 'massacre', 'mass', 'masks', 'mask', 'masjid', 'masculinity', 'masculine', 'mas', 'mary', 'use', 'marxist', 'marvel', 'martin', 'marrying', 'used', 'marry', 'married', 'marriage', 'useful', 'market', 'mark', 'useless', 'margaret', 'march', 'manu', 'user', 'mans', 'manners', 'mankind', 'manipulate', 'mandir', 'management', 'users', 'managed', 'uses', 'manage', 'man', 'mama', 'mall', 'males', 'male', 'malcolm', 'using', 'making', 'makeup', 'makes', 'maker', 'make', 'majority', 'major', 'mais', 'mainstream', 'mainly', 'maine', 'main', 'mail', 'magical', 'magic', 'usual', 'usually', 'maga', 'madrassa', 'madasahatter', 'mad', 'machine', 'maam', 'ma', 'lynnmagic', 'lynn', 'lynching', 'lynched', 'lying', 'luv', 'lunch', 'luke', 'lucky', 'luckily', 'luck', 'luca', 'lt', 'lrt', 'loyal', 'lowkey', 'lower', 'utter', 'low', 'loving', 'utterly', 'loves', 'lover', 'lovely', 'uu', 'loved', 'love', 'louis', 'loud', 'lots', 'lot', 'lost', 'loss', 'losing', 'losers', 'loser', 'lose', 'lord', 'looting', 'loot', 'loose', 'looks', 'looking', 'lookin', 'looked', 'look', 'longer', 'long', 'lonely', 'london', 'lol', 'logicalmind', 'logic', 'logan', 'log', 'locker', 'locked', 'lockdown', 'lock', 'location', 'locate', 'local', 'lo', 'lmfaoooo', 'lmfao', 'lmaoooo', 'vai', 'lmaooo', 'lmaoo', 'lmao', 'lloyd', 'll', 'living', 'lives', 'lived', 'live', 'little', 'lithobolos', 'literally', 'literal', 'lit', 'listentoraisin', 'listening', 'listened', 'listen', 'list', 'lips', 'lip', 'linked', 'valid', 'link', 'lines', 'line', 'limits', 'limited', 'limit', 'limbaugh', 'lil', 'liking', 'likes', 'value', 'likely', 'values', 'liked', 'like', 'lik', 'lightskin', 'light', 'lifeinkhilafah', 'life', 'lies', 'lied', 'lie', 'licking', 'license', 'vandaliser', 'libya', 'library', 'liberty', 'liberals', 'liberal', 'liars', 'liar', 'lgbtq', 'lgbt', 'lewis', 'levels', 'level', 'letting', 'letter', 'lets', 'let', 'lessons', 'lesson', 'lesbians', 'lesbian', 'leo', 'lemon', 'lemme', 'legs', 'legit', 'legally', 'legal', 'leg', 'lefty', 'leftists', 'leftist', 'left', 'lee', 'led', 'lecture', 'lebron', 'leaving', 'leave', 'learnt', 'learning', 'learned', 'learn', 'league', 'leads', 'leading', 'leadership', 'leaders', 'leader', 'lead', 'le', 'lbs', 'lazy', 'lay', 'lawyer', 'laws', 'law', 'laughter', 'laughs', 'laughing', 'laughed', 'laughable', 'vc', 'laugh', 'latinos', 'latin', 'latest', 'later', 'lately', 've', 'late', 'largest', 'largely', 'large', 'language', 'lane', 'land', 'lame', 'laid', 'lady', 'ladies', 'laden', 'lad', 'lack', 'labour', 'labor', 'label', 'la', 'kurds', 'kurdish', 'krainboltgreene', 'kpop', 'korvys', 'koran', 'kong', 'kobane', 'ko', 'knw', 'knows', 'known', 'knowledge', 'knowing', 'know', 'knocked', 'knock', 'kno', 'knew', 'knee', 'km', 'kkk', 'kivabay', 'kitchen', 'kissing', 'kisses', 'kiss', 'kirindave', 'king', 'kinds', 'kindness', 'kindly', 'kinda', 'kind', 'kim', 'kills', 'killings', 'killing', 'killers', 'killerblondes', 'killer', 'killed', 'kill', 'kids', 'kidnapped', 'kidding', 'kid', 'kickstarter', 'kicked', 'kick', 'ki', 'khybar', 'khan', 'keyboard', 'verbal', 'verbally', 'key', 'kevin', 'kept', 'kellyturner', 'kelly', 'keeps', 'keeping', 'ke', 'kaya', 'kats', 'katie', 'katandandre', 'kat', 'kashmiris', 'kashmiri', 'kashmir', 'karma', 'karen', 'kanye', 'kaitlynburnell', 'kafirs', 'kafir', 'ka', 'justlaurenb', 'justkellyok', 'justin', 'justifying', 'justify', 'justified', 'verse', 'justice', 'just', 'verses', 'version', 'jus', 'junior', 'versus', 'jumped', 'jump', 'juliet', 'juice', 'judgment', 'judging', 'judges', 'judgement', 'judge', 'js', 'jrehling', 'jr', 'joy', 'journalists', 'journalist', 'journalism', 'jordan', 'jonrosenberg', 'jones', 'jokingly', 'joking', 'jokes', 'joked', 'joke', 'joining', 'joined', 'join', 'johnson', 'johnnygjokaj', 'john', 'joebiden', 'joe', 'vibe', 'vibes', 'jocks', 'jock', 'jobs', 'job', 'vic', 'jo', 'vice', 'jncatron', 'jk', 'jimmy', 'jim', 'jillwetzler', 'jihadists', 'vicious', 'jihadist', 'jihadis', 'jihadi', 'jihad', 'ji', 'jews', 'jewish', 'jew', 'jesus', 'jessica', 'jerusalem', 'jerks', 'jerk', 'victim', 'jeff', 'jeans', 'jealousy', 'jealous', 'jay', 'jason', 'jaredchase', 'jared', 'japanese', 'james', 'jake', 'jail', 'victims', 'jai', 'jack', 'ja', 'izrinhariri', 'ive', 'itll', 'italian', 'issues', 'issue', 'isso', 'israelis', 'israeliregime', 'israeli', 'israel', 'isnt', 'isn', 'island', 'islams', 'islamophobic', 'islamophobia', 'video', 'islamolunatics', 'islamists', 'islamist', 'islamic', 'videos', 'islamdefense', 'islam', 'isis', 'isi', 'ish', 'isalm', 'irrelevant', 'view', 'irony', 'ironmanl', 'ironically', 'ironic', 'irl', 'irish', 'views', 'iraq', 'iran', 'iq', 'iphone', 'ipad', 'ion', 'involving', 'involved', 'invited', 'invite', 'investigation', 'invented', 'invasion', 'invaders', 'invaded', 'invade', 'intolerant', 'vile', 'intolerance', 'intimidate', 'interview', 'interpretation', 'internet', 'international', 'internal', 'interests', 'village', 'interesting', 'interested', 'interact', 'intentions', 'intentionally', 'intention', 'intent', 'intended', 'intelligent', 'intelligence', 'intellectual', 'integrity', 'insults', 'insulting', 'insulted', 'insult', 'instead', 'instant', 'instagram', 'insta', 'inspired', 'inspiration', 'inside', 'insert', 'insensitive', 'insecure', 'insane', 'innocents', 'innocent', 'inner', 'injustice', 'inhuman', 'informed', 'information', 'info', 'influence', 'inferior', 'infant', 'inequality', 'violation', 'industry', 'individuals', 'individual', 'violence', 'indians', 'indian', 'india', 'violent', 'independent', 'incurs', 'incredibly', 'incredible', 'increase', 'incorrect', 'including', 'includes', 'included', 'include', 'incite', 'incidents', 'incident', 'incest', 'inappropriate', 'virgin', 'imrankhanpti', 'impression', 'impossible', 'important', 'implying', 'implies', 'virtually', 'implied', 'imperialism', 'impact', 'imo', 'immoral', 'virus', 'immigration', 'immigrants', 'immediately', 'immature', 'imma', 'imam', 'imagine', 'images', 'image', 'ima', 'im', 'ily', 'illnesses', 'illness', 'visit', 'illiterate', 'illegals', 'illegally', 'illegal', 'ill', 'ik', 'ignoring', 'ignored', 'ignore', 'ignorant', 'ignorance', 'iglvzx', 'ig', 'idols', 'idk', 'idiots', 'idiotic', 'idiot', 'idgaf', 'ideology', 'identity', 'identify', 'ideas', 'idea', 'idc', 'id', 'icon', 'ice', 'ibnhlophe', 'ian', 'iamtheteacher', 'hypocritical', 'hypocrites', 'hypocrite', 'hypocrisy', 'hype', 'hypatiadotca', 'hv', 'husband', 'hurts', 'hurting', 'hurt', 'hungrycampers', 'hungry', 'hung', 'vocabulary', 'hundreds', 'vocal', 'humour', 'humor', 'humiliated', 'humble', 'humans', 'você', 'humanity', 'humanistfury', 'human', 'huh', 'hugs', 'huge', 'hu', 'httptcozxbzvjru', 'httptco', 'httptc', 'voice', 'httpt', 'httpswwwtheatlanticcommagazinearchivethe', 'httpstcoxwjzpsodgj', 'httplockerzcoms', 'http', 'htt', 'html', 'voices', 'ht', 'hs', 'hrs', 'hpluckrose', 'hows', 'houses', 'house', 'hours', 'hour', 'volume', 'hotel', 'hot', 'host', 'hospital', 'horse', 'horror', 'horrific', 'horrid', 'horribly', 'horrible', 'hoping', 'hopefully', 'hope', 'hop', 'hook', 'hood', 'honour', 'honor', 'honey', 'honestly', 'honest', 'homosexuals', 'homosexual', 'homophobic', 'homophobia', 'vote', 'homophobe', 'homie', 'homework', 'voted', 'hometown', 'homes', 'homeless', 'home', 'holy', 'voters', 'holocaust', 'votes', 'hollywood', 'voting', 'vou', 'holidays', 'holiday', 'hole', 'holds', 'holding', 'vows', 'hold', 'hoes', 'hoe', 'hockey', 'hoax', 'ho', 'hmm', 'hm', 'hiv', 'hitting', 'vs', 'hits', 'hitler', 'hit', 'history', 'historical', 'vulgar', 'hispanics', 'hispanic', 'vulnerable', 'hiring', 'hired', 'hire', 'hip', 'hindutva', 'hindusthan', 'hindus', 'hinduism', 'hindu', 'hindi', 'hind', 'hillaryguess', 'hillary', 'hill', 'wa', 'hilarious', 'hijab', 'highschool', 'highly', 'highlight', 'highest', 'higher', 'high', 'hiding', 'hide', 'wack', 'hi', 'hey', 'hes', 'heroes', 'hero', 'wadhwa', 'heres', 'helps', 'helping', 'helped', 'help', 'hello', 'hella', 'hell', 'held', 'height', 'hehe', 'heels', 'hed', 'wage', 'heck', 'hebrew', 'heavy', 'heavily', 'heaven', 'heat', 'hearts', 'heart', 'hearing', 'heard', 'hear', 'healthy', 'healthcare', 'health', 'heal', 'heads', 'headed', 'head', 'hay', 'having', 'havent', 'haven', 'hav', 'hatred', 'wait', 'hating', 'hatewatch', 'hates', 'waiting', 'haters', 'hater', 'hateful', 'hated', 'hate', 'hat', 'hasn', 'hashtag', 'harvard', 'wake', 'hart', 'harsh', 'harry', 'haroonstyles', 'harmony', 'harmlesstree', 'harmless', 'harmful', 'harm', 'hardly', 'harder', 'hard', 'harb', 'harassment', 'harassing', 'harassed', 'harass', 'haram', 'happy', 'happily', 'happens', 'happening', 'happened', 'walk', 'happen', 'hannah', 'walked', 'hanging', 'hang', 'handsome', 'walking', 'hands', 'walks', 'handle', 'wall', 'handful', 'handed', 'hand', 'hamas', 'hall', 'halima', 'half', 'halalflaws', 'halal', 'hair', 'hai', 'hahahaha', 'hahaha', 'hahah', 'haha', 'hah', 'hadiths', 'hadith', 'hacer', 'ha', 'gym', 'guys', 'guy', 'guts', 'guns', 'gunna', 'gun', 'gum', 'gulf', 'gujarat', 'guilty', 'guilt', 'wanna', 'wannabe', 'guide', 'guest', 'guessing', 'guess', 'want', 'wanted', 'guardian', 'wanting', 'guard', 'wants', 'gtlt', 'gtgt', 'gtfo', 'gt', 'grummz', 'war', 'growth', 'grown', 'growing', 'grow', 'warcraft', 'groups', 'group', 'ground', 'gross', 'grooming', 'grimachu', 'grey', 'grew', 'greenlinerzjm', 'green', 'greek', 'greatest', 'greater', 'great', 'grateful', 'granted', 'warned', 'grandmother', 'warning', 'grandma', 'grammar', 'graham', 'graduated', 'graduate', 'grades', 'grade', 'grad', 'warren', 'grace', 'grabbing', 'grabbed', 'warrior', 'grab', 'govt', 'governor', 'government', 'gov', 'wars', 'gotten', 'gotta', 'goth', 'got', 'gossip', 'goshawty', 'gosh', 'wash', 'washed', 'gorgeous', 'gordon', 'gop', 'washingtonpost', 'goons', 'google', 'goodness', 'goodbye', 'good', 'gonna', 'wasn', 'wasnt', 'gone', 'gon', 'golf', 'golden', 'gold', 'going', 'waste', 'goin', 'goes', 'gods', 'goddamn', 'wasting', 'god', 'goat', 'wat', 'watan', 'watch', 'watched', 'goals', 'goal', 'globe', 'globally', 'global', 'watching', 'glennf', 'glasses', 'glass', 'glad', 'giving', 'gives', 'water', 'given', 'github', 'girlziplocked', 'girls', 'girlfriend', 'girl', 'gig', 'gift', 'gif', 'gidgitvonlarue', 'giant', 'ghostbusters', 'ghost', 'ghetto', 'ghazwa', 'ghazi', 'ggautoblocker', 'gg', 'gf', 'getting', 'gettin', 'gets', 'wave', 'germany', 'german', 'georgegalloway', 'george', 'genuinely', 'genuine', 'gentlermouse', 'genocide', 'genocidal', 'genius', 'generations', 'way', 'generation', 'generally', 'general', 'gender', 'gear', 'gdc', 'wayne', 'gays', 'gayrape', 'gayle', 'ways', 'gay', 'gave', 'gates', 'gaters', 'gas', 'garbage', 'gap', 'gangs', 'gang', 'gandhi', 'gaming', 'games', 'gamers', 'gamergate', 'game', 'gal', 'gain', 'fyi', 'future', 'funny', 'funniest', 'funimation', 'funds', 'funding', 'funded', 'fundamentalist', 'fund', 'function', 'fun', 'fully', 'weak', 'fulani', 'fuel', 'fucks', 'fucking', 'fuckin', 'fuckers', 'fucker', 'fucken', 'fucked', 'fuck', 'fu', 'ft', 'frog', 'frm', 'wealth', 'friendship', 'friends', 'wealthy', 'friendly', 'weapon', 'friend', 'friday', 'freshman', 'fresh', 'weapons', 'frequently', 'wear', 'french', 'freedom', 'wearing', 'wears', 'freebsdgirl', 'freebsd', 'free', 'freaking', 'weather', 'freak', 'fraud', 'web', 'frankie', 'franken', 'frank', 'france', 'fr', 'foxnews', 'fox', 'fourth', 'foundation', 'foul', 'website', 'fought', 'foss', 'forward', 'forreal', 'formed', 'wed', 'form', 'wedding', 'forgotten', 'forgot', 'forgiveness', 'forgive', 'forgetting', 'forget', 'forgave', 'forever', 'foreign', 'forcing', 'forces', 'weed', 'forcefully', 'forced', 'force', 'forbid', 'football', 'foot', 'fools', 'week', 'weekend', 'foolish', 'fool', 'food', 'weeks', 'follows', 'following', 'followers', 'follower', 'followed', 'follow', 'folks', 'folk', 'foh', 'fogle', 'focus', 'fo', 'weight', 'flying', 'fly', 'floyd', 'flow', 'florida', 'floor', 'weird', 'flip', 'flat', 'flash', 'flag', 'fixed', 'fix', 'fits', 'fit', 'fist', 'weirdo', 'firm', 'firing', 'fired', 'finna', 'finished', 'finish', 'welcome', 'fingers', 'fine', 'finds', 'finding', 'financial', 'finally', 'welfare', 'final', 'filthy', 'filth', 'filter', 'films', 'film', 'filled', 'filipino', 'file', 'fil', 'figures', 'figured', 'figure', 'fights', 'fighting', 'fighters', 'fight', 'field', 'ffs', 'festival', 'ferguson', 'feminists', 'feminist', 'feminism', 'feminine', 'wen', 'feminazis', 'feminazifront', 'feminazi', 'femfreq', 'females', 'female', 'felt', 'fellow', 'fell', 'feet', 'went', 'feels', 'feelings', 'feeling', 'feel', 'weren', 'werent', 'feeding', 'feed', 'fee', 'federal', 'fed', 'features', 'fearing', 'feared', 'fear', 'fcking', 'fck', 'fbi', 'west', 'fb', 'favourite', 'western', 'favorite', 'favor', 'fave', 'fav', 'fault', 'fathers', 'father', 'fat', 'fast', 'fashion', 'fascists', 'fascist', 'fascism', 'farm', 'far', 'fantasy', 'fantastic', 'fans', 'fandom', 'fanatics', 'fan', 'famous', 'family', 'families', 'fame', 'fam', 'falsely', 'weve', 'false', 'falls', 'fall', 'faking', 'faked', 'fake', 'faith', 'fairy', 'fairly', 'fair', 'wh', 'failure', 'failing', 'failed', 'fail', 'faggots', 'faggot', 'fag', 'facts', 'factor', 'fact', 'facing', 'faces', 'faced', 'facebook', 'face', 'eyes', 'eye', 'extremists', 'extremist', 'extremism', 'extremely', 'extreme', 'extra', 'exterminated', 'exterminate', 'expression', 'express', 'exposing', 'exposefalsehood', 'exposed', 'expose', 'explicitly', 'explains', 'explaining', 'explained', 'explain', 'experiences', 'experienced', 'experience', 'expensive', 'whats', 'expense', 'expecting', 'expected', 'expect', 'exists', 'existing', 'existence', 'existed', 'exist', 'exercise', 'executive', 'executed', 'excuses', 'excuse', 'exciting', 'excited', 'examples', 'example', 'exactly', 'exact', 'ex', 'ew', 'evvykube', 'evil', 'evidence', 'everytime', 'everyones', 'everyday', 'everybody', 'eventually', 'events', 'event', 'evening', 'wheres', 'evangelicals', 'evangelical', 'europeans', 'european', 'europe', 'eu', 'etsho', 'whilst', 'ethnicity', 'ethnic', 'ethics', 'et', 'esteem', 'estava', 'essentially', 'essential', 'whining', 'espn', 'whiny', 'especially', 'esp', 'escape', 'es', 'error', 'erdogan', 'era', 'er', 'equivalent', 'equates', 'equate', 'equally', 'white', 'equality', 'equal', 'episode', 'ep', 'environment', 'entitled', 'entirely', 'entire', 'entertainment', 'entertaining', 'entertained', 'entering', 'entered', 'enter', 'enslaved', 'enjoying', 'enjoyed', 'enjoy', 'english', 'england', 'engineering', 'engineer', 'engage', 'whites', 'enforcement', 'energy', 'enemy', 'enemies', 'ends', 'endorsed', 'endless', 'ending', 'ended', 'end', 'encouraging', 'encourage', 'en', 'empurrão', 'employer', 'employees', 'empathy', 'emotionally', 'emotional', 'emoji', 'emo', 'emilie', 'embrace', 'whoa', 'embarrassing', 'embarrassed', 'emails', 'email', 'em', 'elses', 'elite', 'elimination', 'eliminated', 'eliminate', 'elephant', 'elementary', 'elections', 'election', 'elected', 'ele', 'el', 'eid', 'eh', 'egyptian', 'egypt', 'ego', 'eggs', 'egg', 'whore', 'efforts', 'effort', 'effects', 'whos', 'effect', 'eeviewonders', 'education', 'educated', 'educate', 'editor', 'editing', 'edgy', 'edge', 'ed', 'ect', 'economy', 'eating', 'eat', 'easy', 'eastern', 'east', 'easily', 'easier', 'earth', 'ears', 'earn', 'early', 'earlier', 'eachother', 'dylanw', 'dying', 'duty', 'wid', 'dunno', 'dummy', 'dummies', 'dumbass', 'dumb', 'dudes', 'dude', 'duck', 'dt', 'ds', 'dry', 'drunk', 'drugs', 'drug', 'drove', 'wife', 'dropping', 'dropped', 'drop', 'driving', 'drivers', 'driver', 'driven', 'drive', 'drinks', 'drinking', 'drink', 'drew', 'dressing', 'dressed', 'dress', 'dreams', 'wikipedia', 'dream', 'drawn', 'drawing', 'draw', 'wild', 'drasko', 'dramatic', 'drama', 'dragon', 'dragging', 'dragged', 'drag', 'draft', 'dr', 'doubt', 'double', 'dos', 'doors', 'door', 'dont', 'donna', 'donkey', 'donations', 'donate', 'donald', 'don', 'dominated', 'domestic', 'dollars', 'dollar', 'doing', 'doin', 'dogs', 'willing', 'dog', 'doesnt', 'doesn', 'does', 'dodger', 'doctors', 'doctor', 'doc', 'dnt', 'dnc', 'dna', 'dms', 'dm', 'divorced', 'divorce', 'divisive', 'division', 'divine', 'divided', 'divide', 'diversity', 'disturbing', 'district', 'distancing', 'win', 'distance', 'disrespecting', 'wind', 'disrespectful', 'disrespected', 'disrespect', 'display', 'disney', 'dismissed', 'dislike', 'dishes', 'dish', 'disgusting', 'wine', 'disgusted', 'disgrace', 'wing', 'disease', 'discussion', 'discussing', 'discussed', 'discuss', 'wings', 'discrimination', 'discriminated', 'discovered', 'winner', 'discordiankitty', 'discerningmumin', 'disaster', 'winning', 'disappointment', 'wins', 'disappointed', 'disagreed', 'wipe', 'disagree', 'disabled', 'disability', 'disabilities', 'dis', 'dirty', 'dirt', 'director', 'directly', 'direction', 'wise', 'directed', 'direct', 'wish', 'dinner', 'wishes', 'wishing', 'dignity', 'digging', 'dig', 'difficult', 'wit', 'differently', 'different', 'difference', 'diff', 'diet', 'dies', 'died', 'die', 'didnt', 'didn', 'did', 'dictionary', 'dictatorship', 'dicks', 'dick', 'dianh', 'dia', 'di', 'devils', 'devil', 'development', 'developer', 'developed', 'develop', 'dev', 'witness', 'witnessed', 'detention', 'details', 'destruction', 'destroying', 'destroyed', 'destroy', 'dessert', 'despite', 'despise', 'despicable', 'desperate', 'wives', 'desire', 'designed', 'design', 'deserves', 'deserved', 'deserve', 'desertfox', 'described', 'derogatory', 'depression', 'depressed', 'depends', 'department', 'denying', 'deny', 'denied', 'denial', 'dems', 'democrats', 'democratic', 'democrat', 'democracy', 'demeaning', 'demand', 'dem', 'delusional', 'delusion', 'delicious', 'delhi', 'deleted', 'delete', 'del', 'degrees', 'degree', 'degrading', 'definition', 'definitely', 'defined', 'define', 'defense', 'defends', 'defending', 'defended', 'wo', 'defend', 'defence', 'def', 'deeply', 'deep', 'deconstructed', 'declared', 'declare', 'decisions', 'decision', 'decided', 'decide', 'decent', 'decency', 'woke', 'decades', 'decade', 'debating', 'debate', 'deaths', 'deathofrats', 'death', 'dear', 'woman', 'dealt', 'dealing', 'deal', 'deaf', 'deadly', 'dead', 'dc', 'womans', 'days', 'day', 'dawg', 'davidjo', 'david', 'dave', 'daughters', 'daughter', 'women', 'dating', 'dates', 'womenagainstfeminism', 'dated', 'date', 'data', 'dat', 'dark', 'dare', 'dar', 'dankmtl', 'dangerous', 'danger', 'dancing', 'dance', 'dan', 'damn', 'damage', 'womens', 'dalits', 'dalit', 'daily', 'daesh', 'dads', 'daddy', 'dad', 'won', 'wonder', 'da', 'wonderful', 'cyrus', 'wondering', 'cyber', 'cw', 'cuz', 'cutting', 'wont', 'cute', 'cut', 'cus', 'curse', 'currently', 'current', 'curious', 'cure', 'curdistani', 'cup', 'cunts', 'cuntandandre', 'cunt', 'cum', 'culture', 'cultural', 'cult', 'ctfleamarkets', 'crying', 'crush', 'crusades', 'cruelty', 'cruel', 'crowd', 'crossed', 'cross', 'criticizing', 'criticized', 'criticize', 'criticism', 'critical', 'crisis', 'cringe', 'criminals', 'criminal', 'word', 'crimes', 'crime', 'cries', 'cried', 'cricketer', 'cricket', 'crew', 'creepy', 'words', 'credit', 'credibility', 'creatures', 'creator', 'creative', 'creating', 'creates', 'wore', 'created', 'work', 'create', 'worked', 'worker', 'workers', 'cream', 'crazy', 'crash', 'crap', 'crackers', 'cracker', 'working', 'cracked', 'crack', 'coz', 'coworkers', 'workplace', 'coworker', 'cowards', 'works', 'cowardly', 'coward', 'cow', 'covid', 'world', 'covering', 'covered', 'cover', 'cousins', 'cousin', 'court', 'course', 'courage', 'couple', 'county', 'country', 'worlds', 'countries', 'countless', 'counter', 'count', 'council', 'couldve', 'worldwide', 'couldn', 'cotton', 'cost', 'cos', 'cortez', 'corrupt', 'corrective', 'correct', 'worried', 'coronavirus', 'corona', 'corner', 'core', 'worry', 'copy', 'cops', 'cop', 'coon', 'worse', 'worship', 'cool', 'cooks', 'cooking', 'cooked', 'cook', 'convo', 'convinced', 'convince', 'converting', 'worst', 'converted', 'convert', 'worth', 'worthless', 'conversion', 'conversation', 'controversy', 'worthy', 'controversial', 'controlled', 'control', 'wouldn', 'wouldnt', 'contributed', 'wouldve', 'contribute', 'contra', 'continuing', 'continues', 'continued', 'continue', 'context', 'contestants', 'wow', 'content', 'contact', 'cont', 'constitution', 'constantly', 'constant', 'conspiring', 'conspiracy', 'considering', 'considered', 'consider', 'conservatives', 'conservative', 'consequences', 'consent', 'conquered', 'connection', 'connected', 'congresswoman', 'congressmanaly', 'congressman', 'congress', 'congratulations', 'wrap', 'congrats', 'confusing', 'confused', 'confuse', 'confrontation', 'conflict', 'confirmed', 'confirm', 'confident', 'confidence', 'conference', 'condone', 'conditions', 'condition', 'condemns', 'wrestlemania', 'condemning', 'condemned', 'wrestling', 'condemn', 'concert', 'concerns', 'concerned', 'concern', 'concept', 'concentration', 'computer', 'compliment', 'complex', 'completely', 'write', 'complete', 'complaining', 'writers', 'writes', 'writing', 'complain', 'competition', 'written', 'compassion', 'comparison', 'comparing', 'compared', 'compare', 'company', 'wrong', 'companies', 'como', 'community', 'communities', 'communists', 'communist', 'communism', 'communal', 'common', 'committing', 'wrote', 'committed', 'commit', 'commies', 'comments', 'commenting', 'commentators', 'commentator', 'comment', 'command', 'coming', 'comics', 'comic', 'comfortable', 'comes', 'comedy', 'comedians', 'comedian', 'come', 'wtf', 'comattwow', 'com', 'coltonzappe', 'colour', 'colors', 'colored', 'color', 'colonelshami', 'college', 'colleagues', 'colleague', 'colin', 'cold', 'coffee', 'code', 'cocktail', 'cock', 'coaches', 'coach', 'cnn', 'cm', 'clueless', 'clue', 'club', 'clowns', 'clown', 'clout', 'cloud', 'ww', 'clothing', 'wwe', 'clothes', 'closeted', 'closest', 'closer', 'closeness', 'closed', 'close', 'clips', 'clip', 'clinton', 'climate', 'client', 'cliche', 'clever', 'clearly', 'clear', 'cleansing', 'cleaning', 'clean', 'classy', 'classroom', 'classmates', 'xabaddea', 'classmate', 'classic', 'classes', 'class', 'clap', 'clan', 'claims', 'claiming', 'claimed', 'claim', 'xbox', 'ck', 'civilization', 'civilians', 'civil', 'city', 'citizens', 'citizen', 'cities', 'xd', 'cis', 'circumstances', 'circle', 'cia', 'churches', 'church', 'chubby', 'chriswarcraft', 'christmas', 'christians', 'christianity', 'christian', 'christ', 'chris', 'chosen', 'chose', 'choose', 'choke', 'choices', 'choice', 'chocolate', 'cho', 'chinese', 'china', 'chill', 'children', 'childish', 'childhood', 'child', 'chilblane', 'chief', 'chicks', 'chicken', 'chick', 'chicago', 'cherry', 'chelsea', 'chef', 'cheeseplus', 'cheer', 'checked', 'check', 'cheating', 'cheat', 'cheap', 'chat', 'chasing', 'charter', 'charlie', 'charles', 'charity', 'charges', 'charged', 'charge', 'characters', 'character', 'chappelle', 'channel', 'changing', 'changes', 'changed', 'change', 'chances', 'chance', 'chan', 'challenging', 'challenge', 'chair', 'chain', 'certainly', 'certain', 'xx', 'ceo', 'century', 'centuries', 'central', 'center', 'cell', 'celine', 'celebrity', 'celebrities', 'celebrating', 'celebrate', 'cdnkhadija', 'ccp', 'cc', 'causing', 'ya', 'causes', 'caused', 'cause', 'caught', 'caucasian', 'cats', 'catholic', 'category', 'catch', 'cat', 'casually', 'caste', 'cast', 'cash', 'cases', 'case', 'cartoon', 'cars', 'carrying', 'carry', 'caring', 'cares', 'careful', 'career', 'yall', 'cared', 'care', 'cards', 'card', 'caravan', 'cara', 'car', 'captured', 'captain', 'capital', 'cape', 'capable', 'candidates', 'candidate', 'cancer', 'cancelled', 'cancel', 'canadian', 'yang', 'canada', 'campus', 'camps', 'campaign', 'camilla', 'cameron', 'camera', 'came', 'calm', 'calls', 'yard', 'calling', 'callin', 'called', 'california', 'cake', 'caa', 'ca', 'bye', 'buying', 'buy', 'button', 'buttercupashby', 'butt', 'butcher', 'busy', 'business', 'bus', 'burns', 'burning', 'burned', 'burn', 'bunch', 'bum', 'yay', 'bullys', 'bullying', 'bully', 'bullshit', 'bulling', 'bullies', 'bullied', 'bullet', 'bull', 'built', 'ye', 'yea', 'building', 'build', 'bug', 'buellerishere', 'yeah', 'budget', 'buddy', 'buddhists', 'buddhist', 'btw', 'bts', 'bt', 'bsdcan', 'year', 'bsd', 'bs', 'brutally', 'brutality', 'years', 'brutal', 'bruh', 'bruciebabe', 'brown', 'brought', 'brothers', 'brotherhood', 'brother', 'bros', 'broken', 'broke', 'broad', 'bro', 'british', 'britain', 'bristolben', 'brings', 'bringing', 'bring', 'bright', 'bridge', 'breeding', 'breed', 'breathe', 'yell', 'yelled', 'breath', 'yelling', 'breaks', 'yellow', 'breaking', 'breakfast', 'break', 'bread', 'brazil', 'brave', 'yemen', 'brand', 'brainwashed', 'brainwash', 'brains', 'brain', 'yep', 'brahmins', 'brahmin', 'boys', 'boyfriends', 'boyfriend', 'yes', 'boycott', 'boy', 'yesallwomen', 'box', 'bow', 'bout', 'bought', 'bottle', 'bots', 'bothers', 'bothered', 'bother', 'bot', 'boss', 'born', 'boris', 'boring', 'bored', 'borders', 'border', 'boots', 'boom', 'books', 'book', 'boobs', 'boo', 'bonus', 'bombs', 'bombing', 'yesterday', 'bombers', 'bomb', 'bollywood', 'boko', 'body', 'bodies', 'yesyouresexist', 'board', 'blumenthal', 'blue', 'blown', 'blowing', 'blow', 'bloody', 'blood', 'blondes', 'blonde', 'blog', 'blocks', 'blocking', 'blocked', 'block', 'blm', 'blizzard', 'blinded', 'blind', 'blew', 'blessed', 'bless', 'bleeding', 'bleach', 'blatantly', 'blatant', 'blast', 'blasphemy', 'blaming', 'blames', 'blameonenotall', 'blamed', 'blame', 'yo', 'blah', 'blacks', 'blackmilk', 'blacklivesmatter', 'blackface', 'black', 'bla', 'bjp', 'bitter', 'bite', 'bitchy', 'bitching', 'yoho', 'bitches', 'bitch', 'bit', 'bisexual', 'birthday', 'birth', 'bird', 'bio', 'binay', 'bin', 'billy', 'billions', 'billion', 'bilalighumman', 'bihar', 'bigots', 'bigotry', 'bigoted', 'bigot', 'biggest', 'bigger', 'big', 'biebervalue', 'biden', 'biblical', 'bible', 'biased', 'bias', 'bi', 'york', 'bhi', 'bharat', 'bhakt', 'bhai', 'bff', 'bf', 'better', 'bet', 'best', 'bernie', 'benefits', 'youd', 'benefit', 'ben', 'belt', 'belongs', 'belong', 'believing', 'believes', 'believers', 'believed', 'believe', 'beliefs', 'belief', 'youll', 'beings', 'bein', 'beheading', 'beheaded', 'behaviour', 'behavior', 'young', 'behave', 'behalf', 'younger', 'begins', 'beginning', 'begin', 'begging', 'began', 'beg', 'beef', 'bedroom', 'bed', 'beauty', 'beautiful', 'beats', 'beating', 'beaten', 'beatdown', 'beat', 'beardyblue', 'bear', 'bean', 'beach', 'bdssupporter', 'bcz', 'bcuz', 'bcs', 'bcoz', 'bc', 'youre', 'bbq', 'bbc', 'bb', 'bay', 'battle', 'bathroom', 'bat', 'bastards', 'bastard', 'basketball', 'basis', 'basically', 'basic', 'bashing', 'bash', 'based', 'baseball', 'yousufpoosuf', 'youth', 'base', 'bart', 'barr', 'barking', 'bark', 'barely', 'bardofpeace', 'youtube', 'barbarity', 'barbaric', 'barbarians', 'barackobama', 'barack', 'bar', 'baph', 'banning', 'banned', 'youve', 'bank', 'bangladesh', 'band', 'ban', 'balls', 'ball', 'baldwin', 'baiting', 'baghdadi', 'bag', 'yr', 'badly', 'badass', 'bad', 'bacon', 'yrs', 'backwards', 'backs', 'backpack', 'backed', 'bachelorinparadiseau', 'yt', 'baby', 'babies', 'babe', 'yu', 'aye', 'awwww', 'awww', 'aww', 'awkward', 'awful', 'awesome', 'away', 'awareness', 'aware', 'awards', 'award', 'yummy', 'awake', 'avoid', 'avi', 'average', 'available', 'automatically', 'autistic', 'autism', 'authority', 'authorities', 'author', 'australian']\n"
     ]
    }
   ],
   "source": [
    "vectorizer.get_feature_names_out()\n",
    "top = np.argmax(X_train_bow.sum(axis = 0))\n",
    "vectorizer.get_feature_names_out().shape\n",
    "\n",
    "ind = np.argpartition(X_train_bow.sum(axis = 0), -20000)[0,:-300]\n",
    "for top in vectorizer.get_feature_names_out()[ind]:\n",
    "    print(list(top))"
   ]
  },
  {
   "cell_type": "code",
   "execution_count": 94,
   "id": "b695fc61",
   "metadata": {},
   "outputs": [
    {
     "data": {
      "text/plain": [
       "array(['aa', 'aaa', 'aaaa', ..., 'ᵗʳᵃⁱˡ', 'ᵗʳⁱᵍᵍᵉʳ', 'ᶠⁱⁿᵍᵉʳ'],\n",
       "      dtype=object)"
      ]
     },
     "execution_count": 94,
     "metadata": {},
     "output_type": "execute_result"
    }
   ],
   "source": [
    "vectorizer.get_feature_names_out()"
   ]
  },
  {
   "cell_type": "code",
   "execution_count": 12,
   "id": "c33f3699",
   "metadata": {
    "scrolled": true
   },
   "outputs": [
    {
     "name": "stderr",
     "output_type": "stream",
     "text": [
      "\u001b[32m[I 2022-04-03 22:25:17,072]\u001b[0m A new study created in memory with name: SVC_BOW\u001b[0m\n",
      "\u001b[32m[I 2022-04-03 22:25:36,455]\u001b[0m Trial 0 finished with value: 0.8288641156974993 and parameters: {'kernel': 'linear', 'regularization': 0.9551356605586845}. Best is trial 0 with value: 0.8288641156974993.\u001b[0m\n",
      "\u001b[32m[I 2022-04-03 22:25:49,468]\u001b[0m Trial 1 finished with value: 0.8348900271166014 and parameters: {'kernel': 'linear', 'regularization': 0.4181296627682145}. Best is trial 1 with value: 0.8348900271166014.\u001b[0m\n",
      "\u001b[32m[I 2022-04-03 22:26:06,248]\u001b[0m Trial 2 finished with value: 0.8255498644169931 and parameters: {'kernel': 'linear', 'regularization': 1.48401744818691}. Best is trial 1 with value: 0.8348900271166014.\u001b[0m\n",
      "\u001b[32m[I 2022-04-03 22:26:21,875]\u001b[0m Trial 3 finished with value: 0.82389273877674 and parameters: {'kernel': 'linear', 'regularization': 1.9854560812580309}. Best is trial 1 with value: 0.8348900271166014.\u001b[0m\n",
      "\u001b[32m[I 2022-04-03 22:26:36,304]\u001b[0m Trial 4 finished with value: 0.8263031033443808 and parameters: {'kernel': 'linear', 'regularization': 1.3007161934893303}. Best is trial 1 with value: 0.8348900271166014.\u001b[0m\n",
      "\u001b[32m[I 2022-04-03 22:26:50,244]\u001b[0m Trial 5 finished with value: 0.826905694486291 and parameters: {'kernel': 'linear', 'regularization': 1.1294328651293013}. Best is trial 1 with value: 0.8348900271166014.\u001b[0m\n",
      "\u001b[32m[I 2022-04-03 22:27:05,388]\u001b[0m Trial 6 finished with value: 0.8240433865622175 and parameters: {'kernel': 'linear', 'regularization': 1.9514330373167235}. Best is trial 1 with value: 0.8348900271166014.\u001b[0m\n",
      "\u001b[32m[I 2022-04-03 22:27:17,004]\u001b[0m Trial 7 finished with value: 0.8320277191925278 and parameters: {'kernel': 'linear', 'regularization': 0.5320400321199774}. Best is trial 1 with value: 0.8348900271166014.\u001b[0m\n",
      "\u001b[32m[I 2022-04-03 22:27:29,529]\u001b[0m Trial 8 finished with value: 0.8315757758360952 and parameters: {'kernel': 'linear', 'regularization': 0.6643548143139324}. Best is trial 1 with value: 0.8348900271166014.\u001b[0m\n",
      "\u001b[32m[I 2022-04-03 22:27:44,792]\u001b[0m Trial 9 finished with value: 0.828261524555589 and parameters: {'kernel': 'linear', 'regularization': 0.988965217964566}. Best is trial 1 with value: 0.8348900271166014.\u001b[0m\n",
      "\u001b[32m[I 2022-04-03 22:27:53,350]\u001b[0m Trial 10 finished with value: 0.8336848448327809 and parameters: {'kernel': 'linear', 'regularization': 0.035169370071849726}. Best is trial 1 with value: 0.8348900271166014.\u001b[0m\n",
      "\u001b[32m[I 2022-04-03 22:28:04,426]\u001b[0m Trial 11 finished with value: 0.8360952094004218 and parameters: {'kernel': 'linear', 'regularization': 0.04464633961688713}. Best is trial 11 with value: 0.8360952094004218.\u001b[0m\n",
      "\u001b[32m[I 2022-04-03 22:28:15,748]\u001b[0m Trial 12 finished with value: 0.8306718891232299 and parameters: {'kernel': 'linear', 'regularization': 0.03173735162841492}. Best is trial 11 with value: 0.8360952094004218.\u001b[0m\n",
      "\u001b[32m[I 2022-04-03 22:28:28,976]\u001b[0m Trial 13 finished with value: 0.8413678818921362 and parameters: {'kernel': 'linear', 'regularization': 0.34642815427256707}. Best is trial 13 with value: 0.8413678818921362.\u001b[0m\n",
      "\u001b[32m[I 2022-04-03 22:28:38,758]\u001b[0m Trial 14 finished with value: 0.8437782464597771 and parameters: {'kernel': 'linear', 'regularization': 0.2637385474133012}. Best is trial 14 with value: 0.8437782464597771.\u001b[0m\n",
      "\u001b[32m[I 2022-04-03 22:28:51,420]\u001b[0m Trial 15 finished with value: 0.8406146429647484 and parameters: {'kernel': 'linear', 'regularization': 0.37026980181708263}. Best is trial 14 with value: 0.8437782464597771.\u001b[0m\n",
      "\u001b[32m[I 2022-04-03 22:29:05,626]\u001b[0m Trial 16 finished with value: 0.8306718891232299 and parameters: {'kernel': 'linear', 'regularization': 0.7328380783589867}. Best is trial 14 with value: 0.8437782464597771.\u001b[0m\n",
      "\u001b[32m[I 2022-04-03 22:29:15,724]\u001b[0m Trial 17 finished with value: 0.8437782464597771 and parameters: {'kernel': 'linear', 'regularization': 0.27309931071626276}. Best is trial 14 with value: 0.8437782464597771.\u001b[0m\n",
      "\u001b[32m[I 2022-04-03 22:29:26,071]\u001b[0m Trial 18 finished with value: 0.8442301898162097 and parameters: {'kernel': 'linear', 'regularization': 0.2567673501430999}. Best is trial 18 with value: 0.8442301898162097.\u001b[0m\n",
      "\u001b[32m[I 2022-04-03 22:29:40,740]\u001b[0m Trial 19 finished with value: 0.8305212413377523 and parameters: {'kernel': 'linear', 'regularization': 0.7444224020639723}. Best is trial 18 with value: 0.8442301898162097.\u001b[0m\n",
      "\u001b[32m[I 2022-04-03 22:29:50,132]\u001b[0m Trial 20 finished with value: 0.8448327809581199 and parameters: {'kernel': 'linear', 'regularization': 0.21618889273237107}. Best is trial 20 with value: 0.8448327809581199.\u001b[0m\n",
      "\u001b[32m[I 2022-04-03 22:29:59,624]\u001b[0m Trial 21 finished with value: 0.845134076529075 and parameters: {'kernel': 'linear', 'regularization': 0.22253897870431022}. Best is trial 21 with value: 0.845134076529075.\u001b[0m\n",
      "\u001b[32m[I 2022-04-03 22:30:09,000]\u001b[0m Trial 22 finished with value: 0.8452847243145526 and parameters: {'kernel': 'linear', 'regularization': 0.18982757491316626}. Best is trial 22 with value: 0.8452847243145526.\u001b[0m\n",
      "\u001b[32m[I 2022-04-03 22:30:21,320]\u001b[0m Trial 23 finished with value: 0.8318770714070504 and parameters: {'kernel': 'linear', 'regularization': 0.5442336608642029}. Best is trial 22 with value: 0.8452847243145526.\u001b[0m\n",
      "\u001b[32m[I 2022-04-03 22:30:30,039]\u001b[0m Trial 24 finished with value: 0.8466405543838506 and parameters: {'kernel': 'linear', 'regularization': 0.1688749085361546}. Best is trial 24 with value: 0.8466405543838506.\u001b[0m\n",
      "\u001b[32m[I 2022-04-03 22:30:39,057]\u001b[0m Trial 25 finished with value: 0.8463392588128954 and parameters: {'kernel': 'linear', 'regularization': 0.17164600945119327}. Best is trial 24 with value: 0.8466405543838506.\u001b[0m\n",
      "\u001b[32m[I 2022-04-03 22:30:53,491]\u001b[0m Trial 26 finished with value: 0.8329316059053932 and parameters: {'kernel': 'linear', 'regularization': 0.5060963438649577}. Best is trial 24 with value: 0.8466405543838506.\u001b[0m\n",
      "\u001b[32m[I 2022-04-03 22:31:01,983]\u001b[0m Trial 27 finished with value: 0.8476950888821935 and parameters: {'kernel': 'linear', 'regularization': 0.13143763157094035}. Best is trial 27 with value: 0.8476950888821935.\u001b[0m\n",
      "\u001b[32m[I 2022-04-03 22:31:17,901]\u001b[0m Trial 28 finished with value: 0.8243446821331727 and parameters: {'kernel': 'linear', 'regularization': 1.6825262443982563}. Best is trial 27 with value: 0.8476950888821935.\u001b[0m\n",
      "\u001b[32m[I 2022-04-03 22:31:33,324]\u001b[0m Trial 29 finished with value: 0.8299186501958421 and parameters: {'kernel': 'linear', 'regularization': 0.8828248461104685}. Best is trial 27 with value: 0.8476950888821935.\u001b[0m\n",
      "\u001b[32m[I 2022-04-03 22:31:41,823]\u001b[0m Trial 30 finished with value: 0.8476950888821935 and parameters: {'kernel': 'linear', 'regularization': 0.14944899948873394}. Best is trial 27 with value: 0.8476950888821935.\u001b[0m\n",
      "\u001b[32m[I 2022-04-03 22:31:49,508]\u001b[0m Trial 31 finished with value: 0.8418198252485688 and parameters: {'kernel': 'linear', 'regularization': 0.06853209931532417}. Best is trial 27 with value: 0.8476950888821935.\u001b[0m\n",
      "\u001b[32m[I 2022-04-03 22:32:00,943]\u001b[0m Trial 32 finished with value: 0.8338354926182585 and parameters: {'kernel': 'linear', 'regularization': 0.43014063503059347}. Best is trial 27 with value: 0.8476950888821935.\u001b[0m\n",
      "\u001b[32m[I 2022-04-03 22:32:10,623]\u001b[0m Trial 33 finished with value: 0.8478457366676709 and parameters: {'kernel': 'linear', 'regularization': 0.1497481394334123}. Best is trial 33 with value: 0.8478457366676709.\u001b[0m\n",
      "\u001b[32m[I 2022-04-03 22:32:18,652]\u001b[0m Trial 34 finished with value: 0.8452847243145526 and parameters: {'kernel': 'linear', 'regularization': 0.10911078247063577}. Best is trial 33 with value: 0.8478457366676709.\u001b[0m\n"
     ]
    },
    {
     "name": "stdout",
     "output_type": "stream",
     "text": [
      "FrozenTrial(number=33, values=[0.8478457366676709], datetime_start=datetime.datetime(2022, 4, 3, 22, 32, 0, 944431), datetime_complete=datetime.datetime(2022, 4, 3, 22, 32, 10, 622652), params={'kernel': 'linear', 'regularization': 0.1497481394334123}, distributions={'kernel': CategoricalDistribution(choices=('linear',)), 'regularization': UniformDistribution(high=2.0, low=0.0)}, user_attrs={}, system_attrs={}, intermediate_values={}, trial_id=33, state=TrialState.COMPLETE, value=None)\n"
     ]
    }
   ],
   "source": [
    "#bow optimization\n",
    "def objective(trial): \n",
    "    kernels = [\"linear\"]\n",
    "    kernel = trial.suggest_categorical(\"kernel\", kernels)\n",
    "    regularization = trial.suggest_float(\"regularization\", 0, 2)\n",
    "    #gamma = trial.suggest_loguniform(\"gamma\", 10e-3, 10e3)\n",
    "    #degree = trial.suggest_int(\"degree\",2,5)\n",
    "    \n",
    "    model = SVC(max_iter = 100, C = regularization, \n",
    "                kernel = kernel).fit(X_train_bow, y_train)\n",
    "    \n",
    "    y_pred = model.predict(X_val_bow)\n",
    "    return accuracy(y_val, y_pred)\n",
    "\n",
    "study = optuna.create_study(study_name = \"SVC_BOW\", direction = \"maximize\")\n",
    "study.optimize(objective, n_trials = 35)\n",
    "print(study.best_trial)"
   ]
  },
  {
   "cell_type": "code",
   "execution_count": 206,
   "id": "c3935a1b",
   "metadata": {},
   "outputs": [
    {
     "name": "stdout",
     "output_type": "stream",
     "text": [
      "              precision    recall  f1-score   support\n",
      "\n",
      "           0       0.62      0.67      0.65      1020\n",
      "           1       0.93      0.86      0.89      1103\n",
      "           2       0.97      0.95      0.96      1194\n",
      "           3       0.63      0.65      0.64       827\n",
      "           4       0.97      0.97      0.97      1198\n",
      "           5       0.97      0.98      0.98      1070\n",
      "\n",
      "    accuracy                           0.86      6412\n",
      "   macro avg       0.85      0.85      0.85      6412\n",
      "weighted avg       0.87      0.86      0.86      6412\n",
      "\n",
      "0.8601060511540861\n"
     ]
    }
   ],
   "source": [
    "model = SVC(max_iter = 10000, C = 0.1497481394334123, \n",
    "                kernel = \"linear\").fit(X_train_bow, y_train)\n",
    "\n",
    "y_pred = model.predict(X_test_bow)\n",
    "\n",
    "print(classification_report(y_test, y_pred))\n",
    "print(accuracy(y_test, y_pred))"
   ]
  },
  {
   "cell_type": "code",
   "execution_count": 79,
   "id": "5dd39463",
   "metadata": {},
   "outputs": [
    {
     "name": "stderr",
     "output_type": "stream",
     "text": [
      "\u001b[32m[I 2022-04-03 21:25:50,551]\u001b[0m A new study created in memory with name: SVC_Accuracy\u001b[0m\n",
      "\u001b[32m[I 2022-04-03 21:26:30,598]\u001b[0m Trial 0 finished with value: 0.201416089183489 and parameters: {'kernel': 'poly', 'regularization': 0.686954021342695, 'degree': 8}. Best is trial 0 with value: 0.201416089183489.\u001b[0m\n",
      "\u001b[32m[I 2022-04-03 21:26:45,307]\u001b[0m Trial 1 finished with value: 0.8424224163904791 and parameters: {'kernel': 'sigmoid', 'regularization': 0.6919440187969182, 'degree': 6}. Best is trial 1 with value: 0.8424224163904791.\u001b[0m\n",
      "\u001b[32m[I 2022-04-03 21:27:41,515]\u001b[0m Trial 2 finished with value: 0.22777945164206087 and parameters: {'kernel': 'poly', 'regularization': 0.8812559130767845, 'degree': 5}. Best is trial 1 with value: 0.8424224163904791.\u001b[0m\n",
      "\u001b[32m[I 2022-04-03 21:28:25,099]\u001b[0m Trial 3 finished with value: 0.7431455257607713 and parameters: {'kernel': 'poly', 'regularization': 0.8372090228566549, 'degree': 2}. Best is trial 1 with value: 0.8424224163904791.\u001b[0m\n",
      "\u001b[32m[I 2022-04-03 21:28:43,577]\u001b[0m Trial 4 finished with value: 0.8452847243145526 and parameters: {'kernel': 'sigmoid', 'regularization': 0.9337711874656375, 'degree': 4}. Best is trial 4 with value: 0.8452847243145526.\u001b[0m\n",
      "\u001b[32m[I 2022-04-03 21:29:13,114]\u001b[0m Trial 5 finished with value: 0.292859294968364 and parameters: {'kernel': 'poly', 'regularization': 0.3174998896972543, 'degree': 3}. Best is trial 4 with value: 0.8452847243145526.\u001b[0m\n",
      "\u001b[32m[I 2022-04-03 21:29:38,683]\u001b[0m Trial 6 finished with value: 0.8092799035854173 and parameters: {'kernel': 'rbf', 'regularization': 0.6419623334279081, 'degree': 6}. Best is trial 4 with value: 0.8452847243145526.\u001b[0m\n",
      "\u001b[32m[I 2022-04-03 21:29:58,280]\u001b[0m Trial 7 finished with value: 0.8413678818921362 and parameters: {'kernel': 'linear', 'regularization': 0.3929594558530116, 'degree': 2}. Best is trial 4 with value: 0.8452847243145526.\u001b[0m\n",
      "\u001b[32m[I 2022-04-03 21:30:14,564]\u001b[0m Trial 8 finished with value: 0.8431756553178669 and parameters: {'kernel': 'sigmoid', 'regularization': 0.5697626523763686, 'degree': 6}. Best is trial 4 with value: 0.8452847243145526.\u001b[0m\n",
      "\u001b[32m[I 2022-04-03 21:30:39,949]\u001b[0m Trial 9 finished with value: 0.8311238324796626 and parameters: {'kernel': 'linear', 'regularization': 0.9558083190969604, 'degree': 4}. Best is trial 4 with value: 0.8452847243145526.\u001b[0m\n",
      "\u001b[32m[I 2022-04-03 21:31:02,717]\u001b[0m Trial 10 finished with value: 0.7646881590840615 and parameters: {'kernel': 'sigmoid', 'regularization': 0.06158509264813461, 'degree': 1}. Best is trial 4 with value: 0.8452847243145526.\u001b[0m\n",
      "\u001b[32m[I 2022-04-03 21:31:18,390]\u001b[0m Trial 11 finished with value: 0.8400120518228382 and parameters: {'kernel': 'sigmoid', 'regularization': 0.4720651805570371, 'degree': 8}. Best is trial 4 with value: 0.8452847243145526.\u001b[0m\n",
      "\u001b[32m[I 2022-04-03 21:31:33,856]\u001b[0m Trial 12 finished with value: 0.8204278397107563 and parameters: {'kernel': 'sigmoid', 'regularization': 0.21727082324102037, 'degree': 6}. Best is trial 4 with value: 0.8452847243145526.\u001b[0m\n",
      "\u001b[32m[I 2022-04-03 21:31:50,894]\u001b[0m Trial 13 finished with value: 0.8437782464597771 and parameters: {'kernel': 'sigmoid', 'regularization': 0.6122121496366364, 'degree': 4}. Best is trial 4 with value: 0.8452847243145526.\u001b[0m\n",
      "\u001b[32m[I 2022-04-03 21:32:18,729]\u001b[0m Trial 14 finished with value: 0.8171135884302501 and parameters: {'kernel': 'rbf', 'regularization': 0.8197435256368306, 'degree': 4}. Best is trial 4 with value: 0.8452847243145526.\u001b[0m\n",
      "\u001b[32m[I 2022-04-03 21:32:35,813]\u001b[0m Trial 15 finished with value: 0.8440795420307321 and parameters: {'kernel': 'sigmoid', 'regularization': 0.7548225619921606, 'degree': 3}. Best is trial 4 with value: 0.8452847243145526.\u001b[0m\n",
      "\u001b[32m[I 2022-04-03 21:32:54,025]\u001b[0m Trial 16 finished with value: 0.8452847243145526 and parameters: {'kernel': 'sigmoid', 'regularization': 0.9645873174911874, 'degree': 3}. Best is trial 4 with value: 0.8452847243145526.\u001b[0m\n",
      "\u001b[32m[I 2022-04-03 21:33:12,460]\u001b[0m Trial 17 finished with value: 0.8454353721000302 and parameters: {'kernel': 'sigmoid', 'regularization': 0.948218578801649, 'degree': 1}. Best is trial 17 with value: 0.8454353721000302.\u001b[0m\n",
      "\u001b[32m[I 2022-04-03 21:33:34,295]\u001b[0m Trial 18 finished with value: 0.830973184694185 and parameters: {'kernel': 'linear', 'regularization': 0.9937514049377291, 'degree': 1}. Best is trial 17 with value: 0.8454353721000302.\u001b[0m\n",
      "\u001b[32m[I 2022-04-03 21:33:59,917]\u001b[0m Trial 19 finished with value: 0.8166616450738174 and parameters: {'kernel': 'rbf', 'regularization': 0.7955270950390572, 'degree': 2}. Best is trial 17 with value: 0.8454353721000302.\u001b[0m\n",
      "\u001b[32m[I 2022-04-03 21:34:17,665]\u001b[0m Trial 20 finished with value: 0.8454353721000302 and parameters: {'kernel': 'sigmoid', 'regularization': 0.9970836182121544, 'degree': 1}. Best is trial 17 with value: 0.8454353721000302.\u001b[0m\n",
      "\u001b[32m[I 2022-04-03 21:34:36,190]\u001b[0m Trial 21 finished with value: 0.8449834287435974 and parameters: {'kernel': 'sigmoid', 'regularization': 0.9049874038561802, 'degree': 1}. Best is trial 17 with value: 0.8454353721000302.\u001b[0m\n",
      "\u001b[32m[I 2022-04-03 21:34:55,127]\u001b[0m Trial 22 finished with value: 0.8455860198855076 and parameters: {'kernel': 'sigmoid', 'regularization': 0.9775672385207569, 'degree': 2}. Best is trial 22 with value: 0.8455860198855076.\u001b[0m\n",
      "\u001b[32m[I 2022-04-03 21:35:13,254]\u001b[0m Trial 23 finished with value: 0.8445314853871648 and parameters: {'kernel': 'sigmoid', 'regularization': 0.7658391813653317, 'degree': 1}. Best is trial 22 with value: 0.8455860198855076.\u001b[0m\n",
      "\u001b[32m[I 2022-04-03 21:35:32,098]\u001b[0m Trial 24 finished with value: 0.8454353721000302 and parameters: {'kernel': 'sigmoid', 'regularization': 0.99703967158622, 'degree': 2}. Best is trial 22 with value: 0.8455860198855076.\u001b[0m\n",
      "\u001b[32m[I 2022-04-03 21:35:50,500]\u001b[0m Trial 25 finished with value: 0.8448327809581199 and parameters: {'kernel': 'sigmoid', 'regularization': 0.8685473158724223, 'degree': 2}. Best is trial 22 with value: 0.8455860198855076.\u001b[0m\n",
      "\u001b[32m[I 2022-04-03 21:36:06,278]\u001b[0m Trial 26 finished with value: 0.8416691774630913 and parameters: {'kernel': 'sigmoid', 'regularization': 0.5107881439196136, 'degree': 2}. Best is trial 22 with value: 0.8455860198855076.\u001b[0m\n",
      "\u001b[32m[I 2022-04-03 21:36:29,019]\u001b[0m Trial 27 finished with value: 0.8308225369087074 and parameters: {'kernel': 'linear', 'regularization': 0.9950283690800842, 'degree': 3}. Best is trial 22 with value: 0.8455860198855076.\u001b[0m\n",
      "\u001b[32m[I 2022-04-03 21:36:53,562]\u001b[0m Trial 28 finished with value: 0.8134980415787888 and parameters: {'kernel': 'rbf', 'regularization': 0.7304734206598497, 'degree': 2}. Best is trial 22 with value: 0.8455860198855076.\u001b[0m\n",
      "\u001b[32m[I 2022-04-03 21:37:09,524]\u001b[0m Trial 29 finished with value: 0.8418198252485688 and parameters: {'kernel': 'poly', 'regularization': 0.8934119252048636, 'degree': 1}. Best is trial 22 with value: 0.8455860198855076.\u001b[0m\n",
      "\u001b[32m[I 2022-04-03 21:37:26,058]\u001b[0m Trial 30 finished with value: 0.7824645977704128 and parameters: {'kernel': 'sigmoid', 'regularization': 0.07789090128654547, 'degree': 1}. Best is trial 22 with value: 0.8455860198855076.\u001b[0m\n",
      "\u001b[32m[I 2022-04-03 21:37:40,928]\u001b[0m Trial 31 finished with value: 0.8454353721000302 and parameters: {'kernel': 'sigmoid', 'regularization': 0.992560529440406, 'degree': 1}. Best is trial 22 with value: 0.8455860198855076.\u001b[0m\n",
      "\u001b[32m[I 2022-04-03 21:37:55,235]\u001b[0m Trial 32 finished with value: 0.8449834287435974 and parameters: {'kernel': 'sigmoid', 'regularization': 0.8306153505921634, 'degree': 2}. Best is trial 22 with value: 0.8455860198855076.\u001b[0m\n",
      "\u001b[32m[I 2022-04-03 21:38:10,451]\u001b[0m Trial 33 finished with value: 0.8449834287435974 and parameters: {'kernel': 'sigmoid', 'regularization': 0.9182369358488173, 'degree': 3}. Best is trial 22 with value: 0.8455860198855076.\u001b[0m\n",
      "\u001b[32m[I 2022-04-03 21:38:25,705]\u001b[0m Trial 34 finished with value: 0.8424224163904791 and parameters: {'kernel': 'sigmoid', 'regularization': 0.687574891017072, 'degree': 2}. Best is trial 22 with value: 0.8455860198855076.\u001b[0m\n",
      "\u001b[32m[I 2022-04-03 21:38:42,234]\u001b[0m Trial 35 finished with value: 0.8416691774630913 and parameters: {'kernel': 'poly', 'regularization': 0.8888543462129912, 'degree': 1}. Best is trial 22 with value: 0.8455860198855076.\u001b[0m\n"
     ]
    },
    {
     "name": "stderr",
     "output_type": "stream",
     "text": [
      "\u001b[32m[I 2022-04-03 21:39:00,062]\u001b[0m Trial 36 finished with value: 0.8454353721000302 and parameters: {'kernel': 'sigmoid', 'regularization': 0.9418293817849873, 'degree': 5}. Best is trial 22 with value: 0.8455860198855076.\u001b[0m\n",
      "\u001b[32m[I 2022-04-03 21:39:17,462]\u001b[0m Trial 37 finished with value: 0.8445314853871648 and parameters: {'kernel': 'sigmoid', 'regularization': 0.8622384294294669, 'degree': 7}. Best is trial 22 with value: 0.8455860198855076.\u001b[0m\n",
      "\u001b[32m[I 2022-04-03 21:39:57,249]\u001b[0m Trial 38 finished with value: 0.2270262127146731 and parameters: {'kernel': 'poly', 'regularization': 0.799536764144397, 'degree': 5}. Best is trial 22 with value: 0.8455860198855076.\u001b[0m\n",
      "\u001b[32m[I 2022-04-03 21:40:10,933]\u001b[0m Trial 39 finished with value: 0.8449834287435974 and parameters: {'kernel': 'sigmoid', 'regularization': 0.9194315880908418, 'degree': 5}. Best is trial 22 with value: 0.8455860198855076.\u001b[0m\n",
      "\u001b[32m[I 2022-04-03 21:40:35,347]\u001b[0m Trial 40 finished with value: 0.8210304308526665 and parameters: {'kernel': 'rbf', 'regularization': 0.9453708140981208, 'degree': 5}. Best is trial 22 with value: 0.8455860198855076.\u001b[0m\n",
      "\u001b[32m[I 2022-04-03 21:40:51,853]\u001b[0m Trial 41 finished with value: 0.845134076529075 and parameters: {'kernel': 'sigmoid', 'regularization': 0.9382348685530577, 'degree': 2}. Best is trial 22 with value: 0.8455860198855076.\u001b[0m\n",
      "\u001b[32m[I 2022-04-03 21:41:07,210]\u001b[0m Trial 42 finished with value: 0.8455860198855076 and parameters: {'kernel': 'sigmoid', 'regularization': 0.9902943006694415, 'degree': 3}. Best is trial 22 with value: 0.8455860198855076.\u001b[0m\n",
      "\u001b[32m[I 2022-04-03 21:41:24,395]\u001b[0m Trial 43 finished with value: 0.8455860198855076 and parameters: {'kernel': 'sigmoid', 'regularization': 0.9988837908920738, 'degree': 3}. Best is trial 22 with value: 0.8455860198855076.\u001b[0m\n",
      "\u001b[32m[I 2022-04-03 21:41:44,581]\u001b[0m Trial 44 finished with value: 0.8312744802651401 and parameters: {'kernel': 'linear', 'regularization': 0.845664933320829, 'degree': 4}. Best is trial 22 with value: 0.8455860198855076.\u001b[0m\n",
      "\u001b[32m[I 2022-04-03 21:42:01,112]\u001b[0m Trial 45 finished with value: 0.8455860198855076 and parameters: {'kernel': 'sigmoid', 'regularization': 0.9896179482729616, 'degree': 3}. Best is trial 22 with value: 0.8455860198855076.\u001b[0m\n",
      "\u001b[32m[I 2022-04-03 21:42:15,026]\u001b[0m Trial 46 finished with value: 0.8207291352817113 and parameters: {'kernel': 'sigmoid', 'regularization': 0.22077784154740754, 'degree': 3}. Best is trial 22 with value: 0.8455860198855076.\u001b[0m\n",
      "\u001b[32m[I 2022-04-03 21:42:33,016]\u001b[0m Trial 47 finished with value: 0.8449834287435974 and parameters: {'kernel': 'sigmoid', 'regularization': 0.8724147658239998, 'degree': 3}. Best is trial 22 with value: 0.8455860198855076.\u001b[0m\n"
     ]
    },
    {
     "ename": "KeyboardInterrupt",
     "evalue": "",
     "output_type": "error",
     "traceback": [
      "\u001b[1;31m---------------------------------------------------------------------------\u001b[0m",
      "\u001b[1;31mKeyboardInterrupt\u001b[0m                         Traceback (most recent call last)",
      "\u001b[1;32m~\\AppData\\Local\\Temp/ipykernel_19872/1952399416.py\u001b[0m in \u001b[0;36m<module>\u001b[1;34m\u001b[0m\n\u001b[0;32m     12\u001b[0m \u001b[1;33m\u001b[0m\u001b[0m\n\u001b[0;32m     13\u001b[0m \u001b[0mstudy\u001b[0m \u001b[1;33m=\u001b[0m \u001b[0moptuna\u001b[0m\u001b[1;33m.\u001b[0m\u001b[0mcreate_study\u001b[0m\u001b[1;33m(\u001b[0m\u001b[0mstudy_name\u001b[0m \u001b[1;33m=\u001b[0m \u001b[1;34m\"SVC_Accuracy\"\u001b[0m\u001b[1;33m,\u001b[0m \u001b[0mdirection\u001b[0m \u001b[1;33m=\u001b[0m \u001b[1;34m\"maximize\"\u001b[0m\u001b[1;33m)\u001b[0m\u001b[1;33m\u001b[0m\u001b[1;33m\u001b[0m\u001b[0m\n\u001b[1;32m---> 14\u001b[1;33m \u001b[0mstudy\u001b[0m\u001b[1;33m.\u001b[0m\u001b[0moptimize\u001b[0m\u001b[1;33m(\u001b[0m\u001b[0mobjective\u001b[0m\u001b[1;33m,\u001b[0m \u001b[0mn_trials\u001b[0m \u001b[1;33m=\u001b[0m \u001b[1;36m100\u001b[0m\u001b[1;33m)\u001b[0m\u001b[1;33m\u001b[0m\u001b[1;33m\u001b[0m\u001b[0m\n\u001b[0m\u001b[0;32m     15\u001b[0m \u001b[0mprint\u001b[0m\u001b[1;33m(\u001b[0m\u001b[0mstudy\u001b[0m\u001b[1;33m.\u001b[0m\u001b[0mbest_trial\u001b[0m\u001b[1;33m)\u001b[0m\u001b[1;33m\u001b[0m\u001b[1;33m\u001b[0m\u001b[0m\n",
      "\u001b[1;32m~\\.conda\\envs\\nlp\\lib\\site-packages\\optuna\\study\\study.py\u001b[0m in \u001b[0;36moptimize\u001b[1;34m(self, func, n_trials, timeout, n_jobs, catch, callbacks, gc_after_trial, show_progress_bar)\u001b[0m\n\u001b[0;32m    398\u001b[0m             )\n\u001b[0;32m    399\u001b[0m \u001b[1;33m\u001b[0m\u001b[0m\n\u001b[1;32m--> 400\u001b[1;33m         _optimize(\n\u001b[0m\u001b[0;32m    401\u001b[0m             \u001b[0mstudy\u001b[0m\u001b[1;33m=\u001b[0m\u001b[0mself\u001b[0m\u001b[1;33m,\u001b[0m\u001b[1;33m\u001b[0m\u001b[1;33m\u001b[0m\u001b[0m\n\u001b[0;32m    402\u001b[0m             \u001b[0mfunc\u001b[0m\u001b[1;33m=\u001b[0m\u001b[0mfunc\u001b[0m\u001b[1;33m,\u001b[0m\u001b[1;33m\u001b[0m\u001b[1;33m\u001b[0m\u001b[0m\n",
      "\u001b[1;32m~\\.conda\\envs\\nlp\\lib\\site-packages\\optuna\\study\\_optimize.py\u001b[0m in \u001b[0;36m_optimize\u001b[1;34m(study, func, n_trials, timeout, n_jobs, catch, callbacks, gc_after_trial, show_progress_bar)\u001b[0m\n\u001b[0;32m     64\u001b[0m     \u001b[1;32mtry\u001b[0m\u001b[1;33m:\u001b[0m\u001b[1;33m\u001b[0m\u001b[1;33m\u001b[0m\u001b[0m\n\u001b[0;32m     65\u001b[0m         \u001b[1;32mif\u001b[0m \u001b[0mn_jobs\u001b[0m \u001b[1;33m==\u001b[0m \u001b[1;36m1\u001b[0m\u001b[1;33m:\u001b[0m\u001b[1;33m\u001b[0m\u001b[1;33m\u001b[0m\u001b[0m\n\u001b[1;32m---> 66\u001b[1;33m             _optimize_sequential(\n\u001b[0m\u001b[0;32m     67\u001b[0m                 \u001b[0mstudy\u001b[0m\u001b[1;33m,\u001b[0m\u001b[1;33m\u001b[0m\u001b[1;33m\u001b[0m\u001b[0m\n\u001b[0;32m     68\u001b[0m                 \u001b[0mfunc\u001b[0m\u001b[1;33m,\u001b[0m\u001b[1;33m\u001b[0m\u001b[1;33m\u001b[0m\u001b[0m\n",
      "\u001b[1;32m~\\.conda\\envs\\nlp\\lib\\site-packages\\optuna\\study\\_optimize.py\u001b[0m in \u001b[0;36m_optimize_sequential\u001b[1;34m(study, func, n_trials, timeout, catch, callbacks, gc_after_trial, reseed_sampler_rng, time_start, progress_bar)\u001b[0m\n\u001b[0;32m    161\u001b[0m \u001b[1;33m\u001b[0m\u001b[0m\n\u001b[0;32m    162\u001b[0m         \u001b[1;32mtry\u001b[0m\u001b[1;33m:\u001b[0m\u001b[1;33m\u001b[0m\u001b[1;33m\u001b[0m\u001b[0m\n\u001b[1;32m--> 163\u001b[1;33m             \u001b[0mtrial\u001b[0m \u001b[1;33m=\u001b[0m \u001b[0m_run_trial\u001b[0m\u001b[1;33m(\u001b[0m\u001b[0mstudy\u001b[0m\u001b[1;33m,\u001b[0m \u001b[0mfunc\u001b[0m\u001b[1;33m,\u001b[0m \u001b[0mcatch\u001b[0m\u001b[1;33m)\u001b[0m\u001b[1;33m\u001b[0m\u001b[1;33m\u001b[0m\u001b[0m\n\u001b[0m\u001b[0;32m    164\u001b[0m         \u001b[1;32mexcept\u001b[0m \u001b[0mException\u001b[0m\u001b[1;33m:\u001b[0m\u001b[1;33m\u001b[0m\u001b[1;33m\u001b[0m\u001b[0m\n\u001b[0;32m    165\u001b[0m             \u001b[1;32mraise\u001b[0m\u001b[1;33m\u001b[0m\u001b[1;33m\u001b[0m\u001b[0m\n",
      "\u001b[1;32m~\\.conda\\envs\\nlp\\lib\\site-packages\\optuna\\study\\_optimize.py\u001b[0m in \u001b[0;36m_run_trial\u001b[1;34m(study, func, catch)\u001b[0m\n\u001b[0;32m    211\u001b[0m \u001b[1;33m\u001b[0m\u001b[0m\n\u001b[0;32m    212\u001b[0m     \u001b[1;32mtry\u001b[0m\u001b[1;33m:\u001b[0m\u001b[1;33m\u001b[0m\u001b[1;33m\u001b[0m\u001b[0m\n\u001b[1;32m--> 213\u001b[1;33m         \u001b[0mvalue_or_values\u001b[0m \u001b[1;33m=\u001b[0m \u001b[0mfunc\u001b[0m\u001b[1;33m(\u001b[0m\u001b[0mtrial\u001b[0m\u001b[1;33m)\u001b[0m\u001b[1;33m\u001b[0m\u001b[1;33m\u001b[0m\u001b[0m\n\u001b[0m\u001b[0;32m    214\u001b[0m     \u001b[1;32mexcept\u001b[0m \u001b[0mexceptions\u001b[0m\u001b[1;33m.\u001b[0m\u001b[0mTrialPruned\u001b[0m \u001b[1;32mas\u001b[0m \u001b[0me\u001b[0m\u001b[1;33m:\u001b[0m\u001b[1;33m\u001b[0m\u001b[1;33m\u001b[0m\u001b[0m\n\u001b[0;32m    215\u001b[0m         \u001b[1;31m# TODO(mamu): Handle multi-objective cases.\u001b[0m\u001b[1;33m\u001b[0m\u001b[1;33m\u001b[0m\u001b[1;33m\u001b[0m\u001b[0m\n",
      "\u001b[1;32m~\\AppData\\Local\\Temp/ipykernel_19872/1952399416.py\u001b[0m in \u001b[0;36mobjective\u001b[1;34m(trial)\u001b[0m\n\u001b[0;32m      5\u001b[0m     \u001b[0mdegree\u001b[0m \u001b[1;33m=\u001b[0m \u001b[0mtrial\u001b[0m\u001b[1;33m.\u001b[0m\u001b[0msuggest_int\u001b[0m\u001b[1;33m(\u001b[0m\u001b[1;34m\"degree\"\u001b[0m\u001b[1;33m,\u001b[0m \u001b[1;36m1\u001b[0m\u001b[1;33m,\u001b[0m \u001b[1;36m8\u001b[0m\u001b[1;33m)\u001b[0m\u001b[1;33m\u001b[0m\u001b[1;33m\u001b[0m\u001b[0m\n\u001b[0;32m      6\u001b[0m \u001b[1;33m\u001b[0m\u001b[0m\n\u001b[1;32m----> 7\u001b[1;33m     model = SVC(max_iter = 10000, C = regularization, \n\u001b[0m\u001b[0;32m      8\u001b[0m                 kernel = kernel, degree = degree).fit(X_train_tfidf, y_train)\n\u001b[0;32m      9\u001b[0m \u001b[1;33m\u001b[0m\u001b[0m\n",
      "\u001b[1;32m~\\.conda\\envs\\nlp\\lib\\site-packages\\sklearnex\\svm\\svc.py\u001b[0m in \u001b[0;36mfit\u001b[1;34m(self, X, y, sample_weight)\u001b[0m\n\u001b[0;32m     79\u001b[0m         \u001b[1;32mif\u001b[0m \u001b[0mLooseVersion\u001b[0m\u001b[1;33m(\u001b[0m\u001b[0msklearn_version\u001b[0m\u001b[1;33m)\u001b[0m \u001b[1;33m>=\u001b[0m \u001b[0mLooseVersion\u001b[0m\u001b[1;33m(\u001b[0m\u001b[1;34m\"1.0\"\u001b[0m\u001b[1;33m)\u001b[0m\u001b[1;33m:\u001b[0m\u001b[1;33m\u001b[0m\u001b[1;33m\u001b[0m\u001b[0m\n\u001b[0;32m     80\u001b[0m             \u001b[0mself\u001b[0m\u001b[1;33m.\u001b[0m\u001b[0m_check_feature_names\u001b[0m\u001b[1;33m(\u001b[0m\u001b[0mX\u001b[0m\u001b[1;33m,\u001b[0m \u001b[0mreset\u001b[0m\u001b[1;33m=\u001b[0m\u001b[1;32mTrue\u001b[0m\u001b[1;33m)\u001b[0m\u001b[1;33m\u001b[0m\u001b[1;33m\u001b[0m\u001b[0m\n\u001b[1;32m---> 81\u001b[1;33m         dispatch(self, 'svm.SVC.fit', {\n\u001b[0m\u001b[0;32m     82\u001b[0m             \u001b[1;34m'onedal'\u001b[0m\u001b[1;33m:\u001b[0m \u001b[0mself\u001b[0m\u001b[1;33m.\u001b[0m\u001b[0m__class__\u001b[0m\u001b[1;33m.\u001b[0m\u001b[0m_onedal_fit\u001b[0m\u001b[1;33m,\u001b[0m\u001b[1;33m\u001b[0m\u001b[1;33m\u001b[0m\u001b[0m\n\u001b[0;32m     83\u001b[0m             \u001b[1;34m'sklearn'\u001b[0m\u001b[1;33m:\u001b[0m \u001b[0msklearn_SVC\u001b[0m\u001b[1;33m.\u001b[0m\u001b[0mfit\u001b[0m\u001b[1;33m,\u001b[0m\u001b[1;33m\u001b[0m\u001b[1;33m\u001b[0m\u001b[0m\n",
      "\u001b[1;32m~\\.conda\\envs\\nlp\\lib\\site-packages\\sklearnex\\_device_offload.py\u001b[0m in \u001b[0;36mdispatch\u001b[1;34m(obj, method_name, branches, *args, **kwargs)\u001b[0m\n\u001b[0;32m    151\u001b[0m     \u001b[0mlogging\u001b[0m\u001b[1;33m.\u001b[0m\u001b[0minfo\u001b[0m\u001b[1;33m(\u001b[0m\u001b[1;34mf\"sklearn.{method_name}: {get_patch_message(backend, q)}\"\u001b[0m\u001b[1;33m)\u001b[0m\u001b[1;33m\u001b[0m\u001b[1;33m\u001b[0m\u001b[0m\n\u001b[0;32m    152\u001b[0m     \u001b[1;32mif\u001b[0m \u001b[0mbackend\u001b[0m \u001b[1;33m==\u001b[0m \u001b[1;34m'onedal'\u001b[0m\u001b[1;33m:\u001b[0m\u001b[1;33m\u001b[0m\u001b[1;33m\u001b[0m\u001b[0m\n\u001b[1;32m--> 153\u001b[1;33m         \u001b[1;32mreturn\u001b[0m \u001b[0mbranches\u001b[0m\u001b[1;33m[\u001b[0m\u001b[0mbackend\u001b[0m\u001b[1;33m]\u001b[0m\u001b[1;33m(\u001b[0m\u001b[0mobj\u001b[0m\u001b[1;33m,\u001b[0m \u001b[1;33m*\u001b[0m\u001b[0mhostargs\u001b[0m\u001b[1;33m,\u001b[0m \u001b[1;33m**\u001b[0m\u001b[0mhostkwargs\u001b[0m\u001b[1;33m,\u001b[0m \u001b[0mqueue\u001b[0m\u001b[1;33m=\u001b[0m\u001b[0mq\u001b[0m\u001b[1;33m)\u001b[0m\u001b[1;33m\u001b[0m\u001b[1;33m\u001b[0m\u001b[0m\n\u001b[0m\u001b[0;32m    154\u001b[0m     \u001b[1;32mif\u001b[0m \u001b[0mbackend\u001b[0m \u001b[1;33m==\u001b[0m \u001b[1;34m'sklearn'\u001b[0m\u001b[1;33m:\u001b[0m\u001b[1;33m\u001b[0m\u001b[1;33m\u001b[0m\u001b[0m\n\u001b[0;32m    155\u001b[0m         \u001b[1;32mreturn\u001b[0m \u001b[0mbranches\u001b[0m\u001b[1;33m[\u001b[0m\u001b[0mbackend\u001b[0m\u001b[1;33m]\u001b[0m\u001b[1;33m(\u001b[0m\u001b[0mobj\u001b[0m\u001b[1;33m,\u001b[0m \u001b[1;33m*\u001b[0m\u001b[0mhostargs\u001b[0m\u001b[1;33m,\u001b[0m \u001b[1;33m**\u001b[0m\u001b[0mhostkwargs\u001b[0m\u001b[1;33m)\u001b[0m\u001b[1;33m\u001b[0m\u001b[1;33m\u001b[0m\u001b[0m\n",
      "\u001b[1;32m~\\.conda\\envs\\nlp\\lib\\site-packages\\sklearnex\\svm\\svc.py\u001b[0m in \u001b[0;36m_onedal_fit\u001b[1;34m(self, X, y, sample_weight, queue)\u001b[0m\n\u001b[0;32m    206\u001b[0m \u001b[1;33m\u001b[0m\u001b[0m\n\u001b[0;32m    207\u001b[0m         \u001b[0mself\u001b[0m\u001b[1;33m.\u001b[0m\u001b[0m_onedal_estimator\u001b[0m \u001b[1;33m=\u001b[0m \u001b[0monedal_SVC\u001b[0m\u001b[1;33m(\u001b[0m\u001b[1;33m**\u001b[0m\u001b[0monedal_params\u001b[0m\u001b[1;33m)\u001b[0m\u001b[1;33m\u001b[0m\u001b[1;33m\u001b[0m\u001b[0m\n\u001b[1;32m--> 208\u001b[1;33m         \u001b[0mself\u001b[0m\u001b[1;33m.\u001b[0m\u001b[0m_onedal_estimator\u001b[0m\u001b[1;33m.\u001b[0m\u001b[0mfit\u001b[0m\u001b[1;33m(\u001b[0m\u001b[0mX\u001b[0m\u001b[1;33m,\u001b[0m \u001b[0my\u001b[0m\u001b[1;33m,\u001b[0m \u001b[0msample_weight\u001b[0m\u001b[1;33m,\u001b[0m \u001b[0mqueue\u001b[0m\u001b[1;33m=\u001b[0m\u001b[0mqueue\u001b[0m\u001b[1;33m)\u001b[0m\u001b[1;33m\u001b[0m\u001b[1;33m\u001b[0m\u001b[0m\n\u001b[0m\u001b[0;32m    209\u001b[0m \u001b[1;33m\u001b[0m\u001b[0m\n\u001b[0;32m    210\u001b[0m         \u001b[1;32mif\u001b[0m \u001b[0mself\u001b[0m\u001b[1;33m.\u001b[0m\u001b[0mclass_weight\u001b[0m \u001b[1;33m==\u001b[0m \u001b[1;34m'balanced'\u001b[0m\u001b[1;33m:\u001b[0m\u001b[1;33m\u001b[0m\u001b[1;33m\u001b[0m\u001b[0m\n",
      "\u001b[1;32m~\\.conda\\envs\\nlp\\lib\\site-packages\\onedal\\svm\\svm.py\u001b[0m in \u001b[0;36mfit\u001b[1;34m(self, X, y, sample_weight, queue)\u001b[0m\n\u001b[0;32m    392\u001b[0m \u001b[1;33m\u001b[0m\u001b[0m\n\u001b[0;32m    393\u001b[0m     \u001b[1;32mdef\u001b[0m \u001b[0mfit\u001b[0m\u001b[1;33m(\u001b[0m\u001b[0mself\u001b[0m\u001b[1;33m,\u001b[0m \u001b[0mX\u001b[0m\u001b[1;33m,\u001b[0m \u001b[0my\u001b[0m\u001b[1;33m,\u001b[0m \u001b[0msample_weight\u001b[0m\u001b[1;33m=\u001b[0m\u001b[1;32mNone\u001b[0m\u001b[1;33m,\u001b[0m \u001b[0mqueue\u001b[0m\u001b[1;33m=\u001b[0m\u001b[1;32mNone\u001b[0m\u001b[1;33m)\u001b[0m\u001b[1;33m:\u001b[0m\u001b[1;33m\u001b[0m\u001b[1;33m\u001b[0m\u001b[0m\n\u001b[1;32m--> 394\u001b[1;33m         \u001b[1;32mreturn\u001b[0m \u001b[0msuper\u001b[0m\u001b[1;33m(\u001b[0m\u001b[1;33m)\u001b[0m\u001b[1;33m.\u001b[0m\u001b[0m_fit\u001b[0m\u001b[1;33m(\u001b[0m\u001b[0mX\u001b[0m\u001b[1;33m,\u001b[0m \u001b[0my\u001b[0m\u001b[1;33m,\u001b[0m \u001b[0msample_weight\u001b[0m\u001b[1;33m,\u001b[0m \u001b[0m_backend\u001b[0m\u001b[1;33m.\u001b[0m\u001b[0msvm\u001b[0m\u001b[1;33m.\u001b[0m\u001b[0mclassification\u001b[0m\u001b[1;33m,\u001b[0m \u001b[0mqueue\u001b[0m\u001b[1;33m)\u001b[0m\u001b[1;33m\u001b[0m\u001b[1;33m\u001b[0m\u001b[0m\n\u001b[0m\u001b[0;32m    395\u001b[0m \u001b[1;33m\u001b[0m\u001b[0m\n\u001b[0;32m    396\u001b[0m     \u001b[1;32mdef\u001b[0m \u001b[0mpredict\u001b[0m\u001b[1;33m(\u001b[0m\u001b[0mself\u001b[0m\u001b[1;33m,\u001b[0m \u001b[0mX\u001b[0m\u001b[1;33m,\u001b[0m \u001b[0mqueue\u001b[0m\u001b[1;33m=\u001b[0m\u001b[1;32mNone\u001b[0m\u001b[1;33m)\u001b[0m\u001b[1;33m:\u001b[0m\u001b[1;33m\u001b[0m\u001b[1;33m\u001b[0m\u001b[0m\n",
      "\u001b[1;32m~\\.conda\\envs\\nlp\\lib\\site-packages\\onedal\\svm\\svm.py\u001b[0m in \u001b[0;36m_fit\u001b[1;34m(self, X, y, sample_weight, module, queue)\u001b[0m\n\u001b[0;32m    210\u001b[0m         \u001b[0mresult\u001b[0m \u001b[1;33m=\u001b[0m \u001b[0mmodule\u001b[0m\u001b[1;33m.\u001b[0m\u001b[0mtrain\u001b[0m\u001b[1;33m(\u001b[0m\u001b[0mpolicy\u001b[0m\u001b[1;33m,\u001b[0m \u001b[0mparams\u001b[0m\u001b[1;33m,\u001b[0m \u001b[1;33m*\u001b[0m\u001b[0mto_table\u001b[0m\u001b[1;33m(\u001b[0m\u001b[0mX\u001b[0m\u001b[1;33m,\u001b[0m \u001b[0my\u001b[0m\u001b[1;33m,\u001b[0m \u001b[0msample_weight\u001b[0m\u001b[1;33m)\u001b[0m\u001b[1;33m)\u001b[0m\u001b[1;33m\u001b[0m\u001b[1;33m\u001b[0m\u001b[0m\n\u001b[0;32m    211\u001b[0m \u001b[1;33m\u001b[0m\u001b[0m\n\u001b[1;32m--> 212\u001b[1;33m         \u001b[1;32mif\u001b[0m \u001b[0mself\u001b[0m\u001b[1;33m.\u001b[0m\u001b[0m_sparse\u001b[0m\u001b[1;33m:\u001b[0m\u001b[1;33m\u001b[0m\u001b[1;33m\u001b[0m\u001b[0m\n\u001b[0m\u001b[0;32m    213\u001b[0m             \u001b[0mself\u001b[0m\u001b[1;33m.\u001b[0m\u001b[0mdual_coef_\u001b[0m \u001b[1;33m=\u001b[0m \u001b[0msp\u001b[0m\u001b[1;33m.\u001b[0m\u001b[0mcsr_matrix\u001b[0m\u001b[1;33m(\u001b[0m\u001b[0mfrom_table\u001b[0m\u001b[1;33m(\u001b[0m\u001b[0mresult\u001b[0m\u001b[1;33m.\u001b[0m\u001b[0mcoeffs\u001b[0m\u001b[1;33m)\u001b[0m\u001b[1;33m.\u001b[0m\u001b[0mT\u001b[0m\u001b[1;33m)\u001b[0m\u001b[1;33m\u001b[0m\u001b[1;33m\u001b[0m\u001b[0m\n\u001b[0;32m    214\u001b[0m             \u001b[0mself\u001b[0m\u001b[1;33m.\u001b[0m\u001b[0msupport_vectors_\u001b[0m \u001b[1;33m=\u001b[0m \u001b[0msp\u001b[0m\u001b[1;33m.\u001b[0m\u001b[0mcsr_matrix\u001b[0m\u001b[1;33m(\u001b[0m\u001b[0mfrom_table\u001b[0m\u001b[1;33m(\u001b[0m\u001b[0mresult\u001b[0m\u001b[1;33m.\u001b[0m\u001b[0msupport_vectors\u001b[0m\u001b[1;33m)\u001b[0m\u001b[1;33m)\u001b[0m\u001b[1;33m\u001b[0m\u001b[1;33m\u001b[0m\u001b[0m\n",
      "\u001b[1;31mKeyboardInterrupt\u001b[0m: "
     ]
    }
   ],
   "source": [
    "# tfidf optimization\n",
    "def objective(trial): \n",
    "    kernels = [\"linear\", \"poly\", \"rbf\", \"sigmoid\"]\n",
    "    kernel = trial.suggest_categorical(\"kernel\", kernels)\n",
    "    regularization = trial.suggest_float(\"regularization\", 0, 1)\n",
    "    degree = trial.suggest_int(\"degree\", 1, 8)\n",
    "    \n",
    "    model = SVC(max_iter = 10000, C = regularization, \n",
    "                kernel = kernel, degree = degree).fit(X_train_tfidf, y_train)\n",
    "    \n",
    "    y_pred = model.predict(X_val_tfidf)\n",
    "    return accuracy(y_val, y_pred)\n",
    "\n",
    "study = optuna.create_study(study_name = \"SVC_Accuracy\", direction = \"maximize\")\n",
    "study.optimize(objective, n_trials = 35)\n",
    "print(study.best_trial)\n"
   ]
  },
  {
   "cell_type": "code",
   "execution_count": 207,
   "id": "fcf3ff8b",
   "metadata": {},
   "outputs": [
    {
     "name": "stdout",
     "output_type": "stream",
     "text": [
      "              precision    recall  f1-score   support\n",
      "\n",
      "           0       0.63      0.61      0.62      1020\n",
      "           1       0.92      0.86      0.89      1103\n",
      "           2       0.96      0.96      0.96      1194\n",
      "           3       0.61      0.66      0.64       827\n",
      "           4       0.95      0.98      0.96      1198\n",
      "           5       0.97      0.96      0.96      1070\n",
      "\n",
      "    accuracy                           0.85      6412\n",
      "   macro avg       0.84      0.84      0.84      6412\n",
      "weighted avg       0.85      0.85      0.85      6412\n",
      "\n",
      "0.8523081721771678\n"
     ]
    }
   ],
   "source": [
    "model = SVC(max_iter = 10000, C = 0.9775672385207569, \n",
    "                kernel = \"sigmoid\").fit(X_train_tfidf, y_train)\n",
    "\n",
    "y_pred = model.predict(X_test_tfidf)\n",
    "\n",
    "print(classification_report(y_test, y_pred))\n",
    "print(accuracy(y_test, y_pred))"
   ]
  },
  {
   "cell_type": "code",
   "execution_count": 208,
   "id": "b6f896b4",
   "metadata": {},
   "outputs": [
    {
     "name": "stdout",
     "output_type": "stream",
     "text": [
      "              precision    recall  f1-score   support\n",
      "\n",
      "           1       0.94      0.90      0.92      1513\n",
      "           2       0.99      0.96      0.98      1597\n",
      "           3       0.81      0.91      0.86      1091\n",
      "           4       0.99      0.99      0.99      1556\n",
      "           5       0.98      0.98      0.98      1475\n",
      "\n",
      "    accuracy                           0.95      7232\n",
      "   macro avg       0.94      0.95      0.94      7232\n",
      "weighted avg       0.95      0.95      0.95      7232\n",
      "\n",
      "0.9491150442477876\n"
     ]
    }
   ],
   "source": [
    "#5 class classification for fun \n",
    "df5 = df_unduped[df_unduped.y != 0].copy()\n",
    "\n",
    "tweets = df5.tweet_text.copy()\n",
    "tweets = tweets.apply(remove_punctuation)\n",
    "tweets = to_lowercase(tweets)\n",
    "\n",
    "X_train, X_test, y_train, y_test = train_test_split(tweets, df5.y, test_size=0.20, random_state=42)\n",
    "\n",
    "vectorizer = CountVectorizer(stop_words='english', ngram_range=(1,1))\n",
    "vectorizer.fit(X_train)\n",
    "\n",
    "X_train_bow = vectorizer.transform(X_train)\n",
    "X_test_bow = vectorizer.transform(X_test)\n",
    "\n",
    "model = SVC(max_iter = 10000, C = 0.1497481394334123, \n",
    "            kernel = \"linear\").fit(X_train_bow, y_train)\n",
    "\n",
    "y_pred = model.predict(X_test_bow)\n",
    "\n",
    "\n",
    "print(classification_report(y_test, y_pred))\n",
    "print(accuracy(y_test, y_pred))"
   ]
  },
  {
   "cell_type": "code",
   "execution_count": 209,
   "id": "8081c6db",
   "metadata": {},
   "outputs": [
    {
     "name": "stderr",
     "output_type": "stream",
     "text": [
      "C:\\Users\\Ayush\\.conda\\envs\\nlp\\lib\\site-packages\\sklearn\\feature_extraction\\text.py:516: UserWarning: The parameter 'token_pattern' will not be used since 'tokenizer' is not None'\n",
      "  warnings.warn(\n"
     ]
    },
    {
     "name": "stdout",
     "output_type": "stream",
     "text": [
      "Input Dimensionality\n",
      "(28927, 48609)\n",
      "(7232, 48609)\n",
      "\n",
      "BOW Embedding Classification Report\n",
      "              precision    recall  f1-score   support\n",
      "\n",
      "           1       0.94      0.91      0.92      1513\n",
      "           2       0.99      0.97      0.98      1597\n",
      "           3       0.83      0.91      0.87      1091\n",
      "           4       0.99      0.99      0.99      1556\n",
      "           5       0.99      0.98      0.98      1475\n",
      "\n",
      "    accuracy                           0.95      7232\n",
      "   macro avg       0.95      0.95      0.95      7232\n",
      "weighted avg       0.96      0.95      0.95      7232\n",
      "\n",
      "0.9535398230088495\n",
      "\n",
      "TF-IDF Embedding Classification Report\n",
      "              precision    recall  f1-score   support\n",
      "\n",
      "           1       0.94      0.90      0.92      1513\n",
      "           2       0.97      0.98      0.97      1597\n",
      "           3       0.84      0.86      0.85      1091\n",
      "           4       0.99      0.99      0.99      1556\n",
      "           5       0.97      0.98      0.98      1475\n",
      "\n",
      "    accuracy                           0.95      7232\n",
      "   macro avg       0.94      0.94      0.94      7232\n",
      "weighted avg       0.95      0.95      0.95      7232\n",
      "\n",
      "0.9473174778761062\n"
     ]
    }
   ],
   "source": [
    "test_preprocess(tweets, df5.y)"
   ]
  },
  {
   "cell_type": "code",
   "execution_count": 41,
   "id": "21741209",
   "metadata": {
    "scrolled": true
   },
   "outputs": [
    {
     "name": "stderr",
     "output_type": "stream",
     "text": [
      "\u001b[32m[I 2022-04-03 23:27:48,977]\u001b[0m A new study created in memory with name: XGB_BOW\u001b[0m\n"
     ]
    },
    {
     "name": "stdout",
     "output_type": "stream",
     "text": [
      "[23:27:49] WARNING: C:/Users/Administrator/workspace/xgboost-win64_release_1.5.1/src/learner.cc:1115: Starting in XGBoost 1.3.0, the default evaluation metric used with the objective 'multi:softprob' was changed from 'merror' to 'mlogloss'. Explicitly set eval_metric if you'd like to restore the old behavior.\n"
     ]
    },
    {
     "name": "stderr",
     "output_type": "stream",
     "text": [
      "\u001b[32m[I 2022-04-03 23:27:59,506]\u001b[0m Trial 0 finished with value: 0.9487145682267634 and parameters: {'eta': 0.5293444530559384, 'max_depth': 6, 'booster': 'gbtree', 'lambda': 0.005002242517786541, 'alpha': 0.0002638537621423466}. Best is trial 0 with value: 0.9487145682267634.\u001b[0m\n"
     ]
    },
    {
     "name": "stdout",
     "output_type": "stream",
     "text": [
      "[23:27:59] WARNING: C:/Users/Administrator/workspace/xgboost-win64_release_1.5.1/src/learner.cc:1115: Starting in XGBoost 1.3.0, the default evaluation metric used with the objective 'multi:softprob' was changed from 'merror' to 'mlogloss'. Explicitly set eval_metric if you'd like to restore the old behavior.\n"
     ]
    },
    {
     "name": "stderr",
     "output_type": "stream",
     "text": [
      "\u001b[32m[I 2022-04-03 23:30:22,020]\u001b[0m Trial 1 finished with value: 0.9075807514831905 and parameters: {'eta': 0.02635201034638823, 'max_depth': 4, 'booster': 'dart', 'lambda': 7.733056107376065e-05, 'alpha': 1.896717902418352e-05}. Best is trial 0 with value: 0.9487145682267634.\u001b[0m\n"
     ]
    },
    {
     "name": "stdout",
     "output_type": "stream",
     "text": [
      "[23:30:22] WARNING: C:/Users/Administrator/workspace/xgboost-win64_release_1.5.1/src/learner.cc:1115: Starting in XGBoost 1.3.0, the default evaluation metric used with the objective 'multi:softprob' was changed from 'merror' to 'mlogloss'. Explicitly set eval_metric if you'd like to restore the old behavior.\n"
     ]
    },
    {
     "name": "stderr",
     "output_type": "stream",
     "text": [
      "\u001b[32m[I 2022-04-03 23:32:45,383]\u001b[0m Trial 2 finished with value: 0.9256427158866183 and parameters: {'eta': 0.029650190013363654, 'max_depth': 5, 'booster': 'dart', 'lambda': 8.594159869737661e-07, 'alpha': 0.006503382841432376}. Best is trial 0 with value: 0.9487145682267634.\u001b[0m\n"
     ]
    },
    {
     "name": "stdout",
     "output_type": "stream",
     "text": [
      "[23:32:45] WARNING: C:/Users/Administrator/workspace/xgboost-win64_release_1.5.1/src/learner.cc:1115: Starting in XGBoost 1.3.0, the default evaluation metric used with the objective 'multi:softprob' was changed from 'merror' to 'mlogloss'. Explicitly set eval_metric if you'd like to restore the old behavior.\n"
     ]
    },
    {
     "name": "stderr",
     "output_type": "stream",
     "text": [
      "\u001b[32m[I 2022-04-03 23:33:01,796]\u001b[0m Trial 3 finished with value: 0.9496374423203692 and parameters: {'eta': 0.33319914000038775, 'max_depth': 5, 'booster': 'gbtree', 'lambda': 1.2857402392682096e-07, 'alpha': 1.1979831251684171e-06}. Best is trial 3 with value: 0.9496374423203692.\u001b[0m\n"
     ]
    },
    {
     "name": "stdout",
     "output_type": "stream",
     "text": [
      "[23:33:01] WARNING: C:/Users/Administrator/workspace/xgboost-win64_release_1.5.1/src/learner.cc:1115: Starting in XGBoost 1.3.0, the default evaluation metric used with the objective 'multi:softprob' was changed from 'merror' to 'mlogloss'. Explicitly set eval_metric if you'd like to restore the old behavior.\n"
     ]
    },
    {
     "name": "stderr",
     "output_type": "stream",
     "text": [
      "\u001b[32m[I 2022-04-03 23:35:39,032]\u001b[0m Trial 4 finished with value: 0.8792353328938695 and parameters: {'eta': 0.005377546899876908, 'max_depth': 4, 'booster': 'dart', 'lambda': 5.86442607625666e-06, 'alpha': 0.5542795950691839}. Best is trial 3 with value: 0.9496374423203692.\u001b[0m\n"
     ]
    },
    {
     "name": "stdout",
     "output_type": "stream",
     "text": [
      "[23:35:39] WARNING: C:/Users/Administrator/workspace/xgboost-win64_release_1.5.1/src/learner.cc:1115: Starting in XGBoost 1.3.0, the default evaluation metric used with the objective 'multi:softprob' was changed from 'merror' to 'mlogloss'. Explicitly set eval_metric if you'd like to restore the old behavior.\n"
     ]
    },
    {
     "name": "stderr",
     "output_type": "stream",
     "text": [
      "\u001b[32m[I 2022-04-03 23:38:17,867]\u001b[0m Trial 5 finished with value: 0.8884640738299275 and parameters: {'eta': 0.013685722248150416, 'max_depth': 4, 'booster': 'dart', 'lambda': 0.006700079754552006, 'alpha': 9.196342662220277e-06}. Best is trial 3 with value: 0.9496374423203692.\u001b[0m\n"
     ]
    },
    {
     "name": "stdout",
     "output_type": "stream",
     "text": [
      "[23:38:17] WARNING: C:/Users/Administrator/workspace/xgboost-win64_release_1.5.1/src/learner.cc:1115: Starting in XGBoost 1.3.0, the default evaluation metric used with the objective 'multi:softprob' was changed from 'merror' to 'mlogloss'. Explicitly set eval_metric if you'd like to restore the old behavior.\n"
     ]
    },
    {
     "name": "stderr",
     "output_type": "stream",
     "text": [
      "\u001b[32m[I 2022-04-03 23:40:27,740]\u001b[0m Trial 6 finished with value: 0.9025708635464733 and parameters: {'eta': 0.04518003123755289, 'max_depth': 2, 'booster': 'dart', 'lambda': 0.003152800583371801, 'alpha': 3.038676920471188e-08}. Best is trial 3 with value: 0.9496374423203692.\u001b[0m\n"
     ]
    },
    {
     "name": "stdout",
     "output_type": "stream",
     "text": [
      "[23:40:27] WARNING: C:/Users/Administrator/workspace/xgboost-win64_release_1.5.1/src/learner.cc:1115: Starting in XGBoost 1.3.0, the default evaluation metric used with the objective 'multi:softprob' was changed from 'merror' to 'mlogloss'. Explicitly set eval_metric if you'd like to restore the old behavior.\n"
     ]
    },
    {
     "name": "stderr",
     "output_type": "stream",
     "text": [
      "\u001b[32m[I 2022-04-03 23:40:44,374]\u001b[0m Trial 7 finished with value: 0.9443638760711931 and parameters: {'eta': 0.12682619867144496, 'max_depth': 5, 'booster': 'gbtree', 'lambda': 0.08287810662123078, 'alpha': 0.001287768142096016}. Best is trial 3 with value: 0.9496374423203692.\u001b[0m\n"
     ]
    },
    {
     "name": "stdout",
     "output_type": "stream",
     "text": [
      "[23:40:44] WARNING: C:/Users/Administrator/workspace/xgboost-win64_release_1.5.1/src/learner.cc:1115: Starting in XGBoost 1.3.0, the default evaluation metric used with the objective 'multi:softprob' was changed from 'merror' to 'mlogloss'. Explicitly set eval_metric if you'd like to restore the old behavior.\n"
     ]
    },
    {
     "name": "stderr",
     "output_type": "stream",
     "text": [
      "\u001b[32m[I 2022-04-03 23:43:14,562]\u001b[0m Trial 8 finished with value: 0.8849044166117337 and parameters: {'eta': 0.0034118366154890964, 'max_depth': 5, 'booster': 'dart', 'lambda': 2.8315056115823626e-05, 'alpha': 5.525435214613885e-06}. Best is trial 3 with value: 0.9496374423203692.\u001b[0m\n"
     ]
    },
    {
     "name": "stdout",
     "output_type": "stream",
     "text": [
      "[23:43:14] WARNING: C:/Users/Administrator/workspace/xgboost-win64_release_1.5.1/src/learner.cc:1115: Starting in XGBoost 1.3.0, the default evaluation metric used with the objective 'multi:softprob' was changed from 'merror' to 'mlogloss'. Explicitly set eval_metric if you'd like to restore the old behavior.\n"
     ]
    },
    {
     "name": "stderr",
     "output_type": "stream",
     "text": [
      "\u001b[32m[I 2022-04-03 23:43:29,382]\u001b[0m Trial 9 finished with value: 0.864601186552406 and parameters: {'eta': 0.0017126146743608461, 'max_depth': 4, 'booster': 'gbtree', 'lambda': 1.1997955183916418e-06, 'alpha': 7.330148107112337e-08}. Best is trial 3 with value: 0.9496374423203692.\u001b[0m\n"
     ]
    },
    {
     "name": "stdout",
     "output_type": "stream",
     "text": [
      "[23:43:29] WARNING: C:/Users/Administrator/workspace/xgboost-win64_release_1.5.1/src/learner.cc:1115: Starting in XGBoost 1.3.0, the default evaluation metric used with the objective 'multi:softprob' was changed from 'merror' to 'mlogloss'. Explicitly set eval_metric if you'd like to restore the old behavior.\n"
     ]
    },
    {
     "name": "stderr",
     "output_type": "stream",
     "text": [
      "\u001b[32m[I 2022-04-03 23:43:36,862]\u001b[0m Trial 10 finished with value: 0.9488464073829928 and parameters: {'eta': 0.9498388407192376, 'max_depth': 2, 'booster': 'gbtree', 'lambda': 1.8732631938428045e-08, 'alpha': 3.3701023622866717e-07}. Best is trial 3 with value: 0.9496374423203692.\u001b[0m\n"
     ]
    },
    {
     "name": "stdout",
     "output_type": "stream",
     "text": [
      "[23:43:36] WARNING: C:/Users/Administrator/workspace/xgboost-win64_release_1.5.1/src/learner.cc:1115: Starting in XGBoost 1.3.0, the default evaluation metric used with the objective 'multi:softprob' was changed from 'merror' to 'mlogloss'. Explicitly set eval_metric if you'd like to restore the old behavior.\n"
     ]
    },
    {
     "name": "stderr",
     "output_type": "stream",
     "text": [
      "\u001b[32m[I 2022-04-03 23:43:44,593]\u001b[0m Trial 11 finished with value: 0.9489782465392221 and parameters: {'eta': 0.8793882822847198, 'max_depth': 2, 'booster': 'gbtree', 'lambda': 1.0726480613977507e-08, 'alpha': 4.4412708727235314e-07}. Best is trial 3 with value: 0.9496374423203692.\u001b[0m\n"
     ]
    },
    {
     "name": "stdout",
     "output_type": "stream",
     "text": [
      "[23:43:44] WARNING: C:/Users/Administrator/workspace/xgboost-win64_release_1.5.1/src/learner.cc:1115: Starting in XGBoost 1.3.0, the default evaluation metric used with the objective 'multi:softprob' was changed from 'merror' to 'mlogloss'. Explicitly set eval_metric if you'd like to restore the old behavior.\n"
     ]
    },
    {
     "name": "stderr",
     "output_type": "stream",
     "text": [
      "\u001b[32m[I 2022-04-03 23:43:53,792]\u001b[0m Trial 12 finished with value: 0.9464733025708636 and parameters: {'eta': 0.31037979379658265, 'max_depth': 3, 'booster': 'gbtree', 'lambda': 1.255226523067173e-08, 'alpha': 1.0284867530543813e-06}. Best is trial 3 with value: 0.9496374423203692.\u001b[0m\n"
     ]
    },
    {
     "name": "stdout",
     "output_type": "stream",
     "text": [
      "[23:43:53] WARNING: C:/Users/Administrator/workspace/xgboost-win64_release_1.5.1/src/learner.cc:1115: Starting in XGBoost 1.3.0, the default evaluation metric used with the objective 'multi:softprob' was changed from 'merror' to 'mlogloss'. Explicitly set eval_metric if you'd like to restore the old behavior.\n"
     ]
    },
    {
     "name": "stderr",
     "output_type": "stream",
     "text": [
      "\u001b[32m[I 2022-04-03 23:44:10,737]\u001b[0m Trial 13 finished with value: 0.9475280158206988 and parameters: {'eta': 0.16986867787422005, 'max_depth': 6, 'booster': 'gbtree', 'lambda': 1.5069862955859506e-07, 'alpha': 6.685674270128831e-07}. Best is trial 3 with value: 0.9496374423203692.\u001b[0m\n"
     ]
    },
    {
     "name": "stdout",
     "output_type": "stream",
     "text": [
      "[23:44:10] WARNING: C:/Users/Administrator/workspace/xgboost-win64_release_1.5.1/src/learner.cc:1115: Starting in XGBoost 1.3.0, the default evaluation metric used with the objective 'multi:softprob' was changed from 'merror' to 'mlogloss'. Explicitly set eval_metric if you'd like to restore the old behavior.\n"
     ]
    },
    {
     "name": "stderr",
     "output_type": "stream",
     "text": [
      "\u001b[32m[I 2022-04-03 23:44:20,005]\u001b[0m Trial 14 finished with value: 0.946605141727093 and parameters: {'eta': 0.9357504987823672, 'max_depth': 3, 'booster': 'gbtree', 'lambda': 1.4862899454439782e-07, 'alpha': 3.009983189228429e-08}. Best is trial 3 with value: 0.9496374423203692.\u001b[0m\n"
     ]
    },
    {
     "name": "stdout",
     "output_type": "stream",
     "text": [
      "[23:44:20] WARNING: C:/Users/Administrator/workspace/xgboost-win64_release_1.5.1/src/learner.cc:1115: Starting in XGBoost 1.3.0, the default evaluation metric used with the objective 'multi:softprob' was changed from 'merror' to 'mlogloss'. Explicitly set eval_metric if you'd like to restore the old behavior.\n"
     ]
    },
    {
     "name": "stderr",
     "output_type": "stream",
     "text": [
      "\u001b[32m[I 2022-04-03 23:44:28,859]\u001b[0m Trial 15 finished with value: 0.9380355965721819 and parameters: {'eta': 0.13750181631927524, 'max_depth': 3, 'booster': 'gbtree', 'lambda': 9.933889513538031e-08, 'alpha': 5.9801451650092054e-05}. Best is trial 3 with value: 0.9496374423203692.\u001b[0m\n"
     ]
    },
    {
     "name": "stdout",
     "output_type": "stream",
     "text": [
      "[23:44:28] WARNING: C:/Users/Administrator/workspace/xgboost-win64_release_1.5.1/src/learner.cc:1115: Starting in XGBoost 1.3.0, the default evaluation metric used with the objective 'multi:softprob' was changed from 'merror' to 'mlogloss'. Explicitly set eval_metric if you'd like to restore the old behavior.\n"
     ]
    },
    {
     "name": "stderr",
     "output_type": "stream",
     "text": [
      "\u001b[32m[I 2022-04-03 23:44:35,137]\u001b[0m Trial 16 finished with value: 0.9419907712590639 and parameters: {'eta': 0.3282861931101143, 'max_depth': 2, 'booster': 'gbtree', 'lambda': 3.3865199209432253e-06, 'alpha': 1.1014263353771845e-06}. Best is trial 3 with value: 0.9496374423203692.\u001b[0m\n"
     ]
    },
    {
     "name": "stdout",
     "output_type": "stream",
     "text": [
      "[23:44:35] WARNING: C:/Users/Administrator/workspace/xgboost-win64_release_1.5.1/src/learner.cc:1115: Starting in XGBoost 1.3.0, the default evaluation metric used with the objective 'multi:softprob' was changed from 'merror' to 'mlogloss'. Explicitly set eval_metric if you'd like to restore the old behavior.\n"
     ]
    },
    {
     "name": "stderr",
     "output_type": "stream",
     "text": [
      "\u001b[32m[I 2022-04-03 23:44:49,956]\u001b[0m Trial 17 finished with value: 0.9369808833223467 and parameters: {'eta': 0.06290582407722592, 'max_depth': 5, 'booster': 'gbtree', 'lambda': 1.601594483728543e-08, 'alpha': 0.05951015047164295}. Best is trial 3 with value: 0.9496374423203692.\u001b[0m\n"
     ]
    },
    {
     "name": "stdout",
     "output_type": "stream",
     "text": [
      "[23:44:50] WARNING: C:/Users/Administrator/workspace/xgboost-win64_release_1.5.1/src/learner.cc:1115: Starting in XGBoost 1.3.0, the default evaluation metric used with the objective 'multi:softprob' was changed from 'merror' to 'mlogloss'. Explicitly set eval_metric if you'd like to restore the old behavior.\n"
     ]
    },
    {
     "name": "stderr",
     "output_type": "stream",
     "text": [
      "\u001b[32m[I 2022-04-03 23:45:06,504]\u001b[0m Trial 18 finished with value: 0.9492419248516809 and parameters: {'eta': 0.3281728378888874, 'max_depth': 6, 'booster': 'gbtree', 'lambda': 0.0003346357048493421, 'alpha': 3.671282154005711e-06}. Best is trial 3 with value: 0.9496374423203692.\u001b[0m\n"
     ]
    },
    {
     "name": "stdout",
     "output_type": "stream",
     "text": [
      "[23:45:06] WARNING: C:/Users/Administrator/workspace/xgboost-win64_release_1.5.1/src/learner.cc:1115: Starting in XGBoost 1.3.0, the default evaluation metric used with the objective 'multi:softprob' was changed from 'merror' to 'mlogloss'. Explicitly set eval_metric if you'd like to restore the old behavior.\n"
     ]
    },
    {
     "name": "stderr",
     "output_type": "stream",
     "text": [
      "\u001b[32m[I 2022-04-03 23:45:24,121]\u001b[0m Trial 19 finished with value: 0.9422544495715227 and parameters: {'eta': 0.0783457717251996, 'max_depth': 6, 'booster': 'gbtree', 'lambda': 0.0007452003684557458, 'alpha': 0.0002739332766241533}. Best is trial 3 with value: 0.9496374423203692.\u001b[0m\n"
     ]
    },
    {
     "name": "stdout",
     "output_type": "stream",
     "text": [
      "[23:45:24] WARNING: C:/Users/Administrator/workspace/xgboost-win64_release_1.5.1/src/learner.cc:1115: Starting in XGBoost 1.3.0, the default evaluation metric used with the objective 'multi:softprob' was changed from 'merror' to 'mlogloss'. Explicitly set eval_metric if you'd like to restore the old behavior.\n"
     ]
    },
    {
     "name": "stderr",
     "output_type": "stream",
     "text": [
      "\u001b[32m[I 2022-04-03 23:45:40,983]\u001b[0m Trial 20 finished with value: 0.9496374423203692 and parameters: {'eta': 0.3158032914085565, 'max_depth': 6, 'booster': 'gbtree', 'lambda': 0.5848224745288046, 'alpha': 5.479733029656883e-06}. Best is trial 3 with value: 0.9496374423203692.\u001b[0m\n"
     ]
    },
    {
     "name": "stdout",
     "output_type": "stream",
     "text": [
      "[23:45:41] WARNING: C:/Users/Administrator/workspace/xgboost-win64_release_1.5.1/src/learner.cc:1115: Starting in XGBoost 1.3.0, the default evaluation metric used with the objective 'multi:softprob' was changed from 'merror' to 'mlogloss'. Explicitly set eval_metric if you'd like to restore the old behavior.\n"
     ]
    },
    {
     "name": "stderr",
     "output_type": "stream",
     "text": [
      "\u001b[32m[I 2022-04-03 23:45:57,196]\u001b[0m Trial 21 finished with value: 0.948582729070534 and parameters: {'eta': 0.29751726422737423, 'max_depth': 6, 'booster': 'gbtree', 'lambda': 0.44149711326008045, 'alpha': 4.655655093160101e-06}. Best is trial 3 with value: 0.9496374423203692.\u001b[0m\n"
     ]
    },
    {
     "name": "stdout",
     "output_type": "stream",
     "text": [
      "[23:45:57] WARNING: C:/Users/Administrator/workspace/xgboost-win64_release_1.5.1/src/learner.cc:1115: Starting in XGBoost 1.3.0, the default evaluation metric used with the objective 'multi:softprob' was changed from 'merror' to 'mlogloss'. Explicitly set eval_metric if you'd like to restore the old behavior.\n"
     ]
    },
    {
     "name": "stderr",
     "output_type": "stream",
     "text": [
      "\u001b[32m[I 2022-04-03 23:46:13,611]\u001b[0m Trial 22 finished with value: 0.9481872116018457 and parameters: {'eta': 0.2027924834849315, 'max_depth': 6, 'booster': 'gbtree', 'lambda': 0.04551115829670815, 'alpha': 7.415142371174771e-05}. Best is trial 3 with value: 0.9496374423203692.\u001b[0m\n"
     ]
    },
    {
     "name": "stdout",
     "output_type": "stream",
     "text": [
      "[23:46:13] WARNING: C:/Users/Administrator/workspace/xgboost-win64_release_1.5.1/src/learner.cc:1115: Starting in XGBoost 1.3.0, the default evaluation metric used with the objective 'multi:softprob' was changed from 'merror' to 'mlogloss'. Explicitly set eval_metric if you'd like to restore the old behavior.\n"
     ]
    },
    {
     "name": "stderr",
     "output_type": "stream",
     "text": [
      "\u001b[32m[I 2022-04-03 23:46:27,165]\u001b[0m Trial 23 finished with value: 0.9496374423203692 and parameters: {'eta': 0.49243567198363564, 'max_depth': 5, 'booster': 'gbtree', 'lambda': 0.0004543463180611569, 'alpha': 1.3165313409446607e-07}. Best is trial 3 with value: 0.9496374423203692.\u001b[0m\n"
     ]
    },
    {
     "name": "stdout",
     "output_type": "stream",
     "text": [
      "[23:46:27] WARNING: C:/Users/Administrator/workspace/xgboost-win64_release_1.5.1/src/learner.cc:1115: Starting in XGBoost 1.3.0, the default evaluation metric used with the objective 'multi:softprob' was changed from 'merror' to 'mlogloss'. Explicitly set eval_metric if you'd like to restore the old behavior.\n"
     ]
    },
    {
     "name": "stderr",
     "output_type": "stream",
     "text": [
      "\u001b[32m[I 2022-04-03 23:46:40,885]\u001b[0m Trial 24 finished with value: 0.9497692814765986 and parameters: {'eta': 0.4788779319905147, 'max_depth': 5, 'booster': 'gbtree', 'lambda': 1.894548829812116e-05, 'alpha': 1.0339558531114634e-07}. Best is trial 24 with value: 0.9497692814765986.\u001b[0m\n"
     ]
    },
    {
     "name": "stdout",
     "output_type": "stream",
     "text": [
      "[23:46:41] WARNING: C:/Users/Administrator/workspace/xgboost-win64_release_1.5.1/src/learner.cc:1115: Starting in XGBoost 1.3.0, the default evaluation metric used with the objective 'multi:softprob' was changed from 'merror' to 'mlogloss'. Explicitly set eval_metric if you'd like to restore the old behavior.\n"
     ]
    },
    {
     "name": "stderr",
     "output_type": "stream",
     "text": [
      "\u001b[32m[I 2022-04-03 23:46:55,299]\u001b[0m Trial 25 finished with value: 0.9404087013843111 and parameters: {'eta': 0.09110490407942984, 'max_depth': 5, 'booster': 'gbtree', 'lambda': 1.7565603304403453e-05, 'alpha': 1.2845766052552041e-08}. Best is trial 24 with value: 0.9497692814765986.\u001b[0m\n"
     ]
    },
    {
     "name": "stdout",
     "output_type": "stream",
     "text": [
      "[23:46:55] WARNING: C:/Users/Administrator/workspace/xgboost-win64_release_1.5.1/src/learner.cc:1115: Starting in XGBoost 1.3.0, the default evaluation metric used with the objective 'multi:softprob' was changed from 'merror' to 'mlogloss'. Explicitly set eval_metric if you'd like to restore the old behavior.\n"
     ]
    },
    {
     "name": "stderr",
     "output_type": "stream",
     "text": [
      "\u001b[32m[I 2022-04-03 23:47:09,009]\u001b[0m Trial 26 finished with value: 0.9484508899143046 and parameters: {'eta': 0.5747236314614008, 'max_depth': 5, 'booster': 'gbtree', 'lambda': 0.00025575756717862737, 'alpha': 1.0429217389090036e-07}. Best is trial 24 with value: 0.9497692814765986.\u001b[0m\n"
     ]
    },
    {
     "name": "stdout",
     "output_type": "stream",
     "text": [
      "[23:47:09] WARNING: C:/Users/Administrator/workspace/xgboost-win64_release_1.5.1/src/learner.cc:1115: Starting in XGBoost 1.3.0, the default evaluation metric used with the objective 'multi:softprob' was changed from 'merror' to 'mlogloss'. Explicitly set eval_metric if you'd like to restore the old behavior.\n"
     ]
    },
    {
     "name": "stderr",
     "output_type": "stream",
     "text": [
      "\u001b[32m[I 2022-04-03 23:47:22,341]\u001b[0m Trial 27 finished with value: 0.948582729070534 and parameters: {'eta': 0.5556893467584132, 'max_depth': 5, 'booster': 'gbtree', 'lambda': 5.4471424802587774e-05, 'alpha': 1.381106559762371e-07}. Best is trial 24 with value: 0.9497692814765986.\u001b[0m\n"
     ]
    },
    {
     "name": "stdout",
     "output_type": "stream",
     "text": [
      "[23:47:22] WARNING: C:/Users/Administrator/workspace/xgboost-win64_release_1.5.1/src/learner.cc:1115: Starting in XGBoost 1.3.0, the default evaluation metric used with the objective 'multi:softprob' was changed from 'merror' to 'mlogloss'. Explicitly set eval_metric if you'd like to restore the old behavior.\n"
     ]
    },
    {
     "name": "stderr",
     "output_type": "stream",
     "text": [
      "\u001b[32m[I 2022-04-03 23:47:33,495]\u001b[0m Trial 28 finished with value: 0.9493737640079104 and parameters: {'eta': 0.5755522452690872, 'max_depth': 4, 'booster': 'gbtree', 'lambda': 7.9531803105474e-07, 'alpha': 1.5601737853670915e-08}. Best is trial 24 with value: 0.9497692814765986.\u001b[0m\n"
     ]
    },
    {
     "name": "stdout",
     "output_type": "stream",
     "text": [
      "[23:47:33] WARNING: C:/Users/Administrator/workspace/xgboost-win64_release_1.5.1/src/learner.cc:1115: Starting in XGBoost 1.3.0, the default evaluation metric used with the objective 'multi:softprob' was changed from 'merror' to 'mlogloss'. Explicitly set eval_metric if you'd like to restore the old behavior.\n"
     ]
    },
    {
     "name": "stderr",
     "output_type": "stream",
     "text": [
      "\u001b[32m[I 2022-04-03 23:47:48,888]\u001b[0m Trial 29 finished with value: 0.9000659195781147 and parameters: {'eta': 0.011503780616731503, 'max_depth': 5, 'booster': 'gbtree', 'lambda': 0.0020648984655063695, 'alpha': 2.24285881034479e-07}. Best is trial 24 with value: 0.9497692814765986.\u001b[0m\n"
     ]
    },
    {
     "name": "stdout",
     "output_type": "stream",
     "text": [
      "[23:47:49] WARNING: C:/Users/Administrator/workspace/xgboost-win64_release_1.5.1/src/learner.cc:1115: Starting in XGBoost 1.3.0, the default evaluation metric used with the objective 'multi:softprob' was changed from 'merror' to 'mlogloss'. Explicitly set eval_metric if you'd like to restore the old behavior.\n"
     ]
    },
    {
     "name": "stderr",
     "output_type": "stream",
     "text": [
      "\u001b[32m[I 2022-04-03 23:48:00,068]\u001b[0m Trial 30 finished with value: 0.9473961766644694 and parameters: {'eta': 0.22213134315669894, 'max_depth': 4, 'booster': 'gbtree', 'lambda': 1.2312692799912692e-05, 'alpha': 1.490952965851223e-06}. Best is trial 24 with value: 0.9497692814765986.\u001b[0m\n"
     ]
    },
    {
     "name": "stdout",
     "output_type": "stream",
     "text": [
      "[23:48:00] WARNING: C:/Users/Administrator/workspace/xgboost-win64_release_1.5.1/src/learner.cc:1115: Starting in XGBoost 1.3.0, the default evaluation metric used with the objective 'multi:softprob' was changed from 'merror' to 'mlogloss'. Explicitly set eval_metric if you'd like to restore the old behavior.\n"
     ]
    },
    {
     "name": "stderr",
     "output_type": "stream",
     "text": [
      "\u001b[32m[I 2022-04-03 23:48:16,216]\u001b[0m Trial 31 finished with value: 0.9500329597890573 and parameters: {'eta': 0.4177875667529195, 'max_depth': 6, 'booster': 'gbtree', 'lambda': 0.020474467409500763, 'alpha': 2.2298258219286372e-05}. Best is trial 31 with value: 0.9500329597890573.\u001b[0m\n"
     ]
    },
    {
     "name": "stdout",
     "output_type": "stream",
     "text": [
      "[23:48:16] WARNING: C:/Users/Administrator/workspace/xgboost-win64_release_1.5.1/src/learner.cc:1115: Starting in XGBoost 1.3.0, the default evaluation metric used with the objective 'multi:softprob' was changed from 'merror' to 'mlogloss'. Explicitly set eval_metric if you'd like to restore the old behavior.\n"
     ]
    },
    {
     "name": "stderr",
     "output_type": "stream",
     "text": [
      "\u001b[32m[I 2022-04-03 23:48:32,092]\u001b[0m Trial 32 finished with value: 0.9501647989452867 and parameters: {'eta': 0.4211206745599294, 'max_depth': 6, 'booster': 'gbtree', 'lambda': 0.014646287896012975, 'alpha': 2.4918523070189394e-05}. Best is trial 32 with value: 0.9501647989452867.\u001b[0m\n"
     ]
    },
    {
     "name": "stdout",
     "output_type": "stream",
     "text": [
      "[23:48:32] WARNING: C:/Users/Administrator/workspace/xgboost-win64_release_1.5.1/src/learner.cc:1115: Starting in XGBoost 1.3.0, the default evaluation metric used with the objective 'multi:softprob' was changed from 'merror' to 'mlogloss'. Explicitly set eval_metric if you'd like to restore the old behavior.\n"
     ]
    },
    {
     "name": "stderr",
     "output_type": "stream",
     "text": [
      "\u001b[32m[I 2022-04-03 23:48:47,919]\u001b[0m Trial 33 finished with value: 0.9499011206328279 and parameters: {'eta': 0.5206589966122016, 'max_depth': 6, 'booster': 'gbtree', 'lambda': 0.007050744703206729, 'alpha': 2.9080327558089826e-05}. Best is trial 32 with value: 0.9501647989452867.\u001b[0m\n"
     ]
    },
    {
     "name": "stdout",
     "output_type": "stream",
     "text": [
      "[23:48:48] WARNING: C:/Users/Administrator/workspace/xgboost-win64_release_1.5.1/src/learner.cc:1115: Starting in XGBoost 1.3.0, the default evaluation metric used with the objective 'multi:softprob' was changed from 'merror' to 'mlogloss'. Explicitly set eval_metric if you'd like to restore the old behavior.\n"
     ]
    },
    {
     "name": "stderr",
     "output_type": "stream",
     "text": [
      "\u001b[32m[I 2022-04-03 23:51:15,678]\u001b[0m Trial 34 finished with value: 0.9489782465392221 and parameters: {'eta': 0.5886267996338065, 'max_depth': 6, 'booster': 'dart', 'lambda': 0.03279628677276571, 'alpha': 2.6199016760329755e-05}. Best is trial 32 with value: 0.9501647989452867.\u001b[0m\n"
     ]
    },
    {
     "name": "stdout",
     "output_type": "stream",
     "text": [
      "FrozenTrial(number=32, values=[0.9501647989452867], datetime_start=datetime.datetime(2022, 4, 3, 23, 48, 16, 217182), datetime_complete=datetime.datetime(2022, 4, 3, 23, 48, 32, 91063), params={'eta': 0.4211206745599294, 'max_depth': 6, 'booster': 'gbtree', 'lambda': 0.014646287896012975, 'alpha': 2.4918523070189394e-05}, distributions={'eta': LogUniformDistribution(high=1.0, low=0.001), 'max_depth': IntUniformDistribution(high=6, low=2, step=1), 'booster': CategoricalDistribution(choices=('gbtree', 'dart')), 'lambda': LogUniformDistribution(high=1.0, low=1e-08), 'alpha': LogUniformDistribution(high=1.0, low=1e-08)}, user_attrs={}, system_attrs={}, intermediate_values={}, trial_id=32, state=TrialState.COMPLETE, value=None)\n"
     ]
    }
   ],
   "source": [
    "D_train = xgb.DMatrix(X_train_bow, label=y_train - 1)\n",
    "D_test = xgb.DMatrix(X_test_bow, label=y_test - 1)\n",
    "\n",
    "def objective(trial): \n",
    "    param = {\n",
    "        'eta': trial.suggest_loguniform(\"eta\", 10e-4, 1), \n",
    "        'max_depth': trial.suggest_int(\"max_depth\", 2, 6),  \n",
    "        'booster': trial.suggest_categorical('booster', [\"gbtree\", \"dart\"]),\n",
    "        'lambda': trial.suggest_float('lambda', 1e-8, 1.0, log=True),\n",
    "        'alpha': trial.suggest_float('alpha', 1e-8, 1.0, log=True),\n",
    "        'objective': 'multi:softprob',  \n",
    "        'num_class': 5} \n",
    "\n",
    "    steps = 150\n",
    "\n",
    "    model = xgb.train(param, D_train, steps)\n",
    "    y_pred_prob = model.predict(D_test)\n",
    "    y_pred = np.argmax(y_pred_prob, axis = 1)\n",
    "    \n",
    "    return accuracy(y_test - 1, y_pred)\n",
    "\n",
    "study = optuna.create_study(study_name = \"XGB_BOW\", direction = \"maximize\")\n",
    "study.optimize(objective, n_trials = 35)\n",
    "print(study.best_trial)"
   ]
  },
  {
   "cell_type": "code",
   "execution_count": 43,
   "id": "1fb826de",
   "metadata": {},
   "outputs": [
    {
     "name": "stdout",
     "output_type": "stream",
     "text": [
      "[23:54:37] WARNING: C:/Users/Administrator/workspace/xgboost-win64_release_1.5.1/src/learner.cc:1115: Starting in XGBoost 1.3.0, the default evaluation metric used with the objective 'multi:softprob' was changed from 'merror' to 'mlogloss'. Explicitly set eval_metric if you'd like to restore the old behavior.\n"
     ]
    },
    {
     "name": "stderr",
     "output_type": "stream",
     "text": [
      "\u001b[32m[I 2022-04-03 23:54:53,276]\u001b[0m Trial 37 finished with value: 0.9355306526038233 and parameters: {'eta': 0.044190361739635295, 'max_depth': 6, 'booster': 'gbtree', 'lambda': 0.01214564882506794, 'alpha': 2.4526527857957247e-05}. Best is trial 32 with value: 0.9501647989452867.\u001b[0m\n"
     ]
    },
    {
     "name": "stdout",
     "output_type": "stream",
     "text": [
      "[23:54:53] WARNING: C:/Users/Administrator/workspace/xgboost-win64_release_1.5.1/src/learner.cc:1115: Starting in XGBoost 1.3.0, the default evaluation metric used with the objective 'multi:softprob' was changed from 'merror' to 'mlogloss'. Explicitly set eval_metric if you'd like to restore the old behavior.\n"
     ]
    },
    {
     "name": "stderr",
     "output_type": "stream",
     "text": [
      "\u001b[32m[I 2022-04-03 23:56:43,643]\u001b[0m Trial 38 finished with value: 0.9152274225444957 and parameters: {'eta': 0.016668376430795693, 'max_depth': 6, 'booster': 'dart', 'lambda': 0.001462032343714355, 'alpha': 0.02663552033995146}. Best is trial 32 with value: 0.9501647989452867.\u001b[0m\n"
     ]
    },
    {
     "name": "stdout",
     "output_type": "stream",
     "text": [
      "[23:56:43] WARNING: C:/Users/Administrator/workspace/xgboost-win64_release_1.5.1/src/learner.cc:1115: Starting in XGBoost 1.3.0, the default evaluation metric used with the objective 'multi:softprob' was changed from 'merror' to 'mlogloss'. Explicitly set eval_metric if you'd like to restore the old behavior.\n"
     ]
    },
    {
     "name": "stderr",
     "output_type": "stream",
     "text": [
      "\u001b[32m[I 2022-04-03 23:56:55,140]\u001b[0m Trial 39 finished with value: 0.948582729070534 and parameters: {'eta': 0.4817004490449624, 'max_depth': 6, 'booster': 'gbtree', 'lambda': 0.17100023965200478, 'alpha': 0.000746024462943462}. Best is trial 32 with value: 0.9501647989452867.\u001b[0m\n"
     ]
    },
    {
     "name": "stdout",
     "output_type": "stream",
     "text": [
      "[23:56:55] WARNING: C:/Users/Administrator/workspace/xgboost-win64_release_1.5.1/src/learner.cc:1115: Starting in XGBoost 1.3.0, the default evaluation metric used with the objective 'multi:softprob' was changed from 'merror' to 'mlogloss'. Explicitly set eval_metric if you'd like to restore the old behavior.\n"
     ]
    },
    {
     "name": "stderr",
     "output_type": "stream",
     "text": [
      "\u001b[32m[I 2022-04-03 23:58:34,224]\u001b[0m Trial 40 finished with value: 0.9487145682267634 and parameters: {'eta': 0.6765749607449747, 'max_depth': 5, 'booster': 'dart', 'lambda': 0.00012079697568351059, 'alpha': 1.5450790052910862e-05}. Best is trial 32 with value: 0.9501647989452867.\u001b[0m\n"
     ]
    },
    {
     "name": "stdout",
     "output_type": "stream",
     "text": [
      "[23:58:34] WARNING: C:/Users/Administrator/workspace/xgboost-win64_release_1.5.1/src/learner.cc:1115: Starting in XGBoost 1.3.0, the default evaluation metric used with the objective 'multi:softprob' was changed from 'merror' to 'mlogloss'. Explicitly set eval_metric if you'd like to restore the old behavior.\n"
     ]
    },
    {
     "name": "stderr",
     "output_type": "stream",
     "text": [
      "\u001b[32m[I 2022-04-03 23:58:45,886]\u001b[0m Trial 41 finished with value: 0.9502966381015161 and parameters: {'eta': 0.42529248797930264, 'max_depth': 6, 'booster': 'gbtree', 'lambda': 0.48436705391142343, 'alpha': 0.0001246641481052022}. Best is trial 41 with value: 0.9502966381015161.\u001b[0m\n"
     ]
    },
    {
     "name": "stdout",
     "output_type": "stream",
     "text": [
      "[23:58:46] WARNING: C:/Users/Administrator/workspace/xgboost-win64_release_1.5.1/src/learner.cc:1115: Starting in XGBoost 1.3.0, the default evaluation metric used with the objective 'multi:softprob' was changed from 'merror' to 'mlogloss'. Explicitly set eval_metric if you'd like to restore the old behavior.\n"
     ]
    },
    {
     "name": "stderr",
     "output_type": "stream",
     "text": [
      "\u001b[32m[I 2022-04-03 23:58:56,294]\u001b[0m Trial 42 finished with value: 0.9489782465392221 and parameters: {'eta': 0.40727412291897247, 'max_depth': 6, 'booster': 'gbtree', 'lambda': 0.017722601045182796, 'alpha': 0.0001850194004648074}. Best is trial 41 with value: 0.9502966381015161.\u001b[0m\n"
     ]
    },
    {
     "name": "stdout",
     "output_type": "stream",
     "text": [
      "[23:58:56] WARNING: C:/Users/Administrator/workspace/xgboost-win64_release_1.5.1/src/learner.cc:1115: Starting in XGBoost 1.3.0, the default evaluation metric used with the objective 'multi:softprob' was changed from 'merror' to 'mlogloss'. Explicitly set eval_metric if you'd like to restore the old behavior.\n"
     ]
    },
    {
     "name": "stderr",
     "output_type": "stream",
     "text": [
      "\u001b[32m[I 2022-04-03 23:59:07,936]\u001b[0m Trial 43 finished with value: 0.9487145682267634 and parameters: {'eta': 0.24235047457543032, 'max_depth': 6, 'booster': 'gbtree', 'lambda': 0.004586694354368178, 'alpha': 5.31635116751384e-05}. Best is trial 41 with value: 0.9502966381015161.\u001b[0m\n"
     ]
    },
    {
     "name": "stdout",
     "output_type": "stream",
     "text": [
      "[23:59:08] WARNING: C:/Users/Administrator/workspace/xgboost-win64_release_1.5.1/src/learner.cc:1115: Starting in XGBoost 1.3.0, the default evaluation metric used with the objective 'multi:softprob' was changed from 'merror' to 'mlogloss'. Explicitly set eval_metric if you'd like to restore the old behavior.\n"
     ]
    },
    {
     "name": "stderr",
     "output_type": "stream",
     "text": [
      "\u001b[32m[I 2022-04-03 23:59:19,363]\u001b[0m Trial 44 finished with value: 0.948582729070534 and parameters: {'eta': 0.7627828302783178, 'max_depth': 6, 'booster': 'gbtree', 'lambda': 0.07008517539589093, 'alpha': 0.003543451082184795}. Best is trial 41 with value: 0.9502966381015161.\u001b[0m\n"
     ]
    },
    {
     "name": "stdout",
     "output_type": "stream",
     "text": [
      "[23:59:19] WARNING: C:/Users/Administrator/workspace/xgboost-win64_release_1.5.1/src/learner.cc:1115: Starting in XGBoost 1.3.0, the default evaluation metric used with the objective 'multi:softprob' was changed from 'merror' to 'mlogloss'. Explicitly set eval_metric if you'd like to restore the old behavior.\n"
     ]
    },
    {
     "name": "stderr",
     "output_type": "stream",
     "text": [
      "\u001b[32m[I 2022-04-03 23:59:29,650]\u001b[0m Trial 45 finished with value: 0.9473961766644694 and parameters: {'eta': 0.1731999085934999, 'max_depth': 5, 'booster': 'gbtree', 'lambda': 0.11920226805430613, 'alpha': 0.00020451443939604734}. Best is trial 41 with value: 0.9502966381015161.\u001b[0m\n"
     ]
    },
    {
     "name": "stdout",
     "output_type": "stream",
     "text": [
      "[23:59:29] WARNING: C:/Users/Administrator/workspace/xgboost-win64_release_1.5.1/src/learner.cc:1115: Starting in XGBoost 1.3.0, the default evaluation metric used with the objective 'multi:softprob' was changed from 'merror' to 'mlogloss'. Explicitly set eval_metric if you'd like to restore the old behavior.\n"
     ]
    },
    {
     "name": "stderr",
     "output_type": "stream",
     "text": [
      "\u001b[32m[I 2022-04-03 23:59:41,173]\u001b[0m Trial 46 finished with value: 0.9493737640079104 and parameters: {'eta': 0.4226507911724958, 'max_depth': 6, 'booster': 'gbtree', 'lambda': 0.027294884931644114, 'alpha': 1.3916996257795306e-05}. Best is trial 41 with value: 0.9502966381015161.\u001b[0m\n"
     ]
    },
    {
     "name": "stdout",
     "output_type": "stream",
     "text": [
      "[23:59:41] WARNING: C:/Users/Administrator/workspace/xgboost-win64_release_1.5.1/src/learner.cc:1115: Starting in XGBoost 1.3.0, the default evaluation metric used with the objective 'multi:softprob' was changed from 'merror' to 'mlogloss'. Explicitly set eval_metric if you'd like to restore the old behavior.\n"
     ]
    },
    {
     "name": "stderr",
     "output_type": "stream",
     "text": [
      "\u001b[32m[I 2022-04-03 23:59:51,359]\u001b[0m Trial 47 finished with value: 0.9425181278839816 and parameters: {'eta': 0.1224800343800836, 'max_depth': 5, 'booster': 'gbtree', 'lambda': 0.7064545030103886, 'alpha': 0.00011701183644755381}. Best is trial 41 with value: 0.9502966381015161.\u001b[0m\n"
     ]
    },
    {
     "name": "stdout",
     "output_type": "stream",
     "text": [
      "[23:59:51] WARNING: C:/Users/Administrator/workspace/xgboost-win64_release_1.5.1/src/learner.cc:1115: Starting in XGBoost 1.3.0, the default evaluation metric used with the objective 'multi:softprob' was changed from 'merror' to 'mlogloss'. Explicitly set eval_metric if you'd like to restore the old behavior.\n"
     ]
    },
    {
     "name": "stderr",
     "output_type": "stream",
     "text": [
      "\u001b[32m[I 2022-04-03 23:59:58,507]\u001b[0m Trial 48 finished with value: 0.8649967040210943 and parameters: {'eta': 0.0012493816265510414, 'max_depth': 4, 'booster': 'gbtree', 'lambda': 0.0010521993507208397, 'alpha': 0.0011284709780937734}. Best is trial 41 with value: 0.9502966381015161.\u001b[0m\n"
     ]
    },
    {
     "name": "stdout",
     "output_type": "stream",
     "text": [
      "[23:59:58] WARNING: C:/Users/Administrator/workspace/xgboost-win64_release_1.5.1/src/learner.cc:1115: Starting in XGBoost 1.3.0, the default evaluation metric used with the objective 'multi:softprob' was changed from 'merror' to 'mlogloss'. Explicitly set eval_metric if you'd like to restore the old behavior.\n"
     ]
    },
    {
     "name": "stderr",
     "output_type": "stream",
     "text": [
      "\u001b[32m[I 2022-04-04 00:01:40,890]\u001b[0m Trial 49 finished with value: 0.9475280158206988 and parameters: {'eta': 0.9890203577948877, 'max_depth': 6, 'booster': 'dart', 'lambda': 0.2547104837389897, 'alpha': 0.9434715988045148}. Best is trial 41 with value: 0.9502966381015161.\u001b[0m\n"
     ]
    },
    {
     "name": "stdout",
     "output_type": "stream",
     "text": [
      "[00:01:41] WARNING: C:/Users/Administrator/workspace/xgboost-win64_release_1.5.1/src/learner.cc:1115: Starting in XGBoost 1.3.0, the default evaluation metric used with the objective 'multi:softprob' was changed from 'merror' to 'mlogloss'. Explicitly set eval_metric if you'd like to restore the old behavior.\n"
     ]
    },
    {
     "name": "stderr",
     "output_type": "stream",
     "text": [
      "\u001b[32m[I 2022-04-04 00:01:52,047]\u001b[0m Trial 50 finished with value: 0.8851680949241925 and parameters: {'eta': 0.005965843819837186, 'max_depth': 5, 'booster': 'gbtree', 'lambda': 0.004868958639938181, 'alpha': 2.5671320509341346e-06}. Best is trial 41 with value: 0.9502966381015161.\u001b[0m\n"
     ]
    },
    {
     "name": "stdout",
     "output_type": "stream",
     "text": [
      "[00:01:52] WARNING: C:/Users/Administrator/workspace/xgboost-win64_release_1.5.1/src/learner.cc:1115: Starting in XGBoost 1.3.0, the default evaluation metric used with the objective 'multi:softprob' was changed from 'merror' to 'mlogloss'. Explicitly set eval_metric if you'd like to restore the old behavior.\n"
     ]
    },
    {
     "name": "stderr",
     "output_type": "stream",
     "text": [
      "\u001b[32m[I 2022-04-04 00:02:01,990]\u001b[0m Trial 51 finished with value: 0.9493737640079104 and parameters: {'eta': 0.774959640802248, 'max_depth': 5, 'booster': 'gbtree', 'lambda': 0.00047419388981733107, 'alpha': 5.749755986719368e-08}. Best is trial 41 with value: 0.9502966381015161.\u001b[0m\n"
     ]
    },
    {
     "name": "stdout",
     "output_type": "stream",
     "text": [
      "[00:02:02] WARNING: C:/Users/Administrator/workspace/xgboost-win64_release_1.5.1/src/learner.cc:1115: Starting in XGBoost 1.3.0, the default evaluation metric used with the objective 'multi:softprob' was changed from 'merror' to 'mlogloss'. Explicitly set eval_metric if you'd like to restore the old behavior.\n"
     ]
    },
    {
     "name": "stderr",
     "output_type": "stream",
     "text": [
      "\u001b[32m[I 2022-04-04 00:02:13,994]\u001b[0m Trial 52 finished with value: 0.9484508899143046 and parameters: {'eta': 0.38455753621262534, 'max_depth': 6, 'booster': 'gbtree', 'lambda': 0.00010716024903682184, 'alpha': 3.7700569907193826e-05}. Best is trial 41 with value: 0.9502966381015161.\u001b[0m\n"
     ]
    },
    {
     "name": "stdout",
     "output_type": "stream",
     "text": [
      "[00:02:14] WARNING: C:/Users/Administrator/workspace/xgboost-win64_release_1.5.1/src/learner.cc:1115: Starting in XGBoost 1.3.0, the default evaluation metric used with the objective 'multi:softprob' was changed from 'merror' to 'mlogloss'. Explicitly set eval_metric if you'd like to restore the old behavior.\n"
     ]
    },
    {
     "name": "stderr",
     "output_type": "stream",
     "text": [
      "\u001b[32m[I 2022-04-04 00:02:21,508]\u001b[0m Trial 53 finished with value: 0.9480553724456163 and parameters: {'eta': 0.24908526194784122, 'max_depth': 4, 'booster': 'gbtree', 'lambda': 0.009147855670569551, 'alpha': 2.2211459634558047e-06}. Best is trial 41 with value: 0.9502966381015161.\u001b[0m\n"
     ]
    },
    {
     "name": "stdout",
     "output_type": "stream",
     "text": [
      "[00:02:21] WARNING: C:/Users/Administrator/workspace/xgboost-win64_release_1.5.1/src/learner.cc:1115: Starting in XGBoost 1.3.0, the default evaluation metric used with the objective 'multi:softprob' was changed from 'merror' to 'mlogloss'. Explicitly set eval_metric if you'd like to restore the old behavior.\n"
     ]
    },
    {
     "name": "stderr",
     "output_type": "stream",
     "text": [
      "\u001b[32m[I 2022-04-04 00:02:29,379]\u001b[0m Trial 54 finished with value: 0.9484508899143046 and parameters: {'eta': 0.4729677091052605, 'max_depth': 5, 'booster': 'gbtree', 'lambda': 0.002965552462924701, 'alpha': 1.2550544127839992e-05}. Best is trial 41 with value: 0.9502966381015161.\u001b[0m\n"
     ]
    },
    {
     "name": "stdout",
     "output_type": "stream",
     "text": [
      "[00:02:29] WARNING: C:/Users/Administrator/workspace/xgboost-win64_release_1.5.1/src/learner.cc:1115: Starting in XGBoost 1.3.0, the default evaluation metric used with the objective 'multi:softprob' was changed from 'merror' to 'mlogloss'. Explicitly set eval_metric if you'd like to restore the old behavior.\n"
     ]
    },
    {
     "name": "stderr",
     "output_type": "stream",
     "text": [
      "\u001b[32m[I 2022-04-04 00:02:40,543]\u001b[0m Trial 55 finished with value: 0.9495056031641398 and parameters: {'eta': 0.28824152839257966, 'max_depth': 6, 'booster': 'gbtree', 'lambda': 0.7104254051939017, 'alpha': 8.8158523842746e-06}. Best is trial 41 with value: 0.9502966381015161.\u001b[0m\n"
     ]
    },
    {
     "name": "stdout",
     "output_type": "stream",
     "text": [
      "[00:02:40] WARNING: C:/Users/Administrator/workspace/xgboost-win64_release_1.5.1/src/learner.cc:1115: Starting in XGBoost 1.3.0, the default evaluation metric used with the objective 'multi:softprob' was changed from 'merror' to 'mlogloss'. Explicitly set eval_metric if you'd like to restore the old behavior.\n"
     ]
    },
    {
     "name": "stderr",
     "output_type": "stream",
     "text": [
      "\u001b[32m[I 2022-04-04 00:02:53,220]\u001b[0m Trial 56 finished with value: 0.9476598549769282 and parameters: {'eta': 0.15876370495706352, 'max_depth': 6, 'booster': 'gbtree', 'lambda': 0.00019152680769561205, 'alpha': 6.963708316330322e-07}. Best is trial 41 with value: 0.9502966381015161.\u001b[0m\n"
     ]
    },
    {
     "name": "stdout",
     "output_type": "stream",
     "text": [
      "[00:02:53] WARNING: C:/Users/Administrator/workspace/xgboost-win64_release_1.5.1/src/learner.cc:1115: Starting in XGBoost 1.3.0, the default evaluation metric used with the objective 'multi:softprob' was changed from 'merror' to 'mlogloss'. Explicitly set eval_metric if you'd like to restore the old behavior.\n"
     ]
    },
    {
     "name": "stderr",
     "output_type": "stream",
     "text": [
      "\u001b[32m[I 2022-04-04 00:03:03,458]\u001b[0m Trial 57 finished with value: 0.9495056031641398 and parameters: {'eta': 0.40202681863424444, 'max_depth': 5, 'booster': 'gbtree', 'lambda': 5.5273539222571804e-05, 'alpha': 0.0001155740499787554}. Best is trial 41 with value: 0.9502966381015161.\u001b[0m\n"
     ]
    },
    {
     "name": "stdout",
     "output_type": "stream",
     "text": [
      "[00:03:03] WARNING: C:/Users/Administrator/workspace/xgboost-win64_release_1.5.1/src/learner.cc:1115: Starting in XGBoost 1.3.0, the default evaluation metric used with the objective 'multi:softprob' was changed from 'merror' to 'mlogloss'. Explicitly set eval_metric if you'd like to restore the old behavior.\n"
     ]
    },
    {
     "name": "stderr",
     "output_type": "stream",
     "text": [
      "\u001b[32m[I 2022-04-04 00:03:09,944]\u001b[0m Trial 58 finished with value: 0.948582729070534 and parameters: {'eta': 0.7898638507540375, 'max_depth': 3, 'booster': 'gbtree', 'lambda': 4.965433142869928e-07, 'alpha': 3.6051486445944275e-07}. Best is trial 41 with value: 0.9502966381015161.\u001b[0m\n"
     ]
    },
    {
     "name": "stdout",
     "output_type": "stream",
     "text": [
      "[00:03:10] WARNING: C:/Users/Administrator/workspace/xgboost-win64_release_1.5.1/src/learner.cc:1115: Starting in XGBoost 1.3.0, the default evaluation metric used with the objective 'multi:softprob' was changed from 'merror' to 'mlogloss'. Explicitly set eval_metric if you'd like to restore the old behavior.\n"
     ]
    },
    {
     "name": "stderr",
     "output_type": "stream",
     "text": [
      "\u001b[32m[I 2022-04-04 00:03:21,596]\u001b[0m Trial 59 finished with value: 0.9492419248516809 and parameters: {'eta': 0.6254736481342903, 'max_depth': 6, 'booster': 'gbtree', 'lambda': 0.0007670954288351772, 'alpha': 0.0004490833623967519}. Best is trial 41 with value: 0.9502966381015161.\u001b[0m\n"
     ]
    },
    {
     "name": "stdout",
     "output_type": "stream",
     "text": [
      "[00:03:21] WARNING: C:/Users/Administrator/workspace/xgboost-win64_release_1.5.1/src/learner.cc:1115: Starting in XGBoost 1.3.0, the default evaluation metric used with the objective 'multi:softprob' was changed from 'merror' to 'mlogloss'. Explicitly set eval_metric if you'd like to restore the old behavior.\n"
     ]
    },
    {
     "name": "stderr",
     "output_type": "stream",
     "text": [
      "\u001b[32m[I 2022-04-04 00:03:33,869]\u001b[0m Trial 60 finished with value: 0.9483190507580751 and parameters: {'eta': 0.28719406394580277, 'max_depth': 6, 'booster': 'gbtree', 'lambda': 0.08274428631519762, 'alpha': 3.960428756782358e-05}. Best is trial 41 with value: 0.9502966381015161.\u001b[0m\n"
     ]
    },
    {
     "name": "stdout",
     "output_type": "stream",
     "text": [
      "[00:03:33] WARNING: C:/Users/Administrator/workspace/xgboost-win64_release_1.5.1/src/learner.cc:1115: Starting in XGBoost 1.3.0, the default evaluation metric used with the objective 'multi:softprob' was changed from 'merror' to 'mlogloss'. Explicitly set eval_metric if you'd like to restore the old behavior.\n"
     ]
    },
    {
     "name": "stderr",
     "output_type": "stream",
     "text": [
      "\u001b[32m[I 2022-04-04 00:03:42,205]\u001b[0m Trial 61 finished with value: 0.9500329597890573 and parameters: {'eta': 0.4878672448661621, 'max_depth': 5, 'booster': 'gbtree', 'lambda': 2.2138444892317764e-06, 'alpha': 4.180761973845409e-08}. Best is trial 41 with value: 0.9502966381015161.\u001b[0m\n"
     ]
    },
    {
     "name": "stdout",
     "output_type": "stream",
     "text": [
      "[00:03:42] WARNING: C:/Users/Administrator/workspace/xgboost-win64_release_1.5.1/src/learner.cc:1115: Starting in XGBoost 1.3.0, the default evaluation metric used with the objective 'multi:softprob' was changed from 'merror' to 'mlogloss'. Explicitly set eval_metric if you'd like to restore the old behavior.\n"
     ]
    },
    {
     "name": "stderr",
     "output_type": "stream",
     "text": [
      "\u001b[32m[I 2022-04-04 00:03:52,482]\u001b[0m Trial 62 finished with value: 0.948582729070534 and parameters: {'eta': 0.3502497689605311, 'max_depth': 6, 'booster': 'gbtree', 'lambda': 3.3884982979812177e-06, 'alpha': 6.1045213583381766e-06}. Best is trial 41 with value: 0.9502966381015161.\u001b[0m\n"
     ]
    },
    {
     "name": "stdout",
     "output_type": "stream",
     "text": [
      "[00:03:52] WARNING: C:/Users/Administrator/workspace/xgboost-win64_release_1.5.1/src/learner.cc:1115: Starting in XGBoost 1.3.0, the default evaluation metric used with the objective 'multi:softprob' was changed from 'merror' to 'mlogloss'. Explicitly set eval_metric if you'd like to restore the old behavior.\n"
     ]
    },
    {
     "name": "stderr",
     "output_type": "stream",
     "text": [
      "\u001b[32m[I 2022-04-04 00:04:04,904]\u001b[0m Trial 63 finished with value: 0.9509558338826631 and parameters: {'eta': 0.4788659892121923, 'max_depth': 6, 'booster': 'gbtree', 'lambda': 0.3629555320077551, 'alpha': 3.0341205113871525e-08}. Best is trial 63 with value: 0.9509558338826631.\u001b[0m\n"
     ]
    },
    {
     "name": "stdout",
     "output_type": "stream",
     "text": [
      "[00:04:05] WARNING: C:/Users/Administrator/workspace/xgboost-win64_release_1.5.1/src/learner.cc:1115: Starting in XGBoost 1.3.0, the default evaluation metric used with the objective 'multi:softprob' was changed from 'merror' to 'mlogloss'. Explicitly set eval_metric if you'd like to restore the old behavior.\n"
     ]
    },
    {
     "name": "stderr",
     "output_type": "stream",
     "text": [
      "\u001b[32m[I 2022-04-04 00:04:17,088]\u001b[0m Trial 64 finished with value: 0.9473961766644694 and parameters: {'eta': 0.7108532773259542, 'max_depth': 6, 'booster': 'gbtree', 'lambda': 0.3730453270415864, 'alpha': 3.1592135312464375e-08}. Best is trial 63 with value: 0.9509558338826631.\u001b[0m\n"
     ]
    },
    {
     "name": "stdout",
     "output_type": "stream",
     "text": [
      "[00:04:17] WARNING: C:/Users/Administrator/workspace/xgboost-win64_release_1.5.1/src/learner.cc:1115: Starting in XGBoost 1.3.0, the default evaluation metric used with the objective 'multi:softprob' was changed from 'merror' to 'mlogloss'. Explicitly set eval_metric if you'd like to restore the old behavior.\n"
     ]
    },
    {
     "name": "stderr",
     "output_type": "stream",
     "text": [
      "\u001b[32m[I 2022-04-04 00:04:29,065]\u001b[0m Trial 65 finished with value: 0.9492419248516809 and parameters: {'eta': 0.4938885675879596, 'max_depth': 6, 'booster': 'gbtree', 'lambda': 2.202962262927861e-06, 'alpha': 3.4252881464437635e-08}. Best is trial 63 with value: 0.9509558338826631.\u001b[0m\n"
     ]
    },
    {
     "name": "stdout",
     "output_type": "stream",
     "text": [
      "[00:04:29] WARNING: C:/Users/Administrator/workspace/xgboost-win64_release_1.5.1/src/learner.cc:1115: Starting in XGBoost 1.3.0, the default evaluation metric used with the objective 'multi:softprob' was changed from 'merror' to 'mlogloss'. Explicitly set eval_metric if you'd like to restore the old behavior.\n"
     ]
    },
    {
     "name": "stderr",
     "output_type": "stream",
     "text": [
      "\u001b[32m[I 2022-04-04 00:04:40,521]\u001b[0m Trial 66 finished with value: 0.948582729070534 and parameters: {'eta': 0.972254479250642, 'max_depth': 6, 'booster': 'gbtree', 'lambda': 0.04907291596045367, 'alpha': 1.1278786024495087e-08}. Best is trial 63 with value: 0.9509558338826631.\u001b[0m\n"
     ]
    },
    {
     "name": "stdout",
     "output_type": "stream",
     "text": [
      "[00:04:40] WARNING: C:/Users/Administrator/workspace/xgboost-win64_release_1.5.1/src/learner.cc:1115: Starting in XGBoost 1.3.0, the default evaluation metric used with the objective 'multi:softprob' was changed from 'merror' to 'mlogloss'. Explicitly set eval_metric if you'd like to restore the old behavior.\n"
     ]
    },
    {
     "name": "stderr",
     "output_type": "stream",
     "text": [
      "\u001b[32m[I 2022-04-04 00:04:51,268]\u001b[0m Trial 67 finished with value: 0.9483190507580751 and parameters: {'eta': 0.2630035937627273, 'max_depth': 5, 'booster': 'gbtree', 'lambda': 1.1997556363638283e-05, 'alpha': 7.458737401671646e-08}. Best is trial 63 with value: 0.9509558338826631.\u001b[0m\n"
     ]
    },
    {
     "name": "stdout",
     "output_type": "stream",
     "text": [
      "[00:04:51] WARNING: C:/Users/Administrator/workspace/xgboost-win64_release_1.5.1/src/learner.cc:1115: Starting in XGBoost 1.3.0, the default evaluation metric used with the objective 'multi:softprob' was changed from 'merror' to 'mlogloss'. Explicitly set eval_metric if you'd like to restore the old behavior.\n"
     ]
    },
    {
     "name": "stderr",
     "output_type": "stream",
     "text": [
      "\u001b[32m[I 2022-04-04 00:06:42,498]\u001b[0m Trial 68 finished with value: 0.948582729070534 and parameters: {'eta': 0.20072221317981245, 'max_depth': 6, 'booster': 'dart', 'lambda': 2.414162125089765e-05, 'alpha': 1.9680288291171226e-07}. Best is trial 63 with value: 0.9509558338826631.\u001b[0m\n"
     ]
    },
    {
     "name": "stdout",
     "output_type": "stream",
     "text": [
      "[00:06:42] WARNING: C:/Users/Administrator/workspace/xgboost-win64_release_1.5.1/src/learner.cc:1115: Starting in XGBoost 1.3.0, the default evaluation metric used with the objective 'multi:softprob' was changed from 'merror' to 'mlogloss'. Explicitly set eval_metric if you'd like to restore the old behavior.\n"
     ]
    },
    {
     "name": "stderr",
     "output_type": "stream",
     "text": [
      "\u001b[32m[I 2022-04-04 00:06:47,967]\u001b[0m Trial 69 finished with value: 0.9462096242584047 and parameters: {'eta': 0.3457106229077616, 'max_depth': 3, 'booster': 'gbtree', 'lambda': 0.9828253161544726, 'alpha': 2.5264371336241388e-08}. Best is trial 63 with value: 0.9509558338826631.\u001b[0m\n"
     ]
    },
    {
     "name": "stdout",
     "output_type": "stream",
     "text": [
      "[00:06:48] WARNING: C:/Users/Administrator/workspace/xgboost-win64_release_1.5.1/src/learner.cc:1115: Starting in XGBoost 1.3.0, the default evaluation metric used with the objective 'multi:softprob' was changed from 'merror' to 'mlogloss'. Explicitly set eval_metric if you'd like to restore the old behavior.\n"
     ]
    },
    {
     "name": "stderr",
     "output_type": "stream",
     "text": [
      "\u001b[32m[I 2022-04-04 00:06:56,627]\u001b[0m Trial 70 finished with value: 0.9343441001977587 and parameters: {'eta': 0.06851272629181106, 'max_depth': 4, 'booster': 'gbtree', 'lambda': 0.01969798780620639, 'alpha': 5.9354961915501964e-08}. Best is trial 63 with value: 0.9509558338826631.\u001b[0m\n"
     ]
    },
    {
     "name": "stdout",
     "output_type": "stream",
     "text": [
      "[00:06:56] WARNING: C:/Users/Administrator/workspace/xgboost-win64_release_1.5.1/src/learner.cc:1115: Starting in XGBoost 1.3.0, the default evaluation metric used with the objective 'multi:softprob' was changed from 'merror' to 'mlogloss'. Explicitly set eval_metric if you'd like to restore the old behavior.\n"
     ]
    },
    {
     "name": "stderr",
     "output_type": "stream",
     "text": [
      "\u001b[32m[I 2022-04-04 00:07:08,861]\u001b[0m Trial 71 finished with value: 0.9499011206328279 and parameters: {'eta': 0.5144487301669587, 'max_depth': 6, 'booster': 'gbtree', 'lambda': 0.3357240860144405, 'alpha': 8.672243886687528e-05}. Best is trial 63 with value: 0.9509558338826631.\u001b[0m\n"
     ]
    },
    {
     "name": "stdout",
     "output_type": "stream",
     "text": [
      "[00:07:08] WARNING: C:/Users/Administrator/workspace/xgboost-win64_release_1.5.1/src/learner.cc:1115: Starting in XGBoost 1.3.0, the default evaluation metric used with the objective 'multi:softprob' was changed from 'merror' to 'mlogloss'. Explicitly set eval_metric if you'd like to restore the old behavior.\n"
     ]
    },
    {
     "name": "stderr",
     "output_type": "stream",
     "text": [
      "\u001b[32m[I 2022-04-04 00:07:21,551]\u001b[0m Trial 72 finished with value: 0.9473961766644694 and parameters: {'eta': 0.5955270426448106, 'max_depth': 6, 'booster': 'gbtree', 'lambda': 0.41771500145194823, 'alpha': 0.00013565215873254926}. Best is trial 63 with value: 0.9509558338826631.\u001b[0m\n"
     ]
    },
    {
     "name": "stdout",
     "output_type": "stream",
     "text": [
      "[00:07:21] WARNING: C:/Users/Administrator/workspace/xgboost-win64_release_1.5.1/src/learner.cc:1115: Starting in XGBoost 1.3.0, the default evaluation metric used with the objective 'multi:softprob' was changed from 'merror' to 'mlogloss'. Explicitly set eval_metric if you'd like to restore the old behavior.\n"
     ]
    },
    {
     "name": "stderr",
     "output_type": "stream",
     "text": [
      "\u001b[32m[I 2022-04-04 00:07:31,949]\u001b[0m Trial 73 finished with value: 0.9499011206328279 and parameters: {'eta': 0.4408981164367525, 'max_depth': 6, 'booster': 'gbtree', 'lambda': 0.1494891933481045, 'alpha': 0.0002925074900774412}. Best is trial 63 with value: 0.9509558338826631.\u001b[0m\n"
     ]
    },
    {
     "name": "stdout",
     "output_type": "stream",
     "text": [
      "[00:07:32] WARNING: C:/Users/Administrator/workspace/xgboost-win64_release_1.5.1/src/learner.cc:1115: Starting in XGBoost 1.3.0, the default evaluation metric used with the objective 'multi:softprob' was changed from 'merror' to 'mlogloss'. Explicitly set eval_metric if you'd like to restore the old behavior.\n"
     ]
    },
    {
     "name": "stderr",
     "output_type": "stream",
     "text": [
      "\u001b[32m[I 2022-04-04 00:07:41,921]\u001b[0m Trial 74 finished with value: 0.9501647989452867 and parameters: {'eta': 0.42065939095694055, 'max_depth': 6, 'booster': 'gbtree', 'lambda': 0.12770622538562992, 'alpha': 0.00036396092558444544}. Best is trial 63 with value: 0.9509558338826631.\u001b[0m\n"
     ]
    },
    {
     "name": "stdout",
     "output_type": "stream",
     "text": [
      "[00:07:42] WARNING: C:/Users/Administrator/workspace/xgboost-win64_release_1.5.1/src/learner.cc:1115: Starting in XGBoost 1.3.0, the default evaluation metric used with the objective 'multi:softprob' was changed from 'merror' to 'mlogloss'. Explicitly set eval_metric if you'd like to restore the old behavior.\n"
     ]
    },
    {
     "name": "stderr",
     "output_type": "stream",
     "text": [
      "\u001b[32m[I 2022-04-04 00:07:53,765]\u001b[0m Trial 75 finished with value: 0.9496374423203692 and parameters: {'eta': 0.3524106940260482, 'max_depth': 6, 'booster': 'gbtree', 'lambda': 0.2659140729325731, 'alpha': 0.02377308245266973}. Best is trial 63 with value: 0.9509558338826631.\u001b[0m\n"
     ]
    },
    {
     "name": "stdout",
     "output_type": "stream",
     "text": [
      "[00:07:53] WARNING: C:/Users/Administrator/workspace/xgboost-win64_release_1.5.1/src/learner.cc:1115: Starting in XGBoost 1.3.0, the default evaluation metric used with the objective 'multi:softprob' was changed from 'merror' to 'mlogloss'. Explicitly set eval_metric if you'd like to restore the old behavior.\n"
     ]
    },
    {
     "name": "stderr",
     "output_type": "stream",
     "text": [
      "\u001b[32m[I 2022-04-04 00:08:05,921]\u001b[0m Trial 76 finished with value: 0.9499011206328279 and parameters: {'eta': 0.4104758478616673, 'max_depth': 6, 'booster': 'gbtree', 'lambda': 0.12935282919579905, 'alpha': 0.0006466221224178539}. Best is trial 63 with value: 0.9509558338826631.\u001b[0m\n"
     ]
    },
    {
     "name": "stdout",
     "output_type": "stream",
     "text": [
      "[00:08:06] WARNING: C:/Users/Administrator/workspace/xgboost-win64_release_1.5.1/src/learner.cc:1115: Starting in XGBoost 1.3.0, the default evaluation metric used with the objective 'multi:softprob' was changed from 'merror' to 'mlogloss'. Explicitly set eval_metric if you'd like to restore the old behavior.\n"
     ]
    },
    {
     "name": "stderr",
     "output_type": "stream",
     "text": [
      "\u001b[32m[I 2022-04-04 00:08:19,573]\u001b[0m Trial 77 finished with value: 0.9496374423203692 and parameters: {'eta': 0.4143822829602268, 'max_depth': 6, 'booster': 'gbtree', 'lambda': 0.12802034963617331, 'alpha': 0.002682505437065414}. Best is trial 63 with value: 0.9509558338826631.\u001b[0m\n"
     ]
    },
    {
     "name": "stdout",
     "output_type": "stream",
     "text": [
      "[00:08:19] WARNING: C:/Users/Administrator/workspace/xgboost-win64_release_1.5.1/src/learner.cc:1115: Starting in XGBoost 1.3.0, the default evaluation metric used with the objective 'multi:softprob' was changed from 'merror' to 'mlogloss'. Explicitly set eval_metric if you'd like to restore the old behavior.\n"
     ]
    },
    {
     "name": "stderr",
     "output_type": "stream",
     "text": [
      "\u001b[32m[I 2022-04-04 00:08:32,534]\u001b[0m Trial 78 finished with value: 0.9493737640079104 and parameters: {'eta': 0.6793349290215379, 'max_depth': 6, 'booster': 'gbtree', 'lambda': 0.04336901334485346, 'alpha': 0.0015593040076693572}. Best is trial 63 with value: 0.9509558338826631.\u001b[0m\n"
     ]
    },
    {
     "name": "stdout",
     "output_type": "stream",
     "text": [
      "[00:08:32] WARNING: C:/Users/Administrator/workspace/xgboost-win64_release_1.5.1/src/learner.cc:1115: Starting in XGBoost 1.3.0, the default evaluation metric used with the objective 'multi:softprob' was changed from 'merror' to 'mlogloss'. Explicitly set eval_metric if you'd like to restore the old behavior.\n"
     ]
    },
    {
     "name": "stderr",
     "output_type": "stream",
     "text": [
      "\u001b[32m[I 2022-04-04 00:10:18,899]\u001b[0m Trial 79 finished with value: 0.9219512195121952 and parameters: {'eta': 0.02357064185972307, 'max_depth': 6, 'booster': 'dart', 'lambda': 0.07403899037617234, 'alpha': 6.946225582950888e-05}. Best is trial 63 with value: 0.9509558338826631.\u001b[0m\n"
     ]
    },
    {
     "name": "stdout",
     "output_type": "stream",
     "text": [
      "[00:10:19] WARNING: C:/Users/Administrator/workspace/xgboost-win64_release_1.5.1/src/learner.cc:1115: Starting in XGBoost 1.3.0, the default evaluation metric used with the objective 'multi:softprob' was changed from 'merror' to 'mlogloss'. Explicitly set eval_metric if you'd like to restore the old behavior.\n"
     ]
    },
    {
     "name": "stderr",
     "output_type": "stream",
     "text": [
      "\u001b[32m[I 2022-04-04 00:10:30,772]\u001b[0m Trial 80 finished with value: 0.9487145682267634 and parameters: {'eta': 0.5664095848745007, 'max_depth': 6, 'booster': 'gbtree', 'lambda': 0.017799310377201154, 'alpha': 2.4928615955944015e-05}. Best is trial 63 with value: 0.9509558338826631.\u001b[0m\n"
     ]
    },
    {
     "name": "stdout",
     "output_type": "stream",
     "text": [
      "[00:10:30] WARNING: C:/Users/Administrator/workspace/xgboost-win64_release_1.5.1/src/learner.cc:1115: Starting in XGBoost 1.3.0, the default evaluation metric used with the objective 'multi:softprob' was changed from 'merror' to 'mlogloss'. Explicitly set eval_metric if you'd like to restore the old behavior.\n"
     ]
    },
    {
     "name": "stderr",
     "output_type": "stream",
     "text": [
      "\u001b[32m[I 2022-04-04 00:10:44,685]\u001b[0m Trial 81 finished with value: 0.9500329597890573 and parameters: {'eta': 0.46154827671992144, 'max_depth': 6, 'booster': 'gbtree', 'lambda': 0.17029459352500426, 'alpha': 0.00033659679621131074}. Best is trial 63 with value: 0.9509558338826631.\u001b[0m\n"
     ]
    },
    {
     "name": "stdout",
     "output_type": "stream",
     "text": [
      "[00:10:44] WARNING: C:/Users/Administrator/workspace/xgboost-win64_release_1.5.1/src/learner.cc:1115: Starting in XGBoost 1.3.0, the default evaluation metric used with the objective 'multi:softprob' was changed from 'merror' to 'mlogloss'. Explicitly set eval_metric if you'd like to restore the old behavior.\n"
     ]
    },
    {
     "name": "stderr",
     "output_type": "stream",
     "text": [
      "\u001b[32m[I 2022-04-04 00:10:58,233]\u001b[0m Trial 82 finished with value: 0.9499011206328279 and parameters: {'eta': 0.28737357292375904, 'max_depth': 6, 'booster': 'gbtree', 'lambda': 4.374684647873902e-08, 'alpha': 0.00029249340243848245}. Best is trial 63 with value: 0.9509558338826631.\u001b[0m\n"
     ]
    },
    {
     "name": "stdout",
     "output_type": "stream",
     "text": [
      "[00:10:58] WARNING: C:/Users/Administrator/workspace/xgboost-win64_release_1.5.1/src/learner.cc:1115: Starting in XGBoost 1.3.0, the default evaluation metric used with the objective 'multi:softprob' was changed from 'merror' to 'mlogloss'. Explicitly set eval_metric if you'd like to restore the old behavior.\n"
     ]
    },
    {
     "name": "stderr",
     "output_type": "stream",
     "text": [
      "\u001b[32m[I 2022-04-04 00:11:10,378]\u001b[0m Trial 83 finished with value: 0.9480553724456163 and parameters: {'eta': 0.2194673060267657, 'max_depth': 6, 'booster': 'gbtree', 'lambda': 0.14186667593288993, 'alpha': 0.0006720040814483113}. Best is trial 63 with value: 0.9509558338826631.\u001b[0m\n"
     ]
    },
    {
     "name": "stdout",
     "output_type": "stream",
     "text": [
      "[00:11:10] WARNING: C:/Users/Administrator/workspace/xgboost-win64_release_1.5.1/src/learner.cc:1115: Starting in XGBoost 1.3.0, the default evaluation metric used with the objective 'multi:softprob' was changed from 'merror' to 'mlogloss'. Explicitly set eval_metric if you'd like to restore the old behavior.\n"
     ]
    },
    {
     "name": "stderr",
     "output_type": "stream",
     "text": [
      "\u001b[32m[I 2022-04-04 00:11:23,523]\u001b[0m Trial 84 finished with value: 0.9504284772577456 and parameters: {'eta': 0.842072274594225, 'max_depth': 6, 'booster': 'gbtree', 'lambda': 0.3448132013911507, 'alpha': 0.0004052106018540338}. Best is trial 63 with value: 0.9509558338826631.\u001b[0m\n"
     ]
    },
    {
     "name": "stdout",
     "output_type": "stream",
     "text": [
      "[00:11:23] WARNING: C:/Users/Administrator/workspace/xgboost-win64_release_1.5.1/src/learner.cc:1115: Starting in XGBoost 1.3.0, the default evaluation metric used with the objective 'multi:softprob' was changed from 'merror' to 'mlogloss'. Explicitly set eval_metric if you'd like to restore the old behavior.\n"
     ]
    },
    {
     "name": "stderr",
     "output_type": "stream",
     "text": [
      "\u001b[32m[I 2022-04-04 00:11:36,884]\u001b[0m Trial 85 finished with value: 0.9504284772577456 and parameters: {'eta': 0.840822842311954, 'max_depth': 6, 'booster': 'gbtree', 'lambda': 0.9399958721117545, 'alpha': 0.001307364664732994}. Best is trial 63 with value: 0.9509558338826631.\u001b[0m\n"
     ]
    },
    {
     "name": "stdout",
     "output_type": "stream",
     "text": [
      "[00:11:37] WARNING: C:/Users/Administrator/workspace/xgboost-win64_release_1.5.1/src/learner.cc:1115: Starting in XGBoost 1.3.0, the default evaluation metric used with the objective 'multi:softprob' was changed from 'merror' to 'mlogloss'. Explicitly set eval_metric if you'd like to restore the old behavior.\n"
     ]
    },
    {
     "name": "stderr",
     "output_type": "stream",
     "text": [
      "\u001b[32m[I 2022-04-04 00:11:50,139]\u001b[0m Trial 86 finished with value: 0.9483190507580751 and parameters: {'eta': 0.8857495561731562, 'max_depth': 6, 'booster': 'gbtree', 'lambda': 0.7966452079228504, 'alpha': 0.005943109734295255}. Best is trial 63 with value: 0.9509558338826631.\u001b[0m\n"
     ]
    },
    {
     "name": "stdout",
     "output_type": "stream",
     "text": [
      "[00:11:50] WARNING: C:/Users/Administrator/workspace/xgboost-win64_release_1.5.1/src/learner.cc:1115: Starting in XGBoost 1.3.0, the default evaluation metric used with the objective 'multi:softprob' was changed from 'merror' to 'mlogloss'. Explicitly set eval_metric if you'd like to restore the old behavior.\n"
     ]
    },
    {
     "name": "stderr",
     "output_type": "stream",
     "text": [
      "\u001b[32m[I 2022-04-04 00:12:03,488]\u001b[0m Trial 87 finished with value: 0.9495056031641398 and parameters: {'eta': 0.8163637079487035, 'max_depth': 6, 'booster': 'gbtree', 'lambda': 0.4808086290065262, 'alpha': 0.0015762835877865292}. Best is trial 63 with value: 0.9509558338826631.\u001b[0m\n"
     ]
    },
    {
     "name": "stdout",
     "output_type": "stream",
     "text": [
      "[00:12:03] WARNING: C:/Users/Administrator/workspace/xgboost-win64_release_1.5.1/src/learner.cc:1115: Starting in XGBoost 1.3.0, the default evaluation metric used with the objective 'multi:softprob' was changed from 'merror' to 'mlogloss'. Explicitly set eval_metric if you'd like to restore the old behavior.\n"
     ]
    },
    {
     "name": "stderr",
     "output_type": "stream",
     "text": [
      "\u001b[32m[I 2022-04-04 00:12:14,059]\u001b[0m Trial 88 finished with value: 0.9489782465392221 and parameters: {'eta': 0.6751770956216446, 'max_depth': 6, 'booster': 'gbtree', 'lambda': 0.2604858699739097, 'alpha': 0.0004252354549340338}. Best is trial 63 with value: 0.9509558338826631.\u001b[0m\n"
     ]
    },
    {
     "name": "stdout",
     "output_type": "stream",
     "text": [
      "[00:12:14] WARNING: C:/Users/Administrator/workspace/xgboost-win64_release_1.5.1/src/learner.cc:1115: Starting in XGBoost 1.3.0, the default evaluation metric used with the objective 'multi:softprob' was changed from 'merror' to 'mlogloss'. Explicitly set eval_metric if you'd like to restore the old behavior.\n"
     ]
    },
    {
     "name": "stderr",
     "output_type": "stream",
     "text": [
      "\u001b[32m[I 2022-04-04 00:12:28,046]\u001b[0m Trial 89 finished with value: 0.9491100856954515 and parameters: {'eta': 0.8215788134033978, 'max_depth': 6, 'booster': 'gbtree', 'lambda': 0.48544023563328276, 'alpha': 0.012067691081925363}. Best is trial 63 with value: 0.9509558338826631.\u001b[0m\n"
     ]
    },
    {
     "name": "stdout",
     "output_type": "stream",
     "text": [
      "[00:12:28] WARNING: C:/Users/Administrator/workspace/xgboost-win64_release_1.5.1/src/learner.cc:1115: Starting in XGBoost 1.3.0, the default evaluation metric used with the objective 'multi:softprob' was changed from 'merror' to 'mlogloss'. Explicitly set eval_metric if you'd like to restore the old behavior.\n"
     ]
    },
    {
     "name": "stderr",
     "output_type": "stream",
     "text": [
      "\u001b[32m[I 2022-04-04 00:12:41,142]\u001b[0m Trial 90 finished with value: 0.9496374423203692 and parameters: {'eta': 0.6323636814376691, 'max_depth': 6, 'booster': 'gbtree', 'lambda': 0.06173115426395325, 'alpha': 0.00019941826542767087}. Best is trial 63 with value: 0.9509558338826631.\u001b[0m\n"
     ]
    },
    {
     "name": "stdout",
     "output_type": "stream",
     "text": [
      "[00:12:41] WARNING: C:/Users/Administrator/workspace/xgboost-win64_release_1.5.1/src/learner.cc:1115: Starting in XGBoost 1.3.0, the default evaluation metric used with the objective 'multi:softprob' was changed from 'merror' to 'mlogloss'. Explicitly set eval_metric if you'd like to restore the old behavior.\n"
     ]
    },
    {
     "name": "stderr",
     "output_type": "stream",
     "text": [
      "\u001b[32m[I 2022-04-04 00:12:54,593]\u001b[0m Trial 91 finished with value: 0.9489782465392221 and parameters: {'eta': 0.5067728822192131, 'max_depth': 6, 'booster': 'gbtree', 'lambda': 0.2572811019118892, 'alpha': 0.21451850325857544}. Best is trial 63 with value: 0.9509558338826631.\u001b[0m\n"
     ]
    },
    {
     "name": "stdout",
     "output_type": "stream",
     "text": [
      "[00:12:54] WARNING: C:/Users/Administrator/workspace/xgboost-win64_release_1.5.1/src/learner.cc:1115: Starting in XGBoost 1.3.0, the default evaluation metric used with the objective 'multi:softprob' was changed from 'merror' to 'mlogloss'. Explicitly set eval_metric if you'd like to restore the old behavior.\n"
     ]
    },
    {
     "name": "stderr",
     "output_type": "stream",
     "text": [
      "\u001b[32m[I 2022-04-04 00:13:07,214]\u001b[0m Trial 92 finished with value: 0.9491100856954515 and parameters: {'eta': 0.3307586331486366, 'max_depth': 6, 'booster': 'gbtree', 'lambda': 0.026942858411734667, 'alpha': 0.001086231607425144}. Best is trial 63 with value: 0.9509558338826631.\u001b[0m\n"
     ]
    },
    {
     "name": "stdout",
     "output_type": "stream",
     "text": [
      "[00:13:07] WARNING: C:/Users/Administrator/workspace/xgboost-win64_release_1.5.1/src/learner.cc:1115: Starting in XGBoost 1.3.0, the default evaluation metric used with the objective 'multi:softprob' was changed from 'merror' to 'mlogloss'. Explicitly set eval_metric if you'd like to restore the old behavior.\n"
     ]
    },
    {
     "name": "stderr",
     "output_type": "stream",
     "text": [
      "\u001b[32m[I 2022-04-04 00:13:20,582]\u001b[0m Trial 93 finished with value: 0.9023071852340145 and parameters: {'eta': 0.0038696589440325086, 'max_depth': 6, 'booster': 'gbtree', 'lambda': 0.9404707230832411, 'alpha': 4.2194762060519136e-05}. Best is trial 63 with value: 0.9509558338826631.\u001b[0m\n"
     ]
    },
    {
     "name": "stdout",
     "output_type": "stream",
     "text": [
      "[00:13:20] WARNING: C:/Users/Administrator/workspace/xgboost-win64_release_1.5.1/src/learner.cc:1115: Starting in XGBoost 1.3.0, the default evaluation metric used with the objective 'multi:softprob' was changed from 'merror' to 'mlogloss'. Explicitly set eval_metric if you'd like to restore the old behavior.\n"
     ]
    },
    {
     "name": "stderr",
     "output_type": "stream",
     "text": [
      "\u001b[32m[I 2022-04-04 00:13:32,273]\u001b[0m Trial 94 finished with value: 0.9491100856954515 and parameters: {'eta': 0.559595008074554, 'max_depth': 6, 'booster': 'gbtree', 'lambda': 0.1941971317838836, 'alpha': 0.00013798550541733169}. Best is trial 63 with value: 0.9509558338826631.\u001b[0m\n"
     ]
    },
    {
     "name": "stdout",
     "output_type": "stream",
     "text": [
      "[00:13:32] WARNING: C:/Users/Administrator/workspace/xgboost-win64_release_1.5.1/src/learner.cc:1115: Starting in XGBoost 1.3.0, the default evaluation metric used with the objective 'multi:softprob' was changed from 'merror' to 'mlogloss'. Explicitly set eval_metric if you'd like to restore the old behavior.\n"
     ]
    },
    {
     "name": "stderr",
     "output_type": "stream",
     "text": [
      "\u001b[32m[I 2022-04-04 00:13:42,285]\u001b[0m Trial 95 finished with value: 0.9479235332893869 and parameters: {'eta': 0.999762635597736, 'max_depth': 6, 'booster': 'gbtree', 'lambda': 0.33194309886265716, 'alpha': 7.827447679189381e-05}. Best is trial 63 with value: 0.9509558338826631.\u001b[0m\n"
     ]
    },
    {
     "name": "stdout",
     "output_type": "stream",
     "text": [
      "[00:13:42] WARNING: C:/Users/Administrator/workspace/xgboost-win64_release_1.5.1/src/learner.cc:1115: Starting in XGBoost 1.3.0, the default evaluation metric used with the objective 'multi:softprob' was changed from 'merror' to 'mlogloss'. Explicitly set eval_metric if you'd like to restore the old behavior.\n"
     ]
    },
    {
     "name": "stderr",
     "output_type": "stream",
     "text": [
      "\u001b[32m[I 2022-04-04 00:13:53,849]\u001b[0m Trial 96 finished with value: 0.9492419248516809 and parameters: {'eta': 0.40931659499412587, 'max_depth': 6, 'booster': 'gbtree', 'lambda': 0.5948401326491661, 'alpha': 0.0002606617175586904}. Best is trial 63 with value: 0.9509558338826631.\u001b[0m\n"
     ]
    },
    {
     "name": "stdout",
     "output_type": "stream",
     "text": [
      "[00:13:53] WARNING: C:/Users/Administrator/workspace/xgboost-win64_release_1.5.1/src/learner.cc:1115: Starting in XGBoost 1.3.0, the default evaluation metric used with the objective 'multi:softprob' was changed from 'merror' to 'mlogloss'. Explicitly set eval_metric if you'd like to restore the old behavior.\n"
     ]
    },
    {
     "name": "stderr",
     "output_type": "stream",
     "text": [
      "\u001b[32m[I 2022-04-04 00:15:35,095]\u001b[0m Trial 97 finished with value: 0.9481872116018457 and parameters: {'eta': 0.7276211989956919, 'max_depth': 5, 'booster': 'dart', 'lambda': 0.10634421253898921, 'alpha': 7.677630100851669e-06}. Best is trial 63 with value: 0.9509558338826631.\u001b[0m\n"
     ]
    },
    {
     "name": "stdout",
     "output_type": "stream",
     "text": [
      "[00:15:35] WARNING: C:/Users/Administrator/workspace/xgboost-win64_release_1.5.1/src/learner.cc:1115: Starting in XGBoost 1.3.0, the default evaluation metric used with the objective 'multi:softprob' was changed from 'merror' to 'mlogloss'. Explicitly set eval_metric if you'd like to restore the old behavior.\n"
     ]
    },
    {
     "name": "stderr",
     "output_type": "stream",
     "text": [
      "\u001b[32m[I 2022-04-04 00:15:46,650]\u001b[0m Trial 98 finished with value: 0.9495056031641398 and parameters: {'eta': 0.513543009745405, 'max_depth': 6, 'booster': 'gbtree', 'lambda': 0.3525734875959907, 'alpha': 9.209596958132554e-05}. Best is trial 63 with value: 0.9509558338826631.\u001b[0m\n"
     ]
    },
    {
     "name": "stdout",
     "output_type": "stream",
     "text": [
      "[00:15:46] WARNING: C:/Users/Administrator/workspace/xgboost-win64_release_1.5.1/src/learner.cc:1115: Starting in XGBoost 1.3.0, the default evaluation metric used with the objective 'multi:softprob' was changed from 'merror' to 'mlogloss'. Explicitly set eval_metric if you'd like to restore the old behavior.\n"
     ]
    },
    {
     "name": "stderr",
     "output_type": "stream",
     "text": [
      "\u001b[32m[I 2022-04-04 00:15:58,753]\u001b[0m Trial 99 finished with value: 0.9472643375082399 and parameters: {'eta': 0.14612586684764872, 'max_depth': 6, 'booster': 'gbtree', 'lambda': 0.036750811070377226, 'alpha': 0.0006513184435040578}. Best is trial 63 with value: 0.9509558338826631.\u001b[0m\n"
     ]
    },
    {
     "name": "stdout",
     "output_type": "stream",
     "text": [
      "[00:15:58] WARNING: C:/Users/Administrator/workspace/xgboost-win64_release_1.5.1/src/learner.cc:1115: Starting in XGBoost 1.3.0, the default evaluation metric used with the objective 'multi:softprob' was changed from 'merror' to 'mlogloss'. Explicitly set eval_metric if you'd like to restore the old behavior.\n"
     ]
    },
    {
     "name": "stderr",
     "output_type": "stream",
     "text": [
      "\u001b[32m[I 2022-04-04 00:16:10,533]\u001b[0m Trial 100 finished with value: 0.9502966381015161 and parameters: {'eta': 0.38662556485253136, 'max_depth': 6, 'booster': 'gbtree', 'lambda': 0.18476491110562945, 'alpha': 0.004690261502038793}. Best is trial 63 with value: 0.9509558338826631.\u001b[0m\n"
     ]
    },
    {
     "name": "stdout",
     "output_type": "stream",
     "text": [
      "[00:16:10] WARNING: C:/Users/Administrator/workspace/xgboost-win64_release_1.5.1/src/learner.cc:1115: Starting in XGBoost 1.3.0, the default evaluation metric used with the objective 'multi:softprob' was changed from 'merror' to 'mlogloss'. Explicitly set eval_metric if you'd like to restore the old behavior.\n"
     ]
    },
    {
     "name": "stderr",
     "output_type": "stream",
     "text": [
      "\u001b[32m[I 2022-04-04 00:16:21,663]\u001b[0m Trial 101 finished with value: 0.9495056031641398 and parameters: {'eta': 0.45976850333883934, 'max_depth': 6, 'booster': 'gbtree', 'lambda': 0.09597627109787442, 'alpha': 0.0021249760447322845}. Best is trial 63 with value: 0.9509558338826631.\u001b[0m\n"
     ]
    },
    {
     "name": "stdout",
     "output_type": "stream",
     "text": [
      "[00:16:21] WARNING: C:/Users/Administrator/workspace/xgboost-win64_release_1.5.1/src/learner.cc:1115: Starting in XGBoost 1.3.0, the default evaluation metric used with the objective 'multi:softprob' was changed from 'merror' to 'mlogloss'. Explicitly set eval_metric if you'd like to restore the old behavior.\n"
     ]
    },
    {
     "name": "stderr",
     "output_type": "stream",
     "text": [
      "\u001b[32m[I 2022-04-04 00:16:30,956]\u001b[0m Trial 102 finished with value: 0.9489782465392221 and parameters: {'eta': 0.3459032420666457, 'max_depth': 6, 'booster': 'gbtree', 'lambda': 0.19387761954374105, 'alpha': 0.004811190762380227}. Best is trial 63 with value: 0.9509558338826631.\u001b[0m\n"
     ]
    },
    {
     "name": "stdout",
     "output_type": "stream",
     "text": [
      "[00:16:31] WARNING: C:/Users/Administrator/workspace/xgboost-win64_release_1.5.1/src/learner.cc:1115: Starting in XGBoost 1.3.0, the default evaluation metric used with the objective 'multi:softprob' was changed from 'merror' to 'mlogloss'. Explicitly set eval_metric if you'd like to restore the old behavior.\n"
     ]
    },
    {
     "name": "stderr",
     "output_type": "stream",
     "text": [
      "\u001b[32m[I 2022-04-04 00:16:42,471]\u001b[0m Trial 103 finished with value: 0.9487145682267634 and parameters: {'eta': 0.2680674858001352, 'max_depth': 6, 'booster': 'gbtree', 'lambda': 4.796883658325629e-08, 'alpha': 0.00037353808072764525}. Best is trial 63 with value: 0.9509558338826631.\u001b[0m\n"
     ]
    },
    {
     "name": "stdout",
     "output_type": "stream",
     "text": [
      "[00:16:42] WARNING: C:/Users/Administrator/workspace/xgboost-win64_release_1.5.1/src/learner.cc:1115: Starting in XGBoost 1.3.0, the default evaluation metric used with the objective 'multi:softprob' was changed from 'merror' to 'mlogloss'. Explicitly set eval_metric if you'd like to restore the old behavior.\n"
     ]
    },
    {
     "name": "stderr",
     "output_type": "stream",
     "text": [
      "\u001b[32m[I 2022-04-04 00:16:54,467]\u001b[0m Trial 104 finished with value: 0.9493737640079104 and parameters: {'eta': 0.3084549621444974, 'max_depth': 6, 'booster': 'gbtree', 'lambda': 3.161642346785853e-08, 'alpha': 0.0009435329664996473}. Best is trial 63 with value: 0.9509558338826631.\u001b[0m\n"
     ]
    },
    {
     "name": "stdout",
     "output_type": "stream",
     "text": [
      "[00:16:54] WARNING: C:/Users/Administrator/workspace/xgboost-win64_release_1.5.1/src/learner.cc:1115: Starting in XGBoost 1.3.0, the default evaluation metric used with the objective 'multi:softprob' was changed from 'merror' to 'mlogloss'. Explicitly set eval_metric if you'd like to restore the old behavior.\n"
     ]
    },
    {
     "name": "stderr",
     "output_type": "stream",
     "text": [
      "\u001b[32m[I 2022-04-04 00:17:06,138]\u001b[0m Trial 105 finished with value: 0.9501647989452867 and parameters: {'eta': 0.6130753935531044, 'max_depth': 6, 'booster': 'gbtree', 'lambda': 0.0061443996652212115, 'alpha': 1.6845959097537252e-05}. Best is trial 63 with value: 0.9509558338826631.\u001b[0m\n"
     ]
    },
    {
     "name": "stdout",
     "output_type": "stream",
     "text": [
      "[00:17:06] WARNING: C:/Users/Administrator/workspace/xgboost-win64_release_1.5.1/src/learner.cc:1115: Starting in XGBoost 1.3.0, the default evaluation metric used with the objective 'multi:softprob' was changed from 'merror' to 'mlogloss'. Explicitly set eval_metric if you'd like to restore the old behavior.\n"
     ]
    },
    {
     "name": "stderr",
     "output_type": "stream",
     "text": [
      "\u001b[32m[I 2022-04-04 00:17:17,644]\u001b[0m Trial 106 finished with value: 0.9493737640079104 and parameters: {'eta': 0.6540204354115138, 'max_depth': 6, 'booster': 'gbtree', 'lambda': 3.6053837367186817e-07, 'alpha': 1.7645424842423284e-08}. Best is trial 63 with value: 0.9509558338826631.\u001b[0m\n"
     ]
    },
    {
     "name": "stdout",
     "output_type": "stream",
     "text": [
      "[00:17:17] WARNING: C:/Users/Administrator/workspace/xgboost-win64_release_1.5.1/src/learner.cc:1115: Starting in XGBoost 1.3.0, the default evaluation metric used with the objective 'multi:softprob' was changed from 'merror' to 'mlogloss'. Explicitly set eval_metric if you'd like to restore the old behavior.\n"
     ]
    },
    {
     "name": "stderr",
     "output_type": "stream",
     "text": [
      "\u001b[32m[I 2022-04-04 00:17:27,461]\u001b[0m Trial 107 finished with value: 0.948582729070534 and parameters: {'eta': 0.8512665873691247, 'max_depth': 5, 'booster': 'gbtree', 'lambda': 0.008848937995643126, 'alpha': 1.8239034668851387e-05}. Best is trial 63 with value: 0.9509558338826631.\u001b[0m\n"
     ]
    },
    {
     "name": "stdout",
     "output_type": "stream",
     "text": [
      "[00:17:27] WARNING: C:/Users/Administrator/workspace/xgboost-win64_release_1.5.1/src/learner.cc:1115: Starting in XGBoost 1.3.0, the default evaluation metric used with the objective 'multi:softprob' was changed from 'merror' to 'mlogloss'. Explicitly set eval_metric if you'd like to restore the old behavior.\n"
     ]
    },
    {
     "name": "stderr",
     "output_type": "stream",
     "text": [
      "\u001b[32m[I 2022-04-04 00:17:39,362]\u001b[0m Trial 108 finished with value: 0.9483190507580751 and parameters: {'eta': 0.18099701229977364, 'max_depth': 6, 'booster': 'gbtree', 'lambda': 0.06064219612677553, 'alpha': 0.007611502696699761}. Best is trial 63 with value: 0.9509558338826631.\u001b[0m\n"
     ]
    },
    {
     "name": "stdout",
     "output_type": "stream",
     "text": [
      "[00:17:39] WARNING: C:/Users/Administrator/workspace/xgboost-win64_release_1.5.1/src/learner.cc:1115: Starting in XGBoost 1.3.0, the default evaluation metric used with the objective 'multi:softprob' was changed from 'merror' to 'mlogloss'. Explicitly set eval_metric if you'd like to restore the old behavior.\n"
     ]
    },
    {
     "name": "stderr",
     "output_type": "stream",
     "text": [
      "\u001b[32m[I 2022-04-04 00:17:49,555]\u001b[0m Trial 109 finished with value: 0.9487145682267634 and parameters: {'eta': 0.23882543704275208, 'max_depth': 6, 'booster': 'gbtree', 'lambda': 0.002687957107959575, 'alpha': 0.011172260003932417}. Best is trial 63 with value: 0.9509558338826631.\u001b[0m\n"
     ]
    },
    {
     "name": "stdout",
     "output_type": "stream",
     "text": [
      "[00:17:49] WARNING: C:/Users/Administrator/workspace/xgboost-win64_release_1.5.1/src/learner.cc:1115: Starting in XGBoost 1.3.0, the default evaluation metric used with the objective 'multi:softprob' was changed from 'merror' to 'mlogloss'. Explicitly set eval_metric if you'd like to restore the old behavior.\n"
     ]
    },
    {
     "name": "stderr",
     "output_type": "stream",
     "text": [
      "\u001b[32m[I 2022-04-04 00:17:54,225]\u001b[0m Trial 110 finished with value: 0.9438365194462756 and parameters: {'eta': 0.3744970875812685, 'max_depth': 2, 'booster': 'gbtree', 'lambda': 0.6200916488076708, 'alpha': 1.1732049200232701e-05}. Best is trial 63 with value: 0.9509558338826631.\u001b[0m\n"
     ]
    },
    {
     "name": "stdout",
     "output_type": "stream",
     "text": [
      "[00:17:54] WARNING: C:/Users/Administrator/workspace/xgboost-win64_release_1.5.1/src/learner.cc:1115: Starting in XGBoost 1.3.0, the default evaluation metric used with the objective 'multi:softprob' was changed from 'merror' to 'mlogloss'. Explicitly set eval_metric if you'd like to restore the old behavior.\n"
     ]
    },
    {
     "name": "stderr",
     "output_type": "stream",
     "text": [
      "\u001b[32m[I 2022-04-04 00:18:05,944]\u001b[0m Trial 111 finished with value: 0.9493737640079104 and parameters: {'eta': 0.5205530861639696, 'max_depth': 6, 'booster': 'gbtree', 'lambda': 0.33472737474169, 'alpha': 0.00016496556664684248}. Best is trial 63 with value: 0.9509558338826631.\u001b[0m\n"
     ]
    },
    {
     "name": "stdout",
     "output_type": "stream",
     "text": [
      "[00:18:06] WARNING: C:/Users/Administrator/workspace/xgboost-win64_release_1.5.1/src/learner.cc:1115: Starting in XGBoost 1.3.0, the default evaluation metric used with the objective 'multi:softprob' was changed from 'merror' to 'mlogloss'. Explicitly set eval_metric if you'd like to restore the old behavior.\n"
     ]
    },
    {
     "name": "stderr",
     "output_type": "stream",
     "text": [
      "\u001b[32m[I 2022-04-04 00:18:17,428]\u001b[0m Trial 112 finished with value: 0.9488464073829928 and parameters: {'eta': 0.5947469333878688, 'max_depth': 6, 'booster': 'gbtree', 'lambda': 0.0051094004208111325, 'alpha': 5.064791506817992e-05}. Best is trial 63 with value: 0.9509558338826631.\u001b[0m\n"
     ]
    },
    {
     "name": "stdout",
     "output_type": "stream",
     "text": [
      "[00:18:17] WARNING: C:/Users/Administrator/workspace/xgboost-win64_release_1.5.1/src/learner.cc:1115: Starting in XGBoost 1.3.0, the default evaluation metric used with the objective 'multi:softprob' was changed from 'merror' to 'mlogloss'. Explicitly set eval_metric if you'd like to restore the old behavior.\n"
     ]
    },
    {
     "name": "stderr",
     "output_type": "stream",
     "text": [
      "\u001b[32m[I 2022-04-04 00:18:28,462]\u001b[0m Trial 113 finished with value: 0.9496374423203692 and parameters: {'eta': 0.4473986031113467, 'max_depth': 6, 'booster': 'gbtree', 'lambda': 0.19581877672744252, 'alpha': 3.884645269158504e-06}. Best is trial 63 with value: 0.9509558338826631.\u001b[0m\n"
     ]
    },
    {
     "name": "stdout",
     "output_type": "stream",
     "text": [
      "[00:18:28] WARNING: C:/Users/Administrator/workspace/xgboost-win64_release_1.5.1/src/learner.cc:1115: Starting in XGBoost 1.3.0, the default evaluation metric used with the objective 'multi:softprob' was changed from 'merror' to 'mlogloss'. Explicitly set eval_metric if you'd like to restore the old behavior.\n"
     ]
    },
    {
     "name": "stderr",
     "output_type": "stream",
     "text": [
      "\u001b[32m[I 2022-04-04 00:18:39,300]\u001b[0m Trial 114 finished with value: 0.9497692814765986 and parameters: {'eta': 0.30169308899900193, 'max_depth': 6, 'booster': 'gbtree', 'lambda': 0.014245419808792532, 'alpha': 0.00026662259403949717}. Best is trial 63 with value: 0.9509558338826631.\u001b[0m\n"
     ]
    },
    {
     "name": "stdout",
     "output_type": "stream",
     "text": [
      "[00:18:39] WARNING: C:/Users/Administrator/workspace/xgboost-win64_release_1.5.1/src/learner.cc:1115: Starting in XGBoost 1.3.0, the default evaluation metric used with the objective 'multi:softprob' was changed from 'merror' to 'mlogloss'. Explicitly set eval_metric if you'd like to restore the old behavior.\n"
     ]
    },
    {
     "name": "stderr",
     "output_type": "stream",
     "text": [
      "\u001b[32m[I 2022-04-04 00:18:50,868]\u001b[0m Trial 115 finished with value: 0.9495056031641398 and parameters: {'eta': 0.7219958076300249, 'max_depth': 6, 'booster': 'gbtree', 'lambda': 3.0345393930459826e-07, 'alpha': 0.000495728881817969}. Best is trial 63 with value: 0.9509558338826631.\u001b[0m\n"
     ]
    },
    {
     "name": "stdout",
     "output_type": "stream",
     "text": [
      "[00:18:50] WARNING: C:/Users/Administrator/workspace/xgboost-win64_release_1.5.1/src/learner.cc:1115: Starting in XGBoost 1.3.0, the default evaluation metric used with the objective 'multi:softprob' was changed from 'merror' to 'mlogloss'. Explicitly set eval_metric if you'd like to restore the old behavior.\n"
     ]
    },
    {
     "name": "stderr",
     "output_type": "stream",
     "text": [
      "\u001b[32m[I 2022-04-04 00:20:35,170]\u001b[0m Trial 116 finished with value: 0.9501647989452867 and parameters: {'eta': 0.3826219021105583, 'max_depth': 6, 'booster': 'dart', 'lambda': 0.006130191552455619, 'alpha': 2.3564119568438396e-05}. Best is trial 63 with value: 0.9509558338826631.\u001b[0m\n"
     ]
    },
    {
     "name": "stdout",
     "output_type": "stream",
     "text": [
      "[00:20:35] WARNING: C:/Users/Administrator/workspace/xgboost-win64_release_1.5.1/src/learner.cc:1115: Starting in XGBoost 1.3.0, the default evaluation metric used with the objective 'multi:softprob' was changed from 'merror' to 'mlogloss'. Explicitly set eval_metric if you'd like to restore the old behavior.\n"
     ]
    },
    {
     "name": "stderr",
     "output_type": "stream",
     "text": [
      "\u001b[32m[I 2022-04-04 00:22:17,771]\u001b[0m Trial 117 finished with value: 0.9493737640079104 and parameters: {'eta': 0.38245123228224376, 'max_depth': 6, 'booster': 'dart', 'lambda': 0.0019364218203653386, 'alpha': 2.8898971439847512e-05}. Best is trial 63 with value: 0.9509558338826631.\u001b[0m\n"
     ]
    },
    {
     "name": "stdout",
     "output_type": "stream",
     "text": [
      "[00:22:17] WARNING: C:/Users/Administrator/workspace/xgboost-win64_release_1.5.1/src/learner.cc:1115: Starting in XGBoost 1.3.0, the default evaluation metric used with the objective 'multi:softprob' was changed from 'merror' to 'mlogloss'. Explicitly set eval_metric if you'd like to restore the old behavior.\n"
     ]
    },
    {
     "name": "stderr",
     "output_type": "stream",
     "text": [
      "\u001b[32m[I 2022-04-04 00:24:01,278]\u001b[0m Trial 118 finished with value: 0.9495056031641398 and parameters: {'eta': 0.4393304001607232, 'max_depth': 6, 'booster': 'dart', 'lambda': 0.03172407902094718, 'alpha': 1.886833904659877e-05}. Best is trial 63 with value: 0.9509558338826631.\u001b[0m\n"
     ]
    },
    {
     "name": "stdout",
     "output_type": "stream",
     "text": [
      "[00:24:01] WARNING: C:/Users/Administrator/workspace/xgboost-win64_release_1.5.1/src/learner.cc:1115: Starting in XGBoost 1.3.0, the default evaluation metric used with the objective 'multi:softprob' was changed from 'merror' to 'mlogloss'. Explicitly set eval_metric if you'd like to restore the old behavior.\n"
     ]
    },
    {
     "name": "stderr",
     "output_type": "stream",
     "text": [
      "\u001b[32m[I 2022-04-04 00:25:42,971]\u001b[0m Trial 119 finished with value: 0.9499011206328279 and parameters: {'eta': 0.6099613434131153, 'max_depth': 6, 'booster': 'dart', 'lambda': 0.09292708043293219, 'alpha': 0.0023998547618956302}. Best is trial 63 with value: 0.9509558338826631.\u001b[0m\n"
     ]
    },
    {
     "name": "stdout",
     "output_type": "stream",
     "text": [
      "[00:25:43] WARNING: C:/Users/Administrator/workspace/xgboost-win64_release_1.5.1/src/learner.cc:1115: Starting in XGBoost 1.3.0, the default evaluation metric used with the objective 'multi:softprob' was changed from 'merror' to 'mlogloss'. Explicitly set eval_metric if you'd like to restore the old behavior.\n"
     ]
    },
    {
     "name": "stderr",
     "output_type": "stream",
     "text": [
      "\u001b[32m[I 2022-04-04 00:27:22,824]\u001b[0m Trial 120 finished with value: 0.9477916941331576 and parameters: {'eta': 0.8918764622874429, 'max_depth': 5, 'booster': 'dart', 'lambda': 0.024642015025933675, 'alpha': 0.004044436409144625}. Best is trial 63 with value: 0.9509558338826631.\u001b[0m\n"
     ]
    },
    {
     "name": "stdout",
     "output_type": "stream",
     "text": [
      "[00:27:22] WARNING: C:/Users/Administrator/workspace/xgboost-win64_release_1.5.1/src/learner.cc:1115: Starting in XGBoost 1.3.0, the default evaluation metric used with the objective 'multi:softprob' was changed from 'merror' to 'mlogloss'. Explicitly set eval_metric if you'd like to restore the old behavior.\n"
     ]
    },
    {
     "name": "stderr",
     "output_type": "stream",
     "text": [
      "\u001b[32m[I 2022-04-04 00:29:03,566]\u001b[0m Trial 121 finished with value: 0.9489782465392221 and parameters: {'eta': 0.3821412345974379, 'max_depth': 6, 'booster': 'dart', 'lambda': 0.14706884823470537, 'alpha': 0.0005574450272661151}. Best is trial 63 with value: 0.9509558338826631.\u001b[0m\n"
     ]
    },
    {
     "name": "stdout",
     "output_type": "stream",
     "text": [
      "[00:29:03] WARNING: C:/Users/Administrator/workspace/xgboost-win64_release_1.5.1/src/learner.cc:1115: Starting in XGBoost 1.3.0, the default evaluation metric used with the objective 'multi:softprob' was changed from 'merror' to 'mlogloss'. Explicitly set eval_metric if you'd like to restore the old behavior.\n"
     ]
    },
    {
     "name": "stderr",
     "output_type": "stream",
     "text": [
      "\u001b[32m[I 2022-04-04 00:29:15,222]\u001b[0m Trial 122 finished with value: 0.9489782465392221 and parameters: {'eta': 0.5200210500965357, 'max_depth': 6, 'booster': 'gbtree', 'lambda': 0.006095896785689395, 'alpha': 2.758057566125311e-05}. Best is trial 63 with value: 0.9509558338826631.\u001b[0m\n"
     ]
    },
    {
     "name": "stdout",
     "output_type": "stream",
     "text": [
      "[00:29:15] WARNING: C:/Users/Administrator/workspace/xgboost-win64_release_1.5.1/src/learner.cc:1115: Starting in XGBoost 1.3.0, the default evaluation metric used with the objective 'multi:softprob' was changed from 'merror' to 'mlogloss'. Explicitly set eval_metric if you'd like to restore the old behavior.\n"
     ]
    },
    {
     "name": "stderr",
     "output_type": "stream",
     "text": [
      "\u001b[32m[I 2022-04-04 00:29:26,741]\u001b[0m Trial 123 finished with value: 0.9499011206328279 and parameters: {'eta': 0.770503583734642, 'max_depth': 6, 'booster': 'gbtree', 'lambda': 0.01313479838482652, 'alpha': 1.0430837946903154e-05}. Best is trial 63 with value: 0.9509558338826631.\u001b[0m\n"
     ]
    },
    {
     "name": "stdout",
     "output_type": "stream",
     "text": [
      "[00:29:26] WARNING: C:/Users/Administrator/workspace/xgboost-win64_release_1.5.1/src/learner.cc:1115: Starting in XGBoost 1.3.0, the default evaluation metric used with the objective 'multi:softprob' was changed from 'merror' to 'mlogloss'. Explicitly set eval_metric if you'd like to restore the old behavior.\n"
     ]
    },
    {
     "name": "stderr",
     "output_type": "stream",
     "text": [
      "\u001b[32m[I 2022-04-04 00:29:38,273]\u001b[0m Trial 124 finished with value: 0.9481872116018457 and parameters: {'eta': 0.45633152918012926, 'max_depth': 6, 'booster': 'gbtree', 'lambda': 0.5037491622677313, 'alpha': 0.0003238878627735338}. Best is trial 63 with value: 0.9509558338826631.\u001b[0m\n"
     ]
    },
    {
     "name": "stdout",
     "output_type": "stream",
     "text": [
      "[00:29:38] WARNING: C:/Users/Administrator/workspace/xgboost-win64_release_1.5.1/src/learner.cc:1115: Starting in XGBoost 1.3.0, the default evaluation metric used with the objective 'multi:softprob' was changed from 'merror' to 'mlogloss'. Explicitly set eval_metric if you'd like to restore the old behavior.\n"
     ]
    },
    {
     "name": "stderr",
     "output_type": "stream",
     "text": [
      "\u001b[32m[I 2022-04-04 00:29:51,343]\u001b[0m Trial 125 finished with value: 0.9301252471984179 and parameters: {'eta': 0.03476046512939369, 'max_depth': 6, 'booster': 'gbtree', 'lambda': 0.9298355948224953, 'alpha': 8.298076605285083e-05}. Best is trial 63 with value: 0.9509558338826631.\u001b[0m\n"
     ]
    },
    {
     "name": "stdout",
     "output_type": "stream",
     "text": [
      "[00:29:51] WARNING: C:/Users/Administrator/workspace/xgboost-win64_release_1.5.1/src/learner.cc:1115: Starting in XGBoost 1.3.0, the default evaluation metric used with the objective 'multi:softprob' was changed from 'merror' to 'mlogloss'. Explicitly set eval_metric if you'd like to restore the old behavior.\n"
     ]
    },
    {
     "name": "stderr",
     "output_type": "stream",
     "text": [
      "\u001b[32m[I 2022-04-04 00:30:03,223]\u001b[0m Trial 126 finished with value: 0.9492419248516809 and parameters: {'eta': 0.2744112504298448, 'max_depth': 6, 'booster': 'gbtree', 'lambda': 1.142810696529872e-06, 'alpha': 0.0014105689246555623}. Best is trial 63 with value: 0.9509558338826631.\u001b[0m\n"
     ]
    },
    {
     "name": "stdout",
     "output_type": "stream",
     "text": [
      "[00:30:03] WARNING: C:/Users/Administrator/workspace/xgboost-win64_release_1.5.1/src/learner.cc:1115: Starting in XGBoost 1.3.0, the default evaluation metric used with the objective 'multi:softprob' was changed from 'merror' to 'mlogloss'. Explicitly set eval_metric if you'd like to restore the old behavior.\n"
     ]
    },
    {
     "name": "stderr",
     "output_type": "stream",
     "text": [
      "\u001b[32m[I 2022-04-04 00:31:46,072]\u001b[0m Trial 127 finished with value: 0.9491100856954515 and parameters: {'eta': 0.33317844103441857, 'max_depth': 6, 'booster': 'dart', 'lambda': 0.003697701785513103, 'alpha': 0.0008380136211507375}. Best is trial 63 with value: 0.9509558338826631.\u001b[0m\n"
     ]
    },
    {
     "name": "stdout",
     "output_type": "stream",
     "text": [
      "[00:31:46] WARNING: C:/Users/Administrator/workspace/xgboost-win64_release_1.5.1/src/learner.cc:1115: Starting in XGBoost 1.3.0, the default evaluation metric used with the objective 'multi:softprob' was changed from 'merror' to 'mlogloss'. Explicitly set eval_metric if you'd like to restore the old behavior.\n"
     ]
    },
    {
     "name": "stderr",
     "output_type": "stream",
     "text": [
      "\u001b[32m[I 2022-04-04 00:31:56,672]\u001b[0m Trial 128 finished with value: 0.9504284772577456 and parameters: {'eta': 0.5406768267093469, 'max_depth': 6, 'booster': 'gbtree', 'lambda': 0.2542127734911011, 'alpha': 5.029177317078208e-05}. Best is trial 63 with value: 0.9509558338826631.\u001b[0m\n"
     ]
    },
    {
     "name": "stdout",
     "output_type": "stream",
     "text": [
      "[00:31:56] WARNING: C:/Users/Administrator/workspace/xgboost-win64_release_1.5.1/src/learner.cc:1115: Starting in XGBoost 1.3.0, the default evaluation metric used with the objective 'multi:softprob' was changed from 'merror' to 'mlogloss'. Explicitly set eval_metric if you'd like to restore the old behavior.\n"
     ]
    },
    {
     "name": "stderr",
     "output_type": "stream",
     "text": [
      "\u001b[32m[I 2022-04-04 00:32:08,164]\u001b[0m Trial 129 finished with value: 0.9492419248516809 and parameters: {'eta': 0.6507167061200229, 'max_depth': 6, 'booster': 'gbtree', 'lambda': 0.058671676135091166, 'alpha': 6.336135711357487e-05}. Best is trial 63 with value: 0.9509558338826631.\u001b[0m\n"
     ]
    },
    {
     "name": "stdout",
     "output_type": "stream",
     "text": [
      "[00:32:08] WARNING: C:/Users/Administrator/workspace/xgboost-win64_release_1.5.1/src/learner.cc:1115: Starting in XGBoost 1.3.0, the default evaluation metric used with the objective 'multi:softprob' was changed from 'merror' to 'mlogloss'. Explicitly set eval_metric if you'd like to restore the old behavior.\n"
     ]
    },
    {
     "name": "stderr",
     "output_type": "stream",
     "text": [
      "\u001b[32m[I 2022-04-04 00:32:22,061]\u001b[0m Trial 130 finished with value: 0.9085036255767963 and parameters: {'eta': 0.00965613229712099, 'max_depth': 6, 'booster': 'gbtree', 'lambda': 0.22952782927206336, 'alpha': 0.00019750252084691088}. Best is trial 63 with value: 0.9509558338826631.\u001b[0m\n"
     ]
    },
    {
     "name": "stdout",
     "output_type": "stream",
     "text": [
      "[00:32:22] WARNING: C:/Users/Administrator/workspace/xgboost-win64_release_1.5.1/src/learner.cc:1115: Starting in XGBoost 1.3.0, the default evaluation metric used with the objective 'multi:softprob' was changed from 'merror' to 'mlogloss'. Explicitly set eval_metric if you'd like to restore the old behavior.\n"
     ]
    },
    {
     "name": "stderr",
     "output_type": "stream",
     "text": [
      "\u001b[32m[I 2022-04-04 00:32:32,757]\u001b[0m Trial 131 finished with value: 0.9491100856954515 and parameters: {'eta': 0.5739360885372226, 'max_depth': 6, 'booster': 'gbtree', 'lambda': 0.007153206237610513, 'alpha': 3.714677387626085e-05}. Best is trial 63 with value: 0.9509558338826631.\u001b[0m\n"
     ]
    },
    {
     "name": "stdout",
     "output_type": "stream",
     "text": [
      "[00:32:32] WARNING: C:/Users/Administrator/workspace/xgboost-win64_release_1.5.1/src/learner.cc:1115: Starting in XGBoost 1.3.0, the default evaluation metric used with the objective 'multi:softprob' was changed from 'merror' to 'mlogloss'. Explicitly set eval_metric if you'd like to restore the old behavior.\n"
     ]
    },
    {
     "name": "stderr",
     "output_type": "stream",
     "text": [
      "\u001b[32m[I 2022-04-04 00:32:40,225]\u001b[0m Trial 132 finished with value: 0.9496374423203692 and parameters: {'eta': 0.4604648005639803, 'max_depth': 4, 'booster': 'gbtree', 'lambda': 0.5841102753465389, 'alpha': 6.693718462899605e-06}. Best is trial 63 with value: 0.9509558338826631.\u001b[0m\n"
     ]
    },
    {
     "name": "stdout",
     "output_type": "stream",
     "text": [
      "[00:32:40] WARNING: C:/Users/Administrator/workspace/xgboost-win64_release_1.5.1/src/learner.cc:1115: Starting in XGBoost 1.3.0, the default evaluation metric used with the objective 'multi:softprob' was changed from 'merror' to 'mlogloss'. Explicitly set eval_metric if you'd like to restore the old behavior.\n"
     ]
    },
    {
     "name": "stderr",
     "output_type": "stream",
     "text": [
      "\u001b[32m[I 2022-04-04 00:32:51,759]\u001b[0m Trial 133 finished with value: 0.9487145682267634 and parameters: {'eta': 0.5425300354921067, 'max_depth': 6, 'booster': 'gbtree', 'lambda': 0.001395360216164622, 'alpha': 0.00011409256430576784}. Best is trial 63 with value: 0.9509558338826631.\u001b[0m\n"
     ]
    },
    {
     "name": "stdout",
     "output_type": "stream",
     "text": [
      "[00:32:51] WARNING: C:/Users/Administrator/workspace/xgboost-win64_release_1.5.1/src/learner.cc:1115: Starting in XGBoost 1.3.0, the default evaluation metric used with the objective 'multi:softprob' was changed from 'merror' to 'mlogloss'. Explicitly set eval_metric if you'd like to restore the old behavior.\n"
     ]
    },
    {
     "name": "stderr",
     "output_type": "stream",
     "text": [
      "\u001b[32m[I 2022-04-04 00:33:03,310]\u001b[0m Trial 134 finished with value: 0.9495056031641398 and parameters: {'eta': 0.7634984242099421, 'max_depth': 6, 'booster': 'gbtree', 'lambda': 0.009325991575416241, 'alpha': 4.715548751243483e-08}. Best is trial 63 with value: 0.9509558338826631.\u001b[0m\n"
     ]
    },
    {
     "name": "stdout",
     "output_type": "stream",
     "text": [
      "[00:33:03] WARNING: C:/Users/Administrator/workspace/xgboost-win64_release_1.5.1/src/learner.cc:1115: Starting in XGBoost 1.3.0, the default evaluation metric used with the objective 'multi:softprob' was changed from 'merror' to 'mlogloss'. Explicitly set eval_metric if you'd like to restore the old behavior.\n"
     ]
    },
    {
     "name": "stderr",
     "output_type": "stream",
     "text": [
      "\u001b[32m[I 2022-04-04 00:33:14,976]\u001b[0m Trial 135 finished with value: 0.9495056031641398 and parameters: {'eta': 0.38723039448587654, 'max_depth': 6, 'booster': 'gbtree', 'lambda': 0.01990032942614604, 'alpha': 1.7613573755665936e-05}. Best is trial 63 with value: 0.9509558338826631.\u001b[0m\n"
     ]
    },
    {
     "name": "stdout",
     "output_type": "stream",
     "text": [
      "[00:33:15] WARNING: C:/Users/Administrator/workspace/xgboost-win64_release_1.5.1/src/learner.cc:1115: Starting in XGBoost 1.3.0, the default evaluation metric used with the objective 'multi:softprob' was changed from 'merror' to 'mlogloss'. Explicitly set eval_metric if you'd like to restore the old behavior.\n"
     ]
    },
    {
     "name": "stderr",
     "output_type": "stream",
     "text": [
      "\u001b[32m[I 2022-04-04 00:33:26,455]\u001b[0m Trial 136 finished with value: 0.9493737640079104 and parameters: {'eta': 0.6618235112907359, 'max_depth': 6, 'booster': 'gbtree', 'lambda': 0.3872614618041138, 'alpha': 5.254037857520669e-05}. Best is trial 63 with value: 0.9509558338826631.\u001b[0m\n"
     ]
    },
    {
     "name": "stdout",
     "output_type": "stream",
     "text": [
      "[00:33:26] WARNING: C:/Users/Administrator/workspace/xgboost-win64_release_1.5.1/src/learner.cc:1115: Starting in XGBoost 1.3.0, the default evaluation metric used with the objective 'multi:softprob' was changed from 'merror' to 'mlogloss'. Explicitly set eval_metric if you'd like to restore the old behavior.\n"
     ]
    },
    {
     "name": "stderr",
     "output_type": "stream",
     "text": [
      "\u001b[32m[I 2022-04-04 00:33:37,583]\u001b[0m Trial 137 finished with value: 0.8991430454845089 and parameters: {'eta': 0.002025694587969692, 'max_depth': 6, 'booster': 'gbtree', 'lambda': 0.2734635845266628, 'alpha': 0.00010250424885638586}. Best is trial 63 with value: 0.9509558338826631.\u001b[0m\n"
     ]
    },
    {
     "name": "stdout",
     "output_type": "stream",
     "text": [
      "[00:33:37] WARNING: C:/Users/Administrator/workspace/xgboost-win64_release_1.5.1/src/learner.cc:1115: Starting in XGBoost 1.3.0, the default evaluation metric used with the objective 'multi:softprob' was changed from 'merror' to 'mlogloss'. Explicitly set eval_metric if you'd like to restore the old behavior.\n"
     ]
    },
    {
     "name": "stderr",
     "output_type": "stream",
     "text": [
      "\u001b[32m[I 2022-04-04 00:33:49,201]\u001b[0m Trial 138 finished with value: 0.9487145682267634 and parameters: {'eta': 0.4990305715453993, 'max_depth': 6, 'booster': 'gbtree', 'lambda': 0.003899020344385233, 'alpha': 2.1043437375087416e-06}. Best is trial 63 with value: 0.9509558338826631.\u001b[0m\n"
     ]
    },
    {
     "name": "stdout",
     "output_type": "stream",
     "text": [
      "[00:33:49] WARNING: C:/Users/Administrator/workspace/xgboost-win64_release_1.5.1/src/learner.cc:1115: Starting in XGBoost 1.3.0, the default evaluation metric used with the objective 'multi:softprob' was changed from 'merror' to 'mlogloss'. Explicitly set eval_metric if you'd like to restore the old behavior.\n"
     ]
    },
    {
     "name": "stderr",
     "output_type": "stream",
     "text": [
      "\u001b[32m[I 2022-04-04 00:34:00,669]\u001b[0m Trial 139 finished with value: 0.9501647989452867 and parameters: {'eta': 0.8899167752693058, 'max_depth': 6, 'booster': 'gbtree', 'lambda': 0.03979761266907559, 'alpha': 0.03754408078176096}. Best is trial 63 with value: 0.9509558338826631.\u001b[0m\n"
     ]
    },
    {
     "name": "stdout",
     "output_type": "stream",
     "text": [
      "[00:34:00] WARNING: C:/Users/Administrator/workspace/xgboost-win64_release_1.5.1/src/learner.cc:1115: Starting in XGBoost 1.3.0, the default evaluation metric used with the objective 'multi:softprob' was changed from 'merror' to 'mlogloss'. Explicitly set eval_metric if you'd like to restore the old behavior.\n"
     ]
    },
    {
     "name": "stderr",
     "output_type": "stream",
     "text": [
      "\u001b[32m[I 2022-04-04 00:34:12,238]\u001b[0m Trial 140 finished with value: 0.9492419248516809 and parameters: {'eta': 0.7455207388942249, 'max_depth': 6, 'booster': 'gbtree', 'lambda': 0.08843044248614446, 'alpha': 0.01896057205755956}. Best is trial 63 with value: 0.9509558338826631.\u001b[0m\n"
     ]
    },
    {
     "name": "stdout",
     "output_type": "stream",
     "text": [
      "[00:34:12] WARNING: C:/Users/Administrator/workspace/xgboost-win64_release_1.5.1/src/learner.cc:1115: Starting in XGBoost 1.3.0, the default evaluation metric used with the objective 'multi:softprob' was changed from 'merror' to 'mlogloss'. Explicitly set eval_metric if you'd like to restore the old behavior.\n"
     ]
    },
    {
     "name": "stderr",
     "output_type": "stream",
     "text": [
      "\u001b[32m[I 2022-04-04 00:34:23,040]\u001b[0m Trial 141 finished with value: 0.9477916941331576 and parameters: {'eta': 0.9904812098098378, 'max_depth': 6, 'booster': 'gbtree', 'lambda': 0.04288643596110616, 'alpha': 3.2915693280035735e-05}. Best is trial 63 with value: 0.9509558338826631.\u001b[0m\n"
     ]
    },
    {
     "name": "stdout",
     "output_type": "stream",
     "text": [
      "[00:34:23] WARNING: C:/Users/Administrator/workspace/xgboost-win64_release_1.5.1/src/learner.cc:1115: Starting in XGBoost 1.3.0, the default evaluation metric used with the objective 'multi:softprob' was changed from 'merror' to 'mlogloss'. Explicitly set eval_metric if you'd like to restore the old behavior.\n"
     ]
    },
    {
     "name": "stderr",
     "output_type": "stream",
     "text": [
      "\u001b[32m[I 2022-04-04 00:34:32,837]\u001b[0m Trial 142 finished with value: 0.9501647989452867 and parameters: {'eta': 0.8748223998229679, 'max_depth': 6, 'booster': 'gbtree', 'lambda': 0.1587572216631378, 'alpha': 0.00016508146472968613}. Best is trial 63 with value: 0.9509558338826631.\u001b[0m\n"
     ]
    },
    {
     "name": "stdout",
     "output_type": "stream",
     "text": [
      "[00:34:32] WARNING: C:/Users/Administrator/workspace/xgboost-win64_release_1.5.1/src/learner.cc:1115: Starting in XGBoost 1.3.0, the default evaluation metric used with the objective 'multi:softprob' was changed from 'merror' to 'mlogloss'. Explicitly set eval_metric if you'd like to restore the old behavior.\n"
     ]
    },
    {
     "name": "stderr",
     "output_type": "stream",
     "text": [
      "\u001b[32m[I 2022-04-04 00:34:44,239]\u001b[0m Trial 143 finished with value: 0.950560316413975 and parameters: {'eta': 0.778867872304574, 'max_depth': 6, 'booster': 'gbtree', 'lambda': 0.1250992589964251, 'alpha': 0.096750037527164}. Best is trial 63 with value: 0.9509558338826631.\u001b[0m\n"
     ]
    },
    {
     "name": "stdout",
     "output_type": "stream",
     "text": [
      "[00:34:44] WARNING: C:/Users/Administrator/workspace/xgboost-win64_release_1.5.1/src/learner.cc:1115: Starting in XGBoost 1.3.0, the default evaluation metric used with the objective 'multi:softprob' was changed from 'merror' to 'mlogloss'. Explicitly set eval_metric if you'd like to restore the old behavior.\n"
     ]
    },
    {
     "name": "stderr",
     "output_type": "stream",
     "text": [
      "\u001b[32m[I 2022-04-04 00:34:55,646]\u001b[0m Trial 144 finished with value: 0.9500329597890573 and parameters: {'eta': 0.8611100172989322, 'max_depth': 6, 'booster': 'gbtree', 'lambda': 0.10610973154697141, 'alpha': 0.11046386521115714}. Best is trial 63 with value: 0.9509558338826631.\u001b[0m\n"
     ]
    },
    {
     "name": "stdout",
     "output_type": "stream",
     "text": [
      "[00:34:55] WARNING: C:/Users/Administrator/workspace/xgboost-win64_release_1.5.1/src/learner.cc:1115: Starting in XGBoost 1.3.0, the default evaluation metric used with the objective 'multi:softprob' was changed from 'merror' to 'mlogloss'. Explicitly set eval_metric if you'd like to restore the old behavior.\n"
     ]
    },
    {
     "name": "stderr",
     "output_type": "stream",
     "text": [
      "\u001b[32m[I 2022-04-04 00:35:07,193]\u001b[0m Trial 145 finished with value: 0.9497692814765986 and parameters: {'eta': 0.8470754092091886, 'max_depth': 6, 'booster': 'gbtree', 'lambda': 0.11178566047953174, 'alpha': 0.23839561015595398}. Best is trial 63 with value: 0.9509558338826631.\u001b[0m\n"
     ]
    },
    {
     "name": "stdout",
     "output_type": "stream",
     "text": [
      "[00:35:07] WARNING: C:/Users/Administrator/workspace/xgboost-win64_release_1.5.1/src/learner.cc:1115: Starting in XGBoost 1.3.0, the default evaluation metric used with the objective 'multi:softprob' was changed from 'merror' to 'mlogloss'. Explicitly set eval_metric if you'd like to restore the old behavior.\n"
     ]
    },
    {
     "name": "stderr",
     "output_type": "stream",
     "text": [
      "\u001b[32m[I 2022-04-04 00:35:17,778]\u001b[0m Trial 146 finished with value: 0.9483190507580751 and parameters: {'eta': 0.8699963050347227, 'max_depth': 6, 'booster': 'gbtree', 'lambda': 0.06610158707608835, 'alpha': 0.07620985856770572}. Best is trial 63 with value: 0.9509558338826631.\u001b[0m\n"
     ]
    },
    {
     "name": "stdout",
     "output_type": "stream",
     "text": [
      "[00:35:17] WARNING: C:/Users/Administrator/workspace/xgboost-win64_release_1.5.1/src/learner.cc:1115: Starting in XGBoost 1.3.0, the default evaluation metric used with the objective 'multi:softprob' was changed from 'merror' to 'mlogloss'. Explicitly set eval_metric if you'd like to restore the old behavior.\n"
     ]
    },
    {
     "name": "stderr",
     "output_type": "stream",
     "text": [
      "\u001b[32m[I 2022-04-04 00:35:28,627]\u001b[0m Trial 147 finished with value: 0.9491100856954515 and parameters: {'eta': 0.6306944690940278, 'max_depth': 6, 'booster': 'gbtree', 'lambda': 0.17840266266898486, 'alpha': 0.06272572359327899}. Best is trial 63 with value: 0.9509558338826631.\u001b[0m\n"
     ]
    },
    {
     "name": "stdout",
     "output_type": "stream",
     "text": [
      "[00:35:28] WARNING: C:/Users/Administrator/workspace/xgboost-win64_release_1.5.1/src/learner.cc:1115: Starting in XGBoost 1.3.0, the default evaluation metric used with the objective 'multi:softprob' was changed from 'merror' to 'mlogloss'. Explicitly set eval_metric if you'd like to restore the old behavior.\n"
     ]
    },
    {
     "name": "stderr",
     "output_type": "stream",
     "text": [
      "\u001b[32m[I 2022-04-04 00:37:09,953]\u001b[0m Trial 148 finished with value: 0.9491100856954515 and parameters: {'eta': 0.9923168063214646, 'max_depth': 6, 'booster': 'dart', 'lambda': 0.04249230619051275, 'alpha': 0.5957255516062754}. Best is trial 63 with value: 0.9509558338826631.\u001b[0m\n"
     ]
    },
    {
     "name": "stdout",
     "output_type": "stream",
     "text": [
      "[00:37:10] WARNING: C:/Users/Administrator/workspace/xgboost-win64_release_1.5.1/src/learner.cc:1115: Starting in XGBoost 1.3.0, the default evaluation metric used with the objective 'multi:softprob' was changed from 'merror' to 'mlogloss'. Explicitly set eval_metric if you'd like to restore the old behavior.\n"
     ]
    },
    {
     "name": "stderr",
     "output_type": "stream",
     "text": [
      "\u001b[32m[I 2022-04-04 00:37:21,383]\u001b[0m Trial 149 finished with value: 0.9488464073829928 and parameters: {'eta': 0.7302173018685101, 'max_depth': 6, 'booster': 'gbtree', 'lambda': 5.963180311573115e-06, 'alpha': 0.08875213889859264}. Best is trial 63 with value: 0.9509558338826631.\u001b[0m\n"
     ]
    },
    {
     "name": "stdout",
     "output_type": "stream",
     "text": [
      "[00:37:21] WARNING: C:/Users/Administrator/workspace/xgboost-win64_release_1.5.1/src/learner.cc:1115: Starting in XGBoost 1.3.0, the default evaluation metric used with the objective 'multi:softprob' was changed from 'merror' to 'mlogloss'. Explicitly set eval_metric if you'd like to restore the old behavior.\n"
     ]
    },
    {
     "name": "stderr",
     "output_type": "stream",
     "text": [
      "\u001b[32m[I 2022-04-04 00:37:33,043]\u001b[0m Trial 150 finished with value: 0.9488464073829928 and parameters: {'eta': 0.7814480022861088, 'max_depth': 6, 'booster': 'gbtree', 'lambda': 0.4305333323227929, 'alpha': 0.25367209223215936}. Best is trial 63 with value: 0.9509558338826631.\u001b[0m\n"
     ]
    },
    {
     "name": "stdout",
     "output_type": "stream",
     "text": [
      "[00:37:33] WARNING: C:/Users/Administrator/workspace/xgboost-win64_release_1.5.1/src/learner.cc:1115: Starting in XGBoost 1.3.0, the default evaluation metric used with the objective 'multi:softprob' was changed from 'merror' to 'mlogloss'. Explicitly set eval_metric if you'd like to restore the old behavior.\n"
     ]
    },
    {
     "name": "stderr",
     "output_type": "stream",
     "text": [
      "\u001b[32m[I 2022-04-04 00:37:44,364]\u001b[0m Trial 151 finished with value: 0.9501647989452867 and parameters: {'eta': 0.895306552469522, 'max_depth': 6, 'booster': 'gbtree', 'lambda': 0.13964974869258, 'alpha': 0.039413481271131076}. Best is trial 63 with value: 0.9509558338826631.\u001b[0m\n"
     ]
    },
    {
     "name": "stdout",
     "output_type": "stream",
     "text": [
      "[00:37:44] WARNING: C:/Users/Administrator/workspace/xgboost-win64_release_1.5.1/src/learner.cc:1115: Starting in XGBoost 1.3.0, the default evaluation metric used with the objective 'multi:softprob' was changed from 'merror' to 'mlogloss'. Explicitly set eval_metric if you'd like to restore the old behavior.\n"
     ]
    },
    {
     "name": "stderr",
     "output_type": "stream",
     "text": [
      "\u001b[32m[I 2022-04-04 00:37:55,809]\u001b[0m Trial 152 finished with value: 0.9488464073829928 and parameters: {'eta': 0.58525873009352, 'max_depth': 6, 'booster': 'gbtree', 'lambda': 0.16462934995982426, 'alpha': 0.04094254461080225}. Best is trial 63 with value: 0.9509558338826631.\u001b[0m\n"
     ]
    },
    {
     "name": "stdout",
     "output_type": "stream",
     "text": [
      "[00:37:55] WARNING: C:/Users/Administrator/workspace/xgboost-win64_release_1.5.1/src/learner.cc:1115: Starting in XGBoost 1.3.0, the default evaluation metric used with the objective 'multi:softprob' was changed from 'merror' to 'mlogloss'. Explicitly set eval_metric if you'd like to restore the old behavior.\n"
     ]
    },
    {
     "name": "stderr",
     "output_type": "stream",
     "text": [
      "\u001b[32m[I 2022-04-04 00:38:07,345]\u001b[0m Trial 153 finished with value: 0.9493737640079104 and parameters: {'eta': 0.6666074564733276, 'max_depth': 6, 'booster': 'gbtree', 'lambda': 0.25466059601594193, 'alpha': 0.04231763820277103}. Best is trial 63 with value: 0.9509558338826631.\u001b[0m\n"
     ]
    },
    {
     "name": "stdout",
     "output_type": "stream",
     "text": [
      "[00:38:07] WARNING: C:/Users/Administrator/workspace/xgboost-win64_release_1.5.1/src/learner.cc:1115: Starting in XGBoost 1.3.0, the default evaluation metric used with the objective 'multi:softprob' was changed from 'merror' to 'mlogloss'. Explicitly set eval_metric if you'd like to restore the old behavior.\n"
     ]
    },
    {
     "name": "stderr",
     "output_type": "stream",
     "text": [
      "\u001b[32m[I 2022-04-04 00:38:17,455]\u001b[0m Trial 154 finished with value: 0.9499011206328279 and parameters: {'eta': 0.8787727812578056, 'max_depth': 6, 'booster': 'gbtree', 'lambda': 0.11298531902740168, 'alpha': 0.032506838130368795}. Best is trial 63 with value: 0.9509558338826631.\u001b[0m\n"
     ]
    },
    {
     "name": "stdout",
     "output_type": "stream",
     "text": [
      "[00:38:17] WARNING: C:/Users/Administrator/workspace/xgboost-win64_release_1.5.1/src/learner.cc:1115: Starting in XGBoost 1.3.0, the default evaluation metric used with the objective 'multi:softprob' was changed from 'merror' to 'mlogloss'. Explicitly set eval_metric if you'd like to restore the old behavior.\n"
     ]
    },
    {
     "name": "stderr",
     "output_type": "stream",
     "text": [
      "\u001b[32m[I 2022-04-04 00:38:23,565]\u001b[0m Trial 155 finished with value: 0.9493737640079104 and parameters: {'eta': 0.9189382849451423, 'max_depth': 3, 'booster': 'gbtree', 'lambda': 0.0857355059657391, 'alpha': 0.13057639822831654}. Best is trial 63 with value: 0.9509558338826631.\u001b[0m\n"
     ]
    },
    {
     "name": "stdout",
     "output_type": "stream",
     "text": [
      "[00:38:23] WARNING: C:/Users/Administrator/workspace/xgboost-win64_release_1.5.1/src/learner.cc:1115: Starting in XGBoost 1.3.0, the default evaluation metric used with the objective 'multi:softprob' was changed from 'merror' to 'mlogloss'. Explicitly set eval_metric if you'd like to restore the old behavior.\n"
     ]
    },
    {
     "name": "stderr",
     "output_type": "stream",
     "text": [
      "\u001b[32m[I 2022-04-04 00:38:35,057]\u001b[0m Trial 156 finished with value: 0.9499011206328279 and parameters: {'eta': 0.5571696262363021, 'max_depth': 6, 'booster': 'gbtree', 'lambda': 0.7263519611627951, 'alpha': 0.014435998244838086}. Best is trial 63 with value: 0.9509558338826631.\u001b[0m\n"
     ]
    },
    {
     "name": "stdout",
     "output_type": "stream",
     "text": [
      "[00:38:35] WARNING: C:/Users/Administrator/workspace/xgboost-win64_release_1.5.1/src/learner.cc:1115: Starting in XGBoost 1.3.0, the default evaluation metric used with the objective 'multi:softprob' was changed from 'merror' to 'mlogloss'. Explicitly set eval_metric if you'd like to restore the old behavior.\n"
     ]
    },
    {
     "name": "stderr",
     "output_type": "stream",
     "text": [
      "\u001b[32m[I 2022-04-04 00:38:46,523]\u001b[0m Trial 157 finished with value: 0.948582729070534 and parameters: {'eta': 0.6944761283368509, 'max_depth': 6, 'booster': 'gbtree', 'lambda': 0.15672769286289703, 'alpha': 0.00016415386084175787}. Best is trial 63 with value: 0.9509558338826631.\u001b[0m\n"
     ]
    },
    {
     "name": "stdout",
     "output_type": "stream",
     "text": [
      "[00:38:46] WARNING: C:/Users/Administrator/workspace/xgboost-win64_release_1.5.1/src/learner.cc:1115: Starting in XGBoost 1.3.0, the default evaluation metric used with the objective 'multi:softprob' was changed from 'merror' to 'mlogloss'. Explicitly set eval_metric if you'd like to restore the old behavior.\n"
     ]
    },
    {
     "name": "stderr",
     "output_type": "stream",
     "text": [
      "\u001b[32m[I 2022-04-04 00:38:56,585]\u001b[0m Trial 158 finished with value: 0.9489782465392221 and parameters: {'eta': 0.8161481725439672, 'max_depth': 6, 'booster': 'gbtree', 'lambda': 0.315162203189622, 'alpha': 0.11852664103510478}. Best is trial 63 with value: 0.9509558338826631.\u001b[0m\n"
     ]
    },
    {
     "name": "stdout",
     "output_type": "stream",
     "text": [
      "[00:38:56] WARNING: C:/Users/Administrator/workspace/xgboost-win64_release_1.5.1/src/learner.cc:1115: Starting in XGBoost 1.3.0, the default evaluation metric used with the objective 'multi:softprob' was changed from 'merror' to 'mlogloss'. Explicitly set eval_metric if you'd like to restore the old behavior.\n"
     ]
    },
    {
     "name": "stderr",
     "output_type": "stream",
     "text": [
      "\u001b[32m[I 2022-04-04 00:39:08,059]\u001b[0m Trial 159 finished with value: 0.9495056031641398 and parameters: {'eta': 0.402712005591356, 'max_depth': 6, 'booster': 'gbtree', 'lambda': 0.5112281189866993, 'alpha': 1.4492672035053228e-05}. Best is trial 63 with value: 0.9509558338826631.\u001b[0m\n"
     ]
    },
    {
     "name": "stdout",
     "output_type": "stream",
     "text": [
      "[00:39:08] WARNING: C:/Users/Administrator/workspace/xgboost-win64_release_1.5.1/src/learner.cc:1115: Starting in XGBoost 1.3.0, the default evaluation metric used with the objective 'multi:softprob' was changed from 'merror' to 'mlogloss'. Explicitly set eval_metric if you'd like to restore the old behavior.\n"
     ]
    },
    {
     "name": "stderr",
     "output_type": "stream",
     "text": [
      "\u001b[32m[I 2022-04-04 00:39:19,488]\u001b[0m Trial 160 finished with value: 0.9491100856954515 and parameters: {'eta': 0.8580964107214032, 'max_depth': 6, 'booster': 'gbtree', 'lambda': 0.2376563692197093, 'alpha': 0.14588205354098083}. Best is trial 63 with value: 0.9509558338826631.\u001b[0m\n"
     ]
    },
    {
     "name": "stdout",
     "output_type": "stream",
     "text": [
      "[00:39:19] WARNING: C:/Users/Administrator/workspace/xgboost-win64_release_1.5.1/src/learner.cc:1115: Starting in XGBoost 1.3.0, the default evaluation metric used with the objective 'multi:softprob' was changed from 'merror' to 'mlogloss'. Explicitly set eval_metric if you'd like to restore the old behavior.\n"
     ]
    },
    {
     "name": "stderr",
     "output_type": "stream",
     "text": [
      "\u001b[32m[I 2022-04-04 00:39:30,892]\u001b[0m Trial 161 finished with value: 0.9484508899143046 and parameters: {'eta': 0.7391893973768932, 'max_depth': 6, 'booster': 'gbtree', 'lambda': 0.026078026100326782, 'alpha': 0.05616737052138648}. Best is trial 63 with value: 0.9509558338826631.\u001b[0m\n"
     ]
    },
    {
     "name": "stdout",
     "output_type": "stream",
     "text": [
      "[00:39:31] WARNING: C:/Users/Administrator/workspace/xgboost-win64_release_1.5.1/src/learner.cc:1115: Starting in XGBoost 1.3.0, the default evaluation metric used with the objective 'multi:softprob' was changed from 'merror' to 'mlogloss'. Explicitly set eval_metric if you'd like to restore the old behavior.\n"
     ]
    },
    {
     "name": "stderr",
     "output_type": "stream",
     "text": [
      "\u001b[32m[I 2022-04-04 00:39:40,832]\u001b[0m Trial 162 finished with value: 0.9481872116018457 and parameters: {'eta': 0.9805711145348737, 'max_depth': 6, 'booster': 'gbtree', 'lambda': 0.050004976353373386, 'alpha': 2.2499678459438047e-05}. Best is trial 63 with value: 0.9509558338826631.\u001b[0m\n"
     ]
    },
    {
     "name": "stdout",
     "output_type": "stream",
     "text": [
      "[00:39:40] WARNING: C:/Users/Administrator/workspace/xgboost-win64_release_1.5.1/src/learner.cc:1115: Starting in XGBoost 1.3.0, the default evaluation metric used with the objective 'multi:softprob' was changed from 'merror' to 'mlogloss'. Explicitly set eval_metric if you'd like to restore the old behavior.\n"
     ]
    },
    {
     "name": "stderr",
     "output_type": "stream",
     "text": [
      "\u001b[32m[I 2022-04-04 00:39:52,386]\u001b[0m Trial 163 finished with value: 0.9491100856954515 and parameters: {'eta': 0.4551870975704427, 'max_depth': 6, 'booster': 'gbtree', 'lambda': 0.1362965684049159, 'alpha': 0.0004162074197909851}. Best is trial 63 with value: 0.9509558338826631.\u001b[0m\n"
     ]
    },
    {
     "name": "stdout",
     "output_type": "stream",
     "text": [
      "[00:39:52] WARNING: C:/Users/Administrator/workspace/xgboost-win64_release_1.5.1/src/learner.cc:1115: Starting in XGBoost 1.3.0, the default evaluation metric used with the objective 'multi:softprob' was changed from 'merror' to 'mlogloss'. Explicitly set eval_metric if you'd like to restore the old behavior.\n"
     ]
    },
    {
     "name": "stderr",
     "output_type": "stream",
     "text": [
      "\u001b[32m[I 2022-04-04 00:40:04,236]\u001b[0m Trial 164 finished with value: 0.9493737640079104 and parameters: {'eta': 0.6135634178123697, 'max_depth': 6, 'booster': 'gbtree', 'lambda': 0.015241409339329373, 'alpha': 2.363449245439498e-08}. Best is trial 63 with value: 0.9509558338826631.\u001b[0m\n"
     ]
    },
    {
     "name": "stdout",
     "output_type": "stream",
     "text": [
      "[00:40:04] WARNING: C:/Users/Administrator/workspace/xgboost-win64_release_1.5.1/src/learner.cc:1115: Starting in XGBoost 1.3.0, the default evaluation metric used with the objective 'multi:softprob' was changed from 'merror' to 'mlogloss'. Explicitly set eval_metric if you'd like to restore the old behavior.\n"
     ]
    },
    {
     "name": "stderr",
     "output_type": "stream",
     "text": [
      "\u001b[32m[I 2022-04-04 00:41:46,550]\u001b[0m Trial 165 finished with value: 0.9501647989452867 and parameters: {'eta': 0.33433878006763496, 'max_depth': 6, 'booster': 'dart', 'lambda': 0.6875246228075574, 'alpha': 5.843552282211792e-07}. Best is trial 63 with value: 0.9509558338826631.\u001b[0m\n"
     ]
    },
    {
     "name": "stdout",
     "output_type": "stream",
     "text": [
      "[00:41:46] WARNING: C:/Users/Administrator/workspace/xgboost-win64_release_1.5.1/src/learner.cc:1115: Starting in XGBoost 1.3.0, the default evaluation metric used with the objective 'multi:softprob' was changed from 'merror' to 'mlogloss'. Explicitly set eval_metric if you'd like to restore the old behavior.\n"
     ]
    },
    {
     "name": "stderr",
     "output_type": "stream",
     "text": [
      "\u001b[32m[I 2022-04-04 00:43:30,835]\u001b[0m Trial 166 finished with value: 0.9484508899143046 and parameters: {'eta': 0.548677920016202, 'max_depth': 6, 'booster': 'dart', 'lambda': 0.8294655580713908, 'alpha': 0.00023253624093346793}. Best is trial 63 with value: 0.9509558338826631.\u001b[0m\n"
     ]
    },
    {
     "name": "stdout",
     "output_type": "stream",
     "text": [
      "[00:43:30] WARNING: C:/Users/Administrator/workspace/xgboost-win64_release_1.5.1/src/learner.cc:1115: Starting in XGBoost 1.3.0, the default evaluation metric used with the objective 'multi:softprob' was changed from 'merror' to 'mlogloss'. Explicitly set eval_metric if you'd like to restore the old behavior.\n"
     ]
    },
    {
     "name": "stderr",
     "output_type": "stream",
     "text": [
      "\u001b[32m[I 2022-04-04 00:45:13,213]\u001b[0m Trial 167 finished with value: 0.9488464073829928 and parameters: {'eta': 0.7032490974790739, 'max_depth': 6, 'booster': 'dart', 'lambda': 0.4308812274036665, 'alpha': 3.9218141916518505e-07}. Best is trial 63 with value: 0.9509558338826631.\u001b[0m\n"
     ]
    },
    {
     "name": "stdout",
     "output_type": "stream",
     "text": [
      "[00:45:13] WARNING: C:/Users/Administrator/workspace/xgboost-win64_release_1.5.1/src/learner.cc:1115: Starting in XGBoost 1.3.0, the default evaluation metric used with the objective 'multi:softprob' was changed from 'merror' to 'mlogloss'. Explicitly set eval_metric if you'd like to restore the old behavior.\n"
     ]
    },
    {
     "name": "stderr",
     "output_type": "stream",
     "text": [
      "\u001b[32m[I 2022-04-04 00:46:55,778]\u001b[0m Trial 168 finished with value: 0.9496374423203692 and parameters: {'eta': 0.3506531074888245, 'max_depth': 6, 'booster': 'dart', 'lambda': 0.6712867143035587, 'alpha': 9.825651377387628e-07}. Best is trial 63 with value: 0.9509558338826631.\u001b[0m\n"
     ]
    },
    {
     "name": "stdout",
     "output_type": "stream",
     "text": [
      "[00:46:55] WARNING: C:/Users/Administrator/workspace/xgboost-win64_release_1.5.1/src/learner.cc:1115: Starting in XGBoost 1.3.0, the default evaluation metric used with the objective 'multi:softprob' was changed from 'merror' to 'mlogloss'. Explicitly set eval_metric if you'd like to restore the old behavior.\n"
     ]
    },
    {
     "name": "stderr",
     "output_type": "stream",
     "text": [
      "\u001b[32m[I 2022-04-04 00:48:38,170]\u001b[0m Trial 169 finished with value: 0.9499011206328279 and parameters: {'eta': 0.4971202068778509, 'max_depth': 6, 'booster': 'dart', 'lambda': 0.9698700791911039, 'alpha': 2.0469627240463937e-07}. Best is trial 63 with value: 0.9509558338826631.\u001b[0m\n"
     ]
    },
    {
     "name": "stdout",
     "output_type": "stream",
     "text": [
      "[00:48:38] WARNING: C:/Users/Administrator/workspace/xgboost-win64_release_1.5.1/src/learner.cc:1115: Starting in XGBoost 1.3.0, the default evaluation metric used with the objective 'multi:softprob' was changed from 'merror' to 'mlogloss'. Explicitly set eval_metric if you'd like to restore the old behavior.\n"
     ]
    },
    {
     "name": "stderr",
     "output_type": "stream",
     "text": [
      "\u001b[32m[I 2022-04-04 00:50:20,627]\u001b[0m Trial 170 finished with value: 0.9499011206328279 and parameters: {'eta': 0.3093386630339898, 'max_depth': 6, 'booster': 'dart', 'lambda': 0.08072921973158799, 'alpha': 0.18616752864741504}. Best is trial 63 with value: 0.9509558338826631.\u001b[0m\n"
     ]
    },
    {
     "name": "stdout",
     "output_type": "stream",
     "text": [
      "[00:50:20] WARNING: C:/Users/Administrator/workspace/xgboost-win64_release_1.5.1/src/learner.cc:1115: Starting in XGBoost 1.3.0, the default evaluation metric used with the objective 'multi:softprob' was changed from 'merror' to 'mlogloss'. Explicitly set eval_metric if you'd like to restore the old behavior.\n"
     ]
    },
    {
     "name": "stderr",
     "output_type": "stream",
     "text": [
      "\u001b[32m[I 2022-04-04 00:50:32,497]\u001b[0m Trial 171 finished with value: 0.9493737640079104 and parameters: {'eta': 0.4530177442030935, 'max_depth': 6, 'booster': 'gbtree', 'lambda': 0.20348008172357965, 'alpha': 1.199425056023617e-07}. Best is trial 63 with value: 0.9509558338826631.\u001b[0m\n"
     ]
    },
    {
     "name": "stdout",
     "output_type": "stream",
     "text": [
      "[00:50:32] WARNING: C:/Users/Administrator/workspace/xgboost-win64_release_1.5.1/src/learner.cc:1115: Starting in XGBoost 1.3.0, the default evaluation metric used with the objective 'multi:softprob' was changed from 'merror' to 'mlogloss'. Explicitly set eval_metric if you'd like to restore the old behavior.\n"
     ]
    },
    {
     "name": "stderr",
     "output_type": "stream",
     "text": [
      "\u001b[32m[I 2022-04-04 00:50:44,516]\u001b[0m Trial 172 finished with value: 0.9495056031641398 and parameters: {'eta': 0.41275394146163547, 'max_depth': 6, 'booster': 'gbtree', 'lambda': 0.287725560170059, 'alpha': 5.055722177940095e-05}. Best is trial 63 with value: 0.9509558338826631.\u001b[0m\n"
     ]
    },
    {
     "name": "stdout",
     "output_type": "stream",
     "text": [
      "[00:50:44] WARNING: C:/Users/Administrator/workspace/xgboost-win64_release_1.5.1/src/learner.cc:1115: Starting in XGBoost 1.3.0, the default evaluation metric used with the objective 'multi:softprob' was changed from 'merror' to 'mlogloss'. Explicitly set eval_metric if you'd like to restore the old behavior.\n"
     ]
    },
    {
     "name": "stderr",
     "output_type": "stream",
     "text": [
      "\u001b[32m[I 2022-04-04 00:50:55,380]\u001b[0m Trial 173 finished with value: 0.9496374423203692 and parameters: {'eta': 0.6089103227333647, 'max_depth': 6, 'booster': 'gbtree', 'lambda': 0.1397639846349005, 'alpha': 0.02607399485531269}. Best is trial 63 with value: 0.9509558338826631.\u001b[0m\n"
     ]
    },
    {
     "name": "stdout",
     "output_type": "stream",
     "text": [
      "[00:50:55] WARNING: C:/Users/Administrator/workspace/xgboost-win64_release_1.5.1/src/learner.cc:1115: Starting in XGBoost 1.3.0, the default evaluation metric used with the objective 'multi:softprob' was changed from 'merror' to 'mlogloss'. Explicitly set eval_metric if you'd like to restore the old behavior.\n"
     ]
    },
    {
     "name": "stderr",
     "output_type": "stream",
     "text": [
      "\u001b[32m[I 2022-04-04 00:51:05,975]\u001b[0m Trial 174 finished with value: 0.9479235332893869 and parameters: {'eta': 0.7836018641720681, 'max_depth': 6, 'booster': 'gbtree', 'lambda': 0.32260034523560677, 'alpha': 7.945116318890959e-08}. Best is trial 63 with value: 0.9509558338826631.\u001b[0m\n"
     ]
    },
    {
     "name": "stdout",
     "output_type": "stream",
     "text": [
      "[00:51:06] WARNING: C:/Users/Administrator/workspace/xgboost-win64_release_1.5.1/src/learner.cc:1115: Starting in XGBoost 1.3.0, the default evaluation metric used with the objective 'multi:softprob' was changed from 'merror' to 'mlogloss'. Explicitly set eval_metric if you'd like to restore the old behavior.\n"
     ]
    },
    {
     "name": "stderr",
     "output_type": "stream",
     "text": [
      "\u001b[32m[I 2022-04-04 00:52:49,516]\u001b[0m Trial 175 finished with value: 0.9501647989452867 and parameters: {'eta': 0.3559778294057016, 'max_depth': 6, 'booster': 'dart', 'lambda': 0.5225843645739332, 'alpha': 0.009077280367566517}. Best is trial 63 with value: 0.9509558338826631.\u001b[0m\n"
     ]
    },
    {
     "name": "stdout",
     "output_type": "stream",
     "text": [
      "[00:52:49] WARNING: C:/Users/Administrator/workspace/xgboost-win64_release_1.5.1/src/learner.cc:1115: Starting in XGBoost 1.3.0, the default evaluation metric used with the objective 'multi:softprob' was changed from 'merror' to 'mlogloss'. Explicitly set eval_metric if you'd like to restore the old behavior.\n"
     ]
    },
    {
     "name": "stderr",
     "output_type": "stream",
     "text": [
      "\u001b[32m[I 2022-04-04 00:54:31,475]\u001b[0m Trial 176 finished with value: 0.9493737640079104 and parameters: {'eta': 0.34760774067688677, 'max_depth': 6, 'booster': 'dart', 'lambda': 0.548511929138174, 'alpha': 0.008495316164892158}. Best is trial 63 with value: 0.9509558338826631.\u001b[0m\n"
     ]
    },
    {
     "name": "stdout",
     "output_type": "stream",
     "text": [
      "[00:54:31] WARNING: C:/Users/Administrator/workspace/xgboost-win64_release_1.5.1/src/learner.cc:1115: Starting in XGBoost 1.3.0, the default evaluation metric used with the objective 'multi:softprob' was changed from 'merror' to 'mlogloss'. Explicitly set eval_metric if you'd like to restore the old behavior.\n"
     ]
    },
    {
     "name": "stderr",
     "output_type": "stream",
     "text": [
      "\u001b[32m[I 2022-04-04 00:56:15,017]\u001b[0m Trial 177 finished with value: 0.9497692814765986 and parameters: {'eta': 0.5128842767518631, 'max_depth': 6, 'booster': 'dart', 'lambda': 0.45135296300315664, 'alpha': 0.018308558806838376}. Best is trial 63 with value: 0.9509558338826631.\u001b[0m\n"
     ]
    },
    {
     "name": "stdout",
     "output_type": "stream",
     "text": [
      "[00:56:15] WARNING: C:/Users/Administrator/workspace/xgboost-win64_release_1.5.1/src/learner.cc:1115: Starting in XGBoost 1.3.0, the default evaluation metric used with the objective 'multi:softprob' was changed from 'merror' to 'mlogloss'. Explicitly set eval_metric if you'd like to restore the old behavior.\n"
     ]
    },
    {
     "name": "stderr",
     "output_type": "stream",
     "text": [
      "\u001b[32m[I 2022-04-04 00:57:55,167]\u001b[0m Trial 178 finished with value: 0.9489782465392221 and parameters: {'eta': 0.8709805006480521, 'max_depth': 6, 'booster': 'dart', 'lambda': 0.1969226601490437, 'alpha': 0.09790810257659159}. Best is trial 63 with value: 0.9509558338826631.\u001b[0m\n"
     ]
    },
    {
     "name": "stdout",
     "output_type": "stream",
     "text": [
      "[00:57:55] WARNING: C:/Users/Administrator/workspace/xgboost-win64_release_1.5.1/src/learner.cc:1115: Starting in XGBoost 1.3.0, the default evaluation metric used with the objective 'multi:softprob' was changed from 'merror' to 'mlogloss'. Explicitly set eval_metric if you'd like to restore the old behavior.\n"
     ]
    },
    {
     "name": "stderr",
     "output_type": "stream",
     "text": [
      "\u001b[32m[I 2022-04-04 00:59:41,154]\u001b[0m Trial 179 finished with value: 0.948582729070534 and parameters: {'eta': 0.26190300426801366, 'max_depth': 6, 'booster': 'dart', 'lambda': 0.03479047605399331, 'alpha': 0.04619759916446656}. Best is trial 63 with value: 0.9509558338826631.\u001b[0m\n"
     ]
    },
    {
     "name": "stdout",
     "output_type": "stream",
     "text": [
      "[00:59:41] WARNING: C:/Users/Administrator/workspace/xgboost-win64_release_1.5.1/src/learner.cc:1115: Starting in XGBoost 1.3.0, the default evaluation metric used with the objective 'multi:softprob' was changed from 'merror' to 'mlogloss'. Explicitly set eval_metric if you'd like to restore the old behavior.\n"
     ]
    },
    {
     "name": "stderr",
     "output_type": "stream",
     "text": [
      "\u001b[32m[I 2022-04-04 01:01:22,024]\u001b[0m Trial 180 finished with value: 0.9488464073829928 and parameters: {'eta': 0.3891679807337598, 'max_depth': 6, 'booster': 'dart', 'lambda': 0.06180055472436754, 'alpha': 0.3722541665358937}. Best is trial 63 with value: 0.9509558338826631.\u001b[0m\n"
     ]
    },
    {
     "name": "stdout",
     "output_type": "stream",
     "text": [
      "[01:01:22] WARNING: C:/Users/Administrator/workspace/xgboost-win64_release_1.5.1/src/learner.cc:1115: Starting in XGBoost 1.3.0, the default evaluation metric used with the objective 'multi:softprob' was changed from 'merror' to 'mlogloss'. Explicitly set eval_metric if you'd like to restore the old behavior.\n"
     ]
    },
    {
     "name": "stderr",
     "output_type": "stream",
     "text": [
      "\u001b[32m[I 2022-04-04 01:01:35,446]\u001b[0m Trial 181 finished with value: 0.9375082399472643 and parameters: {'eta': 0.051365938714010684, 'max_depth': 6, 'booster': 'gbtree', 'lambda': 0.011691362196184628, 'alpha': 3.992521628708075e-08}. Best is trial 63 with value: 0.9509558338826631.\u001b[0m\n"
     ]
    },
    {
     "name": "stdout",
     "output_type": "stream",
     "text": [
      "[01:01:35] WARNING: C:/Users/Administrator/workspace/xgboost-win64_release_1.5.1/src/learner.cc:1115: Starting in XGBoost 1.3.0, the default evaluation metric used with the objective 'multi:softprob' was changed from 'merror' to 'mlogloss'. Explicitly set eval_metric if you'd like to restore the old behavior.\n"
     ]
    },
    {
     "name": "stderr",
     "output_type": "stream",
     "text": [
      "\u001b[32m[I 2022-04-04 01:01:47,049]\u001b[0m Trial 182 finished with value: 0.9493737640079104 and parameters: {'eta': 0.30903371291626425, 'max_depth': 6, 'booster': 'gbtree', 'lambda': 0.36031944044161973, 'alpha': 0.006298995982335904}. Best is trial 63 with value: 0.9509558338826631.\u001b[0m\n"
     ]
    },
    {
     "name": "stdout",
     "output_type": "stream",
     "text": [
      "[01:01:47] WARNING: C:/Users/Administrator/workspace/xgboost-win64_release_1.5.1/src/learner.cc:1115: Starting in XGBoost 1.3.0, the default evaluation metric used with the objective 'multi:softprob' was changed from 'merror' to 'mlogloss'. Explicitly set eval_metric if you'd like to restore the old behavior.\n"
     ]
    },
    {
     "name": "stderr",
     "output_type": "stream",
     "text": [
      "\u001b[32m[I 2022-04-04 01:01:58,593]\u001b[0m Trial 183 finished with value: 0.9502966381015161 and parameters: {'eta': 0.4336122397960889, 'max_depth': 6, 'booster': 'gbtree', 'lambda': 0.10579073033761728, 'alpha': 1.690393176305435e-08}. Best is trial 63 with value: 0.9509558338826631.\u001b[0m\n"
     ]
    },
    {
     "name": "stdout",
     "output_type": "stream",
     "text": [
      "[01:01:58] WARNING: C:/Users/Administrator/workspace/xgboost-win64_release_1.5.1/src/learner.cc:1115: Starting in XGBoost 1.3.0, the default evaluation metric used with the objective 'multi:softprob' was changed from 'merror' to 'mlogloss'. Explicitly set eval_metric if you'd like to restore the old behavior.\n"
     ]
    },
    {
     "name": "stderr",
     "output_type": "stream",
     "text": [
      "\u001b[32m[I 2022-04-04 01:02:10,300]\u001b[0m Trial 184 finished with value: 0.9496374423203692 and parameters: {'eta': 0.4463345130870063, 'max_depth': 6, 'booster': 'gbtree', 'lambda': 0.23942774635888217, 'alpha': 1.3242335727176753e-08}. Best is trial 63 with value: 0.9509558338826631.\u001b[0m\n"
     ]
    },
    {
     "name": "stdout",
     "output_type": "stream",
     "text": [
      "[01:02:10] WARNING: C:/Users/Administrator/workspace/xgboost-win64_release_1.5.1/src/learner.cc:1115: Starting in XGBoost 1.3.0, the default evaluation metric used with the objective 'multi:softprob' was changed from 'merror' to 'mlogloss'. Explicitly set eval_metric if you'd like to restore the old behavior.\n"
     ]
    },
    {
     "name": "stderr",
     "output_type": "stream",
     "text": [
      "\u001b[32m[I 2022-04-04 01:03:51,648]\u001b[0m Trial 185 finished with value: 0.9497692814765986 and parameters: {'eta': 0.38044935568967175, 'max_depth': 6, 'booster': 'dart', 'lambda': 0.637967529358372, 'alpha': 2.1757293388844895e-08}. Best is trial 63 with value: 0.9509558338826631.\u001b[0m\n"
     ]
    },
    {
     "name": "stdout",
     "output_type": "stream",
     "text": [
      "[01:03:51] WARNING: C:/Users/Administrator/workspace/xgboost-win64_release_1.5.1/src/learner.cc:1115: Starting in XGBoost 1.3.0, the default evaluation metric used with the objective 'multi:softprob' was changed from 'merror' to 'mlogloss'. Explicitly set eval_metric if you'd like to restore the old behavior.\n"
     ]
    },
    {
     "name": "stderr",
     "output_type": "stream",
     "text": [
      "\u001b[32m[I 2022-04-04 01:04:03,303]\u001b[0m Trial 186 finished with value: 0.9484508899143046 and parameters: {'eta': 0.692925948720238, 'max_depth': 6, 'booster': 'gbtree', 'lambda': 0.11671838672365525, 'alpha': 0.0034543863999869084}. Best is trial 63 with value: 0.9509558338826631.\u001b[0m\n"
     ]
    },
    {
     "name": "stdout",
     "output_type": "stream",
     "text": [
      "[01:04:03] WARNING: C:/Users/Administrator/workspace/xgboost-win64_release_1.5.1/src/learner.cc:1115: Starting in XGBoost 1.3.0, the default evaluation metric used with the objective 'multi:softprob' was changed from 'merror' to 'mlogloss'. Explicitly set eval_metric if you'd like to restore the old behavior.\n"
     ]
    },
    {
     "name": "stderr",
     "output_type": "stream",
     "text": [
      "\u001b[32m[I 2022-04-04 01:04:15,024]\u001b[0m Trial 187 finished with value: 0.9488464073829928 and parameters: {'eta': 0.3514704857929767, 'max_depth': 6, 'booster': 'gbtree', 'lambda': 0.177286271132004, 'alpha': 0.001644033531193693}. Best is trial 63 with value: 0.9509558338826631.\u001b[0m\n"
     ]
    },
    {
     "name": "stdout",
     "output_type": "stream",
     "text": [
      "[01:04:15] WARNING: C:/Users/Administrator/workspace/xgboost-win64_release_1.5.1/src/learner.cc:1115: Starting in XGBoost 1.3.0, the default evaluation metric used with the objective 'multi:softprob' was changed from 'merror' to 'mlogloss'. Explicitly set eval_metric if you'd like to restore the old behavior.\n"
     ]
    },
    {
     "name": "stderr",
     "output_type": "stream",
     "text": [
      "\u001b[32m[I 2022-04-04 01:04:26,361]\u001b[0m Trial 188 finished with value: 0.9484508899143046 and parameters: {'eta': 0.9945425302129113, 'max_depth': 6, 'booster': 'gbtree', 'lambda': 0.09081889549182759, 'alpha': 2.9170672751343438e-08}. Best is trial 63 with value: 0.9509558338826631.\u001b[0m\n"
     ]
    },
    {
     "name": "stdout",
     "output_type": "stream",
     "text": [
      "[01:04:26] WARNING: C:/Users/Administrator/workspace/xgboost-win64_release_1.5.1/src/learner.cc:1115: Starting in XGBoost 1.3.0, the default evaluation metric used with the objective 'multi:softprob' was changed from 'merror' to 'mlogloss'. Explicitly set eval_metric if you'd like to restore the old behavior.\n"
     ]
    },
    {
     "name": "stderr",
     "output_type": "stream",
     "text": [
      "\u001b[32m[I 2022-04-04 01:04:38,024]\u001b[0m Trial 189 finished with value: 0.9492419248516809 and parameters: {'eta': 0.539335038729843, 'max_depth': 6, 'booster': 'gbtree', 'lambda': 0.37692453005204, 'alpha': 1.560940300920543e-08}. Best is trial 63 with value: 0.9509558338826631.\u001b[0m\n"
     ]
    },
    {
     "name": "stdout",
     "output_type": "stream",
     "text": [
      "[01:04:38] WARNING: C:/Users/Administrator/workspace/xgboost-win64_release_1.5.1/src/learner.cc:1115: Starting in XGBoost 1.3.0, the default evaluation metric used with the objective 'multi:softprob' was changed from 'merror' to 'mlogloss'. Explicitly set eval_metric if you'd like to restore the old behavior.\n"
     ]
    },
    {
     "name": "stderr",
     "output_type": "stream",
     "text": [
      "\u001b[32m[I 2022-04-04 01:04:47,859]\u001b[0m Trial 190 finished with value: 0.9450230718523401 and parameters: {'eta': 0.10124670623553324, 'max_depth': 6, 'booster': 'gbtree', 'lambda': 0.14448533656744864, 'alpha': 1.0477298587391947e-08}. Best is trial 63 with value: 0.9509558338826631.\u001b[0m\n"
     ]
    },
    {
     "name": "stdout",
     "output_type": "stream",
     "text": [
      "[01:04:47] WARNING: C:/Users/Administrator/workspace/xgboost-win64_release_1.5.1/src/learner.cc:1115: Starting in XGBoost 1.3.0, the default evaluation metric used with the objective 'multi:softprob' was changed from 'merror' to 'mlogloss'. Explicitly set eval_metric if you'd like to restore the old behavior.\n"
     ]
    },
    {
     "name": "stderr",
     "output_type": "stream",
     "text": [
      "\u001b[32m[I 2022-04-04 01:04:58,032]\u001b[0m Trial 191 finished with value: 0.9492419248516809 and parameters: {'eta': 0.5098747324088795, 'max_depth': 6, 'booster': 'gbtree', 'lambda': 0.23273029916530422, 'alpha': 0.0001432323900131697}. Best is trial 63 with value: 0.9509558338826631.\u001b[0m\n"
     ]
    },
    {
     "name": "stdout",
     "output_type": "stream",
     "text": [
      "[01:04:58] WARNING: C:/Users/Administrator/workspace/xgboost-win64_release_1.5.1/src/learner.cc:1115: Starting in XGBoost 1.3.0, the default evaluation metric used with the objective 'multi:softprob' was changed from 'merror' to 'mlogloss'. Explicitly set eval_metric if you'd like to restore the old behavior.\n"
     ]
    },
    {
     "name": "stderr",
     "output_type": "stream",
     "text": [
      "\u001b[32m[I 2022-04-04 01:05:09,655]\u001b[0m Trial 192 finished with value: 0.9492419248516809 and parameters: {'eta': 0.6416043540843523, 'max_depth': 6, 'booster': 'gbtree', 'lambda': 0.11266258564185617, 'alpha': 0.00031912142870943434}. Best is trial 63 with value: 0.9509558338826631.\u001b[0m\n"
     ]
    },
    {
     "name": "stdout",
     "output_type": "stream",
     "text": [
      "[01:05:09] WARNING: C:/Users/Administrator/workspace/xgboost-win64_release_1.5.1/src/learner.cc:1115: Starting in XGBoost 1.3.0, the default evaluation metric used with the objective 'multi:softprob' was changed from 'merror' to 'mlogloss'. Explicitly set eval_metric if you'd like to restore the old behavior.\n"
     ]
    },
    {
     "name": "stderr",
     "output_type": "stream",
     "text": [
      "\u001b[32m[I 2022-04-04 01:05:21,208]\u001b[0m Trial 193 finished with value: 0.9492419248516809 and parameters: {'eta': 0.5886121500839969, 'max_depth': 6, 'booster': 'gbtree', 'lambda': 0.6115705513338039, 'alpha': 7.402042686954435e-05}. Best is trial 63 with value: 0.9509558338826631.\u001b[0m\n"
     ]
    },
    {
     "name": "stdout",
     "output_type": "stream",
     "text": [
      "[01:05:21] WARNING: C:/Users/Administrator/workspace/xgboost-win64_release_1.5.1/src/learner.cc:1115: Starting in XGBoost 1.3.0, the default evaluation metric used with the objective 'multi:softprob' was changed from 'merror' to 'mlogloss'. Explicitly set eval_metric if you'd like to restore the old behavior.\n"
     ]
    },
    {
     "name": "stderr",
     "output_type": "stream",
     "text": [
      "\u001b[32m[I 2022-04-04 01:05:32,929]\u001b[0m Trial 194 finished with value: 0.9499011206328279 and parameters: {'eta': 0.43218370199213635, 'max_depth': 6, 'booster': 'gbtree', 'lambda': 0.021308336994926017, 'alpha': 0.06427659089717445}. Best is trial 63 with value: 0.9509558338826631.\u001b[0m\n"
     ]
    },
    {
     "name": "stdout",
     "output_type": "stream",
     "text": [
      "[01:05:33] WARNING: C:/Users/Administrator/workspace/xgboost-win64_release_1.5.1/src/learner.cc:1115: Starting in XGBoost 1.3.0, the default evaluation metric used with the objective 'multi:softprob' was changed from 'merror' to 'mlogloss'. Explicitly set eval_metric if you'd like to restore the old behavior.\n"
     ]
    },
    {
     "name": "stderr",
     "output_type": "stream",
     "text": [
      "\u001b[32m[I 2022-04-04 01:05:44,666]\u001b[0m Trial 195 finished with value: 0.9502966381015161 and parameters: {'eta': 0.47036439325023127, 'max_depth': 6, 'booster': 'gbtree', 'lambda': 0.31083856862810844, 'alpha': 0.0006453598870160718}. Best is trial 63 with value: 0.9509558338826631.\u001b[0m\n"
     ]
    },
    {
     "name": "stdout",
     "output_type": "stream",
     "text": [
      "[01:05:44] WARNING: C:/Users/Administrator/workspace/xgboost-win64_release_1.5.1/src/learner.cc:1115: Starting in XGBoost 1.3.0, the default evaluation metric used with the objective 'multi:softprob' was changed from 'merror' to 'mlogloss'. Explicitly set eval_metric if you'd like to restore the old behavior.\n"
     ]
    },
    {
     "name": "stderr",
     "output_type": "stream",
     "text": [
      "\u001b[32m[I 2022-04-04 01:05:55,593]\u001b[0m Trial 196 finished with value: 0.9496374423203692 and parameters: {'eta': 0.46839247738141887, 'max_depth': 6, 'booster': 'gbtree', 'lambda': 0.9670272576398431, 'alpha': 0.0007973155824377659}. Best is trial 63 with value: 0.9509558338826631.\u001b[0m\n"
     ]
    },
    {
     "name": "stdout",
     "output_type": "stream",
     "text": [
      "[01:05:55] WARNING: C:/Users/Administrator/workspace/xgboost-win64_release_1.5.1/src/learner.cc:1115: Starting in XGBoost 1.3.0, the default evaluation metric used with the objective 'multi:softprob' was changed from 'merror' to 'mlogloss'. Explicitly set eval_metric if you'd like to restore the old behavior.\n"
     ]
    },
    {
     "name": "stderr",
     "output_type": "stream",
     "text": [
      "\u001b[32m[I 2022-04-04 01:07:38,301]\u001b[0m Trial 197 finished with value: 0.9496374423203692 and parameters: {'eta': 0.32958943482435266, 'max_depth': 6, 'booster': 'dart', 'lambda': 0.31229321884580746, 'alpha': 0.000593232590540201}. Best is trial 63 with value: 0.9509558338826631.\u001b[0m\n"
     ]
    },
    {
     "name": "stdout",
     "output_type": "stream",
     "text": [
      "[01:07:38] WARNING: C:/Users/Administrator/workspace/xgboost-win64_release_1.5.1/src/learner.cc:1115: Starting in XGBoost 1.3.0, the default evaluation metric used with the objective 'multi:softprob' was changed from 'merror' to 'mlogloss'. Explicitly set eval_metric if you'd like to restore the old behavior.\n"
     ]
    },
    {
     "name": "stderr",
     "output_type": "stream",
     "text": [
      "\u001b[32m[I 2022-04-04 01:07:49,854]\u001b[0m Trial 198 finished with value: 0.9500329597890573 and parameters: {'eta': 0.40388490899849977, 'max_depth': 6, 'booster': 'gbtree', 'lambda': 0.5159175906808336, 'alpha': 0.00040420378001809293}. Best is trial 63 with value: 0.9509558338826631.\u001b[0m\n"
     ]
    },
    {
     "name": "stdout",
     "output_type": "stream",
     "text": [
      "[01:07:49] WARNING: C:/Users/Administrator/workspace/xgboost-win64_release_1.5.1/src/learner.cc:1115: Starting in XGBoost 1.3.0, the default evaluation metric used with the objective 'multi:softprob' was changed from 'merror' to 'mlogloss'. Explicitly set eval_metric if you'd like to restore the old behavior.\n"
     ]
    },
    {
     "name": "stderr",
     "output_type": "stream",
     "text": [
      "\u001b[32m[I 2022-04-04 01:08:00,659]\u001b[0m Trial 199 finished with value: 0.9487145682267634 and parameters: {'eta': 0.22016742666346822, 'max_depth': 6, 'booster': 'gbtree', 'lambda': 0.5013101775350942, 'alpha': 0.00046705893925514546}. Best is trial 63 with value: 0.9509558338826631.\u001b[0m\n"
     ]
    },
    {
     "name": "stdout",
     "output_type": "stream",
     "text": [
      "[01:08:00] WARNING: C:/Users/Administrator/workspace/xgboost-win64_release_1.5.1/src/learner.cc:1115: Starting in XGBoost 1.3.0, the default evaluation metric used with the objective 'multi:softprob' was changed from 'merror' to 'mlogloss'. Explicitly set eval_metric if you'd like to restore the old behavior.\n"
     ]
    },
    {
     "name": "stderr",
     "output_type": "stream",
     "text": [
      "\u001b[32m[I 2022-04-04 01:08:11,591]\u001b[0m Trial 200 finished with value: 0.9493737640079104 and parameters: {'eta': 0.831084379375597, 'max_depth': 6, 'booster': 'gbtree', 'lambda': 0.0650359830992238, 'alpha': 0.0009769315590123751}. Best is trial 63 with value: 0.9509558338826631.\u001b[0m\n"
     ]
    },
    {
     "name": "stdout",
     "output_type": "stream",
     "text": [
      "[01:08:11] WARNING: C:/Users/Administrator/workspace/xgboost-win64_release_1.5.1/src/learner.cc:1115: Starting in XGBoost 1.3.0, the default evaluation metric used with the objective 'multi:softprob' was changed from 'merror' to 'mlogloss'. Explicitly set eval_metric if you'd like to restore the old behavior.\n"
     ]
    },
    {
     "name": "stderr",
     "output_type": "stream",
     "text": [
      "\u001b[32m[I 2022-04-04 01:08:23,099]\u001b[0m Trial 201 finished with value: 0.9501647989452867 and parameters: {'eta': 0.41040583973816164, 'max_depth': 6, 'booster': 'gbtree', 'lambda': 0.2855168003896018, 'alpha': 0.0002083620533341009}. Best is trial 63 with value: 0.9509558338826631.\u001b[0m\n"
     ]
    },
    {
     "name": "stdout",
     "output_type": "stream",
     "text": [
      "[01:08:23] WARNING: C:/Users/Administrator/workspace/xgboost-win64_release_1.5.1/src/learner.cc:1115: Starting in XGBoost 1.3.0, the default evaluation metric used with the objective 'multi:softprob' was changed from 'merror' to 'mlogloss'. Explicitly set eval_metric if you'd like to restore the old behavior.\n"
     ]
    },
    {
     "name": "stderr",
     "output_type": "stream",
     "text": [
      "\u001b[32m[I 2022-04-04 01:08:34,593]\u001b[0m Trial 202 finished with value: 0.9504284772577456 and parameters: {'eta': 0.4714223752676868, 'max_depth': 6, 'booster': 'gbtree', 'lambda': 0.1881916730863833, 'alpha': 0.00023530491925857468}. Best is trial 63 with value: 0.9509558338826631.\u001b[0m\n"
     ]
    },
    {
     "name": "stdout",
     "output_type": "stream",
     "text": [
      "[01:08:34] WARNING: C:/Users/Administrator/workspace/xgboost-win64_release_1.5.1/src/learner.cc:1115: Starting in XGBoost 1.3.0, the default evaluation metric used with the objective 'multi:softprob' was changed from 'merror' to 'mlogloss'. Explicitly set eval_metric if you'd like to restore the old behavior.\n"
     ]
    },
    {
     "name": "stderr",
     "output_type": "stream",
     "text": [
      "\u001b[32m[I 2022-04-04 01:08:43,740]\u001b[0m Trial 203 finished with value: 0.9492419248516809 and parameters: {'eta': 0.7502920601331801, 'max_depth': 6, 'booster': 'gbtree', 'lambda': 0.21631804970414514, 'alpha': 0.00014962841663888874}. Best is trial 63 with value: 0.9509558338826631.\u001b[0m\n"
     ]
    },
    {
     "name": "stdout",
     "output_type": "stream",
     "text": [
      "[01:08:43] WARNING: C:/Users/Administrator/workspace/xgboost-win64_release_1.5.1/src/learner.cc:1115: Starting in XGBoost 1.3.0, the default evaluation metric used with the objective 'multi:softprob' was changed from 'merror' to 'mlogloss'. Explicitly set eval_metric if you'd like to restore the old behavior.\n"
     ]
    },
    {
     "name": "stderr",
     "output_type": "stream",
     "text": [
      "\u001b[32m[I 2022-04-04 01:08:55,024]\u001b[0m Trial 204 finished with value: 0.950560316413975 and parameters: {'eta': 0.3817758020606815, 'max_depth': 6, 'booster': 'gbtree', 'lambda': 0.3292071020472983, 'alpha': 0.0002102243130766737}. Best is trial 63 with value: 0.9509558338826631.\u001b[0m\n"
     ]
    },
    {
     "name": "stdout",
     "output_type": "stream",
     "text": [
      "[01:08:55] WARNING: C:/Users/Administrator/workspace/xgboost-win64_release_1.5.1/src/learner.cc:1115: Starting in XGBoost 1.3.0, the default evaluation metric used with the objective 'multi:softprob' was changed from 'merror' to 'mlogloss'. Explicitly set eval_metric if you'd like to restore the old behavior.\n"
     ]
    },
    {
     "name": "stderr",
     "output_type": "stream",
     "text": [
      "\u001b[32m[I 2022-04-04 01:09:06,925]\u001b[0m Trial 205 finished with value: 0.9499011206328279 and parameters: {'eta': 0.2895847448027131, 'max_depth': 6, 'booster': 'gbtree', 'lambda': 0.3439182353990157, 'alpha': 0.00025386944525897963}. Best is trial 63 with value: 0.9509558338826631.\u001b[0m\n"
     ]
    },
    {
     "name": "stdout",
     "output_type": "stream",
     "text": [
      "[01:09:07] WARNING: C:/Users/Administrator/workspace/xgboost-win64_release_1.5.1/src/learner.cc:1115: Starting in XGBoost 1.3.0, the default evaluation metric used with the objective 'multi:softprob' was changed from 'merror' to 'mlogloss'. Explicitly set eval_metric if you'd like to restore the old behavior.\n"
     ]
    },
    {
     "name": "stderr",
     "output_type": "stream",
     "text": [
      "\u001b[32m[I 2022-04-04 01:09:18,489]\u001b[0m Trial 206 finished with value: 0.9497692814765986 and parameters: {'eta': 0.4213077943683363, 'max_depth': 6, 'booster': 'gbtree', 'lambda': 0.2785643976495303, 'alpha': 0.00018185587925151274}. Best is trial 63 with value: 0.9509558338826631.\u001b[0m\n"
     ]
    },
    {
     "name": "stdout",
     "output_type": "stream",
     "text": [
      "[01:09:18] WARNING: C:/Users/Administrator/workspace/xgboost-win64_release_1.5.1/src/learner.cc:1115: Starting in XGBoost 1.3.0, the default evaluation metric used with the objective 'multi:softprob' was changed from 'merror' to 'mlogloss'. Explicitly set eval_metric if you'd like to restore the old behavior.\n"
     ]
    },
    {
     "name": "stderr",
     "output_type": "stream",
     "text": [
      "\u001b[32m[I 2022-04-04 01:09:30,282]\u001b[0m Trial 207 finished with value: 0.9492419248516809 and parameters: {'eta': 0.36293300546681334, 'max_depth': 6, 'booster': 'gbtree', 'lambda': 0.17885489835459734, 'alpha': 0.00021015413033521012}. Best is trial 63 with value: 0.9509558338826631.\u001b[0m\n"
     ]
    },
    {
     "name": "stdout",
     "output_type": "stream",
     "text": [
      "[01:09:30] WARNING: C:/Users/Administrator/workspace/xgboost-win64_release_1.5.1/src/learner.cc:1115: Starting in XGBoost 1.3.0, the default evaluation metric used with the objective 'multi:softprob' was changed from 'merror' to 'mlogloss'. Explicitly set eval_metric if you'd like to restore the old behavior.\n"
     ]
    },
    {
     "name": "stderr",
     "output_type": "stream",
     "text": [
      "\u001b[32m[I 2022-04-04 01:09:41,797]\u001b[0m Trial 208 finished with value: 0.9502966381015161 and parameters: {'eta': 0.5009722622015559, 'max_depth': 6, 'booster': 'gbtree', 'lambda': 0.6935316659918692, 'alpha': 9.425288057959956e-05}. Best is trial 63 with value: 0.9509558338826631.\u001b[0m\n"
     ]
    },
    {
     "name": "stdout",
     "output_type": "stream",
     "text": [
      "[01:09:41] WARNING: C:/Users/Administrator/workspace/xgboost-win64_release_1.5.1/src/learner.cc:1115: Starting in XGBoost 1.3.0, the default evaluation metric used with the objective 'multi:softprob' was changed from 'merror' to 'mlogloss'. Explicitly set eval_metric if you'd like to restore the old behavior.\n"
     ]
    },
    {
     "name": "stderr",
     "output_type": "stream",
     "text": [
      "\u001b[32m[I 2022-04-04 01:09:52,217]\u001b[0m Trial 209 finished with value: 0.9493737640079104 and parameters: {'eta': 0.5393720067247022, 'max_depth': 6, 'booster': 'gbtree', 'lambda': 0.39346215774895626, 'alpha': 0.00012217313878993375}. Best is trial 63 with value: 0.9509558338826631.\u001b[0m\n"
     ]
    },
    {
     "name": "stdout",
     "output_type": "stream",
     "text": [
      "[01:09:52] WARNING: C:/Users/Administrator/workspace/xgboost-win64_release_1.5.1/src/learner.cc:1115: Starting in XGBoost 1.3.0, the default evaluation metric used with the objective 'multi:softprob' was changed from 'merror' to 'mlogloss'. Explicitly set eval_metric if you'd like to restore the old behavior.\n"
     ]
    },
    {
     "name": "stderr",
     "output_type": "stream",
     "text": [
      "\u001b[32m[I 2022-04-04 01:10:01,851]\u001b[0m Trial 210 finished with value: 0.9502966381015161 and parameters: {'eta': 0.4699489489676262, 'max_depth': 6, 'booster': 'gbtree', 'lambda': 0.1646072042465928, 'alpha': 9.573155069846217e-05}. Best is trial 63 with value: 0.9509558338826631.\u001b[0m\n"
     ]
    },
    {
     "name": "stdout",
     "output_type": "stream",
     "text": [
      "[01:10:01] WARNING: C:/Users/Administrator/workspace/xgboost-win64_release_1.5.1/src/learner.cc:1115: Starting in XGBoost 1.3.0, the default evaluation metric used with the objective 'multi:softprob' was changed from 'merror' to 'mlogloss'. Explicitly set eval_metric if you'd like to restore the old behavior.\n"
     ]
    },
    {
     "name": "stderr",
     "output_type": "stream",
     "text": [
      "\u001b[32m[I 2022-04-04 01:10:13,560]\u001b[0m Trial 211 finished with value: 0.9489782465392221 and parameters: {'eta': 0.3738985727392057, 'max_depth': 6, 'booster': 'gbtree', 'lambda': 0.6682483281722034, 'alpha': 0.00010324550578000001}. Best is trial 63 with value: 0.9509558338826631.\u001b[0m\n"
     ]
    },
    {
     "name": "stdout",
     "output_type": "stream",
     "text": [
      "[01:10:13] WARNING: C:/Users/Administrator/workspace/xgboost-win64_release_1.5.1/src/learner.cc:1115: Starting in XGBoost 1.3.0, the default evaluation metric used with the objective 'multi:softprob' was changed from 'merror' to 'mlogloss'. Explicitly set eval_metric if you'd like to restore the old behavior.\n"
     ]
    },
    {
     "name": "stderr",
     "output_type": "stream",
     "text": [
      "\u001b[32m[I 2022-04-04 01:10:25,131]\u001b[0m Trial 212 finished with value: 0.9506921555702044 and parameters: {'eta': 0.48802481190674224, 'max_depth': 6, 'booster': 'gbtree', 'lambda': 0.25841378599680526, 'alpha': 0.0001650447881050644}. Best is trial 63 with value: 0.9509558338826631.\u001b[0m\n"
     ]
    },
    {
     "name": "stdout",
     "output_type": "stream",
     "text": [
      "[01:10:25] WARNING: C:/Users/Administrator/workspace/xgboost-win64_release_1.5.1/src/learner.cc:1115: Starting in XGBoost 1.3.0, the default evaluation metric used with the objective 'multi:softprob' was changed from 'merror' to 'mlogloss'. Explicitly set eval_metric if you'd like to restore the old behavior.\n"
     ]
    },
    {
     "name": "stderr",
     "output_type": "stream",
     "text": [
      "\u001b[32m[I 2022-04-04 01:10:37,984]\u001b[0m Trial 213 finished with value: 0.9489782465392221 and parameters: {'eta': 0.4842483340360878, 'max_depth': 6, 'booster': 'gbtree', 'lambda': 0.15088865187522582, 'alpha': 7.470101288155325e-05}. Best is trial 63 with value: 0.9509558338826631.\u001b[0m\n"
     ]
    },
    {
     "name": "stdout",
     "output_type": "stream",
     "text": [
      "[01:10:38] WARNING: C:/Users/Administrator/workspace/xgboost-win64_release_1.5.1/src/learner.cc:1115: Starting in XGBoost 1.3.0, the default evaluation metric used with the objective 'multi:softprob' was changed from 'merror' to 'mlogloss'. Explicitly set eval_metric if you'd like to restore the old behavior.\n"
     ]
    },
    {
     "name": "stderr",
     "output_type": "stream",
     "text": [
      "\u001b[32m[I 2022-04-04 01:10:49,504]\u001b[0m Trial 214 finished with value: 0.9493737640079104 and parameters: {'eta': 0.5846238530036721, 'max_depth': 6, 'booster': 'gbtree', 'lambda': 0.26592935908272086, 'alpha': 5.3629661841599535e-05}. Best is trial 63 with value: 0.9509558338826631.\u001b[0m\n"
     ]
    },
    {
     "name": "stdout",
     "output_type": "stream",
     "text": [
      "[01:10:49] WARNING: C:/Users/Administrator/workspace/xgboost-win64_release_1.5.1/src/learner.cc:1115: Starting in XGBoost 1.3.0, the default evaluation metric used with the objective 'multi:softprob' was changed from 'merror' to 'mlogloss'. Explicitly set eval_metric if you'd like to restore the old behavior.\n"
     ]
    },
    {
     "name": "stderr",
     "output_type": "stream",
     "text": [
      "\u001b[32m[I 2022-04-04 01:11:01,104]\u001b[0m Trial 215 finished with value: 0.9495056031641398 and parameters: {'eta': 0.3271554138427498, 'max_depth': 6, 'booster': 'gbtree', 'lambda': 0.44690343705093305, 'alpha': 0.00010086930320012145}. Best is trial 63 with value: 0.9509558338826631.\u001b[0m\n"
     ]
    },
    {
     "name": "stdout",
     "output_type": "stream",
     "text": [
      "[01:11:01] WARNING: C:/Users/Administrator/workspace/xgboost-win64_release_1.5.1/src/learner.cc:1115: Starting in XGBoost 1.3.0, the default evaluation metric used with the objective 'multi:softprob' was changed from 'merror' to 'mlogloss'. Explicitly set eval_metric if you'd like to restore the old behavior.\n"
     ]
    },
    {
     "name": "stderr",
     "output_type": "stream",
     "text": [
      "\u001b[32m[I 2022-04-04 01:11:11,336]\u001b[0m Trial 216 finished with value: 0.9488464073829928 and parameters: {'eta': 0.48160100067788536, 'max_depth': 6, 'booster': 'gbtree', 'lambda': 0.7907734522987555, 'alpha': 0.0001717293510079999}. Best is trial 63 with value: 0.9509558338826631.\u001b[0m\n"
     ]
    },
    {
     "name": "stdout",
     "output_type": "stream",
     "text": [
      "[01:11:11] WARNING: C:/Users/Administrator/workspace/xgboost-win64_release_1.5.1/src/learner.cc:1115: Starting in XGBoost 1.3.0, the default evaluation metric used with the objective 'multi:softprob' was changed from 'merror' to 'mlogloss'. Explicitly set eval_metric if you'd like to restore the old behavior.\n"
     ]
    },
    {
     "name": "stderr",
     "output_type": "stream",
     "text": [
      "\u001b[32m[I 2022-04-04 01:12:52,707]\u001b[0m Trial 217 finished with value: 0.9483190507580751 and parameters: {'eta': 0.6338743535964154, 'max_depth': 6, 'booster': 'dart', 'lambda': 0.34726293882394005, 'alpha': 0.0002772314720610729}. Best is trial 63 with value: 0.9509558338826631.\u001b[0m\n"
     ]
    },
    {
     "name": "stdout",
     "output_type": "stream",
     "text": [
      "[01:12:52] WARNING: C:/Users/Administrator/workspace/xgboost-win64_release_1.5.1/src/learner.cc:1115: Starting in XGBoost 1.3.0, the default evaluation metric used with the objective 'multi:softprob' was changed from 'merror' to 'mlogloss'. Explicitly set eval_metric if you'd like to restore the old behavior.\n"
     ]
    },
    {
     "name": "stderr",
     "output_type": "stream",
     "text": [
      "\u001b[32m[I 2022-04-04 01:13:04,566]\u001b[0m Trial 218 finished with value: 0.9484508899143046 and parameters: {'eta': 0.41801630189948497, 'max_depth': 6, 'booster': 'gbtree', 'lambda': 0.2257839584582644, 'alpha': 0.00020390225967716952}. Best is trial 63 with value: 0.9509558338826631.\u001b[0m\n"
     ]
    },
    {
     "name": "stdout",
     "output_type": "stream",
     "text": [
      "[01:13:04] WARNING: C:/Users/Administrator/workspace/xgboost-win64_release_1.5.1/src/learner.cc:1115: Starting in XGBoost 1.3.0, the default evaluation metric used with the objective 'multi:softprob' was changed from 'merror' to 'mlogloss'. Explicitly set eval_metric if you'd like to restore the old behavior.\n"
     ]
    },
    {
     "name": "stderr",
     "output_type": "stream",
     "text": [
      "\u001b[32m[I 2022-04-04 01:13:16,019]\u001b[0m Trial 219 finished with value: 0.9510876730388925 and parameters: {'eta': 0.45130011045733887, 'max_depth': 6, 'booster': 'gbtree', 'lambda': 0.6254188197006147, 'alpha': 0.00030775521585501626}. Best is trial 219 with value: 0.9510876730388925.\u001b[0m\n"
     ]
    },
    {
     "name": "stdout",
     "output_type": "stream",
     "text": [
      "[01:13:16] WARNING: C:/Users/Administrator/workspace/xgboost-win64_release_1.5.1/src/learner.cc:1115: Starting in XGBoost 1.3.0, the default evaluation metric used with the objective 'multi:softprob' was changed from 'merror' to 'mlogloss'. Explicitly set eval_metric if you'd like to restore the old behavior.\n"
     ]
    },
    {
     "name": "stderr",
     "output_type": "stream",
     "text": [
      "\u001b[32m[I 2022-04-04 01:13:27,677]\u001b[0m Trial 220 finished with value: 0.9497692814765986 and parameters: {'eta': 0.426997217779459, 'max_depth': 6, 'booster': 'gbtree', 'lambda': 0.683630614959759, 'alpha': 0.0003232573400598117}. Best is trial 219 with value: 0.9510876730388925.\u001b[0m\n"
     ]
    },
    {
     "name": "stdout",
     "output_type": "stream",
     "text": [
      "[01:13:27] WARNING: C:/Users/Administrator/workspace/xgboost-win64_release_1.5.1/src/learner.cc:1115: Starting in XGBoost 1.3.0, the default evaluation metric used with the objective 'multi:softprob' was changed from 'merror' to 'mlogloss'. Explicitly set eval_metric if you'd like to restore the old behavior.\n"
     ]
    },
    {
     "name": "stderr",
     "output_type": "stream",
     "text": [
      "\u001b[32m[I 2022-04-04 01:13:38,253]\u001b[0m Trial 221 finished with value: 0.9493737640079104 and parameters: {'eta': 0.3777669911619761, 'max_depth': 6, 'booster': 'gbtree', 'lambda': 0.4904423624603333, 'alpha': 0.0005648163936521349}. Best is trial 219 with value: 0.9510876730388925.\u001b[0m\n"
     ]
    },
    {
     "name": "stdout",
     "output_type": "stream",
     "text": [
      "[01:13:38] WARNING: C:/Users/Administrator/workspace/xgboost-win64_release_1.5.1/src/learner.cc:1115: Starting in XGBoost 1.3.0, the default evaluation metric used with the objective 'multi:softprob' was changed from 'merror' to 'mlogloss'. Explicitly set eval_metric if you'd like to restore the old behavior.\n"
     ]
    },
    {
     "name": "stderr",
     "output_type": "stream",
     "text": [
      "\u001b[32m[I 2022-04-04 01:13:48,505]\u001b[0m Trial 222 finished with value: 0.9491100856954515 and parameters: {'eta': 0.5145125959560206, 'max_depth': 6, 'booster': 'gbtree', 'lambda': 0.9576746357711949, 'alpha': 3.863845905898114e-05}. Best is trial 219 with value: 0.9510876730388925.\u001b[0m\n"
     ]
    },
    {
     "name": "stdout",
     "output_type": "stream",
     "text": [
      "[01:13:48] WARNING: C:/Users/Administrator/workspace/xgboost-win64_release_1.5.1/src/learner.cc:1115: Starting in XGBoost 1.3.0, the default evaluation metric used with the objective 'multi:softprob' was changed from 'merror' to 'mlogloss'. Explicitly set eval_metric if you'd like to restore the old behavior.\n"
     ]
    },
    {
     "name": "stderr",
     "output_type": "stream",
     "text": [
      "\u001b[32m[I 2022-04-04 01:14:00,829]\u001b[0m Trial 223 finished with value: 0.9497692814765986 and parameters: {'eta': 0.3078204194033534, 'max_depth': 6, 'booster': 'gbtree', 'lambda': 0.17321822579096682, 'alpha': 0.00012345353351624774}. Best is trial 219 with value: 0.9510876730388925.\u001b[0m\n"
     ]
    },
    {
     "name": "stdout",
     "output_type": "stream",
     "text": [
      "[01:14:00] WARNING: C:/Users/Administrator/workspace/xgboost-win64_release_1.5.1/src/learner.cc:1115: Starting in XGBoost 1.3.0, the default evaluation metric used with the objective 'multi:softprob' was changed from 'merror' to 'mlogloss'. Explicitly set eval_metric if you'd like to restore the old behavior.\n"
     ]
    },
    {
     "name": "stderr",
     "output_type": "stream",
     "text": [
      "\u001b[32m[I 2022-04-04 01:14:12,885]\u001b[0m Trial 224 finished with value: 0.9487145682267634 and parameters: {'eta': 0.47840934116656514, 'max_depth': 6, 'booster': 'gbtree', 'lambda': 0.12037572865534901, 'alpha': 0.0004055876298456583}. Best is trial 219 with value: 0.9510876730388925.\u001b[0m\n"
     ]
    },
    {
     "name": "stdout",
     "output_type": "stream",
     "text": [
      "[01:14:13] WARNING: C:/Users/Administrator/workspace/xgboost-win64_release_1.5.1/src/learner.cc:1115: Starting in XGBoost 1.3.0, the default evaluation metric used with the objective 'multi:softprob' was changed from 'merror' to 'mlogloss'. Explicitly set eval_metric if you'd like to restore the old behavior.\n"
     ]
    },
    {
     "name": "stderr",
     "output_type": "stream",
     "text": [
      "\u001b[32m[I 2022-04-04 01:14:24,320]\u001b[0m Trial 225 finished with value: 0.9497692814765986 and parameters: {'eta': 0.5610565835324154, 'max_depth': 6, 'booster': 'gbtree', 'lambda': 0.5794701007300609, 'alpha': 7.850238781721058e-05}. Best is trial 219 with value: 0.9510876730388925.\u001b[0m\n"
     ]
    },
    {
     "name": "stdout",
     "output_type": "stream",
     "text": [
      "[01:14:24] WARNING: C:/Users/Administrator/workspace/xgboost-win64_release_1.5.1/src/learner.cc:1115: Starting in XGBoost 1.3.0, the default evaluation metric used with the objective 'multi:softprob' was changed from 'merror' to 'mlogloss'. Explicitly set eval_metric if you'd like to restore the old behavior.\n"
     ]
    },
    {
     "name": "stderr",
     "output_type": "stream",
     "text": [
      "\u001b[32m[I 2022-04-04 01:14:36,123]\u001b[0m Trial 226 finished with value: 0.9495056031641398 and parameters: {'eta': 0.43756546747362757, 'max_depth': 6, 'booster': 'gbtree', 'lambda': 0.24253525282695312, 'alpha': 0.0002730728403239143}. Best is trial 219 with value: 0.9510876730388925.\u001b[0m\n"
     ]
    },
    {
     "name": "stdout",
     "output_type": "stream",
     "text": [
      "[01:14:36] WARNING: C:/Users/Administrator/workspace/xgboost-win64_release_1.5.1/src/learner.cc:1115: Starting in XGBoost 1.3.0, the default evaluation metric used with the objective 'multi:softprob' was changed from 'merror' to 'mlogloss'. Explicitly set eval_metric if you'd like to restore the old behavior.\n"
     ]
    },
    {
     "name": "stderr",
     "output_type": "stream",
     "text": [
      "\u001b[32m[I 2022-04-04 01:14:45,406]\u001b[0m Trial 227 finished with value: 0.9479235332893869 and parameters: {'eta': 0.6946356321733598, 'max_depth': 6, 'booster': 'gbtree', 'lambda': 0.37688536564987973, 'alpha': 0.0001316018733692942}. Best is trial 219 with value: 0.9510876730388925.\u001b[0m\n"
     ]
    },
    {
     "name": "stdout",
     "output_type": "stream",
     "text": [
      "[01:14:45] WARNING: C:/Users/Administrator/workspace/xgboost-win64_release_1.5.1/src/learner.cc:1115: Starting in XGBoost 1.3.0, the default evaluation metric used with the objective 'multi:softprob' was changed from 'merror' to 'mlogloss'. Explicitly set eval_metric if you'd like to restore the old behavior.\n"
     ]
    },
    {
     "name": "stderr",
     "output_type": "stream",
     "text": [
      "\u001b[32m[I 2022-04-04 01:16:28,198]\u001b[0m Trial 228 finished with value: 0.9492419248516809 and parameters: {'eta': 0.3846375077419957, 'max_depth': 6, 'booster': 'dart', 'lambda': 0.4275421841359658, 'alpha': 6.591563746177834e-07}. Best is trial 219 with value: 0.9510876730388925.\u001b[0m\n"
     ]
    },
    {
     "name": "stdout",
     "output_type": "stream",
     "text": [
      "[01:16:28] WARNING: C:/Users/Administrator/workspace/xgboost-win64_release_1.5.1/src/learner.cc:1115: Starting in XGBoost 1.3.0, the default evaluation metric used with the objective 'multi:softprob' was changed from 'merror' to 'mlogloss'. Explicitly set eval_metric if you'd like to restore the old behavior.\n"
     ]
    },
    {
     "name": "stderr",
     "output_type": "stream",
     "text": [
      "\u001b[32m[I 2022-04-04 01:16:33,042]\u001b[0m Trial 229 finished with value: 0.8427158866183256 and parameters: {'eta': 0.01919500365889023, 'max_depth': 2, 'booster': 'gbtree', 'lambda': 0.6491829658646117, 'alpha': 6.215895679244713e-05}. Best is trial 219 with value: 0.9510876730388925.\u001b[0m\n"
     ]
    },
    {
     "name": "stdout",
     "output_type": "stream",
     "text": [
      "[01:16:33] WARNING: C:/Users/Administrator/workspace/xgboost-win64_release_1.5.1/src/learner.cc:1115: Starting in XGBoost 1.3.0, the default evaluation metric used with the objective 'multi:softprob' was changed from 'merror' to 'mlogloss'. Explicitly set eval_metric if you'd like to restore the old behavior.\n"
     ]
    },
    {
     "name": "stderr",
     "output_type": "stream",
     "text": [
      "\u001b[32m[I 2022-04-04 01:16:44,642]\u001b[0m Trial 230 finished with value: 0.9497692814765986 and parameters: {'eta': 0.3378539002677179, 'max_depth': 6, 'booster': 'gbtree', 'lambda': 0.3033577084369259, 'alpha': 0.0002032448633875696}. Best is trial 219 with value: 0.9510876730388925.\u001b[0m\n"
     ]
    },
    {
     "name": "stdout",
     "output_type": "stream",
     "text": [
      "[01:16:44] WARNING: C:/Users/Administrator/workspace/xgboost-win64_release_1.5.1/src/learner.cc:1115: Starting in XGBoost 1.3.0, the default evaluation metric used with the objective 'multi:softprob' was changed from 'merror' to 'mlogloss'. Explicitly set eval_metric if you'd like to restore the old behavior.\n"
     ]
    },
    {
     "name": "stderr",
     "output_type": "stream",
     "text": [
      "\u001b[32m[I 2022-04-04 01:16:54,723]\u001b[0m Trial 231 finished with value: 0.9491100856954515 and parameters: {'eta': 0.4620274025476584, 'max_depth': 6, 'booster': 'gbtree', 'lambda': 0.18757677801992412, 'alpha': 0.00016931039111223794}. Best is trial 219 with value: 0.9510876730388925.\u001b[0m\n"
     ]
    },
    {
     "name": "stdout",
     "output_type": "stream",
     "text": [
      "[01:16:54] WARNING: C:/Users/Administrator/workspace/xgboost-win64_release_1.5.1/src/learner.cc:1115: Starting in XGBoost 1.3.0, the default evaluation metric used with the objective 'multi:softprob' was changed from 'merror' to 'mlogloss'. Explicitly set eval_metric if you'd like to restore the old behavior.\n"
     ]
    },
    {
     "name": "stderr",
     "output_type": "stream",
     "text": [
      "\u001b[32m[I 2022-04-04 01:17:04,526]\u001b[0m Trial 232 finished with value: 0.9508239947264338 and parameters: {'eta': 0.6007869707194856, 'max_depth': 6, 'booster': 'gbtree', 'lambda': 0.29985697450542526, 'alpha': 3.0168470059678888e-05}. Best is trial 219 with value: 0.9510876730388925.\u001b[0m\n"
     ]
    },
    {
     "name": "stdout",
     "output_type": "stream",
     "text": [
      "[01:17:04] WARNING: C:/Users/Administrator/workspace/xgboost-win64_release_1.5.1/src/learner.cc:1115: Starting in XGBoost 1.3.0, the default evaluation metric used with the objective 'multi:softprob' was changed from 'merror' to 'mlogloss'. Explicitly set eval_metric if you'd like to restore the old behavior.\n"
     ]
    },
    {
     "name": "stderr",
     "output_type": "stream",
     "text": [
      "\u001b[32m[I 2022-04-04 01:17:16,036]\u001b[0m Trial 233 finished with value: 0.9502966381015161 and parameters: {'eta': 0.5907794334575307, 'max_depth': 6, 'booster': 'gbtree', 'lambda': 0.282689844083481, 'alpha': 0.03191360754714965}. Best is trial 219 with value: 0.9510876730388925.\u001b[0m\n"
     ]
    },
    {
     "name": "stdout",
     "output_type": "stream",
     "text": [
      "[01:17:16] WARNING: C:/Users/Administrator/workspace/xgboost-win64_release_1.5.1/src/learner.cc:1115: Starting in XGBoost 1.3.0, the default evaluation metric used with the objective 'multi:softprob' was changed from 'merror' to 'mlogloss'. Explicitly set eval_metric if you'd like to restore the old behavior.\n"
     ]
    },
    {
     "name": "stderr",
     "output_type": "stream",
     "text": [
      "\u001b[32m[I 2022-04-04 01:17:27,582]\u001b[0m Trial 234 finished with value: 0.9488464073829928 and parameters: {'eta': 0.6916088419576056, 'max_depth': 6, 'booster': 'gbtree', 'lambda': 0.25668270628632356, 'alpha': 0.027736072944188256}. Best is trial 219 with value: 0.9510876730388925.\u001b[0m\n"
     ]
    },
    {
     "name": "stdout",
     "output_type": "stream",
     "text": [
      "[01:17:27] WARNING: C:/Users/Administrator/workspace/xgboost-win64_release_1.5.1/src/learner.cc:1115: Starting in XGBoost 1.3.0, the default evaluation metric used with the objective 'multi:softprob' was changed from 'merror' to 'mlogloss'. Explicitly set eval_metric if you'd like to restore the old behavior.\n"
     ]
    },
    {
     "name": "stderr",
     "output_type": "stream",
     "text": [
      "\u001b[32m[I 2022-04-04 01:17:39,082]\u001b[0m Trial 235 finished with value: 0.9492419248516809 and parameters: {'eta': 0.5343537514390831, 'max_depth': 6, 'booster': 'gbtree', 'lambda': 0.4134156711899337, 'alpha': 0.030666719736706503}. Best is trial 219 with value: 0.9510876730388925.\u001b[0m\n"
     ]
    },
    {
     "name": "stdout",
     "output_type": "stream",
     "text": [
      "[01:17:39] WARNING: C:/Users/Administrator/workspace/xgboost-win64_release_1.5.1/src/learner.cc:1115: Starting in XGBoost 1.3.0, the default evaluation metric used with the objective 'multi:softprob' was changed from 'merror' to 'mlogloss'. Explicitly set eval_metric if you'd like to restore the old behavior.\n"
     ]
    },
    {
     "name": "stderr",
     "output_type": "stream",
     "text": [
      "\u001b[32m[I 2022-04-04 01:17:50,538]\u001b[0m Trial 236 finished with value: 0.9492419248516809 and parameters: {'eta': 0.5857948511533451, 'max_depth': 6, 'booster': 'gbtree', 'lambda': 0.2999246627447907, 'alpha': 0.013704154469880738}. Best is trial 219 with value: 0.9510876730388925.\u001b[0m\n"
     ]
    },
    {
     "name": "stdout",
     "output_type": "stream",
     "text": [
      "[01:17:50] WARNING: C:/Users/Administrator/workspace/xgboost-win64_release_1.5.1/src/learner.cc:1115: Starting in XGBoost 1.3.0, the default evaluation metric used with the objective 'multi:softprob' was changed from 'merror' to 'mlogloss'. Explicitly set eval_metric if you'd like to restore the old behavior.\n"
     ]
    },
    {
     "name": "stderr",
     "output_type": "stream",
     "text": [
      "\u001b[32m[I 2022-04-04 01:18:01,416]\u001b[0m Trial 237 finished with value: 0.9502966381015161 and parameters: {'eta': 0.4587486548173889, 'max_depth': 6, 'booster': 'gbtree', 'lambda': 0.6860603102617255, 'alpha': 0.008682684906595515}. Best is trial 219 with value: 0.9510876730388925.\u001b[0m\n"
     ]
    },
    {
     "name": "stdout",
     "output_type": "stream",
     "text": [
      "[01:18:01] WARNING: C:/Users/Administrator/workspace/xgboost-win64_release_1.5.1/src/learner.cc:1115: Starting in XGBoost 1.3.0, the default evaluation metric used with the objective 'multi:softprob' was changed from 'merror' to 'mlogloss'. Explicitly set eval_metric if you'd like to restore the old behavior.\n"
     ]
    },
    {
     "name": "stderr",
     "output_type": "stream",
     "text": [
      "\u001b[32m[I 2022-04-04 01:18:10,701]\u001b[0m Trial 238 finished with value: 0.9497692814765986 and parameters: {'eta': 0.5261358995065242, 'max_depth': 6, 'booster': 'gbtree', 'lambda': 0.21693981332857998, 'alpha': 2.4003185396963254e-05}. Best is trial 219 with value: 0.9510876730388925.\u001b[0m\n"
     ]
    },
    {
     "name": "stdout",
     "output_type": "stream",
     "text": [
      "[01:18:10] WARNING: C:/Users/Administrator/workspace/xgboost-win64_release_1.5.1/src/learner.cc:1115: Starting in XGBoost 1.3.0, the default evaluation metric used with the objective 'multi:softprob' was changed from 'merror' to 'mlogloss'. Explicitly set eval_metric if you'd like to restore the old behavior.\n"
     ]
    },
    {
     "name": "stderr",
     "output_type": "stream",
     "text": [
      "\u001b[32m[I 2022-04-04 01:18:22,066]\u001b[0m Trial 239 finished with value: 0.9500329597890573 and parameters: {'eta': 0.6064310579897588, 'max_depth': 6, 'booster': 'gbtree', 'lambda': 0.9058979311511014, 'alpha': 4.878425189326748e-05}. Best is trial 219 with value: 0.9510876730388925.\u001b[0m\n"
     ]
    },
    {
     "name": "stdout",
     "output_type": "stream",
     "text": [
      "[01:18:22] WARNING: C:/Users/Administrator/workspace/xgboost-win64_release_1.5.1/src/learner.cc:1115: Starting in XGBoost 1.3.0, the default evaluation metric used with the objective 'multi:softprob' was changed from 'merror' to 'mlogloss'. Explicitly set eval_metric if you'd like to restore the old behavior.\n"
     ]
    },
    {
     "name": "stderr",
     "output_type": "stream",
     "text": [
      "\u001b[32m[I 2022-04-04 01:20:04,953]\u001b[0m Trial 240 finished with value: 0.9493737640079104 and parameters: {'eta': 0.783203871275747, 'max_depth': 6, 'booster': 'dart', 'lambda': 0.5702092872564355, 'alpha': 0.008381218271905357}. Best is trial 219 with value: 0.9510876730388925.\u001b[0m\n"
     ]
    },
    {
     "name": "stdout",
     "output_type": "stream",
     "text": [
      "[01:20:05] WARNING: C:/Users/Administrator/workspace/xgboost-win64_release_1.5.1/src/learner.cc:1115: Starting in XGBoost 1.3.0, the default evaluation metric used with the objective 'multi:softprob' was changed from 'merror' to 'mlogloss'. Explicitly set eval_metric if you'd like to restore the old behavior.\n"
     ]
    },
    {
     "name": "stderr",
     "output_type": "stream",
     "text": [
      "\u001b[32m[I 2022-04-04 01:20:16,520]\u001b[0m Trial 241 finished with value: 0.9489782465392221 and parameters: {'eta': 0.4358020908132716, 'max_depth': 6, 'booster': 'gbtree', 'lambda': 0.3944997386488336, 'alpha': 0.01103049887139187}. Best is trial 219 with value: 0.9510876730388925.\u001b[0m\n"
     ]
    },
    {
     "name": "stdout",
     "output_type": "stream",
     "text": [
      "[01:20:16] WARNING: C:/Users/Administrator/workspace/xgboost-win64_release_1.5.1/src/learner.cc:1115: Starting in XGBoost 1.3.0, the default evaluation metric used with the objective 'multi:softprob' was changed from 'merror' to 'mlogloss'. Explicitly set eval_metric if you'd like to restore the old behavior.\n"
     ]
    },
    {
     "name": "stderr",
     "output_type": "stream",
     "text": [
      "\u001b[32m[I 2022-04-04 01:20:28,126]\u001b[0m Trial 242 finished with value: 0.9502966381015161 and parameters: {'eta': 0.3928958226218605, 'max_depth': 6, 'booster': 'gbtree', 'lambda': 0.6456611897836985, 'alpha': 0.004975358630545946}. Best is trial 219 with value: 0.9510876730388925.\u001b[0m\n"
     ]
    },
    {
     "name": "stdout",
     "output_type": "stream",
     "text": [
      "[01:20:28] WARNING: C:/Users/Administrator/workspace/xgboost-win64_release_1.5.1/src/learner.cc:1115: Starting in XGBoost 1.3.0, the default evaluation metric used with the objective 'multi:softprob' was changed from 'merror' to 'mlogloss'. Explicitly set eval_metric if you'd like to restore the old behavior.\n"
     ]
    },
    {
     "name": "stderr",
     "output_type": "stream",
     "text": [
      "\u001b[32m[I 2022-04-04 01:20:39,730]\u001b[0m Trial 243 finished with value: 0.9501647989452867 and parameters: {'eta': 0.4060917621878052, 'max_depth': 6, 'booster': 'gbtree', 'lambda': 0.7562727586765042, 'alpha': 0.0025352481420459526}. Best is trial 219 with value: 0.9510876730388925.\u001b[0m\n"
     ]
    },
    {
     "name": "stdout",
     "output_type": "stream",
     "text": [
      "[01:20:39] WARNING: C:/Users/Administrator/workspace/xgboost-win64_release_1.5.1/src/learner.cc:1115: Starting in XGBoost 1.3.0, the default evaluation metric used with the objective 'multi:softprob' was changed from 'merror' to 'mlogloss'. Explicitly set eval_metric if you'd like to restore the old behavior.\n"
     ]
    },
    {
     "name": "stderr",
     "output_type": "stream",
     "text": [
      "\u001b[32m[I 2022-04-04 01:20:49,813]\u001b[0m Trial 244 finished with value: 0.9499011206328279 and parameters: {'eta': 0.49079518948827044, 'max_depth': 6, 'booster': 'gbtree', 'lambda': 0.4914352205323895, 'alpha': 0.0032600311660701815}. Best is trial 219 with value: 0.9510876730388925.\u001b[0m\n"
     ]
    },
    {
     "name": "stdout",
     "output_type": "stream",
     "text": [
      "[01:20:49] WARNING: C:/Users/Administrator/workspace/xgboost-win64_release_1.5.1/src/learner.cc:1115: Starting in XGBoost 1.3.0, the default evaluation metric used with the objective 'multi:softprob' was changed from 'merror' to 'mlogloss'. Explicitly set eval_metric if you'd like to restore the old behavior.\n"
     ]
    },
    {
     "name": "stderr",
     "output_type": "stream",
     "text": [
      "\u001b[32m[I 2022-04-04 01:20:59,623]\u001b[0m Trial 245 finished with value: 0.9499011206328279 and parameters: {'eta': 0.450625007689273, 'max_depth': 6, 'booster': 'gbtree', 'lambda': 0.31340137847242705, 'alpha': 0.00971460952086444}. Best is trial 219 with value: 0.9510876730388925.\u001b[0m\n"
     ]
    },
    {
     "name": "stdout",
     "output_type": "stream",
     "text": [
      "[01:20:59] WARNING: C:/Users/Administrator/workspace/xgboost-win64_release_1.5.1/src/learner.cc:1115: Starting in XGBoost 1.3.0, the default evaluation metric used with the objective 'multi:softprob' was changed from 'merror' to 'mlogloss'. Explicitly set eval_metric if you'd like to restore the old behavior.\n"
     ]
    },
    {
     "name": "stderr",
     "output_type": "stream",
     "text": [
      "\u001b[32m[I 2022-04-04 01:21:06,166]\u001b[0m Trial 246 finished with value: 0.9472643375082399 and parameters: {'eta': 0.4070015850476199, 'max_depth': 3, 'booster': 'gbtree', 'lambda': 0.7427618818475616, 'alpha': 0.0027708354448990934}. Best is trial 219 with value: 0.9510876730388925.\u001b[0m\n"
     ]
    },
    {
     "name": "stdout",
     "output_type": "stream",
     "text": [
      "[01:21:06] WARNING: C:/Users/Administrator/workspace/xgboost-win64_release_1.5.1/src/learner.cc:1115: Starting in XGBoost 1.3.0, the default evaluation metric used with the objective 'multi:softprob' was changed from 'merror' to 'mlogloss'. Explicitly set eval_metric if you'd like to restore the old behavior.\n"
     ]
    },
    {
     "name": "stderr",
     "output_type": "stream",
     "text": [
      "\u001b[32m[I 2022-04-04 01:21:17,966]\u001b[0m Trial 247 finished with value: 0.9501647989452867 and parameters: {'eta': 0.3942749661361078, 'max_depth': 6, 'booster': 'gbtree', 'lambda': 0.9819849746467852, 'alpha': 0.004324591852179223}. Best is trial 219 with value: 0.9510876730388925.\u001b[0m\n"
     ]
    },
    {
     "name": "stdout",
     "output_type": "stream",
     "text": [
      "[01:21:18] WARNING: C:/Users/Administrator/workspace/xgboost-win64_release_1.5.1/src/learner.cc:1115: Starting in XGBoost 1.3.0, the default evaluation metric used with the objective 'multi:softprob' was changed from 'merror' to 'mlogloss'. Explicitly set eval_metric if you'd like to restore the old behavior.\n"
     ]
    },
    {
     "name": "stderr",
     "output_type": "stream",
     "text": [
      "\u001b[32m[I 2022-04-04 01:21:29,531]\u001b[0m Trial 248 finished with value: 0.9476598549769282 and parameters: {'eta': 0.5413782881929766, 'max_depth': 6, 'booster': 'gbtree', 'lambda': 0.8881946324858303, 'alpha': 0.0038119153132976733}. Best is trial 219 with value: 0.9510876730388925.\u001b[0m\n"
     ]
    },
    {
     "name": "stdout",
     "output_type": "stream",
     "text": [
      "[01:21:29] WARNING: C:/Users/Administrator/workspace/xgboost-win64_release_1.5.1/src/learner.cc:1115: Starting in XGBoost 1.3.0, the default evaluation metric used with the objective 'multi:softprob' was changed from 'merror' to 'mlogloss'. Explicitly set eval_metric if you'd like to restore the old behavior.\n"
     ]
    },
    {
     "name": "stderr",
     "output_type": "stream",
     "text": [
      "\u001b[32m[I 2022-04-04 01:21:41,063]\u001b[0m Trial 249 finished with value: 0.9502966381015161 and parameters: {'eta': 0.4617843422226091, 'max_depth': 6, 'booster': 'gbtree', 'lambda': 0.4906002621025778, 'alpha': 0.0053752206762771385}. Best is trial 219 with value: 0.9510876730388925.\u001b[0m\n"
     ]
    },
    {
     "name": "stdout",
     "output_type": "stream",
     "text": [
      "[01:21:41] WARNING: C:/Users/Administrator/workspace/xgboost-win64_release_1.5.1/src/learner.cc:1115: Starting in XGBoost 1.3.0, the default evaluation metric used with the objective 'multi:softprob' was changed from 'merror' to 'mlogloss'. Explicitly set eval_metric if you'd like to restore the old behavior.\n"
     ]
    },
    {
     "name": "stderr",
     "output_type": "stream",
     "text": [
      "\u001b[32m[I 2022-04-04 01:21:52,424]\u001b[0m Trial 250 finished with value: 0.9492419248516809 and parameters: {'eta': 0.9251991343754054, 'max_depth': 6, 'booster': 'gbtree', 'lambda': 0.1303930451590185, 'alpha': 0.006082193688376436}. Best is trial 219 with value: 0.9510876730388925.\u001b[0m\n"
     ]
    },
    {
     "name": "stdout",
     "output_type": "stream",
     "text": [
      "[01:21:52] WARNING: C:/Users/Administrator/workspace/xgboost-win64_release_1.5.1/src/learner.cc:1115: Starting in XGBoost 1.3.0, the default evaluation metric used with the objective 'multi:softprob' was changed from 'merror' to 'mlogloss'. Explicitly set eval_metric if you'd like to restore the old behavior.\n"
     ]
    },
    {
     "name": "stderr",
     "output_type": "stream",
     "text": [
      "\u001b[32m[I 2022-04-04 01:22:02,466]\u001b[0m Trial 251 finished with value: 0.9497692814765986 and parameters: {'eta': 0.4811277381147997, 'max_depth': 6, 'booster': 'gbtree', 'lambda': 0.9422123562319453, 'alpha': 0.001890607936413044}. Best is trial 219 with value: 0.9510876730388925.\u001b[0m\n"
     ]
    },
    {
     "name": "stdout",
     "output_type": "stream",
     "text": [
      "[01:22:02] WARNING: C:/Users/Administrator/workspace/xgboost-win64_release_1.5.1/src/learner.cc:1115: Starting in XGBoost 1.3.0, the default evaluation metric used with the objective 'multi:softprob' was changed from 'merror' to 'mlogloss'. Explicitly set eval_metric if you'd like to restore the old behavior.\n"
     ]
    },
    {
     "name": "stderr",
     "output_type": "stream",
     "text": [
      "\u001b[32m[I 2022-04-04 01:22:13,964]\u001b[0m Trial 252 finished with value: 0.9493737640079104 and parameters: {'eta': 0.679290011109957, 'max_depth': 6, 'booster': 'gbtree', 'lambda': 0.16624431210330912, 'alpha': 0.0007195976012700316}. Best is trial 219 with value: 0.9510876730388925.\u001b[0m\n"
     ]
    },
    {
     "name": "stdout",
     "output_type": "stream",
     "text": [
      "[01:22:14] WARNING: C:/Users/Administrator/workspace/xgboost-win64_release_1.5.1/src/learner.cc:1115: Starting in XGBoost 1.3.0, the default evaluation metric used with the objective 'multi:softprob' was changed from 'merror' to 'mlogloss'. Explicitly set eval_metric if you'd like to restore the old behavior.\n"
     ]
    },
    {
     "name": "stderr",
     "output_type": "stream",
     "text": [
      "\u001b[32m[I 2022-04-04 01:22:25,410]\u001b[0m Trial 253 finished with value: 0.9492419248516809 and parameters: {'eta': 0.6207130258393385, 'max_depth': 6, 'booster': 'gbtree', 'lambda': 0.4510195750770188, 'alpha': 0.0025474377068789448}. Best is trial 219 with value: 0.9510876730388925.\u001b[0m\n"
     ]
    },
    {
     "name": "stdout",
     "output_type": "stream",
     "text": [
      "[01:22:25] WARNING: C:/Users/Administrator/workspace/xgboost-win64_release_1.5.1/src/learner.cc:1115: Starting in XGBoost 1.3.0, the default evaluation metric used with the objective 'multi:softprob' was changed from 'merror' to 'mlogloss'. Explicitly set eval_metric if you'd like to restore the old behavior.\n"
     ]
    },
    {
     "name": "stderr",
     "output_type": "stream",
     "text": [
      "\u001b[32m[I 2022-04-04 01:22:35,341]\u001b[0m Trial 254 finished with value: 0.9497692814765986 and parameters: {'eta': 0.4948276569475559, 'max_depth': 6, 'booster': 'gbtree', 'lambda': 0.5345753328977533, 'alpha': 0.0011594639495387}. Best is trial 219 with value: 0.9510876730388925.\u001b[0m\n"
     ]
    },
    {
     "name": "stdout",
     "output_type": "stream",
     "text": [
      "[01:22:35] WARNING: C:/Users/Administrator/workspace/xgboost-win64_release_1.5.1/src/learner.cc:1115: Starting in XGBoost 1.3.0, the default evaluation metric used with the objective 'multi:softprob' was changed from 'merror' to 'mlogloss'. Explicitly set eval_metric if you'd like to restore the old behavior.\n"
     ]
    },
    {
     "name": "stderr",
     "output_type": "stream",
     "text": [
      "\u001b[32m[I 2022-04-04 01:22:46,893]\u001b[0m Trial 255 finished with value: 0.9492419248516809 and parameters: {'eta': 0.4337398471067033, 'max_depth': 6, 'booster': 'gbtree', 'lambda': 0.6210255128335744, 'alpha': 0.0018424485798945495}. Best is trial 219 with value: 0.9510876730388925.\u001b[0m\n"
     ]
    },
    {
     "name": "stdout",
     "output_type": "stream",
     "text": [
      "[01:22:47] WARNING: C:/Users/Administrator/workspace/xgboost-win64_release_1.5.1/src/learner.cc:1115: Starting in XGBoost 1.3.0, the default evaluation metric used with the objective 'multi:softprob' was changed from 'merror' to 'mlogloss'. Explicitly set eval_metric if you'd like to restore the old behavior.\n"
     ]
    },
    {
     "name": "stderr",
     "output_type": "stream",
     "text": [
      "\u001b[32m[I 2022-04-04 01:22:58,390]\u001b[0m Trial 256 finished with value: 0.950560316413975 and parameters: {'eta': 0.5460324448272422, 'max_depth': 6, 'booster': 'gbtree', 'lambda': 0.3483255427535676, 'alpha': 0.004510967367671873}. Best is trial 219 with value: 0.9510876730388925.\u001b[0m\n"
     ]
    },
    {
     "name": "stdout",
     "output_type": "stream",
     "text": [
      "[01:22:58] WARNING: C:/Users/Administrator/workspace/xgboost-win64_release_1.5.1/src/learner.cc:1115: Starting in XGBoost 1.3.0, the default evaluation metric used with the objective 'multi:softprob' was changed from 'merror' to 'mlogloss'. Explicitly set eval_metric if you'd like to restore the old behavior.\n"
     ]
    },
    {
     "name": "stderr",
     "output_type": "stream",
     "text": [
      "\u001b[32m[I 2022-04-04 01:23:09,719]\u001b[0m Trial 257 finished with value: 0.9489782465392221 and parameters: {'eta': 0.573962438024724, 'max_depth': 6, 'booster': 'gbtree', 'lambda': 0.37901254756749825, 'alpha': 0.008307919425422878}. Best is trial 219 with value: 0.9510876730388925.\u001b[0m\n"
     ]
    },
    {
     "name": "stdout",
     "output_type": "stream",
     "text": [
      "[01:23:09] WARNING: C:/Users/Administrator/workspace/xgboost-win64_release_1.5.1/src/learner.cc:1115: Starting in XGBoost 1.3.0, the default evaluation metric used with the objective 'multi:softprob' was changed from 'merror' to 'mlogloss'. Explicitly set eval_metric if you'd like to restore the old behavior.\n"
     ]
    },
    {
     "name": "stderr",
     "output_type": "stream",
     "text": [
      "\u001b[32m[I 2022-04-04 01:23:19,916]\u001b[0m Trial 258 finished with value: 0.9500329597890573 and parameters: {'eta': 0.3604543587642964, 'max_depth': 6, 'booster': 'gbtree', 'lambda': 0.5660558653152008, 'alpha': 0.017798494650430995}. Best is trial 219 with value: 0.9510876730388925.\u001b[0m\n"
     ]
    },
    {
     "name": "stdout",
     "output_type": "stream",
     "text": [
      "[01:23:20] WARNING: C:/Users/Administrator/workspace/xgboost-win64_release_1.5.1/src/learner.cc:1115: Starting in XGBoost 1.3.0, the default evaluation metric used with the objective 'multi:softprob' was changed from 'merror' to 'mlogloss'. Explicitly set eval_metric if you'd like to restore the old behavior.\n"
     ]
    },
    {
     "name": "stderr",
     "output_type": "stream",
     "text": [
      "\u001b[32m[I 2022-04-04 01:23:28,110]\u001b[0m Trial 259 finished with value: 0.9480553724456163 and parameters: {'eta': 0.5000278728169829, 'max_depth': 4, 'booster': 'gbtree', 'lambda': 0.28235002640613155, 'alpha': 0.0049632420047293225}. Best is trial 219 with value: 0.9510876730388925.\u001b[0m\n"
     ]
    },
    {
     "name": "stdout",
     "output_type": "stream",
     "text": [
      "[01:23:28] WARNING: C:/Users/Administrator/workspace/xgboost-win64_release_1.5.1/src/learner.cc:1115: Starting in XGBoost 1.3.0, the default evaluation metric used with the objective 'multi:softprob' was changed from 'merror' to 'mlogloss'. Explicitly set eval_metric if you'd like to restore the old behavior.\n"
     ]
    },
    {
     "name": "stderr",
     "output_type": "stream",
     "text": [
      "\u001b[32m[I 2022-04-04 01:23:39,646]\u001b[0m Trial 260 finished with value: 0.9504284772577456 and parameters: {'eta': 0.3932341872380144, 'max_depth': 6, 'booster': 'gbtree', 'lambda': 0.3390317848374569, 'alpha': 0.005334729864071745}. Best is trial 219 with value: 0.9510876730388925.\u001b[0m\n"
     ]
    },
    {
     "name": "stdout",
     "output_type": "stream",
     "text": [
      "[01:23:39] WARNING: C:/Users/Administrator/workspace/xgboost-win64_release_1.5.1/src/learner.cc:1115: Starting in XGBoost 1.3.0, the default evaluation metric used with the objective 'multi:softprob' was changed from 'merror' to 'mlogloss'. Explicitly set eval_metric if you'd like to restore the old behavior.\n"
     ]
    },
    {
     "name": "stderr",
     "output_type": "stream",
     "text": [
      "\u001b[32m[I 2022-04-04 01:23:49,863]\u001b[0m Trial 261 finished with value: 0.9497692814765986 and parameters: {'eta': 0.5451091523125695, 'max_depth': 6, 'booster': 'gbtree', 'lambda': 0.20990613007247597, 'alpha': 0.004809313480243546}. Best is trial 219 with value: 0.9510876730388925.\u001b[0m\n"
     ]
    },
    {
     "name": "stdout",
     "output_type": "stream",
     "text": [
      "[01:23:49] WARNING: C:/Users/Administrator/workspace/xgboost-win64_release_1.5.1/src/learner.cc:1115: Starting in XGBoost 1.3.0, the default evaluation metric used with the objective 'multi:softprob' was changed from 'merror' to 'mlogloss'. Explicitly set eval_metric if you'd like to restore the old behavior.\n"
     ]
    },
    {
     "name": "stderr",
     "output_type": "stream",
     "text": [
      "\u001b[32m[I 2022-04-04 01:24:01,653]\u001b[0m Trial 262 finished with value: 0.9083717864205669 and parameters: {'eta': 0.008299214478258411, 'max_depth': 6, 'booster': 'gbtree', 'lambda': 0.3564195003150026, 'alpha': 0.005146531196670902}. Best is trial 219 with value: 0.9510876730388925.\u001b[0m\n"
     ]
    },
    {
     "name": "stdout",
     "output_type": "stream",
     "text": [
      "[01:24:01] WARNING: C:/Users/Administrator/workspace/xgboost-win64_release_1.5.1/src/learner.cc:1115: Starting in XGBoost 1.3.0, the default evaluation metric used with the objective 'multi:softprob' was changed from 'merror' to 'mlogloss'. Explicitly set eval_metric if you'd like to restore the old behavior.\n"
     ]
    },
    {
     "name": "stderr",
     "output_type": "stream",
     "text": [
      "\u001b[32m[I 2022-04-04 01:24:13,239]\u001b[0m Trial 263 finished with value: 0.9481872116018457 and parameters: {'eta': 0.4809441417479314, 'max_depth': 6, 'booster': 'gbtree', 'lambda': 0.2341327840496076, 'alpha': 0.00640664280184044}. Best is trial 219 with value: 0.9510876730388925.\u001b[0m\n"
     ]
    },
    {
     "name": "stdout",
     "output_type": "stream",
     "text": [
      "[01:24:13] WARNING: C:/Users/Administrator/workspace/xgboost-win64_release_1.5.1/src/learner.cc:1115: Starting in XGBoost 1.3.0, the default evaluation metric used with the objective 'multi:softprob' was changed from 'merror' to 'mlogloss'. Explicitly set eval_metric if you'd like to restore the old behavior.\n"
     ]
    },
    {
     "name": "stderr",
     "output_type": "stream",
     "text": [
      "\u001b[32m[I 2022-04-04 01:24:24,716]\u001b[0m Trial 264 finished with value: 0.9481872116018457 and parameters: {'eta': 0.6244753995051608, 'max_depth': 6, 'booster': 'gbtree', 'lambda': 0.4184834686306243, 'alpha': 0.0022384889575341347}. Best is trial 219 with value: 0.9510876730388925.\u001b[0m\n"
     ]
    },
    {
     "name": "stdout",
     "output_type": "stream",
     "text": [
      "[01:24:24] WARNING: C:/Users/Administrator/workspace/xgboost-win64_release_1.5.1/src/learner.cc:1115: Starting in XGBoost 1.3.0, the default evaluation metric used with the objective 'multi:softprob' was changed from 'merror' to 'mlogloss'. Explicitly set eval_metric if you'd like to restore the old behavior.\n"
     ]
    },
    {
     "name": "stderr",
     "output_type": "stream",
     "text": [
      "\u001b[32m[I 2022-04-04 01:24:36,365]\u001b[0m Trial 265 finished with value: 0.9497692814765986 and parameters: {'eta': 0.35992794596724176, 'max_depth': 6, 'booster': 'gbtree', 'lambda': 0.5703698625033674, 'alpha': 0.0031296160867947675}. Best is trial 219 with value: 0.9510876730388925.\u001b[0m\n"
     ]
    },
    {
     "name": "stdout",
     "output_type": "stream",
     "text": [
      "[01:24:36] WARNING: C:/Users/Administrator/workspace/xgboost-win64_release_1.5.1/src/learner.cc:1115: Starting in XGBoost 1.3.0, the default evaluation metric used with the objective 'multi:softprob' was changed from 'merror' to 'mlogloss'. Explicitly set eval_metric if you'd like to restore the old behavior.\n"
     ]
    },
    {
     "name": "stderr",
     "output_type": "stream",
     "text": [
      "\u001b[32m[I 2022-04-04 01:24:47,940]\u001b[0m Trial 266 finished with value: 0.9493737640079104 and parameters: {'eta': 0.42687939203810427, 'max_depth': 6, 'booster': 'gbtree', 'lambda': 0.3382209257331613, 'alpha': 0.006380011888001715}. Best is trial 219 with value: 0.9510876730388925.\u001b[0m\n"
     ]
    },
    {
     "name": "stdout",
     "output_type": "stream",
     "text": [
      "[01:24:48] WARNING: C:/Users/Administrator/workspace/xgboost-win64_release_1.5.1/src/learner.cc:1115: Starting in XGBoost 1.3.0, the default evaluation metric used with the objective 'multi:softprob' was changed from 'merror' to 'mlogloss'. Explicitly set eval_metric if you'd like to restore the old behavior.\n"
     ]
    },
    {
     "name": "stderr",
     "output_type": "stream",
     "text": [
      "\u001b[32m[I 2022-04-04 01:24:57,861]\u001b[0m Trial 267 finished with value: 0.9495056031641398 and parameters: {'eta': 0.5814898971265317, 'max_depth': 6, 'booster': 'gbtree', 'lambda': 0.08834144293667363, 'alpha': 0.012656183302485665}. Best is trial 219 with value: 0.9510876730388925.\u001b[0m\n"
     ]
    },
    {
     "name": "stdout",
     "output_type": "stream",
     "text": [
      "[01:24:57] WARNING: C:/Users/Administrator/workspace/xgboost-win64_release_1.5.1/src/learner.cc:1115: Starting in XGBoost 1.3.0, the default evaluation metric used with the objective 'multi:softprob' was changed from 'merror' to 'mlogloss'. Explicitly set eval_metric if you'd like to restore the old behavior.\n"
     ]
    },
    {
     "name": "stderr",
     "output_type": "stream",
     "text": [
      "\u001b[32m[I 2022-04-04 01:25:09,588]\u001b[0m Trial 268 finished with value: 0.9491100856954515 and parameters: {'eta': 0.7012511266375638, 'max_depth': 6, 'booster': 'gbtree', 'lambda': 0.0004895137354938799, 'alpha': 0.00010076021433315431}. Best is trial 219 with value: 0.9510876730388925.\u001b[0m\n"
     ]
    },
    {
     "name": "stdout",
     "output_type": "stream",
     "text": [
      "[01:25:09] WARNING: C:/Users/Administrator/workspace/xgboost-win64_release_1.5.1/src/learner.cc:1115: Starting in XGBoost 1.3.0, the default evaluation metric used with the objective 'multi:softprob' was changed from 'merror' to 'mlogloss'. Explicitly set eval_metric if you'd like to restore the old behavior.\n"
     ]
    },
    {
     "name": "stderr",
     "output_type": "stream",
     "text": [
      "\u001b[32m[I 2022-04-04 01:25:21,261]\u001b[0m Trial 269 finished with value: 0.9493737640079104 and parameters: {'eta': 0.30708613648682204, 'max_depth': 6, 'booster': 'gbtree', 'lambda': 0.14995391485363965, 'alpha': 0.0004830623714520232}. Best is trial 219 with value: 0.9510876730388925.\u001b[0m\n"
     ]
    },
    {
     "name": "stdout",
     "output_type": "stream",
     "text": [
      "[01:25:21] WARNING: C:/Users/Administrator/workspace/xgboost-win64_release_1.5.1/src/learner.cc:1115: Starting in XGBoost 1.3.0, the default evaluation metric used with the objective 'multi:softprob' was changed from 'merror' to 'mlogloss'. Explicitly set eval_metric if you'd like to restore the old behavior.\n"
     ]
    },
    {
     "name": "stderr",
     "output_type": "stream",
     "text": [
      "\u001b[32m[I 2022-04-04 01:25:34,677]\u001b[0m Trial 270 finished with value: 0.9504284772577456 and parameters: {'eta': 0.34858819187944257, 'max_depth': 6, 'booster': 'gbtree', 'lambda': 0.5525832511735205, 'alpha': 0.00772386502246134}. Best is trial 219 with value: 0.9510876730388925.\u001b[0m\n"
     ]
    },
    {
     "name": "stdout",
     "output_type": "stream",
     "text": [
      "[01:25:34] WARNING: C:/Users/Administrator/workspace/xgboost-win64_release_1.5.1/src/learner.cc:1115: Starting in XGBoost 1.3.0, the default evaluation metric used with the objective 'multi:softprob' was changed from 'merror' to 'mlogloss'. Explicitly set eval_metric if you'd like to restore the old behavior.\n"
     ]
    },
    {
     "name": "stderr",
     "output_type": "stream",
     "text": [
      "\u001b[32m[I 2022-04-04 01:25:45,313]\u001b[0m Trial 271 finished with value: 0.9495056031641398 and parameters: {'eta': 0.33302510909090954, 'max_depth': 6, 'booster': 'gbtree', 'lambda': 0.6785164269142804, 'alpha': 0.004447087799792053}. Best is trial 219 with value: 0.9510876730388925.\u001b[0m\n"
     ]
    },
    {
     "name": "stdout",
     "output_type": "stream",
     "text": [
      "[01:25:45] WARNING: C:/Users/Administrator/workspace/xgboost-win64_release_1.5.1/src/learner.cc:1115: Starting in XGBoost 1.3.0, the default evaluation metric used with the objective 'multi:softprob' was changed from 'merror' to 'mlogloss'. Explicitly set eval_metric if you'd like to restore the old behavior.\n"
     ]
    },
    {
     "name": "stderr",
     "output_type": "stream",
     "text": [
      "\u001b[32m[I 2022-04-04 01:25:57,051]\u001b[0m Trial 272 finished with value: 0.9483190507580751 and parameters: {'eta': 0.2611955640548679, 'max_depth': 6, 'booster': 'gbtree', 'lambda': 0.8635643645077983, 'alpha': 0.004350554157899947}. Best is trial 219 with value: 0.9510876730388925.\u001b[0m\n"
     ]
    },
    {
     "name": "stdout",
     "output_type": "stream",
     "text": [
      "[01:25:57] WARNING: C:/Users/Administrator/workspace/xgboost-win64_release_1.5.1/src/learner.cc:1115: Starting in XGBoost 1.3.0, the default evaluation metric used with the objective 'multi:softprob' was changed from 'merror' to 'mlogloss'. Explicitly set eval_metric if you'd like to restore the old behavior.\n"
     ]
    },
    {
     "name": "stderr",
     "output_type": "stream",
     "text": [
      "\u001b[32m[I 2022-04-04 01:26:07,229]\u001b[0m Trial 273 finished with value: 0.9496374423203692 and parameters: {'eta': 0.4810723153922488, 'max_depth': 6, 'booster': 'gbtree', 'lambda': 0.23119422869323814, 'alpha': 0.0002151322238475644}. Best is trial 219 with value: 0.9510876730388925.\u001b[0m\n"
     ]
    },
    {
     "name": "stdout",
     "output_type": "stream",
     "text": [
      "[01:26:07] WARNING: C:/Users/Administrator/workspace/xgboost-win64_release_1.5.1/src/learner.cc:1115: Starting in XGBoost 1.3.0, the default evaluation metric used with the objective 'multi:softprob' was changed from 'merror' to 'mlogloss'. Explicitly set eval_metric if you'd like to restore the old behavior.\n"
     ]
    },
    {
     "name": "stderr",
     "output_type": "stream",
     "text": [
      "\u001b[32m[I 2022-04-04 01:26:18,768]\u001b[0m Trial 274 finished with value: 0.9500329597890573 and parameters: {'eta': 0.42312548666102534, 'max_depth': 6, 'booster': 'gbtree', 'lambda': 0.30621006603281675, 'alpha': 0.0001294419745841079}. Best is trial 219 with value: 0.9510876730388925.\u001b[0m\n"
     ]
    },
    {
     "name": "stdout",
     "output_type": "stream",
     "text": [
      "[01:26:18] WARNING: C:/Users/Administrator/workspace/xgboost-win64_release_1.5.1/src/learner.cc:1115: Starting in XGBoost 1.3.0, the default evaluation metric used with the objective 'multi:softprob' was changed from 'merror' to 'mlogloss'. Explicitly set eval_metric if you'd like to restore the old behavior.\n"
     ]
    },
    {
     "name": "stderr",
     "output_type": "stream",
     "text": [
      "\u001b[32m[I 2022-04-04 01:26:30,291]\u001b[0m Trial 275 finished with value: 0.9499011206328279 and parameters: {'eta': 0.526116614176846, 'max_depth': 6, 'booster': 'gbtree', 'lambda': 0.4643043579439002, 'alpha': 7.988607282640458e-05}. Best is trial 219 with value: 0.9510876730388925.\u001b[0m\n"
     ]
    },
    {
     "name": "stdout",
     "output_type": "stream",
     "text": [
      "[01:26:30] WARNING: C:/Users/Administrator/workspace/xgboost-win64_release_1.5.1/src/learner.cc:1115: Starting in XGBoost 1.3.0, the default evaluation metric used with the objective 'multi:softprob' was changed from 'merror' to 'mlogloss'. Explicitly set eval_metric if you'd like to restore the old behavior.\n"
     ]
    },
    {
     "name": "stderr",
     "output_type": "stream",
     "text": [
      "\u001b[32m[I 2022-04-04 01:26:41,369]\u001b[0m Trial 276 finished with value: 0.9484508899143046 and parameters: {'eta': 0.38024734308547814, 'max_depth': 6, 'booster': 'gbtree', 'lambda': 0.702448892602953, 'alpha': 0.0015551866639530536}. Best is trial 219 with value: 0.9510876730388925.\u001b[0m\n"
     ]
    },
    {
     "name": "stdout",
     "output_type": "stream",
     "text": [
      "[01:26:41] WARNING: C:/Users/Administrator/workspace/xgboost-win64_release_1.5.1/src/learner.cc:1115: Starting in XGBoost 1.3.0, the default evaluation metric used with the objective 'multi:softprob' was changed from 'merror' to 'mlogloss'. Explicitly set eval_metric if you'd like to restore the old behavior.\n"
     ]
    },
    {
     "name": "stderr",
     "output_type": "stream",
     "text": [
      "\u001b[32m[I 2022-04-04 01:26:51,800]\u001b[0m Trial 277 finished with value: 0.9491100856954515 and parameters: {'eta': 0.3625882806233855, 'max_depth': 6, 'booster': 'gbtree', 'lambda': 0.4472642372764074, 'alpha': 0.00809681475355506}. Best is trial 219 with value: 0.9510876730388925.\u001b[0m\n"
     ]
    },
    {
     "name": "stdout",
     "output_type": "stream",
     "text": [
      "[01:26:51] WARNING: C:/Users/Administrator/workspace/xgboost-win64_release_1.5.1/src/learner.cc:1115: Starting in XGBoost 1.3.0, the default evaluation metric used with the objective 'multi:softprob' was changed from 'merror' to 'mlogloss'. Explicitly set eval_metric if you'd like to restore the old behavior.\n"
     ]
    },
    {
     "name": "stderr",
     "output_type": "stream",
     "text": [
      "\u001b[32m[I 2022-04-04 01:27:03,372]\u001b[0m Trial 278 finished with value: 0.9493737640079104 and parameters: {'eta': 0.44676726416094215, 'max_depth': 6, 'booster': 'gbtree', 'lambda': 0.9660094688972034, 'alpha': 0.01730621909604422}. Best is trial 219 with value: 0.9510876730388925.\u001b[0m\n"
     ]
    },
    {
     "name": "stdout",
     "output_type": "stream",
     "text": [
      "[01:27:03] WARNING: C:/Users/Administrator/workspace/xgboost-win64_release_1.5.1/src/learner.cc:1115: Starting in XGBoost 1.3.0, the default evaluation metric used with the objective 'multi:softprob' was changed from 'merror' to 'mlogloss'. Explicitly set eval_metric if you'd like to restore the old behavior.\n"
     ]
    },
    {
     "name": "stderr",
     "output_type": "stream",
     "text": [
      "\u001b[32m[I 2022-04-04 01:27:14,834]\u001b[0m Trial 279 finished with value: 0.9499011206328279 and parameters: {'eta': 0.6389907736087473, 'max_depth': 6, 'booster': 'gbtree', 'lambda': 0.17716465059808967, 'alpha': 0.007152894938143457}. Best is trial 219 with value: 0.9510876730388925.\u001b[0m\n"
     ]
    },
    {
     "name": "stdout",
     "output_type": "stream",
     "text": [
      "[01:27:14] WARNING: C:/Users/Administrator/workspace/xgboost-win64_release_1.5.1/src/learner.cc:1115: Starting in XGBoost 1.3.0, the default evaluation metric used with the objective 'multi:softprob' was changed from 'merror' to 'mlogloss'. Explicitly set eval_metric if you'd like to restore the old behavior.\n"
     ]
    },
    {
     "name": "stderr",
     "output_type": "stream",
     "text": [
      "\u001b[32m[I 2022-04-04 01:27:26,243]\u001b[0m Trial 280 finished with value: 0.948582729070534 and parameters: {'eta': 0.5250783398781371, 'max_depth': 6, 'booster': 'gbtree', 'lambda': 0.2728254935306319, 'alpha': 0.00030058057855465384}. Best is trial 219 with value: 0.9510876730388925.\u001b[0m\n"
     ]
    },
    {
     "name": "stdout",
     "output_type": "stream",
     "text": [
      "[01:27:26] WARNING: C:/Users/Administrator/workspace/xgboost-win64_release_1.5.1/src/learner.cc:1115: Starting in XGBoost 1.3.0, the default evaluation metric used with the objective 'multi:softprob' was changed from 'merror' to 'mlogloss'. Explicitly set eval_metric if you'd like to restore the old behavior.\n"
     ]
    },
    {
     "name": "stderr",
     "output_type": "stream",
     "text": [
      "\u001b[32m[I 2022-04-04 01:27:35,512]\u001b[0m Trial 281 finished with value: 0.9491100856954515 and parameters: {'eta': 0.3051994173959923, 'max_depth': 6, 'booster': 'gbtree', 'lambda': 0.5545420086969576, 'alpha': 0.006627466310258207}. Best is trial 219 with value: 0.9510876730388925.\u001b[0m\n"
     ]
    },
    {
     "name": "stdout",
     "output_type": "stream",
     "text": [
      "[01:27:35] WARNING: C:/Users/Administrator/workspace/xgboost-win64_release_1.5.1/src/learner.cc:1115: Starting in XGBoost 1.3.0, the default evaluation metric used with the objective 'multi:softprob' was changed from 'merror' to 'mlogloss'. Explicitly set eval_metric if you'd like to restore the old behavior.\n"
     ]
    },
    {
     "name": "stderr",
     "output_type": "stream",
     "text": [
      "\u001b[32m[I 2022-04-04 01:27:46,721]\u001b[0m Trial 282 finished with value: 0.9496374423203692 and parameters: {'eta': 0.3786030635376947, 'max_depth': 6, 'booster': 'gbtree', 'lambda': 0.38240225091531915, 'alpha': 0.004002028725813849}. Best is trial 219 with value: 0.9510876730388925.\u001b[0m\n"
     ]
    },
    {
     "name": "stdout",
     "output_type": "stream",
     "text": [
      "[01:27:46] WARNING: C:/Users/Administrator/workspace/xgboost-win64_release_1.5.1/src/learner.cc:1115: Starting in XGBoost 1.3.0, the default evaluation metric used with the objective 'multi:softprob' was changed from 'merror' to 'mlogloss'. Explicitly set eval_metric if you'd like to restore the old behavior.\n"
     ]
    },
    {
     "name": "stderr",
     "output_type": "stream",
     "text": [
      "\u001b[32m[I 2022-04-04 01:27:58,301]\u001b[0m Trial 283 finished with value: 0.9491100856954515 and parameters: {'eta': 0.45560098875826377, 'max_depth': 6, 'booster': 'gbtree', 'lambda': 0.5652132910551172, 'alpha': 0.0023351692365541073}. Best is trial 219 with value: 0.9510876730388925.\u001b[0m\n"
     ]
    },
    {
     "name": "stdout",
     "output_type": "stream",
     "text": [
      "[01:27:58] WARNING: C:/Users/Administrator/workspace/xgboost-win64_release_1.5.1/src/learner.cc:1115: Starting in XGBoost 1.3.0, the default evaluation metric used with the objective 'multi:softprob' was changed from 'merror' to 'mlogloss'. Explicitly set eval_metric if you'd like to restore the old behavior.\n"
     ]
    },
    {
     "name": "stderr",
     "output_type": "stream",
     "text": [
      "\u001b[32m[I 2022-04-04 01:28:09,950]\u001b[0m Trial 284 finished with value: 0.9492419248516809 and parameters: {'eta': 0.40251735227600643, 'max_depth': 6, 'booster': 'gbtree', 'lambda': 0.6525771285354327, 'alpha': 0.0012790900542425006}. Best is trial 219 with value: 0.9510876730388925.\u001b[0m\n"
     ]
    },
    {
     "name": "stdout",
     "output_type": "stream",
     "text": [
      "[01:28:10] WARNING: C:/Users/Administrator/workspace/xgboost-win64_release_1.5.1/src/learner.cc:1115: Starting in XGBoost 1.3.0, the default evaluation metric used with the objective 'multi:softprob' was changed from 'merror' to 'mlogloss'. Explicitly set eval_metric if you'd like to restore the old behavior.\n"
     ]
    },
    {
     "name": "stderr",
     "output_type": "stream",
     "text": [
      "\u001b[32m[I 2022-04-04 01:28:21,371]\u001b[0m Trial 285 finished with value: 0.9497692814765986 and parameters: {'eta': 0.7939413478226438, 'max_depth': 6, 'booster': 'gbtree', 'lambda': 0.23971681374652976, 'alpha': 0.02306902581782106}. Best is trial 219 with value: 0.9510876730388925.\u001b[0m\n"
     ]
    },
    {
     "name": "stdout",
     "output_type": "stream",
     "text": [
      "[01:28:21] WARNING: C:/Users/Administrator/workspace/xgboost-win64_release_1.5.1/src/learner.cc:1115: Starting in XGBoost 1.3.0, the default evaluation metric used with the objective 'multi:softprob' was changed from 'merror' to 'mlogloss'. Explicitly set eval_metric if you'd like to restore the old behavior.\n"
     ]
    },
    {
     "name": "stderr",
     "output_type": "stream",
     "text": [
      "\u001b[32m[I 2022-04-04 01:28:33,028]\u001b[0m Trial 286 finished with value: 0.948582729070534 and parameters: {'eta': 0.28042402830640767, 'max_depth': 6, 'booster': 'gbtree', 'lambda': 0.34399697527470785, 'alpha': 0.00038283460022870146}. Best is trial 219 with value: 0.9510876730388925.\u001b[0m\n"
     ]
    }
   ],
   "source": [
    "study.optimize(objective, n_trials=250)"
   ]
  },
  {
   "cell_type": "code",
   "execution_count": 45,
   "id": "1295f4a2",
   "metadata": {},
   "outputs": [
    {
     "name": "stdout",
     "output_type": "stream",
     "text": [
      "FrozenTrial(number=219, values=[0.9510876730388925], datetime_start=datetime.datetime(2022, 4, 4, 1, 13, 4, 568692), datetime_complete=datetime.datetime(2022, 4, 4, 1, 13, 16, 18452), params={'eta': 0.45130011045733887, 'max_depth': 6, 'booster': 'gbtree', 'lambda': 0.6254188197006147, 'alpha': 0.00030775521585501626}, distributions={'eta': LogUniformDistribution(high=1.0, low=0.001), 'max_depth': IntUniformDistribution(high=6, low=2, step=1), 'booster': CategoricalDistribution(choices=('gbtree', 'dart')), 'lambda': LogUniformDistribution(high=1.0, low=1e-08), 'alpha': LogUniformDistribution(high=1.0, low=1e-08)}, user_attrs={}, system_attrs={}, intermediate_values={}, trial_id=219, state=TrialState.COMPLETE, value=None)\n"
     ]
    }
   ],
   "source": [
    "print(study.best_trial)"
   ]
  },
  {
   "cell_type": "code",
   "execution_count": 210,
   "id": "a24e99ea",
   "metadata": {},
   "outputs": [
    {
     "data": {
      "text/plain": [
       "(46575,)"
      ]
     },
     "execution_count": 210,
     "metadata": {},
     "output_type": "execute_result"
    }
   ],
   "source": [
    "vectorizer.get_feature_names_out()\n",
    "top = np.argmax(X_train_bow.sum(axis = 0))\n",
    "vectorizer.get_feature_names_out().shape\n"
   ]
  },
  {
   "cell_type": "code",
   "execution_count": 211,
   "id": "7f37ef71",
   "metadata": {},
   "outputs": [
    {
     "name": "stdout",
     "output_type": "stream",
     "text": [
      "['abuse', 'play', 'aint', 'story', 'sick', 'gets', 'calls', 'seeing', 'fake', 'watching', 'straight', 'looking', 'came', 'follow', 'weird', 'fucks', 'started', 'speak', 'hair', 'yo', 'police', 'place', 'nice', 'post', 'beat', 'doesn', 'guess', 'cool', 'kat', 'president', 'media', 'male', 'saw', 'far', 'self', 'words', 'hey', 'house', 'change', 'females', 'times', 'true', 'fun', 'video', 'mom', 'wont', 'money', 'maybe', 'jews', 'fat', 'hard', 'damn', 'theres', 'using', 'nigga', 'sorry', 'child', 'children', 'care', 'fight', 'means', 'sex', 'family', 'pakistan', 'theyre', 'head', 'end', 'gays', 'tweet', 'class', 'ago', 'best', 'understand', 'lmao', 'point', 'ones', 'help', 'watch', 'fact', 'killed', 'american', 'group', 'america', 'long', 'reason', 'killing', 'act', 'okay', 'kind', 'race', 'great', 'problem', 'non', 'seen', 'ill', 'probably', 'grade', 've', 'ask', 'matter', 'rights', 'start', 'stand', 'big', 'ignorant', 'hindu', 'arent', 'dude', 'gonna', 'war', 'boys', 'boy', 'hindus', 'shut', 'different', 'community', 'away', 'shes', 'home', 'prison', 'lives', 'left', 'live', 'looks', 'wanna', 'hope', 'human', 'didn', 'feminazi', 'schools', 'didnt', 'did', 'getting', 'girl', 'girls', 'tayyoung', 'god', 'going', 'good', 'got', 'look', 'lot', 'people', 'love', 'actually', 'day', 'gay', 'niggers', 'nigger', 'stop', 'guy', 'guys', 'lol', 'believe', 'funny', 'disgusting', 'used', 'use', 'mean', 'new', 'hate', 'trump', 'fucking', 'having', 'negro', 'fuck', 'friends', 'obama', 'need', 'friend', 'hell', 'told', 'wrong', 'woman', 'ur', 'bc', 'country', 'hes', 'remember', 'right', 'high', 'does', 'yall', 'today', 'doesnt', 'support', 'doing', 'better', 'try', 'trying', 'world', 'religion', 'little', 'don', 'dont', 'pretty', 'time', 'literally', 'humanity', 'sure', 'want', 'muslim', 'youre', 'work', 'idiot', 'idiots', 'oh', 'quran', 'mad', 'dumb', 'men', 'come', 'colored', 'ok', 'im', 'old', 'thought', 'word', 'stupid', 'amp', 'way', 'india', 'think', 'things', 'thing', 'make', 'rt', 'sexist', 'ppl', 'racism', 'christians', 'racist', 'christian', 'radical', 'past', 'went', 'makes', 'ass', 'isis', 'islam', 'anti', 'making', 'islamic', 'female', 'bitch', 'isnt', 'feel', 'bitches', 'twitter', 'ive', 'said', 'cause', 'jihad', 'mkr', 'joke', 'jokes', 'just', 'shit', 'white', 'thats', 'calling', 'called', 'kid', 'kids', 'kill', 'face', 'bullying', 'bully', 'man', 'rape', 'bullies', 'bullied', 'really', 'like', 'yes', 'know', 'bad', 'ugly', 'person', 'terrorists', 'terrorist', 'black', 'say', 'saying', 'terrorism', 'life', 'real', 'says', 'years', 'women', 'read', 'year', 'talking', 'talk', 'middle', 'yeah', 'school', 'tell', 'let', 'muslims']\n"
     ]
    }
   ],
   "source": [
    "ind = np.argpartition(X_train_bow.sum(axis = 0), -300)[0,-300:]\n",
    "for top in vectorizer.get_feature_names_out()[ind]:\n",
    "    print(list(top))"
   ]
  },
  {
   "cell_type": "code",
   "execution_count": 82,
   "id": "fdaf885f",
   "metadata": {},
   "outputs": [
    {
     "data": {
      "text/plain": [
       "matrix([[36104, 47537,     2, ..., 18000, 26005, 37517]], dtype=int64)"
      ]
     },
     "execution_count": 82,
     "metadata": {},
     "output_type": "execute_result"
    }
   ],
   "source": [
    "ind"
   ]
  }
 ],
 "metadata": {
  "kernelspec": {
   "display_name": "Python 3 (ipykernel)",
   "language": "python",
   "name": "python3"
  },
  "language_info": {
   "codemirror_mode": {
    "name": "ipython",
    "version": 3
   },
   "file_extension": ".py",
   "mimetype": "text/x-python",
   "name": "python",
   "nbconvert_exporter": "python",
   "pygments_lexer": "ipython3",
   "version": "3.8.12"
  }
 },
 "nbformat": 4,
 "nbformat_minor": 5
}
