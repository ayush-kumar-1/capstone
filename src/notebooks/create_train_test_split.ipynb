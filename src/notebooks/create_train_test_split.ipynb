{
 "cells": [
  {
   "cell_type": "code",
   "execution_count": 35,
   "id": "e151027b",
   "metadata": {},
   "outputs": [],
   "source": [
    "import pandas as pd \n",
    "import numpy as np \n",
    "from numpy.random import default_rng"
   ]
  },
  {
   "cell_type": "code",
   "execution_count": 57,
   "id": "2a05020b",
   "metadata": {},
   "outputs": [
    {
     "data": {
      "text/html": [
       "<div>\n",
       "<style scoped>\n",
       "    .dataframe tbody tr th:only-of-type {\n",
       "        vertical-align: middle;\n",
       "    }\n",
       "\n",
       "    .dataframe tbody tr th {\n",
       "        vertical-align: top;\n",
       "    }\n",
       "\n",
       "    .dataframe thead th {\n",
       "        text-align: right;\n",
       "    }\n",
       "</style>\n",
       "<table border=\"1\" class=\"dataframe\">\n",
       "  <thead>\n",
       "    <tr style=\"text-align: right;\">\n",
       "      <th></th>\n",
       "      <th>tweet_text</th>\n",
       "      <th>cyberbullying_type</th>\n",
       "    </tr>\n",
       "  </thead>\n",
       "  <tbody>\n",
       "    <tr>\n",
       "      <th>0</th>\n",
       "      <td>In other words #katandandre, your food was cra...</td>\n",
       "      <td>not_cyberbullying</td>\n",
       "    </tr>\n",
       "    <tr>\n",
       "      <th>1</th>\n",
       "      <td>Why is #aussietv so white? #MKR #theblock #ImA...</td>\n",
       "      <td>not_cyberbullying</td>\n",
       "    </tr>\n",
       "    <tr>\n",
       "      <th>2</th>\n",
       "      <td>@XochitlSuckkks a classy whore? Or more red ve...</td>\n",
       "      <td>not_cyberbullying</td>\n",
       "    </tr>\n",
       "    <tr>\n",
       "      <th>3</th>\n",
       "      <td>@Jason_Gio meh. :P  thanks for the heads up, b...</td>\n",
       "      <td>not_cyberbullying</td>\n",
       "    </tr>\n",
       "    <tr>\n",
       "      <th>4</th>\n",
       "      <td>@RudhoeEnglish This is an ISIS account pretend...</td>\n",
       "      <td>not_cyberbullying</td>\n",
       "    </tr>\n",
       "  </tbody>\n",
       "</table>\n",
       "</div>"
      ],
      "text/plain": [
       "                                          tweet_text cyberbullying_type\n",
       "0  In other words #katandandre, your food was cra...  not_cyberbullying\n",
       "1  Why is #aussietv so white? #MKR #theblock #ImA...  not_cyberbullying\n",
       "2  @XochitlSuckkks a classy whore? Or more red ve...  not_cyberbullying\n",
       "3  @Jason_Gio meh. :P  thanks for the heads up, b...  not_cyberbullying\n",
       "4  @RudhoeEnglish This is an ISIS account pretend...  not_cyberbullying"
      ]
     },
     "execution_count": 57,
     "metadata": {},
     "output_type": "execute_result"
    }
   ],
   "source": [
    "df = pd.read_csv(\"../cyberbullying_tweets/cyberbullying_tweets.csv\")\n",
    "df.head()"
   ]
  },
  {
   "cell_type": "code",
   "execution_count": 68,
   "id": "cce22df1",
   "metadata": {},
   "outputs": [],
   "source": [
    "labels = df.cyberbullying_type.unique()\n",
    "\n",
    "train_percentage = 0.75\n",
    "val_percentage = 0.125\n",
    "test_percentage = 0.125 \n",
    "\n",
    "train_df = pd.DataFrame(columns = [\"tweet_text\", \"cyberbullying_type\"])\n",
    "val_df = train_df.copy()\n",
    "test_df = val_df.copy()\n",
    "\n",
    "rng = default_rng(42)\n",
    "\n",
    "for label in labels: \n",
    "    #take a stratified random sample\n",
    "    group = df[df.cyberbullying_type == label]\n",
    "    index = group.index.copy().to_numpy()\n",
    "    \n",
    "    #inplace shuffle index of tweets categories\n",
    "    rng.shuffle(index)\n",
    "    \n",
    "    n = len(index)\n",
    "    train_end = int(n*train_percentage)\n",
    "    val_end = train_end + int(n*val_percentage)\n",
    "    train_index, val_index, test_index = index[:train_end], index[train_end:val_end], index[val_end:]\n",
    "    \n",
    "    #add tweets from group to dataframe\n",
    "    train_df = pd.concat([train_df, group.loc[train_index]], axis = 0)\n",
    "    val_df = pd.concat([val_df, group.loc[val_index]], axis = 0)\n",
    "    test_df = pd.concat([test_df, group.loc[test_index]], axis = 0)"
   ]
  },
  {
   "cell_type": "code",
   "execution_count": 70,
   "id": "bc8acf18",
   "metadata": {},
   "outputs": [
    {
     "name": "stdout",
     "output_type": "stream",
     "text": [
      "                     tweet_text\n",
      "cyberbullying_type             \n",
      "age                        5994\n",
      "ethnicity                  5970\n",
      "gender                     5979\n",
      "not_cyberbullying          5958\n",
      "other_cyberbullying        5867\n",
      "religion                   5998\n",
      "                     tweet_text\n",
      "cyberbullying_type             \n",
      "age                         999\n",
      "ethnicity                   995\n",
      "gender                      996\n",
      "not_cyberbullying           993\n",
      "other_cyberbullying         977\n",
      "religion                    999\n",
      "                     tweet_text\n",
      "cyberbullying_type             \n",
      "age                         999\n",
      "ethnicity                   996\n",
      "gender                      998\n",
      "not_cyberbullying           994\n",
      "other_cyberbullying         979\n",
      "religion                   1001\n"
     ]
    }
   ],
   "source": [
    "for tweet_df in [train_df, val_df, test_df]: \n",
    "    print(tweet_df.groupby(\"cyberbullying_type\").count())"
   ]
  },
  {
   "cell_type": "code",
   "execution_count": 76,
   "id": "f80240d4",
   "metadata": {},
   "outputs": [],
   "source": [
    "train_df.to_csv(\"../cyberbullying_tweets/train_tweets.csv\",index = False)\n",
    "val_df.to_csv(\"../cyberbullying_tweets/validation_tweets.csv\", index = False)\n",
    "test_df.to_csv(\"../cyberbullying_tweets/test_tweets.csv\", index = False)"
   ]
  }
 ],
 "metadata": {
  "kernelspec": {
   "display_name": "Python 3 (ipykernel)",
   "language": "python",
   "name": "python3"
  },
  "language_info": {
   "codemirror_mode": {
    "name": "ipython",
    "version": 3
   },
   "file_extension": ".py",
   "mimetype": "text/x-python",
   "name": "python",
   "nbconvert_exporter": "python",
   "pygments_lexer": "ipython3",
   "version": "3.8.12"
  }
 },
 "nbformat": 4,
 "nbformat_minor": 5
}
