{
 "cells": [
  {
   "cell_type": "code",
   "execution_count": 72,
   "id": "bbd60c8c",
   "metadata": {},
   "outputs": [],
   "source": [
    "# %load_ext autoreload\n",
    "# %autoreload 2\n",
    "\n",
    "import pandas as pd \n",
    "import numpy as np \n",
    "import matplotlib.pyplot as plt \n",
    "\n",
    "import re\n",
    "import glob #for assembling files \n",
    "import wandb\n",
    "import emoji\n",
    "\n",
    "import sys\n",
    "sys.path.insert(1, '../python')\n",
    "\n",
    "from cb_preprocess import load_data, preprocess, tokenize, label_to_numeric\n",
    "from nltk import ngrams\n",
    "from nltk.corpus import stopwords\n",
    "from collections import Counter\n",
    "\n",
    "import preprocessor as pre\n",
    "import fasttext as ft\n",
    "\n",
    "from tokenizers import Tokenizer, normalizers\n",
    "from tokenizers.pre_tokenizers import Whitespace\n",
    "from tokenizers.models import WordPiece as WP\n",
    "from tokenizers.normalizers import NFD, StripAccents, Lowercase\n",
    "from tokenizers.trainers import WordPieceTrainer"
   ]
  },
  {
   "cell_type": "code",
   "execution_count": 38,
   "id": "e4d2c492",
   "metadata": {},
   "outputs": [
    {
     "data": {
      "text/html": [
       "<div>\n",
       "<style scoped>\n",
       "    .dataframe tbody tr th:only-of-type {\n",
       "        vertical-align: middle;\n",
       "    }\n",
       "\n",
       "    .dataframe tbody tr th {\n",
       "        vertical-align: top;\n",
       "    }\n",
       "\n",
       "    .dataframe thead th {\n",
       "        text-align: right;\n",
       "    }\n",
       "</style>\n",
       "<table border=\"1\" class=\"dataframe\">\n",
       "  <thead>\n",
       "    <tr style=\"text-align: right;\">\n",
       "      <th></th>\n",
       "      <th>tweet_text</th>\n",
       "      <th>label</th>\n",
       "      <th>lang</th>\n",
       "      <th>y</th>\n",
       "      <th>tokens</th>\n",
       "    </tr>\n",
       "  </thead>\n",
       "  <tbody>\n",
       "    <tr>\n",
       "      <th>0</th>\n",
       "      <td>Here at home. Neighbors pick on my family and ...</td>\n",
       "      <td>age</td>\n",
       "      <td>en</td>\n",
       "      <td>0</td>\n",
       "      <td>here at home . neighbors pick on my family and...</td>\n",
       "    </tr>\n",
       "    <tr>\n",
       "      <th>1</th>\n",
       "      <td>Being bullied at school: High-achieving boys u...</td>\n",
       "      <td>age</td>\n",
       "      <td>en</td>\n",
       "      <td>0</td>\n",
       "      <td>being bullied at school : high - achieving boy...</td>\n",
       "    </tr>\n",
       "    <tr>\n",
       "      <th>2</th>\n",
       "      <td>There was a girl in my class in 6th grade who ...</td>\n",
       "      <td>age</td>\n",
       "      <td>en</td>\n",
       "      <td>0</td>\n",
       "      <td>there was a girl in my class in 6th grade who ...</td>\n",
       "    </tr>\n",
       "    <tr>\n",
       "      <th>3</th>\n",
       "      <td>He’s probably a white gay kid from some suburb...</td>\n",
       "      <td>age</td>\n",
       "      <td>en</td>\n",
       "      <td>0</td>\n",
       "      <td>he ’ s probably a white gay kid from some subu...</td>\n",
       "    </tr>\n",
       "    <tr>\n",
       "      <th>4</th>\n",
       "      <td>You are pushed ti resorting. Treating thr bull...</td>\n",
       "      <td>age</td>\n",
       "      <td>en</td>\n",
       "      <td>0</td>\n",
       "      <td>you are pushed ti resorting . treating thr bul...</td>\n",
       "    </tr>\n",
       "    <tr>\n",
       "      <th>...</th>\n",
       "      <td>...</td>\n",
       "      <td>...</td>\n",
       "      <td>...</td>\n",
       "      <td>...</td>\n",
       "      <td>...</td>\n",
       "    </tr>\n",
       "    <tr>\n",
       "      <th>47995</th>\n",
       "      <td>Can you imagine if Christians came together li...</td>\n",
       "      <td>religion</td>\n",
       "      <td>en</td>\n",
       "      <td>5</td>\n",
       "      <td>can you imagine if christians came together li...</td>\n",
       "    </tr>\n",
       "    <tr>\n",
       "      <th>47996</th>\n",
       "      <td>So how to support justice from the initial pro...</td>\n",
       "      <td>religion</td>\n",
       "      <td>en</td>\n",
       "      <td>5</td>\n",
       "      <td>so how to support justice from the initial pro...</td>\n",
       "    </tr>\n",
       "    <tr>\n",
       "      <th>47997</th>\n",
       "      <td>$RESERVED$ $MENTION$: If you harbour any doubt...</td>\n",
       "      <td>religion</td>\n",
       "      <td>en</td>\n",
       "      <td>5</td>\n",
       "      <td>$RESERVED$ $MENTION$ : if you harb ##our any d...</td>\n",
       "    </tr>\n",
       "    <tr>\n",
       "      <th>47998</th>\n",
       "      <td>$MENTION$ $MENTION$ One thing about Muslims, t...</td>\n",
       "      <td>religion</td>\n",
       "      <td>en</td>\n",
       "      <td>5</td>\n",
       "      <td>$MENTION$ $MENTION$ one thing about muslims , ...</td>\n",
       "    </tr>\n",
       "    <tr>\n",
       "      <th>47999</th>\n",
       "      <td>Does the Quran precludes women from human righ...</td>\n",
       "      <td>religion</td>\n",
       "      <td>en</td>\n",
       "      <td>5</td>\n",
       "      <td>does the quran prec ##lu ##des women from huma...</td>\n",
       "    </tr>\n",
       "  </tbody>\n",
       "</table>\n",
       "<p>48000 rows × 5 columns</p>\n",
       "</div>"
      ],
      "text/plain": [
       "                                              tweet_text     label lang  y  \\\n",
       "0      Here at home. Neighbors pick on my family and ...       age   en  0   \n",
       "1      Being bullied at school: High-achieving boys u...       age   en  0   \n",
       "2      There was a girl in my class in 6th grade who ...       age   en  0   \n",
       "3      He’s probably a white gay kid from some suburb...       age   en  0   \n",
       "4      You are pushed ti resorting. Treating thr bull...       age   en  0   \n",
       "...                                                  ...       ...  ... ..   \n",
       "47995  Can you imagine if Christians came together li...  religion   en  5   \n",
       "47996  So how to support justice from the initial pro...  religion   en  5   \n",
       "47997  $RESERVED$ $MENTION$: If you harbour any doubt...  religion   en  5   \n",
       "47998  $MENTION$ $MENTION$ One thing about Muslims, t...  religion   en  5   \n",
       "47999  Does the Quran precludes women from human righ...  religion   en  5   \n",
       "\n",
       "                                                  tokens  \n",
       "0      here at home . neighbors pick on my family and...  \n",
       "1      being bullied at school : high - achieving boy...  \n",
       "2      there was a girl in my class in 6th grade who ...  \n",
       "3      he ’ s probably a white gay kid from some subu...  \n",
       "4      you are pushed ti resorting . treating thr bul...  \n",
       "...                                                  ...  \n",
       "47995  can you imagine if christians came together li...  \n",
       "47996  so how to support justice from the initial pro...  \n",
       "47997  $RESERVED$ $MENTION$ : if you harb ##our any d...  \n",
       "47998  $MENTION$ $MENTION$ one thing about muslims , ...  \n",
       "47999  does the quran prec ##lu ##des women from huma...  \n",
       "\n",
       "[48000 rows x 5 columns]"
      ]
     },
     "execution_count": 38,
     "metadata": {},
     "output_type": "execute_result"
    }
   ],
   "source": [
    "df = load_data(path = \"../../data_wang/cyberbullying_tweets.csv\")\n",
    "df[\"y\"] = label_to_numeric(df)\n",
    "df[\"tweet_text\"] = preprocess(df.tweet_text)\n",
    "df[\"tokens\"] = [\" \".join(tokens) for tokens in tokenize(df.tweet_text)]\n",
    "\n",
    "df"
   ]
  },
  {
   "cell_type": "code",
   "execution_count": 39,
   "id": "7e5758c3",
   "metadata": {},
   "outputs": [],
   "source": [
    "class LanguageIdentification:\n",
    "\n",
    "    def __init__(self):\n",
    "        pretrained_lang_model = \"../fasttext_binaries/lid.176.bin\"\n",
    "        self.model = ft.load_model(pretrained_lang_model)\n",
    "\n",
    "    def predict_lang(self, text):\n",
    "        predictions = self.model.predict(text, k=2) # returns top 2 matching languages\n",
    "        return predictions"
   ]
  },
  {
   "cell_type": "code",
   "execution_count": 40,
   "id": "bf031233",
   "metadata": {},
   "outputs": [
    {
     "name": "stderr",
     "output_type": "stream",
     "text": [
      "Warning : `load_model` does not return WordVectorModel or SupervisedModel any more, but a `FastText` object which is very similar.\n"
     ]
    }
   ],
   "source": [
    "language_identifer = LanguageIdentification()\n",
    "lang_predictions = df.tweet_text.apply(language_identifer.predict_lang)"
   ]
  },
  {
   "cell_type": "code",
   "execution_count": 83,
   "id": "ccb78087",
   "metadata": {},
   "outputs": [],
   "source": [
    "df[\"lang\"] = lang_predictions.apply(lambda x: x[0][0][-2:])\n",
    "\n",
    "df.groupby(\"lang\").count()\n",
    "df.to_csv(\"../../data_wang/cyberbullying_tweets.csv\", index=True)"
   ]
  },
  {
   "cell_type": "code",
   "execution_count": 82,
   "id": "36d18c5a",
   "metadata": {},
   "outputs": [
    {
     "data": {
      "text/html": [
       "<div>\n",
       "<style scoped>\n",
       "    .dataframe tbody tr th:only-of-type {\n",
       "        vertical-align: middle;\n",
       "    }\n",
       "\n",
       "    .dataframe tbody tr th {\n",
       "        vertical-align: top;\n",
       "    }\n",
       "\n",
       "    .dataframe thead th {\n",
       "        text-align: right;\n",
       "    }\n",
       "</style>\n",
       "<table border=\"1\" class=\"dataframe\">\n",
       "  <thead>\n",
       "    <tr style=\"text-align: right;\">\n",
       "      <th></th>\n",
       "      <th>tweet_text</th>\n",
       "      <th>label</th>\n",
       "      <th>lang</th>\n",
       "      <th>y</th>\n",
       "      <th>tokens</th>\n",
       "      <th>tweets</th>\n",
       "    </tr>\n",
       "  </thead>\n",
       "  <tbody>\n",
       "    <tr>\n",
       "      <th>0</th>\n",
       "      <td>Here at home. Neighbors pick on my family and ...</td>\n",
       "      <td>age</td>\n",
       "      <td>en</td>\n",
       "      <td>0</td>\n",
       "      <td>here at home . neighbors pick on my family and...</td>\n",
       "      <td>here at home  neighbors pick on my family and ...</td>\n",
       "    </tr>\n",
       "    <tr>\n",
       "      <th>1</th>\n",
       "      <td>Being bullied at school: High-achieving boys u...</td>\n",
       "      <td>age</td>\n",
       "      <td>en</td>\n",
       "      <td>0</td>\n",
       "      <td>being bullied at school : high - achieving boy...</td>\n",
       "      <td>being bullied at school  high achieving boys u...</td>\n",
       "    </tr>\n",
       "    <tr>\n",
       "      <th>2</th>\n",
       "      <td>There was a girl in my class in 6th grade who ...</td>\n",
       "      <td>age</td>\n",
       "      <td>en</td>\n",
       "      <td>0</td>\n",
       "      <td>there was a girl in my class in 6th grade who ...</td>\n",
       "      <td>there was a girl in my class in 6th grade who ...</td>\n",
       "    </tr>\n",
       "    <tr>\n",
       "      <th>3</th>\n",
       "      <td>He’s probably a white gay kid from some suburb...</td>\n",
       "      <td>age</td>\n",
       "      <td>en</td>\n",
       "      <td>0</td>\n",
       "      <td>he ’ s probably a white gay kid from some subu...</td>\n",
       "      <td>he s probably a white gay kid from some suburb...</td>\n",
       "    </tr>\n",
       "    <tr>\n",
       "      <th>4</th>\n",
       "      <td>You are pushed ti resorting. Treating thr bull...</td>\n",
       "      <td>age</td>\n",
       "      <td>en</td>\n",
       "      <td>0</td>\n",
       "      <td>you are pushed ti resorting . treating thr bul...</td>\n",
       "      <td>you are pushed ti resorting  treating thr bull...</td>\n",
       "    </tr>\n",
       "    <tr>\n",
       "      <th>...</th>\n",
       "      <td>...</td>\n",
       "      <td>...</td>\n",
       "      <td>...</td>\n",
       "      <td>...</td>\n",
       "      <td>...</td>\n",
       "      <td>...</td>\n",
       "    </tr>\n",
       "    <tr>\n",
       "      <th>47995</th>\n",
       "      <td>Can you imagine if Christians came together li...</td>\n",
       "      <td>religion</td>\n",
       "      <td>en</td>\n",
       "      <td>5</td>\n",
       "      <td>can you imagine if christians came together li...</td>\n",
       "      <td>can you imagine if christians came together li...</td>\n",
       "    </tr>\n",
       "    <tr>\n",
       "      <th>47996</th>\n",
       "      <td>So how to support justice from the initial pro...</td>\n",
       "      <td>religion</td>\n",
       "      <td>en</td>\n",
       "      <td>5</td>\n",
       "      <td>so how to support justice from the initial pro...</td>\n",
       "      <td>so how to support justice from the initial pro...</td>\n",
       "    </tr>\n",
       "    <tr>\n",
       "      <th>47997</th>\n",
       "      <td>$RESERVED$ $MENTION$: If you harbour any doubt...</td>\n",
       "      <td>religion</td>\n",
       "      <td>en</td>\n",
       "      <td>5</td>\n",
       "      <td>$RESERVED$ $MENTION$ : if you harb ##our any d...</td>\n",
       "      <td>if you harbour any doubts about what   musl...</td>\n",
       "    </tr>\n",
       "    <tr>\n",
       "      <th>47998</th>\n",
       "      <td>$MENTION$ $MENTION$ One thing about Muslims, t...</td>\n",
       "      <td>religion</td>\n",
       "      <td>en</td>\n",
       "      <td>5</td>\n",
       "      <td>$MENTION$ $MENTION$ one thing about muslims , ...</td>\n",
       "      <td>one thing about muslims  they want to exterm...</td>\n",
       "    </tr>\n",
       "    <tr>\n",
       "      <th>47999</th>\n",
       "      <td>Does the Quran precludes women from human righ...</td>\n",
       "      <td>religion</td>\n",
       "      <td>en</td>\n",
       "      <td>5</td>\n",
       "      <td>does the quran prec ##lu ##des women from huma...</td>\n",
       "      <td>does the quran precludes women from human righ...</td>\n",
       "    </tr>\n",
       "  </tbody>\n",
       "</table>\n",
       "<p>46418 rows × 6 columns</p>\n",
       "</div>"
      ],
      "text/plain": [
       "                                              tweet_text     label lang  y  \\\n",
       "0      Here at home. Neighbors pick on my family and ...       age   en  0   \n",
       "1      Being bullied at school: High-achieving boys u...       age   en  0   \n",
       "2      There was a girl in my class in 6th grade who ...       age   en  0   \n",
       "3      He’s probably a white gay kid from some suburb...       age   en  0   \n",
       "4      You are pushed ti resorting. Treating thr bull...       age   en  0   \n",
       "...                                                  ...       ...  ... ..   \n",
       "47995  Can you imagine if Christians came together li...  religion   en  5   \n",
       "47996  So how to support justice from the initial pro...  religion   en  5   \n",
       "47997  $RESERVED$ $MENTION$: If you harbour any doubt...  religion   en  5   \n",
       "47998  $MENTION$ $MENTION$ One thing about Muslims, t...  religion   en  5   \n",
       "47999  Does the Quran precludes women from human righ...  religion   en  5   \n",
       "\n",
       "                                                  tokens  \\\n",
       "0      here at home . neighbors pick on my family and...   \n",
       "1      being bullied at school : high - achieving boy...   \n",
       "2      there was a girl in my class in 6th grade who ...   \n",
       "3      he ’ s probably a white gay kid from some subu...   \n",
       "4      you are pushed ti resorting . treating thr bul...   \n",
       "...                                                  ...   \n",
       "47995  can you imagine if christians came together li...   \n",
       "47996  so how to support justice from the initial pro...   \n",
       "47997  $RESERVED$ $MENTION$ : if you harb ##our any d...   \n",
       "47998  $MENTION$ $MENTION$ one thing about muslims , ...   \n",
       "47999  does the quran prec ##lu ##des women from huma...   \n",
       "\n",
       "                                                  tweets  \n",
       "0      here at home  neighbors pick on my family and ...  \n",
       "1      being bullied at school  high achieving boys u...  \n",
       "2      there was a girl in my class in 6th grade who ...  \n",
       "3      he s probably a white gay kid from some suburb...  \n",
       "4      you are pushed ti resorting  treating thr bull...  \n",
       "...                                                  ...  \n",
       "47995  can you imagine if christians came together li...  \n",
       "47996  so how to support justice from the initial pro...  \n",
       "47997     if you harbour any doubts about what   musl...  \n",
       "47998    one thing about muslims  they want to exterm...  \n",
       "47999  does the quran precludes women from human righ...  \n",
       "\n",
       "[46418 rows x 6 columns]"
      ]
     },
     "execution_count": 82,
     "metadata": {},
     "output_type": "execute_result"
    }
   ],
   "source": [
    "df"
   ]
  },
  {
   "cell_type": "code",
   "execution_count": 79,
   "id": "43ba0a47",
   "metadata": {},
   "outputs": [
    {
     "name": "stderr",
     "output_type": "stream",
     "text": [
      "Failed to detect the name of this notebook, you can set it manually with the WANDB_NOTEBOOK_NAME environment variable to enable code saving.\n",
      "\u001b[34m\u001b[1mwandb\u001b[0m: Currently logged in as: \u001b[33mayushkumar\u001b[0m (\u001b[33mcyberbullying\u001b[0m). Use \u001b[1m`wandb login --relogin`\u001b[0m to force relogin\n"
     ]
    },
    {
     "data": {
      "text/html": [
       "Tracking run with wandb version 0.12.17"
      ],
      "text/plain": [
       "<IPython.core.display.HTML object>"
      ]
     },
     "metadata": {},
     "output_type": "display_data"
    },
    {
     "data": {
      "text/html": [
       "Run data is saved locally in <code>d:\\capstone\\src\\notebooks\\wandb\\run-20220608_214415-4gmfbr6e</code>"
      ],
      "text/plain": [
       "<IPython.core.display.HTML object>"
      ]
     },
     "metadata": {},
     "output_type": "display_data"
    },
    {
     "data": {
      "text/html": [
       "Syncing run <strong><a href=\"https://wandb.ai/cyberbullying/capstone/runs/4gmfbr6e\" target=\"_blank\">splendid-frog-10</a></strong> to <a href=\"https://wandb.ai/cyberbullying/capstone\" target=\"_blank\">Weights & Biases</a> (<a href=\"https://wandb.me/run\" target=\"_blank\">docs</a>)<br/>"
      ],
      "text/plain": [
       "<IPython.core.display.HTML object>"
      ]
     },
     "metadata": {},
     "output_type": "display_data"
    }
   ],
   "source": [
    "run = wandb.init(project='capstone')"
   ]
  },
  {
   "cell_type": "code",
   "execution_count": 84,
   "id": "cda3e223",
   "metadata": {},
   "outputs": [
    {
     "name": "stderr",
     "output_type": "stream",
     "text": [
      "\u001b[34m\u001b[1mwandb\u001b[0m: Adding directory to artifact (.\\..\\..\\data_wang)... Done. 0.1s\n"
     ]
    },
    {
     "ename": "Error",
     "evalue": "You must call wandb.init() before wandb.log_artifact()",
     "output_type": "error",
     "traceback": [
      "\u001b[1;31m---------------------------------------------------------------------------\u001b[0m",
      "\u001b[1;31mError\u001b[0m                                     Traceback (most recent call last)",
      "\u001b[1;32md:\\capstone\\src\\notebooks\\0_preprocessing.ipynb Cell 8'\u001b[0m in \u001b[0;36m<cell line: 3>\u001b[1;34m()\u001b[0m\n\u001b[0;32m      <a href='vscode-notebook-cell:/d%3A/capstone/src/notebooks/0_preprocessing.ipynb#ch0000009?line=0'>1</a>\u001b[0m artifact \u001b[39m=\u001b[39m wandb\u001b[39m.\u001b[39mArtifact(\u001b[39m\"\u001b[39m\u001b[39mtweets\u001b[39m\u001b[39m\"\u001b[39m, \u001b[39mtype\u001b[39m\u001b[39m=\u001b[39m\u001b[39m\"\u001b[39m\u001b[39mdataset\u001b[39m\u001b[39m\"\u001b[39m)\n\u001b[0;32m      <a href='vscode-notebook-cell:/d%3A/capstone/src/notebooks/0_preprocessing.ipynb#ch0000009?line=1'>2</a>\u001b[0m artifact\u001b[39m.\u001b[39madd_dir(\u001b[39m\"\u001b[39m\u001b[39m../../data_wang/\u001b[39m\u001b[39m\"\u001b[39m)\n\u001b[1;32m----> <a href='vscode-notebook-cell:/d%3A/capstone/src/notebooks/0_preprocessing.ipynb#ch0000009?line=2'>3</a>\u001b[0m wandb\u001b[39m.\u001b[39;49mlog_artifact(artifact, aliases \u001b[39m=\u001b[39;49m [\u001b[39m\"\u001b[39;49m\u001b[39mpreprocessed_tweets\u001b[39;49m\u001b[39m\"\u001b[39;49m])\n",
      "File \u001b[1;32mc:\\Users\\Ayush\\.conda\\envs\\cyberbullying\\lib\\site-packages\\wandb\\sdk\\lib\\preinit.py:36\u001b[0m, in \u001b[0;36mPreInitCallable.<locals>.preinit_wrapper\u001b[1;34m(*args, **kwargs)\u001b[0m\n\u001b[0;32m     <a href='file:///c%3A/Users/Ayush/.conda/envs/cyberbullying/lib/site-packages/wandb/sdk/lib/preinit.py?line=34'>35</a>\u001b[0m \u001b[39mdef\u001b[39;00m \u001b[39mpreinit_wrapper\u001b[39m(\u001b[39m*\u001b[39margs: Any, \u001b[39m*\u001b[39m\u001b[39m*\u001b[39mkwargs: Any) \u001b[39m-\u001b[39m\u001b[39m>\u001b[39m Any:\n\u001b[1;32m---> <a href='file:///c%3A/Users/Ayush/.conda/envs/cyberbullying/lib/site-packages/wandb/sdk/lib/preinit.py?line=35'>36</a>\u001b[0m     \u001b[39mraise\u001b[39;00m wandb\u001b[39m.\u001b[39mError(\u001b[39mf\u001b[39m\u001b[39m\"\u001b[39m\u001b[39mYou must call wandb.init() before \u001b[39m\u001b[39m{\u001b[39;00mname\u001b[39m}\u001b[39;00m\u001b[39m()\u001b[39m\u001b[39m\"\u001b[39m)\n",
      "\u001b[1;31mError\u001b[0m: You must call wandb.init() before wandb.log_artifact()"
     ]
    }
   ],
   "source": [
    "artifact = wandb.Artifact(\"tweets\", type=\"dataset\")\n",
    "artifact.add_dir(\"../../data_wang/\")\n",
    "wandb.log_artifact(artifact, aliases = [\"preprocessed_tweets\"])"
   ]
  },
  {
   "cell_type": "code",
   "execution_count": 171,
   "id": "f8fa2b47",
   "metadata": {},
   "outputs": [
    {
     "data": {
      "text/plain": [
       "<wandb.sdk.wandb_artifacts.Artifact at 0x2e3f758eb20>"
      ]
     },
     "execution_count": 171,
     "metadata": {},
     "output_type": "execute_result"
    }
   ],
   "source": [
    "artifact = wandb.Artifact(\"wp_pretrained_tweet\", type = \"tokenizer\")\n",
    "artifact.add_file(\"../wp_tokenizer.json\")\n",
    "wandb.log_artifact(artifact)"
   ]
  },
  {
   "cell_type": "code",
   "execution_count": 173,
   "id": "b9c26906",
   "metadata": {},
   "outputs": [],
   "source": [
    "table = wandb.Table(dataframe = df)\n",
    "run.log({\"data\": table})"
   ]
  },
  {
   "cell_type": "code",
   "execution_count": 81,
   "id": "51aab3f7",
   "metadata": {},
   "outputs": [
    {
     "data": {
      "text/html": [
       "Waiting for W&B process to finish... <strong style=\"color:green\">(success).</strong>"
      ],
      "text/plain": [
       "<IPython.core.display.HTML object>"
      ]
     },
     "metadata": {},
     "output_type": "display_data"
    },
    {
     "name": "stderr",
     "output_type": "stream",
     "text": [
      "\u001b[34m\u001b[1mwandb\u001b[0m: \u001b[32m\u001b[41mERROR\u001b[0m Control-C detected -- Run data was not synced\n"
     ]
    }
   ],
   "source": [
    "wandb.finish()"
   ]
  }
 ],
 "metadata": {
  "interpreter": {
   "hash": "747f214ecf83b1305cceefba704903bac84d6276413a23dab6d06a484ef806e3"
  },
  "kernelspec": {
   "display_name": "Python 3.8.13 ('cyberbullying')",
   "language": "python",
   "name": "python3"
  },
  "language_info": {
   "codemirror_mode": {
    "name": "ipython",
    "version": 3
   },
   "file_extension": ".py",
   "mimetype": "text/x-python",
   "name": "python",
   "nbconvert_exporter": "python",
   "pygments_lexer": "ipython3",
   "version": "3.8.13"
  }
 },
 "nbformat": 4,
 "nbformat_minor": 5
}
