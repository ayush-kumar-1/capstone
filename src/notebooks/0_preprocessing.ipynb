{
 "cells": [
  {
   "cell_type": "code",
   "execution_count": null,
   "id": "fa664454",
   "metadata": {},
   "outputs": [],
   "source": [
    "import pandas as pd \n",
    "import numpy as np \n",
    "import matplotlib.pyplot as plt \n",
    "import spacy \n",
    "import optuna\n",
    "import xgboost as xgb\n",
    "import re\n",
    "from spacy_langdetect import LanguageDetector\n",
    "from spacy.language import Language\n",
    "\n",
    "import sys; sys.path.insert(0, '../') #adds all the code we've written in src\n",
    "from tqdm.notebook import trange, tqdm\n",
    "from preprocessing import *\n",
    "\n",
    "from sklearnex import patch_sklearn\n",
    "patch_sklearn()\n",
    "\n",
    "from sklearnex.svm import SVC\n",
    "from sklearn.metrics import accuracy_score as accuracy\n",
    "from sklearn.linear_model import LogisticRegression as LR\n",
    "from sklearn.metrics import classification_report \n",
    "from sklearn.metrics import accuracy_score as accuracy\n",
    "from sklearn.model_selection import train_test_split\n",
    "from sklearn.feature_extraction.text import CountVectorizer\n",
    "from sklearn.feature_extraction.text import TfidfTransformer as tfidf\n",
    "from sklearn.preprocessing import MaxAbsScaler"
   ]
  },
  {
   "cell_type": "code",
   "execution_count": null,
   "id": "77ff60de",
   "metadata": {},
   "outputs": [],
   "source": [
    "@Language.factory('language_detector')\n",
    "def language_detector(nlp, name):\n",
    "    return LanguageDetector()\n",
    "\n",
    "nlp = spacy.load(\"en_core_web_sm\", disable = [\"tagger\", \"parser\", \"attribute_ruler\", \"ner\"])\n",
    "nlp.add_pipe('sentencizer')\n",
    "nlp.add_pipe('language_detector', last=True) #2\n",
    "spacy_tokenizer = nlp.tokenizer\n",
    "docs = nlp.pipe(tweets)"
   ]
  },
  {
   "cell_type": "code",
   "execution_count": null,
   "id": "bae68319",
   "metadata": {},
   "outputs": [],
   "source": [
    "def get_number_of_ats(tweet): \n",
    "    at_regex = r\"@\"\n",
    "    ats = re.findall(at_regex, tweet)\n",
    "    return len(ats)\n",
    "\n",
    "def get_number_of_hashtags(tweet): \n",
    "    return len(re.findall(r\"#\", tweet))\n",
    "\n",
    "def is_retweet(tweet): \n",
    "    return len(re.findall(r\"rt\", tweet))\n",
    "\n",
    "df_en[\"num_ats\"] = df_en.tweet_text.apply(lambda row: get_number_of_ats(row))\n",
    "df_en[\"num_tags\"] = df_en.tweet_text.apply(lambda row: get_number_of_hashtags(row))\n",
    "df_en[\"rt\"] = df_en.tweet_text.apply(lambda row: is_retweet(row))\n",
    "\n",
    "cols = [\"cyberbullying_type\", \"num_ats\", \"score\", \"num_tags\", \"rt\"]\n",
    "df_en[cols].groupby(\"cyberbullying_type\").mean()"
   ]
  }
 ],
 "metadata": {
  "kernelspec": {
   "display_name": "Python 3 (ipykernel)",
   "language": "python",
   "name": "python3"
  },
  "language_info": {
   "codemirror_mode": {
    "name": "ipython",
    "version": 3
   },
   "file_extension": ".py",
   "mimetype": "text/x-python",
   "name": "python",
   "nbconvert_exporter": "python",
   "pygments_lexer": "ipython3",
   "version": "3.8.12"
  }
 },
 "nbformat": 4,
 "nbformat_minor": 5
}
