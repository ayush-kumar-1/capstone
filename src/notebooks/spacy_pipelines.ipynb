{
 "cells": [
  {
   "cell_type": "code",
   "execution_count": 2,
   "id": "a5409c86",
   "metadata": {},
   "outputs": [],
   "source": [
    "import pandas as pd \n",
    "import numpy as np \n",
    "import matplotlib.pyplot as plt \n",
    "import spacy \n",
    "\n",
    "import sys; sys.path.insert(0, '../') #adds all the code we've written in src\n",
    "from tqdm.notebook import trange, tqdm\n",
    "from preprocessing import *"
   ]
  },
  {
   "cell_type": "code",
   "execution_count": 3,
   "id": "3c381e58",
   "metadata": {},
   "outputs": [
    {
     "name": "stderr",
     "output_type": "stream",
     "text": [
      "D:\\capstone\\src\\notebooks\\..\\preprocessing.py:90: FutureWarning: The default value of regex will change from True to False in a future version.\n",
      "  return text_arr.str.replace(at_regex, \"\")\n",
      "D:\\capstone\\src\\notebooks\\..\\preprocessing.py:97: FutureWarning: The default value of regex will change from True to False in a future version.\n",
      "  return text_arr.str.replace(special_chars, \"\")\n"
     ]
    },
    {
     "data": {
      "text/html": [
       "<div>\n",
       "<style scoped>\n",
       "    .dataframe tbody tr th:only-of-type {\n",
       "        vertical-align: middle;\n",
       "    }\n",
       "\n",
       "    .dataframe tbody tr th {\n",
       "        vertical-align: top;\n",
       "    }\n",
       "\n",
       "    .dataframe thead th {\n",
       "        text-align: right;\n",
       "    }\n",
       "</style>\n",
       "<table border=\"1\" class=\"dataframe\">\n",
       "  <thead>\n",
       "    <tr style=\"text-align: right;\">\n",
       "      <th></th>\n",
       "      <th>tweet_text</th>\n",
       "      <th>cyberbullying_type</th>\n",
       "    </tr>\n",
       "  </thead>\n",
       "  <tbody>\n",
       "    <tr>\n",
       "      <th>0</th>\n",
       "      <td>In other words #katandandre, your food was cra...</td>\n",
       "      <td>not_cyberbullying</td>\n",
       "    </tr>\n",
       "    <tr>\n",
       "      <th>1</th>\n",
       "      <td>Why is #aussietv so white? #MKR #theblock #ImA...</td>\n",
       "      <td>not_cyberbullying</td>\n",
       "    </tr>\n",
       "    <tr>\n",
       "      <th>2</th>\n",
       "      <td>@XochitlSuckkks a classy whore? Or more red ve...</td>\n",
       "      <td>not_cyberbullying</td>\n",
       "    </tr>\n",
       "    <tr>\n",
       "      <th>3</th>\n",
       "      <td>@Jason_Gio meh. :P  thanks for the heads up, b...</td>\n",
       "      <td>not_cyberbullying</td>\n",
       "    </tr>\n",
       "    <tr>\n",
       "      <th>4</th>\n",
       "      <td>@RudhoeEnglish This is an ISIS account pretend...</td>\n",
       "      <td>not_cyberbullying</td>\n",
       "    </tr>\n",
       "  </tbody>\n",
       "</table>\n",
       "</div>"
      ],
      "text/plain": [
       "                                          tweet_text cyberbullying_type\n",
       "0  In other words #katandandre, your food was cra...  not_cyberbullying\n",
       "1  Why is #aussietv so white? #MKR #theblock #ImA...  not_cyberbullying\n",
       "2  @XochitlSuckkks a classy whore? Or more red ve...  not_cyberbullying\n",
       "3  @Jason_Gio meh. :P  thanks for the heads up, b...  not_cyberbullying\n",
       "4  @RudhoeEnglish This is an ISIS account pretend...  not_cyberbullying"
      ]
     },
     "execution_count": 3,
     "metadata": {},
     "output_type": "execute_result"
    }
   ],
   "source": [
    "df = pd.read_csv(\"../../cyberbullying_tweets/cyberbullying_tweets.csv\")\n",
    "tweets = df.tweet_text\n",
    "tweets = remove_ats(tweets)\n",
    "tweets = remove_emoji(tweets)\n",
    "tweets = remove_special(tweets)\n",
    "\n",
    "df.head()"
   ]
  },
  {
   "cell_type": "code",
   "execution_count": 4,
   "id": "69c7fbd4",
   "metadata": {},
   "outputs": [],
   "source": [
    "# !python -m spacy download en_core_web_sm\n",
    "from spacy_langdetect import LanguageDetector\n",
    "from spacy.language import Language\n",
    "\n",
    "@Language.factory('language_detector')\n",
    "def language_detector(nlp, name):\n",
    "    return LanguageDetector()\n",
    "\n",
    "nlp = spacy.load(\"en_core_web_sm\", disable = [\"tagger\", \"parser\", \"attribute_ruler\", \"ner\"])\n",
    "nlp.add_pipe('sentencizer')\n",
    "nlp.add_pipe('language_detector', last=True) #2\n",
    "docs = nlp.pipe(tweets)"
   ]
  },
  {
   "cell_type": "code",
   "execution_count": null,
   "id": "078dafc6",
   "metadata": {},
   "outputs": [
    {
     "data": {
      "application/vnd.jupyter.widget-view+json": {
       "model_id": "38150ce00cf447ca9edb9b48df2890e8",
       "version_major": 2,
       "version_minor": 0
      },
      "text/plain": [
       "  0%|          | 0/47692 [00:00<?, ?it/s]"
      ]
     },
     "metadata": {},
     "output_type": "display_data"
    }
   ],
   "source": [
    "lang = []\n",
    "score = []\n",
    "\n",
    "for doc in tqdm(docs, total=len(tweets)):\n",
    "    lang.append(doc._.language[\"language\"])\n",
    "    score.append(doc._.language[\"score\"])"
   ]
  },
  {
   "cell_type": "code",
   "execution_count": 5,
   "id": "586a7b82",
   "metadata": {},
   "outputs": [],
   "source": [
    "df[\"lang\"] = lang\n",
    "df[\"score\"] = score"
   ]
  },
  {
   "cell_type": "code",
   "execution_count": null,
   "id": "a5050f25",
   "metadata": {},
   "outputs": [],
   "source": [
    "df_en = df[df.lang == 'en'].copy().reset_index(drop = True)\n",
    "df_en"
   ]
  },
  {
   "cell_type": "code",
   "execution_count": 7,
   "id": "d2697fb0",
   "metadata": {},
   "outputs": [
    {
     "name": "stderr",
     "output_type": "stream",
     "text": [
      "D:\\capstone\\src\\notebooks\\..\\preprocessing.py:90: FutureWarning: The default value of regex will change from True to False in a future version.\n",
      "  return text_arr.str.replace(at_regex, \"\")\n",
      "D:\\capstone\\src\\notebooks\\..\\preprocessing.py:97: FutureWarning: The default value of regex will change from True to False in a future version.\n",
      "  return text_arr.str.replace(special_chars, \"\")\n"
     ]
    }
   ],
   "source": [
    "tweets = df_en.tweet_text\n",
    "tweets = remove_ats(tweets)\n",
    "tweets = remove_emoji(tweets)\n",
    "tweets = remove_special(tweets)\n",
    "tweets = to_lowercase(tweets)\n",
    "tweets = expand_contractions(tweets)\n",
    "tweets = remove_stopwords(tweets)\n",
    "tweets = stem_series(tweets)\n",
    "tweets = lemmatize_series(tweets)"
   ]
  },
  {
   "cell_type": "code",
   "execution_count": 8,
   "id": "28d5343f",
   "metadata": {},
   "outputs": [
    {
     "data": {
      "text/html": [
       "<div>\n",
       "<style scoped>\n",
       "    .dataframe tbody tr th:only-of-type {\n",
       "        vertical-align: middle;\n",
       "    }\n",
       "\n",
       "    .dataframe tbody tr th {\n",
       "        vertical-align: top;\n",
       "    }\n",
       "\n",
       "    .dataframe thead th {\n",
       "        text-align: right;\n",
       "    }\n",
       "</style>\n",
       "<table border=\"1\" class=\"dataframe\">\n",
       "  <thead>\n",
       "    <tr style=\"text-align: right;\">\n",
       "      <th></th>\n",
       "      <th>tweet_text</th>\n",
       "      <th>cyberbullying_type</th>\n",
       "      <th>lang</th>\n",
       "      <th>score</th>\n",
       "      <th>y</th>\n",
       "      <th>X</th>\n",
       "    </tr>\n",
       "  </thead>\n",
       "  <tbody>\n",
       "    <tr>\n",
       "      <th>0</th>\n",
       "      <td>In other words #katandandre, your food was cra...</td>\n",
       "      <td>not_cyberbullying</td>\n",
       "      <td>en</td>\n",
       "      <td>0.999997</td>\n",
       "      <td>0</td>\n",
       "      <td>word katandandr food crapilici</td>\n",
       "    </tr>\n",
       "    <tr>\n",
       "      <th>1</th>\n",
       "      <td>Why is #aussietv so white? #MKR #theblock #ImA...</td>\n",
       "      <td>not_cyberbullying</td>\n",
       "      <td>en</td>\n",
       "      <td>0.999995</td>\n",
       "      <td>0</td>\n",
       "      <td>aussietv white theblock imacelebrityau today s...</td>\n",
       "    </tr>\n",
       "    <tr>\n",
       "      <th>2</th>\n",
       "      <td>@XochitlSuckkks a classy whore? Or more red ve...</td>\n",
       "      <td>not_cyberbullying</td>\n",
       "      <td>en</td>\n",
       "      <td>0.999998</td>\n",
       "      <td>0</td>\n",
       "      <td>classi whore red velvet cupcak</td>\n",
       "    </tr>\n",
       "    <tr>\n",
       "      <th>3</th>\n",
       "      <td>@Jason_Gio meh. :P  thanks for the heads up, b...</td>\n",
       "      <td>not_cyberbullying</td>\n",
       "      <td>en</td>\n",
       "      <td>0.999996</td>\n",
       "      <td>0</td>\n",
       "      <td>gio meh p thank head concern anoth angri dude ...</td>\n",
       "    </tr>\n",
       "    <tr>\n",
       "      <th>4</th>\n",
       "      <td>@RudhoeEnglish This is an ISIS account pretend...</td>\n",
       "      <td>not_cyberbullying</td>\n",
       "      <td>en</td>\n",
       "      <td>0.999999</td>\n",
       "      <td>0</td>\n",
       "      <td>isi account pretend kurdish account like islam...</td>\n",
       "    </tr>\n",
       "    <tr>\n",
       "      <th>...</th>\n",
       "      <td>...</td>\n",
       "      <td>...</td>\n",
       "      <td>...</td>\n",
       "      <td>...</td>\n",
       "      <td>...</td>\n",
       "      <td>...</td>\n",
       "    </tr>\n",
       "    <tr>\n",
       "      <th>44607</th>\n",
       "      <td>Black ppl aren't expected to do anything, depe...</td>\n",
       "      <td>ethnicity</td>\n",
       "      <td>en</td>\n",
       "      <td>0.999997</td>\n",
       "      <td>5</td>\n",
       "      <td>black ppl expect anyth depend anyth yet free p...</td>\n",
       "    </tr>\n",
       "    <tr>\n",
       "      <th>44608</th>\n",
       "      <td>Turner did not withhold his disappointment. Tu...</td>\n",
       "      <td>ethnicity</td>\n",
       "      <td>en</td>\n",
       "      <td>0.999996</td>\n",
       "      <td>5</td>\n",
       "      <td>turner withhold disappoint turner call court a...</td>\n",
       "    </tr>\n",
       "    <tr>\n",
       "      <th>44609</th>\n",
       "      <td>I swear to God. This dumb nigger bitch. I have...</td>\n",
       "      <td>ethnicity</td>\n",
       "      <td>en</td>\n",
       "      <td>0.999997</td>\n",
       "      <td>5</td>\n",
       "      <td>swear god dumb nigger bitch got bleach hair re...</td>\n",
       "    </tr>\n",
       "    <tr>\n",
       "      <th>44610</th>\n",
       "      <td>Yea fuck you RT @therealexel: IF YOURE A NIGGE...</td>\n",
       "      <td>ethnicity</td>\n",
       "      <td>en</td>\n",
       "      <td>0.999996</td>\n",
       "      <td>5</td>\n",
       "      <td>yea fuck nigger fuck unfollow fuck dumb nigger</td>\n",
       "    </tr>\n",
       "    <tr>\n",
       "      <th>44611</th>\n",
       "      <td>Bro. U gotta chill RT @CHILLShrammy: Dog FUCK ...</td>\n",
       "      <td>ethnicity</td>\n",
       "      <td>en</td>\n",
       "      <td>0.999999</td>\n",
       "      <td>5</td>\n",
       "      <td>bro got chill dog fuck kp dumb nigger bitch lmao</td>\n",
       "    </tr>\n",
       "  </tbody>\n",
       "</table>\n",
       "<p>44612 rows × 6 columns</p>\n",
       "</div>"
      ],
      "text/plain": [
       "                                              tweet_text cyberbullying_type  \\\n",
       "0      In other words #katandandre, your food was cra...  not_cyberbullying   \n",
       "1      Why is #aussietv so white? #MKR #theblock #ImA...  not_cyberbullying   \n",
       "2      @XochitlSuckkks a classy whore? Or more red ve...  not_cyberbullying   \n",
       "3      @Jason_Gio meh. :P  thanks for the heads up, b...  not_cyberbullying   \n",
       "4      @RudhoeEnglish This is an ISIS account pretend...  not_cyberbullying   \n",
       "...                                                  ...                ...   \n",
       "44607  Black ppl aren't expected to do anything, depe...          ethnicity   \n",
       "44608  Turner did not withhold his disappointment. Tu...          ethnicity   \n",
       "44609  I swear to God. This dumb nigger bitch. I have...          ethnicity   \n",
       "44610  Yea fuck you RT @therealexel: IF YOURE A NIGGE...          ethnicity   \n",
       "44611  Bro. U gotta chill RT @CHILLShrammy: Dog FUCK ...          ethnicity   \n",
       "\n",
       "      lang     score  y                                                  X  \n",
       "0       en  0.999997  0                     word katandandr food crapilici  \n",
       "1       en  0.999995  0  aussietv white theblock imacelebrityau today s...  \n",
       "2       en  0.999998  0                     classi whore red velvet cupcak  \n",
       "3       en  0.999996  0  gio meh p thank head concern anoth angri dude ...  \n",
       "4       en  0.999999  0  isi account pretend kurdish account like islam...  \n",
       "...    ...       ... ..                                                ...  \n",
       "44607   en  0.999997  5  black ppl expect anyth depend anyth yet free p...  \n",
       "44608   en  0.999996  5  turner withhold disappoint turner call court a...  \n",
       "44609   en  0.999997  5  swear god dumb nigger bitch got bleach hair re...  \n",
       "44610   en  0.999996  5     yea fuck nigger fuck unfollow fuck dumb nigger  \n",
       "44611   en  0.999999  5   bro got chill dog fuck kp dumb nigger bitch lmao  \n",
       "\n",
       "[44612 rows x 6 columns]"
      ]
     },
     "execution_count": 8,
     "metadata": {},
     "output_type": "execute_result"
    }
   ],
   "source": [
    "cat_dict = {}\n",
    "for i, type in enumerate(df.cyberbullying_type.unique()):\n",
    "    cat_dict[type] = i \n",
    "    \n",
    "df_en[\"y\"] = df.cyberbullying_type.map(cat_dict)\n",
    "df_en[\"X\"] = tweets\n",
    "df_en"
   ]
  },
  {
   "cell_type": "code",
   "execution_count": 9,
   "id": "e0c2f754",
   "metadata": {},
   "outputs": [
    {
     "data": {
      "text/html": [
       "<div>\n",
       "<style scoped>\n",
       "    .dataframe tbody tr th:only-of-type {\n",
       "        vertical-align: middle;\n",
       "    }\n",
       "\n",
       "    .dataframe tbody tr th {\n",
       "        vertical-align: top;\n",
       "    }\n",
       "\n",
       "    .dataframe thead th {\n",
       "        text-align: right;\n",
       "    }\n",
       "</style>\n",
       "<table border=\"1\" class=\"dataframe\">\n",
       "  <thead>\n",
       "    <tr style=\"text-align: right;\">\n",
       "      <th></th>\n",
       "      <th>tweet_text</th>\n",
       "      <th>lang</th>\n",
       "      <th>score</th>\n",
       "      <th>y</th>\n",
       "      <th>X</th>\n",
       "    </tr>\n",
       "    <tr>\n",
       "      <th>cyberbullying_type</th>\n",
       "      <th></th>\n",
       "      <th></th>\n",
       "      <th></th>\n",
       "      <th></th>\n",
       "      <th></th>\n",
       "    </tr>\n",
       "  </thead>\n",
       "  <tbody>\n",
       "    <tr>\n",
       "      <th>age</th>\n",
       "      <td>7946</td>\n",
       "      <td>7946</td>\n",
       "      <td>7946</td>\n",
       "      <td>7946</td>\n",
       "      <td>7946</td>\n",
       "    </tr>\n",
       "    <tr>\n",
       "      <th>ethnicity</th>\n",
       "      <td>7366</td>\n",
       "      <td>7366</td>\n",
       "      <td>7366</td>\n",
       "      <td>7366</td>\n",
       "      <td>7366</td>\n",
       "    </tr>\n",
       "    <tr>\n",
       "      <th>gender</th>\n",
       "      <td>7654</td>\n",
       "      <td>7654</td>\n",
       "      <td>7654</td>\n",
       "      <td>7654</td>\n",
       "      <td>7654</td>\n",
       "    </tr>\n",
       "    <tr>\n",
       "      <th>not_cyberbullying</th>\n",
       "      <td>6690</td>\n",
       "      <td>6690</td>\n",
       "      <td>6690</td>\n",
       "      <td>6690</td>\n",
       "      <td>6690</td>\n",
       "    </tr>\n",
       "    <tr>\n",
       "      <th>other_cyberbullying</th>\n",
       "      <td>6980</td>\n",
       "      <td>6980</td>\n",
       "      <td>6980</td>\n",
       "      <td>6980</td>\n",
       "      <td>6980</td>\n",
       "    </tr>\n",
       "    <tr>\n",
       "      <th>religion</th>\n",
       "      <td>7976</td>\n",
       "      <td>7976</td>\n",
       "      <td>7976</td>\n",
       "      <td>7976</td>\n",
       "      <td>7976</td>\n",
       "    </tr>\n",
       "  </tbody>\n",
       "</table>\n",
       "</div>"
      ],
      "text/plain": [
       "                     tweet_text  lang  score     y     X\n",
       "cyberbullying_type                                      \n",
       "age                        7946  7946   7946  7946  7946\n",
       "ethnicity                  7366  7366   7366  7366  7366\n",
       "gender                     7654  7654   7654  7654  7654\n",
       "not_cyberbullying          6690  6690   6690  6690  6690\n",
       "other_cyberbullying        6980  6980   6980  6980  6980\n",
       "religion                   7976  7976   7976  7976  7976"
      ]
     },
     "execution_count": 9,
     "metadata": {},
     "output_type": "execute_result"
    }
   ],
   "source": [
    "df_en.groupby('cyberbullying_type').count()"
   ]
  },
  {
   "cell_type": "code",
   "execution_count": 10,
   "id": "ebf91cc6",
   "metadata": {},
   "outputs": [],
   "source": [
    "from sklearn.model_selection import train_test_split\n",
    "\n",
    "X_train, X_test, y_train, y_test = train_test_split(tweets, df_en.y, test_size=0.2, random_state=42)"
   ]
  },
  {
   "cell_type": "code",
   "execution_count": 32,
   "id": "4d7eb8fa",
   "metadata": {},
   "outputs": [],
   "source": [
    "from sklearn.feature_extraction.text import CountVectorizer\n",
    "\n",
    "vectorizer = CountVectorizer(stop_words='english', ngram_range=(1,2))\n",
    "vectorizer.fit(X_train)\n",
    "X_train_bow = vectorizer.transform(X_train)\n",
    "X_test_bow = vectorizer.transform(X_test)"
   ]
  },
  {
   "cell_type": "code",
   "execution_count": null,
   "id": "ec4f9ba4",
   "metadata": {},
   "outputs": [],
   "source": [
    "print(X_train_bow.shape)\n",
    "print(X_test_bow.shape)"
   ]
  },
  {
   "cell_type": "code",
   "execution_count": 34,
   "id": "29b6d11c",
   "metadata": {},
   "outputs": [
    {
     "name": "stdout",
     "output_type": "stream",
     "text": [
      "              precision    recall  f1-score   support\n",
      "\n",
      "           0       0.52      0.49      0.50      1801\n",
      "           1       0.64      0.71      0.67      1389\n",
      "           2       0.73      0.72      0.73      1621\n",
      "           3       0.40      0.41      0.41      1532\n",
      "           4       0.57      0.61      0.59      1464\n",
      "           5       0.75      0.64      0.69      1116\n",
      "\n",
      "    accuracy                           0.59      8923\n",
      "   macro avg       0.60      0.60      0.60      8923\n",
      "weighted avg       0.59      0.59      0.59      8923\n",
      "\n"
     ]
    }
   ],
   "source": [
    "from sklearn.linear_model import LogisticRegression as LR\n",
    "from sklearn.metrics import classification_report \n",
    "\n",
    "log_reg = LR(max_iter=10000, solver = 'saga').fit(X_train_bow, y_train)\n",
    "y_pred = log_reg.predict(X_test_bow)\n",
    "print(classification_report(y_pred, y_test))"
   ]
  },
  {
   "cell_type": "code",
   "execution_count": 35,
   "id": "c10cbc04",
   "metadata": {},
   "outputs": [],
   "source": [
    "from sklearn.feature_extraction.text import TfidfTransformer as tfidf\n",
    "tf_vectorizer = tfidf()\n",
    "tf_vectorizer.fit(X_train_bow)\n",
    "\n",
    "X_train_tfidf = tf_vectorizer.transform(X_train_bow)\n",
    "X_test_tfidf = tf_vectorizer.transform(X_test_bow)"
   ]
  },
  {
   "cell_type": "code",
   "execution_count": 36,
   "id": "927b5b5c",
   "metadata": {},
   "outputs": [
    {
     "name": "stdout",
     "output_type": "stream",
     "text": [
      "              precision    recall  f1-score   support\n",
      "\n",
      "           0       0.48      0.52      0.50      1535\n",
      "           1       0.68      0.73      0.70      1449\n",
      "           2       0.79      0.73      0.76      1757\n",
      "           3       0.34      0.43      0.38      1237\n",
      "           4       0.66      0.62      0.64      1677\n",
      "           5       0.84      0.63      0.72      1268\n",
      "\n",
      "    accuracy                           0.62      8923\n",
      "   macro avg       0.63      0.61      0.62      8923\n",
      "weighted avg       0.64      0.62      0.62      8923\n",
      "\n"
     ]
    }
   ],
   "source": [
    "log_reg_tfidf = LR(max_iter=10000, solver = 'saga').fit(X_train_tfidf, y_train)\n",
    "y_pred_tfidf = log_reg_tfidf.predict(X_test_tfidf)\n",
    "print(classification_report(y_pred_tfidf, y_test))"
   ]
  },
  {
   "cell_type": "code",
   "execution_count": 18,
   "id": "fbab0d80",
   "metadata": {},
   "outputs": [
    {
     "data": {
      "image/png": "[encoded data removed]",
      "text/plain": [
       "<Figure size 3000x1500 with 1 Axes>"
      ]
     },
     "metadata": {
      "needs_background": "light"
     },
     "output_type": "display_data"
    }
   ],
   "source": [
    "plt.rcParams[\"figure.figsize\"] = [10, 5]\n",
    "plt.rcParams[\"figure.dpi\"] = 300\n",
    "\n",
    "x = np.arange(1, 151)\n",
    "y = reducer.explained_variance_ratio_.cumsum()\n",
    "\n",
    "plt.plot(x, y)\n",
    "plt.title(\"Explained Variance LSA\")\n",
    "plt.ylabel(\"Ratio Explained\")\n",
    "plt.xlabel(\"Number of Components\")\n",
    "plt.show()"
   ]
  },
  {
   "cell_type": "code",
   "execution_count": 19,
   "id": "13239421",
   "metadata": {},
   "outputs": [
    {
     "name": "stdout",
     "output_type": "stream",
     "text": [
      "              precision    recall  f1-score   support\n",
      "\n",
      "           0       0.60      0.46      0.52      2210\n",
      "           1       0.59      0.76      0.66      1204\n",
      "           2       0.73      0.77      0.75      1523\n",
      "           3       0.33      0.38      0.36      1374\n",
      "           4       0.55      0.65      0.60      1339\n",
      "           5       0.86      0.64      0.73      1273\n",
      "\n",
      "    accuracy                           0.59      8923\n",
      "   macro avg       0.61      0.61      0.60      8923\n",
      "weighted avg       0.61      0.59      0.59      8923\n",
      "\n"
     ]
    }
   ],
   "source": [
    "X_train_lsa = reducer.transform(X_train_bow)\n",
    "X_test_lsa = reducer.transform(X_test_bow)\n",
    "\n",
    "log_reg_lsa = LR(max_iter=10000, solver = 'saga').fit(X_train_lsa, y_train)\n",
    "y_pred_lsa = log_reg_lsa.predict(X_test_lsa)\n",
    "\n",
    "print(classification_report(y_pred_lsa, y_test))"
   ]
  },
  {
   "cell_type": "code",
   "execution_count": 20,
   "id": "9e33ff89",
   "metadata": {},
   "outputs": [
    {
     "name": "stderr",
     "output_type": "stream",
     "text": [
      "C:\\Users\\Ayush\\.conda\\envs\\nlp\\lib\\site-packages\\umap\\umap_.py:125: UserWarning: A few of your vertices were disconnected from the manifold.  This shouldn't cause problems.\n",
      "Disconnection_distance = 1 has removed 12224 edges.\n",
      "It has only fully disconnected 541 vertices.\n",
      "Use umap.utils.disconnected_vertices() to identify them.\n",
      "  warn(\n"
     ]
    },
    {
     "data": {
      "text/plain": [
       "(35689, 2)"
      ]
     },
     "execution_count": 20,
     "metadata": {},
     "output_type": "execute_result"
    }
   ],
   "source": [
    "import umap\n",
    "embedding = umap.UMAP(n_components=2, metric='hellinger').fit(X_train_bow)\n",
    "embedding.embedding_.shape\n"
   ]
  },
  {
   "cell_type": "code",
   "execution_count": 31,
   "id": "86f745e3",
   "metadata": {},
   "outputs": [
    {
     "name": "stdout",
     "output_type": "stream",
     "text": [
      "              precision    recall  f1-score   support\n",
      "\n",
      "           0       0.51      0.48      0.49      1782\n",
      "           1       0.66      0.75      0.70      1368\n",
      "           2       0.77      0.75      0.76      1652\n",
      "           3       0.34      0.42      0.37      1268\n",
      "           4       0.63      0.65      0.64      1543\n",
      "           5       0.89      0.64      0.74      1310\n",
      "\n",
      "    accuracy                           0.62      8923\n",
      "   macro avg       0.63      0.61      0.62      8923\n",
      "weighted avg       0.63      0.62      0.62      8923\n",
      "\n"
     ]
    }
   ],
   "source": [
    "from sklearn.svm import SVC\n",
    "\n",
    "svc = SVC().fit(X_train_tfidf, y_train)\n",
    "y_pred = svc.predict(X_test_tfidf)\n",
    "\n",
    "print(classification_report(y_pred, y_test))"
   ]
  }
 ],
 "metadata": {
  "kernelspec": {
   "display_name": "Python 3 (ipykernel)",
   "language": "python",
   "name": "python3"
  },
  "language_info": {
   "codemirror_mode": {
    "name": "ipython",
    "version": 3
   },
   "file_extension": ".py",
   "mimetype": "text/x-python",
   "name": "python",
   "nbconvert_exporter": "python",
   "pygments_lexer": "ipython3",
   "version": "3.8.12"
  }
 },
 "nbformat": 4,
 "nbformat_minor": 5
}
