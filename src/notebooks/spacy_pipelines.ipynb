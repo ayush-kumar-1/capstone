{
 "cells": [
  {
   "cell_type": "code",
   "execution_count": 1,
   "id": "a5409c86",
   "metadata": {},
   "outputs": [
    {
     "name": "stderr",
     "output_type": "stream",
     "text": [
      "[nltk_data] Downloading package punkt to\n",
      "[nltk_data]     C:\\Users\\Ayush\\AppData\\Roaming\\nltk_data...\n",
      "[nltk_data]   Package punkt is already up-to-date!\n",
      "[nltk_data] Downloading package stopwords to\n",
      "[nltk_data]     C:\\Users\\Ayush\\AppData\\Roaming\\nltk_data...\n",
      "[nltk_data]   Package stopwords is already up-to-date!\n",
      "[nltk_data] Downloading package omw-1.4 to\n",
      "[nltk_data]     C:\\Users\\Ayush\\AppData\\Roaming\\nltk_data...\n",
      "[nltk_data]   Package omw-1.4 is already up-to-date!\n",
      "[nltk_data] Downloading package wordnet to\n",
      "[nltk_data]     C:\\Users\\Ayush\\AppData\\Roaming\\nltk_data...\n",
      "[nltk_data]   Package wordnet is already up-to-date!\n"
     ]
    }
   ],
   "source": [
    "import pandas as pd \n",
    "import numpy as np \n",
    "import matplotlib.pyplot as plt \n",
    "import spacy \n",
    "\n",
    "import sys; sys.path.insert(0, '../') #adds all the code we've written in src\n",
    "from tqdm.notebook import trange, tqdm\n",
    "from preprocessing import *"
   ]
  },
  {
   "cell_type": "code",
   "execution_count": 2,
   "id": "3c381e58",
   "metadata": {},
   "outputs": [
    {
     "name": "stderr",
     "output_type": "stream",
     "text": [
      "D:\\capstone\\src\\notebooks\\..\\preprocessing.py:90: FutureWarning: The default value of regex will change from True to False in a future version.\n",
      "  return text_arr.str.replace(at_regex, \"\")\n",
      "D:\\capstone\\src\\notebooks\\..\\preprocessing.py:97: FutureWarning: The default value of regex will change from True to False in a future version.\n",
      "  return text_arr.str.replace(special_chars, \"\")\n"
     ]
    },
    {
     "data": {
      "text/html": [
       "<div>\n",
       "<style scoped>\n",
       "    .dataframe tbody tr th:only-of-type {\n",
       "        vertical-align: middle;\n",
       "    }\n",
       "\n",
       "    .dataframe tbody tr th {\n",
       "        vertical-align: top;\n",
       "    }\n",
       "\n",
       "    .dataframe thead th {\n",
       "        text-align: right;\n",
       "    }\n",
       "</style>\n",
       "<table border=\"1\" class=\"dataframe\">\n",
       "  <thead>\n",
       "    <tr style=\"text-align: right;\">\n",
       "      <th></th>\n",
       "      <th>tweet_text</th>\n",
       "      <th>cyberbullying_type</th>\n",
       "      <th>lang</th>\n",
       "      <th>score</th>\n",
       "    </tr>\n",
       "  </thead>\n",
       "  <tbody>\n",
       "    <tr>\n",
       "      <th>0</th>\n",
       "      <td>In other words #katandandre, your food was cra...</td>\n",
       "      <td>not_cyberbullying</td>\n",
       "      <td>en</td>\n",
       "      <td>0.999999</td>\n",
       "    </tr>\n",
       "    <tr>\n",
       "      <th>1</th>\n",
       "      <td>Why is #aussietv so white? #MKR #theblock #ImA...</td>\n",
       "      <td>not_cyberbullying</td>\n",
       "      <td>en</td>\n",
       "      <td>0.999994</td>\n",
       "    </tr>\n",
       "    <tr>\n",
       "      <th>2</th>\n",
       "      <td>@XochitlSuckkks a classy whore? Or more red ve...</td>\n",
       "      <td>not_cyberbullying</td>\n",
       "      <td>en</td>\n",
       "      <td>0.999997</td>\n",
       "    </tr>\n",
       "    <tr>\n",
       "      <th>3</th>\n",
       "      <td>@Jason_Gio meh. :P  thanks for the heads up, b...</td>\n",
       "      <td>not_cyberbullying</td>\n",
       "      <td>en</td>\n",
       "      <td>0.999996</td>\n",
       "    </tr>\n",
       "    <tr>\n",
       "      <th>4</th>\n",
       "      <td>@RudhoeEnglish This is an ISIS account pretend...</td>\n",
       "      <td>not_cyberbullying</td>\n",
       "      <td>en</td>\n",
       "      <td>0.999998</td>\n",
       "    </tr>\n",
       "  </tbody>\n",
       "</table>\n",
       "</div>"
      ],
      "text/plain": [
       "                                          tweet_text cyberbullying_type lang  \\\n",
       "0  In other words #katandandre, your food was cra...  not_cyberbullying   en   \n",
       "1  Why is #aussietv so white? #MKR #theblock #ImA...  not_cyberbullying   en   \n",
       "2  @XochitlSuckkks a classy whore? Or more red ve...  not_cyberbullying   en   \n",
       "3  @Jason_Gio meh. :P  thanks for the heads up, b...  not_cyberbullying   en   \n",
       "4  @RudhoeEnglish This is an ISIS account pretend...  not_cyberbullying   en   \n",
       "\n",
       "      score  \n",
       "0  0.999999  \n",
       "1  0.999994  \n",
       "2  0.999997  \n",
       "3  0.999996  \n",
       "4  0.999998  "
      ]
     },
     "execution_count": 2,
     "metadata": {},
     "output_type": "execute_result"
    }
   ],
   "source": [
    "df = pd.read_csv(\"../../cyberbullying_tweets/tweets_with_lang.csv\", index_col = 0)\n",
    "tweets = df.tweet_text\n",
    "tweets = remove_ats(tweets)\n",
    "tweets = remove_emoji(tweets)\n",
    "tweets = remove_special(tweets)\n",
    "\n",
    "df.head()"
   ]
  },
  {
   "cell_type": "code",
   "execution_count": 4,
   "id": "69c7fbd4",
   "metadata": {},
   "outputs": [],
   "source": [
    "# !python -m spacy download en_core_web_sm\n",
    "from spacy_langdetect import LanguageDetector\n",
    "from spacy.language import Language\n",
    "\n",
    "@Language.factory('language_detector')\n",
    "def language_detector(nlp, name):\n",
    "    return LanguageDetector()\n",
    "\n",
    "nlp = spacy.load(\"en_core_web_sm\", disable = [\"tagger\", \"parser\", \"attribute_ruler\", \"ner\"])\n",
    "nlp.add_pipe('sentencizer')\n",
    "nlp.add_pipe('language_detector', last=True) #2\n",
    "spacy_tokenizer = nlp.tokenizer\n",
    "docs = nlp.pipe(tweets)"
   ]
  },
  {
   "cell_type": "code",
   "execution_count": 6,
   "id": "078dafc6",
   "metadata": {},
   "outputs": [
    {
     "data": {
      "application/vnd.jupyter.widget-view+json": {
       "model_id": "38150ce00cf447ca9edb9b48df2890e8",
       "version_major": 2,
       "version_minor": 0
      },
      "text/plain": [
       "  0%|          | 0/47692 [00:00<?, ?it/s]"
      ]
     },
     "metadata": {},
     "output_type": "display_data"
    }
   ],
   "source": [
    "lang = []\n",
    "score = []\n",
    "\n",
    "for doc in tqdm(docs, total=len(tweets)):\n",
    "    lang.append(doc._.language[\"language\"])\n",
    "    score.append(doc._.language[\"score\"])"
   ]
  },
  {
   "cell_type": "code",
   "execution_count": 9,
   "id": "586a7b82",
   "metadata": {},
   "outputs": [],
   "source": [
    "df[\"lang\"] = lang\n",
    "df[\"score\"] = score"
   ]
  },
  {
   "cell_type": "code",
   "execution_count": 11,
   "id": "a0f01390",
   "metadata": {},
   "outputs": [],
   "source": [
    "df.to_csv(\"../../cyberbullying_tweets/tweets_with_lang.csv\")"
   ]
  },
  {
   "cell_type": "code",
   "execution_count": 3,
   "id": "a5050f25",
   "metadata": {},
   "outputs": [
    {
     "data": {
      "text/html": [
       "<div>\n",
       "<style scoped>\n",
       "    .dataframe tbody tr th:only-of-type {\n",
       "        vertical-align: middle;\n",
       "    }\n",
       "\n",
       "    .dataframe tbody tr th {\n",
       "        vertical-align: top;\n",
       "    }\n",
       "\n",
       "    .dataframe thead th {\n",
       "        text-align: right;\n",
       "    }\n",
       "</style>\n",
       "<table border=\"1\" class=\"dataframe\">\n",
       "  <thead>\n",
       "    <tr style=\"text-align: right;\">\n",
       "      <th></th>\n",
       "      <th>tweet_text</th>\n",
       "      <th>cyberbullying_type</th>\n",
       "      <th>lang</th>\n",
       "      <th>score</th>\n",
       "    </tr>\n",
       "  </thead>\n",
       "  <tbody>\n",
       "    <tr>\n",
       "      <th>0</th>\n",
       "      <td>In other words #katandandre, your food was cra...</td>\n",
       "      <td>not_cyberbullying</td>\n",
       "      <td>en</td>\n",
       "      <td>0.999999</td>\n",
       "    </tr>\n",
       "    <tr>\n",
       "      <th>1</th>\n",
       "      <td>Why is #aussietv so white? #MKR #theblock #ImA...</td>\n",
       "      <td>not_cyberbullying</td>\n",
       "      <td>en</td>\n",
       "      <td>0.999994</td>\n",
       "    </tr>\n",
       "    <tr>\n",
       "      <th>2</th>\n",
       "      <td>@XochitlSuckkks a classy whore? Or more red ve...</td>\n",
       "      <td>not_cyberbullying</td>\n",
       "      <td>en</td>\n",
       "      <td>0.999997</td>\n",
       "    </tr>\n",
       "    <tr>\n",
       "      <th>3</th>\n",
       "      <td>@Jason_Gio meh. :P  thanks for the heads up, b...</td>\n",
       "      <td>not_cyberbullying</td>\n",
       "      <td>en</td>\n",
       "      <td>0.999996</td>\n",
       "    </tr>\n",
       "    <tr>\n",
       "      <th>4</th>\n",
       "      <td>@RudhoeEnglish This is an ISIS account pretend...</td>\n",
       "      <td>not_cyberbullying</td>\n",
       "      <td>en</td>\n",
       "      <td>0.999998</td>\n",
       "    </tr>\n",
       "    <tr>\n",
       "      <th>...</th>\n",
       "      <td>...</td>\n",
       "      <td>...</td>\n",
       "      <td>...</td>\n",
       "      <td>...</td>\n",
       "    </tr>\n",
       "    <tr>\n",
       "      <th>44615</th>\n",
       "      <td>Black ppl aren't expected to do anything, depe...</td>\n",
       "      <td>ethnicity</td>\n",
       "      <td>en</td>\n",
       "      <td>0.999998</td>\n",
       "    </tr>\n",
       "    <tr>\n",
       "      <th>44616</th>\n",
       "      <td>Turner did not withhold his disappointment. Tu...</td>\n",
       "      <td>ethnicity</td>\n",
       "      <td>en</td>\n",
       "      <td>0.999995</td>\n",
       "    </tr>\n",
       "    <tr>\n",
       "      <th>44617</th>\n",
       "      <td>I swear to God. This dumb nigger bitch. I have...</td>\n",
       "      <td>ethnicity</td>\n",
       "      <td>en</td>\n",
       "      <td>0.999995</td>\n",
       "    </tr>\n",
       "    <tr>\n",
       "      <th>44618</th>\n",
       "      <td>Yea fuck you RT @therealexel: IF YOURE A NIGGE...</td>\n",
       "      <td>ethnicity</td>\n",
       "      <td>en</td>\n",
       "      <td>0.857141</td>\n",
       "    </tr>\n",
       "    <tr>\n",
       "      <th>44619</th>\n",
       "      <td>Bro. U gotta chill RT @CHILLShrammy: Dog FUCK ...</td>\n",
       "      <td>ethnicity</td>\n",
       "      <td>en</td>\n",
       "      <td>1.000000</td>\n",
       "    </tr>\n",
       "  </tbody>\n",
       "</table>\n",
       "<p>44620 rows × 4 columns</p>\n",
       "</div>"
      ],
      "text/plain": [
       "                                              tweet_text cyberbullying_type  \\\n",
       "0      In other words #katandandre, your food was cra...  not_cyberbullying   \n",
       "1      Why is #aussietv so white? #MKR #theblock #ImA...  not_cyberbullying   \n",
       "2      @XochitlSuckkks a classy whore? Or more red ve...  not_cyberbullying   \n",
       "3      @Jason_Gio meh. :P  thanks for the heads up, b...  not_cyberbullying   \n",
       "4      @RudhoeEnglish This is an ISIS account pretend...  not_cyberbullying   \n",
       "...                                                  ...                ...   \n",
       "44615  Black ppl aren't expected to do anything, depe...          ethnicity   \n",
       "44616  Turner did not withhold his disappointment. Tu...          ethnicity   \n",
       "44617  I swear to God. This dumb nigger bitch. I have...          ethnicity   \n",
       "44618  Yea fuck you RT @therealexel: IF YOURE A NIGGE...          ethnicity   \n",
       "44619  Bro. U gotta chill RT @CHILLShrammy: Dog FUCK ...          ethnicity   \n",
       "\n",
       "      lang     score  \n",
       "0       en  0.999999  \n",
       "1       en  0.999994  \n",
       "2       en  0.999997  \n",
       "3       en  0.999996  \n",
       "4       en  0.999998  \n",
       "...    ...       ...  \n",
       "44615   en  0.999998  \n",
       "44616   en  0.999995  \n",
       "44617   en  0.999995  \n",
       "44618   en  0.857141  \n",
       "44619   en  1.000000  \n",
       "\n",
       "[44620 rows x 4 columns]"
      ]
     },
     "execution_count": 3,
     "metadata": {},
     "output_type": "execute_result"
    }
   ],
   "source": [
    "df_en = df[df.lang == 'en'].copy().reset_index(drop = True)\n",
    "df_en"
   ]
  },
  {
   "cell_type": "code",
   "execution_count": 4,
   "id": "d2697fb0",
   "metadata": {},
   "outputs": [
    {
     "name": "stderr",
     "output_type": "stream",
     "text": [
      "D:\\capstone\\src\\notebooks\\..\\preprocessing.py:90: FutureWarning: The default value of regex will change from True to False in a future version.\n",
      "  return text_arr.str.replace(at_regex, \"\")\n",
      "D:\\capstone\\src\\notebooks\\..\\preprocessing.py:97: FutureWarning: The default value of regex will change from True to False in a future version.\n",
      "  return text_arr.str.replace(special_chars, \"\")\n"
     ]
    }
   ],
   "source": [
    "tweets = df_en.tweet_text\n",
    "tweets = remove_ats(tweets)\n",
    "tweets = remove_emoji(tweets)\n",
    "tweets = remove_special(tweets)\n",
    "tweets = to_lowercase(tweets)\n",
    "tweets = expand_contractions(tweets)\n",
    "#tweets = remove_stopwords(tweets)\n",
    "tweets = stem_series(tweets)\n",
    "# tweets = lemmatize_series(tweets)"
   ]
  },
  {
   "cell_type": "code",
   "execution_count": 5,
   "id": "28d5343f",
   "metadata": {},
   "outputs": [
    {
     "data": {
      "text/html": [
       "<div>\n",
       "<style scoped>\n",
       "    .dataframe tbody tr th:only-of-type {\n",
       "        vertical-align: middle;\n",
       "    }\n",
       "\n",
       "    .dataframe tbody tr th {\n",
       "        vertical-align: top;\n",
       "    }\n",
       "\n",
       "    .dataframe thead th {\n",
       "        text-align: right;\n",
       "    }\n",
       "</style>\n",
       "<table border=\"1\" class=\"dataframe\">\n",
       "  <thead>\n",
       "    <tr style=\"text-align: right;\">\n",
       "      <th></th>\n",
       "      <th>tweet_text</th>\n",
       "      <th>cyberbullying_type</th>\n",
       "      <th>lang</th>\n",
       "      <th>score</th>\n",
       "      <th>y</th>\n",
       "      <th>X</th>\n",
       "    </tr>\n",
       "  </thead>\n",
       "  <tbody>\n",
       "    <tr>\n",
       "      <th>0</th>\n",
       "      <td>In other words #katandandre, your food was cra...</td>\n",
       "      <td>not_cyberbullying</td>\n",
       "      <td>en</td>\n",
       "      <td>0.999999</td>\n",
       "      <td>0</td>\n",
       "      <td>in other word katandandr your food wa crapilic...</td>\n",
       "    </tr>\n",
       "    <tr>\n",
       "      <th>1</th>\n",
       "      <td>Why is #aussietv so white? #MKR #theblock #ImA...</td>\n",
       "      <td>not_cyberbullying</td>\n",
       "      <td>en</td>\n",
       "      <td>0.999994</td>\n",
       "      <td>0</td>\n",
       "      <td>whi is aussietv so white mkr theblock imaceleb...</td>\n",
       "    </tr>\n",
       "    <tr>\n",
       "      <th>2</th>\n",
       "      <td>@XochitlSuckkks a classy whore? Or more red ve...</td>\n",
       "      <td>not_cyberbullying</td>\n",
       "      <td>en</td>\n",
       "      <td>0.999997</td>\n",
       "      <td>0</td>\n",
       "      <td>a classi whore or more red velvet cupcak</td>\n",
       "    </tr>\n",
       "    <tr>\n",
       "      <th>3</th>\n",
       "      <td>@Jason_Gio meh. :P  thanks for the heads up, b...</td>\n",
       "      <td>not_cyberbullying</td>\n",
       "      <td>en</td>\n",
       "      <td>0.999996</td>\n",
       "      <td>0</td>\n",
       "      <td>gio meh p thank for the head up but not too co...</td>\n",
       "    </tr>\n",
       "    <tr>\n",
       "      <th>4</th>\n",
       "      <td>@RudhoeEnglish This is an ISIS account pretend...</td>\n",
       "      <td>not_cyberbullying</td>\n",
       "      <td>en</td>\n",
       "      <td>0.999998</td>\n",
       "      <td>0</td>\n",
       "      <td>thi is an isi account pretend to be a kurdish ...</td>\n",
       "    </tr>\n",
       "    <tr>\n",
       "      <th>...</th>\n",
       "      <td>...</td>\n",
       "      <td>...</td>\n",
       "      <td>...</td>\n",
       "      <td>...</td>\n",
       "      <td>...</td>\n",
       "      <td>...</td>\n",
       "    </tr>\n",
       "    <tr>\n",
       "      <th>44615</th>\n",
       "      <td>Black ppl aren't expected to do anything, depe...</td>\n",
       "      <td>ethnicity</td>\n",
       "      <td>en</td>\n",
       "      <td>0.999998</td>\n",
       "      <td>5</td>\n",
       "      <td>black ppl are not expect to do anyth depend on...</td>\n",
       "    </tr>\n",
       "    <tr>\n",
       "      <th>44616</th>\n",
       "      <td>Turner did not withhold his disappointment. Tu...</td>\n",
       "      <td>ethnicity</td>\n",
       "      <td>en</td>\n",
       "      <td>0.999995</td>\n",
       "      <td>5</td>\n",
       "      <td>turner did not withhold hi disappoint turner c...</td>\n",
       "    </tr>\n",
       "    <tr>\n",
       "      <th>44617</th>\n",
       "      <td>I swear to God. This dumb nigger bitch. I have...</td>\n",
       "      <td>ethnicity</td>\n",
       "      <td>en</td>\n",
       "      <td>0.999995</td>\n",
       "      <td>5</td>\n",
       "      <td>i swear to god thi dumb nigger bitch i have go...</td>\n",
       "    </tr>\n",
       "    <tr>\n",
       "      <th>44618</th>\n",
       "      <td>Yea fuck you RT @therealexel: IF YOURE A NIGGE...</td>\n",
       "      <td>ethnicity</td>\n",
       "      <td>en</td>\n",
       "      <td>0.857141</td>\n",
       "      <td>5</td>\n",
       "      <td>yea fuck you rt if you are a nigger fuck unfol...</td>\n",
       "    </tr>\n",
       "    <tr>\n",
       "      <th>44619</th>\n",
       "      <td>Bro. U gotta chill RT @CHILLShrammy: Dog FUCK ...</td>\n",
       "      <td>ethnicity</td>\n",
       "      <td>en</td>\n",
       "      <td>1.000000</td>\n",
       "      <td>5</td>\n",
       "      <td>bro you got to chill rt dog fuck kp that dumb ...</td>\n",
       "    </tr>\n",
       "  </tbody>\n",
       "</table>\n",
       "<p>44620 rows × 6 columns</p>\n",
       "</div>"
      ],
      "text/plain": [
       "                                              tweet_text cyberbullying_type  \\\n",
       "0      In other words #katandandre, your food was cra...  not_cyberbullying   \n",
       "1      Why is #aussietv so white? #MKR #theblock #ImA...  not_cyberbullying   \n",
       "2      @XochitlSuckkks a classy whore? Or more red ve...  not_cyberbullying   \n",
       "3      @Jason_Gio meh. :P  thanks for the heads up, b...  not_cyberbullying   \n",
       "4      @RudhoeEnglish This is an ISIS account pretend...  not_cyberbullying   \n",
       "...                                                  ...                ...   \n",
       "44615  Black ppl aren't expected to do anything, depe...          ethnicity   \n",
       "44616  Turner did not withhold his disappointment. Tu...          ethnicity   \n",
       "44617  I swear to God. This dumb nigger bitch. I have...          ethnicity   \n",
       "44618  Yea fuck you RT @therealexel: IF YOURE A NIGGE...          ethnicity   \n",
       "44619  Bro. U gotta chill RT @CHILLShrammy: Dog FUCK ...          ethnicity   \n",
       "\n",
       "      lang     score  y                                                  X  \n",
       "0       en  0.999999  0  in other word katandandr your food wa crapilic...  \n",
       "1       en  0.999994  0  whi is aussietv so white mkr theblock imaceleb...  \n",
       "2       en  0.999997  0           a classi whore or more red velvet cupcak  \n",
       "3       en  0.999996  0  gio meh p thank for the head up but not too co...  \n",
       "4       en  0.999998  0  thi is an isi account pretend to be a kurdish ...  \n",
       "...    ...       ... ..                                                ...  \n",
       "44615   en  0.999998  5  black ppl are not expect to do anyth depend on...  \n",
       "44616   en  0.999995  5  turner did not withhold hi disappoint turner c...  \n",
       "44617   en  0.999995  5  i swear to god thi dumb nigger bitch i have go...  \n",
       "44618   en  0.857141  5  yea fuck you rt if you are a nigger fuck unfol...  \n",
       "44619   en  1.000000  5  bro you got to chill rt dog fuck kp that dumb ...  \n",
       "\n",
       "[44620 rows x 6 columns]"
      ]
     },
     "execution_count": 5,
     "metadata": {},
     "output_type": "execute_result"
    }
   ],
   "source": [
    "cat_dict = {}\n",
    "for i, type in enumerate(df.cyberbullying_type.unique()):\n",
    "    cat_dict[type] = i \n",
    "    \n",
    "df_en[\"y\"] = df_en.cyberbullying_type.map(cat_dict)\n",
    "df_en[\"X\"] = tweets\n",
    "df_en"
   ]
  },
  {
   "cell_type": "code",
   "execution_count": 7,
   "id": "e0c2f754",
   "metadata": {},
   "outputs": [
    {
     "data": {
      "text/html": [
       "<div>\n",
       "<style scoped>\n",
       "    .dataframe tbody tr th:only-of-type {\n",
       "        vertical-align: middle;\n",
       "    }\n",
       "\n",
       "    .dataframe tbody tr th {\n",
       "        vertical-align: top;\n",
       "    }\n",
       "\n",
       "    .dataframe thead th {\n",
       "        text-align: right;\n",
       "    }\n",
       "</style>\n",
       "<table border=\"1\" class=\"dataframe\">\n",
       "  <thead>\n",
       "    <tr style=\"text-align: right;\">\n",
       "      <th></th>\n",
       "      <th>Unnamed: 0</th>\n",
       "      <th>tweet_text</th>\n",
       "      <th>lang</th>\n",
       "      <th>score</th>\n",
       "      <th>y</th>\n",
       "      <th>X</th>\n",
       "    </tr>\n",
       "    <tr>\n",
       "      <th>cyberbullying_type</th>\n",
       "      <th></th>\n",
       "      <th></th>\n",
       "      <th></th>\n",
       "      <th></th>\n",
       "      <th></th>\n",
       "      <th></th>\n",
       "    </tr>\n",
       "  </thead>\n",
       "  <tbody>\n",
       "    <tr>\n",
       "      <th>age</th>\n",
       "      <td>7944</td>\n",
       "      <td>7944</td>\n",
       "      <td>7944</td>\n",
       "      <td>7944</td>\n",
       "      <td>7944</td>\n",
       "      <td>7944</td>\n",
       "    </tr>\n",
       "    <tr>\n",
       "      <th>ethnicity</th>\n",
       "      <td>7381</td>\n",
       "      <td>7381</td>\n",
       "      <td>7381</td>\n",
       "      <td>7381</td>\n",
       "      <td>7381</td>\n",
       "      <td>7381</td>\n",
       "    </tr>\n",
       "    <tr>\n",
       "      <th>gender</th>\n",
       "      <td>7643</td>\n",
       "      <td>7643</td>\n",
       "      <td>7643</td>\n",
       "      <td>7643</td>\n",
       "      <td>7643</td>\n",
       "      <td>7643</td>\n",
       "    </tr>\n",
       "    <tr>\n",
       "      <th>not_cyberbullying</th>\n",
       "      <td>6697</td>\n",
       "      <td>6697</td>\n",
       "      <td>6697</td>\n",
       "      <td>6697</td>\n",
       "      <td>6697</td>\n",
       "      <td>6697</td>\n",
       "    </tr>\n",
       "    <tr>\n",
       "      <th>other_cyberbullying</th>\n",
       "      <td>6979</td>\n",
       "      <td>6979</td>\n",
       "      <td>6979</td>\n",
       "      <td>6979</td>\n",
       "      <td>6979</td>\n",
       "      <td>6979</td>\n",
       "    </tr>\n",
       "    <tr>\n",
       "      <th>religion</th>\n",
       "      <td>7976</td>\n",
       "      <td>7976</td>\n",
       "      <td>7976</td>\n",
       "      <td>7976</td>\n",
       "      <td>7976</td>\n",
       "      <td>7976</td>\n",
       "    </tr>\n",
       "  </tbody>\n",
       "</table>\n",
       "</div>"
      ],
      "text/plain": [
       "                     Unnamed: 0  tweet_text  lang  score     y     X\n",
       "cyberbullying_type                                                  \n",
       "age                        7944        7944  7944   7944  7944  7944\n",
       "ethnicity                  7381        7381  7381   7381  7381  7381\n",
       "gender                     7643        7643  7643   7643  7643  7643\n",
       "not_cyberbullying          6697        6697  6697   6697  6697  6697\n",
       "other_cyberbullying        6979        6979  6979   6979  6979  6979\n",
       "religion                   7976        7976  7976   7976  7976  7976"
      ]
     },
     "execution_count": 7,
     "metadata": {},
     "output_type": "execute_result"
    }
   ],
   "source": [
    "df_en.groupby('cyberbullying_type').count()"
   ]
  },
  {
   "cell_type": "code",
   "execution_count": 17,
   "id": "0000fdc4",
   "metadata": {},
   "outputs": [
    {
     "data": {
      "text/plain": [
       "[Hi, I, am, ayush]"
      ]
     },
     "execution_count": 17,
     "metadata": {},
     "output_type": "execute_result"
    }
   ],
   "source": [
    "spacy_tokenizer = nlp.tokenizer"
   ]
  },
  {
   "cell_type": "code",
   "execution_count": 6,
   "id": "ebf91cc6",
   "metadata": {},
   "outputs": [],
   "source": [
    "from sklearn.model_selection import train_test_split\n",
    "\n",
    "X_train, X_test, y_train, y_test = train_test_split(tweets, df_en.y, test_size=0.2, random_state=42)"
   ]
  },
  {
   "cell_type": "code",
   "execution_count": 7,
   "id": "4d7eb8fa",
   "metadata": {},
   "outputs": [],
   "source": [
    "from sklearn.feature_extraction.text import CountVectorizer\n",
    "\n",
    "vectorizer = CountVectorizer(ngram_range=(1,2))\n",
    "vectorizer.fit(X_train)\n",
    "X_train_bow = vectorizer.transform(X_train)\n",
    "X_test_bow = vectorizer.transform(X_test)"
   ]
  },
  {
   "cell_type": "code",
   "execution_count": 8,
   "id": "ec4f9ba4",
   "metadata": {},
   "outputs": [
    {
     "name": "stdout",
     "output_type": "stream",
     "text": [
      "(35696, 310983)\n",
      "(8924, 310983)\n"
     ]
    }
   ],
   "source": [
    "print(X_train_bow.shape)\n",
    "print(X_test_bow.shape)"
   ]
  },
  {
   "cell_type": "code",
   "execution_count": 9,
   "id": "29b6d11c",
   "metadata": {},
   "outputs": [
    {
     "name": "stdout",
     "output_type": "stream",
     "text": [
      "              precision    recall  f1-score   support\n",
      "\n",
      "           0       0.49      0.56      0.52      1237\n",
      "           1       0.83      0.89      0.86      1417\n",
      "           2       0.94      0.95      0.95      1573\n",
      "           3       0.67      0.55      0.60      1664\n",
      "           4       0.96      0.96      0.96      1536\n",
      "           5       0.97      0.98      0.98      1497\n",
      "\n",
      "    accuracy                           0.82      8924\n",
      "   macro avg       0.81      0.82      0.81      8924\n",
      "weighted avg       0.82      0.82      0.82      8924\n",
      "\n"
     ]
    }
   ],
   "source": [
    "from sklearn.linear_model import LogisticRegression as LR\n",
    "from sklearn.metrics import classification_report \n",
    "\n",
    "log_reg = LR(max_iter=10000, solver = 'saga').fit(X_train_bow, y_train)\n",
    "y_pred = log_reg.predict(X_test_bow)\n",
    "print(classification_report(y_pred, y_test))"
   ]
  },
  {
   "cell_type": "code",
   "execution_count": 11,
   "id": "c10cbc04",
   "metadata": {},
   "outputs": [],
   "source": [
    "from sklearn.feature_extraction.text import TfidfTransformer as tfidf\n",
    "tf_vectorizer = tfidf()\n",
    "tf_vectorizer.fit(X_train_bow)\n",
    "\n",
    "X_train_tfidf = tf_vectorizer.transform(X_train_bow)\n",
    "X_test_tfidf = tf_vectorizer.transform(X_test_bow)"
   ]
  },
  {
   "cell_type": "code",
   "execution_count": 12,
   "id": "927b5b5c",
   "metadata": {},
   "outputs": [
    {
     "name": "stdout",
     "output_type": "stream",
     "text": [
      "              precision    recall  f1-score   support\n",
      "\n",
      "           0       0.50      0.59      0.54      1196\n",
      "           1       0.84      0.90      0.87      1413\n",
      "           2       0.95      0.93      0.94      1615\n",
      "           3       0.68      0.58      0.62      1597\n",
      "           4       0.97      0.95      0.96      1579\n",
      "           5       0.98      0.97      0.98      1524\n",
      "\n",
      "    accuracy                           0.83      8924\n",
      "   macro avg       0.82      0.82      0.82      8924\n",
      "weighted avg       0.83      0.83      0.83      8924\n",
      "\n"
     ]
    }
   ],
   "source": [
    "log_reg_tfidf = LR(max_iter=10000, solver = 'saga').fit(X_train_tfidf, y_train)\n",
    "y_pred_tfidf = log_reg_tfidf.predict(X_test_tfidf)\n",
    "print(classification_report(y_pred_tfidf, y_test))"
   ]
  },
  {
   "cell_type": "code",
   "execution_count": 15,
   "id": "e2402158",
   "metadata": {},
   "outputs": [],
   "source": [
    "from sklearn.decomposition import TruncatedSVD\n",
    "reducer = TruncatedSVD(n_components=500).fit(X_train_tfidf)"
   ]
  },
  {
   "cell_type": "code",
   "execution_count": 17,
   "id": "fbab0d80",
   "metadata": {},
   "outputs": [
    {
     "data": {
      "image/png": "[encoded data removed]",
      "text/plain": [
       "<Figure size 3000x1500 with 1 Axes>"
      ]
     },
     "metadata": {
      "needs_background": "light"
     },
     "output_type": "display_data"
    }
   ],
   "source": [
    "plt.rcParams[\"figure.figsize\"] = [10, 5]\n",
    "plt.rcParams[\"figure.dpi\"] = 300\n",
    "\n",
    "x = np.arange(1, 501)\n",
    "y = reducer.explained_variance_ratio_.cumsum()\n",
    "\n",
    "plt.plot(x, y)\n",
    "plt.title(\"Explained Variance LSA\")\n",
    "plt.ylabel(\"Ratio Explained\")\n",
    "plt.xlabel(\"Number of Components\")\n",
    "plt.show()"
   ]
  },
  {
   "cell_type": "code",
   "execution_count": 18,
   "id": "13239421",
   "metadata": {},
   "outputs": [
    {
     "name": "stdout",
     "output_type": "stream",
     "text": [
      "              precision    recall  f1-score   support\n",
      "\n",
      "           0       0.48      0.58      0.52      1150\n",
      "           1       0.82      0.89      0.85      1411\n",
      "           2       0.94      0.93      0.93      1603\n",
      "           3       0.68      0.57      0.62      1647\n",
      "           4       0.97      0.95      0.96      1582\n",
      "           5       0.98      0.97      0.98      1531\n",
      "\n",
      "    accuracy                           0.82      8924\n",
      "   macro avg       0.81      0.81      0.81      8924\n",
      "weighted avg       0.83      0.82      0.82      8924\n",
      "\n"
     ]
    }
   ],
   "source": [
    "X_train_lsa = reducer.transform(X_train_tfidf)\n",
    "X_test_lsa = reducer.transform(X_test_tfidf)\n",
    "\n",
    "log_reg_lsa = LR(max_iter=10000, solver = 'saga').fit(X_train_lsa, y_train)\n",
    "y_pred_lsa = log_reg_lsa.predict(X_test_lsa)\n",
    "\n",
    "print(classification_report(y_pred_lsa, y_test))"
   ]
  },
  {
   "cell_type": "code",
   "execution_count": 20,
   "id": "9e33ff89",
   "metadata": {},
   "outputs": [
    {
     "name": "stderr",
     "output_type": "stream",
     "text": [
      "C:\\Users\\Ayush\\.conda\\envs\\nlp\\lib\\site-packages\\umap\\umap_.py:125: UserWarning: A few of your vertices were disconnected from the manifold.  This shouldn't cause problems.\n",
      "Disconnection_distance = 1 has removed 12224 edges.\n",
      "It has only fully disconnected 541 vertices.\n",
      "Use umap.utils.disconnected_vertices() to identify them.\n",
      "  warn(\n"
     ]
    },
    {
     "data": {
      "text/plain": [
       "(35689, 2)"
      ]
     },
     "execution_count": 20,
     "metadata": {},
     "output_type": "execute_result"
    }
   ],
   "source": [
    "import umap\n",
    "embedding = umap.UMAP(n_components=2, metric='hellinger').fit(X_train_bow)\n",
    "embedding.embedding_.shape\n"
   ]
  },
  {
   "cell_type": "markdown",
   "id": "b7805385",
   "metadata": {},
   "source": [
    "## No Preprocessing LR"
   ]
  },
  {
   "cell_type": "code",
   "execution_count": 19,
   "id": "ccb5089e",
   "metadata": {},
   "outputs": [
    {
     "name": "stdout",
     "output_type": "stream",
     "text": [
      "              precision    recall  f1-score   support\n",
      "\n",
      "           0       0.55      0.60      0.57      1288\n",
      "           1       0.86      0.90      0.88      1445\n",
      "           2       0.95      0.96      0.96      1562\n",
      "           3       0.67      0.58      0.63      1573\n",
      "           4       0.98      0.98      0.98      1543\n",
      "           5       0.98      0.98      0.98      1513\n",
      "\n",
      "    accuracy                           0.84      8924\n",
      "   macro avg       0.83      0.83      0.83      8924\n",
      "weighted avg       0.84      0.84      0.84      8924\n",
      "\n",
      "              precision    recall  f1-score   support\n",
      "\n",
      "           0       0.54      0.64      0.58      1182\n",
      "           1       0.86      0.91      0.88      1429\n",
      "           2       0.95      0.95      0.95      1587\n",
      "           3       0.70      0.60      0.65      1606\n",
      "           4       0.98      0.95      0.96      1591\n",
      "           5       0.98      0.97      0.98      1529\n",
      "\n",
      "    accuracy                           0.84      8924\n",
      "   macro avg       0.83      0.84      0.83      8924\n",
      "weighted avg       0.85      0.84      0.84      8924\n",
      "\n"
     ]
    }
   ],
   "source": [
    "X_train, X_test, y_train, y_test = train_test_split(df_en.tweet_text, df_en.y, test_size=0.2, random_state=42)\n",
    "\n",
    "vectorizer = CountVectorizer(stop_words = 'english', ngram_range=(1,1))\n",
    "vectorizer.fit(X_train)\n",
    "X_train_bow = vectorizer.transform(X_train)\n",
    "X_test_bow = vectorizer.transform(X_test)\n",
    "\n",
    "log_reg = LR(max_iter=10000, solver = 'saga').fit(X_train_bow, y_train)\n",
    "y_pred = log_reg.predict(X_test_bow)\n",
    "print(classification_report(y_pred, y_test))\n",
    "\n",
    "tf_vectorizer = tfidf()\n",
    "tf_vectorizer.fit(X_train_bow)\n",
    "\n",
    "X_train_tfidf = tf_vectorizer.transform(X_train_bow)\n",
    "X_test_tfidf = tf_vectorizer.transform(X_test_bow)\n",
    "\n",
    "log_reg_tfidf = LR(max_iter=10000, solver = 'saga').fit(X_train_tfidf, y_train)\n",
    "y_pred_tfidf = log_reg_tfidf.predict(X_test_tfidf)\n",
    "\n",
    "print(classification_report(y_pred_tfidf, y_test))"
   ]
  },
  {
   "cell_type": "code",
   "execution_count": 20,
   "id": "1cb9e78b",
   "metadata": {},
   "outputs": [
    {
     "name": "stdout",
     "output_type": "stream",
     "text": [
      "              precision    recall  f1-score   support\n",
      "\n",
      "           0       0.50      0.58      0.53      1205\n",
      "           1       0.83      0.90      0.87      1403\n",
      "           2       0.94      0.96      0.95      1562\n",
      "           3       0.69      0.56      0.62      1696\n",
      "           4       0.97      0.96      0.96      1553\n",
      "           5       0.97      0.98      0.98      1505\n",
      "\n",
      "    accuracy                           0.83      8924\n",
      "   macro avg       0.82      0.82      0.82      8924\n",
      "weighted avg       0.83      0.83      0.82      8924\n",
      "\n",
      "              precision    recall  f1-score   support\n",
      "\n",
      "           0       0.51      0.59      0.55      1201\n",
      "           1       0.83      0.91      0.87      1382\n",
      "           2       0.95      0.94      0.94      1602\n",
      "           3       0.68      0.57      0.62      1639\n",
      "           4       0.97      0.94      0.96      1582\n",
      "           5       0.98      0.97      0.97      1518\n",
      "\n",
      "    accuracy                           0.83      8924\n",
      "   macro avg       0.82      0.82      0.82      8924\n",
      "weighted avg       0.83      0.83      0.83      8924\n",
      "\n"
     ]
    }
   ],
   "source": [
    "X_train, X_test, y_train, y_test = train_test_split(tweets, df_en.y, test_size=0.2, random_state=42)\n",
    "vectorizer = CountVectorizer(stop_words='english', ngram_range=(1,1))\n",
    "vectorizer.fit(X_train)\n",
    "\n",
    "X_train_bow = vectorizer.transform(X_train)\n",
    "X_test_bow = vectorizer.transform(X_test)\n",
    "\n",
    "log_reg = LR(max_iter=10000, solver = 'saga').fit(X_train_bow, y_train)\n",
    "y_pred = log_reg.predict(X_test_bow)\n",
    "print(classification_report(y_pred, y_test))\n",
    "\n",
    "tf_vectorizer = tfidf()\n",
    "tf_vectorizer.fit(X_train_bow)\n",
    "\n",
    "X_train_tfidf = tf_vectorizer.transform(X_train_bow)\n",
    "X_test_tfidf = tf_vectorizer.transform(X_test_bow)\n",
    "\n",
    "log_reg_tfidf = LR(max_iter=10000, solver = 'saga').fit(X_train_tfidf, y_train)\n",
    "y_pred_tfidf = log_reg_tfidf.predict(X_test_tfidf)\n",
    "\n",
    "print(classification_report(y_pred_tfidf, y_test))"
   ]
  },
  {
   "cell_type": "code",
   "execution_count": 12,
   "id": "581f64ad",
   "metadata": {},
   "outputs": [
    {
     "name": "stdout",
     "output_type": "stream",
     "text": [
      "              precision    recall  f1-score   support\n",
      "\n",
      "           0       0.50      0.58      0.53      1205\n",
      "           1       0.83      0.90      0.87      1403\n",
      "           2       0.94      0.96      0.95      1562\n",
      "           3       0.69      0.56      0.62      1697\n",
      "           4       0.97      0.96      0.97      1552\n",
      "           5       0.97      0.98      0.98      1505\n",
      "\n",
      "    accuracy                           0.83      8924\n",
      "   macro avg       0.82      0.82      0.82      8924\n",
      "weighted avg       0.83      0.83      0.82      8924\n",
      "\n",
      "              precision    recall  f1-score   support\n",
      "\n",
      "           0       0.49      0.59      0.53      1171\n",
      "           1       0.84      0.89      0.86      1428\n",
      "           2       0.95      0.94      0.95      1597\n",
      "           3       0.69      0.56      0.62      1661\n",
      "           4       0.96      0.95      0.96      1561\n",
      "           5       0.97      0.97      0.97      1506\n",
      "\n",
      "    accuracy                           0.82      8924\n",
      "   macro avg       0.82      0.82      0.82      8924\n",
      "weighted avg       0.83      0.82      0.82      8924\n",
      "\n"
     ]
    }
   ],
   "source": [
    "from sklearn.preprocessing import MaxAbsScaler\n",
    "\n",
    "X_train, X_test, y_train, y_test = train_test_split(tweets, df_en.y, test_size=0.2, random_state=42)\n",
    "vectorizer = CountVectorizer(stop_words='english', ngram_range=(1,1))\n",
    "vectorizer.fit(X_train)\n",
    "\n",
    "X_train_bow = vectorizer.transform(X_train)\n",
    "X_test_bow = vectorizer.transform(X_test)\n",
    "\n",
    "log_reg = LR(max_iter=10000, solver = 'saga').fit(X_train_bow, y_train)\n",
    "y_pred = log_reg.predict(X_test_bow)\n",
    "print(classification_report(y_pred, y_test))\n",
    "\n",
    "tf_vectorizer = tfidf()\n",
    "tf_vectorizer.fit(X_train_bow)\n",
    "\n",
    "X_train_tfidf = tf_vectorizer.transform(X_train_bow)\n",
    "X_test_tfidf = tf_vectorizer.transform(X_test_bow)\n",
    "\n",
    "max_scaler = MaxAbsScaler()\n",
    "max_scaler.fit(X_train_tfidf)\n",
    "X_train_tfidf = max_scaler.transform(X_train_tfidf)\n",
    "X_test_tfidf = max_scaler.transform(X_test_tfidf)\n",
    "\n",
    "log_reg_tfidf = LR(max_iter=10000, solver = 'saga').fit(X_train_tfidf, y_train)\n",
    "y_pred_tfidf = log_reg_tfidf.predict(X_test_tfidf)\n",
    "\n",
    "print(classification_report(y_pred_tfidf, y_test))"
   ]
  },
  {
   "cell_type": "code",
   "execution_count": null,
   "id": "af05c096",
   "metadata": {},
   "outputs": [],
   "source": [
    "tweets = df_en.tweet_text()\n",
    "transforms = [to_lowercase, remove_emoji, expand_contractions, remove]\n",
    "### Figure out which preprocessing transforms should be added"
   ]
  },
  {
   "cell_type": "code",
   "execution_count": null,
   "id": "c4e72e61",
   "metadata": {},
   "outputs": [
    {
     "name": "stderr",
     "output_type": "stream",
     "text": [
      "\u001b[32m[I 2022-04-03 19:32:16,260]\u001b[0m A new study created in memory with name: no-name-33286353-38d8-4ec1-9ec4-4f50b35269db\u001b[0m\n",
      "\u001b[32m[I 2022-04-03 19:33:13,825]\u001b[0m Trial 0 finished with value: 0.8358523725834798 and parameters: {'multi_class': 'auto', 'regularization_strength': 0.16198900559220797}. Best is trial 0 with value: 0.8358523725834798.\u001b[0m\n"
     ]
    },
    {
     "name": "stdout",
     "output_type": "stream",
     "text": [
      "              precision    recall  f1-score   support\n",
      "\n",
      "           0       0.38      0.68      0.49       472\n",
      "           1       0.82      0.91      0.86       843\n",
      "           2       0.93      0.97      0.95       984\n",
      "           3       0.86      0.56      0.68      1386\n",
      "           4       0.97      0.96      0.97      1053\n",
      "           5       0.97      0.98      0.98       952\n",
      "\n",
      "    accuracy                           0.84      5690\n",
      "   macro avg       0.82      0.84      0.82      5690\n",
      "weighted avg       0.87      0.84      0.84      5690\n",
      "\n"
     ]
    },
    {
     "name": "stderr",
     "output_type": "stream",
     "text": [
      "\u001b[32m[I 2022-04-03 19:34:31,794]\u001b[0m Trial 1 finished with value: 0.8383128295254832 and parameters: {'multi_class': 'multinomial', 'regularization_strength': 0.193728445121496}. Best is trial 1 with value: 0.8383128295254832.\u001b[0m\n"
     ]
    },
    {
     "name": "stdout",
     "output_type": "stream",
     "text": [
      "              precision    recall  f1-score   support\n",
      "\n",
      "           0       0.40      0.67      0.50       502\n",
      "           1       0.82      0.91      0.86       843\n",
      "           2       0.93      0.97      0.95       983\n",
      "           3       0.85      0.57      0.68      1364\n",
      "           4       0.97      0.97      0.97      1047\n",
      "           5       0.97      0.98      0.98       951\n",
      "\n",
      "    accuracy                           0.84      5690\n",
      "   macro avg       0.83      0.84      0.82      5690\n",
      "weighted avg       0.86      0.84      0.84      5690\n",
      "\n"
     ]
    },
    {
     "name": "stderr",
     "output_type": "stream",
     "text": [
      "\u001b[32m[I 2022-04-03 19:35:18,135]\u001b[0m Trial 2 finished with value: 0.8237258347978911 and parameters: {'multi_class': 'multinomial', 'regularization_strength': 0.060804829101756885}. Best is trial 1 with value: 0.8383128295254832.\u001b[0m\n"
     ]
    },
    {
     "name": "stdout",
     "output_type": "stream",
     "text": [
      "              precision    recall  f1-score   support\n",
      "\n",
      "           0       0.30      0.70      0.42       359\n",
      "           1       0.80      0.91      0.85       822\n",
      "           2       0.92      0.97      0.94       971\n",
      "           3       0.89      0.53      0.66      1525\n",
      "           4       0.97      0.95      0.96      1063\n",
      "           5       0.97      0.98      0.97       950\n",
      "\n",
      "    accuracy                           0.82      5690\n",
      "   macro avg       0.81      0.84      0.80      5690\n",
      "weighted avg       0.87      0.82      0.83      5690\n",
      "\n"
     ]
    }
   ],
   "source": [
    "from sklearn.svm import SVC\n",
    "from sklearn.metrics import accuracy_score as accuracy\n",
    "import optuna\n",
    "\n",
    "X_train, X_test, y_train, y_test = train_test_split(tweets, df_en.y, test_size=0.15, random_state=42)\n",
    "X_train, X_val, y_train, y_val = train_test_split(X_train, y_train, test_size=0.15, random_state=7 )\n",
    "\n",
    "X_train_bow = vectorizer.transform(X_train)\n",
    "X_val_bow = vectorizer.transform(X_val)\n",
    "X_test_bow = vectorizer.transform(X_test)\n",
    "\n",
    "def objective(trial): \n",
    "    multi_class = trial.suggest_categorical(\"multi_class\", [\"auto\", \"ovr\", \"multinomial\"])\n",
    "    penalty = \"l1\"\n",
    "    regularization_strength = trial.suggest_float(\"regularization_strength\", 0 , 1)\n",
    "    model = LR(max_iter = 10000, C = regularization_strength, penalty = penalty, \n",
    "               multi_class = multi_class, solver = 'saga', n_jobs=-1).fit(X_train_bow, y_train)\n",
    "    \n",
    "    y_pred = model.predict(X_val_bow)\n",
    "    print(classification_report(y_pred, y_val))\n",
    "    return accuracy(y_pred, y_val)\n",
    "\n",
    "study = optuna.create_study(direction = \"maximize\")\n",
    "study.optimize(objective, n_trials = 10)\n",
    "print(study.best_trial)\n",
    "\n",
    "# svc = SVC().fit(X_train_tfidf, y_train)\n",
    "# y_pred = svc.predict(X_test_tfidf)\n",
    "\n",
    "# print(classification_report(y_pred, y_test))"
   ]
  },
  {
   "cell_type": "code",
   "execution_count": null,
   "id": "4af095ac",
   "metadata": {},
   "outputs": [],
   "source": [
    "print(\"hello\")"
   ]
  }
 ],
 "metadata": {
  "kernelspec": {
   "display_name": "Python 3 (ipykernel)",
   "language": "python",
   "name": "python3"
  },
  "language_info": {
   "codemirror_mode": {
    "name": "ipython",
    "version": 3
   },
   "file_extension": ".py",
   "mimetype": "text/x-python",
   "name": "python",
   "nbconvert_exporter": "python",
   "pygments_lexer": "ipython3",
   "version": "3.8.12"
  }
 },
 "nbformat": 4,
 "nbformat_minor": 5
}
