{
 "cells": [
  {
   "cell_type": "code",
   "execution_count": 1,
   "id": "fa9a199e",
   "metadata": {},
   "outputs": [
    {
     "name": "stderr",
     "output_type": "stream",
     "text": [
      "[nltk_data] Downloading package punkt to\n",
      "[nltk_data]     C:\\Users\\Ayush\\AppData\\Roaming\\nltk_data...\n",
      "[nltk_data]   Package punkt is already up-to-date!\n",
      "[nltk_data] Downloading package stopwords to\n",
      "[nltk_data]     C:\\Users\\Ayush\\AppData\\Roaming\\nltk_data...\n",
      "[nltk_data]   Package stopwords is already up-to-date!\n",
      "[nltk_data] Downloading package omw-1.4 to\n",
      "[nltk_data]     C:\\Users\\Ayush\\AppData\\Roaming\\nltk_data...\n",
      "[nltk_data]   Package omw-1.4 is already up-to-date!\n",
      "[nltk_data] Downloading package wordnet to\n",
      "[nltk_data]     C:\\Users\\Ayush\\AppData\\Roaming\\nltk_data...\n",
      "[nltk_data]   Package wordnet is already up-to-date!\n"
     ]
    }
   ],
   "source": [
    "import numpy as np\n",
    "import pandas as pd \n",
    "import matplotlib.pyplot as plt\n",
    "from nltk.corpus import stopwords\n",
    "\n",
    "import sys; sys.path.insert(0, '../') #adds all the code we've written in src\n",
    "from preprocessing import *\n",
    "\n",
    "df = pd.read_csv(\"../../cyberbullying_tweets/cyberbullying_tweets.csv\")"
   ]
  },
  {
   "cell_type": "code",
   "execution_count": 2,
   "id": "3234d023",
   "metadata": {},
   "outputs": [
    {
     "name": "stderr",
     "output_type": "stream",
     "text": [
      "D:\\capstone\\src\\notebooks\\..\\preprocessing.py:90: FutureWarning: The default value of regex will change from True to False in a future version.\n",
      "  return text_arr.str.replace(at_regex, \"\")\n",
      "D:\\capstone\\src\\notebooks\\..\\preprocessing.py:97: FutureWarning: The default value of regex will change from True to False in a future version.\n",
      "  return text_arr.str.replace(special_chars, \"\")\n"
     ]
    },
    {
     "data": {
      "text/plain": [
       "0        in other word katandandr your food wa crapilic...\n",
       "1        whi is aussietv so white mkr theblock imaceleb...\n",
       "2                 a classi whore or more red velvet cupcak\n",
       "3        gio meh p thank for the head up but not too co...\n",
       "4        thi is an isi account pretend to be a kurdish ...\n",
       "                               ...                        \n",
       "47687    black ppl are not expect to do anyth depend on...\n",
       "47688    turner did not withhold hi disappoint turner c...\n",
       "47689    i swear to god thi dumb nigger bitch i have go...\n",
       "47690    yea fuck you rt if you are a nigger fuck unfol...\n",
       "47691    bro you got to chill rt dog fuck kp that dumb ...\n",
       "Name: tweet_text, Length: 47692, dtype: object"
      ]
     },
     "execution_count": 2,
     "metadata": {},
     "output_type": "execute_result"
    }
   ],
   "source": [
    "tweets = df.tweet_text\n",
    "tweets = remove_ats(tweets)\n",
    "tweets = remove_emoji(tweets)\n",
    "tweets = remove_special(tweets)\n",
    "tweets = to_lowercase(tweets)\n",
    "tweets = expand_contractions(tweets)\n",
    "#tweets = remove_stopwords(tweets)\n",
    "tweets = stem_series(tweets)\n",
    "# tweets = lemmatize_series(tweets)\n",
    "\n",
    "tweets"
   ]
  },
  {
   "cell_type": "code",
   "execution_count": 3,
   "id": "63dfe4ed",
   "metadata": {},
   "outputs": [],
   "source": [
    "from sklearn.feature_extraction.text import CountVectorizer\n",
    "\n",
    "def get_bow(text_arr, num_grams = 1): \n",
    "    \"\"\"\n",
    "    Returns the bag of words array for an array of preprocessed text. \n",
    "    \n",
    "    params:\n",
    "    -----------------------\n",
    "    text_arr: pd.Series object of strings \n",
    "    \n",
    "    return: \n",
    "    ----------------------\n",
    "    numpy sparse matrix of of size n times m where n is the number \n",
    "    of text samples, and m is the number of words/n-grams in the corpus \n",
    "    \"\"\"\n",
    "    vectorizer = CountVectorizer(stop_words='english', ngram_range=(num_grams,num_grams))\n",
    "    return vectorizer.fit_transform(text_arr)\n",
    "\n",
    "X = get_bow(tweets)\n",
    "X2 = get_bow(tweets, 2)"
   ]
  },
  {
   "cell_type": "code",
   "execution_count": 4,
   "id": "f1e80b8f",
   "metadata": {},
   "outputs": [],
   "source": [
    "cat_dict = {}\n",
    "for i, type in enumerate(df.cyberbullying_type.unique()):\n",
    "    cat_dict[type] = i \n",
    "    \n",
    "df[\"Y\"] = df.cyberbullying_type.map(cat_dict)"
   ]
  },
  {
   "cell_type": "code",
   "execution_count": 5,
   "id": "8c494a0a",
   "metadata": {},
   "outputs": [],
   "source": [
    "from sklearn.linear_model import LogisticRegression as LR\n",
    "from sklearn.model_selection import train_test_split\n",
    "\n",
    "X_train, X_test, y_train, y_test = train_test_split(X, df.Y, test_size=0.2, random_state=42)\n",
    "\n",
    "log_reg = LR(max_iter=10000, solver = 'saga').fit(X_train, y_train)"
   ]
  },
  {
   "cell_type": "code",
   "execution_count": 6,
   "id": "d70e0fad",
   "metadata": {},
   "outputs": [
    {
     "name": "stdout",
     "output_type": "stream",
     "text": [
      "              precision    recall  f1-score   support\n",
      "\n",
      "           0       0.53      0.57      0.55      1512\n",
      "           1       0.84      0.89      0.87      1446\n",
      "           2       0.94      0.96      0.95      1530\n",
      "           3       0.65      0.56      0.60      1870\n",
      "           4       0.97      0.97      0.97      1612\n",
      "           5       0.96      0.98      0.97      1569\n",
      "\n",
      "    accuracy                           0.81      9539\n",
      "   macro avg       0.82      0.82      0.82      9539\n",
      "weighted avg       0.81      0.81      0.81      9539\n",
      "\n"
     ]
    }
   ],
   "source": [
    "from sklearn.metrics import classification_report \n",
    "y_pred = log_reg.predict(X_test)\n",
    "print(classification_report(y_pred, y_test))"
   ]
  },
  {
   "cell_type": "code",
   "execution_count": 34,
   "id": "a593e68d",
   "metadata": {},
   "outputs": [],
   "source": [
    "from sklearn.decomposition import TruncatedSVD\n",
    "reducer = TruncatedSVD(n_components=500).fit(X_train)"
   ]
  },
  {
   "cell_type": "code",
   "execution_count": 46,
   "id": "c2811b71",
   "metadata": {},
   "outputs": [
    {
     "data": {
      "text/plain": [
       "<38153x311416 sparse matrix of type '<class 'numpy.float64'>'\n",
       "\twith 425557 stored elements in Compressed Sparse Row format>"
      ]
     },
     "execution_count": 46,
     "metadata": {},
     "output_type": "execute_result"
    }
   ],
   "source": [
    "from sklearn.feature_extraction.text import TfidfTransformer as tfidf\n",
    "\n",
    "def get_tfidf(text_arr, num_grams = 1): \n",
    "    \"\"\"\n",
    "    Returns the bag of words array for an array of preprocessed text. \n",
    "    \n",
    "    params:\n",
    "    -----------------------\n",
    "    text_arr: pd.Series object of strings \n",
    "    \n",
    "    return: \n",
    "    ----------------------\n",
    "    numpy sparse matrix of of size n times m where n is the number \n",
    "    of text samples, and m is the number of words/n-grams in the corpus \n",
    "    \"\"\"\n",
    "    vectorizer = tfidf()\n",
    "    return vectorizer.fit_transform(text_arr)\n",
    "\n",
    "get_tfidf(X)\n",
    "get_tfidf(X_train)"
   ]
  },
  {
   "cell_type": "code",
   "execution_count": 49,
   "id": "8f8be953",
   "metadata": {},
   "outputs": [
    {
     "name": "stdout",
     "output_type": "stream",
     "text": [
      "              precision    recall  f1-score   support\n",
      "\n",
      "           0       0.55      0.57      0.56      1586\n",
      "           1       0.83      0.91      0.86      1393\n",
      "           2       0.93      0.95      0.94      1546\n",
      "           3       0.66      0.59      0.62      1825\n",
      "           4       0.97      0.95      0.96      1626\n",
      "           5       0.96      0.98      0.97      1563\n",
      "\n",
      "    accuracy                           0.82      9539\n",
      "   macro avg       0.82      0.82      0.82      9539\n",
      "weighted avg       0.81      0.82      0.81      9539\n",
      "\n"
     ]
    }
   ],
   "source": [
    "log_reg_lsa = LR(max_iter=10000, solver = 'saga').fit(get_tfidf(X_train), y_train)\n",
    "y_pred = log_reg_lsa.predict(get_tfidf(X_test))\n",
    "\n",
    "print(classification_report(y_pred, y_test))"
   ]
  },
  {
   "cell_type": "code",
   "execution_count": 37,
   "id": "2937bb65",
   "metadata": {},
   "outputs": [
    {
     "data": {
      "text/plain": [
       "<38153x311416 sparse matrix of type '<class 'numpy.float64'>'\n",
       "\twith 425557 stored elements in Compressed Sparse Row format>"
      ]
     },
     "execution_count": 37,
     "metadata": {},
     "output_type": "execute_result"
    }
   ],
   "source": [
    "from sklearn.feature_extraction.text import TfidfTransformer as tfidf\n",
    "tf = tfidf().fit(X_train)\n",
    "X_tf = tf.transform(X_train)\n",
    "X_tf"
   ]
  },
  {
   "cell_type": "code",
   "execution_count": 38,
   "id": "a036f7d6",
   "metadata": {},
   "outputs": [],
   "source": [
    "tf_reducer = TruncatedSVD(n_components=500).fit(X_tf)"
   ]
  },
  {
   "cell_type": "code",
   "execution_count": 39,
   "id": "901ad522",
   "metadata": {},
   "outputs": [],
   "source": [
    "X_tf_lsa = tf_reducer.transform(X_tf)"
   ]
  },
  {
   "cell_type": "code",
   "execution_count": 40,
   "id": "558096c3",
   "metadata": {},
   "outputs": [
    {
     "name": "stdout",
     "output_type": "stream",
     "text": [
      "              precision    recall  f1-score   support\n",
      "\n",
      "           0       0.79      0.36      0.49      3570\n",
      "           1       0.57      0.96      0.72       905\n",
      "           2       0.65      0.93      0.76      1099\n",
      "           3       0.30      0.33      0.31      1441\n",
      "           4       0.83      0.97      0.89      1373\n",
      "           5       0.70      0.98      0.82      1151\n",
      "\n",
      "    accuracy                           0.64      9539\n",
      "   macro avg       0.64      0.75      0.67      9539\n",
      "weighted avg       0.67      0.64      0.62      9539\n",
      "\n"
     ]
    }
   ],
   "source": [
    "log_reg_tf = LR(max_iter=10000, solver = 'saga').fit(X_tf_lsa, y_train)\n",
    "y_pred = log_reg_tf.predict(tf_reducer.transform(tf.transform(X_test)))\n",
    "\n",
    "print(classification_report(y_pred, y_test))"
   ]
  },
  {
   "cell_type": "code",
   "execution_count": 25,
   "id": "3e251aa9",
   "metadata": {},
   "outputs": [
    {
     "data": {
      "text/plain": [
       "[<matplotlib.lines.Line2D at 0x2a7ded89ac0>]"
      ]
     },
     "execution_count": 25,
     "metadata": {},
     "output_type": "execute_result"
    },
    {
     "data": {
      "image/png": "[encoded data removed]",
      "text/plain": [
       "<Figure size 432x288 with 1 Axes>"
      ]
     },
     "metadata": {
      "needs_background": "light"
     },
     "output_type": "display_data"
    }
   ],
   "source": [
    "x = np.arange(1, 1001)\n",
    "y = reducer.explained_variance_ratio_.cumsum()\n",
    "\n",
    "plt.plot(x, y)"
   ]
  },
  {
   "cell_type": "code",
   "execution_count": 32,
   "id": "14a299c7",
   "metadata": {},
   "outputs": [
    {
     "data": {
      "text/plain": [
       "(100, 41302)"
      ]
     },
     "execution_count": 32,
     "metadata": {},
     "output_type": "execute_result"
    }
   ],
   "source": [
    "X_train_reduced = reducer.components_[:100,]\n",
    "X_train_reduced.shape"
   ]
  },
  {
   "cell_type": "code",
   "execution_count": 31,
   "id": "02a90a31",
   "metadata": {},
   "outputs": [
    {
     "data": {
      "text/plain": [
       "<38153x41302 sparse matrix of type '<class 'numpy.int64'>'\n",
       "\twith 435431 stored elements in Compressed Sparse Row format>"
      ]
     },
     "execution_count": 31,
     "metadata": {},
     "output_type": "execute_result"
    }
   ],
   "source": [
    "X_train"
   ]
  },
  {
   "cell_type": "code",
   "execution_count": 7,
   "id": "44e93cf1",
   "metadata": {},
   "outputs": [
    {
     "name": "stderr",
     "output_type": "stream",
     "text": [
      "C:\\Users\\Ayush\\AppData\\Local\\Temp/ipykernel_30284/3244443085.py:4: FutureWarning: The default value of regex will change from True to False in a future version.\n",
      "  return text_arr.str.replace(special_chars, \"\")\n"
     ]
    },
    {
     "data": {
      "text/plain": [
       "0        In other words katandandre your food was crapi...\n",
       "1        Why is aussietv so white MKR theblock ImACeleb...\n",
       "2        XochitlSuckkks a classy whore Or more red velv...\n",
       "3        JasonGio meh P  thanks for the heads up but no...\n",
       "4        RudhoeEnglish This is an ISIS account pretendi...\n",
       "                               ...                        \n",
       "47687    Black ppl arent expected to do anything depend...\n",
       "47688    Turner did not withhold his disappointment Tur...\n",
       "47689    I swear to God This dumb nigger bitch I have g...\n",
       "47690    Yea fuck you RT therealexel IF YOURE A NIGGER ...\n",
       "47691    Bro U gotta chill RT CHILLShrammy Dog FUCK KP ...\n",
       "Name: tweet_text, Length: 47692, dtype: object"
      ]
     },
     "execution_count": 7,
     "metadata": {},
     "output_type": "execute_result"
    }
   ],
   "source": [
    "def remove_special(text_arr: pd.Series) -> pd.Series:\n",
    "    #  special_chars = '''`~|!|@|#|\\$|\\%|\\^|\\&|\\*|\\(|\\)|-|+|-|=|\\{|\\}|\\[|\\]|\\|\\\\|:|;|'|\\<|\\>|,|\\.|\\?|\\/|\\|\\\"|[0-9]'''\n",
    "    special_chars = r\"[^a-zA-Z\\s]\"\n",
    "    return text_arr.str.replace(special_chars, \"\")\n",
    "\n",
    "remove_special(df.tweet_text)"
   ]
  },
  {
   "cell_type": "code",
   "execution_count": 4,
   "id": "3c36b4fd",
   "metadata": {},
   "outputs": [
    {
     "name": "stderr",
     "output_type": "stream",
     "text": [
      "[nltk_data] Downloading package punkt to\n",
      "[nltk_data]     C:\\Users\\Ayush\\AppData\\Roaming\\nltk_data...\n",
      "[nltk_data]   Package punkt is already up-to-date!\n",
      "[nltk_data] Downloading package stopwords to\n",
      "[nltk_data]     C:\\Users\\Ayush\\AppData\\Roaming\\nltk_data...\n",
      "[nltk_data]   Package stopwords is already up-to-date!\n",
      "[nltk_data] Downloading package omw-1.4 to\n",
      "[nltk_data]     C:\\Users\\Ayush\\AppData\\Roaming\\nltk_data...\n",
      "[nltk_data]   Package omw-1.4 is already up-to-date!\n",
      "[nltk_data] Downloading package wordnet to\n",
      "[nltk_data]     C:\\Users\\Ayush\\AppData\\Roaming\\nltk_data...\n",
      "[nltk_data]   Package wordnet is already up-to-date!\n"
     ]
    }
   ],
   "source": [
    "import nltk\n",
    "\n",
    "nltk_resources = [\"punkt\", \"stopwords\", \"omw-1.4\", \"wordnet\"]\n",
    "for resource in nltk_resources:\n",
    "    try:\n",
    "        nltk.data.find(\"C:/Users/Ayush/AppData/Roaming/nltk_data/\" + resource)\n",
    "    except LookupError: \n",
    "        nltk.download(resource)\n",
    "        "
   ]
  },
  {
   "cell_type": "code",
   "execution_count": 16,
   "id": "93bbd46b",
   "metadata": {},
   "outputs": [
    {
     "ename": "ModuleNotFoundError",
     "evalue": "No module named 'numpy.char'",
     "output_type": "error",
     "traceback": [
      "\u001b[1;31m---------------------------------------------------------------------------\u001b[0m",
      "\u001b[1;31mModuleNotFoundError\u001b[0m                       Traceback (most recent call last)",
      "\u001b[1;32m~\\AppData\\Local\\Temp/ipykernel_80364/599417115.py\u001b[0m in \u001b[0;36m<module>\u001b[1;34m\u001b[0m\n\u001b[1;32m----> 1\u001b[1;33m \u001b[1;32mimport\u001b[0m \u001b[0mnumpy\u001b[0m\u001b[1;33m.\u001b[0m\u001b[0mchar\u001b[0m\u001b[1;33m\u001b[0m\u001b[1;33m\u001b[0m\u001b[0m\n\u001b[0m\u001b[0;32m      2\u001b[0m \u001b[1;33m\u001b[0m\u001b[0m\n\u001b[0;32m      3\u001b[0m \u001b[1;32mdef\u001b[0m \u001b[0mto_lower_pandas\u001b[0m\u001b[1;33m(\u001b[0m\u001b[0mtext_arr\u001b[0m\u001b[1;33m)\u001b[0m\u001b[1;33m:\u001b[0m\u001b[1;33m\u001b[0m\u001b[1;33m\u001b[0m\u001b[0m\n\u001b[0;32m      4\u001b[0m     \u001b[1;32mreturn\u001b[0m \u001b[0mtext_arr\u001b[0m\u001b[1;33m.\u001b[0m\u001b[0mstr\u001b[0m\u001b[1;33m.\u001b[0m\u001b[0mlower\u001b[0m\u001b[1;33m(\u001b[0m\u001b[1;33m)\u001b[0m\u001b[1;33m\u001b[0m\u001b[1;33m\u001b[0m\u001b[0m\n\u001b[0;32m      5\u001b[0m \u001b[1;33m\u001b[0m\u001b[0m\n",
      "\u001b[1;31mModuleNotFoundError\u001b[0m: No module named 'numpy.char'"
     ]
    }
   ],
   "source": [
    "\n",
    "def to_lower_pandas(text_arr):\n",
    "    return text_arr.str.lower()\n",
    "\n",
    "def to_lower_numpy(text_arr): \n",
    "    return text_arr.lower()"
   ]
  },
  {
   "cell_type": "code",
   "execution_count": 17,
   "id": "7665e692",
   "metadata": {},
   "outputs": [
    {
     "data": {
      "text/plain": [
       "dtype('O')"
      ]
     },
     "execution_count": 17,
     "metadata": {},
     "output_type": "execute_result"
    }
   ],
   "source": [
    "tweets.dtype"
   ]
  },
  {
   "cell_type": "code",
   "execution_count": 31,
   "id": "50b3b908",
   "metadata": {},
   "outputs": [
    {
     "name": "stdout",
     "output_type": "stream",
     "text": [
      "172 ms ± 2.08 ms per loop (mean ± std. dev. of 7 runs, 10 loops each)\n"
     ]
    }
   ],
   "source": [
    "%%timeit \n",
    "remove_emoji(df.tweet_text)"
   ]
  },
  {
   "cell_type": "code",
   "execution_count": 30,
   "id": "60b636d1",
   "metadata": {},
   "outputs": [
    {
     "name": "stderr",
     "output_type": "stream",
     "text": [
      "UsageError: Line magic function `%%timeit` not found.\n"
     ]
    }
   ],
   "source": [
    "import re\n",
    "def remove_emoji(text_arr: pd.Series) -> pd.Series:\n",
    "    emoji_pattern = re.compile(\"[\"\n",
    "                           u\"\\U0001F600-\\U0001F64F\"  # emoticons\n",
    "                           u\"\\U0001F300-\\U0001F5FF\"  # symbols & pictographs\n",
    "                           u\"\\U0001F680-\\U0001F6FF\"  # transport & map symbols\n",
    "                           u\"\\U0001F1E0-\\U0001F1FF\"  # flags (iOS)\n",
    "                           u\"\\U00002702-\\U000027B0\"\n",
    "                           u\"\\U000024C2-\\U0001F251\"\n",
    "                           \"]+\", flags=re.UNICODE)\n",
    "    return text_arr.str.replace(emoji_pattern, \"\")\n",
    "\n",
    "remove_emoji(df.tweet_text)"
   ]
  },
  {
   "cell_type": "code",
   "execution_count": 33,
   "id": "050a1d89",
   "metadata": {},
   "outputs": [
    {
     "data": {
      "text/plain": [
       "0        In other words #katandandre, your food was cra...\n",
       "1        Why is #aussietv so white? #MKR #theblock #ImA...\n",
       "2        @XochitlSuckkks a classy whore? Or more red ve...\n",
       "3        @Jason_Gio meh. :P  thanks for the heads up, b...\n",
       "4        @RudhoeEnglish This is an ISIS account pretend...\n",
       "                               ...                        \n",
       "47687    Black ppl are not expected to do anything, dep...\n",
       "47688    Turner did not withhold his disappointment. Tu...\n",
       "47689    I swear to God. This dumb nigger bitch. I have...\n",
       "47690    Yea fuck you RT @therealexel: IF YOU ARE A NIG...\n",
       "47691    Bro. YOU got to chill RT @CHILLShrammy: Dog FU...\n",
       "Name: tweet_text, Length: 47692, dtype: object"
      ]
     },
     "execution_count": 33,
     "metadata": {},
     "output_type": "execute_result"
    }
   ],
   "source": [
    "import contractions\n",
    "\n",
    "def expand_contractions(text_arr: pd.Series) -> pd.Series: \n",
    "    return text_arr.apply(contractions.fix)\n",
    "\n",
    "expand_contractions(df.tweet_text)"
   ]
  },
  {
   "cell_type": "code",
   "execution_count": 46,
   "id": "aa5e64b2",
   "metadata": {},
   "outputs": [
    {
     "data": {
      "text/plain": [
       "0        [in, other, word, #katandandre,, your, food, w...\n",
       "1        [whi, is, #aussietv, so, white?, #mkr, #theblo...\n",
       "2        [@xochitlsuckkk, a, classi, whore?, or, more, ...\n",
       "3        [@jason_gio, meh., :p, thank, for, the, head, ...\n",
       "4        [@rudhoeenglish, thi, is, an, isi, account, pr...\n",
       "                               ...                        \n",
       "47687    [black, ppl, aren't, expect, to, do, anything,...\n",
       "47688    [turner, did, not, withhold, hi, disappointmen...\n",
       "47689    [i, swear, to, god., thi, dumb, nigger, bitch....\n",
       "47690    [yea, fuck, you, rt, @therealexel:, if, your, ...\n",
       "47691    [bro., u, gotta, chill, rt, @chillshrammy:, do...\n",
       "Name: tweet_text, Length: 47692, dtype: object"
      ]
     },
     "execution_count": 46,
     "metadata": {},
     "output_type": "execute_result"
    }
   ],
   "source": [
    "from nltk.stem import PorterStemmer\n",
    "\n",
    "stem_series(df.tweet_text)"
   ]
  }
 ],
 "metadata": {
  "kernelspec": {
   "display_name": "Python 3 (ipykernel)",
   "language": "python",
   "name": "python3"
  },
  "language_info": {
   "codemirror_mode": {
    "name": "ipython",
    "version": 3
   },
   "file_extension": ".py",
   "mimetype": "text/x-python",
   "name": "python",
   "nbconvert_exporter": "python",
   "pygments_lexer": "ipython3",
   "version": "3.8.12"
  }
 },
 "nbformat": 4,
 "nbformat_minor": 5
}
